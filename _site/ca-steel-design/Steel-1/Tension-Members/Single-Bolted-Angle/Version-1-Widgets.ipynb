{
 "cells": [
  {
   "cell_type": "markdown",
   "metadata": {},
   "source": [
    "*This example has input widgets that may be used to adjust the parameters.*\n",
    "\n",
    "*After setting the widgets and pressing the **Run BoltedLegAngle** button, you must select the following cell and execute menu item **Cell / Run All Below** *."
   ]
  },
  {
   "cell_type": "markdown",
   "metadata": {},
   "source": [
    "### Tr for Single Angle Bolted Through One Leg\n",
    "\n",
    "Calculate $T_r$ for a single angle bolted through one leg.\n",
    "\n",
    "![Angle bolted through one leg](bolted-single-angle.svg)"
   ]
  },
  {
   "cell_type": "code",
   "execution_count": 1,
   "metadata": {
    "collapsed": false
   },
   "outputs": [],
   "source": [
    "from Designer import Designer, Param, table_search"
   ]
  },
  {
   "cell_type": "code",
   "execution_count": 2,
   "metadata": {
    "collapsed": false
   },
   "outputs": [
    {
     "name": "stdout",
     "output_type": "stream",
     "text": [
      "Time: Mon May  2 20:41:05 2016\n",
      "\n"
     ]
    },
    {
     "name": "stderr",
     "output_type": "stream",
     "text": [
      "Widget Javascript not detected.  It may not be installed properly.\n"
     ]
    }
   ],
   "source": [
    "Table6 = [(16,(28,22)),    # CSA S16-09 Table 6  - Minimum edge distances\n",
    "          (20,(34,26)),\n",
    "          (22,(38,28)),\n",
    "          (24,(42,30)),\n",
    "          (27,(48,34)),\n",
    "          (30,(52,38)),\n",
    "          (36,(64,46))]\n",
    "\n",
    "#       (d, (dmax,g))\n",
    "UG1 = [(45,(16,23)),    # Usual Gauges, Angle, 1 line, Handbook p. 6-168\n",
    "       (50,(16,28)),\n",
    "       (55,(22,27)),\n",
    "       (60,(24,35)),\n",
    "       (65,(24,35)),\n",
    "       (75,(24,45)),\n",
    "       (80,(24,50)),\n",
    "       (90,(24,60)),\n",
    "       (100,(27,65)),\n",
    "       (125,(30,80)),\n",
    "       (150,(36,90)),\n",
    "       (200,(36,115)),\n",
    "       ]\n",
    "\n",
    "UG2 = [(125,(20,45,54)), # Usual Gauges, Angle, 2 lines, Handbook p. 6-168\n",
    "       (150,(24,55,65)),\n",
    "       (200,(30,80,80)),\n",
    "       ]\n",
    "\n",
    "class BoltedLegAngle(Designer):\n",
    "    \n",
    "    BOLT_SIZES = ['M16','M20','M22','M24','M27','M30','M36']\n",
    "    BOLT_TYPES = {'A325M':830.,'A490M':1040.}\n",
    "    \n",
    "    Fy = Param((300.,450.),value=350.)\n",
    "    Fu = Param((450.,500.),value=450.)\n",
    "    Fub = Param(BOLT_TYPES,description='bolt type')\n",
    "    total_length = Param((0.,10000.,5.),value=0.)  # if 0, KL/r not checked\n",
    "    AngleDsg = Param('L102x76x13')\n",
    "    bolt_size = Param(BOLT_SIZES,value='M20')\n",
    "    hole_type = Param(['punched','drilled'],value='punched')\n",
    "    pitch = Param((0.,100,5.),value=0)           # if 0, will use minimum\n",
    "    end_distance = Param((0.,50,.5),value=0)    # if 0, will use minimum\n",
    "    threads_intercepted = Param(True)\n",
    "    shear_type = Param(['single','double'],value='single')\n",
    "    bolted_leg = Param(['long','short'],value='long')\n",
    "    Nlines = Param((1,2),value=1)\n",
    "    Nrows = Param((2,10),value=2)\n",
    "    \n",
    "des = BoltedLegAngle(var='Tr',units='kN')\n",
    "des.interact()"
   ]
  },
  {
   "cell_type": "code",
   "execution_count": null,
   "metadata": {
    "collapsed": false
   },
   "outputs": [],
   "source": [
    "REQ = des.require   # useful abbreviations\n",
    "CHK = des.check       \n",
    "REC = des.record"
   ]
  },
  {
   "cell_type": "markdown",
   "metadata": {},
   "source": [
    "### Sanity check of input data:"
   ]
  },
  {
   "cell_type": "code",
   "execution_count": null,
   "metadata": {
    "collapsed": false
   },
   "outputs": [],
   "source": [
    "REQ(bolt_size in BOLT_SIZES,'bolt size is not one of available sizes',\n",
    "    bolt_size=bolt_size, BOLT_SIZES=BOLT_SIZES)\n",
    "REQ(hole_type in ['punched','drilled'])\n",
    "REQ(threads_intercepted in [False,True])\n",
    "REQ(shear_type in ['single','double'])\n",
    "REQ(bolted_leg in ['short','long'])\n",
    "REQ(Nlines in [1,2],'only 1 or 2 lines of bolts allowed')\n",
    "REQ(Nrows >= 2 and Nrows <= 10)"
   ]
  },
  {
   "cell_type": "code",
   "execution_count": null,
   "metadata": {
    "collapsed": false
   },
   "outputs": [],
   "source": [
    "# data derived from input data:  pitch, end_distance, gauges, etc.\n",
    "\n",
    "Ag,d,b,t,rmin = des.SST.section(AngleDsg,properties='A,D,B,T,Ryp')\n",
    "if bolted_leg == 'short':  # bolts go thru leg of size 'd'\n",
    "    d,b = b,d\n",
    "    \n",
    "bolt_diameter = float(bolt_size[1:])\n",
    "if pitch in [0,None]:\n",
    "    pitch = 2.7*bolt_diameter\n",
    "    \n",
    "min_end_distance,min_edge_distance = table_search(bolt_diameter,Table6)\n",
    "if Nrows <= 2:\n",
    "    min_end_distance = 1.5*bolt_diameter  # CSA S16-01 22.3.4\n",
    "if end_distance in [0,None]:\n",
    "    end_distance = min_end_distance\n",
    "\n",
    "if Nlines == 1:\n",
    "    g2 = 0\n",
    "    dmax,g1 = table_search(d-2,UG1)\n",
    "elif Nlines == 2:\n",
    "    dmax,g1,g2 = table_search(d-2,UG2)\n",
    "edge_distance = d-(g1+g2)"
   ]
  },
  {
   "cell_type": "markdown",
   "metadata": {},
   "source": [
    "### Check Bolting Details\n",
    "Failure to meet requirements is not a fatal error. Results are reported in the work record."
   ]
  },
  {
   "cell_type": "code",
   "execution_count": null,
   "metadata": {
    "collapsed": false
   },
   "outputs": [],
   "source": [
    "# CSA S16-09  22.3.1 thru .4:\n",
    "max_edge_distance = min(12.*t,150.)\n",
    "REQ(edge_distance > bolt_diameter/2.,'Angle leg of {0} mm does not support {1} lines of bolts.'.format(d,Nlines))\n",
    "\n",
    "CHK(pitch >= 2.7*bolt_diameter,'Pitch','pitch',min_pitch=2.7*bolt_diameter)\n",
    "CHK(edge_distance >= min_edge_distance,'Min Edge distance','edge_distance,min_edge_distance')\n",
    "CHK(edge_distance <= max_edge_distance,'Max Edge distance','edge_distance,max_edge_distance')\n",
    "CHK(end_distance >= min_end_distance,'End distance','end_distance,min_end_distance')\n",
    "\n",
    "if total_length > 0.:\n",
    "    lcc = total_length - 2.*(end_distance + (Nrows-1.)*pitch/2.)\n",
    "    REQ(lcc>0.,\"Total Length too short\")\n",
    "    # CSA S16-09 10.4.2.2\n",
    "    CHK(1.0*lcc/rmin<=300.,\"Slenderness Ratio\",\"rmin\",net_length=lcc)\n",
    "\n",
    "# CSA S16-09  28.4.1:\n",
    "hole_allowance = hole_diameter = bolt_diameter + 2.\n",
    "if hole_type == 'punched':\n",
    "    CHK(t < bolt_diameter+4,'Punched holes','bolt_diameter,t',max_t=bolt_diameter+4)\n",
    "\n",
    "    # CSA S16-09  12.3.2:\n",
    "    hole_allowance += 2."
   ]
  },
  {
   "cell_type": "markdown",
   "metadata": {},
   "source": [
    "### Strength Calculations"
   ]
  },
  {
   "cell_type": "code",
   "execution_count": null,
   "metadata": {
    "collapsed": false
   },
   "outputs": [],
   "source": [
    "# CSA S16-09  13.1\n",
    "phi = 0.90\n",
    "phiu = 0.75\n",
    "phib = 0.80 \n",
    "phibr = 0.80"
   ]
  },
  {
   "cell_type": "markdown",
   "metadata": {},
   "source": [
    "#### Gross section yield:"
   ]
  },
  {
   "cell_type": "code",
   "execution_count": null,
   "metadata": {
    "collapsed": false
   },
   "outputs": [],
   "source": [
    "# CSA S16-09   13.2 (a) (i):\n",
    "REC('Gross area yield','Ag',Tr=phi*Ag*Fy/1000.)"
   ]
  },
  {
   "cell_type": "markdown",
   "metadata": {},
   "source": [
    "#### Net section fracture:"
   ]
  },
  {
   "cell_type": "code",
   "execution_count": null,
   "metadata": {
    "collapsed": false
   },
   "outputs": [],
   "source": [
    "# CSA S16-09   13.2 (a) (iii):\n",
    "An = Ag - Nlines*hole_allowance*t\n",
    "# CSA S16-09   12.3.3.2 (b)\n",
    "if Nrows >= 4:\n",
    "    Ane = 0.80*An\n",
    "else:\n",
    "    Ane = 0.60*An\n",
    "REC('Net area fracture','An,Ane',Tr=phiu*Ane*Fu/1000.)"
   ]
  },
  {
   "cell_type": "markdown",
   "metadata": {},
   "source": [
    "#### Block shear failure:\n",
    "![Block Shear Patterns](bolted-single-angle-shear-blocks.svg)"
   ]
  },
  {
   "cell_type": "code",
   "execution_count": null,
   "metadata": {
    "collapsed": false
   },
   "outputs": [],
   "source": [
    "#  CSA S16-09    13.11\n",
    "e = end_distance\n",
    "L = (Nrows-1.)*pitch\n",
    "\n",
    "# Case 1 - one shear area, tension failure from furthest bolt to edge\n",
    "An = (d - g1 - (Nlines-0.5)*hole_allowance)*t\n",
    "Agv = (e+L)*t\n",
    "Ut = 0.6\n",
    "Fv = (Fy+Fu)/2.\n",
    "if Fy > 485:     # CSA S16-09   13.11  (foot note)\n",
    "    Fv = Fy\n",
    "REC('Block shear (case 1)','An,Agv,Ut',Tr=phiu*(Ut*An*Fu + 0.6*Agv*Fv)/1000.)"
   ]
  },
  {
   "cell_type": "code",
   "execution_count": null,
   "metadata": {
    "collapsed": false
   },
   "outputs": [],
   "source": [
    "# Case 2 - for 2 or more lines of bolts\n",
    "if Nlines > 1:\n",
    "    An = (g2 - hole_allowance)*t\n",
    "    Agv = 2.*(e+L)*t\n",
    "    Ut = 0.6\n",
    "    REC('Block shear (case 2)','An,Agv,Ut',Tr=phiu*(Ut*An*Fu + 0.6*Agv*Fv)/1000.)"
   ]
  },
  {
   "cell_type": "code",
   "execution_count": null,
   "metadata": {
    "collapsed": false
   },
   "outputs": [],
   "source": [
    "# Case 3 - tearout\n",
    "An = 0.\n",
    "Agv = 2.*(e+L)*t*Nlines\n",
    "Ut = 0.\n",
    "REC('Block shear (tearout)','An,Agv,Ut',Tr=phiu*(Ut*An*Fu + 0.6*Agv*Fv)/1000.)"
   ]
  },
  {
   "cell_type": "markdown",
   "metadata": {},
   "source": [
    "#### Fastener strength, bearing-type connection: bolts in shear"
   ]
  },
  {
   "cell_type": "code",
   "execution_count": null,
   "metadata": {
    "collapsed": false
   },
   "outputs": [],
   "source": [
    "m = 1\n",
    "if shear_type == 'double':\n",
    "    m = 2\n",
    "n = Nrows*Nlines\n",
    "db = bolt_diameter\n",
    "L = (Nrows-1.)*pitch   # length of connection\n",
    "\n",
    "# CSA S16-09   13.12.1.2 (c)\n",
    "multiplier = 1.0\n",
    "if L >= 15.*db:\n",
    "    multiplier = max(0.75,1.075 - 0.005*L/db)\n",
    "if threads_intercepted:\n",
    "    multiplier *= 0.70\n",
    "Vr = multiplier*0.6*phib*n*m*(3.1415926*db*db/4.)*Fub/1000.\n",
    "REC('Bolt Shear',L=L,multiplier=multiplier,n=n,Tr=Vr)"
   ]
  },
  {
   "cell_type": "markdown",
   "metadata": {},
   "source": [
    "#### Bolts in bearing:"
   ]
  },
  {
   "cell_type": "code",
   "execution_count": null,
   "metadata": {
    "collapsed": false
   },
   "outputs": [],
   "source": [
    "# CSA S16-09    13.12.1.2:\n",
    "Br = 3.*phibr*n*t*db*Fu/1000.\n",
    "REC('Bolt Bearing',n=n,d=db,t=t,Tr=Br)"
   ]
  },
  {
   "cell_type": "markdown",
   "metadata": {},
   "source": [
    "#### Combined tearout and bearing:"
   ]
  },
  {
   "cell_type": "code",
   "execution_count": null,
   "metadata": {
    "collapsed": false
   },
   "outputs": [],
   "source": [
    "# combine tearout of bolts closest to end with bearing of remainder\n",
    "e = end_distance\n",
    "Agv = 2.*e*t*Nlines\n",
    "n = Nlines*(Nrows-1)\n",
    "Tr = phiu*(0.6*Agv*Fv)/1000.\n",
    "Br = 3.*phibr*n*t*db*Fu/1000.\n",
    "REC('Bolt bearing + end tearout',n=n,t=t,d=db,Agv=Agv,Tr=Tr+Br)"
   ]
  },
  {
   "cell_type": "markdown",
   "metadata": {},
   "source": [
    "### Summary:"
   ]
  },
  {
   "cell_type": "code",
   "execution_count": null,
   "metadata": {
    "collapsed": false
   },
   "outputs": [],
   "source": [
    "des.summary('Fy,Fu,AngleDsg,Ag,d,b,t,rmin,Fub,bolt_size,bolt_diameter,hole_type',\n",
    "         'pitch,end_distance,threads_intercepted,shear_type,bolted_leg,Nlines,Nrows',\n",
    "         'end_distance,edge_distance,g1,g2')          "
   ]
  },
  {
   "cell_type": "code",
   "execution_count": null,
   "metadata": {
    "collapsed": false
   },
   "outputs": [],
   "source": []
  }
 ],
 "metadata": {
  "kernelspec": {
   "display_name": "Python 3",
   "language": "python",
   "name": "python3"
  },
  "language_info": {
   "codemirror_mode": {
    "name": "ipython",
    "version": 3
   },
   "file_extension": ".py",
   "mimetype": "text/x-python",
   "name": "python",
   "nbconvert_exporter": "python",
   "pygments_lexer": "ipython3",
   "version": "3.4.3"
  }
 },
 "nbformat": 4,
 "nbformat_minor": 0
}
