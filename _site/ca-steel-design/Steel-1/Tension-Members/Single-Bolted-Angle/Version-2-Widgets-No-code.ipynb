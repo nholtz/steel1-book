{
 "cells": [
  {
   "cell_type": "markdown",
   "metadata": {},
   "source": [
    "*This example has input widgets that allow you to change parameters.*\n",
    "\n",
    "*Simply adjust the widgets, and press button **Run BoltedLegAngle**.*"
   ]
  },
  {
   "cell_type": "code",
   "execution_count": 2,
   "metadata": {
    "collapsed": false
   },
   "outputs": [],
   "source": [
    "from BoltedLegAngle import BoltedLegAngle"
   ]
  },
  {
   "cell_type": "code",
   "execution_count": 4,
   "metadata": {
    "collapsed": false,
    "scrolled": false
   },
   "outputs": [
    {
     "name": "stdout",
     "output_type": "stream",
     "text": [
      "Fy                  = 345\n",
      "Fu                  = 450\n",
      "AngleDsg            = L102x76x13\n",
      "Ag                  = 2100\n",
      "d                   = 102\n",
      "b                   = 76.2\n",
      "t                   = 12.7\n",
      "rmin                = 16.2\n",
      "Fub                 = 830\n",
      "bolt_size           = M20\n",
      "bolt_diameter       = 20\n",
      "hole_type           = punched\n",
      "pitch               = 54\n",
      "end_distance        = 30\n",
      "threads_intercepted = True\n",
      "shear_type          = single\n",
      "bolted_leg          = long\n",
      "Nlines              = 1\n",
      "Nrows               = 2\n",
      "end_distance        = 30\n",
      "edge_distance       = 37\n",
      "g1                  = 65\n",
      "g2                  = 0\n",
      "\n",
      "Summary of Tr for BoltedLegAngle\n",
      "================================\n",
      "\n",
      "Checks:\n",
      "-------\n",
      "    Pitch:           OK - (pitch=54.0, min_pitch=54.0)\n",
      "    Edge distance:   OK - (edge_distance=37.0, min_edge_distance=26)\n",
      "    Edge distance:   OK - (edge_distance=37.0, max_edge_distance=150.0)\n",
      "    End distance:    OK - (end_distance=30.0, min_end_distance=30.0)\n",
      "    Punched holes:   OK - (bolt_diameter=20.0, t=12.7, max_t=24.0)\n",
      "\n",
      "Values of Tr:\n",
      "-------------\n",
      "    Gross area yield:           Tr = 652 kN\n",
      "       (Ag=2100)\n",
      "    Net area fracture:          Tr = 364 kN\n",
      "       (An=1795, Ane=1077)\n",
      "    Block shear (case 1):       Tr = 255 kN\n",
      "       (Agv=1067, An=317.5, Ut=0.6)\n",
      "    Block shear (tearout):      Tr = 382 kN\n",
      "       (Agv=2134, An=0, Ut=0)\n",
      "    Bolt Shear:                 Tr = 175 kN  <-- governs\n",
      "       (L=54.0, multiplier=0.7, n=2)\n",
      "    Bolt Bearing:               Tr = 549 kN\n",
      "       (d=20.0, n=2, t=12.7)\n",
      "    Bolt bearing + end tearout: Tr = 411 kN\n",
      "       (Agv=762.0, d=20.0, n=1, t=12.7)\n",
      "\n",
      "    Governing Value:\n",
      "    ----------------\n",
      "       Tr = 175 kN\n"
     ]
    }
   ],
   "source": [
    "angle = BoltedLegAngle(var='Tr',units='kN')\n",
    "angle.interact(instruct=False)"
   ]
  },
  {
   "cell_type": "code",
   "execution_count": null,
   "metadata": {
    "collapsed": true
   },
   "outputs": [],
   "source": []
  }
 ],
 "metadata": {
  "kernelspec": {
   "display_name": "Python 2",
   "language": "python",
   "name": "python2"
  },
  "language_info": {
   "codemirror_mode": {
    "name": "ipython",
    "version": 2
   },
   "file_extension": ".py",
   "mimetype": "text/x-python",
   "name": "python",
   "nbconvert_exporter": "python",
   "pygments_lexer": "ipython2",
   "version": "2.7.6"
  }
 },
 "nbformat": 4,
 "nbformat_minor": 0
}
