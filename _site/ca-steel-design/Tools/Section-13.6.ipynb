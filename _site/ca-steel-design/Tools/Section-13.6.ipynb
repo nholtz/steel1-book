{
 "cells": [
  {
   "cell_type": "code",
   "execution_count": 3,
   "metadata": {
    "collapsed": true
   },
   "outputs": [],
   "source": [
    "def sign(x):\n",
    "    return -1. if x < 0. else (+1. if x > 0. else 0.)"
   ]
  },
  {
   "cell_type": "code",
   "execution_count": 4,
   "metadata": {
    "collapsed": true
   },
   "outputs": [],
   "source": [
    "def w2_linear(M1,M2):\n",
    "    absM = [abs(M1),abs(M2)]\n",
    "    k = min(absM)/max(absM)\n",
    "    if sign(M1) == sign(M2):\n",
    "        k = -k\n",
    "    return min(1.75 + 1.05*k + 0.3*k*k,2.5)"
   ]
  },
  {
   "cell_type": "code",
   "execution_count": 5,
   "metadata": {
    "collapsed": true
   },
   "outputs": [],
   "source": [
    "def w2_nonlinear(Ma,Mb,Mc,Mmax):\n",
    "    Mmax = abs(Mmax)\n",
    "    w2 = 4.*Mmax/((Mmax*Mmax + 4.*Ma*Ma + 7.*Mb*Mb + 4.*Mc*Mc)**0.5)\n",
    "    return min(w2,2.5)"
   ]
  },
  {
   "cell_type": "code",
   "execution_count": 8,
   "metadata": {
    "collapsed": true
   },
   "outputs": [],
   "source": [
    "def w2_udl(M1,M2,w,L):\n",
    "    V2 = -(M1 + w*L*L/2 - M2)/L\n",
    "    V1 = V2 + w*L\n",
    "    def Mx(x,M1=M1,V1=V1,w=w,L=L):\n",
    "        return M1 + V1*x - w*x*x/2.\n",
    "    if sign(V1) == sign(V2):\n",
    "        Mmax = max(abs(M1),abs(M2))\n",
    "    else:\n",
    "        x = L*V1/(V1-V2)\n",
    "        Mmax=abs(Mx(x))\n",
    "    Ma = Mx(L*1./4.)\n",
    "    Mb = Mx(L*2./4.)\n",
    "    Mc = Mx(L*3./4.)\n",
    "    print Ma,Mb,Mc,Mmax\n",
    "    return w2_nonlinear(Ma,Mb,Mc,Mmax)"
   ]
  },
  {
   "cell_type": "code",
   "execution_count": 19,
   "metadata": {
    "collapsed": false
   },
   "outputs": [
    {
     "name": "stdout",
     "output_type": "stream",
     "text": [
      "280.0 480.0 600.0 640.0\n"
     ]
    },
    {
     "data": {
      "text/plain": [
       "1.3174191513481892"
      ]
     },
     "execution_count": 19,
     "metadata": {},
     "output_type": "execute_result"
    }
   ],
   "source": [
    "w = 20\n",
    "L = 16\n",
    "R = w*L/2\n",
    "a = 0\n",
    "b = 8\n",
    "Ma = R*a - w*a*a/2.\n",
    "Mb = R*b - w*b*b/2.\n",
    "w2_udl(Ma,Mb,w,b-a)"
   ]
  },
  {
   "cell_type": "code",
   "execution_count": 18,
   "metadata": {
    "collapsed": false
   },
   "outputs": [
    {
     "data": {
      "text/plain": [
       "1.75"
      ]
     },
     "execution_count": 18,
     "metadata": {},
     "output_type": "execute_result"
    }
   ],
   "source": [
    "w2_linear(-10,0)"
   ]
  },
  {
   "cell_type": "code",
   "execution_count": null,
   "metadata": {
    "collapsed": true
   },
   "outputs": [],
   "source": []
  }
 ],
 "metadata": {
  "kernelspec": {
   "display_name": "Python 2",
   "language": "python",
   "name": "python2"
  },
  "language_info": {
   "codemirror_mode": {
    "name": "ipython",
    "version": 2
   },
   "file_extension": ".py",
   "mimetype": "text/x-python",
   "name": "python",
   "nbconvert_exporter": "python",
   "pygments_lexer": "ipython2",
   "version": "2.7.6"
  }
 },
 "nbformat": 4,
 "nbformat_minor": 0
}
