{
 "cells": [
  {
   "cell_type": "code",
   "execution_count": 2,
   "metadata": {
    "collapsed": false
   },
   "outputs": [],
   "source": [
    "from Designer import sst\n",
    "from utils import sfround\n",
    "from math import sqrt, pi, ceil, log10\n",
    "SST = sst.SST()"
   ]
  },
  {
   "cell_type": "code",
   "execution_count": 3,
   "metadata": {
    "collapsed": true
   },
   "outputs": [],
   "source": [
    "wtable = SST.section_tables(['W','WWF']).sort('Mass')"
   ]
  },
  {
   "cell_type": "code",
   "execution_count": 4,
   "metadata": {
    "collapsed": true
   },
   "outputs": [],
   "source": [
    "phi = 0.9\n",
    "E = 200000.\n",
    "def searchW(Shp,Use,BT,HW,A,Rx,Ry,B,T,D,W,KLx=0.,KLy=0.,Cf=0.,Fy=345.):\n",
    "    if Shp not in [1,5]:\n",
    "        return False\n",
    "    if Use not in [1,2]:\n",
    "        return False\n",
    "    Ae = A\n",
    "    H = D - 2.*T\n",
    "    flag = ''\n",
    "    if BT > 200./sqrt(Fy):\n",
    "        Be = (200./sqrt(Fy))*(2.*T)\n",
    "        Ae -= 2.*(B-Be)*T\n",
    "        flag += 'F'\n",
    "    if HW > 670./sqrt(Fy):\n",
    "        He = (670./sqrt(Fy))*W\n",
    "        Ae -= (H-He)*W\n",
    "        flag += 'W'\n",
    "    klr = max(KLx/Rx,KLy/Ry)\n",
    "    Fe = pi*pi*E/(klr**2)\n",
    "    lamda = sqrt(Fy/Fe)\n",
    "    n = 2.24 if Shp == 5 else 1.34\n",
    "    Cr = phi*Ae*Fy*(1+lamda**(2*n))**(-1./n) * 1E-3\n",
    "    if Cr < Cf:\n",
    "        return False\n",
    "    return {'Cr':sfround(Cr),'LBFlag':flag}"
   ]
  },
  {
   "cell_type": "code",
   "execution_count": 7,
   "metadata": {
    "collapsed": false,
    "scrolled": true
   },
   "outputs": [],
   "source": [
    "r = SST.select(wtable,searchW,maxn=10,Cf=3000.,KLx=13000.,KLy=6500.,Fy=345.)"
   ]
  },
  {
   "cell_type": "code",
   "execution_count": 8,
   "metadata": {
    "collapsed": false
   },
   "outputs": [
    {
     "data": {
      "text/html": [
       "<div style=\"max-height:1000px;max-width:1500px;overflow:auto;\">\n",
       "<table border=\"1\" class=\"dataframe\">\n",
       "  <thead>\n",
       "    <tr style=\"text-align: right;\">\n",
       "      <th></th>\n",
       "      <th>Mass</th>\n",
       "      <th>A</th>\n",
       "      <th>Rx</th>\n",
       "      <th>Ry</th>\n",
       "      <th>Cr</th>\n",
       "      <th>LBFlag</th>\n",
       "    </tr>\n",
       "    <tr>\n",
       "      <th>Dsg</th>\n",
       "      <th></th>\n",
       "      <th></th>\n",
       "      <th></th>\n",
       "      <th></th>\n",
       "      <th></th>\n",
       "      <th></th>\n",
       "    </tr>\n",
       "  </thead>\n",
       "  <tbody>\n",
       "    <tr>\n",
       "      <th>WWF350x137</th>\n",
       "      <td> 137</td>\n",
       "      <td> 17500</td>\n",
       "      <td> 153</td>\n",
       "      <td>  90.3</td>\n",
       "      <td> 3500</td>\n",
       "      <td>   </td>\n",
       "    </tr>\n",
       "    <tr>\n",
       "      <th>W360x147</th>\n",
       "      <td> 147</td>\n",
       "      <td> 18800</td>\n",
       "      <td> 157</td>\n",
       "      <td>  94.3</td>\n",
       "      <td> 3160</td>\n",
       "      <td>   </td>\n",
       "    </tr>\n",
       "    <tr>\n",
       "      <th>WWF350x155</th>\n",
       "      <td> 155</td>\n",
       "      <td> 19800</td>\n",
       "      <td> 151</td>\n",
       "      <td>  89.1</td>\n",
       "      <td> 3890</td>\n",
       "      <td>   </td>\n",
       "    </tr>\n",
       "    <tr>\n",
       "      <th>WWF400x157</th>\n",
       "      <td> 157</td>\n",
       "      <td> 20100</td>\n",
       "      <td> 176</td>\n",
       "      <td> 103.0</td>\n",
       "      <td> 4690</td>\n",
       "      <td>   </td>\n",
       "    </tr>\n",
       "    <tr>\n",
       "      <th>W360x162</th>\n",
       "      <td> 162</td>\n",
       "      <td> 20600</td>\n",
       "      <td> 158</td>\n",
       "      <td>  94.8</td>\n",
       "      <td> 3490</td>\n",
       "      <td>   </td>\n",
       "    </tr>\n",
       "    <tr>\n",
       "      <th>WWF350x176</th>\n",
       "      <td> 176</td>\n",
       "      <td> 22400</td>\n",
       "      <td> 150</td>\n",
       "      <td>  89.3</td>\n",
       "      <td> 4360</td>\n",
       "      <td>   </td>\n",
       "    </tr>\n",
       "    <tr>\n",
       "      <th>WWF450x177</th>\n",
       "      <td> 177</td>\n",
       "      <td> 22600</td>\n",
       "      <td> 200</td>\n",
       "      <td> 116.0</td>\n",
       "      <td> 5610</td>\n",
       "      <td> FW</td>\n",
       "    </tr>\n",
       "    <tr>\n",
       "      <th>WWF400x178</th>\n",
       "      <td> 178</td>\n",
       "      <td> 22700</td>\n",
       "      <td> 174</td>\n",
       "      <td> 102.0</td>\n",
       "      <td> 5240</td>\n",
       "      <td>   </td>\n",
       "    </tr>\n",
       "    <tr>\n",
       "      <th>W310x179</th>\n",
       "      <td> 179</td>\n",
       "      <td> 22800</td>\n",
       "      <td> 140</td>\n",
       "      <td>  79.5</td>\n",
       "      <td> 3340</td>\n",
       "      <td>   </td>\n",
       "    </tr>\n",
       "    <tr>\n",
       "      <th>W360x179</th>\n",
       "      <td> 179</td>\n",
       "      <td> 22800</td>\n",
       "      <td> 159</td>\n",
       "      <td>  95.2</td>\n",
       "      <td> 3890</td>\n",
       "      <td>   </td>\n",
       "    </tr>\n",
       "  </tbody>\n",
       "</table>\n",
       "</div>"
      ],
      "text/plain": [
       "            Mass      A   Rx     Ry    Cr LBFlag\n",
       "Dsg                                             \n",
       "WWF350x137   137  17500  153   90.3  3500       \n",
       "W360x147     147  18800  157   94.3  3160       \n",
       "WWF350x155   155  19800  151   89.1  3890       \n",
       "WWF400x157   157  20100  176  103.0  4690       \n",
       "W360x162     162  20600  158   94.8  3490       \n",
       "WWF350x176   176  22400  150   89.3  4360       \n",
       "WWF450x177   177  22600  200  116.0  5610     FW\n",
       "WWF400x178   178  22700  174  102.0  5240       \n",
       "W310x179     179  22800  140   79.5  3340       \n",
       "W360x179     179  22800  159   95.2  3890       "
      ]
     },
     "execution_count": 8,
     "metadata": {},
     "output_type": "execute_result"
    }
   ],
   "source": [
    "[] if r.empty else r[['Mass','A','Rx','Ry','Cr','LBFlag']]"
   ]
  },
  {
   "cell_type": "code",
   "execution_count": 11,
   "metadata": {
    "collapsed": false
   },
   "outputs": [],
   "source": [
    "def searchHSS(Shp,Use,DT,BT,A,Rx,Ry,KLx=0.,KLy=0.,Cf=0.,Fy=350.,HClass='C'):\n",
    "    if Shp not in [15,16,17]:\n",
    "        return False\n",
    "    if Use not in [1,2]:\n",
    "        return False\n",
    "    if DT > 670./sqrt(Fy):\n",
    "        return False\n",
    "    klr = max(KLx/Rx,KLy/Ry)\n",
    "    Fe = pi*pi*E/(klr**2)\n",
    "    lamda = sqrt(Fy/Fe)\n",
    "    n = 2.24 if HClass == 'H' else 1.34\n",
    "    Cr = phi*A*Fy*(1+lamda**(2*n))**(-1./n) * 1E-3\n",
    "    if Cr < Cf:\n",
    "        return False\n",
    "    return {'Cr':sfround(Cr)}"
   ]
  },
  {
   "cell_type": "code",
   "execution_count": 9,
   "metadata": {
    "collapsed": false
   },
   "outputs": [],
   "source": [
    "htable = SST.section_tables(['HS']).sort('Mass')"
   ]
  },
  {
   "cell_type": "code",
   "execution_count": 18,
   "metadata": {
    "collapsed": false
   },
   "outputs": [],
   "source": [
    "rh = SST.select(htable,searchHSS,maxn=10,Cf=3000.,KLx=13000.,KLy=6500.,HClass='C')"
   ]
  },
  {
   "cell_type": "code",
   "execution_count": 19,
   "metadata": {
    "collapsed": false
   },
   "outputs": [
    {
     "data": {
      "text/plain": [
       "[]"
      ]
     },
     "execution_count": 19,
     "metadata": {},
     "output_type": "execute_result"
    }
   ],
   "source": [
    "[] if rh.empty else rh[['Mass','A','Rx','Ry','Cr']]"
   ]
  },
  {
   "cell_type": "code",
   "execution_count": null,
   "metadata": {
    "collapsed": true
   },
   "outputs": [],
   "source": []
  },
  {
   "cell_type": "code",
   "execution_count": null,
   "metadata": {
    "collapsed": true
   },
   "outputs": [],
   "source": []
  }
 ],
 "metadata": {
  "kernelspec": {
   "display_name": "Python 2",
   "language": "python",
   "name": "python2"
  },
  "language_info": {
   "codemirror_mode": {
    "name": "ipython",
    "version": 2
   },
   "file_extension": ".py",
   "mimetype": "text/x-python",
   "name": "python",
   "nbconvert_exporter": "python",
   "pygments_lexer": "ipython2",
   "version": "2.7.6"
  }
 },
 "nbformat": 4,
 "nbformat_minor": 0
}
