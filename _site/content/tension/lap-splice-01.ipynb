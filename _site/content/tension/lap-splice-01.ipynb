{
 "cells": [
  {
   "cell_type": "markdown",
   "metadata": {},
   "source": [
    "# Compute Tr - Plate Lap Splice"
   ]
  },
  {
   "cell_type": "code",
   "execution_count": 1,
   "metadata": {},
   "outputs": [],
   "source": [
    "import sys\n",
    "sys.path[1:1] = ['../../ca-steel-design/lib']\n",
    "from Designer import SST,show"
   ]
  },
  {
   "cell_type": "markdown",
   "metadata": {},
   "source": [
    "![Lap Splice](images/lap-splice-01.svg)"
   ]
  },
  {
   "cell_type": "code",
   "execution_count": 2,
   "metadata": {},
   "outputs": [
    {
     "name": "stdout",
     "output_type": "stream",
     "text": [
      "W1 = 300\n",
      "T1 = 25\n",
      "c  = 10\n",
      "W2 = 220\n",
      "T2 = 14\n",
      "L2 = 350\n",
      "HA = 24\n",
      "G  = 75\n",
      "S  = 75\n",
      "S2 = 140\n",
      "NT = 3\n",
      "NL = 2\n"
     ]
    }
   ],
   "source": [
    "# Main plate dimensions:\n",
    "W1 = 300.\n",
    "T1 = 25.\n",
    "c = 10.   # clearance between ends\n",
    "# Lap plate dimensions:\n",
    "W2 = 220.\n",
    "T2 = 14.\n",
    "L2 = 350.\n",
    "# bolting dimensions\n",
    "HA = 22. + 2.  # hole allowance - 3/4\" bolts in 22mm punched holes\n",
    "G = 75.     # gauge\n",
    "S = 75.     # transverse spacing\n",
    "NT = 3      # number of bolts across\n",
    "NL = 2      # number of lines of bolts each side\n",
    "S2 = 140.\n",
    "show('W1,T1,c,W2,T2,L2,HA,G,S,S2,NT,NL')"
   ]
  },
  {
   "cell_type": "code",
   "execution_count": null,
   "metadata": {},
   "outputs": [],
   "source": []
  }
 ],
 "metadata": {
  "kernelspec": {
   "display_name": "Python 3",
   "language": "python",
   "name": "python3"
  },
  "language_info": {
   "codemirror_mode": {
    "name": "ipython",
    "version": 3
   },
   "file_extension": ".py",
   "mimetype": "text/x-python",
   "name": "python",
   "nbconvert_exporter": "python",
   "pygments_lexer": "ipython3",
   "version": "3.6.7"
  }
 },
 "nbformat": 4,
 "nbformat_minor": 2
}
