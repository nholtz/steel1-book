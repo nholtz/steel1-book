{
 "cells": [
  {
   "cell_type": "code",
   "execution_count": 1,
   "metadata": {},
   "outputs": [],
   "source": [
    "class Bar(object):\n",
    "    \n",
    "    def __init__(self,name,**kwds):\n",
    "        self.name = name\n",
    "        for k,v in kwds.items():\n",
    "            setattr(self,k,v)\n",
    "            \n",
    "    def __enter__(self):\n",
    "        \"\"\"Add all attributes/values to the set of global variables.\n",
    "        Save enough state so that they can be restored when the context\n",
    "        manager exits.\"\"\"\n",
    "        if hasattr(self,'__saved__'):\n",
    "            raise Exception('Object already is a context manager. Cant be one again.')\n",
    "        dct = vars(self)\n",
    "        _new = []                # save a list of newly added variables\n",
    "        _old = {}                # remember values of those that already exist in globals.\n",
    "        globs = globals()\n",
    "        for k,v in dct.items():\n",
    "            if k in globs:\n",
    "                _old[k] = globs[k]\n",
    "            else:\n",
    "                _new.append(k)\n",
    "            globs[k] = v\n",
    "        self.__saved__ = (_new,_old)\n",
    "        return self\n",
    "    \n",
    "    def __exit__(self,*l):\n",
    "        \"\"\"When the context exits, restore the global values to what they\n",
    "        were before entering.\"\"\"\n",
    "        _new,_old = self.__saved__\n",
    "        globs = globals()             # restore the global values\n",
    "        for k,v in _old.items():\n",
    "            globs[k] = v              # restore old values\n",
    "        for k in _new:\n",
    "            del globs[k]              # or delete them if they were newly created\n",
    "        del self.__saved__\n",
    "        return False              # to re-raise exceptions"
   ]
  },
  {
   "cell_type": "code",
   "execution_count": 3,
   "metadata": {},
   "outputs": [
    {
     "name": "stdout",
     "output_type": "stream",
     "text": [
      "[100, 200, 300]\n"
     ]
    }
   ],
   "source": [
    "B = Bar('b',a=10,b=20)\n",
    "C = Bar('c',a=100,b=200,c=300)\n",
    "c = 1000\n",
    "with B,C:\n",
    "    print( [a,b,c] )"
   ]
  },
  {
   "cell_type": "code",
   "execution_count": 14,
   "metadata": {},
   "outputs": [
    {
     "data": {
      "text/plain": [
       "1000"
      ]
     },
     "execution_count": 14,
     "metadata": {},
     "output_type": "execute_result"
    }
   ],
   "source": [
    "c"
   ]
  },
  {
   "cell_type": "code",
   "execution_count": 15,
   "metadata": {},
   "outputs": [
    {
     "data": {
      "text/plain": [
       "10"
      ]
     },
     "execution_count": 15,
     "metadata": {},
     "output_type": "execute_result"
    }
   ],
   "source": [
    "a"
   ]
  },
  {
   "cell_type": "code",
   "execution_count": 16,
   "metadata": {},
   "outputs": [
    {
     "data": {
      "text/plain": [
       "20"
      ]
     },
     "execution_count": 16,
     "metadata": {},
     "output_type": "execute_result"
    }
   ],
   "source": [
    "b"
   ]
  },
  {
   "cell_type": "code",
   "execution_count": null,
   "metadata": {},
   "outputs": [],
   "source": []
  }
 ],
 "metadata": {
  "kernelspec": {
   "display_name": "Python 3",
   "language": "python",
   "name": "python3"
  },
  "language_info": {
   "codemirror_mode": {
    "name": "ipython",
    "version": 3
   },
   "file_extension": ".py",
   "mimetype": "text/x-python",
   "name": "python",
   "nbconvert_exporter": "python",
   "pygments_lexer": "ipython3",
   "version": "3.7.5"
  }
 },
 "nbformat": 4,
 "nbformat_minor": 4
}
