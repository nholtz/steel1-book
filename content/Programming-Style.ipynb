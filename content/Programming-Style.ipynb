{
 "cells": [
  {
   "cell_type": "markdown",
   "metadata": {},
   "source": [
    "## Programming Style\n",
    "\n",
    "This book is intended to teach 3rd year Civil Engineering students about the design\n",
    "of structural steel components.\n",
    "\n",
    "It is not intended to teach Python programming, though it is hoped that eventally\n",
    "they will be able to make small modifications to any of the notebooks and see the effect.\n",
    "\n",
    "This document is an attempt to show alternative Python programming styles, and to compare them.\n",
    "\n",
    "The base documents from which the students are working will almost\n",
    "always use single character identifiers to refer to various physical quantities.  Therefore\n",
    "there will be a lot of overloading.  For example, _t_ is always a thickness, but context will\n",
    "tell what thickness it is referring to at any particular instant.\n",
    "\n",
    "I think it important that the Python code mimic this as closely as is practical. \n",
    "But the important part is that the Python not get in the way of understanding the engineering.\n",
    "\n",
    "\n",
    "### Problem Characteristics\n",
    "\n",
    "Problems are mostly to compute strengths of specialized physical objects made of structural steel.  These are the general characteristics:\n",
    "* The simplist problems will have 5 to 10 parameters (usually single numbers specifying a dimension\n",
    "of a part, or a material characteristics, or an option, etc.).  The most complex problems may have up to 30 or 40 or so parameters.\n",
    "* In the most complex problems, these parameters may be spread over 5 or 10 different physical parts and a couple of different materials.  Multiple parts could have dimensions that are \n",
    "typically referred to using the same name, for example _thickness_, and denoted using the same symbol, _t_.\n",
    "* Calculations involve fairly small amounts of logic to calculate a specific quantity. Usually that\n",
    "logic is easily expressible in no more than 5 lines of Python.\n",
    "* Simple problems may have 5 sets of these calculations; complex problems may have 30 or 40.\n",
    "* The notebook structure is ideal for this, with one calculation set per cell.\n",
    "* This is all to support what we call \"design\" - determining the proper sizes of an object\n",
    "for structural safety.  In all but the simplese cases, this is trial and error: choose a set\n",
    "of parameters, calculate a strength; if not right, change something and do it all over.\n",
    "* Mostly, the calculations are specified by very specific and precise rules and formulae that cover many common \n",
    "cases.  In our case, the document is the [CSA S16-14 Design of Steel Structures](https://www.scc.ca/en/standardsdb/standards/27714), supplemented with lecture material.\n",
    "\n",
    "Below we will perform one typical set of calculations to determine tension strength\n",
    "with respect to a complete fracture of the cross-section (there are other failure modes).\n",
    "We will show a number of different ways of structuring the Python to do this, and\n",
    "discuss the relative merits of each.\n",
    "\n",
    "**My favorite is currently Alternative 4 - using the 'with' statement.**"
   ]
  },
  {
   "cell_type": "code",
   "execution_count": 1,
   "metadata": {},
   "outputs": [],
   "source": [
    "from Designer import Part, extract\n",
    "import pint                  # setup to use the module for computing with units\n",
    "ureg = pint.UnitRegistry()\n",
    "mm = ureg['mm']\n",
    "kN = ureg['kN']\n",
    "MPa = ureg['MPa']\n",
    "ureg.default_format = '~P'"
   ]
  },
  {
   "cell_type": "markdown",
   "metadata": {},
   "source": [
    "### Typical Data Definition\n",
    "I think we can agree that we will not use simple global variables to refer to various\n",
    "physical quantities.  In a more complex problem than shown here, we would have\n",
    "```t1```, ```t2```, ```t3``` or ```t_angle```, ```t_gusset```, ```t_plate```, etc.\n",
    "to refer to the various thicknesses.  It becomes unwieldy and makes the code less re-usable.\n",
    "\n",
    "So the first step is to use normal Python  objects, and use \n",
    "attribute values to store the data.  These are essentially just a way of providing multiple\n",
    "namespaces (i.e., association this instance of _t_ with the correct object)."
   ]
  },
  {
   "cell_type": "code",
   "execution_count": 2,
   "metadata": {},
   "outputs": [],
   "source": [
    "Steel = Part( \"Material for Angles\",\n",
    "            grade = \"CSA G40.21 350W\",\n",
    "            Fy = 350*MPa,      # yield strength\n",
    "            Fu = 450*MPa,      # ultimate strength\n",
    "            )\n",
    "\n",
    "AngleB7 = Part( \"Brace B-7\",\n",
    "            size = \"L152x102x16\",\n",
    "            d = 152*mm,        # width of longest leg\n",
    "            b = 102*mm,        # width of shortest leg\n",
    "            t = 15.9*mm,       # thickness\n",
    "            A = 3780*mm*mm,    # gross cross-sectional area\n",
    "            hd = 24*mm,        # bolt hole diameter allowance\n",
    "            nbolts = 4,        # number of bolts in direction of load\n",
    "            )"
   ]
  },
  {
   "cell_type": "markdown",
   "metadata": {},
   "source": [
    "### Alternative 1:\n",
    "We just refer to attributes of the objects using the normal Python dot notation.\n",
    "Nothing special."
   ]
  },
  {
   "cell_type": "code",
   "execution_count": 3,
   "metadata": {},
   "outputs": [
    {
     "data": {
      "text/html": [
       "1101.0816000000002 kN"
      ],
      "text/latex": [
       "$1101.0816000000002\\ \\mathrm{kN}$"
      ],
      "text/plain": [
       "1101.0816000000002 kN"
      ]
     },
     "execution_count": 3,
     "metadata": {},
     "output_type": "execute_result"
    }
   ],
   "source": [
    "An = AngleB7.A - AngleB7.hd*AngleB7.t  # net x-sect area is gross minus allowance for one hole\n",
    "if AngleB7.nbolts >= 4:         # CSA S16-14 12.3.3.2 b)\n",
    "    Ane = 0.8*An                #                        i)\n",
    "else:\n",
    "    Ane = 0.6*An                #                        ii)\n",
    "Tr = 0.9*Ane*Steel.Fu\n",
    "Tr.to(kN)"
   ]
  },
  {
   "cell_type": "markdown",
   "metadata": {},
   "source": [
    "**Pros:**\n",
    "* bog-standard Python, no additional libraries/concepts required.  Students should be able to \n",
    "understand all the Python bits after their first course.\n",
    "* small number of global variables (2, in this case), with smaller chance of them being stepped\n",
    "on in the notebook.\n",
    "* very explicit.  there is no doubt what the _t_ belongs to in the first line.\n",
    "\n",
    "**Cons:**\n",
    "* harder to read with all those extra (and usually extraneous) identifiers in the expressions.  As expressions get more complex, this gets worse.\n",
    "* detracts from re-useability of the code.  If this is copied to serve another part, it\n",
    "will have to be edited (and defining functions to do the calculations is problematic as well - adds\n",
    "more conceptual overhead)."
   ]
  },
  {
   "cell_type": "markdown",
   "metadata": {},
   "source": [
    "### Alternative 2:\n",
    "Extract the required attribute values into global variables at the start of each cell.\n",
    "We can arrange some special object functionality so that this can be done more compactly (obviously,\n",
    "the indexing operator returns a tuple of the values of the attributes given as the \"index\").\n",
    "The values can even be renamed if that is wise or convenient."
   ]
  },
  {
   "cell_type": "code",
   "execution_count": 4,
   "metadata": {},
   "outputs": [
    {
     "data": {
      "text/html": [
       "1101.0816000000002 kN"
      ],
      "text/latex": [
       "$1101.0816000000002\\ \\mathrm{kN}$"
      ],
      "text/plain": [
       "1101.0816000000002 kN"
      ]
     },
     "execution_count": 4,
     "metadata": {},
     "output_type": "execute_result"
    }
   ],
   "source": [
    "Ag,hd,t,n = AngleB7['A,hd,t,nbolts']\n",
    "Fu = Steel.Fu\n",
    "\n",
    "An = Ag - hd*t                # net x-sect area is gross minus allowance for one hole\n",
    "if n >= 4:                    # CSA S16-14 12.3.3.2 b)\n",
    "    Ane = 0.8*An\n",
    "else:\n",
    "    Ane = 0.6*An\n",
    "Tr = 0.9*Ane*Fu\n",
    "Tr.to(kN)"
   ]
  },
  {
   "cell_type": "markdown",
   "metadata": {},
   "source": [
    "**Pros:**\n",
    "* fairly compact and explicit extraction of the values needed for this cell.\n",
    "* not a lot of conceptual overhead.  Students should be able to work past this with little trouble.\n",
    "* variables can be renamed to better suit the problem.\n",
    "\n",
    "**Cons:**\n",
    "* Values become global variables that can accidently step on existing ones, or pollute the\n",
    "following cells by defining symbols, such as _t_, that shouldn't be defined later.\n",
    "* Overloads the indexing functionality, which is not standard Python, and  some people\n",
    "may find that weird or hard to understand.\n",
    "* There is obviously more than one way to extract the attribute values - again a bit\n",
    "more conceptual overhead."
   ]
  },
  {
   "cell_type": "markdown",
   "metadata": {},
   "source": [
    "### Alternative 3\n",
    "Much the same concept as Alternative 2 above, except we provide an 'extract' function \n",
    "that more explicitly gets the attribute values.  We made this a function rather than a method\n",
    "so that we could more easily extract from multiple objects."
   ]
  },
  {
   "cell_type": "code",
   "execution_count": 5,
   "metadata": {},
   "outputs": [
    {
     "data": {
      "text/html": [
       "1101.0816000000002 kN"
      ],
      "text/latex": [
       "$1101.0816000000002\\ \\mathrm{kN}$"
      ],
      "text/plain": [
       "1101.0816000000002 kN"
      ]
     },
     "execution_count": 5,
     "metadata": {},
     "output_type": "execute_result"
    }
   ],
   "source": [
    "Ag,hd,t,n,Fu = extract('A,hd,t,nbolts,Fu',AngleB7,Steel)\n",
    "\n",
    "An = Ag - hd*t                # net x-sect area is gross minus allowance for one hole\n",
    "if n >= 4:                    # CSA S16-14 12.3.3.2 b)\n",
    "    Ane = 0.8*An\n",
    "else:\n",
    "    Ane = 0.6*An\n",
    "Tr = 0.9*Ane*Fu\n",
    "Tr.to(kN)"
   ]
  },
  {
   "cell_type": "markdown",
   "metadata": {},
   "source": [
    "**Pros:**\n",
    "* much the same as Alternative 2, plus:\n",
    "* more traditional Python.  May be easier for neophytes to understand.\n",
    "* ability to get some inheritance.  For example, ```Steel``` is to give the properties of all\n",
    "angles, except ```Fu``` could be transparently over-ridden by ```AngleB7``` - a sort of inheritance.\n",
    "\n",
    "**Cons:**\n",
    "* pretty much the same as Alternative 2."
   ]
  },
  {
   "cell_type": "markdown",
   "metadata": {},
   "source": [
    "### Alternative 4\n",
    "Make the ```Part``` objects be context managers.  They inject all their attribute values\n",
    "into the global namespace at the beginning of the block, and undo all those changes\n",
    "at the end of the block.  Could even make them produce warnings if values are over-ridden\n",
    "(for example, if ```t``` was aleady defined before the beginning of the block) \n",
    "(don't currently do that)."
   ]
  },
  {
   "cell_type": "code",
   "execution_count": 6,
   "metadata": {},
   "outputs": [
    {
     "data": {
      "text/html": [
       "1101.0816000000002 kN"
      ],
      "text/latex": [
       "$1101.0816000000002\\ \\mathrm{kN}$"
      ],
      "text/plain": [
       "1101.0816000000002 kN"
      ]
     },
     "execution_count": 6,
     "metadata": {},
     "output_type": "execute_result"
    }
   ],
   "source": [
    "with Steel,AngleB7:\n",
    "    An = A - hd*t             # net x-sect area is gross minus allowance for one hole\n",
    "    if nbolts >= 4:           # CSA S16-14 12.3.3.2 b)\n",
    "        Ane = 0.8*An\n",
    "    else:\n",
    "        Ane = 0.6*An\n",
    "    Tr = 0.9*Ane*Fu\n",
    "Tr.to(kN) "
   ]
  },
  {
   "cell_type": "markdown",
   "metadata": {},
   "source": [
    "**Pros:**\n",
    "* by far the most compact and least textual overhead.\n",
    "* scope of some variables is limited.  The value of ```t``` used in this block disappears at\n",
    "the end of the block. This may be **HUGELY** good. (Although new variables like ```Ane```\n",
    "are still permanently injected into the global namespace).\n",
    "* as the objects in the ```with``` statement are processed left-to-right, we get\n",
    "an automatic inheritance mechanism (```Angle87``` over-rides the same named attributes\n",
    "from ```Steel```).  This can also be a bad thing, of course.\n",
    "\n",
    "**Cons:**\n",
    "* fair bit of conceptual overhead to understanding this.  It is probably 'advanced' Python.\n",
    "Students will probably not see this in a first course taught to engineers.\n",
    "* cannot rename the variables - must use the attribute names defined in the object (this _may_\n",
    "actually be a good thing).\n",
    "* source of values is not explicit.  For example, where does _t_ come from? From reading just this,\n",
    "you cannot tell whether it is ```Steel.t``` or ```AngleB7.t```\n",
    "* **BIG!** With var names being implicit, its far too easy to get the wrong values.  I had:\n",
    "\n",
    "        with LapPlates,Bolts:\n",
    "            wn = W - nperline*ha\n",
    "            Ane = An = wn*T\n",
    "            Tr = phiu*Ane*Fu          # S16-14: 13.2 a) iii)\n",
    "            REC(Tr,'Lap Plates, Net Fracture','W,T,ha,wn,phiu,Ane,Fu')\n",
    "            \n",
    "  and ```Fu``` was taken from ```Bolts```, whereas it should have been taken from ```LapPlates```.  I guess we need to make the variables explicit for each one."
   ]
  },
  {
   "cell_type": "markdown",
   "metadata": {},
   "source": [
    "### Alternative 5\n",
    "Have all computations done in a function, where the parameter list names the local values.  Then you can write a little utility that automatically extracts the values from the objects:"
   ]
  },
  {
   "cell_type": "code",
   "execution_count": 7,
   "metadata": {},
   "outputs": [],
   "source": [
    "def fun1(Ag,hd,t,n,Fu):\n",
    "    An = Ag - hd*t       # net x-sect area is gross minus allowance for one hole\n",
    "    if n >= 4:           # CSA S16-14 12.3.3.2 b)\n",
    "        Ane = 0.8*An\n",
    "    else:\n",
    "        Ane = 0.6*An\n",
    "    Tr = 0.9*Ane*Fu\n",
    "    return Tr.to(kN)\n",
    "\n",
    "# call(fun1,(Steel,AngleB7),n='nbolts',Ag='A')   # or something like this"
   ]
  },
  {
   "cell_type": "markdown",
   "metadata": {},
   "source": [
    "**Pros:**\n",
    "* explicitly limited scope of variables, including newly created ones like ```Ane```.\n",
    "\n",
    "**Cons:**\n",
    "* I don't like it."
   ]
  },
  {
   "cell_type": "code",
   "execution_count": null,
   "metadata": {},
   "outputs": [],
   "source": []
  }
 ],
 "metadata": {
  "kernelspec": {
   "display_name": "Python 3",
   "language": "python",
   "name": "python3"
  },
  "language_info": {
   "codemirror_mode": {
    "name": "ipython",
    "version": 3
   },
   "file_extension": ".py",
   "mimetype": "text/x-python",
   "name": "python",
   "nbconvert_exporter": "python",
   "pygments_lexer": "ipython3",
   "version": "3.6.8"
  }
 },
 "nbformat": 4,
 "nbformat_minor": 2
}
