{
 "cells": [
  {
   "cell_type": "code",
   "execution_count": 1,
   "metadata": {},
   "outputs": [
    {
     "data": {
      "text/plain": [
       "<module 'pint' from '/usr/local/lib/python3.6/dist-packages/pint/__init__.py'>"
      ]
     },
     "execution_count": 1,
     "metadata": {},
     "output_type": "execute_result"
    }
   ],
   "source": [
    "import pint\n",
    "pint"
   ]
  },
  {
   "cell_type": "code",
   "execution_count": 2,
   "metadata": {},
   "outputs": [],
   "source": [
    "ureg = pint.UnitRegistry()\n",
    "mm = ureg['mm']\n",
    "inch = ureg['inch']\n",
    "kN = ureg['kN']\n",
    "MPa = ureg['MPa']\n",
    "ureg.default_format = '~P'"
   ]
  },
  {
   "cell_type": "code",
   "execution_count": 4,
   "metadata": {},
   "outputs": [
    {
     "data": {
      "text/html": [
       "1.1333333333333333 kN/mm<sup>2</sup>"
      ],
      "text/latex": [
       "$1.1333333333333333\\ \\frac{\\mathrm{kN}}{\\mathrm{mm}^{2}}$"
      ],
      "text/plain": [
       "1.1333333333333333 kN/mm²"
      ]
     },
     "execution_count": 4,
     "metadata": {},
     "output_type": "execute_result"
    }
   ],
   "source": [
    "x = 17*kN/(3*mm*5*mm)\n",
    "x"
   ]
  },
  {
   "cell_type": "code",
   "execution_count": 6,
   "metadata": {},
   "outputs": [
    {
     "data": {
      "text/html": [
       "1133.3333333333333 MPa"
      ],
      "text/latex": [
       "$1133.3333333333333\\ \\mathrm{MPa}$"
      ],
      "text/plain": [
       "1133.3333333333333 MPa"
      ]
     },
     "execution_count": 6,
     "metadata": {},
     "output_type": "execute_result"
    }
   ],
   "source": [
    "y = x.to(MPa)\n",
    "y"
   ]
  },
  {
   "cell_type": "code",
   "execution_count": 11,
   "metadata": {},
   "outputs": [
    {
     "data": {
      "text/plain": [
       "'MPa'"
      ]
     },
     "execution_count": 11,
     "metadata": {},
     "output_type": "execute_result"
    }
   ],
   "source": [
    "str(y.units)"
   ]
  },
  {
   "cell_type": "code",
   "execution_count": 13,
   "metadata": {},
   "outputs": [],
   "source": [
    "class Foo(object):\n",
    "    \n",
    "    def __setattr__(self,k,v):\n",
    "        print('Setting',k,'to',v)\n",
    "        self.__dict__[k] = v"
   ]
  },
  {
   "cell_type": "code",
   "execution_count": 14,
   "metadata": {},
   "outputs": [],
   "source": [
    "f = Foo()"
   ]
  },
  {
   "cell_type": "code",
   "execution_count": 15,
   "metadata": {},
   "outputs": [
    {
     "name": "stdout",
     "output_type": "stream",
     "text": [
      "Setting x to 3\n"
     ]
    }
   ],
   "source": [
    "f.x = 3"
   ]
  },
  {
   "cell_type": "code",
   "execution_count": 16,
   "metadata": {},
   "outputs": [
    {
     "name": "stdout",
     "output_type": "stream",
     "text": [
      "Setting yy to 17\n"
     ]
    }
   ],
   "source": [
    "setattr(f,'yy',17)"
   ]
  },
  {
   "cell_type": "code",
   "execution_count": 17,
   "metadata": {},
   "outputs": [
    {
     "data": {
      "text/html": [
       "1.1333333333333333 kN/mm<sup>2</sup>"
      ],
      "text/latex": [
       "$1.1333333333333333\\ \\frac{\\mathrm{kN}}{\\mathrm{mm}^{2}}$"
      ],
      "text/plain": [
       "1.1333333333333333 kN/mm²"
      ]
     },
     "execution_count": 17,
     "metadata": {},
     "output_type": "execute_result"
    }
   ],
   "source": [
    "x"
   ]
  },
  {
   "cell_type": "code",
   "execution_count": 18,
   "metadata": {},
   "outputs": [
    {
     "data": {
      "text/html": [
       "5.666666666666666 kN/mm<sup>2</sup>"
      ],
      "text/latex": [
       "$5.666666666666666\\ \\frac{\\mathrm{kN}}{\\mathrm{mm}^{2}}$"
      ],
      "text/plain": [
       "5.666666666666666 kN/mm²"
      ]
     },
     "execution_count": 18,
     "metadata": {},
     "output_type": "execute_result"
    }
   ],
   "source": [
    "x*5"
   ]
  },
  {
   "cell_type": "code",
   "execution_count": 19,
   "metadata": {},
   "outputs": [
    {
     "data": {
      "text/html": [
       "0.0 kN/mm<sup>2</sup>"
      ],
      "text/latex": [
       "$0.0\\ \\frac{\\mathrm{kN}}{\\mathrm{mm}^{2}}$"
      ],
      "text/plain": [
       "0.0 kN/mm²"
      ]
     },
     "execution_count": 19,
     "metadata": {},
     "output_type": "execute_result"
    }
   ],
   "source": [
    "x*0"
   ]
  },
  {
   "cell_type": "code",
   "execution_count": 20,
   "metadata": {},
   "outputs": [
    {
     "data": {
      "text/html": [
       "0.0 kN/mm<sup>2</sup>"
      ],
      "text/latex": [
       "$0.0\\ \\frac{\\mathrm{kN}}{\\mathrm{mm}^{2}}$"
      ],
      "text/plain": [
       "0.0 kN/mm²"
      ]
     },
     "execution_count": 20,
     "metadata": {},
     "output_type": "execute_result"
    }
   ],
   "source": [
    "0*x"
   ]
  },
  {
   "cell_type": "code",
   "execution_count": null,
   "metadata": {},
   "outputs": [],
   "source": []
  }
 ],
 "metadata": {
  "kernelspec": {
   "display_name": "Python 3",
   "language": "python",
   "name": "python3"
  },
  "language_info": {
   "codemirror_mode": {
    "name": "ipython",
    "version": 3
   },
   "file_extension": ".py",
   "mimetype": "text/x-python",
   "name": "python",
   "nbconvert_exporter": "python",
   "pygments_lexer": "ipython3",
   "version": "3.6.7"
  }
 },
 "nbformat": 4,
 "nbformat_minor": 2
}
