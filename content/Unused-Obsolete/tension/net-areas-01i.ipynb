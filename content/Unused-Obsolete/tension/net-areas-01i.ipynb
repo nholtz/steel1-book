{
 "cells": [
  {
   "cell_type": "markdown",
   "metadata": {},
   "source": [
    "# Example T01i: Net Areas of Plates with Staggered Holes\n",
    "\n",
    "Please note that the following type of hole pattern rarely occurs in practice -- practical patterns are more regular and 'grid-like'.  This example illustrates:\n",
    "* how failure patterns depend on the direction of the load relative to the hole group.\n",
    "* the calculations necessary to determine a net cross-sectional area for each potential failure pattern.\n",
    "\n",
    "The  figure shows an irregular bolt pattern in a lap tension splice.  To compute the\n",
    "net areas of the plates, we must examine every possible failure path that has the\n",
    "following attributes:\n",
    "\n",
    "* it separates each plate into 2 complete parts.\n",
    "* it is of minimum length for that path.\n",
    "* there are no bolts or holes completely on the loaded side of the path; all of the bolt bearing areas are on the side opposite the load.\n",
    "\n",
    "In the following example, we will assume M20 bolts in punched holes, and thus the hole\n",
    "allowance is $20~\\mathrm{mm}+2~\\mathrm{mm}+2~\\mathrm{mm} = 24~\\mathrm{mm}$.\n",
    "\n",
    "![Lap PLate Connection](images/lap-plates-1.svg)\n",
    "\n",
    "**Lap Plate Connection**"
   ]
  },
  {
   "cell_type": "markdown",
   "metadata": {},
   "source": [
    "## 10mm Plates (outer plates)\n",
    "\n",
    "The  shows the paths appropriate for investigating the strength of the outside (10mm) plates.\n",
    "For this case, the loaded side of the connection is toward the right side, and so there are\n",
    "no complete holes on that side of any path.\n",
    "\n",
    "![Failure Paths for Net Area Calculations, Outside (10mm) plates](images/paths-1i.svg \"Failure Paths for Net Area Calculations, Outside (10mm) plates\")\n",
    "\n",
    "**Failure Paths for Net Area Calculations, Outside (10mm) plates**"
   ]
  },
  {
   "cell_type": "code",
   "execution_count": 1,
   "metadata": {},
   "outputs": [
    {
     "data": {
      "text/plain": [
       "210.0"
      ]
     },
     "execution_count": 1,
     "metadata": {},
     "output_type": "execute_result"
    }
   ],
   "source": [
    "ha = 20 + 2 + 2          # hole allowance: bolt dia. + 2mm clearance + 2mm for punching\n",
    "s1 = 50.\n",
    "s2 = 55.\n",
    "s3 = 50.\n",
    "g1,g2,g3,g4,g5 = 35.,50.,45.,50.,30.\n",
    "t1 = 10.                # thickness of one outside plate\n",
    "t2 = 20.                # thickness of inside plate\n",
    "wg = g1+g2+g3+g4+g5\n",
    "wg"
   ]
  },
  {
   "cell_type": "markdown",
   "metadata": {},
   "source": [
    "### Path 1-1:"
   ]
  },
  {
   "cell_type": "code",
   "execution_count": 2,
   "metadata": {},
   "outputs": [
    {
     "data": {
      "text/plain": [
       "186.0"
      ]
     },
     "execution_count": 2,
     "metadata": {},
     "output_type": "execute_result"
    }
   ],
   "source": [
    "wn_11 = wg - ha\n",
    "wn_11"
   ]
  },
  {
   "cell_type": "markdown",
   "metadata": {},
   "source": [
    "### Path 2-2:\n",
    "\n",
    "$w_n = w - \\sum d + \\sum{s^2\\over 4g}$"
   ]
  },
  {
   "cell_type": "code",
   "execution_count": 3,
   "metadata": {},
   "outputs": [
    {
     "data": {
      "text/plain": [
       "175.88888888888889"
      ]
     },
     "execution_count": 3,
     "metadata": {},
     "output_type": "execute_result"
    }
   ],
   "source": [
    "wn_22 = wg - 2*ha + s3**2/(4*g3)\n",
    "wn_22"
   ]
  },
  {
   "cell_type": "markdown",
   "metadata": {},
   "source": [
    "### Path 3-3:\n",
    "\n",
    "$w_n = w - \\sum d + \\sum{s^2\\over 4g}$"
   ]
  },
  {
   "cell_type": "code",
   "execution_count": 4,
   "metadata": {},
   "outputs": [
    {
     "data": {
      "text/plain": [
       "167.01388888888889"
      ]
     },
     "execution_count": 4,
     "metadata": {},
     "output_type": "execute_result"
    }
   ],
   "source": [
    "wn_33 = wg - 3*ha + s3**2/(4*g3) + s2**2/(4*g2)\n",
    "wn_33"
   ]
  },
  {
   "cell_type": "markdown",
   "metadata": {},
   "source": [
    "### Path 1-4:\n",
    "\n",
    "Adding the fourth bolt to each of the above paths will reduce the net width by $24~\\mathrm{mm}$\n",
    "for the hole, then\n",
    "increase it by $(s2+s3)^2/(4 g4)$ for the slope of the segment.  Therefore paths that include this hole will not govern if that term is less than 24.  However, given that these variable values might change,\n",
    "its probably safest to compute them all."
   ]
  },
  {
   "cell_type": "code",
   "execution_count": 5,
   "metadata": {},
   "outputs": [
    {
     "data": {
      "text/plain": [
       "(31.125, 217.125, 207.01388888888889, 198.13888888888889)"
      ]
     },
     "execution_count": 5,
     "metadata": {},
     "output_type": "execute_result"
    }
   ],
   "source": [
    "delta = (s2+s3)**2/(4*g4) - ha    # the amount wn increases by including the hole on path 4\n",
    "wn_14 = wn_11 + delta\n",
    "wn_24 = wn_22 + delta\n",
    "wn_34 = wn_33 + delta\n",
    "delta, wn_14, wn_24, wn_34"
   ]
  },
  {
   "cell_type": "markdown",
   "metadata": {},
   "source": [
    "### Summary\n",
    "\n",
    "The path with the smallest $w_n$ governs,\n",
    "so $A_n$ for the pair of 10 mm plates is:"
   ]
  },
  {
   "cell_type": "code",
   "execution_count": 6,
   "metadata": {},
   "outputs": [
    {
     "data": {
      "text/plain": [
       "167.01388888888889"
      ]
     },
     "execution_count": 6,
     "metadata": {},
     "output_type": "execute_result"
    }
   ],
   "source": [
    "wn = min(wn_11,wn_22,wn_33,wn_14,wn_24,wn_34)\n",
    "wn"
   ]
  },
  {
   "cell_type": "code",
   "execution_count": 7,
   "metadata": {},
   "outputs": [
    {
     "data": {
      "text/plain": [
       "3340.277777777778"
      ]
     },
     "execution_count": 7,
     "metadata": {},
     "output_type": "execute_result"
    }
   ],
   "source": [
    "An = wn * t1*2\n",
    "An"
   ]
  },
  {
   "cell_type": "markdown",
   "metadata": {},
   "source": [
    "## 20mm Plate (Inner Plate)\n",
    "\n",
    "The following figure  shows the possible failure paths for calculating the strength of the 20mm plate.\n",
    "For this case, the loaded side is toward the left.\n",
    "\n",
    "![Failure Paths for Net Area Calculations, Inside (20mm) plate](images/paths-2i.svg)\n",
    "\n",
    "**Failure Paths for Net Area Calculations, Inside (20mm) plate**"
   ]
  },
  {
   "cell_type": "markdown",
   "metadata": {},
   "source": [
    "### Path 1-1:"
   ]
  },
  {
   "cell_type": "code",
   "execution_count": 8,
   "metadata": {},
   "outputs": [
    {
     "data": {
      "text/plain": [
       "186.0"
      ]
     },
     "execution_count": 8,
     "metadata": {},
     "output_type": "execute_result"
    }
   ],
   "source": [
    "wn_11 = wg - ha\n",
    "wn_11"
   ]
  },
  {
   "cell_type": "markdown",
   "metadata": {},
   "source": [
    "### Path 2-2:"
   ]
  },
  {
   "cell_type": "code",
   "execution_count": 9,
   "metadata": {},
   "outputs": [
    {
     "data": {
      "text/plain": [
       "174.5"
      ]
     },
     "execution_count": 9,
     "metadata": {},
     "output_type": "execute_result"
    }
   ],
   "source": [
    "wn_22 = wg - 2*ha + s1**2/(4*g2)\n",
    "wn_22"
   ]
  },
  {
   "cell_type": "markdown",
   "metadata": {},
   "source": [
    "### Path 2-3:"
   ]
  },
  {
   "cell_type": "code",
   "execution_count": 10,
   "metadata": {},
   "outputs": [
    {
     "data": {
      "text/plain": [
       "157.07894736842104"
      ]
     },
     "execution_count": 10,
     "metadata": {},
     "output_type": "execute_result"
    }
   ],
   "source": [
    "wn_23 = wg - 3*ha + s1**2/(4*g2) + s1**2/(4*(g3+g4))\n",
    "wn_23"
   ]
  },
  {
   "cell_type": "markdown",
   "metadata": {},
   "source": [
    "### Path 1-3:\n",
    "\n",
    "By inspection this should not govern, as path 1-1 is longer than 2-2, therefore 1-3 will be longer than 2-3."
   ]
  },
  {
   "cell_type": "code",
   "execution_count": 11,
   "metadata": {},
   "outputs": [
    {
     "data": {
      "text/plain": [
       "168.57894736842104"
      ]
     },
     "execution_count": 11,
     "metadata": {},
     "output_type": "execute_result"
    }
   ],
   "source": [
    "wn_13 = wg - 2*ha + s1**2/(4*(g3+g4))\n",
    "wn_13"
   ]
  },
  {
   "cell_type": "markdown",
   "metadata": {},
   "source": [
    "### Summary\n",
    "\n",
    "The shortest path (minimum $w_n$) governs, and so the net area, $A_n$, of the 20 mm plate is:"
   ]
  },
  {
   "cell_type": "code",
   "execution_count": 12,
   "metadata": {},
   "outputs": [
    {
     "data": {
      "text/plain": [
       "157.07894736842104"
      ]
     },
     "execution_count": 12,
     "metadata": {},
     "output_type": "execute_result"
    }
   ],
   "source": [
    "wn = min(wn_11,wn_22,wn_23,wn_13)\n",
    "wn"
   ]
  },
  {
   "cell_type": "code",
   "execution_count": 13,
   "metadata": {},
   "outputs": [
    {
     "data": {
      "text/plain": [
       "3141.578947368421"
      ]
     },
     "execution_count": 13,
     "metadata": {},
     "output_type": "execute_result"
    }
   ],
   "source": [
    "An = wn * t2\n",
    "An"
   ]
  },
  {
   "cell_type": "code",
   "execution_count": null,
   "metadata": {},
   "outputs": [],
   "source": []
  }
 ],
 "metadata": {
  "kernelspec": {
   "display_name": "Python 3",
   "language": "python",
   "name": "python3"
  },
  "language_info": {
   "codemirror_mode": {
    "name": "ipython",
    "version": 3
   },
   "file_extension": ".py",
   "mimetype": "text/x-python",
   "name": "python",
   "nbconvert_exporter": "python",
   "pygments_lexer": "ipython3",
   "version": "3.6.7"
  }
 },
 "nbformat": 4,
 "nbformat_minor": 2
}
