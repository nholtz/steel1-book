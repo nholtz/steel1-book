{
 "cells": [
  {
   "cell_type": "markdown",
   "metadata": {},
   "source": [
    "## Programming Style 1\n",
    "\n",
    "This book is intended to teach 3rd year Civil Engineering students about the design\n",
    "of structural steel components.\n",
    "\n",
    "It is not intended to teach Python programming, though it is hoped that eventally\n",
    "they will be able to make small modifications to the notebooks and see the effect.\n",
    "\n",
    "This document is an attempt to show alternative Python programming styles, and to compare them.\n",
    "\n",
    "The base documents from which the students are working will almost\n",
    "always use single character identifiers to refer to various physical quantities.  Therefore\n",
    "there will be a lot of overloading.  For example, _t_ is always a thickness, but context will\n",
    "tell what thickness it is referring to at any particular instant.\n",
    "\n",
    "I think it important that the Python code mimic this as closely as is practical. \n",
    "But the important part is that the Python not get in the way of understanding the engineering."
   ]
  },
  {
   "cell_type": "markdown",
   "metadata": {},
   "source": [
    "### Problem Characteristics\n",
    "\n",
    "Problems are mostly to compute strengths of specialized physical objects made of structural steel.  \n",
    "These are the general characteristics:\n",
    "\n",
    "* The most simple problems will have 5 to 10 parameters (usually single numbers specifying a dimension\n",
    "  of a part, or a material characteristic, or a force, or an option, etc.).  The most complex problems \n",
    "  may have up to 30 or 40 or so parameters.\n",
    "* In the most complex problems, these parameters may be spread over 5 or 10 different physical parts \n",
    "  and a couple of different materials.  Multiple parts could have dimensions that are  typically \n",
    "  referred to using the same name, for example _thickness_, and denoted using the same symbol, _t_.\n",
    "* Calculations involve fairly small amounts of logic to calculate each specific quantity. Usually that\n",
    "  logic is easily expressible in only a few lines of Python.\n",
    "* Simple problems may have 5 sets of these calculations; complex problems may have 30 or 40.\n",
    "* The notebook structure is ideal for this, with one calculation set per cell and explanatory\n",
    "  material between.\n",
    "* This is all to support what we call \"design\" - determining the proper sizes of an object\n",
    "  for structural safety.  In all but the simplest cases, this is a trial and error process: \n",
    "  guess at a set of parameters, calculate a strength; if not adequate, change something and \n",
    "  do it all over.\n",
    "* Mostly, the calculations are specified by very specific and precise rules and formulae that \n",
    "  cover many common cases.  In our case, the document is the \n",
    "  [CSA S16-14 Design of Steel Structures](https://www.scc.ca/en/standardsdb/standards/27714), \n",
    "  supplemented with lecture material and other sets of information.\n",
    "\n",
    "Below we will perform one typical set of calculations to determine the tension strength\n",
    "with respect to a complete fracture of the cross-section (there are other failure modes).\n",
    "In the vocabulary of the profession, we are determining the '_Factored Tension Resistance_'\n",
    "of a bolted tension member\n",
    "\n",
    "We will show a number of different ways of structuring the Python to do this, and\n",
    "discuss the relative merits of each.\n",
    "\n",
    "**My favorite is currently Alternative 4b - using the 'with' statement.**\n",
    "\n",
    "-----------------------\n",
    "-----------------------\n"
   ]
  },
  {
   "cell_type": "markdown",
   "metadata": {},
   "source": [
    "### Typical Data Definition\n",
    "I think we can agree that we will not use simple global variables to refer to various\n",
    "physical quantities.  In a more complex problem than shown here, we would have\n",
    "```t1```, ```t2```, ```t3``` or ```t_angle```, ```t_gusset```, ```t_plate```, etc.\n",
    "to refer to the various thicknesses.  It becomes unwieldy and makes the code less re-usable.\n",
    "\n",
    "So the first step is to use normal Python  objects, and use \n",
    "attribute values to store the data.  These are essentially just a way of providing multiple\n",
    "namespaces (i.e., associating a particular value of _t_ with the correct object)."
   ]
  },
  {
   "cell_type": "code",
   "execution_count": 1,
   "metadata": {
    "tags": [
     "hide_input"
    ]
   },
   "outputs": [],
   "source": [
    "class Part:\n",
    "    def __init__(self,doc,**kw):\n",
    "        self.__doc__ = doc\n",
    "        self.__dict__.update(kw)"
   ]
  },
  {
   "cell_type": "code",
   "execution_count": 2,
   "metadata": {},
   "outputs": [],
   "source": [
    "Steel = Part( \"Material for Angles\",\n",
    "            grade = \"CSA G40.21 350W\",\n",
    "            Fy = 350,      # yield strength, MPa = N/mm^2\n",
    "            Fu = 450,      # ultimate strength, MPa\n",
    "            )\n",
    "\n",
    "AngleB7 = Part( \"Brace B-7\",\n",
    "            size = \"L152x102x16\",\n",
    "            d = 152,        # width of longest leg, mm\n",
    "            b = 102,        # width of shortest leg\n",
    "            t = 15.9,       # thickness\n",
    "            A = 3780,       # gross cross-sectional area, mm^2\n",
    "            hd = 24,        # bolt hole diameter allowance\n",
    "            nbolts = 4,     # number of bolts in direction of load\n",
    "            )\n",
    "phi = 0.9        # CSA S16-14 13.1\n",
    "phiu = 0.75"
   ]
  },
  {
   "cell_type": "markdown",
   "metadata": {},
   "source": [
    "### Alternative 1:\n",
    "We just refer to attributes of the objects using the normal Python dot notation.\n",
    "Nothing special."
   ]
  },
  {
   "cell_type": "code",
   "execution_count": 3,
   "metadata": {},
   "outputs": [
    {
     "data": {
      "text/plain": [
       "917.5680000000001"
      ]
     },
     "execution_count": 3,
     "metadata": {},
     "output_type": "execute_result"
    }
   ],
   "source": [
    "An = AngleB7.A - AngleB7.hd*AngleB7.t  # net x-sect area is gross area minus allowance for one hole\n",
    "if AngleB7.nbolts >= 4:         # CSA S16-14 12.3.3.2 b)\n",
    "    Ane = 0.8*An                #                        i)\n",
    "else:\n",
    "    Ane = 0.6*An                #                        ii)\n",
    "Tr = phiu*Ane*Steel.Fu\n",
    "Tr * 1E-3    # convert to kN"
   ]
  },
  {
   "cell_type": "markdown",
   "metadata": {},
   "source": [
    "### Alternative 1u:\n",
    "Essentially the same as the code above, but use the ```pint``` units module to associate units with the\n",
    "quantities.  This makes it more readable  and explicit for students\n",
    "and safer (the unit conversions, if required, are explicit) Compare this with the implicit conversion\n",
    "requiring a comment, above."
   ]
  },
  {
   "cell_type": "code",
   "execution_count": 4,
   "metadata": {},
   "outputs": [],
   "source": [
    "import pint                  # setup to use the module for computing with units\n",
    "ureg = pint.UnitRegistry()\n",
    "mm = ureg['mm']\n",
    "kN = ureg['kN']\n",
    "MPa = ureg['MPa']\n",
    "ureg.default_format = '~P'"
   ]
  },
  {
   "cell_type": "code",
   "execution_count": 5,
   "metadata": {},
   "outputs": [],
   "source": [
    "Steel = Part( \"Material for Angles\",\n",
    "            grade = \"CSA G40.21 350W\",\n",
    "            Fy = 350*MPa,      # yield strength\n",
    "            Fu = 450*MPa,      # ultimate strength\n",
    "            )\n",
    "\n",
    "AngleB7 = Part( \"Brace B-7\",\n",
    "            size = \"L152x102x16\",\n",
    "            d = 152*mm,        # width of longest leg\n",
    "            b = 102*mm,        # width of shortest leg\n",
    "            t = 15.9*mm,       # thickness\n",
    "            A = 3780*mm*mm,    # gross cross-sectional area\n",
    "            hd = 24*mm,        # bolt hole diameter allowance\n",
    "            nbolts = 4,        # number of bolts in direction of load\n",
    "            )"
   ]
  },
  {
   "cell_type": "code",
   "execution_count": 6,
   "metadata": {},
   "outputs": [
    {
     "data": {
      "text/html": [
       "\\[917.5680000000001\\ kN\\]"
      ],
      "text/latex": [
       "$917.5680000000001\\ \\mathrm{kN}$"
      ],
      "text/plain": [
       "917.5680000000001 kN"
      ]
     },
     "execution_count": 6,
     "metadata": {},
     "output_type": "execute_result"
    }
   ],
   "source": [
    "An = AngleB7.A - AngleB7.hd*AngleB7.t  # net x-sect area is gross area minus allowance for one hole\n",
    "if AngleB7.nbolts >= 4:         # CSA S16-14 12.3.3.2 b)\n",
    "    Ane = 0.8*An                #                        i)\n",
    "else:\n",
    "    Ane = 0.6*An                #                        ii)\n",
    "Tr = phiu*Ane*Steel.Fu          # CSA S16-14 13.2 a) iii)\n",
    "Tr.to(kN)"
   ]
  },
  {
   "cell_type": "markdown",
   "metadata": {},
   "source": [
    "**Pros:**\n",
    "* bog-standard Python, no additional libraries/concepts required.  Students should be able to \n",
    "understand all the Python bits after their first course.\n",
    "* small number of global variables (2, in this case), with smaller chance of them being \n",
    "  inadvertently stepped on in the notebook.\n",
    "* very explicit.  there is no doubt what part the _t_ belongs to in the first line.\n",
    "\n",
    "**Cons:**\n",
    "* harder to read with all those extra (and usually extraneous) identifiers in the expressions.  \n",
    "  As expressions get more complex, this gets worse.\n",
    "* detracts from re-useability of the code.  If this is copied to serve another part, it\n",
    "  will have to be edited.\n",
    "  Defining functions to do the calculations is problematic as well - see Alternative xx."
   ]
  },
  {
   "cell_type": "markdown",
   "metadata": {},
   "source": [
    "### Alternative 2a:\n",
    "Extract the required attribute values into global variables at the start of each cell."
   ]
  },
  {
   "cell_type": "code",
   "execution_count": 7,
   "metadata": {},
   "outputs": [
    {
     "data": {
      "text/html": [
       "\\[917.5680000000001\\ kN\\]"
      ],
      "text/latex": [
       "$917.5680000000001\\ \\mathrm{kN}$"
      ],
      "text/plain": [
       "917.5680000000001 kN"
      ]
     },
     "execution_count": 7,
     "metadata": {},
     "output_type": "execute_result"
    }
   ],
   "source": [
    "Ag = AngleB7.A\n",
    "hd = AngleB7.hd\n",
    "t = AngleB7.t\n",
    "n = AngleB7.nbolts\n",
    "Fu = Steel.Fu\n",
    "\n",
    "An = Ag - hd*t                # net x-sect area is gross area minus allowance for one hole\n",
    "if n >= 4:                    # CSA S16-14 12.3.3.2 b)\n",
    "    Ane = 0.8*An\n",
    "else:\n",
    "    Ane = 0.6*An\n",
    "Tr = phiu*Ane*Fu              # CSA S16-14 13.2 a) iii)\n",
    "Tr.to(kN)"
   ]
  },
  {
   "cell_type": "markdown",
   "metadata": {},
   "source": [
    "**Pros:**\n",
    "- pretty well the same as the above Alternative 1, plus\n",
    "- the actual computation expressions are much more similar to the actual expressions in S16.  For example,\n",
    "  the computation of $T_r$ is specified as '$T_r = \\phi_u A_{ne} F_u$' in S16 and expressed in the\n",
    "  code as ```Tr = phiu*Ane*Fu```.  The mapping from one to the other is pretty straightforward.  The code is\n",
    "  much easier to read than in Alternative 1.\n",
    "  \n",
    "**Cons:**\n",
    "- adds quite a few lines of code to each cell - most of it not conceptually very useful (though the\n",
    "  mapping from attribute to variable is useful knowledge for the reader).\n",
    "- this is a biggy -- we have introduced and rely on global variables, even though it is intended that the\n",
    "  scope of most of these (```Fu``` for example) extend only over the one cell.\n",
    "- Global variables are easy to forget.  If we do a computation later that requires a\n",
    "  different _t_ from a different part and if we forget to extract it properly, the wrong\n",
    "  value will be silently used.  **This is deadly**."
   ]
  },
  {
   "cell_type": "markdown",
   "metadata": {},
   "source": [
    "### Alternative 2b:\n",
    "\n",
    "We can arrange some simple functionality so that the extraction of attributes\n",
    "to global variables can be done more compactly."
   ]
  },
  {
   "cell_type": "code",
   "execution_count": 8,
   "metadata": {
    "tags": [
     "hide_input"
    ]
   },
   "outputs": [],
   "source": [
    "def get(names,obj):\n",
    "    return [getattr(obj,name.strip()) for name in names.split(',')]"
   ]
  },
  {
   "cell_type": "code",
   "execution_count": 9,
   "metadata": {},
   "outputs": [
    {
     "data": {
      "text/html": [
       "\\[917.5680000000001\\ kN\\]"
      ],
      "text/latex": [
       "$917.5680000000001\\ \\mathrm{kN}$"
      ],
      "text/plain": [
       "917.5680000000001 kN"
      ]
     },
     "execution_count": 9,
     "metadata": {},
     "output_type": "execute_result"
    }
   ],
   "source": [
    "Ag,hd,t,n = get('A,hd,t,nbolts',AngleB7)\n",
    "Fu = Steel.Fu\n",
    "\n",
    "An = Ag - hd*t                # net x-sect area is gross minus allowance for one hole\n",
    "if n >= 4:                    # CSA S16-14 12.3.3.2 b)\n",
    "    Ane = 0.8*An\n",
    "else:\n",
    "    Ane = 0.6*An\n",
    "Tr = phiu*Ane*Fu              # CSA S16-14 13.2 a) iii)\n",
    "Tr.to(kN)"
   ]
  },
  {
   "cell_type": "markdown",
   "metadata": {},
   "source": [
    "**Pros:**\n",
    "* pretty well the same as above, plus\n",
    "* fairly compact and explicit extraction of the values needed for this cell.\n",
    "* not a lot of conceptual overhead.  It is pretty easy to learn what the 'get' function\n",
    "  does, and how multiple values are assigned to multiple variables,\n",
    "  so students should be able to work past this with little trouble.\n",
    "* variables can be renamed to better suit the problem (eg 'Ag' vs 'A' and 'n' vs 'nbolts').\n",
    "\n",
    "**Cons:**\n",
    "* As above. Global variables are evil when they shouldn't be global."
   ]
  },
  {
   "cell_type": "markdown",
   "metadata": {},
   "source": [
    "### Alternative 2c\n",
    "Here we make the ```get``` function a bit more complex in order to provide a sort of 'inheritance'.  We can now provide\n",
    "a list of one or more parts, and these are effectively searched to provide the attribute values."
   ]
  },
  {
   "cell_type": "code",
   "execution_count": 10,
   "metadata": {
    "tags": [
     "hide_input"
    ]
   },
   "outputs": [],
   "source": [
    "def get(names,*objs):\n",
    "    _d = {}\n",
    "    for obj in reversed(objs):   # reverse order makes leftmost highest priority\n",
    "        _d.update(obj.__dict__)\n",
    "    return [_d[name.strip()] for name in names.split(',')]"
   ]
  },
  {
   "cell_type": "markdown",
   "metadata": {},
   "source": [
    "The above implementation effectively has the search for each attribute proceeding from left to right.  If an attribute \n",
    "is found in more than one object, the leftmost object is used.  I don't know if this is correct."
   ]
  },
  {
   "cell_type": "code",
   "execution_count": 11,
   "metadata": {},
   "outputs": [
    {
     "data": {
      "text/html": [
       "\\[917.5680000000001\\ kN\\]"
      ],
      "text/latex": [
       "$917.5680000000001\\ \\mathrm{kN}$"
      ],
      "text/plain": [
       "917.5680000000001 kN"
      ]
     },
     "execution_count": 11,
     "metadata": {},
     "output_type": "execute_result"
    }
   ],
   "source": [
    "Ag,hd,t,n,Fu = get('A,hd,t,nbolts,Fu',AngleB7,Steel)\n",
    "\n",
    "An = Ag - hd*t                # net x-sect area is gross area minus allowance for one hole\n",
    "if n >= 4:                    # CSA S16-14 12.3.3.2 b)\n",
    "    Ane = 0.8*An\n",
    "else:\n",
    "    Ane = 0.6*An\n",
    "Tr = phiu*Ane*Fu              # CSA S16-14 13.2 a) iii)\n",
    "Tr.to(kN)"
   ]
  },
  {
   "cell_type": "markdown",
   "metadata": {},
   "source": [
    "**Pros:**\n",
    "* much the same as the other Alternative 2s, above, plus:\n",
    "* ability to get some inheritance.  For example, ```Steel``` is to give the properties of all\n",
    "  angles, except ```Fu``` could be transparently over-ridden by ```AngleB7``` - a sort of inheritance.\n",
    "\n",
    "**Cons:**\n",
    "* pretty much the same as Alternative 2a and 2b."
   ]
  },
  {
   "cell_type": "markdown",
   "metadata": {},
   "source": [
    "### Alternative 4a\n",
    "Make a context manager that will be executed by the Python ```with``` statement.   The \n",
    "context manager will inject all attribute values\n",
    "into the global namespace at the beginning of the block, and undo all those changes\n",
    "at the end of the block.  Could even make them produce warnings if values are over-ridden\n",
    "(for example, if ```t``` was aleady defined before the beginning of the block) \n",
    "(we don't currently do that)."
   ]
  },
  {
   "cell_type": "code",
   "execution_count": 12,
   "metadata": {
    "tags": [
     "hide_input"
    ]
   },
   "outputs": [],
   "source": [
    "class Set_and_Clean:\n",
    "    def __init__(self,dct,parts):\n",
    "        self.dct = dct\n",
    "        self.parts = parts\n",
    "        self._reset()\n",
    "    def _reset(self):\n",
    "        self.oldvars = {}\n",
    "        self.newvars = []\n",
    "    def __enter__(self):\n",
    "        self._reset()\n",
    "        ns = get_ipython().user_ns\n",
    "        for k,v in self.dct.items():\n",
    "            if k in ns:\n",
    "                self.oldvars[k] = ns[k]\n",
    "            else:\n",
    "                self.newvars.append(k)\n",
    "            ns[k] = v\n",
    "    def __exit__(self,*args):\n",
    "        ns = get_ipython().user_ns\n",
    "        for k,v in self.oldvars.items():\n",
    "            ns[k] = v\n",
    "        for k in self.newvars:\n",
    "            del ns[k]\n",
    "            self._reset()\n",
    "        return False\n",
    "\n",
    "def setvars(*parts):\n",
    "    d = {}\n",
    "    for p in parts:\n",
    "        d.update(p.__dict__)\n",
    "    return Set_and_Clean(d,parts)"
   ]
  },
  {
   "cell_type": "code",
   "execution_count": 13,
   "metadata": {},
   "outputs": [],
   "source": [
    "A = hd = t = nbolts = Fu = None   # demo that these will get set properly and unset"
   ]
  },
  {
   "cell_type": "markdown",
   "metadata": {},
   "source": [
    "In the following, the ```setvars()``` function returns a context manager that injects all attribute values\n",
    "as global variables at the beginning of the block, and removes them and restores previous values at the end."
   ]
  },
  {
   "cell_type": "code",
   "execution_count": 14,
   "metadata": {},
   "outputs": [
    {
     "data": {
      "text/html": [
       "\\[917.5680000000001\\ kN\\]"
      ],
      "text/latex": [
       "$917.5680000000001\\ \\mathrm{kN}$"
      ],
      "text/plain": [
       "917.5680000000001 kN"
      ]
     },
     "execution_count": 14,
     "metadata": {},
     "output_type": "execute_result"
    }
   ],
   "source": [
    "with setvars(Steel,AngleB7):\n",
    "    An = A - hd*t             # net x-sect area is gross area minus allowance for one hole\n",
    "    if nbolts >= 4:           # CSA S16-14 12.3.3.2 b)\n",
    "        Ane = 0.8*An\n",
    "    else:\n",
    "        Ane = 0.6*An\n",
    "    Tr = phiu*Ane*Fu          # CSA S16-14 13.2 a) iii)\n",
    "Tr.to(kN) "
   ]
  },
  {
   "cell_type": "code",
   "execution_count": 15,
   "metadata": {},
   "outputs": [
    {
     "data": {
      "text/plain": [
       "(None, None, None, None, None)"
      ]
     },
     "execution_count": 15,
     "metadata": {},
     "output_type": "execute_result"
    }
   ],
   "source": [
    "A,hd,t,nbolts,Fu    # they were restored back to their original values"
   ]
  },
  {
   "cell_type": "markdown",
   "metadata": {},
   "source": [
    "**Pros:**\n",
    "* by far the most compact and least textual overhead.\n",
    "* scope of some variables is limited.  The value of ```t``` used in this block disappears at\n",
    "the end of the block. This may be **HUGELY** good. (Although new variables like ```Ane```\n",
    "are still permanently injected into the global namespace).\n",
    "* as the objects in the ```with``` statement are processed left-to-right, we get\n",
    "an automatic inheritance mechanism (```Angle87``` over-rides the same named attributes\n",
    "from ```Steel```).  This can also be a bad thing, of course.  And in this implementation, the rightmost\n",
    "object 'wins' which is a different precedence from class inheritance.  Though we could change\n",
    "```setvars()``` to give leftmost objects precence, just like class inheritance.\n",
    "\n",
    "**Cons:**\n",
    "* fair bit of conceptual overhead to understanding this.  It is probably 'advanced' Python.\n",
    "Students will probably not see this in a first course taught to engineers.\n",
    "* cannot rename the variables - must use the attribute names defined in the object (this _may_\n",
    "actually be a good thing).\n",
    "* source of values is not explicit.  For example, where does _t_ come from? From reading just this,\n",
    "you cannot tell whether it is ```Steel.t``` or ```AngleB7.t```\n",
    "* **BIG!** With var names being implicit, its far too easy to get the wrong values.  I had:\n",
    "\n",
    "        with LapPlates,Bolts:\n",
    "            wn = W - nperline*ha\n",
    "            Ane = An = wn*T\n",
    "            Tr = phiu*Ane*Fu          # S16-14: 13.2 a) iii)\n",
    "            REC(Tr,'Lap Plates, Net Fracture','W,T,ha,wn,phiu,Ane,Fu')\n",
    "            \n",
    "  and ```Fu``` was taken from ```Bolts```, whereas it should have been taken from ```LapPlates```.  I guess we need to make the variables explicit for each one."
   ]
  },
  {
   "cell_type": "markdown",
   "metadata": {},
   "source": [
    "### Alternative 4b\n",
    "\n",
    "In Python, it is usually thought that [Explicit is better than implicit](https://www.python.org/dev/peps/pep-0020/). Lets\n",
    "change the implementation of setvars to take an explicit list of symbols.  We'll pull out all the stops and\n",
    "allow explicit renaming and simple expression evaluation.  And also fix the name conflict to use the leftmost."
   ]
  },
  {
   "cell_type": "code",
   "execution_count": 16,
   "metadata": {
    "tags": [
     "hide_input"
    ]
   },
   "outputs": [],
   "source": [
    "def setvars2(names,*parts):\n",
    "    _d = {}\n",
    "    dct = {}\n",
    "    for p in reversed(parts):\n",
    "        _d.update(p.__dict__)\n",
    "    ns = get_ipython().user_ns\n",
    "    for name in [x.strip() for x in names.split(',')]:\n",
    "        if name:\n",
    "            if '=' in name:\n",
    "                name,rhs = [x.strip() for x in name.split('=',1)]\n",
    "                val = eval(rhs,ns,_d)\n",
    "            else:\n",
    "                val = _d[name]            \n",
    "            dct[name] = val\n",
    "    return Set_and_Clean(dct,parts)"
   ]
  },
  {
   "cell_type": "code",
   "execution_count": 17,
   "metadata": {},
   "outputs": [
    {
     "data": {
      "text/html": [
       "\\[917.5680000000001\\ kN\\]"
      ],
      "text/latex": [
       "$917.5680000000001\\ \\mathrm{kN}$"
      ],
      "text/plain": [
       "917.5680000000001 kN"
      ]
     },
     "execution_count": 17,
     "metadata": {},
     "output_type": "execute_result"
    }
   ],
   "source": [
    "with setvars2('t,hd,Fu,n=nbolts,Ag=A',Steel,AngleB7):\n",
    "    An = Ag - hd*t         # net x-sect area is gross area minus allowance for one hole\n",
    "    if n >= 4:           # CSA S16-14 12.3.3.2 b)\n",
    "        Ane = 0.8*An\n",
    "    else:\n",
    "        Ane = 0.6*An\n",
    "    Tr = phiu*Ane*Fu          # CSA S16-14 13.2 a) iii)\n",
    "Tr.to(kN) "
   ]
  },
  {
   "cell_type": "markdown",
   "metadata": {},
   "source": [
    "**Pros:**\n",
    "- about the same as above, plus\n",
    "- variables extracted and set are now explicit at the top of each block, with chance for some error checking\n",
    "\n",
    "**Cons:**\n",
    "- tiny bit more complexity / conceptual overhead.  But I think outweighed by clarity and explictness."
   ]
  },
  {
   "cell_type": "markdown",
   "metadata": {},
   "source": [
    "Can even have multiple calls to ``setvars()`` so you know _exactly_ where each variable comes from.\n",
    "This will change the precedence order when the same attribute is defined in more than object, but at\n",
    "least it is explicit."
   ]
  },
  {
   "cell_type": "code",
   "execution_count": 18,
   "metadata": {},
   "outputs": [
    {
     "data": {
      "text/html": [
       "\\[1835.1360000000002\\ kN\\]"
      ],
      "text/latex": [
       "$1835.1360000000002\\ \\mathrm{kN}$"
      ],
      "text/plain": [
       "1835.1360000000002 kN"
      ]
     },
     "execution_count": 18,
     "metadata": {},
     "output_type": "execute_result"
    }
   ],
   "source": [
    "with setvars2('Fu',Steel),setvars2('t,hd,n=nbolts,Ag=A,N=2',AngleB7):\n",
    "    An = Ag - hd*t         # net x-sect area is gross area minus allowance for one hole\n",
    "    if n >= 4:           # CSA S16-14 12.3.3.2 b)\n",
    "        Ane = 0.8*An\n",
    "    else:\n",
    "        Ane = 0.6*An\n",
    "    Tr = phiu*Ane*Fu * N         # CSA S16-14 13.2 a) iii)\n",
    "Tr.to(kN)"
   ]
  },
  {
   "cell_type": "markdown",
   "metadata": {},
   "source": [
    "### Alternative 5\n",
    "Have all computations done in a function, where the parameter list names the local values.  Then you can write a little utility that automatically extracts the values from the objects:"
   ]
  },
  {
   "cell_type": "code",
   "execution_count": 19,
   "metadata": {
    "tags": [
     "hide_input"
    ]
   },
   "outputs": [],
   "source": [
    "import inspect\n",
    "\n",
    "def call(fn,*objs,**kw):\n",
    "    _d = {}\n",
    "    for o in reversed(objs):\n",
    "        _d.update(o.__dict__)\n",
    "    argspec = inspect.getfullargspec(fn)\n",
    "    args = [(arg,kw.get(arg,arg)) for arg in argspec.args]\n",
    "    dct = {}\n",
    "    for argname,attrname in args:\n",
    "        if attrname in _d:\n",
    "            dct[argname] = _d[attrname]\n",
    "    return fn(**dct)"
   ]
  },
  {
   "cell_type": "code",
   "execution_count": 20,
   "metadata": {},
   "outputs": [
    {
     "data": {
      "text/html": [
       "\\[917.5680000000001\\ kN\\]"
      ],
      "text/latex": [
       "$917.5680000000001\\ \\mathrm{kN}$"
      ],
      "text/plain": [
       "917.5680000000001 kN"
      ]
     },
     "execution_count": 20,
     "metadata": {},
     "output_type": "execute_result"
    }
   ],
   "source": [
    "def fun1(Ag,hd,t,n,Fu=350):\n",
    "    An = Ag - hd*t       # net x-sect area is gross minus allowance for one hole\n",
    "    if n >= 4:           # CSA S16-14 12.3.3.2 b)\n",
    "        Ane = 0.8*An\n",
    "    else:\n",
    "        Ane = 0.6*An\n",
    "    Tr = phiu*Ane*Fu     # CSA S16-14 13.2 a) iii)\n",
    "    return Tr.to(kN)\n",
    "\n",
    "call(fun1, Steel, AngleB7, n='nbolts', Ag='A')   # or something like this"
   ]
  },
  {
   "cell_type": "markdown",
   "metadata": {},
   "source": [
    "**Pros:**\n",
    "* explicitly limited scope of variables, including newly created ones like ```Ane```.\n",
    "* can nicely provide default values\n",
    "* reasonably easy to remap attribute names ('nbolts' to 'n', for eg).\n",
    "\n",
    "**Cons:**\n",
    "* Not expecially simple - adds a bit of conceptual overhead - perhaps more so than some of the above.\n",
    "* difficult to tell where values come from.  Does 'Fu' come from Steel or AngleB7?\n",
    "* I don't like it."
   ]
  },
  {
   "cell_type": "markdown",
   "metadata": {},
   "source": [
    "## Random notes\n",
    "\n",
    "1. The problem is in mapping general concepts, like $t$ and _thickness_, to symbols used in the code, without introducing\n",
    "   too much baggage.\n",
    "1. we are really trying to get cell-level scope for certain variables.\n",
    "1. or Cell-level namespaces.\n",
    "1. I wonder if this could be down with 'magics'?\n",
    "1. the context manager could interact with the DesignNotes object - maybe make it a method.\n",
    "   Could automatically capture before and after variable values, the 'design var' value,\n",
    "   note any changed variables, including the design var, etc...  Have option to trace variables in addition to those set.\n",
    "   print a trace, etc - just like RECORD ...  I LIKE THIS!!!!!\n",
    "   ```python\n",
    "    notes = DesignNotes('Tr',trace=True,title='Big Hairy Brace')\n",
    "    SET = notes.setvars\n",
    "    ...\n",
    "    with SET('x,y',Foo,Bar,...,title='Bearing Resistance',extra='z'):\n",
    "        Br = x+y+z\n",
    "        Tr = Br\n",
    "    ```\n",
    "    In fact, maybe the design object itself is the context maanager - no need for additional class.\n",
    "    In fact, maybe this SET method could be used outside a ```with``` with slightly reduced functionality.\n",
    "    \n",
    "    Could also have a list of symbols that are not initialized at beginning but are removed at end ('_Ane_' for example).\n",
    "    Maybe this is the same list as 'extra'?\n",
    "    \n",
    "    Also need an option NOT to log anything (sometimes want nested WITH statements so they dont get too long)."
   ]
  },
  {
   "cell_type": "code",
   "execution_count": null,
   "metadata": {},
   "outputs": [],
   "source": []
  }
 ],
 "metadata": {
  "kernelspec": {
   "display_name": "Python 3",
   "language": "python",
   "name": "python3"
  },
  "language_info": {
   "codemirror_mode": {
    "name": "ipython",
    "version": 3
   },
   "file_extension": ".py",
   "mimetype": "text/x-python",
   "name": "python",
   "nbconvert_exporter": "python",
   "pygments_lexer": "ipython3",
   "version": "3.7.5"
  }
 },
 "nbformat": 4,
 "nbformat_minor": 4
}
