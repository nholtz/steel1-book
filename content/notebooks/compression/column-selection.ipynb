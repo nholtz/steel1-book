{
 "cells": [
  {
   "cell_type": "code",
   "execution_count": 1,
   "metadata": {
    "collapsed": false
   },
   "outputs": [],
   "source": [
    "from Designer import sst\n",
    "from utils import sfround\n",
    "from math import sqrt, pi, ceil, log10\n",
    "SST = sst.SST()"
   ]
  },
  {
   "cell_type": "code",
   "execution_count": 3,
   "metadata": {
    "collapsed": false
   },
   "outputs": [],
   "source": [
    "wtable = SST.section_tables(['W','WWF']).sort_values(by='Mass')"
   ]
  },
  {
   "cell_type": "code",
   "execution_count": 4,
   "metadata": {
    "collapsed": true
   },
   "outputs": [],
   "source": [
    "phi = 0.9\n",
    "E = 200000.\n",
    "def searchW(Shp,Use,BT,HW,A,Rx,Ry,B,T,D,W,KLx=0.,KLy=0.,Cf=0.,Fy=345.):\n",
    "    if Shp not in [1,5]:\n",
    "        return False\n",
    "    if Use not in [1,2]:\n",
    "        return False\n",
    "    Ae = A\n",
    "    H = D - 2.*T\n",
    "    flag = ''\n",
    "    if BT > 200./sqrt(Fy):\n",
    "        Be = (200./sqrt(Fy))*(2.*T)\n",
    "        Ae -= 2.*(B-Be)*T\n",
    "        flag += 'F'\n",
    "    if HW > 670./sqrt(Fy):\n",
    "        He = (670./sqrt(Fy))*W\n",
    "        Ae -= (H-He)*W\n",
    "        flag += 'W'\n",
    "    klr = max(KLx/Rx,KLy/Ry)\n",
    "    Fe = pi*pi*E/(klr**2)\n",
    "    lamda = sqrt(Fy/Fe)\n",
    "    n = 2.24 if Shp == 5 else 1.34\n",
    "    Cr = phi*Ae*Fy/(1+lamda**(2*n))**(1./n) * 1E-3\n",
    "    if Cr < Cf:\n",
    "        return False\n",
    "    return {'Cr':sfround(Cr),'LBFlag':flag}"
   ]
  },
  {
   "cell_type": "code",
   "execution_count": 5,
   "metadata": {
    "collapsed": false,
    "scrolled": true
   },
   "outputs": [],
   "source": [
    "r = SST.select(wtable,searchW,maxn=10,Cf=3000.,KLx=13000.,KLy=6500.,Fy=345.)"
   ]
  },
  {
   "cell_type": "code",
   "execution_count": 6,
   "metadata": {
    "collapsed": false
   },
   "outputs": [
    {
     "data": {
      "text/html": [
       "<div>\n",
       "<table border=\"1\" class=\"dataframe\">\n",
       "  <thead>\n",
       "    <tr style=\"text-align: right;\">\n",
       "      <th></th>\n",
       "      <th>Mass</th>\n",
       "      <th>A</th>\n",
       "      <th>Rx</th>\n",
       "      <th>Ry</th>\n",
       "      <th>Cr</th>\n",
       "      <th>LBFlag</th>\n",
       "    </tr>\n",
       "    <tr>\n",
       "      <th>Dsg</th>\n",
       "      <th></th>\n",
       "      <th></th>\n",
       "      <th></th>\n",
       "      <th></th>\n",
       "      <th></th>\n",
       "      <th></th>\n",
       "    </tr>\n",
       "  </thead>\n",
       "  <tbody>\n",
       "    <tr>\n",
       "      <th>WWF350x137</th>\n",
       "      <td>137.0</td>\n",
       "      <td>17500.0</td>\n",
       "      <td>153.0</td>\n",
       "      <td>90.3</td>\n",
       "      <td>3500.0</td>\n",
       "      <td></td>\n",
       "    </tr>\n",
       "    <tr>\n",
       "      <th>W360x147</th>\n",
       "      <td>147.0</td>\n",
       "      <td>18800.0</td>\n",
       "      <td>157.0</td>\n",
       "      <td>94.3</td>\n",
       "      <td>3160.0</td>\n",
       "      <td></td>\n",
       "    </tr>\n",
       "    <tr>\n",
       "      <th>WWF350x155</th>\n",
       "      <td>155.0</td>\n",
       "      <td>19800.0</td>\n",
       "      <td>151.0</td>\n",
       "      <td>89.1</td>\n",
       "      <td>3890.0</td>\n",
       "      <td></td>\n",
       "    </tr>\n",
       "    <tr>\n",
       "      <th>WWF400x157</th>\n",
       "      <td>157.0</td>\n",
       "      <td>20100.0</td>\n",
       "      <td>176.0</td>\n",
       "      <td>103.0</td>\n",
       "      <td>4690.0</td>\n",
       "      <td></td>\n",
       "    </tr>\n",
       "    <tr>\n",
       "      <th>W360x162</th>\n",
       "      <td>162.0</td>\n",
       "      <td>20600.0</td>\n",
       "      <td>158.0</td>\n",
       "      <td>94.8</td>\n",
       "      <td>3490.0</td>\n",
       "      <td></td>\n",
       "    </tr>\n",
       "    <tr>\n",
       "      <th>WWF350x176</th>\n",
       "      <td>176.0</td>\n",
       "      <td>22400.0</td>\n",
       "      <td>150.0</td>\n",
       "      <td>89.3</td>\n",
       "      <td>4360.0</td>\n",
       "      <td></td>\n",
       "    </tr>\n",
       "    <tr>\n",
       "      <th>WWF450x177</th>\n",
       "      <td>177.0</td>\n",
       "      <td>22600.0</td>\n",
       "      <td>200.0</td>\n",
       "      <td>116.0</td>\n",
       "      <td>5610.0</td>\n",
       "      <td>FW</td>\n",
       "    </tr>\n",
       "    <tr>\n",
       "      <th>WWF400x178</th>\n",
       "      <td>178.0</td>\n",
       "      <td>22700.0</td>\n",
       "      <td>174.0</td>\n",
       "      <td>102.0</td>\n",
       "      <td>5240.0</td>\n",
       "      <td></td>\n",
       "    </tr>\n",
       "    <tr>\n",
       "      <th>W310x179</th>\n",
       "      <td>179.0</td>\n",
       "      <td>22800.0</td>\n",
       "      <td>140.0</td>\n",
       "      <td>79.5</td>\n",
       "      <td>3340.0</td>\n",
       "      <td></td>\n",
       "    </tr>\n",
       "    <tr>\n",
       "      <th>W360x179</th>\n",
       "      <td>179.0</td>\n",
       "      <td>22800.0</td>\n",
       "      <td>159.0</td>\n",
       "      <td>95.2</td>\n",
       "      <td>3890.0</td>\n",
       "      <td></td>\n",
       "    </tr>\n",
       "  </tbody>\n",
       "</table>\n",
       "</div>"
      ],
      "text/plain": [
       "             Mass        A     Rx     Ry      Cr LBFlag\n",
       "Dsg                                                    \n",
       "WWF350x137  137.0  17500.0  153.0   90.3  3500.0       \n",
       "W360x147    147.0  18800.0  157.0   94.3  3160.0       \n",
       "WWF350x155  155.0  19800.0  151.0   89.1  3890.0       \n",
       "WWF400x157  157.0  20100.0  176.0  103.0  4690.0       \n",
       "W360x162    162.0  20600.0  158.0   94.8  3490.0       \n",
       "WWF350x176  176.0  22400.0  150.0   89.3  4360.0       \n",
       "WWF450x177  177.0  22600.0  200.0  116.0  5610.0     FW\n",
       "WWF400x178  178.0  22700.0  174.0  102.0  5240.0       \n",
       "W310x179    179.0  22800.0  140.0   79.5  3340.0       \n",
       "W360x179    179.0  22800.0  159.0   95.2  3890.0       "
      ]
     },
     "execution_count": 6,
     "metadata": {},
     "output_type": "execute_result"
    }
   ],
   "source": [
    "[] if r.empty else r[['Mass','A','Rx','Ry','Cr','LBFlag']]"
   ]
  },
  {
   "cell_type": "code",
   "execution_count": 7,
   "metadata": {
    "collapsed": false
   },
   "outputs": [],
   "source": [
    "def searchHSS(Shp,Use,DT,BT,A,Rx,Ry,KLx=0.,KLy=0.,Cf=0.,Fy=350.,HClass='C'):\n",
    "    if Shp not in [15,16,17]:\n",
    "        return False\n",
    "    if Use not in [1,2]:\n",
    "        return False\n",
    "    if DT > 670./sqrt(Fy):\n",
    "        return False\n",
    "    klr = max(KLx/Rx,KLy/Ry)\n",
    "    Fe = pi*pi*E/(klr**2)\n",
    "    lamda = sqrt(Fy/Fe)\n",
    "    n = 2.24 if HClass == 'H' else 1.34\n",
    "    Cr = phi*A*Fy*(1+lamda**(2*n))**(-1./n) * 1E-3\n",
    "    if Cr < Cf:\n",
    "        return False\n",
    "    return {'Cr':sfround(Cr)}"
   ]
  },
  {
   "cell_type": "code",
   "execution_count": 9,
   "metadata": {
    "collapsed": false
   },
   "outputs": [],
   "source": [
    "htable = SST.section_tables(['HS']).sort_values(by='Mass')"
   ]
  },
  {
   "cell_type": "code",
   "execution_count": 10,
   "metadata": {
    "collapsed": false
   },
   "outputs": [],
   "source": [
    "rh = SST.select(htable,searchHSS,maxn=10,Cf=3000.,KLx=13000.,KLy=6500.,HClass='C')"
   ]
  },
  {
   "cell_type": "code",
   "execution_count": 11,
   "metadata": {
    "collapsed": false
   },
   "outputs": [
    {
     "data": {
      "text/plain": [
       "[]"
      ]
     },
     "execution_count": 11,
     "metadata": {},
     "output_type": "execute_result"
    }
   ],
   "source": [
    "[] if rh.empty else rh[['Mass','A','Rx','Ry','Cr']]"
   ]
  },
  {
   "cell_type": "code",
   "execution_count": null,
   "metadata": {
    "collapsed": true
   },
   "outputs": [],
   "source": []
  },
  {
   "cell_type": "code",
   "execution_count": null,
   "metadata": {
    "collapsed": true
   },
   "outputs": [],
   "source": []
  }
 ],
 "metadata": {
  "kernelspec": {
   "display_name": "Python 2",
   "language": "python",
   "name": "python2"
  },
  "language_info": {
   "codemirror_mode": {
    "name": "ipython",
    "version": 2
   },
   "file_extension": ".py",
   "mimetype": "text/x-python",
   "name": "python",
   "nbconvert_exporter": "python",
   "pygments_lexer": "ipython2",
   "version": "2.7.6"
  }
 },
 "nbformat": 4,
 "nbformat_minor": 0
}
