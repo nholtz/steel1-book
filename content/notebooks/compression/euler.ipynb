{
 "cells": [
  {
   "cell_type": "code",
   "execution_count": 2,
   "metadata": {
    "collapsed": false
   },
   "outputs": [],
   "source": [
    "from sympy import *\n",
    "init_printing(use_latex='mathjax')"
   ]
  },
  {
   "cell_type": "code",
   "execution_count": 3,
   "metadata": {
    "collapsed": false
   },
   "outputs": [
    {
     "data": {
      "text/latex": [
       "$$\\left ( \\phi, \\quad A, \\quad F_{y}, \\quad F_{e}, \\quad E, \\quad K, \\quad L, \\quad r, \\quad n, \\quad z, \\quad KLr\\right )$$"
      ],
      "text/plain": [
       "(φ, A, F_y, Fₑ, E, K, L, r, n, z, KLr)"
      ]
     },
     "execution_count": 3,
     "metadata": {},
     "output_type": "execute_result"
    }
   ],
   "source": [
    "var('phi A F_y F_e E K L r n z KLr')"
   ]
  },
  {
   "cell_type": "code",
   "execution_count": 5,
   "metadata": {
    "collapsed": false
   },
   "outputs": [
    {
     "data": {
      "text/latex": [
       "$$\\sqrt{\\frac{F_{y}}{F_{e}}}$$"
      ],
      "text/plain": [
       "    _____\n",
       "   ╱ F_y \n",
       "  ╱  ─── \n",
       "╲╱    Fₑ "
      ]
     },
     "execution_count": 5,
     "metadata": {},
     "output_type": "execute_result"
    }
   ],
   "source": [
    "lamda = sqrt(F_y/F_e)\n",
    "lamda"
   ]
  },
  {
   "cell_type": "code",
   "execution_count": 6,
   "metadata": {
    "collapsed": false
   },
   "outputs": [
    {
     "data": {
      "text/latex": [
       "$$A F_{y} \\phi \\left(\\left(\\frac{F_{y}}{F_{e}}\\right)^{n} + 1\\right)^{- \\frac{1}{n}}$$"
      ],
      "text/plain": [
       "                    -1 \n",
       "                    ───\n",
       "                     n \n",
       "        ⎛     n    ⎞   \n",
       "        ⎜⎛F_y⎞     ⎟   \n",
       "A⋅F_y⋅φ⋅⎜⎜───⎟  + 1⎟   \n",
       "        ⎝⎝ Fₑ⎠     ⎠   "
      ]
     },
     "execution_count": 6,
     "metadata": {},
     "output_type": "execute_result"
    }
   ],
   "source": [
    "C_r1 = phi * A * F_y * (1 + lamda**(2*n))**(-1/n)\n",
    "C_r1"
   ]
  },
  {
   "cell_type": "code",
   "execution_count": 7,
   "metadata": {
    "collapsed": false
   },
   "outputs": [
    {
     "data": {
      "text/latex": [
       "$$A F_{e} \\phi$$"
      ],
      "text/plain": [
       "A⋅Fₑ⋅φ"
      ]
     },
     "execution_count": 7,
     "metadata": {},
     "output_type": "execute_result"
    }
   ],
   "source": [
    "C_r2 = phi *A *F_y * lamda**-2\n",
    "C_r2"
   ]
  },
  {
   "cell_type": "code",
   "execution_count": 8,
   "metadata": {
    "collapsed": false
   },
   "outputs": [
    {
     "data": {
      "text/latex": [
       "$$\\frac{F_{e}}{F_{y}} \\left(\\left(\\frac{F_{y}}{F_{e}}\\right)^{n} + 1\\right)^{\\frac{1}{n}}$$"
      ],
      "text/plain": [
       "        ____________\n",
       "       ╱      n     \n",
       "      ╱  ⎛F_y⎞      \n",
       "Fₑ⋅n ╱   ⎜───⎟  + 1 \n",
       "   ╲╱    ⎝ Fₑ⎠      \n",
       "────────────────────\n",
       "        F_y         "
      ]
     },
     "execution_count": 8,
     "metadata": {},
     "output_type": "execute_result"
    }
   ],
   "source": [
    "C_r2/C_r1"
   ]
  },
  {
   "cell_type": "code",
   "execution_count": 9,
   "metadata": {
    "collapsed": false
   },
   "outputs": [
    {
     "data": {
      "text/latex": [
       "$$\\frac{F_{y} z^{2}}{\\pi^{2} E} \\left(\\left(\\frac{F_{y} z^{2}}{\\pi^{2} E}\\right)^{n} + 1\\right)^{- \\frac{1}{n}}$$"
      ],
      "text/plain": [
       "                      -1 \n",
       "                      ───\n",
       "                       n \n",
       "       ⎛        n    ⎞   \n",
       "       ⎜⎛     2⎞     ⎟   \n",
       "     2 ⎜⎜F_y⋅z ⎟     ⎟   \n",
       "F_y⋅z ⋅⎜⎜──────⎟  + 1⎟   \n",
       "       ⎜⎜  2   ⎟     ⎟   \n",
       "       ⎝⎝ π ⋅E ⎠     ⎠   \n",
       "─────────────────────────\n",
       "            2            \n",
       "           π ⋅E          "
      ]
     },
     "execution_count": 9,
     "metadata": {},
     "output_type": "execute_result"
    }
   ],
   "source": [
    "rat=(C_r1/C_r2).subs({F_e:pi*pi*E/z**2})\n",
    "rat"
   ]
  },
  {
   "cell_type": "code",
   "execution_count": 10,
   "metadata": {
    "collapsed": false
   },
   "outputs": [
    {
     "data": {
      "text/latex": [
       "$$\\frac{7 z^{2}}{400 \\pi^{2} \\left(\\frac{0.00442253201255794 \\left(z^{2}\\right)^{1.34}}{\\pi^{2.68}} + 1\\right)^{0.746268656716418}}$$"
      ],
      "text/plain": [
       "                                              -0.746268656716418\n",
       "     ⎛                               1.34    ⎞                  \n",
       "   2 ⎜                     -2.68 ⎛ 2⎞        ⎟                  \n",
       "7⋅z ⋅⎝0.00442253201255794⋅π     ⋅⎝z ⎠     + 1⎠                  \n",
       "────────────────────────────────────────────────────────────────\n",
       "                                  2                             \n",
       "                             400⋅π                              "
      ]
     },
     "execution_count": 10,
     "metadata": {},
     "output_type": "execute_result"
    }
   ],
   "source": [
    "ratw = rat.subs({n:1.34,F_y:350,E:20000})\n",
    "ratw"
   ]
  },
  {
   "cell_type": "code",
   "execution_count": 11,
   "metadata": {
    "collapsed": false
   },
   "outputs": [],
   "source": [
    "f=lambdify((z,),ratw)"
   ]
  },
  {
   "cell_type": "code",
   "execution_count": 12,
   "metadata": {
    "collapsed": false
   },
   "outputs": [
    {
     "data": {
      "text/latex": [
       "$$0.997536389572$$"
      ],
      "text/plain": [
       "0.997536389572"
      ]
     },
     "execution_count": 12,
     "metadata": {},
     "output_type": "execute_result"
    }
   ],
   "source": [
    "f(200)"
   ]
  },
  {
   "cell_type": "code",
   "execution_count": null,
   "metadata": {
    "collapsed": true
   },
   "outputs": [],
   "source": []
  }
 ],
 "metadata": {
  "kernelspec": {
   "display_name": "Python 2",
   "language": "python",
   "name": "python2"
  },
  "language_info": {
   "codemirror_mode": {
    "name": "ipython",
    "version": 2
   },
   "file_extension": ".py",
   "mimetype": "text/x-python",
   "name": "python",
   "nbconvert_exporter": "python",
   "pygments_lexer": "ipython2",
   "version": "2.7.6"
  }
 },
 "nbformat": 4,
 "nbformat_minor": 0
}
