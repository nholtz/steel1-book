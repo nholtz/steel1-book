{
 "cells": [
  {
   "cell_type": "code",
   "execution_count": 1,
   "metadata": {
    "collapsed": false
   },
   "outputs": [],
   "source": [
    "from sympy import *\n",
    "init_printing(use_latex='mathjax')"
   ]
  },
  {
   "cell_type": "code",
   "execution_count": 4,
   "metadata": {
    "collapsed": false
   },
   "outputs": [
    {
     "data": {
      "text/latex": [
       "$$\\left ( E, \\quad z, \\quad F_{y}\\right )$$"
      ],
      "text/plain": [
       "(E, z, F_y)"
      ]
     },
     "execution_count": 4,
     "metadata": {},
     "output_type": "execute_result"
    }
   ],
   "source": [
    "var('E z F_y')"
   ]
  },
  {
   "cell_type": "code",
   "execution_count": 5,
   "metadata": {
    "collapsed": true
   },
   "outputs": [],
   "source": [
    "F_e = pi*pi*E/z**2"
   ]
  },
  {
   "cell_type": "code",
   "execution_count": 6,
   "metadata": {
    "collapsed": false
   },
   "outputs": [
    {
     "data": {
      "text/latex": [
       "$$\\left [ - \\frac{\\sqrt{6} \\pi}{2} \\sqrt{\\frac{E}{F_{y}}}, \\quad \\frac{\\sqrt{6} \\pi}{2} \\sqrt{\\frac{E}{F_{y}}}\\right ]$$"
      ],
      "text/plain": [
       "⎡             _____               _____⎤\n",
       "⎢   ___      ╱  E       ___      ╱  E  ⎥\n",
       "⎢-╲╱ 6 ⋅π⋅  ╱  ───    ╲╱ 6 ⋅π⋅  ╱  ─── ⎥\n",
       "⎢         ╲╱   F_y            ╲╱   F_y ⎥\n",
       "⎢───────────────────, ─────────────────⎥\n",
       "⎣         2                   2        ⎦"
      ]
     },
     "execution_count": 6,
     "metadata": {},
     "output_type": "execute_result"
    }
   ],
   "source": [
    "solve(F_e-2*F_y/3,[z])   # solve Fe = 2*Fy/3"
   ]
  },
  {
   "cell_type": "code",
   "execution_count": 7,
   "metadata": {
    "collapsed": false
   },
   "outputs": [
    {
     "data": {
      "text/latex": [
       "$$\\frac{\\sqrt{6} \\pi}{2} \\sqrt{\\frac{E}{F_{y}}}$$"
      ],
      "text/plain": [
       "            _____\n",
       "  ___      ╱  E  \n",
       "╲╱ 6 ⋅π⋅  ╱  ─── \n",
       "        ╲╱   F_y \n",
       "─────────────────\n",
       "        2        "
      ]
     },
     "execution_count": 7,
     "metadata": {},
     "output_type": "execute_result"
    }
   ],
   "source": [
    "zmin = _[1]\n",
    "zmin"
   ]
  },
  {
   "cell_type": "code",
   "execution_count": 8,
   "metadata": {
    "collapsed": false
   },
   "outputs": [
    {
     "data": {
      "text/latex": [
       "$$91.9764149943856$$"
      ],
      "text/plain": [
       "91.9764149943856"
      ]
     },
     "execution_count": 8,
     "metadata": {},
     "output_type": "execute_result"
    }
   ],
   "source": [
    "zmin.subs({E:200000,F_y:350}).n()"
   ]
  },
  {
   "cell_type": "code",
   "execution_count": null,
   "metadata": {
    "collapsed": true
   },
   "outputs": [],
   "source": []
  }
 ],
 "metadata": {
  "kernelspec": {
   "display_name": "Python 2",
   "language": "python",
   "name": "python2"
  },
  "language_info": {
   "codemirror_mode": {
    "name": "ipython",
    "version": 2
   },
   "file_extension": ".py",
   "mimetype": "text/x-python",
   "name": "python",
   "nbconvert_exporter": "python",
   "pygments_lexer": "ipython2",
   "version": "2.7.6"
  }
 },
 "nbformat": 4,
 "nbformat_minor": 0
}
