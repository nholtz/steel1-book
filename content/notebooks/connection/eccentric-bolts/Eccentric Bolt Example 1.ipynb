{
 "cells": [
  {
   "cell_type": "code",
   "execution_count": 1,
   "metadata": {},
   "outputs": [],
   "source": [
    "from math import exp"
   ]
  },
  {
   "cell_type": "markdown",
   "metadata": {},
   "source": [
    "![f](bolt-group-forces-6x1-eg.svg)"
   ]
  },
  {
   "cell_type": "code",
   "execution_count": 2,
   "metadata": {},
   "outputs": [],
   "source": [
    "Ru = 282.\n",
    "mu = 0.4\n",
    "lamda = 0.55\n",
    "delta_max = 8.64"
   ]
  },
  {
   "cell_type": "code",
   "execution_count": 3,
   "metadata": {},
   "outputs": [],
   "source": [
    "N = 6\n",
    "L = 300.\n",
    "S = 75."
   ]
  },
  {
   "cell_type": "code",
   "execution_count": 4,
   "metadata": {},
   "outputs": [],
   "source": [
    "def compute(ro, N=N, L=L, S=S):\n",
    "    y1 = (N-1)*S/2.\n",
    "    x = ro\n",
    "    r1 = (y1*y1 + x*x)**0.5\n",
    "    sumFy = 0.\n",
    "    sumMic = 0.\n",
    "    for i in range(0,N):\n",
    "        y = y1 - i*S\n",
    "        r = (x*x + y*y)**0.5\n",
    "        delta = (r/r1)*delta_max\n",
    "        R = Ru*(1 - exp(-mu*delta))**lamda\n",
    "        print('i = {:d}  x={:.1f}  y={:.1f},  r={:.1f}  r1={:.1f}  delta={:.4f}  R={:.1f}'.format(i+1,x,y,r,r1,delta,R))\n",
    "        sumMic += R*r\n",
    "        sumFy += R*x/r\n",
    "    Pu = sumMic/(ro+L)\n",
    "    d = sumFy - Pu\n",
    "    print(\" sumM={:.0f}  sumFy={:.0f}  Pu={:.0f}  diff={:.0f}\".format(sumMic,sumFy,Pu,d))\n",
    "    return d"
   ]
  },
  {
   "cell_type": "code",
   "execution_count": 5,
   "metadata": {},
   "outputs": [
    {
     "name": "stdout",
     "output_type": "stream",
     "text": [
      "i = 1  x=80.0  y=187.5,  r=203.9  r1=203.9  delta=8.6400  R=277.1\n",
      "i = 2  x=80.0  y=112.5,  r=138.0  r1=203.9  delta=5.8508  R=266.7\n",
      "i = 3  x=80.0  y=37.5,  r=88.4  r1=203.9  delta=3.7447  R=245.4\n",
      "i = 4  x=80.0  y=-37.5,  r=88.4  r1=203.9  delta=3.7447  R=245.4\n",
      "i = 5  x=80.0  y=-112.5,  r=138.0  r1=203.9  delta=5.8508  R=266.7\n",
      "i = 6  x=80.0  y=-187.5,  r=203.9  r1=203.9  delta=8.6400  R=277.1\n",
      " sumM=229959  sumFy=971  Pu=605  diff=366\n"
     ]
    },
    {
     "data": {
      "text/plain": [
       "365.7756002174955"
      ]
     },
     "execution_count": 5,
     "metadata": {},
     "output_type": "execute_result"
    }
   ],
   "source": [
    "compute(80.)"
   ]
  },
  {
   "cell_type": "code",
   "execution_count": 6,
   "metadata": {},
   "outputs": [
    {
     "name": "stdout",
     "output_type": "stream",
     "text": [
      "i = 1  x=36.4  y=187.5,  r=191.0  r1=191.0  delta=8.6400  R=277.1\n",
      "i = 2  x=36.4  y=112.5,  r=118.2  r1=191.0  delta=5.3487  R=263.2\n",
      "i = 3  x=36.4  y=37.5,  r=52.3  r1=191.0  delta=2.3641  R=215.2\n",
      "i = 4  x=36.4  y=-37.5,  r=52.3  r1=191.0  delta=2.3641  R=215.2\n",
      "i = 5  x=36.4  y=-112.5,  r=118.2  r1=191.0  delta=5.3487  R=263.2\n",
      "i = 6  x=36.4  y=-187.5,  r=191.0  r1=191.0  delta=8.6400  R=277.1\n",
      " sumM=190581  sumFy=567  Pu=567  diff=1\n"
     ]
    },
    {
     "data": {
      "text/plain": [
       "0.8804927482193534"
      ]
     },
     "execution_count": 6,
     "metadata": {},
     "output_type": "execute_result"
    }
   ],
   "source": [
    "compute(36.4)"
   ]
  },
  {
   "cell_type": "code",
   "execution_count": 7,
   "metadata": {},
   "outputs": [
    {
     "data": {
      "text/plain": [
       "0.9825192045408745"
      ]
     },
     "execution_count": 7,
     "metadata": {},
     "output_type": "execute_result"
    }
   ],
   "source": [
    "(1 - exp(-mu*delta_max))**lamda"
   ]
  },
  {
   "cell_type": "code",
   "execution_count": 8,
   "metadata": {},
   "outputs": [
    {
     "data": {
      "text/plain": [
       "'0.67'"
      ]
     },
     "execution_count": 8,
     "metadata": {},
     "output_type": "execute_result"
    }
   ],
   "source": [
    "'{:.2f}'.format(2./3.)"
   ]
  },
  {
   "cell_type": "code",
   "execution_count": 9,
   "metadata": {},
   "outputs": [
    {
     "data": {
      "text/plain": [
       "0.3937007874015748"
      ]
     },
     "execution_count": 9,
     "metadata": {},
     "output_type": "execute_result"
    }
   ],
   "source": [
    "10/25.4"
   ]
  },
  {
   "cell_type": "code",
   "execution_count": 10,
   "metadata": {},
   "outputs": [
    {
     "data": {
      "text/plain": [
       "203.8535013189619"
      ]
     },
     "execution_count": 10,
     "metadata": {},
     "output_type": "execute_result"
    }
   ],
   "source": [
    "r1 = (80**2 + 187.5**2)**.5\n",
    "r1"
   ]
  },
  {
   "cell_type": "code",
   "execution_count": 11,
   "metadata": {},
   "outputs": [
    {
     "data": {
      "text/plain": [
       "138.04437692278523"
      ]
     },
     "execution_count": 11,
     "metadata": {},
     "output_type": "execute_result"
    }
   ],
   "source": [
    "r = (80**2 + 112.5**2)**.5\n",
    "r"
   ]
  },
  {
   "cell_type": "code",
   "execution_count": 12,
   "metadata": {},
   "outputs": [
    {
     "data": {
      "text/plain": [
       "5.850787005844389"
      ]
     },
     "execution_count": 12,
     "metadata": {},
     "output_type": "execute_result"
    }
   ],
   "source": [
    "(r/r1)*8.64"
   ]
  },
  {
   "cell_type": "code",
   "execution_count": null,
   "metadata": {},
   "outputs": [],
   "source": []
  }
 ],
 "metadata": {
  "kernelspec": {
   "display_name": "Python 3",
   "language": "python",
   "name": "python3"
  },
  "language_info": {
   "codemirror_mode": {
    "name": "ipython",
    "version": 3
   },
   "file_extension": ".py",
   "mimetype": "text/x-python",
   "name": "python",
   "nbconvert_exporter": "python",
   "pygments_lexer": "ipython3",
   "version": "3.6.8"
  }
 },
 "nbformat": 4,
 "nbformat_minor": 2
}
