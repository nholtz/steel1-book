{
 "cells": [
  {
   "cell_type": "code",
   "execution_count": 10,
   "metadata": {},
   "outputs": [],
   "source": [
    "from math import exp"
   ]
  },
  {
   "cell_type": "code",
   "execution_count": 36,
   "metadata": {},
   "outputs": [],
   "source": [
    "def make_group(NV,NH=1,b=75,D=100):\n",
    "    if NV < 2:\n",
    "        raise ValueError(\"Number of bolts per vertical row must be at least 2.\")\n",
    "    if NH < 1:\n",
    "        raise ValueError(\"Number of vertical rows must be at least 1.\")\n",
    "    d = D/(NH-1.) if NH > 1 else 0.\n",
    "    ylo = -(NV-1)*b/2.\n",
    "    xlo = -(NH-1)*d/2.\n",
    "    ans = []\n",
    "    for j in range(0,NH):\n",
    "        for i in range(0,NV):\n",
    "            x = xlo\n",
    "            y = ylo + i*b\n",
    "            ans.append(((i,j),x,y))\n",
    "        xlo += d\n",
    "    return ans"
   ]
  },
  {
   "cell_type": "code",
   "execution_count": 37,
   "metadata": {},
   "outputs": [
    {
     "data": {
      "text/plain": [
       "[((0, 0), -50.0, -112.5),\n",
       " ((1, 0), -50.0, -37.5),\n",
       " ((2, 0), -50.0, 37.5),\n",
       " ((3, 0), -50.0, 112.5),\n",
       " ((0, 1), 50.0, -112.5),\n",
       " ((1, 1), 50.0, -37.5),\n",
       " ((2, 1), 50.0, 37.5),\n",
       " ((3, 1), 50.0, 112.5)]"
      ]
     },
     "execution_count": 37,
     "metadata": {},
     "output_type": "execute_result"
    }
   ],
   "source": [
    "make_group(4,2)"
   ]
  },
  {
   "cell_type": "code",
   "execution_count": 42,
   "metadata": {},
   "outputs": [],
   "source": [
    "def compute1(grp,L=300,r0=None):\n",
    "    if r0 is None:\n",
    "        r0 = L/3.\n",
    "    rmax = 0.\n",
    "    bolts = []\n",
    "    for id,x,y in grp:\n",
    "        x = x + r0\n",
    "        r = (x*x + y*y)**0.5\n",
    "        rmax = max(rmax,r)\n",
    "        bolts.append((id,x,y,r))\n",
    "\n",
    "#    Ru = 282.\n",
    "    Ru = 329.\n",
    "    mu = 0.4   # for delta in mm, 10 for delta in in.\n",
    "    lamda = 0.55\n",
    "    delta_max = 8.64\n",
    "    \n",
    "    sumM = 0.\n",
    "    sumV = 0.\n",
    "    for id,x,y,r in bolts:\n",
    "        delta = (r/rmax)*delta_max\n",
    "        R = Ru*(1 - exp(-mu*delta))**lamda\n",
    "        sumM += R*r\n",
    "        sumV += R*(x/r)\n",
    "    P = sumM/(L+r0)\n",
    "    return sumM,sumV,P,r0"
   ]
  },
  {
   "cell_type": "code",
   "execution_count": 43,
   "metadata": {},
   "outputs": [
    {
     "data": {
      "text/plain": [
       "[((0, 0), 0.0, -187.5),\n",
       " ((1, 0), 0.0, -112.5),\n",
       " ((2, 0), 0.0, -37.5),\n",
       " ((3, 0), 0.0, 37.5),\n",
       " ((4, 0), 0.0, 112.5),\n",
       " ((5, 0), 0.0, 187.5)]"
      ]
     },
     "metadata": {},
     "output_type": "display_data"
    },
    {
     "data": {
      "text/plain": [
       "(268285.413194336, 1132.7524455019975, 706.0142452482527, 80)"
      ]
     },
     "metadata": {},
     "output_type": "display_data"
    }
   ],
   "source": [
    "grp = make_group(6)\n",
    "display(grp)\n",
    "display(compute1(grp,300,80))"
   ]
  },
  {
   "cell_type": "code",
   "execution_count": 44,
   "metadata": {},
   "outputs": [
    {
     "data": {
      "text/plain": [
       "(222344.834244154, 661.980969970487, 660.9537284308977, 36.4)"
      ]
     },
     "execution_count": 44,
     "metadata": {},
     "output_type": "execute_result"
    }
   ],
   "source": [
    "compute1(grp,300,36.4)"
   ]
  },
  {
   "cell_type": "code",
   "execution_count": 45,
   "metadata": {},
   "outputs": [
    {
     "data": {
      "text/plain": [
       "(206805.3595790053, 0.0, 689.3511985966844, 0)"
      ]
     },
     "execution_count": 45,
     "metadata": {},
     "output_type": "execute_result"
    }
   ],
   "source": [
    "compute1(grp,300,0)"
   ]
  },
  {
   "cell_type": "code",
   "execution_count": 46,
   "metadata": {},
   "outputs": [],
   "source": [
    "def compute(grp,L=300):\n",
    "    M,V,P,r0 = compute1(grp,L,L/2.)\n",
    "    print(M,V,P,r0)\n",
    "    F0 = V-P\n",
    "    M,V,P,r1 = compute1(grp,L,L/3.)\n",
    "    print(M,V,P,r1)\n",
    "    F1 = V-P\n",
    "    r = [r0,r1]\n",
    "    F = [F0,F1]\n",
    "    while True:\n",
    "        F0,F1 = F[-2:]\n",
    "        r0,r1 = r[-2:]\n",
    "        #print(r0,F0,r1,F1)\n",
    "        if len(r) > 100:\n",
    "            break\n",
    "        if abs(F1) < 1.:\n",
    "            break\n",
    "        r2 = r1 - F1*(r1-r0)/(F1-F0)\n",
    "        M,V,P,r2 = compute1(grp,L,r2)\n",
    "        F2 = V-P\n",
    "        F.append(F2)\n",
    "        r.append(r2)\n",
    "        print(r2,V,P,F2)"
   ]
  },
  {
   "cell_type": "code",
   "execution_count": 47,
   "metadata": {},
   "outputs": [
    {
     "name": "stdout",
     "output_type": "stream",
     "text": [
      "369510.2316626441 1509.9291615488683 821.133848139209 150.0\n",
      "294791.35239908285 1274.0307687360041 736.9783809977072 100.0\n",
      "-76.96126042192566 -1108.0279799516695 1185.8589608237235 -2293.8869407753928\n",
      "66.42899885223937 1014.4662146050545 687.4871109367172 326.9791036683373\n",
      "48.539637985576576 822.3117079974338 668.4395234117299 153.87218458570396\n",
      "32.638049233474725 606.3893694523224 659.8703355370525 -53.480966084730085\n",
      "36.739420859585955 666.8508364340338 661.0836325552754 5.767203878758437\n",
      "36.34019424440248 661.1204441510188 660.9313712452766 0.18907290574213675\n"
     ]
    }
   ],
   "source": [
    "compute(grp,300)"
   ]
  },
  {
   "cell_type": "markdown",
   "metadata": {},
   "source": [
    "grp2 = make_group(3,2,80,80)\n",
    "grp2"
   ]
  },
  {
   "cell_type": "code",
   "execution_count": 48,
   "metadata": {},
   "outputs": [
    {
     "name": "stdout",
     "output_type": "stream",
     "text": [
      "226989.71462290015 1525.212124496256 756.6323820763338 100.0\n",
      "178011.06788067956 1253.97748477483 667.5415045525483 66.66666666666667\n",
      "-40.654417358150994 -815.2048023683975 933.6499986872898 -1748.8548010556874\n",
      "39.71629902372584 742.8848080960062 617.6025004012629 125.28230769474328\n",
      "34.34367779319341 585.4683620125747 618.2316919002225 -32.76332988764773\n",
      "35.45743812489222 611.2271814287443 617.7561041545059 -6.528922725761618\n",
      "35.73461820736211 617.8831529271571 617.6623150008397 0.22083792631735832\n"
     ]
    }
   ],
   "source": [
    "compute(grp2,200)"
   ]
  },
  {
   "cell_type": "code",
   "execution_count": null,
   "metadata": {},
   "outputs": [],
   "source": []
  }
 ],
 "metadata": {
  "kernelspec": {
   "display_name": "Python 3",
   "language": "python",
   "name": "python3"
  },
  "language_info": {
   "codemirror_mode": {
    "name": "ipython",
    "version": 3
   },
   "file_extension": ".py",
   "mimetype": "text/x-python",
   "name": "python",
   "nbconvert_exporter": "python",
   "pygments_lexer": "ipython3",
   "version": "3.6.8"
  }
 },
 "nbformat": 4,
 "nbformat_minor": 2
}
