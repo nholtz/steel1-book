{
 "cells": [
  {
   "cell_type": "markdown",
   "metadata": {},
   "source": [
    "# Example T01u: Net Areas of Plates with Staggered Holes\n",
    "\n",
    "Determine the net areas to be used when finding the factored tension resistance of the following\n",
    "plate lap joint.  The net areas may be different for the central (20 mm) and side (10 mm) plates, so determine both.\n",
    "\n",
    "![Lap PLate Connection](../../../text/tension/T01/lap-plates-1.svg)\n",
    "\n",
    "**Lap Plate Connection**"
   ]
  },
  {
   "cell_type": "markdown",
   "metadata": {},
   "source": [
    "Please note that this  type of hole pattern rarely occurs in practice -- \n",
    "practical patterns are more regular and 'grid-like'.  This example illustrates:\n",
    "* how failure paths depend on the direction of the load relative to the hole group.\n",
    "* the calculations necessary to determine a net cross-sectional area for each potential failure path.\n",
    "\n",
    "The  figure shows an irregular bolt pattern in a lap tension splice.  To determine the\n",
    "net areas of the plates, we must examine every possible failure path that has the\n",
    "following attributes:\n",
    "\n",
    "* it separates each plate into 2 complete parts.\n",
    "* it is of minimum length for that path.\n",
    "* there are no bolts or holes completely on the loaded side of the path; all of the bolt bearing areas are on the side opposite the load.\n",
    "\n",
    "We then determine the area from the path with minimum width.\n",
    "\n",
    "In this example, we will assume M20 bolts in punched holes, and thus the hole\n",
    "allowance to be used is $d = 20~\\mathrm{mm}+2~\\mathrm{mm}+2~\\mathrm{mm} = 24~\\mathrm{mm}$.\n"
   ]
  },
  {
   "cell_type": "markdown",
   "metadata": {},
   "source": [
    "#### Compute with units"
   ]
  },
  {
   "cell_type": "code",
   "execution_count": 1,
   "metadata": {},
   "outputs": [],
   "source": [
    "import pint                   # setup to use the module for computing with units\n",
    "ureg = pint.UnitRegistry()\n",
    "mm = ureg['mm']\n",
    "ureg.default_format = '~P'\n",
    "\n",
    "# if you do not want to use units, simply uncomment the following line:\n",
    "# mm = 1"
   ]
  },
  {
   "cell_type": "markdown",
   "metadata": {},
   "source": [
    "## The 10mm Plates (outer plates)\n",
    "\n",
    "The  shows the paths appropriate for investigating the strength of the outside (10mm) plates.\n",
    "For this case, the loaded side of the connection is toward the right side, and so there are\n",
    "no complete holes on that side of any path.\n",
    "\n",
    "![Failure Paths for Net Area Calculations, Outside (10mm) plates](../../../text/tension/T01/paths-1i.svg \"Failure Paths for Net Area Calculations, Outside (10mm) plates\")\n",
    "\n",
    "**Failure Paths for Net Area Calculations, Outside (10mm) plates**"
   ]
  },
  {
   "cell_type": "markdown",
   "metadata": {},
   "source": [
    "### Define the Data:"
   ]
  },
  {
   "cell_type": "code",
   "execution_count": 2,
   "metadata": {},
   "outputs": [
    {
     "name": "stdout",
     "output_type": "stream",
     "text": [
      "wg = 210 mm\n"
     ]
    }
   ],
   "source": [
    "d = (20 + 2 + 2) * mm       # hole allowance: bolt dia. + 2mm clearance + 2mm for punching\n",
    "s1 = 50 * mm\n",
    "s2 = 55 * mm\n",
    "s3 = 50 * mm\n",
    "g1,g2,g3,g4,g5 = (35,50,45,50,30) * mm\n",
    "t1 = 10 * mm                # thickness of one outside plate\n",
    "t2 = 20 * mm                # thickness of inside plate\n",
    "wg = g1+g2+g3+g4+g5\n",
    "print('wg =',wg)                         # gross width of plate"
   ]
  },
  {
   "cell_type": "markdown",
   "metadata": {},
   "source": [
    "In the following, we will compute the effective net width, $w_{ne}$, for each failure path, then use the minimum so computed to determine the cross-sectional area.  The effective net width includes the effect of the holes _and_ also the effect of sloped segments.  In essence:\n",
    "\n",
    "$$\n",
    "w_{ne} = w_g - \\sum \\text{hole widths} + \\sum\\frac{s^2}{4 g}\n",
    "$$"
   ]
  },
  {
   "cell_type": "markdown",
   "metadata": {},
   "source": [
    "### Path 1-1:\n",
    "For path 1-1, it is only necessary to deduct the allowance for one hole from the gross width.\n",
    "In general, if no path segments are inclined to the load:\n",
    "\n",
    "$w_{ne} = w_g - \\sum d$"
   ]
  },
  {
   "cell_type": "code",
   "execution_count": 3,
   "metadata": {},
   "outputs": [
    {
     "data": {
      "text/html": [
       "186 mm"
      ],
      "text/latex": [
       "$186\\ \\mathrm{mm}$"
      ],
      "text/plain": [
       "186 mm"
      ]
     },
     "execution_count": 3,
     "metadata": {},
     "output_type": "execute_result"
    }
   ],
   "source": [
    "wne_11 = wg - d\n",
    "wne_11"
   ]
  },
  {
   "cell_type": "markdown",
   "metadata": {},
   "source": [
    "### Path 2-2:\n",
    "For paths with segments inclined to the load, we subtract all hole allowances, $d$, then\n",
    "add the $s^2/4g$ correction term for each inclined segment:\n",
    "\n",
    "$w_{ne} = w_g - \\sum d + \\sum{s^2\\over 4g}$"
   ]
  },
  {
   "cell_type": "code",
   "execution_count": 4,
   "metadata": {},
   "outputs": [
    {
     "data": {
      "text/html": [
       "175.88888888888889 mm"
      ],
      "text/latex": [
       "$175.88888888888889\\ \\mathrm{mm}$"
      ],
      "text/plain": [
       "175.88888888888889 mm"
      ]
     },
     "execution_count": 4,
     "metadata": {},
     "output_type": "execute_result"
    }
   ],
   "source": [
    "wne_22 = wg - 2*d + s3**2/(4*g3)\n",
    "wne_22"
   ]
  },
  {
   "cell_type": "markdown",
   "metadata": {},
   "source": [
    "### Path 3-3:\n",
    "\n",
    "$w_{ne} = w_g - \\sum d + \\sum{s^2\\over 4g}$"
   ]
  },
  {
   "cell_type": "code",
   "execution_count": 5,
   "metadata": {},
   "outputs": [
    {
     "data": {
      "text/html": [
       "167.01388888888889 mm"
      ],
      "text/latex": [
       "$167.01388888888889\\ \\mathrm{mm}$"
      ],
      "text/plain": [
       "167.01388888888889 mm"
      ]
     },
     "execution_count": 5,
     "metadata": {},
     "output_type": "execute_result"
    }
   ],
   "source": [
    "wne_33 = wg - 3*d + s3**2/(4*g3) + s2**2/(4*g2)\n",
    "wne_33"
   ]
  },
  {
   "cell_type": "markdown",
   "metadata": {},
   "source": [
    "### Paths 1-4, 2-4 and 3-4:\n",
    "\n",
    "Adding the fourth bolt to each of the above paths will reduce the net width by $24~\\mathrm{mm}$\n",
    "for the hole, then\n",
    "increase it by $(s2+s3)^2/(4 g4)$ for the inclined segment.  Paths that include this hole will not govern if the term for the inclined segment is less than 24.  However, given that these variable values might change, its probably safest to compute them all."
   ]
  },
  {
   "cell_type": "code",
   "execution_count": 6,
   "metadata": {},
   "outputs": [
    {
     "name": "stdout",
     "output_type": "stream",
     "text": [
      "31.125 mm 217.125 mm 207.01388888888889 mm 198.13888888888889 mm\n"
     ]
    }
   ],
   "source": [
    "delta = (s2+s3)**2/(4*g4) - d    # the amount wn increases by including the hole on path 4\n",
    "wne_14 = wne_11 + delta\n",
    "wne_24 = wne_22 + delta\n",
    "wne_34 = wne_33 + delta\n",
    "print(delta, wne_14, wne_24, wne_34)"
   ]
  },
  {
   "cell_type": "markdown",
   "metadata": {},
   "source": [
    "### Summary\n",
    "\n",
    "The path with the smallest $w_{ne}$ governs,\n",
    "so $A_n$ for the pair of 10 mm plates is:"
   ]
  },
  {
   "cell_type": "code",
   "execution_count": 7,
   "metadata": {},
   "outputs": [
    {
     "data": {
      "text/html": [
       "167.01388888888889 mm"
      ],
      "text/latex": [
       "$167.01388888888889\\ \\mathrm{mm}$"
      ],
      "text/plain": [
       "167.01388888888889 mm"
      ]
     },
     "execution_count": 7,
     "metadata": {},
     "output_type": "execute_result"
    }
   ],
   "source": [
    "wne = min(wne_11,wne_22,wne_33,wne_14,wne_24,wne_34)\n",
    "wne"
   ]
  },
  {
   "cell_type": "code",
   "execution_count": 8,
   "metadata": {},
   "outputs": [
    {
     "data": {
      "text/html": [
       "3340.277777777778 mm<sup>2</sup>"
      ],
      "text/latex": [
       "$3340.277777777778\\ \\mathrm{mm}^{2}$"
      ],
      "text/plain": [
       "3340.277777777778 mm²"
      ]
     },
     "execution_count": 8,
     "metadata": {},
     "output_type": "execute_result"
    }
   ],
   "source": [
    "An = wne * t1*2    # because there are 2 thicknesses of 10 mm plate\n",
    "An"
   ]
  },
  {
   "cell_type": "markdown",
   "metadata": {},
   "source": [
    "## 20mm Plate (Inner Plate)\n",
    "\n",
    "The following figure  shows the possible failure paths for calculating the strength of the 20mm plate.\n",
    "For this case, the loaded side is toward the left.\n",
    "\n",
    "![Failure Paths for Net Area Calculations, Inside (20mm) plate](../../../text/tension/T01/paths-2i.svg)\n",
    "\n",
    "**Failure Paths for Net Area Calculations, Inside (20mm) plate**"
   ]
  },
  {
   "cell_type": "markdown",
   "metadata": {},
   "source": [
    "### Path 1-1:"
   ]
  },
  {
   "cell_type": "code",
   "execution_count": 9,
   "metadata": {},
   "outputs": [
    {
     "data": {
      "text/html": [
       "186 mm"
      ],
      "text/latex": [
       "$186\\ \\mathrm{mm}$"
      ],
      "text/plain": [
       "186 mm"
      ]
     },
     "execution_count": 9,
     "metadata": {},
     "output_type": "execute_result"
    }
   ],
   "source": [
    "wne_11 = wg - d\n",
    "wne_11"
   ]
  },
  {
   "cell_type": "markdown",
   "metadata": {},
   "source": [
    "### Path 2-2:"
   ]
  },
  {
   "cell_type": "code",
   "execution_count": 10,
   "metadata": {},
   "outputs": [
    {
     "data": {
      "text/html": [
       "174.5 mm"
      ],
      "text/latex": [
       "$174.5\\ \\mathrm{mm}$"
      ],
      "text/plain": [
       "174.5 mm"
      ]
     },
     "execution_count": 10,
     "metadata": {},
     "output_type": "execute_result"
    }
   ],
   "source": [
    "wne_22 = wg - 2*d + s1**2/(4*g2)\n",
    "wne_22"
   ]
  },
  {
   "cell_type": "markdown",
   "metadata": {},
   "source": [
    "### Path 2-3:"
   ]
  },
  {
   "cell_type": "code",
   "execution_count": 11,
   "metadata": {},
   "outputs": [
    {
     "data": {
      "text/html": [
       "157.07894736842104 mm"
      ],
      "text/latex": [
       "$157.07894736842104\\ \\mathrm{mm}$"
      ],
      "text/plain": [
       "157.07894736842104 mm"
      ]
     },
     "execution_count": 11,
     "metadata": {},
     "output_type": "execute_result"
    }
   ],
   "source": [
    "wne_23 = wg - 3*d + s1**2/(4*g2) + s1**2/(4*(g3+g4))\n",
    "wne_23"
   ]
  },
  {
   "cell_type": "markdown",
   "metadata": {},
   "source": [
    "### Path 1-3:\n",
    "\n",
    "By inspection this should not govern, as path 1-1 is longer than 2-2, therefore 1-3 will be longer than 2-3,\n",
    "but compute it anyway."
   ]
  },
  {
   "cell_type": "code",
   "execution_count": 12,
   "metadata": {},
   "outputs": [
    {
     "data": {
      "text/html": [
       "168.57894736842104 mm"
      ],
      "text/latex": [
       "$168.57894736842104\\ \\mathrm{mm}$"
      ],
      "text/plain": [
       "168.57894736842104 mm"
      ]
     },
     "execution_count": 12,
     "metadata": {},
     "output_type": "execute_result"
    }
   ],
   "source": [
    "wne_13 = wg - 2*d + s1**2/(4*(g3+g4))\n",
    "wne_13"
   ]
  },
  {
   "cell_type": "markdown",
   "metadata": {},
   "source": [
    "### Summary\n",
    "\n",
    "The shortest path (minimum $w_ne$) governs, and so the net area, $A_n$, of the 20 mm plate is:"
   ]
  },
  {
   "cell_type": "code",
   "execution_count": 13,
   "metadata": {},
   "outputs": [
    {
     "data": {
      "text/html": [
       "157.07894736842104 mm"
      ],
      "text/latex": [
       "$157.07894736842104\\ \\mathrm{mm}$"
      ],
      "text/plain": [
       "157.07894736842104 mm"
      ]
     },
     "execution_count": 13,
     "metadata": {},
     "output_type": "execute_result"
    }
   ],
   "source": [
    "wne = min(wne_11,wne_22,wne_23,wne_13)\n",
    "wne"
   ]
  },
  {
   "cell_type": "code",
   "execution_count": 14,
   "metadata": {},
   "outputs": [
    {
     "data": {
      "text/html": [
       "3141.578947368421 mm<sup>2</sup>"
      ],
      "text/latex": [
       "$3141.578947368421\\ \\mathrm{mm}^{2}$"
      ],
      "text/plain": [
       "3141.578947368421 mm²"
      ]
     },
     "execution_count": 14,
     "metadata": {},
     "output_type": "execute_result"
    }
   ],
   "source": [
    "An = wne * t2\n",
    "An"
   ]
  },
  {
   "cell_type": "markdown",
   "metadata": {},
   "source": [
    "The net area fracture strength of the plates will therefore be governed by the net area of the 20mm inner plate."
   ]
  },
  {
   "cell_type": "code",
   "execution_count": null,
   "metadata": {},
   "outputs": [],
   "source": []
  }
 ],
 "metadata": {
  "kernelspec": {
   "display_name": "Python 3",
   "language": "python",
   "name": "python3"
  },
  "language_info": {
   "codemirror_mode": {
    "name": "ipython",
    "version": 3
   },
   "file_extension": ".py",
   "mimetype": "text/x-python",
   "name": "python",
   "nbconvert_exporter": "python",
   "pygments_lexer": "ipython3",
   "version": "3.6.8"
  }
 },
 "nbformat": 4,
 "nbformat_minor": 2
}
