{
 "cells": [
  {
   "cell_type": "code",
   "execution_count": 1,
   "metadata": {
    "tags": [
     "hide_input"
    ]
   },
   "outputs": [],
   "source": [
    "import os.path\n",
    "from IPython.display import SVG\n",
    "\n",
    "def fig(pathname):\n",
    "    try:\n",
    "        with open(\"IMAGEPATH\",\"r\") as ip:\n",
    "            pfx = ip.readline()\n",
    "            pathname = os.path.join(pfx.strip(),pathname)\n",
    "    except:\n",
    "        raise\n",
    "    try:\n",
    "        with open(pathname,\"rb\") as inf:\n",
    "            svgdata = inf.read()\n",
    "            display(SVG(svgdata))\n",
    "    except:\n",
    "        raise"
   ]
  },
  {
   "cell_type": "markdown",
   "metadata": {},
   "source": [
    "# Example T01u: Net Areas of Plates with Staggered Holes\n",
    "\n",
    "Determine the net areas to be used when finding the factored tension resistance of the following\n",
    "plate lap joint.  The net areas may be different for the central (20 mm) and side (10 mm) plates, so determine both."
   ]
  },
  {
   "cell_type": "code",
   "execution_count": 2,
   "metadata": {
    "tags": [
     "hide_input"
    ]
   },
   "outputs": [
    {
     "data": {
      "image/svg+xml": [
       "<svg height=\"4.0465918in\" id=\"svg2\" inkscape:version=\"0.92.4 (unknown)\" sodipodi:docname=\"lap-plates-1.svg\" version=\"1.1\" viewBox=\"0 0 602.11387 364.19326\" width=\"6.6901541in\" xmlns=\"http://www.w3.org/2000/svg\" xmlns:cc=\"http://creativecommons.org/ns#\" xmlns:dc=\"http://purl.org/dc/elements/1.1/\" xmlns:inkscape=\"http://www.inkscape.org/namespaces/inkscape\" xmlns:rdf=\"http://www.w3.org/1999/02/22-rdf-syntax-ns#\" xmlns:sodipodi=\"http://sodipodi.sourceforge.net/DTD/sodipodi-0.dtd\" xmlns:svg=\"http://www.w3.org/2000/svg\" xmlns:xlink=\"http://www.w3.org/1999/xlink\">\n",
       "  <script id=\"script3033\" xlink:href=\"\"/>\n",
       "  <defs id=\"defs4\">\n",
       "    <marker id=\"Arrow1Mend\" inkscape:stockid=\"Arrow1Mend\" orient=\"auto\" refX=\"0\" refY=\"0\" style=\"overflow:visible\">\n",
       "      <path d=\"M 0,0 5,-5 -12.5,0 5,5 Z\" id=\"path4013\" inkscape:connector-curvature=\"0\" style=\"fill-rule:evenodd;stroke:#000000;stroke-width:1.00000003pt;marker-start:none\" transform=\"matrix(-0.4,0,0,-0.4,-4,0)\"/>\n",
       "    </marker>\n",
       "    <!-- markers by NMH <nholtz@cee.carleton.ca> -->\n",
       "    <marker id=\"DimensionTick\" inkscape:stockid=\"DimensionTick\" orient=\"auto\" refX=\"0\" refY=\"0\" style=\"overflow:visible\">\n",
       "      <path d=\"M 0,0 8,8\" id=\"path3100\" inkscape:connector-curvature=\"0\" style=\"stroke:#4d4d4d;stroke-width:1px;marker-start:none\" transform=\"translate(-4,-4)\"/>\n",
       "    </marker>\n",
       "    <marker id=\"TrussNodeS\" inkscape:stockid=\"TrussNodeS\" markerUnits=\"userSpaceOnUse\" orient=\"auto\" refX=\"0\" refY=\"0\" style=\"overflow:visible\">\n",
       "      <circle cx=\"0\" cy=\"0\" id=\"circle3103\" r=\"3\" style=\"fill:#ffffff;stroke:#000000;stroke-width:1\"/>\n",
       "    </marker>\n",
       "    <marker id=\"TrussNodeM\" inkscape:stockid=\"TrussNodeM\" markerUnits=\"userSpaceOnUse\" orient=\"auto\" refX=\"0\" refY=\"0\" style=\"overflow:visible\">\n",
       "      <circle cx=\"0\" cy=\"0\" id=\"circle3106\" r=\"4\" style=\"fill:#ffffff;stroke:#000000;stroke-width:1\"/>\n",
       "    </marker>\n",
       "  </defs>\n",
       "  <sodipodi:namedview bordercolor=\"#666666\" borderopacity=\"1.0\" fit-margin-bottom=\"0.1\" fit-margin-left=\"0.1\" fit-margin-right=\"0.1\" fit-margin-top=\"0.1\" id=\"base\" inkscape:current-layer=\"g5410\" inkscape:cx=\"371.09628\" inkscape:cy=\"145.30012\" inkscape:document-units=\"in\" inkscape:object-paths=\"true\" inkscape:pageopacity=\"0.0\" inkscape:pageshadow=\"2\" inkscape:snap-global=\"false\" inkscape:snap-grids=\"false\" inkscape:snap-intersection-paths=\"true\" inkscape:snap-nodes=\"true\" inkscape:snap-object-midpoints=\"true\" inkscape:window-height=\"979\" inkscape:window-maximized=\"0\" inkscape:window-width=\"1179\" inkscape:window-x=\"702\" inkscape:window-y=\"53\" inkscape:zoom=\"2.02\" pagecolor=\"#ffffff\" showgrid=\"true\" showguides=\"true\" units=\"in\">\n",
       "    <inkscape:grid empspacing=\"5\" enabled=\"true\" id=\"grid2985\" originx=\"-104.41714\" originy=\"-500.69898\" snapvisiblegridlinesonly=\"true\" spacingx=\"9\" spacingy=\"9\" type=\"xygrid\" units=\"in\" visible=\"true\"/>\n",
       "    <sodipodi:guide id=\"guide3042\" inkscape:locked=\"false\" orientation=\"0,765\" position=\"-104.41713,-500.69899\"/>\n",
       "    <sodipodi:guide id=\"guide3044\" inkscape:locked=\"false\" orientation=\"-990,0\" position=\"612.77039,-500.69899\"/>\n",
       "    <sodipodi:guide id=\"guide3046\" inkscape:locked=\"false\" orientation=\"0,-765\" position=\"612.77039,427.42604\"/>\n",
       "    <sodipodi:guide id=\"guide3048\" inkscape:locked=\"false\" orientation=\"990,0\" position=\"-104.41713,427.42604\"/>\n",
       "    <sodipodi:guide id=\"guide3050\" inkscape:locked=\"false\" orientation=\"0,765\" position=\"570.58289,-458.51149\"/>\n",
       "    <sodipodi:guide id=\"guide3052\" inkscape:locked=\"false\" orientation=\"-990,0\" position=\"570.58289,343.05103\"/>\n",
       "    <sodipodi:guide id=\"guide3054\" inkscape:locked=\"false\" orientation=\"0,-765\" position=\"-45.354631,343.05103\"/>\n",
       "    <sodipodi:guide id=\"guide3056\" inkscape:locked=\"false\" orientation=\"990,0\" position=\"-20.04213,368.36354\"/>\n",
       "  </sodipodi:namedview>\n",
       "  <metadata id=\"metadata7\">\n",
       "    <rdf:RDF>\n",
       "      <cc:Work rdf:about=\"\">\n",
       "        <dc:format>image/svg+xml</dc:format>\n",
       "        <dc:type rdf:resource=\"http://purl.org/dc/dcmitype/StillImage\"/>\n",
       "        <dc:title/>\n",
       "        <cc:license rdf:resource=\"http://creativecommons.org/licenses/by-nc/4.0/\"/>\n",
       "      </cc:Work>\n",
       "      <cc:License rdf:about=\"http://creativecommons.org/licenses/by-nc/4.0/\">\n",
       "        <cc:permits rdf:resource=\"http://creativecommons.org/ns#Reproduction\"/>\n",
       "        <cc:permits rdf:resource=\"http://creativecommons.org/ns#Distribution\"/>\n",
       "        <cc:requires rdf:resource=\"http://creativecommons.org/ns#Notice\"/>\n",
       "        <cc:requires rdf:resource=\"http://creativecommons.org/ns#Attribution\"/>\n",
       "        <cc:prohibits rdf:resource=\"http://creativecommons.org/ns#CommercialUse\"/>\n",
       "        <cc:permits rdf:resource=\"http://creativecommons.org/ns#DerivativeWorks\"/>\n",
       "      </cc:License>\n",
       "    </rdf:RDF>\n",
       "  </metadata>\n",
       "  <g id=\"layer1\" inkscape:groupmode=\"layer\" inkscape:label=\"Layer 1\" transform=\"translate(-104.41713,-187.46976)\">\n",
       "    <g id=\"g5410\" inkscape:export-filename=\"/home/nholtz/3205/examples/tension/paths-1.png\" inkscape:export-xdpi=\"90\" inkscape:export-ydpi=\"90\">\n",
       "      <circle cx=\"234\" cy=\"234\" id=\"path3159\" r=\"9\" style=\"fill:#b3b3b3;stroke:#000000;stroke-width:1;stroke-linecap:square;stroke-linejoin:miter;stroke-miterlimit:4;stroke-dasharray:none;stroke-dashoffset:0;stroke-opacity:1\" transform=\"translate(125.94985,39.71205)\"/>\n",
       "      <circle cx=\"234\" cy=\"234\" id=\"path3161\" r=\"9\" style=\"fill:#b3b3b3;stroke:#000000;stroke-width:1;stroke-linecap:square;stroke-linejoin:miter;stroke-miterlimit:4;stroke-dasharray:none;stroke-dashoffset:0;stroke-opacity:1\" transform=\"translate(81,85.01195)\"/>\n",
       "      <circle cx=\"234\" cy=\"234\" id=\"path3163\" r=\"9\" style=\"fill:#b3b3b3;stroke:#000000;stroke-width:1;stroke-linecap:square;stroke-linejoin:miter;stroke-miterlimit:4;stroke-dasharray:none;stroke-dashoffset:0;stroke-opacity:1\" transform=\"translate(175.35005,85.01195)\"/>\n",
       "      <circle cx=\"234\" cy=\"234\" id=\"path3165\" r=\"9\" style=\"fill:#b3b3b3;stroke:#000000;stroke-width:1;stroke-linecap:square;stroke-linejoin:miter;stroke-miterlimit:4;stroke-dasharray:none;stroke-dashoffset:0;stroke-opacity:1\" transform=\"translate(221,125.01195)\"/>\n",
       "      <circle cx=\"234\" cy=\"234\" id=\"path3167\" r=\"9\" style=\"fill:#b3b3b3;stroke:#000000;stroke-width:1;stroke-linecap:square;stroke-linejoin:miter;stroke-miterlimit:4;stroke-dasharray:none;stroke-dashoffset:0;stroke-opacity:1\" transform=\"translate(125.94985,170.6619)\"/>\n",
       "      <path d=\"M 206,180 H 585\" id=\"path3120\" inkscape:connector-curvature=\"0\" sodipodi:nodetypes=\"cc\" style=\"fill:none;stroke:#000000;stroke-width:1;stroke-linecap:square;stroke-linejoin:miter;stroke-miterlimit:4;stroke-dasharray:none;stroke-dashoffset:0;stroke-opacity:1\" transform=\"translate(0,62.362)\"/>\n",
       "      <path d=\"m 206,369 h 379 v 0\" id=\"path3122\" inkscape:connector-curvature=\"0\" sodipodi:nodetypes=\"ccc\" style=\"fill:none;stroke:#000000;stroke-width:1;stroke-linecap:square;stroke-linejoin:miter;stroke-miterlimit:4;stroke-dasharray:none;stroke-dashoffset:0;stroke-opacity:1\" transform=\"translate(0,62.362)\"/>\n",
       "      <path d=\"M 315,162 V 387\" id=\"path3124\" inkscape:connector-curvature=\"0\" style=\"fill:none;stroke:#808080;stroke-width:0.5;stroke-linecap:square;stroke-linejoin:miter;stroke-miterlimit:4;stroke-dasharray:none;stroke-dashoffset:0;stroke-opacity:1\" transform=\"translate(0,62.362)\"/>\n",
       "      <path d=\"m 359.94985,224.362 v 225\" id=\"path3126\" inkscape:connector-curvature=\"0\" style=\"fill:none;stroke:#808080;stroke-width:0.5;stroke-linecap:square;stroke-linejoin:miter;stroke-miterlimit:4;stroke-dasharray:none;stroke-dashoffset:0;stroke-opacity:1\"/>\n",
       "      <path d=\"m 409.35005,224.362 v 225\" id=\"path3128\" inkscape:connector-curvature=\"0\" style=\"fill:none;stroke:#808080;stroke-width:0.5;stroke-linecap:square;stroke-linejoin:miter;stroke-miterlimit:4;stroke-dasharray:none;stroke-dashoffset:0;stroke-opacity:1\"/>\n",
       "      <path d=\"m 455,224.362 v 225\" id=\"path3130\" inkscape:connector-curvature=\"0\" style=\"fill:none;stroke:#808080;stroke-width:0.5;stroke-linecap:square;stroke-linejoin:miter;stroke-miterlimit:4;stroke-dasharray:none;stroke-dashoffset:0;stroke-opacity:1\"/>\n",
       "      <path d=\"M 252,404.6619 H 522\" id=\"path3132\" inkscape:connector-curvature=\"0\" style=\"fill:none;stroke:#808080;stroke-width:0.5;stroke-linecap:square;stroke-linejoin:miter;stroke-miterlimit:4;stroke-dasharray:none;stroke-dashoffset:0;stroke-opacity:1\"/>\n",
       "      <path d=\"M 252,359.01195 H 522\" id=\"path3134\" inkscape:connector-curvature=\"0\" style=\"fill:none;stroke:#808080;stroke-width:0.5;stroke-linecap:square;stroke-linejoin:miter;stroke-miterlimit:4;stroke-dasharray:none;stroke-dashoffset:0;stroke-opacity:1\"/>\n",
       "      <path d=\"M 252,319.01195 H 522\" id=\"path3136\" inkscape:connector-curvature=\"0\" style=\"fill:none;stroke:#808080;stroke-width:0.5;stroke-linecap:square;stroke-linejoin:miter;stroke-miterlimit:4;stroke-dasharray:none;stroke-dashoffset:0;stroke-opacity:1\"/>\n",
       "      <path d=\"M 252,273.71205 H 522\" id=\"path3138\" inkscape:connector-curvature=\"0\" style=\"fill:none;stroke:#808080;stroke-width:0.5;stroke-linecap:square;stroke-linejoin:miter;stroke-miterlimit:4;stroke-dasharray:none;stroke-dashoffset:0;stroke-opacity:1\"/>\n",
       "      <path d=\"m 279.70297,180 -0.49505,189\" id=\"path3169\" inkscape:connector-curvature=\"0\" style=\"fill:#b3b3b3;fill-opacity:1;fill-rule:nonzero;stroke:#000000;stroke-width:1;stroke-linecap:square;stroke-linejoin:miter;stroke-miterlimit:4;stroke-dasharray:none;stroke-dashoffset:0;stroke-opacity:1\" transform=\"translate(0,62.362)\"/>\n",
       "      <path d=\"m 496,242.362 v 189\" id=\"path3171\" inkscape:connector-curvature=\"0\" style=\"fill:#b3b3b3;fill-opacity:1;fill-rule:nonzero;stroke:#000000;stroke-width:0.99000001;stroke-linecap:square;stroke-linejoin:miter;stroke-miterlimit:4;stroke-dasharray:0.99, 5.94;stroke-dashoffset:0;stroke-opacity:1\"/>\n",
       "      <path d=\"m 205.9901,242.362 c -8.28322,17.5784 -19.92071,50.15858 -9,72 4.78286,9.56572 15.14194,24.56776 18,36 5.50931,22.03727 -7.2233,63.27428 -9,81\" id=\"path3959\" inkscape:connector-curvature=\"0\" sodipodi:nodetypes=\"cssc\" style=\"fill:none;stroke:#000000;stroke-width:1px;stroke-linecap:butt;stroke-linejoin:miter;stroke-opacity:1\"/>\n",
       "      <path d=\"m 585,242.362 c -8.28322,17.5784 -19.92071,50.15858 -9,72 4.78286,9.56572 15.14194,24.56776 18,36 5.50931,22.03727 -7.2233,63.27428 -9,81\" id=\"path3965\" inkscape:connector-curvature=\"0\" sodipodi:nodetypes=\"cssc\" style=\"fill:none;stroke:#000000;stroke-width:1px;stroke-linecap:butt;stroke-linejoin:miter;stroke-opacity:1\"/>\n",
       "      <path d=\"M 279,441 H 585\" id=\"path3967\" inkscape:connector-curvature=\"0\" sodipodi:nodetypes=\"cc\" style=\"fill:#b3b3b3;fill-opacity:1;fill-rule:nonzero;stroke:#000000;stroke-width:0.99000001;stroke-linecap:square;stroke-linejoin:miter;stroke-miterlimit:4;stroke-dasharray:none;stroke-dashoffset:0;stroke-opacity:1\" transform=\"translate(0,62.362)\"/>\n",
       "      <path d=\"M 495,450 H 207\" id=\"path3969\" inkscape:connector-curvature=\"0\" style=\"fill:#b3b3b3;fill-opacity:1;fill-rule:nonzero;stroke:#000000;stroke-width:0.99000001;stroke-linecap:square;stroke-linejoin:miter;stroke-miterlimit:4;stroke-dasharray:none;stroke-dashoffset:0;stroke-opacity:1\" transform=\"translate(0,62.362)\"/>\n",
       "      <path d=\"M 495,468 H 207\" id=\"path3971\" inkscape:connector-curvature=\"0\" style=\"fill:#b3b3b3;fill-opacity:1;fill-rule:nonzero;stroke:#000000;stroke-width:0.99000001;stroke-linecap:square;stroke-linejoin:miter;stroke-miterlimit:4;stroke-dasharray:none;stroke-dashoffset:0;stroke-opacity:1\" transform=\"translate(0,62.362)\"/>\n",
       "      <path d=\"M 279,477 H 585\" id=\"path3973\" inkscape:connector-curvature=\"0\" style=\"fill:#b3b3b3;fill-opacity:1;fill-rule:nonzero;stroke:#000000;stroke-width:0.99000001;stroke-linecap:square;stroke-linejoin:miter;stroke-miterlimit:4;stroke-dasharray:none;stroke-dashoffset:0;stroke-opacity:1\" transform=\"translate(0,62.362)\"/>\n",
       "      <path d=\"m 495,450 v 18\" id=\"path3975\" inkscape:connector-curvature=\"0\" style=\"fill:#b3b3b3;fill-opacity:1;fill-rule:nonzero;stroke:#000000;stroke-width:0.99000001;stroke-linecap:square;stroke-linejoin:miter;stroke-miterlimit:4;stroke-dasharray:none;stroke-dashoffset:0;stroke-opacity:1\" transform=\"translate(0,62.362)\"/>\n",
       "      <path d=\"m 279,441 v 9\" id=\"path3977\" inkscape:connector-curvature=\"0\" style=\"fill:#b3b3b3;fill-opacity:1;fill-rule:nonzero;stroke:#000000;stroke-width:0.99000001;stroke-linecap:square;stroke-linejoin:miter;stroke-miterlimit:4;stroke-dasharray:none;stroke-dashoffset:0;stroke-opacity:1\" transform=\"translate(0,62.362)\"/>\n",
       "      <path d=\"m 279,468 v 9\" id=\"path3979\" inkscape:connector-curvature=\"0\" style=\"fill:#b3b3b3;fill-opacity:1;fill-rule:nonzero;stroke:#000000;stroke-width:0.99000001;stroke-linecap:square;stroke-linejoin:miter;stroke-miterlimit:4;stroke-dasharray:none;stroke-dashoffset:0;stroke-opacity:1\" transform=\"translate(0,62.362)\"/>\n",
       "      <path d=\"m 495,450 h 90\" id=\"path3981\" inkscape:connector-curvature=\"0\" style=\"fill:#b3b3b3;fill-opacity:1;fill-rule:nonzero;stroke:#000000;stroke-width:0.99000001;stroke-linecap:square;stroke-linejoin:miter;stroke-miterlimit:4;stroke-dasharray:none;stroke-dashoffset:0;stroke-opacity:1\" transform=\"translate(0,62.362)\"/>\n",
       "      <path d=\"m 495,468 h 90\" id=\"path3983\" inkscape:connector-curvature=\"0\" style=\"fill:#b3b3b3;fill-opacity:1;fill-rule:nonzero;stroke:#000000;stroke-width:0.99000001;stroke-linecap:square;stroke-linejoin:miter;stroke-miterlimit:4;stroke-dasharray:none;stroke-dashoffset:0;stroke-opacity:1\" transform=\"translate(0,62.362)\"/>\n",
       "      <path d=\"m 207,450 c -11.61673,8.30829 9.75165,10.97747 0,18\" id=\"path3985\" inkscape:connector-curvature=\"0\" style=\"fill:none;stroke:#000000;stroke-width:1px;stroke-linecap:butt;stroke-linejoin:miter;stroke-opacity:1\" transform=\"translate(0,62.362)\"/>\n",
       "      <path d=\"m 585,441 c 6.19958,6.19958 -4.44931,4.55069 0,9\" id=\"path3987\" inkscape:connector-curvature=\"0\" sodipodi:nodetypes=\"cc\" style=\"fill:none;stroke:#000000;stroke-width:1px;stroke-linecap:butt;stroke-linejoin:miter;stroke-opacity:1\" transform=\"translate(0,62.362)\"/>\n",
       "      <path d=\"m 585,529.71205 c 6.19958,6.19958 -4.44931,4.55069 0,9\" id=\"path3989\" inkscape:connector-curvature=\"0\" sodipodi:nodetypes=\"cc\" style=\"fill:none;stroke:#000000;stroke-width:1px;stroke-linecap:butt;stroke-linejoin:miter;stroke-opacity:1\"/>\n",
       "      <path d=\"m 630,270 h 45\" id=\"path3991\" inkscape:connector-curvature=\"0\" style=\"fill:#b3b3b3;fill-opacity:1;fill-rule:nonzero;stroke:#000000;stroke-width:1.5;stroke-linecap:square;stroke-linejoin:miter;stroke-miterlimit:4;stroke-dasharray:none;stroke-dashoffset:0;stroke-opacity:1;marker-end:url(#Arrow1Mend)\" transform=\"translate(0,62.362)\"/>\n",
       "      <path d=\"M 180,270 H 135\" id=\"path3993\" inkscape:connector-curvature=\"0\" style=\"fill:#b3b3b3;fill-opacity:1;fill-rule:nonzero;stroke:#000000;stroke-width:1.5;stroke-linecap:square;stroke-linejoin:miter;stroke-miterlimit:4;stroke-dasharray:none;stroke-dashoffset:0;stroke-opacity:1;marker-end:url(#Arrow1Mend)\" transform=\"translate(0,62.362)\"/>\n",
       "      <path d=\"M 189,459 H 144\" id=\"path3995\" inkscape:connector-curvature=\"0\" style=\"fill:#b3b3b3;fill-opacity:1;fill-rule:nonzero;stroke:#000000;stroke-width:1.5;stroke-linecap:square;stroke-linejoin:miter;stroke-miterlimit:4;stroke-dasharray:none;stroke-dashoffset:0;stroke-opacity:1;marker-end:url(#Arrow1Mend)\" transform=\"translate(0,62.362)\"/>\n",
       "      <path d=\"m 603,508.86145 h 45\" id=\"path3997\" inkscape:connector-curvature=\"0\" style=\"fill:#b3b3b3;fill-opacity:1;fill-rule:nonzero;stroke:#000000;stroke-width:1.5;stroke-linecap:square;stroke-linejoin:miter;stroke-miterlimit:4;stroke-dasharray:none;stroke-dashoffset:0;stroke-opacity:1;marker-end:url(#Arrow1Mend)\"/>\n",
       "      <path d=\"m 603,535.86145 h 45\" id=\"path3999\" inkscape:connector-curvature=\"0\" style=\"fill:#b3b3b3;fill-opacity:1;fill-rule:nonzero;stroke:#000000;stroke-width:1.5;stroke-linecap:square;stroke-linejoin:miter;stroke-miterlimit:4;stroke-dasharray:none;stroke-dashoffset:0;stroke-opacity:1;marker-end:url(#Arrow1Mend)\"/>\n",
       "      <text id=\"text4451\" style=\"font-style:normal;font-variant:normal;font-weight:normal;font-stretch:normal;line-height:0%;font-family:Verdana;-inkscape-font-specification:Verdana;text-align:start;letter-spacing:0px;word-spacing:0px;writing-mode:lr-tb;text-anchor:start;fill:#000000;fill-opacity:1;stroke:none\" transform=\"translate(0,62.362)\" x=\"113.41713\" xml:space=\"preserve\" y=\"270.29132\"><tspan id=\"tspan4453\" sodipodi:role=\"line\" style=\"font-size:10px;line-height:1.25\" x=\"113.41713\" y=\"270.29132\"> </tspan></text>\n",
       "      <text id=\"text4455\" style=\"font-style:normal;font-variant:normal;font-weight:normal;font-stretch:normal;line-height:0%;font-family:Verdana;-inkscape-font-specification:Verdana;text-align:start;letter-spacing:0px;word-spacing:0px;writing-mode:lr-tb;text-anchor:start;fill:#000000;fill-opacity:1;stroke:none\" x=\"115.51744\" xml:space=\"preserve\" y=\"337.55405\"><tspan id=\"tspan4457\" sodipodi:role=\"line\" style=\"font-size:14px;line-height:1.25\" x=\"115.51744\" y=\"337.55405\">T</tspan></text>\n",
       "      <text id=\"text4459\" style=\"font-style:normal;font-variant:normal;font-weight:normal;font-stretch:normal;line-height:0%;font-family:Verdana;-inkscape-font-specification:Verdana;text-align:start;letter-spacing:0px;word-spacing:0px;writing-mode:lr-tb;text-anchor:start;fill:#000000;fill-opacity:1;stroke:none\" x=\"124.61882\" xml:space=\"preserve\" y=\"525.1825\"><tspan id=\"tspan4461\" sodipodi:role=\"line\" style=\"font-size:14px;line-height:1.25\" x=\"124.61882\" y=\"525.1825\">T</tspan></text>\n",
       "      <text id=\"text4463\" style=\"font-style:normal;font-variant:normal;font-weight:normal;font-stretch:normal;line-height:0%;font-family:Verdana;-inkscape-font-specification:Verdana;text-align:start;letter-spacing:0px;word-spacing:0px;writing-mode:lr-tb;text-anchor:start;fill:#000000;fill-opacity:1;stroke:none\" x=\"688.90405\" xml:space=\"preserve\" y=\"336.15384\"><tspan id=\"tspan4465\" sodipodi:role=\"line\" style=\"font-size:14px;line-height:1.25\" x=\"688.90405\" y=\"336.15384\">T</tspan></text>\n",
       "      <text id=\"text4467\" style=\"font-style:normal;font-variant:normal;font-weight:normal;font-stretch:normal;line-height:0%;font-family:Verdana;-inkscape-font-specification:Verdana;text-align:start;letter-spacing:0px;word-spacing:0px;writing-mode:lr-tb;text-anchor:start;fill:#000000;fill-opacity:1;stroke:none\" x=\"660.19971\" xml:space=\"preserve\" y=\"512.58051\"><tspan id=\"tspan4469\" sodipodi:role=\"line\" style=\"font-size:14px;line-height:1.25\" x=\"660.19971\" y=\"512.58051\">T/2</tspan></text>\n",
       "      <text id=\"text4471\" style=\"font-style:normal;font-variant:normal;font-weight:normal;font-stretch:normal;line-height:0%;font-family:Verdana;-inkscape-font-specification:Verdana;text-align:start;letter-spacing:0px;word-spacing:0px;writing-mode:lr-tb;text-anchor:start;fill:#000000;fill-opacity:1;stroke:none\" x=\"662.30005\" xml:space=\"preserve\" y=\"540.5849\"><tspan id=\"tspan4473\" sodipodi:role=\"line\" style=\"font-size:14px;line-height:1.25\" x=\"662.30005\" y=\"540.5849\">T/2</tspan></text>\n",
       "      <text id=\"text4475\" style=\"font-style:normal;font-variant:normal;font-weight:normal;font-stretch:normal;line-height:0%;font-family:Verdana;-inkscape-font-specification:Verdana;text-align:start;letter-spacing:0px;word-spacing:0px;writing-mode:lr-tb;text-anchor:start;fill:#000000;fill-opacity:1;stroke:none\" x=\"554.48364\" xml:space=\"preserve\" y=\"489.47699\"><tspan id=\"tspan4477\" sodipodi:role=\"line\" style=\"font-size:12px;line-height:1.25\" x=\"554.48364\" y=\"489.47699\">PL10x210</tspan></text>\n",
       "      <text id=\"text4479\" style=\"font-style:normal;font-variant:normal;font-weight:normal;font-stretch:normal;line-height:0%;font-family:Verdana;-inkscape-font-specification:Verdana;text-align:start;letter-spacing:0px;word-spacing:0px;writing-mode:lr-tb;text-anchor:start;fill:#000000;fill-opacity:1;stroke:none\" x=\"159.72231\" xml:space=\"preserve\" y=\"498.37775\"><tspan id=\"tspan4481\" sodipodi:role=\"line\" style=\"font-size:12px;line-height:1.25\" x=\"159.72231\" y=\"498.37775\">PL20x210</tspan></text>\n",
       "      <path d=\"m 225,432 h 18 l 9,18\" id=\"path4483\" inkscape:connector-curvature=\"0\" style=\"fill:none;fill-opacity:1;fill-rule:nonzero;stroke:#000000;stroke-width:0.80000001;stroke-linecap:square;stroke-linejoin:miter;stroke-miterlimit:4;stroke-dasharray:none;stroke-dashoffset:0;stroke-opacity:1;marker-end:url(#Arrow1Mend)\" transform=\"translate(0,62.362)\"/>\n",
       "      <path d=\"m 549,423 h -18 l -18,18\" id=\"path4485\" inkscape:connector-curvature=\"0\" style=\"fill:none;stroke:#000000;stroke-width:0.80000001;stroke-linecap:square;stroke-linejoin:miter;stroke-miterlimit:4;stroke-dasharray:none;stroke-dashoffset:0;stroke-opacity:1;marker-end:url(#Arrow1Mend)\" transform=\"translate(0,62.362)\"/>\n",
       "      <path d=\"m 531,423 -18,45\" id=\"path4487\" inkscape:connector-curvature=\"0\" style=\"fill:none;stroke:#000000;stroke-width:0.80000001;stroke-linecap:square;stroke-linejoin:miter;stroke-miterlimit:4;stroke-dasharray:none;stroke-dashoffset:0;stroke-opacity:1;marker-end:url(#Arrow1Mend)\" transform=\"translate(0,62.362)\"/>\n",
       "      <rect height=\"36\" id=\"rect4677\" style=\"fill:#808080;stroke:none;stroke-width:0.80000001;stroke-linecap:square;stroke-linejoin:miter;stroke-miterlimit:4;stroke-dasharray:none;stroke-dashoffset:0;stroke-opacity:1\" transform=\"translate(0,62.362)\" width=\"18\" x=\"306\" y=\"441\"/>\n",
       "      <rect height=\"36\" id=\"rect4679\" style=\"fill:#808080;stroke:none\" width=\"18\" x=\"350.59979\" y=\"503.362\"/>\n",
       "      <rect height=\"36\" id=\"rect4681\" style=\"fill:#808080;stroke:none\" width=\"18\" x=\"400.59979\" y=\"503.362\"/>\n",
       "      <rect height=\"36\" id=\"rect4683\" style=\"fill:#808080;stroke:none\" width=\"18\" x=\"445.89969\" y=\"503.362\"/>\n",
       "      <path d=\"M 315,153 V 135\" id=\"path4685\" inkscape:connector-curvature=\"0\" style=\"fill:#808080;fill-opacity:1;fill-rule:nonzero;stroke:#4d4d4d;stroke-width:0.75\" transform=\"translate(0,62.362)\"/>\n",
       "      <path d=\"m 359.70011,215.362 v -18\" id=\"path4687\" inkscape:connector-curvature=\"0\" style=\"fill:#808080;fill-opacity:1;fill-rule:nonzero;stroke:#4d4d4d;stroke-width:0.75\"/>\n",
       "      <path d=\"m 408.69021,215.362 v -18\" id=\"path4689\" inkscape:connector-curvature=\"0\" style=\"fill:#808080;fill-opacity:1;fill-rule:nonzero;stroke:#4d4d4d;stroke-width:0.75\"/>\n",
       "      <path d=\"m 454.67041,215.362 v -18\" id=\"path4691\" inkscape:connector-curvature=\"0\" style=\"fill:#808080;fill-opacity:1;fill-rule:nonzero;stroke:#4d4d4d;stroke-width:0.75\"/>\n",
       "      <path d=\"m 530.20506,273.84715 h 18\" id=\"path4693\" inkscape:connector-curvature=\"0\" style=\"fill:#808080;fill-opacity:1;fill-rule:nonzero;stroke:#4d4d4d;stroke-width:0.75\"/>\n",
       "      <path d=\"m 530.20506,318.83725 h 18\" id=\"path4695\" inkscape:connector-curvature=\"0\" style=\"fill:#808080;fill-opacity:1;fill-rule:nonzero;stroke:#4d4d4d;stroke-width:0.75\"/>\n",
       "      <path d=\"m 530.20506,359.82735 h 18\" id=\"path4697\" inkscape:connector-curvature=\"0\" style=\"fill:#808080;fill-opacity:1;fill-rule:nonzero;stroke:#4d4d4d;stroke-width:0.75\"/>\n",
       "      <path d=\"m 530.20506,404.3224 h 18\" id=\"path4699\" inkscape:connector-curvature=\"0\" style=\"fill:#808080;fill-opacity:1;fill-rule:nonzero;stroke:#4d4d4d;stroke-width:0.75\"/>\n",
       "      <path d=\"m 315,144 h 44.70011 48.9901 45.9802\" id=\"path4701\" inkscape:connector-curvature=\"0\" style=\"fill:#808080;fill-opacity:1;fill-rule:nonzero;stroke:#4d4d4d;stroke-width:0.75;stroke-linecap:square;stroke-linejoin:miter;stroke-miterlimit:4;stroke-dasharray:none;stroke-dashoffset:0;stroke-opacity:1;marker-start:url(#DimensionTick);marker-mid:url(#DimensionTick);marker-end:url(#DimensionTick)\" transform=\"translate(0,62.362)\"/>\n",
       "      <path d=\"m 539.10891,369 0.0961,-27.0396 V 297.46535 256.47525 211.48515 180\" id=\"path4703\" inkscape:connector-curvature=\"0\" sodipodi:nodetypes=\"cccccc\" style=\"fill:#808080;fill-opacity:1;fill-rule:nonzero;stroke:#4d4d4d;stroke-width:0.75;stroke-linecap:square;stroke-linejoin:miter;stroke-miterlimit:4;stroke-dasharray:none;stroke-dashoffset:0;stroke-opacity:1;marker-start:url(#DimensionTick);marker-mid:url(#DimensionTick);marker-end:url(#DimensionTick)\" transform=\"translate(0,62.362)\"/>\n",
       "      <text id=\"text5269\" style=\"font-style:normal;font-variant:normal;font-weight:normal;font-stretch:normal;line-height:0%;font-family:Verdana;-inkscape-font-specification:Verdana;text-align:start;letter-spacing:0px;word-spacing:0px;writing-mode:lr-tb;text-anchor:start;fill:#000000;fill-opacity:1;stroke:none\" x=\"333.1683\" xml:space=\"preserve\" y=\"203.88675\"><tspan id=\"tspan5271\" sodipodi:role=\"line\" style=\"font-size:10px;line-height:1.25\" x=\"333.1683\" y=\"203.88675\">50</tspan></text>\n",
       "      <text id=\"text5273\" style=\"font-style:normal;font-variant:normal;font-weight:normal;font-stretch:normal;line-height:0%;font-family:Verdana;-inkscape-font-specification:Verdana;text-align:start;letter-spacing:0px;word-spacing:0px;writing-mode:lr-tb;text-anchor:start;fill:#000000;fill-opacity:1;stroke:none\" x=\"378.2178\" xml:space=\"preserve\" y=\"203.88676\"><tspan id=\"tspan5275\" sodipodi:role=\"line\" style=\"font-size:10px;line-height:1.25\" x=\"378.2178\" y=\"203.88676\">55</tspan></text>\n",
       "      <text id=\"text5277\" style=\"font-style:normal;font-variant:normal;font-weight:normal;font-stretch:normal;line-height:0%;font-family:Verdana;-inkscape-font-specification:Verdana;text-align:start;letter-spacing:0px;word-spacing:0px;writing-mode:lr-tb;text-anchor:start;fill:#000000;fill-opacity:1;stroke:none\" x=\"425.74249\" xml:space=\"preserve\" y=\"204.4016\"><tspan id=\"tspan5279\" sodipodi:role=\"line\" style=\"font-size:10px;line-height:1.25\" x=\"425.74249\" y=\"204.4016\">50</tspan></text>\n",
       "      <text id=\"text5281\" style=\"font-style:normal;font-variant:normal;font-weight:normal;font-stretch:normal;line-height:0%;font-family:Verdana;-inkscape-font-specification:Verdana;text-align:start;letter-spacing:0px;word-spacing:0px;writing-mode:lr-tb;text-anchor:start;fill:#000000;fill-opacity:1;stroke:none\" transform=\"rotate(-90)\" x=\"-266.56851\" xml:space=\"preserve\" y=\"535.85327\"><tspan id=\"tspan5283\" sodipodi:role=\"line\" style=\"font-size:10px;line-height:1.25\" x=\"-266.56851\" y=\"535.85327\">35</tspan></text>\n",
       "      <text id=\"text5285\" style=\"font-style:normal;font-variant:normal;font-weight:normal;font-stretch:normal;line-height:0%;font-family:Verdana;-inkscape-font-specification:Verdana;text-align:start;letter-spacing:0px;word-spacing:0px;writing-mode:lr-tb;text-anchor:start;fill:#000000;fill-opacity:1;stroke:none\" transform=\"rotate(-90)\" x=\"-303.21844\" xml:space=\"preserve\" y=\"535.92407\"><tspan id=\"tspan5287\" sodipodi:role=\"line\" style=\"font-size:10px;line-height:1.25\" x=\"-303.21844\" y=\"535.92407\">50</tspan></text>\n",
       "      <text id=\"text5289\" style=\"font-style:normal;font-variant:normal;font-weight:normal;font-stretch:normal;line-height:0%;font-family:Verdana;-inkscape-font-specification:Verdana;text-align:start;letter-spacing:0px;word-spacing:0px;writing-mode:lr-tb;text-anchor:start;fill:#000000;fill-opacity:1;stroke:none\" transform=\"rotate(-90)\" x=\"-344.60269\" xml:space=\"preserve\" y=\"536.56775\"><tspan id=\"tspan5291\" sodipodi:role=\"line\" style=\"font-size:10px;line-height:1.25\" x=\"-344.60269\" y=\"536.56775\">45</tspan></text>\n",
       "      <text id=\"text5293\" style=\"font-style:normal;font-variant:normal;font-weight:normal;font-stretch:normal;line-height:0%;font-family:Verdana;-inkscape-font-specification:Verdana;text-align:start;letter-spacing:0px;word-spacing:0px;writing-mode:lr-tb;text-anchor:start;fill:#000000;fill-opacity:1;stroke:none\" transform=\"rotate(-90)\" x=\"-388.88181\" xml:space=\"preserve\" y=\"536.41907\"><tspan id=\"tspan5295\" sodipodi:role=\"line\" style=\"font-size:10px;line-height:1.25\" x=\"-388.88181\" y=\"536.41907\">50</tspan></text>\n",
       "      <text id=\"text5297\" style=\"font-style:normal;font-variant:normal;font-weight:normal;font-stretch:normal;line-height:0%;font-family:Verdana;-inkscape-font-specification:Verdana;text-align:start;letter-spacing:0px;word-spacing:0px;writing-mode:lr-tb;text-anchor:start;fill:#000000;fill-opacity:1;stroke:none\" transform=\"rotate(-90)\" x=\"-424.45432\" xml:space=\"preserve\" y=\"536.35291\"><tspan id=\"tspan5299\" sodipodi:role=\"line\" style=\"font-size:10px;line-height:1.25\" x=\"-424.45432\" y=\"536.35291\">30</tspan></text>\n",
       "    </g>\n",
       "  </g>\n",
       "</svg>"
      ],
      "text/plain": [
       "<IPython.core.display.SVG object>"
      ]
     },
     "metadata": {},
     "output_type": "display_data"
    }
   ],
   "source": [
    "fig(\"lap-plates-1.svg\")"
   ]
  },
  {
   "cell_type": "markdown",
   "metadata": {},
   "source": [
    "**Lap Plate Connection**"
   ]
  },
  {
   "cell_type": "markdown",
   "metadata": {},
   "source": [
    "Please note that this  type of hole pattern rarely occurs in practice -- \n",
    "practical patterns are more regular and 'grid-like'.  This example illustrates:\n",
    "* how failure paths depend on the direction of the load relative to the hole group.\n",
    "* the calculations necessary to determine a net cross-sectional area for each potential failure path.\n",
    "\n",
    "The  figure shows an irregular bolt pattern in a lap tension splice.  To determine the\n",
    "net areas of the plates, we must examine every possible failure path that has the\n",
    "following attributes:\n",
    "\n",
    "* it separates each plate into 2 complete parts.\n",
    "* it is of minimum length for that path.\n",
    "* there are no bolts or holes completely on the loaded side of the path; all of the bolt bearing areas are on the side opposite the load.\n",
    "\n",
    "We then determine the area from the path with minimum width.\n",
    "\n",
    "In this example, we will assume M20 bolts in punched holes, and thus the hole\n",
    "allowance to be used is $d = 20~\\mathrm{mm}+2~\\mathrm{mm}+2~\\mathrm{mm} = 24~\\mathrm{mm}$.\n"
   ]
  },
  {
   "cell_type": "markdown",
   "metadata": {},
   "source": [
    "#### Compute with units"
   ]
  },
  {
   "cell_type": "code",
   "execution_count": 3,
   "metadata": {},
   "outputs": [],
   "source": [
    "import pint                   # setup to use the module for computing with units\n",
    "ureg = pint.UnitRegistry()\n",
    "mm = ureg['mm']\n",
    "ureg.default_format = '~P'\n",
    "\n",
    "# if you do not want to use units, simply uncomment the following line:\n",
    "# mm = 1"
   ]
  },
  {
   "cell_type": "markdown",
   "metadata": {},
   "source": [
    "## The 10mm Plates (outer plates)\n",
    "\n",
    "The  shows the paths appropriate for investigating the strength of the outside (10mm) plates.\n",
    "For this case, the loaded side of the connection is toward the right side, and so there are\n",
    "no complete holes on that side of any path."
   ]
  },
  {
   "cell_type": "code",
   "execution_count": 4,
   "metadata": {
    "tags": [
     "hide_input"
    ]
   },
   "outputs": [
    {
     "data": {
      "image/svg+xml": [
       "<svg height=\"3.2381353in\" id=\"svg2\" inkscape:version=\"0.92.4 (unknown)\" sodipodi:docname=\"paths-1i.svg\" version=\"1.1\" viewBox=\"0 0 463.78102 291.43218\" width=\"5.1531224in\" xmlns=\"http://www.w3.org/2000/svg\" xmlns:cc=\"http://creativecommons.org/ns#\" xmlns:dc=\"http://purl.org/dc/elements/1.1/\" xmlns:inkscape=\"http://www.inkscape.org/namespaces/inkscape\" xmlns:rdf=\"http://www.w3.org/1999/02/22-rdf-syntax-ns#\" xmlns:sodipodi=\"http://sodipodi.sourceforge.net/DTD/sodipodi-0.dtd\" xmlns:svg=\"http://www.w3.org/2000/svg\" xmlns:xlink=\"http://www.w3.org/1999/xlink\">\n",
       "  <script id=\"script3033\" xlink:href=\"\"/>\n",
       "  <defs id=\"defs4\">\n",
       "    <marker id=\"Arrow1Mend\" inkscape:stockid=\"Arrow1Mend\" orient=\"auto\" refX=\"0\" refY=\"0\" style=\"overflow:visible\">\n",
       "      <path d=\"M 0,0 5,-5 -12.5,0 5,5 Z\" id=\"path4013\" inkscape:connector-curvature=\"0\" style=\"fill-rule:evenodd;stroke:#000000;stroke-width:1.00000003pt;marker-start:none\" transform=\"matrix(-0.4,0,0,-0.4,-4,0)\"/>\n",
       "    </marker>\n",
       "    <!-- markers by NMH <nholtz@cee.carleton.ca> -->\n",
       "    <marker id=\"DimensionTick\" inkscape:stockid=\"DimensionTick\" orient=\"auto\" refX=\"0\" refY=\"0\" style=\"overflow:visible\">\n",
       "      <path d=\"M 0,0 8,8\" id=\"path3100\" inkscape:connector-curvature=\"0\" style=\"stroke:#4d4d4d;stroke-width:1px;marker-start:none\" transform=\"translate(-4,-4)\"/>\n",
       "    </marker>\n",
       "    <marker id=\"TrussNodeS\" inkscape:stockid=\"TrussNodeS\" markerUnits=\"userSpaceOnUse\" orient=\"auto\" refX=\"0\" refY=\"0\" style=\"overflow:visible\">\n",
       "      <circle cx=\"0\" cy=\"0\" id=\"circle3103\" r=\"3\" style=\"fill:#ffffff;stroke:#000000;stroke-width:1\"/>\n",
       "    </marker>\n",
       "    <marker id=\"TrussNodeM\" inkscape:stockid=\"TrussNodeM\" markerUnits=\"userSpaceOnUse\" orient=\"auto\" refX=\"0\" refY=\"0\" style=\"overflow:visible\">\n",
       "      <circle cx=\"0\" cy=\"0\" id=\"circle3106\" r=\"4\" style=\"fill:#ffffff;stroke:#000000;stroke-width:1\"/>\n",
       "    </marker>\n",
       "  </defs>\n",
       "  <sodipodi:namedview bordercolor=\"#666666\" borderopacity=\"1.0\" fit-margin-bottom=\"0.1\" fit-margin-left=\"0.1\" fit-margin-right=\"0.1\" fit-margin-top=\"0.1\" id=\"base\" inkscape:current-layer=\"layer1\" inkscape:cx=\"237.60329\" inkscape:cy=\"156.38804\" inkscape:document-units=\"in\" inkscape:object-paths=\"true\" inkscape:pageopacity=\"0.0\" inkscape:pageshadow=\"2\" inkscape:snap-global=\"false\" inkscape:snap-grids=\"false\" inkscape:snap-intersection-paths=\"true\" inkscape:snap-nodes=\"true\" inkscape:snap-object-midpoints=\"true\" inkscape:window-height=\"979\" inkscape:window-maximized=\"0\" inkscape:window-width=\"1179\" inkscape:window-x=\"702\" inkscape:window-y=\"53\" inkscape:zoom=\"2.02\" pagecolor=\"#ffffff\" showgrid=\"true\" showguides=\"true\" units=\"in\">\n",
       "    <inkscape:grid empspacing=\"5\" enabled=\"true\" id=\"grid2985\" originx=\"-242.74998\" originy=\"-584.06427\" snapvisiblegridlinesonly=\"true\" spacingx=\"9\" spacingy=\"9\" type=\"xygrid\" units=\"in\" visible=\"true\"/>\n",
       "    <sodipodi:guide id=\"guide3042\" inkscape:locked=\"false\" orientation=\"0,765\" position=\"-242.74997,-584.06429\"/>\n",
       "    <sodipodi:guide id=\"guide3044\" inkscape:locked=\"false\" orientation=\"-990,0\" position=\"474.43748,-584.06429\"/>\n",
       "    <sodipodi:guide id=\"guide3046\" inkscape:locked=\"false\" orientation=\"0,-765\" position=\"474.43748,344.06064\"/>\n",
       "    <sodipodi:guide id=\"guide3048\" inkscape:locked=\"false\" orientation=\"990,0\" position=\"-242.74997,344.06064\"/>\n",
       "    <sodipodi:guide id=\"guide3050\" inkscape:locked=\"false\" orientation=\"0,765\" position=\"432.24998,-541.87679\"/>\n",
       "    <sodipodi:guide id=\"guide3052\" inkscape:locked=\"false\" orientation=\"-990,0\" position=\"432.24998,259.68564\"/>\n",
       "    <sodipodi:guide id=\"guide3054\" inkscape:locked=\"false\" orientation=\"0,-765\" position=\"-183.68749,259.68564\"/>\n",
       "    <sodipodi:guide id=\"guide3056\" inkscape:locked=\"false\" orientation=\"990,0\" position=\"-158.37499,284.99815\"/>\n",
       "  </sodipodi:namedview>\n",
       "  <metadata id=\"metadata7\">\n",
       "    <rdf:RDF>\n",
       "      <cc:Work rdf:about=\"\">\n",
       "        <dc:format>image/svg+xml</dc:format>\n",
       "        <dc:type rdf:resource=\"http://purl.org/dc/dcmitype/StillImage\"/>\n",
       "        <dc:title/>\n",
       "        <cc:license rdf:resource=\"http://creativecommons.org/licenses/by-nc/4.0/\"/>\n",
       "      </cc:Work>\n",
       "      <cc:License rdf:about=\"http://creativecommons.org/licenses/by-nc/4.0/\">\n",
       "        <cc:permits rdf:resource=\"http://creativecommons.org/ns#Reproduction\"/>\n",
       "        <cc:permits rdf:resource=\"http://creativecommons.org/ns#Distribution\"/>\n",
       "        <cc:requires rdf:resource=\"http://creativecommons.org/ns#Notice\"/>\n",
       "        <cc:requires rdf:resource=\"http://creativecommons.org/ns#Attribution\"/>\n",
       "        <cc:prohibits rdf:resource=\"http://creativecommons.org/ns#CommercialUse\"/>\n",
       "        <cc:permits rdf:resource=\"http://creativecommons.org/ns#DerivativeWorks\"/>\n",
       "      </cc:License>\n",
       "    </rdf:RDF>\n",
       "  </metadata>\n",
       "  <g id=\"layer1\" inkscape:groupmode=\"layer\" inkscape:label=\"Layer 1\" transform=\"translate(-242.75,-176.86546)\">\n",
       "    <circle cx=\"359.94986\" cy=\"273.71204\" id=\"path3159\" r=\"9\" style=\"fill:#b3b3b3;stroke:#000000;stroke-width:1;stroke-linecap:square;stroke-linejoin:miter;stroke-miterlimit:4;stroke-dasharray:none;stroke-dashoffset:0;stroke-opacity:1\"/>\n",
       "    <circle cx=\"315\" cy=\"319.01196\" id=\"path3161\" r=\"9\" style=\"fill:#b3b3b3;stroke:#000000;stroke-width:1;stroke-linecap:square;stroke-linejoin:miter;stroke-miterlimit:4;stroke-dasharray:none;stroke-dashoffset:0;stroke-opacity:1\"/>\n",
       "    <circle cx=\"409.35004\" cy=\"319.01196\" id=\"path3163\" r=\"9\" style=\"fill:#b3b3b3;stroke:#000000;stroke-width:1;stroke-linecap:square;stroke-linejoin:miter;stroke-miterlimit:4;stroke-dasharray:none;stroke-dashoffset:0;stroke-opacity:1\"/>\n",
       "    <circle cx=\"455\" cy=\"359.01196\" id=\"path3165\" r=\"9\" style=\"fill:#b3b3b3;stroke:#000000;stroke-width:1;stroke-linecap:square;stroke-linejoin:miter;stroke-miterlimit:4;stroke-dasharray:none;stroke-dashoffset:0;stroke-opacity:1\"/>\n",
       "    <circle cx=\"359.94986\" cy=\"404.6619\" id=\"path3167\" r=\"9\" style=\"fill:#b3b3b3;stroke:#000000;stroke-width:1;stroke-linecap:square;stroke-linejoin:miter;stroke-miterlimit:4;stroke-dasharray:none;stroke-dashoffset:0;stroke-opacity:1\"/>\n",
       "    <path d=\"M 279.10644,242.362 H 585\" id=\"path3120\" inkscape:connector-curvature=\"0\" sodipodi:nodetypes=\"cc\" style=\"fill:none;stroke:#000000;stroke-width:1;stroke-linecap:square;stroke-linejoin:miter;stroke-miterlimit:4;stroke-dasharray:none;stroke-dashoffset:0;stroke-opacity:1\"/>\n",
       "    <path d=\"M 279.10644,431.362 H 585 v 0\" id=\"path3122\" inkscape:connector-curvature=\"0\" sodipodi:nodetypes=\"ccc\" style=\"fill:none;stroke:#000000;stroke-width:1;stroke-linecap:square;stroke-linejoin:miter;stroke-miterlimit:4;stroke-dasharray:none;stroke-dashoffset:0;stroke-opacity:1\"/>\n",
       "    <path d=\"m 315,224.362 v 225\" id=\"path3124\" inkscape:connector-curvature=\"0\" style=\"fill:none;stroke:#808080;stroke-width:0.5;stroke-linecap:square;stroke-linejoin:miter;stroke-miterlimit:4;stroke-dasharray:none;stroke-dashoffset:0;stroke-opacity:1\"/>\n",
       "    <path d=\"m 359.94985,224.362 v 225\" id=\"path3126\" inkscape:connector-curvature=\"0\" style=\"fill:none;stroke:#808080;stroke-width:0.5;stroke-linecap:square;stroke-linejoin:miter;stroke-miterlimit:4;stroke-dasharray:none;stroke-dashoffset:0;stroke-opacity:1\"/>\n",
       "    <path d=\"m 409.35005,224.362 v 225\" id=\"path3128\" inkscape:connector-curvature=\"0\" style=\"fill:none;stroke:#808080;stroke-width:0.5;stroke-linecap:square;stroke-linejoin:miter;stroke-miterlimit:4;stroke-dasharray:none;stroke-dashoffset:0;stroke-opacity:1\"/>\n",
       "    <path d=\"m 455,224.362 v 225\" id=\"path3130\" inkscape:connector-curvature=\"0\" style=\"fill:none;stroke:#808080;stroke-width:0.5;stroke-linecap:square;stroke-linejoin:miter;stroke-miterlimit:4;stroke-dasharray:none;stroke-dashoffset:0;stroke-opacity:1\"/>\n",
       "    <path d=\"M 252,404.6619 H 522\" id=\"path3132\" inkscape:connector-curvature=\"0\" style=\"fill:none;stroke:#808080;stroke-width:0.5;stroke-linecap:square;stroke-linejoin:miter;stroke-miterlimit:4;stroke-dasharray:none;stroke-dashoffset:0;stroke-opacity:1\"/>\n",
       "    <path d=\"M 252,359.01195 H 522\" id=\"path3134\" inkscape:connector-curvature=\"0\" style=\"fill:none;stroke:#808080;stroke-width:0.5;stroke-linecap:square;stroke-linejoin:miter;stroke-miterlimit:4;stroke-dasharray:none;stroke-dashoffset:0;stroke-opacity:1\"/>\n",
       "    <path d=\"M 252,319.01195 H 522\" id=\"path3136\" inkscape:connector-curvature=\"0\" style=\"fill:none;stroke:#808080;stroke-width:0.5;stroke-linecap:square;stroke-linejoin:miter;stroke-miterlimit:4;stroke-dasharray:none;stroke-dashoffset:0;stroke-opacity:1\"/>\n",
       "    <path d=\"M 252,273.71205 H 522\" id=\"path3138\" inkscape:connector-curvature=\"0\" style=\"fill:none;stroke:#808080;stroke-width:0.5;stroke-linecap:square;stroke-linejoin:miter;stroke-miterlimit:4;stroke-dasharray:none;stroke-dashoffset:0;stroke-opacity:1\"/>\n",
       "    <path d=\"m 279.70297,242.362 -0.49505,189\" id=\"path3169\" inkscape:connector-curvature=\"0\" style=\"fill:#b3b3b3;fill-opacity:1;fill-rule:nonzero;stroke:#000000;stroke-width:1;stroke-linecap:square;stroke-linejoin:miter;stroke-miterlimit:4;stroke-dasharray:none;stroke-dashoffset:0;stroke-opacity:1\"/>\n",
       "    <path d=\"m 496,242.362 v 189\" id=\"path3171\" inkscape:connector-curvature=\"0\" style=\"fill:#b3b3b3;fill-opacity:1;fill-rule:nonzero;stroke:#000000;stroke-width:0.99000001;stroke-linecap:square;stroke-linejoin:miter;stroke-miterlimit:4;stroke-dasharray:0.99, 5.94;stroke-dashoffset:0;stroke-opacity:1\"/>\n",
       "    <path d=\"m 585,242.362 c -8.28322,17.5784 -19.92071,50.15858 -9,72 4.78286,9.56572 15.14194,24.56776 18,36 5.50931,22.03727 -7.2233,63.27428 -9,81\" id=\"path3965\" inkscape:connector-curvature=\"0\" sodipodi:nodetypes=\"cssc\" style=\"fill:none;stroke:#000000;stroke-width:1px;stroke-linecap:butt;stroke-linejoin:miter;stroke-opacity:1\"/>\n",
       "    <path d=\"m 630,332.362 h 45\" id=\"path3991\" inkscape:connector-curvature=\"0\" style=\"fill:#b3b3b3;fill-opacity:1;fill-rule:nonzero;stroke:#000000;stroke-width:1.5;stroke-linecap:square;stroke-linejoin:miter;stroke-miterlimit:4;stroke-dasharray:none;stroke-dashoffset:0;stroke-opacity:1;marker-end:url(#Arrow1Mend)\"/>\n",
       "    <text id=\"text4463\" style=\"font-style:normal;font-variant:normal;font-weight:normal;font-stretch:normal;line-height:0%;font-family:Verdana;-inkscape-font-specification:Verdana;text-align:start;letter-spacing:0px;word-spacing:0px;writing-mode:lr-tb;text-anchor:start;fill:#000000;fill-opacity:1;stroke:none\" x=\"688.90405\" xml:space=\"preserve\" y=\"336.15384\"><tspan id=\"tspan4465\" sodipodi:role=\"line\" style=\"font-size:14px;line-height:1.25\" x=\"688.90405\" y=\"336.15384\">T</tspan></text>\n",
       "    <path d=\"m 315,215.362 v -18\" id=\"path4685\" inkscape:connector-curvature=\"0\" style=\"fill:#808080;fill-opacity:1;fill-rule:nonzero;stroke:#4d4d4d;stroke-width:0.75\"/>\n",
       "    <path d=\"m 359.70011,215.362 v -18\" id=\"path4687\" inkscape:connector-curvature=\"0\" style=\"fill:#808080;fill-opacity:1;fill-rule:nonzero;stroke:#4d4d4d;stroke-width:0.75\"/>\n",
       "    <path d=\"m 408.69021,215.362 v -18\" id=\"path4689\" inkscape:connector-curvature=\"0\" style=\"fill:#808080;fill-opacity:1;fill-rule:nonzero;stroke:#4d4d4d;stroke-width:0.75\"/>\n",
       "    <path d=\"m 454.67041,215.362 v -18\" id=\"path4691\" inkscape:connector-curvature=\"0\" style=\"fill:#808080;fill-opacity:1;fill-rule:nonzero;stroke:#4d4d4d;stroke-width:0.75\"/>\n",
       "    <path d=\"m 530.20506,273.84715 h 18\" id=\"path4693\" inkscape:connector-curvature=\"0\" style=\"fill:#808080;fill-opacity:1;fill-rule:nonzero;stroke:#4d4d4d;stroke-width:0.75\"/>\n",
       "    <path d=\"m 530.20506,318.83725 h 18\" id=\"path4695\" inkscape:connector-curvature=\"0\" style=\"fill:#808080;fill-opacity:1;fill-rule:nonzero;stroke:#4d4d4d;stroke-width:0.75\"/>\n",
       "    <path d=\"m 530.20506,359.82735 h 18\" id=\"path4697\" inkscape:connector-curvature=\"0\" style=\"fill:#808080;fill-opacity:1;fill-rule:nonzero;stroke:#4d4d4d;stroke-width:0.75\"/>\n",
       "    <path d=\"m 530.20506,404.3224 h 18\" id=\"path4699\" inkscape:connector-curvature=\"0\" style=\"fill:#808080;fill-opacity:1;fill-rule:nonzero;stroke:#4d4d4d;stroke-width:0.75\"/>\n",
       "    <path d=\"m 315,206.362 h 44.70011 48.9901 45.9802\" id=\"path4701\" inkscape:connector-curvature=\"0\" style=\"fill:#808080;fill-opacity:1;fill-rule:nonzero;stroke:#4d4d4d;stroke-width:0.75;stroke-linecap:square;stroke-linejoin:miter;stroke-miterlimit:4;stroke-dasharray:none;stroke-dashoffset:0;stroke-opacity:1;marker-start:url(#DimensionTick);marker-mid:url(#DimensionTick);marker-end:url(#DimensionTick)\"/>\n",
       "    <path d=\"m 539.10891,431.362 0.0961,-27.0396 v -44.49505 -40.9901 -44.9901 -31.48515\" id=\"path4703\" inkscape:connector-curvature=\"0\" sodipodi:nodetypes=\"cccccc\" style=\"fill:#808080;fill-opacity:1;fill-rule:nonzero;stroke:#4d4d4d;stroke-width:0.75;stroke-linecap:square;stroke-linejoin:miter;stroke-miterlimit:4;stroke-dasharray:none;stroke-dashoffset:0;stroke-opacity:1;marker-start:url(#DimensionTick);marker-mid:url(#DimensionTick);marker-end:url(#DimensionTick)\"/>\n",
       "    <text id=\"text5269\" style=\"font-style:normal;font-variant:normal;font-weight:normal;font-stretch:normal;line-height:0%;font-family:Verdana;-inkscape-font-specification:Verdana;text-align:start;letter-spacing:0px;word-spacing:0px;writing-mode:lr-tb;text-anchor:start;fill:#000000;fill-opacity:1;stroke:none\" x=\"333.1683\" xml:space=\"preserve\" y=\"203.88675\"><tspan id=\"tspan5271\" sodipodi:role=\"line\" style=\"font-size:10px;line-height:1.25\" x=\"333.1683\" y=\"203.88675\">50</tspan></text>\n",
       "    <text id=\"text5273\" style=\"font-style:normal;font-variant:normal;font-weight:normal;font-stretch:normal;line-height:0%;font-family:Verdana;-inkscape-font-specification:Verdana;text-align:start;letter-spacing:0px;word-spacing:0px;writing-mode:lr-tb;text-anchor:start;fill:#000000;fill-opacity:1;stroke:none\" x=\"378.2178\" xml:space=\"preserve\" y=\"203.88676\"><tspan id=\"tspan5275\" sodipodi:role=\"line\" style=\"font-size:10px;line-height:1.25\" x=\"378.2178\" y=\"203.88676\">55</tspan></text>\n",
       "    <text id=\"text5277\" style=\"font-style:normal;font-variant:normal;font-weight:normal;font-stretch:normal;line-height:0%;font-family:Verdana;-inkscape-font-specification:Verdana;text-align:start;letter-spacing:0px;word-spacing:0px;writing-mode:lr-tb;text-anchor:start;fill:#000000;fill-opacity:1;stroke:none\" x=\"425.74249\" xml:space=\"preserve\" y=\"204.4016\"><tspan id=\"tspan5279\" sodipodi:role=\"line\" style=\"font-size:10px;line-height:1.25\" x=\"425.74249\" y=\"204.4016\">50</tspan></text>\n",
       "    <text id=\"text5281\" style=\"font-style:normal;font-variant:normal;font-weight:normal;font-stretch:normal;line-height:0%;font-family:Verdana;-inkscape-font-specification:Verdana;text-align:start;letter-spacing:0px;word-spacing:0px;writing-mode:lr-tb;text-anchor:start;fill:#000000;fill-opacity:1;stroke:none\" transform=\"rotate(-90)\" x=\"-266.56851\" xml:space=\"preserve\" y=\"535.85327\"><tspan id=\"tspan5283\" sodipodi:role=\"line\" style=\"font-size:10px;line-height:1.25\" x=\"-266.56851\" y=\"535.85327\">35</tspan></text>\n",
       "    <text id=\"text5285\" style=\"font-style:normal;font-variant:normal;font-weight:normal;font-stretch:normal;line-height:0%;font-family:Verdana;-inkscape-font-specification:Verdana;text-align:start;letter-spacing:0px;word-spacing:0px;writing-mode:lr-tb;text-anchor:start;fill:#000000;fill-opacity:1;stroke:none\" transform=\"rotate(-90)\" x=\"-303.21844\" xml:space=\"preserve\" y=\"535.92407\"><tspan id=\"tspan5287\" sodipodi:role=\"line\" style=\"font-size:10px;line-height:1.25\" x=\"-303.21844\" y=\"535.92407\">50</tspan></text>\n",
       "    <text id=\"text5289\" style=\"font-style:normal;font-variant:normal;font-weight:normal;font-stretch:normal;line-height:0%;font-family:Verdana;-inkscape-font-specification:Verdana;text-align:start;letter-spacing:0px;word-spacing:0px;writing-mode:lr-tb;text-anchor:start;fill:#000000;fill-opacity:1;stroke:none\" transform=\"rotate(-90)\" x=\"-344.60269\" xml:space=\"preserve\" y=\"536.56775\"><tspan id=\"tspan5291\" sodipodi:role=\"line\" style=\"font-size:10px;line-height:1.25\" x=\"-344.60269\" y=\"536.56775\">45</tspan></text>\n",
       "    <text id=\"text5293\" style=\"font-style:normal;font-variant:normal;font-weight:normal;font-stretch:normal;line-height:0%;font-family:Verdana;-inkscape-font-specification:Verdana;text-align:start;letter-spacing:0px;word-spacing:0px;writing-mode:lr-tb;text-anchor:start;fill:#000000;fill-opacity:1;stroke:none\" transform=\"rotate(-90)\" x=\"-388.88181\" xml:space=\"preserve\" y=\"536.41907\"><tspan id=\"tspan5295\" sodipodi:role=\"line\" style=\"font-size:10px;line-height:1.25\" x=\"-388.88181\" y=\"536.41907\">50</tspan></text>\n",
       "    <text id=\"text5297\" style=\"font-style:normal;font-variant:normal;font-weight:normal;font-stretch:normal;line-height:0%;font-family:Verdana;-inkscape-font-specification:Verdana;text-align:start;letter-spacing:0px;word-spacing:0px;writing-mode:lr-tb;text-anchor:start;fill:#000000;fill-opacity:1;stroke:none\" transform=\"rotate(-90)\" x=\"-424.45432\" xml:space=\"preserve\" y=\"536.35291\"><tspan id=\"tspan5299\" sodipodi:role=\"line\" style=\"font-size:10px;line-height:1.25\" x=\"-424.45432\" y=\"536.35291\">30</tspan></text>\n",
       "    <path d=\"m 455,229.58972 v 129.42223 86.91441\" id=\"path5301\" inkscape:connector-curvature=\"0\" style=\"fill:#808080;fill-opacity:1;fill-rule:nonzero;stroke:#800000;stroke-width:1;stroke-linecap:square;stroke-linejoin:miter;stroke-miterlimit:4;stroke-dasharray:6, 6;stroke-dashoffset:0;stroke-opacity:1\"/>\n",
       "    <path d=\"m 409.35005,230.57982 v 88.43213 l 45.64995,40\" id=\"path5303\" inkscape:connector-curvature=\"0\" style=\"fill:none;fill-opacity:1;fill-rule:nonzero;stroke:#800000;stroke-width:1;stroke-linecap:square;stroke-linejoin:miter;stroke-miterlimit:4;stroke-dasharray:6, 6;stroke-dashoffset:0;stroke-opacity:1\"/>\n",
       "    <path d=\"m 359.94985,230.57982 v 43.13223 l 49.4002,45.2999\" id=\"path5305\" inkscape:connector-curvature=\"0\" style=\"fill:none;stroke:#800000;stroke-width:1;stroke-linecap:square;stroke-linejoin:miter;stroke-miterlimit:4;stroke-dasharray:6, 6;stroke-dashoffset:0;stroke-opacity:1\"/>\n",
       "    <path d=\"m 455,359.01195 -95.05015,45.64995 v 40.27436\" id=\"path5307\" inkscape:connector-curvature=\"0\" style=\"fill:none;stroke:#800000;stroke-width:1;stroke-linecap:square;stroke-linejoin:miter;stroke-miterlimit:4;stroke-dasharray:6, 6;stroke-dashoffset:0;stroke-opacity:1\"/>\n",
       "    <g id=\"g5345\" transform=\"translate(0,-4)\">\n",
       "      <text id=\"text5325\" style=\"font-style:normal;font-variant:normal;font-weight:normal;font-stretch:normal;line-height:0%;font-family:Verdana;-inkscape-font-specification:Verdana;text-align:start;letter-spacing:0px;word-spacing:0px;writing-mode:lr-tb;text-anchor:start;fill:#000000;fill-opacity:1;stroke:none\" x=\"355.94058\" xml:space=\"preserve\" y=\"458.79764\"><tspan id=\"tspan5327\" sodipodi:role=\"line\" style=\"font-size:10px;line-height:1.25\" x=\"355.94058\" y=\"458.79764\">4</tspan></text>\n",
       "      <circle cx=\"322.02969\" cy=\"405.59406\" id=\"path5329\" r=\"7.6732674\" style=\"fill:none;stroke:#800000;stroke-width:1;stroke-linecap:square;stroke-linejoin:miter;stroke-miterlimit:4;stroke-dasharray:none;stroke-dashoffset:0;stroke-opacity:1\" transform=\"translate(37.376239,49.530316)\"/>\n",
       "    </g>\n",
       "    <g id=\"g5360\" transform=\"translate(-6,-4.5148515)\">\n",
       "      <text id=\"text5309\" style=\"font-style:normal;font-variant:normal;font-weight:normal;font-stretch:normal;line-height:0%;font-family:Verdana;-inkscape-font-specification:Verdana;text-align:start;letter-spacing:0px;word-spacing:0px;writing-mode:lr-tb;text-anchor:start;fill:#000000;fill-opacity:1;stroke:none\" transform=\"translate(0,62.362)\" x=\"458.41583\" xml:space=\"preserve\" y=\"169.20792\"><tspan id=\"tspan5311\" sodipodi:role=\"line\" style=\"font-size:10px;line-height:1.25\" x=\"458.41583\" y=\"169.20792\">1</tspan></text>\n",
       "      <circle cx=\"322.02969\" cy=\"405.59406\" id=\"path5339\" r=\"7.6732674\" style=\"fill:none;stroke:#800000;stroke-width:1;stroke-linecap:square;stroke-linejoin:miter;stroke-miterlimit:4;stroke-dasharray:none;stroke-dashoffset:0;stroke-opacity:1\" transform=\"translate(139.35644,-177.69741)\"/>\n",
       "    </g>\n",
       "    <g id=\"g5355\" transform=\"translate(-6.4950495,-0.51485149)\">\n",
       "      <text id=\"text5313\" style=\"font-style:normal;font-variant:normal;font-weight:normal;font-stretch:normal;line-height:0%;font-family:Verdana;-inkscape-font-specification:Verdana;text-align:start;letter-spacing:0px;word-spacing:0px;writing-mode:lr-tb;text-anchor:start;fill:#000000;fill-opacity:1;stroke:none\" transform=\"translate(0,62.362)\" x=\"412.37625\" xml:space=\"preserve\" y=\"165.74257\"><tspan id=\"tspan5315\" sodipodi:role=\"line\" style=\"font-size:10px;line-height:1.25\" x=\"412.37625\" y=\"165.74257\">2</tspan></text>\n",
       "      <circle cx=\"322.02969\" cy=\"405.59406\" id=\"path5341\" r=\"7.6732674\" style=\"fill:none;stroke:#800000;stroke-width:1;stroke-linecap:square;stroke-linejoin:miter;stroke-miterlimit:4;stroke-dasharray:none;stroke-dashoffset:0;stroke-opacity:1\" transform=\"translate(94.059425,-180.97464)\"/>\n",
       "    </g>\n",
       "    <g id=\"g5350\" transform=\"translate(-8,-2)\">\n",
       "      <text id=\"text5317\" style=\"font-style:normal;font-variant:normal;font-weight:normal;font-stretch:normal;line-height:0%;font-family:Verdana;-inkscape-font-specification:Verdana;text-align:start;letter-spacing:0px;word-spacing:0px;writing-mode:lr-tb;text-anchor:start;fill:#000000;fill-opacity:1;stroke:none\" transform=\"translate(0,62.362)\" x=\"364.8515\" xml:space=\"preserve\" y=\"167.72276\"><tspan id=\"tspan5319\" sodipodi:role=\"line\" style=\"font-size:10px;line-height:1.25\" x=\"364.8515\" y=\"167.72276\">3</tspan></text>\n",
       "      <circle cx=\"322.02969\" cy=\"405.59406\" id=\"path5343\" r=\"7.6732674\" style=\"fill:none;stroke:#800000;stroke-width:1;stroke-linecap:square;stroke-linejoin:miter;stroke-miterlimit:4;stroke-dasharray:none;stroke-dashoffset:0;stroke-opacity:1\" transform=\"translate(45.831708,-179.48949)\"/>\n",
       "    </g>\n",
       "    <g id=\"g5367\" transform=\"translate(-6.4950495,-5.4851485)\">\n",
       "      <text id=\"text5321\" style=\"font-style:normal;font-variant:normal;font-weight:normal;font-stretch:normal;line-height:0%;font-family:Verdana;-inkscape-font-specification:Verdana;text-align:start;letter-spacing:0px;word-spacing:0px;writing-mode:lr-tb;text-anchor:start;fill:#000000;fill-opacity:1;stroke:none\" transform=\"translate(0,62.362)\" x=\"449.00989\" xml:space=\"preserve\" y=\"396.93069\"><tspan id=\"tspan5323\" sodipodi:role=\"line\" style=\"font-size:10px;line-height:1.25\" x=\"449.00989\" y=\"396.93069\">1,2,3</tspan></text>\n",
       "      <rect height=\"14.534651\" id=\"rect5365\" rx=\"7.0198007\" ry=\"7.0198007\" style=\"fill:none;stroke:#800000;stroke-width:1;stroke-linecap:square;stroke-linejoin:miter;stroke-miterlimit:4;stroke-dasharray:none;stroke-dashoffset:0;stroke-opacity:1\" width=\"35.277191\" x=\"444.28714\" y=\"448.86694\"/>\n",
       "    </g>\n",
       "    <text id=\"text133\" style=\"font-style:normal;font-weight:normal;font-size:10px;line-height:23.4375px;font-family:sans-serif;letter-spacing:0px;word-spacing:0px;fill:#000000;fill-opacity:1;stroke:none;stroke-width:0.9375px;stroke-linecap:butt;stroke-linejoin:miter;stroke-opacity:1\" x=\"328.07538\" xml:space=\"preserve\" y=\"193.28734\"><tspan id=\"tspan131\" sodipodi:role=\"line\" style=\"font-size:10px;stroke-width:0.9375px\" x=\"328.07538\" y=\"193.28734\">s1=</tspan></text>\n",
       "    <text id=\"text137\" style=\"font-style:normal;font-weight:normal;font-size:10px;line-height:23.4375px;font-family:sans-serif;letter-spacing:0px;word-spacing:0px;fill:#000000;fill-opacity:1;stroke:none;stroke-width:0.9375px;stroke-linecap:butt;stroke-linejoin:miter;stroke-opacity:1\" x=\"374.79181\" xml:space=\"preserve\" y=\"193.41487\"><tspan id=\"tspan135\" sodipodi:role=\"line\" style=\"stroke-width:0.9375px\" x=\"374.79181\" y=\"193.41487\">s2=</tspan></text>\n",
       "    <text id=\"text141\" style=\"font-style:normal;font-weight:normal;font-size:10px;line-height:23.4375px;font-family:sans-serif;letter-spacing:0px;word-spacing:0px;fill:#000000;fill-opacity:1;stroke:none;stroke-width:0.9375px;stroke-linecap:butt;stroke-linejoin:miter;stroke-opacity:1\" x=\"422.33282\" xml:space=\"preserve\" y=\"193.67026\"><tspan id=\"tspan139\" sodipodi:role=\"line\" style=\"stroke-width:0.9375px\" x=\"422.33282\" y=\"193.67026\">s3=</tspan></text>\n",
       "    <text id=\"text145\" style=\"font-style:normal;font-weight:normal;font-size:10px;line-height:23.4375px;font-family:sans-serif;letter-spacing:0px;word-spacing:0px;fill:#000000;fill-opacity:1;stroke:none;stroke-width:0.9375px;stroke-linecap:butt;stroke-linejoin:miter;stroke-opacity:1\" transform=\"rotate(-90)\" x=\"-270.1698\" xml:space=\"preserve\" y=\"522.24341\"><tspan id=\"tspan143\" sodipodi:role=\"line\" style=\"stroke-width:0.9375px\" x=\"-270.1698\" y=\"522.24341\">g1=</tspan></text>\n",
       "    <text id=\"text149\" style=\"font-style:normal;font-weight:normal;font-size:10px;line-height:23.4375px;font-family:sans-serif;letter-spacing:0px;word-spacing:0px;fill:#000000;fill-opacity:1;stroke:none;stroke-width:0.9375px;stroke-linecap:butt;stroke-linejoin:miter;stroke-opacity:1\" transform=\"rotate(-90)\" x=\"-306.49661\" xml:space=\"preserve\" y=\"522.24341\"><tspan id=\"tspan147\" sodipodi:role=\"line\" style=\"stroke-width:0.9375px\" x=\"-306.49661\" y=\"522.24341\">g2=</tspan></text>\n",
       "    <text id=\"text153\" style=\"font-style:normal;font-weight:normal;font-size:10px;line-height:23.4375px;font-family:sans-serif;letter-spacing:0px;word-spacing:0px;fill:#000000;fill-opacity:1;stroke:none;stroke-width:0.9375px;stroke-linecap:butt;stroke-linejoin:miter;stroke-opacity:1\" transform=\"rotate(-90)\" x=\"-349.60928\" xml:space=\"preserve\" y=\"522.24341\"><tspan id=\"tspan151\" sodipodi:role=\"line\" style=\"stroke-width:0.9375px\" x=\"-349.60928\" y=\"522.24341\">g3=</tspan></text>\n",
       "    <text id=\"text157\" style=\"font-style:normal;font-weight:normal;font-size:10px;line-height:23.4375px;font-family:sans-serif;letter-spacing:0px;word-spacing:0px;fill:#000000;fill-opacity:1;stroke:none;stroke-width:0.9375px;stroke-linecap:butt;stroke-linejoin:miter;stroke-opacity:1\" transform=\"rotate(-90)\" x=\"-392.6712\" xml:space=\"preserve\" y=\"522.24341\"><tspan id=\"tspan155\" sodipodi:role=\"line\" style=\"stroke-width:0.9375px\" x=\"-392.6712\" y=\"522.24341\">g4=</tspan></text>\n",
       "    <text id=\"text161\" style=\"font-style:normal;font-weight:normal;font-size:10px;line-height:23.4375px;font-family:sans-serif;letter-spacing:0px;word-spacing:0px;fill:#000000;fill-opacity:1;stroke:none;stroke-width:0.9375px;stroke-linecap:butt;stroke-linejoin:miter;stroke-opacity:1\" transform=\"rotate(-90)\" x=\"-427.56186\" xml:space=\"preserve\" y=\"522.24341\"><tspan id=\"tspan159\" sodipodi:role=\"line\" style=\"stroke-width:0.9375px\" x=\"-427.56186\" y=\"522.24341\">g5=</tspan></text>\n",
       "    <flowRoot id=\"flowRoot163\" style=\"font-style:normal;font-weight:normal;font-size:10.66666698px;line-height:25px;font-family:sans-serif;letter-spacing:0px;word-spacing:0px;fill:#000000;fill-opacity:1;stroke:none;stroke-width:1px;stroke-linecap:butt;stroke-linejoin:miter;stroke-opacity:1\" transform=\"matrix(0.93750001,0,0,0.93750001,242.75,187.46976)\" xml:space=\"preserve\"><flowRegion id=\"flowRegion165\"><rect height=\"189.72865\" id=\"rect167\" width=\"56.708565\" x=\"378.40714\" y=\"64.664253\"/></flowRegion><flowPara id=\"flowPara169\"/></flowRoot>  </g>\n",
       "</svg>"
      ],
      "text/plain": [
       "<IPython.core.display.SVG object>"
      ]
     },
     "metadata": {},
     "output_type": "display_data"
    }
   ],
   "source": [
    "fig(\"paths-1i.svg\")"
   ]
  },
  {
   "cell_type": "markdown",
   "metadata": {},
   "source": [
    "**Failure Paths for Net Area Calculations, Outside (10mm) plates**"
   ]
  },
  {
   "cell_type": "markdown",
   "metadata": {},
   "source": [
    "### Define the Data:"
   ]
  },
  {
   "cell_type": "code",
   "execution_count": 5,
   "metadata": {},
   "outputs": [
    {
     "name": "stdout",
     "output_type": "stream",
     "text": [
      "wg = 210 mm\n"
     ]
    }
   ],
   "source": [
    "d = (20 + 2 + 2) * mm       # hole allowance: bolt dia. + 2mm clearance + 2mm for punching\n",
    "s1 = 50 * mm\n",
    "s2 = 55 * mm\n",
    "s3 = 50 * mm\n",
    "g1,g2,g3,g4,g5 = (35,50,45,50,30) * mm\n",
    "t1 = 10 * mm                # thickness of one outside plate\n",
    "t2 = 20 * mm                # thickness of inside plate\n",
    "wg = g1+g2+g3+g4+g5\n",
    "print('wg =',wg)                         # gross width of plate"
   ]
  },
  {
   "cell_type": "markdown",
   "metadata": {},
   "source": [
    "In the following, we will compute the net width, $w_{ne}$, for each failure path, then use the minimum so computed to determine the cross-sectional area."
   ]
  },
  {
   "cell_type": "markdown",
   "metadata": {},
   "source": [
    "### Path 1-1:\n",
    "For path 1-1, it is only necessary to deduct the allowance for one hole from the gross width.\n",
    "In general, if no path segments are inclined to the load:\n",
    "\n",
    "$w_{ne} = w_g - \\sum d$"
   ]
  },
  {
   "cell_type": "code",
   "execution_count": 6,
   "metadata": {},
   "outputs": [
    {
     "data": {
      "text/html": [
       "186 mm"
      ],
      "text/latex": [
       "$186\\ \\mathrm{mm}$"
      ],
      "text/plain": [
       "186 mm"
      ]
     },
     "execution_count": 6,
     "metadata": {},
     "output_type": "execute_result"
    }
   ],
   "source": [
    "wne_11 = wg - d\n",
    "wne_11"
   ]
  },
  {
   "cell_type": "markdown",
   "metadata": {},
   "source": [
    "### Path 2-2:\n",
    "For paths with segments inclined to the load, we subtract all hole allowances, $d$, then\n",
    "add the $s^2/4g$ correction term for each inclined segment:\n",
    "\n",
    "$w_{ne} = w_g - \\sum d + \\sum{s^2\\over 4g}$"
   ]
  },
  {
   "cell_type": "code",
   "execution_count": 7,
   "metadata": {},
   "outputs": [
    {
     "data": {
      "text/html": [
       "175.88888888888889 mm"
      ],
      "text/latex": [
       "$175.88888888888889\\ \\mathrm{mm}$"
      ],
      "text/plain": [
       "175.88888888888889 mm"
      ]
     },
     "execution_count": 7,
     "metadata": {},
     "output_type": "execute_result"
    }
   ],
   "source": [
    "wne_22 = wg - 2*d + s3**2/(4*g3)\n",
    "wne_22"
   ]
  },
  {
   "cell_type": "markdown",
   "metadata": {},
   "source": [
    "### Path 3-3:\n",
    "\n",
    "$w_{ne} = w - \\sum d + \\sum{s^2\\over 4g}$"
   ]
  },
  {
   "cell_type": "code",
   "execution_count": 8,
   "metadata": {},
   "outputs": [
    {
     "data": {
      "text/html": [
       "167.01388888888889 mm"
      ],
      "text/latex": [
       "$167.01388888888889\\ \\mathrm{mm}$"
      ],
      "text/plain": [
       "167.01388888888889 mm"
      ]
     },
     "execution_count": 8,
     "metadata": {},
     "output_type": "execute_result"
    }
   ],
   "source": [
    "wne_33 = wg - 3*d + s3**2/(4*g3) + s2**2/(4*g2)\n",
    "wne_33"
   ]
  },
  {
   "cell_type": "markdown",
   "metadata": {},
   "source": [
    "### Paths 1-4, 2-4 and 3-4:\n",
    "\n",
    "Adding the fourth bolt to each of the above paths will reduce the net width by $24~\\mathrm{mm}$\n",
    "for the hole, then\n",
    "increase it by $(s2+s3)^2/(4 g4)$ for the inclined segment.  Paths that include this hole will not govern if the term for the inclined segment is less than 24.  However, given that these variable values might change, its probably safest to compute them all."
   ]
  },
  {
   "cell_type": "code",
   "execution_count": 9,
   "metadata": {},
   "outputs": [
    {
     "data": {
      "text/plain": [
       "(31.125 mm, 217.125 mm, 207.01388888888889 mm, 198.13888888888889 mm)"
      ]
     },
     "execution_count": 9,
     "metadata": {},
     "output_type": "execute_result"
    }
   ],
   "source": [
    "delta = (s2+s3)**2/(4*g4) - d    # the amount wn increases by including the hole on path 4\n",
    "wne_14 = wne_11 + delta\n",
    "wne_24 = wne_22 + delta\n",
    "wne_34 = wne_33 + delta\n",
    "delta, wne_14, wne_24, wne_34"
   ]
  },
  {
   "cell_type": "markdown",
   "metadata": {},
   "source": [
    "### Summary\n",
    "\n",
    "The path with the smallest $w_n$ governs,\n",
    "so $A_n$ for the pair of 10 mm plates is:"
   ]
  },
  {
   "cell_type": "code",
   "execution_count": 10,
   "metadata": {},
   "outputs": [
    {
     "data": {
      "text/html": [
       "167.01388888888889 mm"
      ],
      "text/latex": [
       "$167.01388888888889\\ \\mathrm{mm}$"
      ],
      "text/plain": [
       "167.01388888888889 mm"
      ]
     },
     "execution_count": 10,
     "metadata": {},
     "output_type": "execute_result"
    }
   ],
   "source": [
    "wne = min(wne_11,wne_22,wne_33,wne_14,wne_24,wne_34)\n",
    "wne"
   ]
  },
  {
   "cell_type": "code",
   "execution_count": 11,
   "metadata": {},
   "outputs": [
    {
     "data": {
      "text/html": [
       "3340.277777777778 mm<sup>2</sup>"
      ],
      "text/latex": [
       "$3340.277777777778\\ \\mathrm{mm}^{2}$"
      ],
      "text/plain": [
       "3340.277777777778 mm²"
      ]
     },
     "execution_count": 11,
     "metadata": {},
     "output_type": "execute_result"
    }
   ],
   "source": [
    "An_10 = wne * t1*2    # because there are 2 thicknesses of 10 mm plate\n",
    "An_10"
   ]
  },
  {
   "cell_type": "markdown",
   "metadata": {},
   "source": [
    "## 20mm Plate (Inner Plate)\n",
    "\n",
    "The following figure  shows the possible failure paths for calculating the strength of the 20mm plate.\n",
    "For this case, the loaded side is toward the left."
   ]
  },
  {
   "cell_type": "code",
   "execution_count": 12,
   "metadata": {
    "tags": [
     "hide_input"
    ]
   },
   "outputs": [
    {
     "data": {
      "image/svg+xml": [
       "<svg height=\"3.2239335in\" id=\"svg2\" inkscape:version=\"0.92.4 (unknown)\" sodipodi:docname=\"paths-2i.svg\" version=\"1.1\" viewBox=\"0 0 452.78791 290.15401\" width=\"5.0309768in\" xmlns=\"http://www.w3.org/2000/svg\" xmlns:cc=\"http://creativecommons.org/ns#\" xmlns:dc=\"http://purl.org/dc/elements/1.1/\" xmlns:inkscape=\"http://www.inkscape.org/namespaces/inkscape\" xmlns:rdf=\"http://www.w3.org/1999/02/22-rdf-syntax-ns#\" xmlns:sodipodi=\"http://sodipodi.sourceforge.net/DTD/sodipodi-0.dtd\" xmlns:svg=\"http://www.w3.org/2000/svg\" xmlns:xlink=\"http://www.w3.org/1999/xlink\">\n",
       "  <script id=\"script3033\" xlink:href=\"\"/>\n",
       "  <defs id=\"defs4\">\n",
       "    <marker id=\"Arrow1Mend\" inkscape:stockid=\"Arrow1Mend\" orient=\"auto\" refX=\"0\" refY=\"0\" style=\"overflow:visible\">\n",
       "      <path d=\"M 0,0 5,-5 -12.5,0 5,5 Z\" id=\"path4013\" inkscape:connector-curvature=\"0\" style=\"fill-rule:evenodd;stroke:#000000;stroke-width:1.00000003pt;marker-start:none\" transform=\"matrix(-0.4,0,0,-0.4,-4,0)\"/>\n",
       "    </marker>\n",
       "    <!-- markers by NMH <nholtz@cee.carleton.ca> -->\n",
       "    <marker id=\"DimensionTick\" inkscape:stockid=\"DimensionTick\" orient=\"auto\" refX=\"0\" refY=\"0\" style=\"overflow:visible\">\n",
       "      <path d=\"M 0,0 8,8\" id=\"path3100\" inkscape:connector-curvature=\"0\" style=\"stroke:#4d4d4d;stroke-width:1px;marker-start:none\" transform=\"translate(-4,-4)\"/>\n",
       "    </marker>\n",
       "    <marker id=\"TrussNodeS\" inkscape:stockid=\"TrussNodeS\" markerUnits=\"userSpaceOnUse\" orient=\"auto\" refX=\"0\" refY=\"0\" style=\"overflow:visible\">\n",
       "      <circle cx=\"0\" cy=\"0\" id=\"circle3103\" r=\"3\" style=\"fill:#ffffff;stroke:#000000;stroke-width:1\"/>\n",
       "    </marker>\n",
       "    <marker id=\"TrussNodeM\" inkscape:stockid=\"TrussNodeM\" markerUnits=\"userSpaceOnUse\" orient=\"auto\" refX=\"0\" refY=\"0\" style=\"overflow:visible\">\n",
       "      <circle cx=\"0\" cy=\"0\" id=\"circle3106\" r=\"4\" style=\"fill:#ffffff;stroke:#000000;stroke-width:1\"/>\n",
       "    </marker>\n",
       "  </defs>\n",
       "  <sodipodi:namedview bordercolor=\"#666666\" borderopacity=\"1.0\" fit-margin-bottom=\"0.1\" fit-margin-left=\"0.1\" fit-margin-right=\"0.1\" fit-margin-top=\"0.1\" id=\"base\" inkscape:current-layer=\"layer1\" inkscape:cx=\"256.44106\" inkscape:cy=\"171.43515\" inkscape:document-units=\"in\" inkscape:object-paths=\"true\" inkscape:pageopacity=\"0.0\" inkscape:pageshadow=\"2\" inkscape:snap-global=\"false\" inkscape:snap-grids=\"false\" inkscape:snap-intersection-paths=\"true\" inkscape:snap-nodes=\"true\" inkscape:snap-object-midpoints=\"true\" inkscape:window-height=\"979\" inkscape:window-maximized=\"0\" inkscape:window-width=\"1179\" inkscape:window-x=\"631\" inkscape:window-y=\"30\" inkscape:zoom=\"2.02\" pagecolor=\"#ffffff\" showgrid=\"true\" showguides=\"true\" units=\"in\">\n",
       "    <inkscape:grid empspacing=\"5\" enabled=\"true\" id=\"grid2985\" originx=\"-104.41712\" originy=\"-586.26258\" snapvisiblegridlinesonly=\"true\" spacingx=\"9\" spacingy=\"9\" type=\"xygrid\" units=\"in\" visible=\"true\"/>\n",
       "    <sodipodi:guide id=\"guide3042\" inkscape:locked=\"false\" orientation=\"0,765\" position=\"-104.41712,-586.26258\"/>\n",
       "    <sodipodi:guide id=\"guide3044\" inkscape:locked=\"false\" orientation=\"-990,0\" position=\"612.77035,-586.26258\"/>\n",
       "    <sodipodi:guide id=\"guide3046\" inkscape:locked=\"false\" orientation=\"0,-765\" position=\"612.77035,341.86239\"/>\n",
       "    <sodipodi:guide id=\"guide3048\" inkscape:locked=\"false\" orientation=\"990,0\" position=\"-104.41712,341.86239\"/>\n",
       "    <sodipodi:guide id=\"guide3050\" inkscape:locked=\"false\" orientation=\"0,765\" position=\"570.58285,-544.07508\"/>\n",
       "    <sodipodi:guide id=\"guide3052\" inkscape:locked=\"false\" orientation=\"-990,0\" position=\"570.58285,257.4874\"/>\n",
       "    <sodipodi:guide id=\"guide3054\" inkscape:locked=\"false\" orientation=\"0,-765\" position=\"-45.354628,257.4874\"/>\n",
       "    <sodipodi:guide id=\"guide3056\" inkscape:locked=\"false\" orientation=\"990,0\" position=\"-20.042128,282.7999\"/>\n",
       "  </sodipodi:namedview>\n",
       "  <metadata id=\"metadata7\">\n",
       "    <rdf:RDF>\n",
       "      <cc:Work rdf:about=\"\">\n",
       "        <dc:format>image/svg+xml</dc:format>\n",
       "        <dc:type rdf:resource=\"http://purl.org/dc/dcmitype/StillImage\"/>\n",
       "        <dc:title/>\n",
       "        <cc:license rdf:resource=\"http://creativecommons.org/licenses/by-nc/4.0/\"/>\n",
       "      </cc:Work>\n",
       "      <cc:License rdf:about=\"http://creativecommons.org/licenses/by-nc/4.0/\">\n",
       "        <cc:permits rdf:resource=\"http://creativecommons.org/ns#Reproduction\"/>\n",
       "        <cc:permits rdf:resource=\"http://creativecommons.org/ns#Distribution\"/>\n",
       "        <cc:requires rdf:resource=\"http://creativecommons.org/ns#Notice\"/>\n",
       "        <cc:requires rdf:resource=\"http://creativecommons.org/ns#Attribution\"/>\n",
       "        <cc:prohibits rdf:resource=\"http://creativecommons.org/ns#CommercialUse\"/>\n",
       "        <cc:permits rdf:resource=\"http://creativecommons.org/ns#DerivativeWorks\"/>\n",
       "      </cc:License>\n",
       "    </rdf:RDF>\n",
       "  </metadata>\n",
       "  <g id=\"layer1\" inkscape:groupmode=\"layer\" inkscape:label=\"Layer 1\" transform=\"translate(-104.41713,-175.9454)\">\n",
       "    <g id=\"g4062\" inkscape:export-filename=\"/home/nholtz/3205/examples/tension/paths-2.png\" inkscape:export-xdpi=\"90\" inkscape:export-ydpi=\"90\">\n",
       "      <circle cx=\"234\" cy=\"234\" id=\"path3159\" r=\"9\" style=\"fill:#b3b3b3;stroke:#000000;stroke-width:1;stroke-linecap:square;stroke-linejoin:miter;stroke-miterlimit:4;stroke-dasharray:none;stroke-dashoffset:0;stroke-opacity:1\" transform=\"translate(125.94985,39.71205)\"/>\n",
       "      <circle cx=\"234\" cy=\"234\" id=\"path3161\" r=\"9\" style=\"fill:#b3b3b3;stroke:#000000;stroke-width:1;stroke-linecap:square;stroke-linejoin:miter;stroke-miterlimit:4;stroke-dasharray:none;stroke-dashoffset:0;stroke-opacity:1\" transform=\"translate(81,85.01195)\"/>\n",
       "      <circle cx=\"234\" cy=\"234\" id=\"path3163\" r=\"9\" style=\"fill:#b3b3b3;stroke:#000000;stroke-width:1;stroke-linecap:square;stroke-linejoin:miter;stroke-miterlimit:4;stroke-dasharray:none;stroke-dashoffset:0;stroke-opacity:1\" transform=\"translate(175.35005,85.01195)\"/>\n",
       "      <circle cx=\"234\" cy=\"234\" id=\"path3165\" r=\"9\" style=\"fill:#b3b3b3;stroke:#000000;stroke-width:1;stroke-linecap:square;stroke-linejoin:miter;stroke-miterlimit:4;stroke-dasharray:none;stroke-dashoffset:0;stroke-opacity:1\" transform=\"translate(221,125.01195)\"/>\n",
       "      <circle cx=\"234\" cy=\"234\" id=\"path3167\" r=\"9\" style=\"fill:#b3b3b3;stroke:#000000;stroke-width:1;stroke-linecap:square;stroke-linejoin:miter;stroke-miterlimit:4;stroke-dasharray:none;stroke-dashoffset:0;stroke-opacity:1\" transform=\"translate(125.94985,170.6619)\"/>\n",
       "      <path d=\"M 206,242.362 H 495\" id=\"path3120\" inkscape:connector-curvature=\"0\" sodipodi:nodetypes=\"cc\" style=\"fill:none;stroke:#000000;stroke-width:1;stroke-linecap:square;stroke-linejoin:miter;stroke-miterlimit:4;stroke-dasharray:none;stroke-dashoffset:0;stroke-opacity:1\"/>\n",
       "      <path d=\"m 206,431.362 h 289 v 0\" id=\"path3122\" inkscape:connector-curvature=\"0\" sodipodi:nodetypes=\"ccc\" style=\"fill:none;stroke:#000000;stroke-width:1;stroke-linecap:square;stroke-linejoin:miter;stroke-miterlimit:4;stroke-dasharray:none;stroke-dashoffset:0;stroke-opacity:1\"/>\n",
       "      <path d=\"m 315,224.362 v 225\" id=\"path3124\" inkscape:connector-curvature=\"0\" style=\"fill:none;stroke:#808080;stroke-width:0.5;stroke-linecap:square;stroke-linejoin:miter;stroke-miterlimit:4;stroke-dasharray:none;stroke-dashoffset:0;stroke-opacity:1\"/>\n",
       "      <path d=\"m 359.94985,224.362 v 225\" id=\"path3126\" inkscape:connector-curvature=\"0\" style=\"fill:none;stroke:#808080;stroke-width:0.5;stroke-linecap:square;stroke-linejoin:miter;stroke-miterlimit:4;stroke-dasharray:none;stroke-dashoffset:0;stroke-opacity:1\"/>\n",
       "      <path d=\"m 409.35005,224.362 v 225\" id=\"path3128\" inkscape:connector-curvature=\"0\" style=\"fill:none;stroke:#808080;stroke-width:0.5;stroke-linecap:square;stroke-linejoin:miter;stroke-miterlimit:4;stroke-dasharray:none;stroke-dashoffset:0;stroke-opacity:1\"/>\n",
       "      <path d=\"m 455,224.362 v 225\" id=\"path3130\" inkscape:connector-curvature=\"0\" style=\"fill:none;stroke:#808080;stroke-width:0.5;stroke-linecap:square;stroke-linejoin:miter;stroke-miterlimit:4;stroke-dasharray:none;stroke-dashoffset:0;stroke-opacity:1\"/>\n",
       "      <path d=\"M 252,404.6619 H 522\" id=\"path3132\" inkscape:connector-curvature=\"0\" style=\"fill:none;stroke:#808080;stroke-width:0.5;stroke-linecap:square;stroke-linejoin:miter;stroke-miterlimit:4;stroke-dasharray:none;stroke-dashoffset:0;stroke-opacity:1\"/>\n",
       "      <path d=\"M 252,359.01195 H 522\" id=\"path3134\" inkscape:connector-curvature=\"0\" style=\"fill:none;stroke:#808080;stroke-width:0.5;stroke-linecap:square;stroke-linejoin:miter;stroke-miterlimit:4;stroke-dasharray:none;stroke-dashoffset:0;stroke-opacity:1\"/>\n",
       "      <path d=\"M 252,319.01195 H 522\" id=\"path3136\" inkscape:connector-curvature=\"0\" style=\"fill:none;stroke:#808080;stroke-width:0.5;stroke-linecap:square;stroke-linejoin:miter;stroke-miterlimit:4;stroke-dasharray:none;stroke-dashoffset:0;stroke-opacity:1\"/>\n",
       "      <path d=\"M 252,273.71205 H 522\" id=\"path3138\" inkscape:connector-curvature=\"0\" style=\"fill:none;stroke:#808080;stroke-width:0.5;stroke-linecap:square;stroke-linejoin:miter;stroke-miterlimit:4;stroke-dasharray:none;stroke-dashoffset:0;stroke-opacity:1\"/>\n",
       "      <path d=\"m 496,242.362 v 189\" id=\"path3171\" inkscape:connector-curvature=\"0\" style=\"fill:#b3b3b3;fill-opacity:1;fill-rule:nonzero;stroke:#000000;stroke-width:0.99000001;stroke-linecap:square;stroke-linejoin:miter;stroke-miterlimit:4;stroke-dasharray:none;stroke-dashoffset:0;stroke-opacity:1\"/>\n",
       "      <path d=\"m 205.9901,242.362 c -8.28322,17.5784 -19.92071,50.15858 -9,72 4.78286,9.56572 15.14194,24.56776 18,36 5.50931,22.03727 -7.2233,63.27428 -9,81\" id=\"path3959\" inkscape:connector-curvature=\"0\" sodipodi:nodetypes=\"cssc\" style=\"fill:none;stroke:#000000;stroke-width:1px;stroke-linecap:butt;stroke-linejoin:miter;stroke-opacity:1\"/>\n",
       "      <path d=\"M 180,332.362 H 135\" id=\"path3993\" inkscape:connector-curvature=\"0\" style=\"fill:#b3b3b3;fill-opacity:1;fill-rule:nonzero;stroke:#000000;stroke-width:1.5;stroke-linecap:square;stroke-linejoin:miter;stroke-miterlimit:4;stroke-dasharray:none;stroke-dashoffset:0;stroke-opacity:1;marker-end:url(#Arrow1Mend)\"/>\n",
       "      <text id=\"text4451\" style=\"font-style:normal;font-variant:normal;font-weight:normal;font-stretch:normal;line-height:0%;font-family:Verdana;-inkscape-font-specification:Verdana;text-align:start;letter-spacing:0px;word-spacing:0px;writing-mode:lr-tb;text-anchor:start;fill:#000000;fill-opacity:1;stroke:none\" x=\"113.41713\" xml:space=\"preserve\" y=\"332.65332\"><tspan id=\"tspan4453\" sodipodi:role=\"line\" style=\"font-size:10px;line-height:1.25\" x=\"113.41713\" y=\"332.65332\"> </tspan></text>\n",
       "      <text id=\"text4455\" style=\"font-style:normal;font-variant:normal;font-weight:normal;font-stretch:normal;line-height:0%;font-family:Verdana;-inkscape-font-specification:Verdana;text-align:start;letter-spacing:0px;word-spacing:0px;writing-mode:lr-tb;text-anchor:start;fill:#000000;fill-opacity:1;stroke:none\" x=\"115.51744\" xml:space=\"preserve\" y=\"337.55405\"><tspan id=\"tspan4457\" sodipodi:role=\"line\" style=\"font-size:14px;line-height:1.25\" x=\"115.51744\" y=\"337.55405\">T</tspan></text>\n",
       "      <path d=\"m 315,215.362 v -18\" id=\"path4685\" inkscape:connector-curvature=\"0\" style=\"fill:#808080;fill-opacity:1;fill-rule:nonzero;stroke:#4d4d4d;stroke-width:0.75\"/>\n",
       "      <path d=\"m 359.70011,215.362 v -18\" id=\"path4687\" inkscape:connector-curvature=\"0\" style=\"fill:#808080;fill-opacity:1;fill-rule:nonzero;stroke:#4d4d4d;stroke-width:0.75\"/>\n",
       "      <path d=\"m 408.69021,215.362 v -18\" id=\"path4689\" inkscape:connector-curvature=\"0\" style=\"fill:#808080;fill-opacity:1;fill-rule:nonzero;stroke:#4d4d4d;stroke-width:0.75\"/>\n",
       "      <path d=\"m 454.67041,215.362 v -18\" id=\"path4691\" inkscape:connector-curvature=\"0\" style=\"fill:#808080;fill-opacity:1;fill-rule:nonzero;stroke:#4d4d4d;stroke-width:0.75\"/>\n",
       "      <path d=\"m 530.20506,273.84715 h 18\" id=\"path4693\" inkscape:connector-curvature=\"0\" style=\"fill:#808080;fill-opacity:1;fill-rule:nonzero;stroke:#4d4d4d;stroke-width:0.75\"/>\n",
       "      <path d=\"m 530.20506,318.83725 h 18\" id=\"path4695\" inkscape:connector-curvature=\"0\" style=\"fill:#808080;fill-opacity:1;fill-rule:nonzero;stroke:#4d4d4d;stroke-width:0.75\"/>\n",
       "      <path d=\"m 530.20506,359.82735 h 18\" id=\"path4697\" inkscape:connector-curvature=\"0\" style=\"fill:#808080;fill-opacity:1;fill-rule:nonzero;stroke:#4d4d4d;stroke-width:0.75\"/>\n",
       "      <path d=\"m 530.20506,404.3224 h 18\" id=\"path4699\" inkscape:connector-curvature=\"0\" style=\"fill:#808080;fill-opacity:1;fill-rule:nonzero;stroke:#4d4d4d;stroke-width:0.75\"/>\n",
       "      <path d=\"m 315,206.362 h 44.70011 48.9901 45.9802\" id=\"path4701\" inkscape:connector-curvature=\"0\" style=\"fill:#808080;fill-opacity:1;fill-rule:nonzero;stroke:#4d4d4d;stroke-width:0.75;stroke-linecap:square;stroke-linejoin:miter;stroke-miterlimit:4;stroke-dasharray:none;stroke-dashoffset:0;stroke-opacity:1;marker-start:url(#DimensionTick);marker-mid:url(#DimensionTick);marker-end:url(#DimensionTick)\"/>\n",
       "      <path d=\"m 539.10891,431.362 0.0961,-27.0396 v -44.49505 -40.9901 -44.9901 -31.48515\" id=\"path4703\" inkscape:connector-curvature=\"0\" sodipodi:nodetypes=\"cccccc\" style=\"fill:#808080;fill-opacity:1;fill-rule:nonzero;stroke:#4d4d4d;stroke-width:0.75;stroke-linecap:square;stroke-linejoin:miter;stroke-miterlimit:4;stroke-dasharray:none;stroke-dashoffset:0;stroke-opacity:1;marker-start:url(#DimensionTick);marker-mid:url(#DimensionTick);marker-end:url(#DimensionTick)\"/>\n",
       "      <text id=\"text5269\" style=\"font-style:normal;font-variant:normal;font-weight:normal;font-stretch:normal;line-height:0%;font-family:Verdana;-inkscape-font-specification:Verdana;text-align:start;letter-spacing:0px;word-spacing:0px;writing-mode:lr-tb;text-anchor:start;fill:#000000;fill-opacity:1;stroke:none\" x=\"333.1683\" xml:space=\"preserve\" y=\"203.88675\"><tspan id=\"tspan5271\" sodipodi:role=\"line\" style=\"font-size:10px;line-height:1.25\" x=\"333.1683\" y=\"203.88675\">50</tspan></text>\n",
       "      <text id=\"text5273\" style=\"font-style:normal;font-variant:normal;font-weight:normal;font-stretch:normal;line-height:0%;font-family:Verdana;-inkscape-font-specification:Verdana;text-align:start;letter-spacing:0px;word-spacing:0px;writing-mode:lr-tb;text-anchor:start;fill:#000000;fill-opacity:1;stroke:none\" x=\"378.2178\" xml:space=\"preserve\" y=\"203.88676\"><tspan id=\"tspan5275\" sodipodi:role=\"line\" style=\"font-size:10px;line-height:1.25\" x=\"378.2178\" y=\"203.88676\">55</tspan></text>\n",
       "      <text id=\"text5277\" style=\"font-style:normal;font-variant:normal;font-weight:normal;font-stretch:normal;line-height:0%;font-family:Verdana;-inkscape-font-specification:Verdana;text-align:start;letter-spacing:0px;word-spacing:0px;writing-mode:lr-tb;text-anchor:start;fill:#000000;fill-opacity:1;stroke:none\" x=\"425.74249\" xml:space=\"preserve\" y=\"204.4016\"><tspan id=\"tspan5279\" sodipodi:role=\"line\" style=\"font-size:10px;line-height:1.25\" x=\"425.74249\" y=\"204.4016\">50</tspan></text>\n",
       "      <text id=\"text5281\" style=\"font-style:normal;font-variant:normal;font-weight:normal;font-stretch:normal;line-height:0%;font-family:Verdana;-inkscape-font-specification:Verdana;text-align:start;letter-spacing:0px;word-spacing:0px;writing-mode:lr-tb;text-anchor:start;fill:#000000;fill-opacity:1;stroke:none\" transform=\"rotate(-90)\" x=\"-266.56851\" xml:space=\"preserve\" y=\"535.85327\"><tspan id=\"tspan5283\" sodipodi:role=\"line\" style=\"font-size:10px;line-height:1.25\" x=\"-266.56851\" y=\"535.85327\">35</tspan></text>\n",
       "      <text id=\"text5285\" style=\"font-style:normal;font-variant:normal;font-weight:normal;font-stretch:normal;line-height:0%;font-family:Verdana;-inkscape-font-specification:Verdana;text-align:start;letter-spacing:0px;word-spacing:0px;writing-mode:lr-tb;text-anchor:start;fill:#000000;fill-opacity:1;stroke:none\" transform=\"rotate(-90)\" x=\"-303.21844\" xml:space=\"preserve\" y=\"535.92407\"><tspan id=\"tspan5287\" sodipodi:role=\"line\" style=\"font-size:10px;line-height:1.25\" x=\"-303.21844\" y=\"535.92407\">50</tspan></text>\n",
       "      <text id=\"text5289\" style=\"font-style:normal;font-variant:normal;font-weight:normal;font-stretch:normal;line-height:0%;font-family:Verdana;-inkscape-font-specification:Verdana;text-align:start;letter-spacing:0px;word-spacing:0px;writing-mode:lr-tb;text-anchor:start;fill:#000000;fill-opacity:1;stroke:none\" transform=\"rotate(-90)\" x=\"-344.60269\" xml:space=\"preserve\" y=\"536.56775\"><tspan id=\"tspan5291\" sodipodi:role=\"line\" style=\"font-size:10px;line-height:1.25\" x=\"-344.60269\" y=\"536.56775\">45</tspan></text>\n",
       "      <text id=\"text5293\" style=\"font-style:normal;font-variant:normal;font-weight:normal;font-stretch:normal;line-height:0%;font-family:Verdana;-inkscape-font-specification:Verdana;text-align:start;letter-spacing:0px;word-spacing:0px;writing-mode:lr-tb;text-anchor:start;fill:#000000;fill-opacity:1;stroke:none\" transform=\"rotate(-90)\" x=\"-388.88181\" xml:space=\"preserve\" y=\"536.41907\"><tspan id=\"tspan5295\" sodipodi:role=\"line\" style=\"font-size:10px;line-height:1.25\" x=\"-388.88181\" y=\"536.41907\">50</tspan></text>\n",
       "      <text id=\"text5297\" style=\"font-style:normal;font-variant:normal;font-weight:normal;font-stretch:normal;line-height:0%;font-family:Verdana;-inkscape-font-specification:Verdana;text-align:start;letter-spacing:0px;word-spacing:0px;writing-mode:lr-tb;text-anchor:start;fill:#000000;fill-opacity:1;stroke:none\" transform=\"rotate(-90)\" x=\"-424.45432\" xml:space=\"preserve\" y=\"536.35291\"><tspan id=\"tspan5299\" sodipodi:role=\"line\" style=\"font-size:10px;line-height:1.25\" x=\"-424.45432\" y=\"536.35291\">30</tspan></text>\n",
       "      <path d=\"m 314.29989,229.58972 v 129.42223 86.91441\" id=\"path5301\" inkscape:connector-curvature=\"0\" style=\"fill:#808080;fill-opacity:1;fill-rule:nonzero;stroke:#800000;stroke-width:1;stroke-linecap:square;stroke-linejoin:miter;stroke-miterlimit:4;stroke-dasharray:6, 6;stroke-dashoffset:0;stroke-opacity:1\"/>\n",
       "      <path d=\"m 359.94985,230.57982 v 43.13223 l -45.64996,45.2999\" id=\"path5305\" inkscape:connector-curvature=\"0\" sodipodi:nodetypes=\"ccc\" style=\"fill:none;stroke:#800000;stroke-width:1;stroke-linecap:square;stroke-linejoin:miter;stroke-miterlimit:4;stroke-dasharray:6, 6;stroke-dashoffset:0;stroke-opacity:1\"/>\n",
       "      <path d=\"m 314.29989,319.01195 45.64996,85.64995 v 40.27436\" id=\"path5307\" inkscape:connector-curvature=\"0\" sodipodi:nodetypes=\"ccc\" style=\"fill:none;stroke:#800000;stroke-width:1;stroke-linecap:square;stroke-linejoin:miter;stroke-miterlimit:4;stroke-dasharray:6, 6;stroke-dashoffset:0;stroke-opacity:1\"/>\n",
       "      <g id=\"g5360\" transform=\"translate(-146.38613,-4.2178135)\">\n",
       "        <text id=\"text5309\" style=\"font-style:normal;font-variant:normal;font-weight:normal;font-stretch:normal;line-height:0%;font-family:Verdana;-inkscape-font-specification:Verdana;text-align:start;letter-spacing:0px;word-spacing:0px;writing-mode:lr-tb;text-anchor:start;fill:#000000;fill-opacity:1;stroke:none\" transform=\"translate(0,62.362)\" x=\"458.41583\" xml:space=\"preserve\" y=\"169.20792\"><tspan id=\"tspan5311\" sodipodi:role=\"line\" style=\"font-size:10px;line-height:1.25\" x=\"458.41583\" y=\"169.20792\">1</tspan></text>\n",
       "        <circle cx=\"322.02969\" cy=\"405.59406\" id=\"path5339\" r=\"7.6732674\" style=\"fill:none;stroke:#800000;stroke-width:1;stroke-linecap:square;stroke-linejoin:miter;stroke-miterlimit:4;stroke-dasharray:none;stroke-dashoffset:0;stroke-opacity:1\" transform=\"translate(139.35644,-177.69741)\"/>\n",
       "      </g>\n",
       "      <g id=\"g5355\" transform=\"translate(-56.139269,-0.821772)\">\n",
       "        <text id=\"text5313\" style=\"font-style:normal;font-variant:normal;font-weight:normal;font-stretch:normal;line-height:0%;font-family:Verdana;-inkscape-font-specification:Verdana;text-align:start;letter-spacing:0px;word-spacing:0px;writing-mode:lr-tb;text-anchor:start;fill:#000000;fill-opacity:1;stroke:none\" transform=\"translate(0,62.362)\" x=\"412.37625\" xml:space=\"preserve\" y=\"165.74257\"><tspan id=\"tspan5315\" sodipodi:role=\"line\" style=\"font-size:10px;line-height:1.25\" x=\"412.37625\" y=\"165.74257\">2</tspan></text>\n",
       "        <circle cx=\"322.02969\" cy=\"405.59406\" id=\"path5341\" r=\"7.6732674\" style=\"fill:none;stroke:#800000;stroke-width:1;stroke-linecap:square;stroke-linejoin:miter;stroke-miterlimit:4;stroke-dasharray:none;stroke-dashoffset:0;stroke-opacity:1\" transform=\"translate(94.059425,-180.97464)\"/>\n",
       "      </g>\n",
       "      <g id=\"g5350\" transform=\"translate(-7.9115516,222.82158)\">\n",
       "        <text id=\"text5317\" style=\"font-style:normal;font-variant:normal;font-weight:normal;font-stretch:normal;line-height:0%;font-family:Verdana;-inkscape-font-specification:Verdana;text-align:start;letter-spacing:0px;word-spacing:0px;writing-mode:lr-tb;text-anchor:start;fill:#000000;fill-opacity:1;stroke:none\" transform=\"translate(0,62.362)\" x=\"364.8515\" xml:space=\"preserve\" y=\"167.72276\"><tspan id=\"tspan5319\" sodipodi:role=\"line\" style=\"font-size:10px;line-height:1.25\" x=\"364.8515\" y=\"167.72276\">3</tspan></text>\n",
       "        <circle cx=\"322.02969\" cy=\"405.59406\" id=\"path5343\" r=\"7.6732674\" style=\"fill:none;stroke:#800000;stroke-width:1;stroke-linecap:square;stroke-linejoin:miter;stroke-miterlimit:4;stroke-dasharray:none;stroke-dashoffset:0;stroke-opacity:1\" transform=\"translate(45.831708,-179.48949)\"/>\n",
       "      </g>\n",
       "      <g id=\"g4057\" transform=\"translate(4)\">\n",
       "        <text id=\"text5321\" style=\"font-style:normal;font-variant:normal;font-weight:normal;font-stretch:normal;line-height:0%;font-family:Verdana;-inkscape-font-specification:Verdana;text-align:start;letter-spacing:0px;word-spacing:0px;writing-mode:lr-tb;text-anchor:start;fill:#000000;fill-opacity:1;stroke:none\" x=\"302.08414\" xml:space=\"preserve\" y=\"452.52045\"><tspan id=\"tspan5323\" sodipodi:role=\"line\" style=\"font-size:10px;line-height:1.25\" x=\"302.08414\" y=\"452.52045\">1,2</tspan></text>\n",
       "        <rect height=\"14.039588\" id=\"rect5365\" rx=\"7.0198007\" ry=\"6.2772198\" style=\"fill:none;stroke:#800000;stroke-width:1;stroke-linecap:square;stroke-linejoin:miter;stroke-miterlimit:4;stroke-dasharray:none;stroke-dashoffset:0;stroke-opacity:1\" width=\"25.87125\" x=\"297.36139\" y=\"442.0947\"/>\n",
       "      </g>\n",
       "    </g>\n",
       "    <text id=\"text133\" style=\"font-style:normal;font-weight:normal;font-size:10.00000095px;line-height:23.4375px;font-family:sans-serif;letter-spacing:0px;word-spacing:0px;fill:#000000;fill-opacity:1;stroke:none;stroke-width:0.9375px;stroke-linecap:butt;stroke-linejoin:miter;stroke-opacity:1\" x=\"330.37561\" xml:space=\"preserve\" y=\"192.36728\"><tspan id=\"tspan131\" sodipodi:role=\"line\" style=\"font-size:10.00000095px;stroke-width:0.9375px\" x=\"330.37561\" y=\"192.36728\">s1=</tspan></text>\n",
       "    <text id=\"text137\" style=\"font-style:normal;font-weight:normal;font-size:10.00000095px;line-height:23.4375px;font-family:sans-serif;letter-spacing:0px;word-spacing:0px;fill:#000000;fill-opacity:1;stroke:none;stroke-width:0.9375px;stroke-linecap:butt;stroke-linejoin:miter;stroke-opacity:1\" x=\"377.09204\" xml:space=\"preserve\" y=\"192.49481\"><tspan id=\"tspan135\" sodipodi:role=\"line\" style=\"stroke-width:0.9375px\" x=\"377.09204\" y=\"192.49481\">s2=</tspan></text>\n",
       "    <text id=\"text141\" style=\"font-style:normal;font-weight:normal;font-size:10.00000095px;line-height:23.4375px;font-family:sans-serif;letter-spacing:0px;word-spacing:0px;fill:#000000;fill-opacity:1;stroke:none;stroke-width:0.9375px;stroke-linecap:butt;stroke-linejoin:miter;stroke-opacity:1\" x=\"424.63309\" xml:space=\"preserve\" y=\"192.7502\"><tspan id=\"tspan139\" sodipodi:role=\"line\" style=\"stroke-width:0.9375px\" x=\"424.63309\" y=\"192.7502\">s3=</tspan></text>\n",
       "    <text id=\"text145\" style=\"font-style:normal;font-weight:normal;font-size:10.00000095px;line-height:23.4375px;font-family:sans-serif;letter-spacing:0px;word-spacing:0px;fill:#000000;fill-opacity:1;stroke:none;stroke-width:0.9375px;stroke-linecap:butt;stroke-linejoin:miter;stroke-opacity:1\" transform=\"rotate(-90)\" x=\"-269.24976\" xml:space=\"preserve\" y=\"524.54364\"><tspan id=\"tspan143\" sodipodi:role=\"line\" style=\"stroke-width:0.9375px\" x=\"-269.24976\" y=\"524.54364\">g1=</tspan></text>\n",
       "    <text id=\"text149\" style=\"font-style:normal;font-weight:normal;font-size:10.00000095px;line-height:23.4375px;font-family:sans-serif;letter-spacing:0px;word-spacing:0px;fill:#000000;fill-opacity:1;stroke:none;stroke-width:0.9375px;stroke-linecap:butt;stroke-linejoin:miter;stroke-opacity:1\" transform=\"rotate(-90)\" x=\"-305.57657\" xml:space=\"preserve\" y=\"524.54364\"><tspan id=\"tspan147\" sodipodi:role=\"line\" style=\"stroke-width:0.9375px\" x=\"-305.57657\" y=\"524.54364\">g2=</tspan></text>\n",
       "    <text id=\"text153\" style=\"font-style:normal;font-weight:normal;font-size:10.00000095px;line-height:23.4375px;font-family:sans-serif;letter-spacing:0px;word-spacing:0px;fill:#000000;fill-opacity:1;stroke:none;stroke-width:0.9375px;stroke-linecap:butt;stroke-linejoin:miter;stroke-opacity:1\" transform=\"rotate(-90)\" x=\"-348.68924\" xml:space=\"preserve\" y=\"524.54364\"><tspan id=\"tspan151\" sodipodi:role=\"line\" style=\"stroke-width:0.9375px\" x=\"-348.68924\" y=\"524.54364\">g3=</tspan></text>\n",
       "    <text id=\"text157\" style=\"font-style:normal;font-weight:normal;font-size:10.00000095px;line-height:23.4375px;font-family:sans-serif;letter-spacing:0px;word-spacing:0px;fill:#000000;fill-opacity:1;stroke:none;stroke-width:0.9375px;stroke-linecap:butt;stroke-linejoin:miter;stroke-opacity:1\" transform=\"rotate(-90)\" x=\"-391.75116\" xml:space=\"preserve\" y=\"524.54364\"><tspan id=\"tspan155\" sodipodi:role=\"line\" style=\"stroke-width:0.9375px\" x=\"-391.75116\" y=\"524.54364\">g4=</tspan></text>\n",
       "    <text id=\"text161\" style=\"font-style:normal;font-weight:normal;font-size:10.00000095px;line-height:23.4375px;font-family:sans-serif;letter-spacing:0px;word-spacing:0px;fill:#000000;fill-opacity:1;stroke:none;stroke-width:0.9375px;stroke-linecap:butt;stroke-linejoin:miter;stroke-opacity:1\" transform=\"rotate(-90)\" x=\"-426.64182\" xml:space=\"preserve\" y=\"524.54364\"><tspan id=\"tspan159\" sodipodi:role=\"line\" style=\"stroke-width:0.9375px\" x=\"-426.64182\" y=\"524.54364\">g5=</tspan></text>\n",
       "  </g>\n",
       "</svg>"
      ],
      "text/plain": [
       "<IPython.core.display.SVG object>"
      ]
     },
     "metadata": {},
     "output_type": "display_data"
    }
   ],
   "source": [
    "fig(\"paths-2i.svg\")"
   ]
  },
  {
   "cell_type": "markdown",
   "metadata": {},
   "source": [
    "**Failure Paths for Net Area Calculations, Inside (20mm) plate**"
   ]
  },
  {
   "cell_type": "markdown",
   "metadata": {},
   "source": [
    "### Path 1-1:"
   ]
  },
  {
   "cell_type": "code",
   "execution_count": 13,
   "metadata": {},
   "outputs": [
    {
     "data": {
      "text/html": [
       "186 mm"
      ],
      "text/latex": [
       "$186\\ \\mathrm{mm}$"
      ],
      "text/plain": [
       "186 mm"
      ]
     },
     "execution_count": 13,
     "metadata": {},
     "output_type": "execute_result"
    }
   ],
   "source": [
    "wne_11 = wg - d\n",
    "wne_11"
   ]
  },
  {
   "cell_type": "markdown",
   "metadata": {},
   "source": [
    "### Path 2-2:"
   ]
  },
  {
   "cell_type": "code",
   "execution_count": 14,
   "metadata": {},
   "outputs": [
    {
     "data": {
      "text/html": [
       "174.5 mm"
      ],
      "text/latex": [
       "$174.5\\ \\mathrm{mm}$"
      ],
      "text/plain": [
       "174.5 mm"
      ]
     },
     "execution_count": 14,
     "metadata": {},
     "output_type": "execute_result"
    }
   ],
   "source": [
    "wne_22 = wg - 2*d + s1**2/(4*g2)\n",
    "wne_22"
   ]
  },
  {
   "cell_type": "markdown",
   "metadata": {},
   "source": [
    "### Path 2-3:"
   ]
  },
  {
   "cell_type": "code",
   "execution_count": 15,
   "metadata": {},
   "outputs": [
    {
     "data": {
      "text/html": [
       "157.07894736842104 mm"
      ],
      "text/latex": [
       "$157.07894736842104\\ \\mathrm{mm}$"
      ],
      "text/plain": [
       "157.07894736842104 mm"
      ]
     },
     "execution_count": 15,
     "metadata": {},
     "output_type": "execute_result"
    }
   ],
   "source": [
    "wne_23 = wg - 3*d + s1**2/(4*g2) + s1**2/(4*(g3+g4))\n",
    "wne_23"
   ]
  },
  {
   "cell_type": "markdown",
   "metadata": {},
   "source": [
    "### Path 1-3:\n",
    "\n",
    "By inspection this should not govern, as path 1-1 is longer than 2-2, therefore 1-3 will be longer than 2-3."
   ]
  },
  {
   "cell_type": "code",
   "execution_count": 16,
   "metadata": {},
   "outputs": [
    {
     "data": {
      "text/html": [
       "168.57894736842104 mm"
      ],
      "text/latex": [
       "$168.57894736842104\\ \\mathrm{mm}$"
      ],
      "text/plain": [
       "168.57894736842104 mm"
      ]
     },
     "execution_count": 16,
     "metadata": {},
     "output_type": "execute_result"
    }
   ],
   "source": [
    "wne_13 = wg - 2*d + s1**2/(4*(g3+g4))\n",
    "wne_13"
   ]
  },
  {
   "cell_type": "markdown",
   "metadata": {},
   "source": [
    "### Summary\n",
    "\n",
    "The shortest path (minimum $w_n$) governs, and so the net area, $A_n$, of the 20 mm plate is:"
   ]
  },
  {
   "cell_type": "code",
   "execution_count": 17,
   "metadata": {},
   "outputs": [
    {
     "data": {
      "text/html": [
       "157.07894736842104 mm"
      ],
      "text/latex": [
       "$157.07894736842104\\ \\mathrm{mm}$"
      ],
      "text/plain": [
       "157.07894736842104 mm"
      ]
     },
     "execution_count": 17,
     "metadata": {},
     "output_type": "execute_result"
    }
   ],
   "source": [
    "wne = min(wne_11,wne_22,wne_23,wne_13)\n",
    "wne"
   ]
  },
  {
   "cell_type": "code",
   "execution_count": 18,
   "metadata": {},
   "outputs": [
    {
     "data": {
      "text/html": [
       "3141.578947368421 mm<sup>2</sup>"
      ],
      "text/latex": [
       "$3141.578947368421\\ \\mathrm{mm}^{2}$"
      ],
      "text/plain": [
       "3141.578947368421 mm²"
      ]
     },
     "execution_count": 18,
     "metadata": {},
     "output_type": "execute_result"
    }
   ],
   "source": [
    "An_20 = wne * t2\n",
    "An_20"
   ]
  },
  {
   "cell_type": "markdown",
   "metadata": {},
   "source": [
    "The net area fracture strength of the plates will therefore be governed by the net area of the inner 20mm plate."
   ]
  },
  {
   "cell_type": "code",
   "execution_count": 19,
   "metadata": {},
   "outputs": [
    {
     "data": {
      "text/plain": [
       "(3340.277777777778 mm², 3141.578947368421 mm²)"
      ]
     },
     "execution_count": 19,
     "metadata": {},
     "output_type": "execute_result"
    }
   ],
   "source": [
    "An_10, An_20"
   ]
  },
  {
   "cell_type": "code",
   "execution_count": null,
   "metadata": {},
   "outputs": [],
   "source": []
  }
 ],
 "metadata": {
  "kernelspec": {
   "display_name": "Python 3",
   "language": "python",
   "name": "python3"
  },
  "language_info": {
   "codemirror_mode": {
    "name": "ipython",
    "version": 3
   },
   "file_extension": ".py",
   "mimetype": "text/x-python",
   "name": "python",
   "nbconvert_exporter": "python",
   "pygments_lexer": "ipython3",
   "version": "3.6.8"
  }
 },
 "nbformat": 4,
 "nbformat_minor": 2
}
