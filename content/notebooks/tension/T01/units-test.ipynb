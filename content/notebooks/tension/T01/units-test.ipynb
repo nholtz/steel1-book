{
 "cells": [
  {
   "cell_type": "code",
   "execution_count": 38,
   "metadata": {},
   "outputs": [],
   "source": [
    "from cive3205_setup import *"
   ]
  },
  {
   "cell_type": "code",
   "execution_count": 39,
   "metadata": {},
   "outputs": [
    {
     "data": {
      "text/html": [
       "\\[3\\ kN\\ m\\]"
      ],
      "text/latex": [
       "$3\\ \\mathrm{kN} \\cdot \\mathrm{m}$"
      ],
      "text/plain": [
       "3 kN·m"
      ]
     },
     "execution_count": 39,
     "metadata": {},
     "output_type": "execute_result"
    }
   ],
   "source": [
    "3*kN*m"
   ]
  },
  {
   "cell_type": "code",
   "execution_count": 40,
   "metadata": {},
   "outputs": [
    {
     "data": {
      "text/html": [
       "\\[3000000.0\\ N\\ mm\\]"
      ],
      "text/latex": [
       "$3000000.0\\ \\mathrm{N} \\cdot \\mathrm{mm}$"
      ],
      "text/plain": [
       "3000000.0 N·mm"
      ]
     },
     "execution_count": 40,
     "metadata": {},
     "output_type": "execute_result"
    }
   ],
   "source": [
    "(3*kN*m).to(N*mm)"
   ]
  },
  {
   "cell_type": "code",
   "execution_count": 41,
   "metadata": {},
   "outputs": [
    {
     "name": "stdout",
     "output_type": "stream",
     "text": [
      "1350 kN\n"
     ]
    }
   ],
   "source": [
    "print((3000*mm**2 * 450*MPa).to(kN))"
   ]
  },
  {
   "cell_type": "code",
   "execution_count": 42,
   "metadata": {},
   "outputs": [
    {
     "name": "stdout",
     "output_type": "stream",
     "text": [
      "1.35×10⁶ MPa·mm²\n"
     ]
    }
   ],
   "source": [
    "print(3000*mm**2 * 450*MPa)"
   ]
  },
  {
   "cell_type": "code",
   "execution_count": 43,
   "metadata": {},
   "outputs": [
    {
     "data": {
      "text/plain": [
       "'0.10.1'"
      ]
     },
     "execution_count": 43,
     "metadata": {},
     "output_type": "execute_result"
    }
   ],
   "source": [
    "pint.__version__"
   ]
  },
  {
   "cell_type": "code",
   "execution_count": 44,
   "metadata": {},
   "outputs": [
    {
     "data": {
      "text/plain": [
       "[3 mm, 4 kN]"
      ]
     },
     "execution_count": 44,
     "metadata": {},
     "output_type": "execute_result"
    }
   ],
   "source": [
    "[3*mm,4*kN]"
   ]
  },
  {
   "cell_type": "code",
   "execution_count": 45,
   "metadata": {},
   "outputs": [],
   "source": [
    "ureg.auto_reduce_dimensions = True"
   ]
  },
  {
   "cell_type": "code",
   "execution_count": 46,
   "metadata": {},
   "outputs": [
    {
     "data": {
      "text/html": [
       "\\[19.049999999999997\\ mm\\]"
      ],
      "text/latex": [
       "$19.049999999999997\\ \\mathrm{mm}$"
      ],
      "text/plain": [
       "19.049999999999997 mm"
      ]
     },
     "execution_count": 46,
     "metadata": {},
     "output_type": "execute_result"
    }
   ],
   "source": [
    "(3/4*inch).to(mm)"
   ]
  },
  {
   "cell_type": "code",
   "execution_count": 47,
   "metadata": {},
   "outputs": [
    {
     "data": {
      "text/html": [
       "\\[1350000\\ MPa\\ mm^2\\]"
      ],
      "text/latex": [
       "$1350000\\ \\mathrm{MPa} \\cdot \\mathrm{mm}^{2}$"
      ],
      "text/plain": [
       "1350000 MPa·mm²"
      ]
     },
     "execution_count": 47,
     "metadata": {},
     "output_type": "execute_result"
    }
   ],
   "source": [
    "x = (3000*mm**2 * 450*MPa)\n",
    "x"
   ]
  },
  {
   "cell_type": "code",
   "execution_count": 48,
   "metadata": {},
   "outputs": [
    {
     "data": {
      "text/html": [
       "\\[1350000\\ MPa\\ mm^2\\]"
      ],
      "text/latex": [
       "$1350000\\ \\mathrm{MPa} \\cdot \\mathrm{mm}^{2}$"
      ],
      "text/plain": [
       "1350000 MPa·mm²"
      ]
     },
     "execution_count": 48,
     "metadata": {},
     "output_type": "execute_result"
    }
   ],
   "source": [
    "x.to_reduced_units()"
   ]
  },
  {
   "cell_type": "code",
   "execution_count": 49,
   "metadata": {},
   "outputs": [
    {
     "data": {
      "text/plain": [
       "frozenset({a_u_force, dyn, gf, N, kgf, tf})"
      ]
     },
     "execution_count": 49,
     "metadata": {},
     "output_type": "execute_result"
    }
   ],
   "source": [
    "x.compatible_units()"
   ]
  },
  {
   "cell_type": "code",
   "execution_count": 50,
   "metadata": {},
   "outputs": [
    {
     "data": {
      "text/html": [
       "\\[1350000.0\\ kg\\ m/s^2\\]"
      ],
      "text/latex": [
       "$1350000.0\\ \\frac{\\mathrm{kg} \\cdot \\mathrm{m}}{\\mathrm{s}^{2}}$"
      ],
      "text/plain": [
       "1350000.0 kg·m/s²"
      ]
     },
     "execution_count": 50,
     "metadata": {},
     "output_type": "execute_result"
    }
   ],
   "source": [
    "x.to_base_units()"
   ]
  },
  {
   "cell_type": "code",
   "execution_count": null,
   "metadata": {},
   "outputs": [],
   "source": []
  }
 ],
 "metadata": {
  "kernelspec": {
   "display_name": "Python 3",
   "language": "python",
   "name": "python3"
  },
  "language_info": {
   "codemirror_mode": {
    "name": "ipython",
    "version": 3
   },
   "file_extension": ".py",
   "mimetype": "text/x-python",
   "name": "python",
   "nbconvert_exporter": "python",
   "pygments_lexer": "ipython3",
   "version": "3.6.8"
  }
 },
 "nbformat": 4,
 "nbformat_minor": 2
}
