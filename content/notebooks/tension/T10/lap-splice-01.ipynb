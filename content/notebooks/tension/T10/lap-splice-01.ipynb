{
 "cells": [
  {
   "cell_type": "markdown",
   "metadata": {},
   "source": [
    "# Example T10: Tension Member Lap Splice\n",
    "Compute the factored tension resistance, $T_r$, of the following plate tension member, lap splice and fasteners.\n",
    "Ignore the connection details at the far ends of the member (not shown).  Bolts are 3/4\" A325 in a\n",
    "bearing-type connection, in 22mm punched holes (assume threads intercepted).  The plates are of CSA G40.21 350W steel."
   ]
  },
  {
   "cell_type": "markdown",
   "metadata": {},
   "source": [
    "![Lap Splice](/images/tension/T10/lap-splice-01.svg)"
   ]
  },
  {
   "cell_type": "markdown",
   "metadata": {},
   "source": [
    "## Import and Setup Library Modules"
   ]
  },
  {
   "cell_type": "code",
   "execution_count": 1,
   "metadata": {},
   "outputs": [],
   "source": [
    "from Designer import DesignNotes, show"
   ]
  },
  {
   "cell_type": "code",
   "execution_count": 2,
   "metadata": {},
   "outputs": [],
   "source": [
    "import pint                  # setup to use the module for computing with units\n",
    "ureg = pint.UnitRegistry()\n",
    "mm = ureg['mm']\n",
    "inch = ureg['inch']\n",
    "kN = ureg['kN']\n",
    "MPa = ureg['MPa']\n",
    "ureg.default_format = '~P'"
   ]
  },
  {
   "cell_type": "code",
   "execution_count": 3,
   "metadata": {},
   "outputs": [],
   "source": [
    "notes = DesignNotes('Tr',title='Lap Plate Splice',trace=True,units=kN)\n",
    "REQ = notes.require      # convenient abbreviations\n",
    "CHK = notes.check\n",
    "REC = notes.record"
   ]
  },
  {
   "cell_type": "markdown",
   "metadata": {},
   "source": [
    "## Set the Problem Parameters (data)"
   ]
  },
  {
   "cell_type": "code",
   "execution_count": 4,
   "metadata": {},
   "outputs": [
    {
     "name": "stdout",
     "output_type": "stream",
     "text": [
      "Fy  = 350   MPa\n",
      "Fu  = 450   MPa\n",
      "Fub = 825   MPa\n",
      "W1  = 300   mm\n",
      "T1  = 25    mm\n",
      "C   = 10    mm\n",
      "W2  = 220   mm\n",
      "T2  = 14    mm\n",
      "L2  = 350   mm\n",
      "D   = 19.05 mm\n",
      "HA  = 24    mm\n",
      "G   = 75    mm\n",
      "S   = 75    mm\n",
      "S2  = 140   mm\n",
      "NT  = 3     \n",
      "NL  = 2     \n"
     ]
    }
   ],
   "source": [
    "# Material properties:\n",
    "Fy = 350*MPa   # CSA G40.21 350W\n",
    "Fu = 450*MPa\n",
    "Fub = 825*MPa  # bolt, ASTM A325, 3/4\"\n",
    "# Main plate dimensions:\n",
    "W1 = 300*mm\n",
    "T1 = 25*mm\n",
    "C = 10*mm   # clearance between ends\n",
    "# Side plate dimensions:\n",
    "W2 = 220*mm\n",
    "T2 = 14*mm\n",
    "L2 = 350*mm\n",
    "# bolting dimensions\n",
    "D = (3/4*inch).to(mm)       # bolt diameter\n",
    "threads_intercepted = True\n",
    "HA = (22 + 2)*mm  # hole allowance - 3/4\" bolts in 22mm punched holes\n",
    "G = 75*mm     # gauge (transverse spacing)\n",
    "S = 75*mm     # longitudinal spacing\n",
    "NT = 3        # number of bolts across\n",
    "NL = 2        # number of lines of bolts each side\n",
    "S2 = 140*mm   # distance between inner lines of bolts\n",
    "show('Fy,Fu,Fub,W1,T1,C,W2,T2,L2,D,HA,G,S,S2,NT,NL')"
   ]
  },
  {
   "cell_type": "markdown",
   "metadata": {},
   "source": [
    "## Check Bolting Details\n",
    "Edge distance, end distance and spacing.  If a REQuirement is not met, execution\n",
    "terminates with an error message."
   ]
  },
  {
   "cell_type": "code",
   "execution_count": 5,
   "metadata": {},
   "outputs": [],
   "source": [
    "REQ( NT >= 2, \"NT - Number of bolts across (on a line transverse to load)\" )\n",
    "REQ( NL >= 2, \"NL - number of transverse lines (# of bolts per longitudinal line)\" )"
   ]
  },
  {
   "cell_type": "code",
   "execution_count": 6,
   "metadata": {},
   "outputs": [
    {
     "name": "stdout",
     "output_type": "stream",
     "text": [
      "min_pitch = 51.43 mm\n",
      "min_edge  = 32    mm\n",
      "min_end   = 28.57 mm\n",
      "max_edge  = 150   mm\n"
     ]
    }
   ],
   "source": [
    "min_edge = 32*mm      # S16 22.3.2, min edge distance, 3/4\" bolt, sheared edge, Table 6\n",
    "max_edge = min(12*T2,150*mm)    # S16 22.3.3\n",
    "min_end = min_edge if NL > 2 else 1.5*D  # S16 22.3.4\n",
    "min_pitch = 2.7*D    # S16 22.3.1\n",
    "show('min_pitch,min_edge,min_end,max_edge')"
   ]
  },
  {
   "cell_type": "markdown",
   "metadata": {},
   "source": [
    "### Center plate:"
   ]
  },
  {
   "cell_type": "code",
   "execution_count": 7,
   "metadata": {},
   "outputs": [
    {
     "name": "stdout",
     "output_type": "stream",
     "text": [
      "edge = 75 mm\n",
      "end  = 65 mm\n"
     ]
    }
   ],
   "source": [
    "edge = (W1 - (NT-1)*G)/2.\n",
    "end = (S2 - C)/2.\n",
    "show('edge,end')\n",
    "REQ(edge >= min_edge)\n",
    "REQ(edge <= max_edge)\n",
    "REQ(end >= min_end)\n",
    "REQ(S >= min_pitch)\n",
    "REQ(G >= min_pitch)\n",
    "REQ(S2 >= S)\n",
    "REQ(S**2 + G**2 >= min_pitch**2)    # to be more precise ..."
   ]
  },
  {
   "cell_type": "markdown",
   "metadata": {},
   "source": [
    "### Side plates:"
   ]
  },
  {
   "cell_type": "code",
   "execution_count": 8,
   "metadata": {},
   "outputs": [
    {
     "name": "stdout",
     "output_type": "stream",
     "text": [
      "edge = 35 mm\n",
      "end  = 30 mm\n"
     ]
    }
   ],
   "source": [
    "edge = (W2 - (NT-1)*G)/2.\n",
    "end = (L2 - ((NL-1)*G*2 + S2))/2.\n",
    "show('edge,end')\n",
    "REQ(edge >= min_edge)\n",
    "REQ(edge <= max_edge)\n",
    "REQ(end >= min_end)"
   ]
  },
  {
   "cell_type": "markdown",
   "metadata": {},
   "source": [
    "## Factored Resistance"
   ]
  },
  {
   "cell_type": "markdown",
   "metadata": {},
   "source": [
    "### Main plate\n",
    "![Main Plate](/images/tension/T10/lap-splice-01-main.svg)"
   ]
  },
  {
   "cell_type": "markdown",
   "metadata": {},
   "source": [
    "#### Yield on Gross Area\n",
    "\n",
    "If the gross (unreduced) cross-section reaches the yield stress, there will be considerable\n",
    "axial elongation as yield strains are reached over the length of the member.  This is considered a failure state."
   ]
  },
  {
   "cell_type": "code",
   "execution_count": 9,
   "metadata": {},
   "outputs": [
    {
     "data": {
      "text/plain": [
       "    Gross area yield, centre plate: Tr = 2362 kN\n",
       "       (Ag=7500mm², Fy=350MPa)"
      ]
     },
     "metadata": {},
     "output_type": "display_data"
    }
   ],
   "source": [
    "Ag = W1*T1    # gross x-sectional area\n",
    "phi = 0.9\n",
    "Tr = phi*Ag*Fy  # S16-14: 13.2 a) i)\n",
    "REC(Tr,'Gross area yield, centre plate','Ag,Fy')"
   ]
  },
  {
   "cell_type": "markdown",
   "metadata": {},
   "source": [
    "#### Fracture on Effective Net Area\n",
    "When the average stress across the net (reduced) area reaches the fracture stress, \n",
    "fracture will occur on that area.  This is, of\n",
    "course, a failure mode.  Normally, an account is made of how non-uniform load transfers can affect the stress\n",
    "distribution across the cross-section; if the stress distribution is markedly non-uniform, fracture may occur *before* the average stress reaches the ultimate.   This account \n",
    "is done by computing and using an effective net area, $A_{ne}$.  \n",
    "\n",
    "Because the \n",
    "bolts in this connection transfer loads approximately uniformly across the entire cross-section, we can consider the effective net area to be equal to the net area in possible failure path 1 in the above figure.   (S16 12.3.3.1)"
   ]
  },
  {
   "cell_type": "code",
   "execution_count": 10,
   "metadata": {},
   "outputs": [
    {
     "data": {
      "text/plain": [
       "    Net section fracture, centre plate: Tr = 1924 kN\n",
       "       (wn=228mm, An=5700mm², Ane=5700mm², Fu=450MPa)"
      ]
     },
     "metadata": {},
     "output_type": "display_data"
    }
   ],
   "source": [
    "wn = W1 - NT*HA    # net width: subtract total width of material removed by holes, failure path 1\n",
    "Ane = An = wn*T1\n",
    "phiu = 0.75\n",
    "Tr = phiu*Ane*Fu    # S16-14: 13.2 a) iii)\n",
    "REC(Tr,'Net section fracture, centre plate','wn,An,Ane,Tr,Fu')"
   ]
  },
  {
   "cell_type": "markdown",
   "metadata": {},
   "source": [
    "#### Block Shear\n",
    "Other potential failure modes involve tension and shear ruptures in combination around\n",
    "the bolt holes.  The following figure shows 4 different potential failure patterns that must be\n",
    "investigated. \n",
    "\n",
    "Patterns 1 and 2 are sort of \"opposites\" - in Pattern 1 in the tension rupture extends across the\n",
    "end of the bolts, while in Pattern 2 the tension rupture extends from one line of bolts to\n",
    "the outside edges of the plates.  Pattern 2 probably is only important when there are 2 longitudinal\n",
    "lines of bolts (there are three shown on the drawing, though our calculations will allow\n",
    "for any number, 2 or more).  If there are more than 3 longitudnal lines (I.e., more than 3 bolts across),\n",
    "other patterns similar to Pattern 2 could be drawn but thay will not have lower strengths.\n",
    "\n",
    "Note that Pattern 4 is often called 'tear-out' or 'pull-out'.\n",
    "\n",
    "![Block Shear Patterns](images/lap-splice-01-main-blocks.svg)"
   ]
  },
  {
   "cell_type": "code",
   "execution_count": 11,
   "metadata": {},
   "outputs": [],
   "source": [
    "Fv = (Fy+Fu)/2.      # S16-14: 13.11 footnote\n",
    "if Fy > 460*MPa:\n",
    "    Fv = Fy"
   ]
  },
  {
   "cell_type": "code",
   "execution_count": 12,
   "metadata": {},
   "outputs": [
    {
     "data": {
      "text/plain": [
       "    Block Shear Pattern 1 - centre plate: Tr = 2526 kN\n",
       "       (Ut=1.0, An=3750mm², Agv=7000mm²)"
      ]
     },
     "metadata": {},
     "output_type": "display_data"
    }
   ],
   "source": [
    "## Pattern 1\n",
    "e = S2/2. - C/2.     # end distance to centre of 1st bolt hole\n",
    "Agv = (e + (NL-1)*S)*T1*2.  # shear area\n",
    "An = (NT-1)*G * T1          # tension area\n",
    "Ut = 1.0\n",
    "phiu = 0.75\n",
    "Tr = phiu*((Ut*An*Fu) + (0.6*Agv*Fv))     # S16-14: 13.11\n",
    "REC(Tr,'Block Shear Pattern 1 - centre plate','Ut,An,Agv,Tr');"
   ]
  },
  {
   "cell_type": "code",
   "execution_count": 13,
   "metadata": {},
   "outputs": [
    {
     "data": {
      "text/plain": [
       "    Block Shear Pattern 2 - centre plate: Tr = 2156 kN\n",
       "       (Ut=0.6, An=4425mm², Agv=7000mm²)"
      ]
     },
     "metadata": {},
     "output_type": "display_data"
    }
   ],
   "source": [
    "## Pattern 2\n",
    "Agv = 2.*(e + (NL-1)*S)*T1  # shear area\n",
    "g1 = (W1 - (NT-1)*G)/2.  # edge distance to centre of hole\n",
    "An = (g1 + g1 - 2.*HA/2.)*T1    # to outside from edge of outside pair of holes\n",
    "if NT >= 3:\n",
    "    An = An + (NT-2.)*(G - 2.*HA/2.)*T1    # additional between holes\n",
    "Ut = 0.6                 # no good guidelines in commentary - this should be conservative\n",
    "Tr = phiu*((Ut*An*Fu) + (0.6*Agv*Fv))     # S16-14: 13.11\n",
    "REC(Tr,'Block Shear Pattern 2 - centre plate','Ut,An,Agv,Tr');  "
   ]
  },
  {
   "cell_type": "code",
   "execution_count": 14,
   "metadata": {},
   "outputs": [
    {
     "data": {
      "text/plain": [
       "    Block Shear Pattern 3 - centre plate: Tr = 1465 kN\n",
       "       (Ut=0.6, An=4125mm², Agv=3500mm²)"
      ]
     },
     "metadata": {},
     "output_type": "display_data"
    }
   ],
   "source": [
    "## Pattern 3\n",
    "Agv = (e + (NL-1)*S)*T1  # shear area\n",
    "g1 = (W1 - (NT-1)*G)/2.  # edge distance to centre of hole\n",
    "An = ((W1-g1) - (NT-0.5)*HA)*T1\n",
    "Ut = 0.6                 # no good guidelines in commentary - this should be conservative\n",
    "Tr = phiu*((Ut*An*Fu) + (0.6*Agv*Fv))     # S16-14: 13.11\n",
    "REC(Tr,'Block Shear Pattern 3 - centre plate','Ut,An,Agv,Tr');"
   ]
  },
  {
   "cell_type": "code",
   "execution_count": 15,
   "metadata": {},
   "outputs": [
    {
     "data": {
      "text/plain": [
       "    Block Shear Pattern 4 - centre plate: Tr = 3780 kN\n",
       "       (Ut=0, An=0mm², Agv=21000mm²)"
      ]
     },
     "metadata": {},
     "output_type": "display_data"
    }
   ],
   "source": [
    "## Pattern 4 - tear-out\n",
    "Agv = (e + (NL-1)*S)*T1 * (NT*2.) # shear area\n",
    "An = 0*mm*mm\n",
    "Ut = 0.               # N.A.\n",
    "Tr = phiu*((Ut*An*Fu) + (0.6*Agv*(Fy+Fu)/2.))     # S16-14: 13.11\n",
    "REC(Tr,'Block Shear Pattern 4 - centre plate','Ut,An,Agv,Tr');"
   ]
  },
  {
   "cell_type": "markdown",
   "metadata": {},
   "source": [
    "### Lap Plates\n",
    "![Lap Plate](/images/tension/T10/lap-splice-01-side.svg)\n",
    "\n",
    "The side plates have similar failure modes and so will be computed here without much additional comment.  In all cases we will use the dimensions of a single plate, then will multiply the resistance by 2 to\n",
    "account for the two plates."
   ]
  },
  {
   "cell_type": "markdown",
   "metadata": {},
   "source": [
    "#### Yield on Gross Area"
   ]
  },
  {
   "cell_type": "code",
   "execution_count": 16,
   "metadata": {},
   "outputs": [
    {
     "data": {
      "text/plain": [
       "    Gross area yield, two side plates: Tr = 1940 kN\n",
       "       (Ag=3080mm²)"
      ]
     },
     "metadata": {},
     "output_type": "display_data"
    }
   ],
   "source": [
    "Ag = W2*T2    # gross x-sectional area\n",
    "phi = 0.9\n",
    "Tr = 2. * phi*Ag*Fy  # S16-14: 13.2 a) i)\n",
    "REC(Tr,'Gross area yield, two side plates','Ag,Tr');"
   ]
  },
  {
   "cell_type": "markdown",
   "metadata": {},
   "source": [
    "#### Fracture on Effective Net Area"
   ]
  },
  {
   "cell_type": "code",
   "execution_count": 17,
   "metadata": {},
   "outputs": [
    {
     "data": {
      "text/plain": [
       "    Net section fracture, two side plates: Tr = 1399 kN\n",
       "       (wn=148mm, An=2072mm², Ane=2072mm²)"
      ]
     },
     "metadata": {},
     "output_type": "display_data"
    }
   ],
   "source": [
    "wn = W2 - NT*HA    # subtract total width of material removed by holes, failure path 2\n",
    "Ane = An = wn*T2\n",
    "phiu = 0.75\n",
    "Tr = 2. * phiu*Ane*Fu    # S1614: 13.2 a) iii)\n",
    "REC(Tr,'Net section fracture, two side plates','wn,An,Ane,Tr');"
   ]
  },
  {
   "cell_type": "markdown",
   "metadata": {},
   "source": [
    "#### Block Shear\n",
    "\n",
    "![Block Shear Patterns](/images/tension/T10/lap-splice-01-side-blocks.svg)"
   ]
  },
  {
   "cell_type": "code",
   "execution_count": 18,
   "metadata": {},
   "outputs": [
    {
     "data": {
      "text/plain": [
       "    Block Shear Pattern 1 - two side plates: Tr = 2476 kN\n",
       "       (Ut=1.0, An=2100mm², Agv=2940mm²)"
      ]
     },
     "metadata": {},
     "output_type": "display_data"
    }
   ],
   "source": [
    "## Pattern 1\n",
    "e = (L2 - S2 - (NL-1)*S*2.)/2.   # end distance to centre of 1st bolt hole\n",
    "Agv = (e + (NL-1)*S)*T2*2.  # shear area\n",
    "An = (NT-1)*G * T2          # tension area\n",
    "Ut = 1.0\n",
    "phiu = 0.75\n",
    "Tr = 2. * phiu*((Ut*An*Fu) + (0.6*Agv*(Fy+Fu)/2.))     # S16-14: 13.11\n",
    "REC(Tr,'Block Shear Pattern 1 - two side plates','Ut,An,Agv,Tr');"
   ]
  },
  {
   "cell_type": "code",
   "execution_count": 19,
   "metadata": {},
   "outputs": [
    {
     "data": {
      "text/plain": [
       "    Block Shear Pattern 2 - two side plates: Tr = 1608 kN\n",
       "       (Ut=0.6, An=1358mm², Agv=2940mm²)"
      ]
     },
     "metadata": {},
     "output_type": "display_data"
    }
   ],
   "source": [
    "## Pattern 2\n",
    "Agv = 2.*(e + (NL-1)*S)*T2  # shear area\n",
    "g1 = (W2 - (NT-1)*G)/2.  # edge distance to centre of hole\n",
    "An = (g1 + g1 - 2.*HA/2.)*T2    # to outside from edge of outside pair of holes\n",
    "if NT >= 3:\n",
    "    An = An + (NT-2.)*(G - 2.*HA/2.)*T2    # additional between holes\n",
    "Ut = 0.6                 # no good guidelines in commentary - this should be conservative\n",
    "Tr = 2. * phiu*((Ut*An*Fu) + (0.6*Agv*(Fy+Fu)/2.))     # S16-14: 13.11\n",
    "REC(Tr,'Block Shear Pattern 2 - two side plates','Ut,An,Agv,Tr');"
   ]
  },
  {
   "cell_type": "code",
   "execution_count": 20,
   "metadata": {},
   "outputs": [
    {
     "data": {
      "text/plain": [
       "    Block Shear Pattern 3 - two side plates: Tr = 1238 kN\n",
       "       (Ut=0.6, An=1750mm², Agv=1470mm²)"
      ]
     },
     "metadata": {},
     "output_type": "display_data"
    }
   ],
   "source": [
    "## Pattern 3\n",
    "Agv = (e + (NL-1)*S)*T2  # shear area\n",
    "g2 = (W2 - (NT-1)*G)/2.  # edge distance to centre of hole\n",
    "An = ((W2-g2) - (NT-0.5)*HA)*T2\n",
    "Ut = 0.6                 # no good guidelines in commentary - this should be conservative\n",
    "Tr = 2. * phiu*((Ut*An*Fu) + (0.6*Agv*(Fy+Fu)/2.))     # S16-14: 13.11\n",
    "REC(Tr,'Block Shear Pattern 3 - two side plates','Ut,An,Agv,Tr');"
   ]
  },
  {
   "cell_type": "code",
   "execution_count": 21,
   "metadata": {},
   "outputs": [
    {
     "data": {
      "text/plain": [
       "    Block Shear Pattern 4 - two side plates: Tr = 3175 kN\n",
       "       (Ut=0, An=0mm², Agv=8820mm²)"
      ]
     },
     "metadata": {},
     "output_type": "display_data"
    }
   ],
   "source": [
    "## Pattern 4 - tear-out\n",
    "Agv = (e + (NL-1)*S)*T2 * (NT*2.) # shear area\n",
    "An = 0*mm*mm\n",
    "Ut = 0.               # N.A.\n",
    "Tr = 2. * phiu*((Ut*An*Fu) + (0.6*Agv*(Fy+Fu)/2.))     # S16-14: 13.11\n",
    "REC(Tr,'Block Shear Pattern 4 - two side plates','Ut,An,Agv,Tr');"
   ]
  },
  {
   "cell_type": "markdown",
   "metadata": {},
   "source": [
    "### Fasteners (Bolts)"
   ]
  },
  {
   "cell_type": "markdown",
   "metadata": {},
   "source": [
    "#### Shear\n",
    "\n",
    "Here we compute the shear strength of one of the bolt groups."
   ]
  },
  {
   "cell_type": "code",
   "execution_count": 22,
   "metadata": {},
   "outputs": [
    {
     "data": {
      "text/plain": [
       "    Shear resistance of bolts: Tr = 948.1 kN    <<<--- GOVERNS\n",
       "       (n=6, m=2, Ab=285.0mm²)"
      ]
     },
     "metadata": {},
     "output_type": "display_data"
    }
   ],
   "source": [
    "n = NT*NL      # number of bolts\n",
    "m = 2          # number of faying surfaces\n",
    "Ab = 3.14159*D*D/4.\n",
    "phib = 0.80\n",
    "Vr = 0.60*phib*n*m*Ab*Fub      # S16-14: 13.12.1.2 c)\n",
    "if (NL-1)*S >= 760*mm:\n",
    "    Vr = (0.5/0.6)*Vr\n",
    "if threads_intercepted:\n",
    "    Vr = 0.7*Vr\n",
    "REC(Vr,'Shear resistance of bolts','n,m,Ab');"
   ]
  },
  {
   "cell_type": "markdown",
   "metadata": {},
   "source": [
    "#### Bearing"
   ]
  },
  {
   "cell_type": "code",
   "execution_count": 23,
   "metadata": {},
   "outputs": [
    {
     "data": {
      "text/plain": [
       "    Bearing resistance at bolt holes: Tr = 3086 kN\n",
       "       (n=6, D=19.05mm, t=25mm, Fu=450MPa)"
      ]
     },
     "metadata": {},
     "output_type": "display_data"
    }
   ],
   "source": [
    "n = NT*NL\n",
    "t = min(T1,2.*T2)\n",
    "phibr = 0.80\n",
    "Br = 3.*phibr*n*t*D*Fu\n",
    "REC(Br,'Bearing resistance at bolt holes','n,D,t,Fu');"
   ]
  },
  {
   "cell_type": "markdown",
   "metadata": {},
   "source": [
    "## Summary"
   ]
  },
  {
   "cell_type": "code",
   "execution_count": 24,
   "metadata": {},
   "outputs": [
    {
     "name": "stdout",
     "output_type": "stream",
     "text": [
      "\n",
      "Summary of DesignNotes for Tr: Lap Plate Splice\n",
      "===============================================\n",
      "\n",
      "Values of Tr:\n",
      "-------------\n",
      "    Gross area yield, centre plate:          Tr = 2360 kN\n",
      "    Net section fracture, centre plate:      Tr = 1920 kN\n",
      "    Block Shear Pattern 1 - centre plate:    Tr = 2530 kN\n",
      "    Block Shear Pattern 2 - centre plate:    Tr = 2160 kN\n",
      "    Block Shear Pattern 3 - centre plate:    Tr = 1470 kN\n",
      "    Block Shear Pattern 4 - centre plate:    Tr = 3780 kN\n",
      "    Gross area yield, two side plates:       Tr = 1940 kN\n",
      "    Net section fracture, two side plates:   Tr = 1400 kN\n",
      "    Block Shear Pattern 1 - two side plates: Tr = 2480 kN\n",
      "    Block Shear Pattern 2 - two side plates: Tr = 1610 kN\n",
      "    Block Shear Pattern 3 - two side plates: Tr = 1240 kN\n",
      "    Block Shear Pattern 4 - two side plates: Tr = 3180 kN\n",
      "    Shear resistance of bolts:               Tr = 948 kN    <<<--- GOVERNS\n",
      "    Bearing resistance at bolt holes:        Tr = 3090 kN\n",
      "\n",
      "    Governing Value:\n",
      "    ----------------\n",
      "       Tr = 948 kN\n"
     ]
    }
   ],
   "source": [
    "notes.summary()"
   ]
  },
  {
   "cell_type": "markdown",
   "metadata": {},
   "source": [
    "## Things not done\n",
    "* L/r ratio\n",
    "* Connections at ends"
   ]
  },
  {
   "cell_type": "code",
   "execution_count": null,
   "metadata": {},
   "outputs": [],
   "source": []
  }
 ],
 "metadata": {
  "kernelspec": {
   "display_name": "Python 3",
   "language": "python",
   "name": "python3"
  },
  "language_info": {
   "codemirror_mode": {
    "name": "ipython",
    "version": 3
   },
   "file_extension": ".py",
   "mimetype": "text/x-python",
   "name": "python",
   "nbconvert_exporter": "python",
   "pygments_lexer": "ipython3",
   "version": "3.6.8"
  }
 },
 "nbformat": 4,
 "nbformat_minor": 2
}
