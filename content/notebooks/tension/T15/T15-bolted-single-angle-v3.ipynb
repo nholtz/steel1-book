{
 "cells": [
  {
   "cell_type": "code",
   "execution_count": 1,
   "metadata": {
    "collapsed": false,
    "jupyter": {
     "outputs_hidden": false
    }
   },
   "outputs": [],
   "source": [
    "from Designer import makePart, DesignNotes, SST"
   ]
  },
  {
   "cell_type": "markdown",
   "metadata": {},
   "source": [
    "# Example T15: Tension Member -  Angle Bolted Through One Leg\n",
    "\n",
    "Calculate factored tension resistance, $T_r$, of a single angle bolted through one leg.\n",
    "Assume 3/4\" ASTM A325 bolts in 22mm punched holes, and CSA G40.21 350W steel."
   ]
  },
  {
   "cell_type": "code",
   "execution_count": 2,
   "metadata": {},
   "outputs": [
    {
     "data": {
      "image/svg+xml": [
       "<svg height=\"2.5000429in\" id=\"svg2\" inkscape:version=\"0.92.4 (unknown)\" sodipodi:docname=\"bolted-single-angle.svg\" version=\"1.1\" viewBox=\"0 0 432.14809 240.00412\" width=\"4.5015426in\" xmlns=\"http://www.w3.org/2000/svg\" xmlns:cc=\"http://creativecommons.org/ns#\" xmlns:dc=\"http://purl.org/dc/elements/1.1/\" xmlns:inkscape=\"http://www.inkscape.org/namespaces/inkscape\" xmlns:rdf=\"http://www.w3.org/1999/02/22-rdf-syntax-ns#\" xmlns:sodipodi=\"http://sodipodi.sourceforge.net/DTD/sodipodi-0.dtd\" xmlns:svg=\"http://www.w3.org/2000/svg\" xmlns:xlink=\"http://www.w3.org/1999/xlink\">\n",
       "  <sodipodi:namedview bordercolor=\"#666666\" borderopacity=\"1.0\" fit-margin-bottom=\"0.2\" fit-margin-left=\"0.2\" fit-margin-right=\"0.2\" fit-margin-top=\"0.2\" id=\"base\" inkscape:current-layer=\"layer1\" inkscape:cx=\"225.37637\" inkscape:cy=\"123.44205\" inkscape:document-units=\"in\" inkscape:guide-bbox=\"true\" inkscape:pageopacity=\"0.0\" inkscape:pageshadow=\"2\" inkscape:snap-global=\"true\" inkscape:window-height=\"979\" inkscape:window-maximized=\"0\" inkscape:window-width=\"1179\" inkscape:window-x=\"683\" inkscape:window-y=\"45\" inkscape:zoom=\"2.8567114\" pagecolor=\"#ffffff\" showgrid=\"true\" showguides=\"true\" units=\"in\">\n",
       "    <inkscape:grid empspacing=\"5\" enabled=\"true\" id=\"grid2985\" originx=\"-95.00235\" originy=\"-748.79579\" snapvisiblegridlinesonly=\"true\" spacingx=\"9.6000004\" spacingy=\"9.6\" type=\"xygrid\" units=\"in\" visible=\"true\"/>\n",
       "    <sodipodi:guide id=\"guide3042\" inkscape:locked=\"false\" orientation=\"0,765\" position=\"-95.002348,-748.79581\"/>\n",
       "    <sodipodi:guide id=\"guide3044\" inkscape:locked=\"false\" orientation=\"-990,0\" position=\"720.99767,432.00412\"/>\n",
       "    <sodipodi:guide id=\"guide3046\" inkscape:locked=\"false\" orientation=\"0,-765\" position=\"-85.402349,307.20412\"/>\n",
       "    <sodipodi:guide id=\"guide3048\" inkscape:locked=\"false\" orientation=\"990,0\" position=\"-95.002348,241.20412\"/>\n",
       "    <sodipodi:guide id=\"guide3050\" inkscape:locked=\"false\" orientation=\"0,765\" position=\"624.99767,-703.79581\"/>\n",
       "    <sodipodi:guide id=\"guide3052\" inkscape:locked=\"false\" orientation=\"-990,0\" position=\"672.99767,412.80412\"/>\n",
       "    <sodipodi:guide id=\"guide3054\" inkscape:locked=\"false\" orientation=\"0,-765\" position=\"126.04437,252.63532\"/>\n",
       "    <sodipodi:guide id=\"guide3056\" inkscape:locked=\"false\" orientation=\"990,0\" position=\"-47.002348,364.80412\"/>\n",
       "    <sodipodi:guide id=\"guide3551\" inkscape:locked=\"false\" orientation=\"0,47.8125\" position=\"49.092045,43.552609\"/>\n",
       "    <sodipodi:guide id=\"guide3553\" inkscape:locked=\"false\" orientation=\"-6.9375,0\" position=\"100.09205,43.552609\"/>\n",
       "    <sodipodi:guide id=\"guide3555\" inkscape:locked=\"false\" orientation=\"0,-30.796875\" position=\"97.942046,53.102609\"/>\n",
       "    <sodipodi:guide id=\"guide3557\" inkscape:locked=\"false\" orientation=\"-50.203125,0\" position=\"58.642044,59.552608\"/>\n",
       "    <sodipodi:guide id=\"guide3559\" inkscape:locked=\"false\" orientation=\"0,-6.9375\" position=\"56.492044,115.2526\"/>\n",
       "    <sodipodi:guide id=\"guide3561\" inkscape:locked=\"false\" orientation=\"67.21875,0\" position=\"49.092045,115.2526\"/>\n",
       "    <sodipodi:guide id=\"guide3577\" inkscape:locked=\"false\" orientation=\"47.8125,0\" position=\"49.303105,210.94976\"/>\n",
       "    <sodipodi:guide id=\"guide3579\" inkscape:locked=\"false\" orientation=\"0,6.9375\" position=\"105.65773,159.98301\"/>\n",
       "    <sodipodi:guide id=\"guide3583\" inkscape:locked=\"false\" orientation=\"0,50.203125\" position=\"62.568115,71.914737\"/>\n",
       "    <sodipodi:guide id=\"guide3585\" inkscape:locked=\"false\" orientation=\"-6.9375,0\" position=\"25.602534,190.27927\"/>\n",
       "  </sodipodi:namedview>\n",
       "  <script id=\"script3033\" xlink:href=\"\"/>\n",
       "  <defs id=\"defs4\">\n",
       "    <marker id=\"marker1320\" inkscape:isstock=\"true\" inkscape:stockid=\"Arrow1Mstart\" orient=\"auto\" refX=\"0.0\" refY=\"0.0\" style=\"overflow:visible\">\n",
       "      <path d=\"M 0.0,0.0 L 5.0,-5.0 L -12.5,0.0 L 5.0,5.0 L 0.0,0.0 z \" id=\"path1318\" style=\"fill-rule:evenodd;stroke:#808080;stroke-width:1pt;stroke-opacity:1;fill:#808080;fill-opacity:1\" transform=\"scale(0.4) translate(10,0)\"/>\n",
       "    </marker>\n",
       "    <marker id=\"Arrow1Mstart\" inkscape:collect=\"always\" inkscape:isstock=\"true\" inkscape:stockid=\"Arrow1Mstart\" orient=\"auto\" refX=\"0.0\" refY=\"0.0\" style=\"overflow:visible\">\n",
       "      <path d=\"M 0.0,0.0 L 5.0,-5.0 L -12.5,0.0 L 5.0,5.0 L 0.0,0.0 z \" id=\"path984\" style=\"fill-rule:evenodd;stroke:#808080;stroke-width:1pt;stroke-opacity:1;fill:#808080;fill-opacity:1\" transform=\"scale(0.4) translate(10,0)\"/>\n",
       "    </marker>\n",
       "    <!-- markers by NMH <nholtz@cee.carleton.ca> -->\n",
       "    <marker id=\"DimensionTick\" inkscape:stockid=\"DimensionTick\" orient=\"auto\" refX=\"0\" refY=\"0\" style=\"overflow:visible\">\n",
       "      <path d=\"M 0,0 8,8\" id=\"path6\" inkscape:connector-curvature=\"0\" style=\"stroke:#4d4d4d;stroke-width:1px;marker-start:none\" transform=\"translate(-4,-4)\"/>\n",
       "    </marker>\n",
       "    <marker id=\"TrussNodeS\" inkscape:stockid=\"TrussNodeS\" markerUnits=\"userSpaceOnUse\" orient=\"auto\" refX=\"0\" refY=\"0\" style=\"overflow:visible\">\n",
       "      <circle cx=\"0\" cy=\"0\" id=\"circle9\" r=\"3\" style=\"fill:#ffffff;stroke:#000000;stroke-width:1\"/>\n",
       "    </marker>\n",
       "    <marker id=\"TrussNodeM\" inkscape:stockid=\"TrussNodeM\" markerUnits=\"userSpaceOnUse\" orient=\"auto\" refX=\"0\" refY=\"0\" style=\"overflow:visible\">\n",
       "      <circle cx=\"0\" cy=\"0\" id=\"circle12\" r=\"4\" style=\"fill:#ffffff;stroke:#000000;stroke-width:1\"/>\n",
       "    </marker>\n",
       "    <!-- patternss by NMH <nholtz@cee.carleton.ca> -->\n",
       "    <pattern height=\"18\" id=\"black-stripes-on-red\" patternUnits=\"userSpaceOnUse\" width=\"18\" x=\"0\" y=\"0\">\n",
       "      <path d=\"M 0,0 18,0 18,18 0,18 z\" id=\"path3006\" inkscape:connector-curvature=\"0\" style=\"fill:#ff0000;stroke:none\"/>\n",
       "      <path d=\"M 0,9 9,0 11,0 0,11 z\" id=\"path3008\" inkscape:connector-curvature=\"0\" style=\"fill:#000000;stroke:none\"/>\n",
       "      <path d=\"m 9,18 9,-9 0,2 -7,7 z\" id=\"path5234\" inkscape:connector-curvature=\"0\" style=\"fill:#000000;stroke:none\"/>\n",
       "    </pattern>\n",
       "    <marker id=\"marker4587\" inkscape:isstock=\"true\" inkscape:stockid=\"Arrow2Mend\" orient=\"auto\" refX=\"0\" refY=\"0\" style=\"overflow:visible\">\n",
       "      <path d=\"M 8.7185878,4.0337352 -2.2072895,0.01601326 8.7185884,-4.0017078 c -1.7454984,2.3720609 -1.7354408,5.6174519 -6e-7,8.035443 z\" id=\"path4589\" inkscape:connector-curvature=\"0\" style=\"fill:#000000;fill-opacity:1;fill-rule:evenodd;stroke:#000000;stroke-width:0.625;stroke-linejoin:round;stroke-opacity:1\" transform=\"scale(-0.6,-0.6)\"/>\n",
       "    </marker>\n",
       "    <marker id=\"marker4587-3\" inkscape:isstock=\"true\" inkscape:stockid=\"Arrow2Mend\" orient=\"auto\" refX=\"0\" refY=\"0\" style=\"overflow:visible\">\n",
       "      <path d=\"M 8.7185878,4.0337352 -2.2072895,0.01601326 8.7185884,-4.0017078 c -1.7454984,2.3720609 -1.7354408,5.6174519 -6e-7,8.035443 z\" id=\"path4589-5\" inkscape:connector-curvature=\"0\" style=\"fill:#000000;fill-opacity:1;fill-rule:evenodd;stroke:#000000;stroke-width:0.625;stroke-linejoin:round;stroke-opacity:1\" transform=\"scale(-0.6,-0.6)\"/>\n",
       "    </marker>\n",
       "  </defs>\n",
       "  <metadata id=\"metadata7\">\n",
       "    <rdf:RDF>\n",
       "      <cc:Work rdf:about=\"\">\n",
       "        <dc:format>image/svg+xml</dc:format>\n",
       "        <dc:type rdf:resource=\"http://purl.org/dc/dcmitype/StillImage\"/>\n",
       "        <dc:title/>\n",
       "        <cc:license rdf:resource=\"http://creativecommons.org/licenses/by-nc/3.0/\"/>\n",
       "      </cc:Work>\n",
       "      <cc:License rdf:about=\"http://creativecommons.org/licenses/by-nc/3.0/\">\n",
       "        <cc:permits rdf:resource=\"http://creativecommons.org/ns#Reproduction\"/>\n",
       "        <cc:permits rdf:resource=\"http://creativecommons.org/ns#Distribution\"/>\n",
       "        <cc:requires rdf:resource=\"http://creativecommons.org/ns#Notice\"/>\n",
       "        <cc:requires rdf:resource=\"http://creativecommons.org/ns#Attribution\"/>\n",
       "        <cc:prohibits rdf:resource=\"http://creativecommons.org/ns#CommercialUse\"/>\n",
       "        <cc:permits rdf:resource=\"http://creativecommons.org/ns#DerivativeWorks\"/>\n",
       "      </cc:License>\n",
       "    </rdf:RDF>\n",
       "  </metadata>\n",
       "  <g id=\"layer1\" inkscape:groupmode=\"layer\" inkscape:label=\"Layer 1\" transform=\"translate(-95.002347,-1.200003)\">\n",
       "    <path d=\"m 345.60001,20.400003 0,65.333053\" id=\"path3410\" inkscape:connector-curvature=\"0\" sodipodi:nodetypes=\"cc\" style=\"fill:none;fill-opacity:1;stroke:#808080;stroke-width:0.80000001;stroke-linecap:butt;stroke-linejoin:round;stroke-miterlimit:4;stroke-dasharray:none;stroke-dashoffset:0;stroke-opacity:1\"/>\n",
       "    <path d=\"m 316.80001,20.400003 0,65.333053\" id=\"path3408\" inkscape:connector-curvature=\"0\" sodipodi:nodetypes=\"cc\" style=\"fill:none;fill-opacity:1;stroke:#808080;stroke-width:0.80000001;stroke-linecap:butt;stroke-linejoin:round;stroke-miterlimit:4;stroke-dasharray:none;stroke-dashoffset:0;stroke-opacity:1\"/>\n",
       "    <path d=\"m 288.00001,20.400003 0,65.333053\" id=\"path3406\" inkscape:connector-curvature=\"0\" sodipodi:nodetypes=\"cc\" style=\"fill:none;fill-opacity:1;stroke:#808080;stroke-width:0.80000001;stroke-linecap:butt;stroke-linejoin:round;stroke-miterlimit:4;stroke-dasharray:none;stroke-dashoffset:0;stroke-opacity:1\"/>\n",
       "    <path d=\"m 259.20001,20.400003 0,65.333053\" id=\"path3404\" inkscape:connector-curvature=\"0\" sodipodi:nodetypes=\"cc\" style=\"fill:none;fill-opacity:1;stroke:#808080;stroke-width:0.80000001;stroke-linecap:butt;stroke-linejoin:round;stroke-miterlimit:4;stroke-dasharray:none;stroke-dashoffset:0;stroke-opacity:1\"/>\n",
       "    <rect height=\"8.9768972\" id=\"rect3434\" style=\"fill:#000000;fill-opacity:1;stroke:none;stroke-width:0.80000001;stroke-linecap:butt;stroke-linejoin:round;stroke-miterlimit:4;stroke-dasharray:none;stroke-dashoffset:0;stroke-opacity:1\" width=\"9.7689772\" x=\"143.89439\" y=\"164.65347\"/>\n",
       "    <path d=\"m 259.20001,118.64035 0,84.15966\" id=\"path3396\" inkscape:connector-curvature=\"0\" sodipodi:nodetypes=\"cc\" style=\"fill:none;fill-opacity:1;stroke:#808080;stroke-width:0.80000001;stroke-linecap:butt;stroke-linejoin:round;stroke-miterlimit:4;stroke-dasharray:none;stroke-dashoffset:0;stroke-opacity:1\"/>\n",
       "    <path d=\"m 288.00001,118.64035 0,84.15966\" id=\"path3398\" inkscape:connector-curvature=\"0\" sodipodi:nodetypes=\"cc\" style=\"fill:none;fill-opacity:1;stroke:#808080;stroke-width:0.80000001;stroke-linecap:butt;stroke-linejoin:round;stroke-miterlimit:4;stroke-dasharray:none;stroke-dashoffset:0;stroke-opacity:1\"/>\n",
       "    <path d=\"m 316.80001,118.64035 0,84.15966\" id=\"path3400\" inkscape:connector-curvature=\"0\" sodipodi:nodetypes=\"cc\" style=\"fill:none;fill-opacity:1;stroke:#808080;stroke-width:0.80000001;stroke-linecap:butt;stroke-linejoin:round;stroke-miterlimit:4;stroke-dasharray:none;stroke-dashoffset:0;stroke-opacity:1\"/>\n",
       "    <path d=\"m 345.60001,118.64035 0,84.15966\" id=\"path3402\" inkscape:connector-curvature=\"0\" sodipodi:nodetypes=\"cc\" style=\"fill:none;fill-opacity:1;stroke:#808080;stroke-width:0.80000001;stroke-linecap:butt;stroke-linejoin:round;stroke-miterlimit:4;stroke-dasharray:none;stroke-dashoffset:0;stroke-opacity:1\"/>\n",
       "    <path d=\"M 355.20001,145.20001 233.04027,144.64568\" id=\"path3416\" inkscape:connector-curvature=\"0\" sodipodi:nodetypes=\"cc\" style=\"fill:#000000;fill-opacity:1;stroke:#808080;stroke-width:0.75;stroke-linecap:butt;stroke-linejoin:round;stroke-miterlimit:4;stroke-dasharray:none;stroke-dashoffset:0;stroke-opacity:1\"/>\n",
       "    <path d=\"m 355.20001,169.2894 -122.15974,0\" id=\"path3418\" inkscape:connector-curvature=\"0\" sodipodi:nodetypes=\"cc\" style=\"fill:#000000;fill-opacity:1;stroke:#808080;stroke-width:0.75;stroke-linecap:butt;stroke-linejoin:round;stroke-miterlimit:4;stroke-dasharray:none;stroke-dashoffset:0;stroke-opacity:1\"/>\n",
       "    <g id=\"g3518\" inkscape:label=\"Dsg: L152x102x19\" transform=\"translate(144.09439,197.65153)\">\n",
       "      <path d=\"m 0,0 51,0 0,-7.4 A 2.15,2.15 0 0 0 48.85,-9.55 L 16,-9.55 A 6.45,6.45 0 0 1 9.55,-16 l 0,-53.55 A 2.15,2.15 0 0 0 7.4,-71.7 l -7.4,0 z\" id=\"path3520\" inkscape:connector-curvature=\"0\" style=\"fill:none;stroke:#000000;stroke-width:1;stroke-linecap:square;stroke-linejoin:miter;stroke-miterlimit:4;stroke-dasharray:none;stroke-dashoffset:0;stroke-opacity:1\"/>\n",
       "    </g>\n",
       "    <path d=\"m 432.00001,125.95154 -192,0.0485 0,71.65153 192,0\" id=\"path3563\" inkscape:connector-curvature=\"0\" style=\"fill:none;fill-opacity:1;stroke:#000000;stroke-width:1.06666672;stroke-linecap:butt;stroke-linejoin:round;stroke-miterlimit:4;stroke-dasharray:none;stroke-dashoffset:0;stroke-opacity:1\"/>\n",
       "    <path d=\"m 240.00001,188.10153 192,0\" id=\"path3565\" inkscape:connector-curvature=\"0\" style=\"fill:none;fill-opacity:1;stroke:#000000;stroke-width:1.06666672;stroke-linecap:butt;stroke-linejoin:round;stroke-miterlimit:4;stroke-dasharray:none;stroke-dashoffset:0;stroke-opacity:1\"/>\n",
       "    <path d=\"m 432.00001,125.95154 c -9.60001,9.64846 -5.34802,14.26337 -5.68024,20.24079 -0.23829,4.28744 5.62925,6.6123 4.62555,10.7979 4.48144,10.59343 -3.61954,15.14776 -2.6346,18.99295 0.98494,3.84519 3.34162,7.99723 3.19319,13.04948 0.36144,2.75372 -1.80925,5.43025 -0.87596,8.14587 0.29156,0.45546 0.88331,0.53155 1.37206,0.47298\" id=\"path3567\" inkscape:connector-curvature=\"0\" sodipodi:nodetypes=\"csczccc\" style=\"fill:none;fill-opacity:1;stroke:#000000;stroke-width:1.06666672;stroke-linecap:butt;stroke-linejoin:round;stroke-miterlimit:4;stroke-dasharray:none;stroke-dashoffset:0;stroke-opacity:1\"/>\n",
       "    <path d=\"m 432.00001,30.254373 -192,0 0,51 192,0\" id=\"path3589\" inkscape:connector-curvature=\"0\" style=\"fill:none;fill-opacity:1;stroke:#000000;stroke-width:1.06666672;stroke-linecap:butt;stroke-linejoin:round;stroke-miterlimit:4;stroke-dasharray:none;stroke-dashoffset:0;stroke-opacity:1\"/>\n",
       "    <path d=\"m 240.00001,39.804363 c 0,0 192,0 192,0\" id=\"path3591\" inkscape:connector-curvature=\"0\" style=\"fill:none;fill-opacity:1;stroke:#000000;stroke-width:1.06666672;stroke-linecap:butt;stroke-linejoin:round;stroke-miterlimit:4;stroke-dasharray:none;stroke-dashoffset:0;stroke-opacity:1\"/>\n",
       "    <path d=\"m 432.00001,30.254373 c -0.66911,3.652072 1.12624,7.21475 0.9812,10.888693 -0.27292,5.669215 -3.60549,11.888103 -3.92135,17.548556 0.44478,5.35302 3.70887,10.224117 3.53812,15.578642 -0.5065,2.482446 -1.21755,5.518281 -0.88732,7.749674 l 0.28935,-0.765565\" id=\"path3593\" inkscape:connector-curvature=\"0\" sodipodi:nodetypes=\"cccccc\" style=\"fill:none;fill-opacity:1;stroke:#000000;stroke-width:1.06666672;stroke-linecap:butt;stroke-linejoin:round;stroke-miterlimit:4;stroke-dasharray:none;stroke-dashoffset:0;stroke-opacity:1\"/>\n",
       "    <circle cx=\"258.75906\" cy=\"144.27229\" id=\"path3414\" r=\"4.1072869\" style=\"fill:#000000;fill-opacity:1;stroke:none;stroke-width:0.80000001;stroke-linecap:butt;stroke-linejoin:round;stroke-miterlimit:4;stroke-dasharray:none;stroke-dashoffset:0;stroke-opacity:1\"/>\n",
       "    <circle cx=\"258.75906\" cy=\"168.85909\" id=\"circle3420\" r=\"4.1072869\" style=\"fill:#000000;fill-opacity:1;stroke:none;stroke-width:0.80000001;stroke-linecap:butt;stroke-linejoin:round;stroke-miterlimit:4;stroke-dasharray:none;stroke-dashoffset:0;stroke-opacity:1\"/>\n",
       "    <circle cx=\"287.61252\" cy=\"144.27229\" id=\"circle3422\" r=\"4.1072869\" style=\"fill:#000000;fill-opacity:1;stroke:none;stroke-width:0.80000001;stroke-linecap:butt;stroke-linejoin:round;stroke-miterlimit:4;stroke-dasharray:none;stroke-dashoffset:0;stroke-opacity:1\"/>\n",
       "    <circle cx=\"287.61252\" cy=\"168.85909\" id=\"circle3424\" r=\"4.1072869\" style=\"fill:#000000;fill-opacity:1;stroke:none;stroke-width:0.80000001;stroke-linecap:butt;stroke-linejoin:round;stroke-miterlimit:4;stroke-dasharray:none;stroke-dashoffset:0;stroke-opacity:1\"/>\n",
       "    <circle cx=\"316.09259\" cy=\"144.27229\" id=\"circle3426\" r=\"4.1072869\" style=\"fill:#000000;fill-opacity:1;stroke:none;stroke-width:0.80000001;stroke-linecap:butt;stroke-linejoin:round;stroke-miterlimit:4;stroke-dasharray:none;stroke-dashoffset:0;stroke-opacity:1\"/>\n",
       "    <circle cx=\"316.09259\" cy=\"168.85909\" id=\"circle3428\" r=\"4.1072869\" style=\"fill:#000000;fill-opacity:1;stroke:none;stroke-width:0.80000001;stroke-linecap:butt;stroke-linejoin:round;stroke-miterlimit:4;stroke-dasharray:none;stroke-dashoffset:0;stroke-opacity:1\"/>\n",
       "    <circle cx=\"345.31943\" cy=\"144.27229\" id=\"circle3430\" r=\"4.1072869\" style=\"fill:#000000;fill-opacity:1;stroke:none;stroke-width:0.80000001;stroke-linecap:butt;stroke-linejoin:round;stroke-miterlimit:4;stroke-dasharray:none;stroke-dashoffset:0;stroke-opacity:1\"/>\n",
       "    <circle cx=\"345.31943\" cy=\"168.85909\" id=\"circle3432\" r=\"4.1072869\" style=\"fill:#000000;fill-opacity:1;stroke:none;stroke-width:0.80000001;stroke-linecap:butt;stroke-linejoin:round;stroke-miterlimit:4;stroke-dasharray:none;stroke-dashoffset:0;stroke-opacity:1\"/>\n",
       "    <rect height=\"8.9768972\" id=\"rect3436\" style=\"fill:#000000;fill-opacity:1;stroke:none;stroke-width:0.80000001;stroke-linecap:butt;stroke-linejoin:round;stroke-miterlimit:4;stroke-dasharray:none;stroke-dashoffset:0;stroke-opacity:1\" width=\"9.7689772\" x=\"143.89439\" y=\"139.84557\"/>\n",
       "    <rect height=\"8.9768972\" id=\"rect3438\" style=\"fill:#000000;fill-opacity:1;stroke:none;stroke-width:0.80000001;stroke-linecap:butt;stroke-linejoin:round;stroke-miterlimit:4;stroke-dasharray:none;stroke-dashoffset:0;stroke-opacity:1\" width=\"9.7689772\" x=\"254.25743\" y=\"30.538635\"/>\n",
       "    <rect height=\"8.9768972\" id=\"rect3440\" style=\"fill:#000000;fill-opacity:1;stroke:none;stroke-width:0.80000001;stroke-linecap:butt;stroke-linejoin:round;stroke-miterlimit:4;stroke-dasharray:none;stroke-dashoffset:0;stroke-opacity:1\" width=\"9.7689772\" x=\"283.06793\" y=\"30.538635\"/>\n",
       "    <rect height=\"8.9768972\" id=\"rect3442\" style=\"fill:#000000;fill-opacity:1;stroke:none;stroke-width:0.80000001;stroke-linecap:butt;stroke-linejoin:round;stroke-miterlimit:4;stroke-dasharray:none;stroke-dashoffset:0;stroke-opacity:1\" width=\"9.7689772\" x=\"311.59335\" y=\"30.538635\"/>\n",
       "    <rect height=\"8.9768972\" id=\"rect3444\" style=\"fill:#000000;fill-opacity:1;stroke:none;stroke-width:0.80000001;stroke-linecap:butt;stroke-linejoin:round;stroke-miterlimit:4;stroke-dasharray:none;stroke-dashoffset:0;stroke-opacity:1\" width=\"9.7689772\" x=\"340.38281\" y=\"30.538635\"/>\n",
       "    <path d=\"m 240.00001,87.600005 0,28.800005\" id=\"path3446\" inkscape:connector-curvature=\"0\" style=\"fill:#000000;fill-opacity:1;stroke:#4d4d4d;stroke-width:0.75;stroke-linecap:butt;stroke-linejoin:round;stroke-miterlimit:4;stroke-dasharray:none;stroke-dashoffset:0;stroke-opacity:1\"/>\n",
       "    <path d=\"m 259.20001,87.600005 0,28.800005\" id=\"path3448\" inkscape:connector-curvature=\"0\" style=\"fill:#000000;fill-opacity:1;stroke:#4d4d4d;stroke-width:0.75;stroke-linecap:butt;stroke-linejoin:round;stroke-miterlimit:4;stroke-dasharray:none;stroke-dashoffset:0;stroke-opacity:1\"/>\n",
       "    <path d=\"m 345.60001,87.600005 0,28.800005\" id=\"path3450\" inkscape:connector-curvature=\"0\" style=\"fill:#000000;fill-opacity:1;stroke:#4d4d4d;stroke-width:0.75;stroke-linecap:butt;stroke-linejoin:round;stroke-miterlimit:4;stroke-dasharray:none;stroke-dashoffset:0;stroke-opacity:1\"/>\n",
       "    <path d=\"m 240,104.424 19.2,0 86.4,0\" id=\"path3452\" inkscape:connector-curvature=\"0\" style=\"fill:#000000;fill-opacity:1;stroke:#4d4d4d;stroke-width:0.75;stroke-linecap:butt;stroke-linejoin:round;stroke-miterlimit:4;stroke-dasharray:none;stroke-dashoffset:0;stroke-opacity:1;marker-start:url(#DimensionTick);marker-mid:url(#DimensionTick);marker-end:url(#DimensionTick)\"/>\n",
       "    <text id=\"text3454\" style=\"font-style:normal;font-variant:normal;font-weight:normal;font-stretch:normal;line-height:0%;font-family:Verdana;-inkscape-font-specification:'Verdana, Normal';text-align:start;letter-spacing:0px;word-spacing:0px;writing-mode:lr-tb;text-anchor:start;fill:#000000;fill-opacity:1;stroke:none;stroke-width:1px;stroke-linecap:butt;stroke-linejoin:miter;stroke-opacity:1\" transform=\"translate(-1.5,-5.37626)\" x=\"249.60001\" xml:space=\"preserve\" y=\"106.8\"><tspan id=\"tspan3456\" sodipodi:role=\"line\" style=\"font-size:10px;line-height:1.25\" x=\"249.60001\" y=\"106.8\">e</tspan></text>\n",
       "    <text id=\"text3458\" style=\"font-style:normal;font-variant:normal;font-weight:normal;font-stretch:normal;line-height:0%;font-family:Verdana;-inkscape-font-specification:'Verdana, Normal';text-align:start;letter-spacing:0px;word-spacing:0px;writing-mode:lr-tb;text-anchor:start;fill:#000000;fill-opacity:1;stroke:none;stroke-width:1px;stroke-linecap:butt;stroke-linejoin:miter;stroke-opacity:1\" x=\"273.97931\" xml:space=\"preserve\" y=\"99.423744\"><tspan id=\"tspan3460\" sodipodi:role=\"line\" style=\"font-size:10px;line-height:1.25\" x=\"273.97931\" y=\"99.423744\">Nspa@s=L</tspan></text>\n",
       "    <path d=\"m 230.40001,145.20001 -19.2,0\" id=\"path3610\" inkscape:connector-curvature=\"0\" style=\"stroke-linejoin:round;stroke-opacity:1;fill-opacity:1;stroke-dashoffset:0;stroke:#404040;stroke-linecap:butt;stroke-miterlimit:4;stroke-dasharray:none;stroke-width:0.75;fill:#000000\"/>\n",
       "    <path d=\"m 230.40001,169.2894 -19.2,0\" id=\"path3612\" inkscape:connector-curvature=\"0\" style=\"fill:#000000;fill-opacity:1;stroke:#4d4d4d;stroke-width:0.75;stroke-linecap:butt;stroke-linejoin:round;stroke-miterlimit:4;stroke-dasharray:none;stroke-dashoffset:0;stroke-opacity:1\"/>\n",
       "    <path d=\"m 230.40001,197.65154 -19.2,0\" id=\"path3614\" inkscape:connector-curvature=\"0\" style=\"fill:#000000;fill-opacity:1;stroke:#4d4d4d;stroke-width:0.75;stroke-linecap:butt;stroke-linejoin:round;stroke-miterlimit:4;stroke-dasharray:none;stroke-dashoffset:0;stroke-opacity:1\"/>\n",
       "    <path d=\"m 220.8,197.652 0,-28.363 0,-24.089\" id=\"path3616\" inkscape:connector-curvature=\"0\" style=\"fill:#000000;fill-opacity:1;stroke:#4d4d4d;stroke-width:0.75;stroke-linecap:butt;stroke-linejoin:round;stroke-miterlimit:4;stroke-dasharray:none;stroke-dashoffset:0;stroke-opacity:1;marker-start:url(#DimensionTick);marker-mid:url(#DimensionTick);marker-end:url(#DimensionTick)\"/>\n",
       "    <path d=\"m 144.09439,202.80001 0.21107,19.2\" id=\"path3618\" inkscape:connector-curvature=\"0\" style=\"fill:#000000;fill-opacity:1;stroke:#4d4d4d;stroke-width:0.75;stroke-linecap:butt;stroke-linejoin:round;stroke-miterlimit:4;stroke-dasharray:none;stroke-dashoffset:0;stroke-opacity:1\"/>\n",
       "    <path d=\"m 195.0944,202.80001 0,19.2\" id=\"path3620\" inkscape:connector-curvature=\"0\" style=\"fill:#000000;fill-opacity:1;stroke:#4d4d4d;stroke-width:0.75;stroke-linecap:butt;stroke-linejoin:round;stroke-miterlimit:4;stroke-dasharray:none;stroke-dashoffset:0;stroke-opacity:1\"/>\n",
       "    <path d=\"m 144.2,212.4 50.894,0\" id=\"path3622\" inkscape:connector-curvature=\"0\" style=\"fill:#000000;fill-opacity:1;stroke:#4d4d4d;stroke-width:0.75;stroke-linecap:butt;stroke-linejoin:round;stroke-miterlimit:4;stroke-dasharray:none;stroke-dashoffset:0;stroke-opacity:1;marker-start:url(#DimensionTick);marker-mid:url(#DimensionTick);marker-end:url(#DimensionTick)\"/>\n",
       "    <path d=\"m 134.4,197.65154 -19.2,0\" id=\"path3624\" inkscape:connector-curvature=\"0\" style=\"fill:#000000;fill-opacity:1;stroke:#4d4d4d;stroke-width:0.75;stroke-linecap:butt;stroke-linejoin:round;stroke-miterlimit:4;stroke-dasharray:none;stroke-dashoffset:0;stroke-opacity:1\"/>\n",
       "    <path d=\"m 134.4,125.95154 -19.2,0\" id=\"path3626\" inkscape:connector-curvature=\"0\" style=\"fill:#000000;fill-opacity:1;stroke:#4d4d4d;stroke-width:0.75;stroke-linecap:butt;stroke-linejoin:round;stroke-miterlimit:4;stroke-dasharray:none;stroke-dashoffset:0;stroke-opacity:1\"/>\n",
       "    <path d=\"m 124.8,197.652 0,-71.7\" id=\"path3628\" inkscape:connector-curvature=\"0\" style=\"fill:#000000;fill-opacity:1;stroke:#4d4d4d;stroke-width:0.75;stroke-linecap:butt;stroke-linejoin:round;stroke-miterlimit:4;stroke-dasharray:none;stroke-dashoffset:0;stroke-opacity:1;marker-start:url(#DimensionTick);marker-mid:url(#DimensionTick);marker-end:url(#DimensionTick)\"/>\n",
       "    <path d=\"m 230.40001,81.221125 -19.2,0\" id=\"path3630\" inkscape:connector-curvature=\"0\" style=\"fill:#000000;fill-opacity:1;stroke:#4d4d4d;stroke-width:0.75;stroke-linecap:butt;stroke-linejoin:round;stroke-miterlimit:4;stroke-dasharray:none;stroke-dashoffset:0;stroke-opacity:1\"/>\n",
       "    <path d=\"m 230.40001,30.000003 -19.2,0\" id=\"path3632\" inkscape:connector-curvature=\"0\" style=\"fill:#000000;fill-opacity:1;stroke:#4d4d4d;stroke-width:0.75;stroke-linecap:butt;stroke-linejoin:round;stroke-miterlimit:4;stroke-dasharray:none;stroke-dashoffset:0;stroke-opacity:1\"/>\n",
       "    <path d=\"M 220.8,81.2211 220.8,30\" id=\"path3634\" inkscape:connector-curvature=\"0\" style=\"fill:#000000;fill-opacity:1;stroke:#4d4d4d;stroke-width:0.75;stroke-linecap:butt;stroke-linejoin:round;stroke-miterlimit:4;stroke-dasharray:none;stroke-dashoffset:0;stroke-opacity:1;marker-start:url(#DimensionTick);marker-mid:url(#DimensionTick);marker-end:url(#DimensionTick)\"/>\n",
       "    <text id=\"text3636\" style=\"font-style:normal;font-variant:normal;font-weight:normal;font-stretch:normal;line-height:0%;font-family:Verdana;-inkscape-font-specification:'Verdana, Normal';text-align:start;letter-spacing:0px;word-spacing:0px;writing-mode:lr-tb;text-anchor:start;fill:#000000;fill-opacity:1;stroke:none;stroke-width:1px;stroke-linecap:butt;stroke-linejoin:miter;stroke-opacity:1\" transform=\"rotate(-90,213.90529,54.90528)\" x=\"211.20001\" xml:space=\"preserve\" y=\"58.800003\"><tspan id=\"tspan3638\" sodipodi:role=\"line\" style=\"font-size:10px;line-height:1.25\" x=\"211.20001\" y=\"58.800003\">b</tspan></text>\n",
       "    <text id=\"text3640\" style=\"font-style:normal;font-variant:normal;font-weight:normal;font-stretch:normal;line-height:0%;font-family:Verdana;-inkscape-font-specification:'Verdana, Normal';text-align:start;letter-spacing:0px;word-spacing:0px;writing-mode:lr-tb;text-anchor:start;fill:#000000;fill-opacity:1;stroke:none;stroke-width:1px;stroke-linecap:butt;stroke-linejoin:miter;stroke-opacity:1\" transform=\"translate(4.447153,-3)\" x=\"163.20001\" xml:space=\"preserve\" y=\"212.40001\"><tspan id=\"tspan3642\" sodipodi:role=\"line\" style=\"font-size:10px;line-height:1.25\" x=\"163.20001\" y=\"212.40001\">b</tspan></text>\n",
       "    <text id=\"text3644\" style=\"font-style:normal;font-variant:normal;font-weight:normal;font-stretch:normal;line-height:0%;font-family:Verdana;-inkscape-font-specification:'Verdana, Normal';text-align:start;letter-spacing:0px;word-spacing:0px;writing-mode:lr-tb;text-anchor:start;fill:#000000;fill-opacity:1;stroke:none;stroke-width:1px;stroke-linecap:butt;stroke-linejoin:miter;stroke-opacity:1\" transform=\"rotate(-90,122.75077,155.75077)\" x=\"115.2\" xml:space=\"preserve\" y=\"154.8\"><tspan id=\"tspan3646\" sodipodi:role=\"line\" style=\"font-size:10px;line-height:1.25\" x=\"115.2\" y=\"154.8\">d</tspan></text>\n",
       "    <text id=\"text3648\" style=\"font-style:normal;font-variant:normal;font-weight:normal;font-stretch:normal;line-height:0%;font-family:Verdana;-inkscape-font-specification:'Verdana, Normal';text-align:start;letter-spacing:0px;word-spacing:0px;writing-mode:lr-tb;text-anchor:start;fill:#000000;fill-opacity:1;stroke:none;stroke-width:1px;stroke-linecap:butt;stroke-linejoin:miter;stroke-opacity:1\" transform=\"rotate(-90)\" x=\"-188.47047\" xml:space=\"preserve\" y=\"215.80002\"><tspan id=\"tspan3650\" sodipodi:role=\"line\" style=\"font-size:10px;line-height:1.25\" x=\"-188.47047\" y=\"215.80002\">g1</tspan></text>\n",
       "    <text id=\"text3652\" style=\"font-style:normal;font-variant:normal;font-weight:normal;font-stretch:normal;line-height:0%;font-family:Verdana;-inkscape-font-specification:'Verdana, Normal';text-align:start;letter-spacing:0px;word-spacing:0px;writing-mode:lr-tb;text-anchor:start;fill:#000000;fill-opacity:1;stroke:none;stroke-width:1px;stroke-linecap:butt;stroke-linejoin:miter;stroke-opacity:1\" transform=\"rotate(-90,217.47236,156.47235)\" x=\"211.20001\" xml:space=\"preserve\" y=\"154.8\"><tspan id=\"tspan3654\" sodipodi:role=\"line\" style=\"font-size:10px;line-height:1.25\" x=\"211.20001\" y=\"154.8\">g2</tspan></text>\n",
       "    <text id=\"text3449\" style=\"font-style:normal;font-variant:normal;font-weight:normal;font-stretch:normal;line-height:0%;font-family:Verdana;-inkscape-font-specification:'Verdana, Normal';text-align:start;letter-spacing:0px;word-spacing:0px;writing-mode:lr-tb;text-anchor:start;fill:#000000;fill-opacity:1;stroke:none;stroke-width:1px;stroke-linecap:butt;stroke-linejoin:miter;stroke-opacity:1\" x=\"490.87869\" xml:space=\"preserve\" y=\"66.968803\"><tspan id=\"tspan3451\" sodipodi:role=\"line\" style=\"font-size:16.00000191px;line-height:1.25\" x=\"490.87869\" y=\"66.968803\">T<tspan id=\"tspan3453\" style=\"font-size:16.00000191px;baseline-shift:sub\">r</tspan></tspan></text>\n",
       "    <path d=\"m 442.56345,49.261343 47.99999,0\" id=\"path3455\" inkscape:connector-curvature=\"0\" style=\"fill:none;fill-opacity:1;stroke:#000000;stroke-width:2.11200023;stroke-linecap:butt;stroke-linejoin:round;stroke-miterlimit:4;stroke-dasharray:none;stroke-dashoffset:0;stroke-opacity:1;marker-end:url(#marker4587)\"/>\n",
       "    <text id=\"text5735\" style=\"font-style:normal;font-variant:normal;font-weight:normal;font-stretch:normal;line-height:0%;font-family:Verdana;-inkscape-font-specification:'Verdana, Normal';text-align:start;letter-spacing:0px;word-spacing:0px;writing-mode:lr-tb;text-anchor:start;fill:#000000;fill-opacity:1;stroke:none;stroke-width:1px;stroke-linecap:butt;stroke-linejoin:miter;stroke-opacity:1\" x=\"491.93478\" xml:space=\"preserve\" y=\"186.83679\"><tspan id=\"tspan5737\" sodipodi:role=\"line\" style=\"font-size:16.00000191px;line-height:1.25\" x=\"491.93478\" y=\"186.83679\">T<tspan id=\"tspan5739\" style=\"font-size:16.00000191px;baseline-shift:sub\">r</tspan></tspan></text>\n",
       "    <path d=\"m 443.61956,169.12933 47.99999,0\" id=\"path5741\" inkscape:connector-curvature=\"0\" style=\"fill:none;fill-opacity:1;stroke:#000000;stroke-width:2.11200023;stroke-linecap:butt;stroke-linejoin:round;stroke-miterlimit:4;stroke-dasharray:none;stroke-dashoffset:0;stroke-opacity:1;marker-end:url(#marker4587)\"/>\n",
       "    <text id=\"text114\" style=\"font-style:normal;font-weight:normal;font-size:10.66666698px;line-height:25px;font-family:sans-serif;letter-spacing:0px;word-spacing:0px;fill:#000000;fill-opacity:1;stroke:none;stroke-width:1px;stroke-linecap:butt;stroke-linejoin:miter;stroke-opacity:1\" x=\"364.80002\" xml:space=\"preserve\" y=\"100.19002\"><tspan id=\"tspan112\" sodipodi:role=\"line\" x=\"364.80002\" y=\"100.19002\">Nspa = Nlines-1</tspan></text>\n",
       "    <text id=\"text118\" style=\"font-style:normal;font-weight:normal;font-size:10.66666698px;line-height:25px;font-family:sans-serif;letter-spacing:0px;word-spacing:0px;fill:#000000;fill-opacity:1;stroke:none;stroke-width:1px;stroke-linecap:butt;stroke-linejoin:miter;stroke-opacity:1\" x=\"355.20001\" xml:space=\"preserve\" y=\"212.3999\"><tspan id=\"tspan116\" sodipodi:role=\"line\" x=\"355.20001\" y=\"212.3999\">row</tspan></text>\n",
       "    <text id=\"text122\" style=\"font-style:normal;font-weight:normal;font-size:10.66666698px;line-height:25px;font-family:sans-serif;letter-spacing:0px;word-spacing:0px;fill:#000000;fill-opacity:1;stroke:none;stroke-width:1px;stroke-linecap:butt;stroke-linejoin:miter;stroke-opacity:1\" x=\"316.79999\" xml:space=\"preserve\" y=\"221.99991\"><tspan id=\"tspan120\" sodipodi:role=\"line\" x=\"316.79999\" y=\"221.99991\">line</tspan></text>\n",
       "    <path d=\"m 332.16316,169.79334 c 2.96159,14.26303 4.06766,36.87582 22.40315,39.38019\" id=\"path124\" inkscape:connector-curvature=\"0\" style=\"color:#000000;clip-rule:nonzero;display:inline;overflow:visible;visibility:visible;opacity:1;isolation:auto;mix-blend-mode:normal;color-interpolation:sRGB;color-interpolation-filters:linearRGB;solid-color:#000000;solid-opacity:1;fill:none;fill-opacity:1;fill-rule:evenodd;stroke:#808080;stroke-width:0.5;stroke-linecap:butt;stroke-linejoin:miter;stroke-miterlimit:4;stroke-dasharray:none;stroke-dashoffset:0;stroke-opacity:1;color-rendering:auto;image-rendering:auto;shape-rendering:auto;text-rendering:auto;enable-background:accumulate;marker-start:url(#Arrow1Mstart)\"/>\n",
       "    <path d=\"m 289.28169,181.34508 c 4.75222,-0.0495 10.26328,1.56946 12.50126,5.99271 0.92419,1.8627 1.36733,3.9158 1.92034,5.90927 1.27137,5.52866 -0.52634,11.28603 0.29362,16.82913 0.89727,6.06574 6.48554,8.67759 11.36336,7.8494\" id=\"path1290\" inkscape:connector-curvature=\"0\" sodipodi:nodetypes=\"cccsc\" style=\"color:#000000;clip-rule:nonzero;display:inline;overflow:visible;visibility:visible;opacity:1;isolation:auto;mix-blend-mode:normal;color-interpolation:sRGB;color-interpolation-filters:linearRGB;solid-color:#000000;solid-opacity:1;fill:none;fill-opacity:1;fill-rule:evenodd;stroke:#808080;stroke-width:0.5;stroke-linecap:butt;stroke-linejoin:miter;stroke-miterlimit:4;stroke-dasharray:none;stroke-dashoffset:0;stroke-opacity:1;marker-start:url(#marker1320);color-rendering:auto;image-rendering:auto;shape-rendering:auto;text-rendering:auto;enable-background:accumulate\"/>\n",
       "    <path d=\"m 230.40001,125.99991 -19.2,-0.0484\" id=\"path125\" inkscape:connector-curvature=\"0\" style=\"stroke-linejoin:miter;text-rendering:auto;color-rendering:auto;fill-opacity:1;color:#000000;shape-rendering:auto;solid-color:#000000;stroke:#404040;stroke-linecap:butt;stroke-width:0.75;color-interpolation-filters:linearRGB;fill:none;solid-opacity:1;fill-rule:evenodd;mix-blend-mode:normal;stroke-miterlimit:4;opacity:1;visibility:visible;clip-rule:nonzero;image-rendering:auto;overflow:visible;stroke-opacity:1;isolation:auto;stroke-dashoffset:0;stroke-dasharray:none;enable-background:accumulate;display:inline;color-interpolation:sRGB\"/>\n",
       "    <path d=\"M 220.8,145.2 220.8,125.976\" id=\"path127\" inkscape:connector-curvature=\"0\" style=\"stroke-linejoin:miter;text-rendering:auto;color-rendering:auto;fill-opacity:1;color:#000000;marker-start:url(#DimensionTick);shape-rendering:auto;solid-color:#000000;stroke:#404040;stroke-linecap:butt;stroke-width:0.75;color-interpolation-filters:linearRGB;fill:none;solid-opacity:1;fill-rule:evenodd;mix-blend-mode:normal;stroke-miterlimit:4;marker-mid:url(#DimensionTick);opacity:1;visibility:visible;clip-rule:nonzero;image-rendering:auto;overflow:visible;marker-end:url(#DimensionTick);stroke-opacity:1;isolation:auto;stroke-dashoffset:0;stroke-dasharray:none;enable-background:accumulate;display:inline;color-interpolation:sRGB\"/>\n",
       "    <text id=\"text131\" style=\"font-style:normal;font-weight:normal;font-size:10px;line-height:25px;font-family:Verdana;letter-spacing:0px;word-spacing:0px;fill:#000000;fill-opacity:1;stroke:none;stroke-width:1px;stroke-linecap:butt;stroke-linejoin:miter;stroke-opacity:1\" transform=\"rotate(-90,215.99398,135.79388)\" x=\"211.20001\" xml:space=\"preserve\" y=\"135.59991\"><tspan id=\"tspan129\" sodipodi:role=\"line\" x=\"211.20001\" y=\"135.59991\">g3</tspan></text>\n",
       "  </g>\n",
       "</svg>"
      ],
      "text/plain": [
       "<IPython.core.display.SVG object>"
      ]
     },
     "metadata": {},
     "output_type": "display_data"
    }
   ],
   "source": [
    "%figure bolted-single-angle.svg"
   ]
  },
  {
   "cell_type": "markdown",
   "metadata": {},
   "source": [
    "_Note:_ The figure shows 2 rows of 4 bolts through one leg.  The logic below works for\n",
    "1 or 2 rows and almost any number of bolts per row.  It also works for 1 or 2 angles, back-to-back."
   ]
  },
  {
   "cell_type": "markdown",
   "metadata": {},
   "source": [
    "### Import and Setup Library Modules"
   ]
  },
  {
   "cell_type": "code",
   "execution_count": 3,
   "metadata": {},
   "outputs": [],
   "source": [
    "import pint                  # setup to use the module for computing with units\n",
    "ureg = pint.UnitRegistry()\n",
    "mm = ureg['mm']\n",
    "inch = ureg['inch']\n",
    "kN = ureg['kN']\n",
    "MPa = ureg['MPa']\n",
    "ureg.default_format = '~P'"
   ]
  },
  {
   "cell_type": "code",
   "execution_count": 4,
   "metadata": {
    "collapsed": false,
    "jupyter": {
     "outputs_hidden": false
    }
   },
   "outputs": [],
   "source": [
    "notes = DesignNotes('Tr',units=kN,title='Angle bolted through single leg')\n",
    "\n",
    "REQUIRE = notes.require   # useful abbreviations\n",
    "CHECK = notes.check       \n",
    "DATA = notes.DATA\n",
    "GV = notes.GV"
   ]
  },
  {
   "cell_type": "markdown",
   "metadata": {},
   "source": [
    "### Define the Design Parameters"
   ]
  },
  {
   "cell_type": "code",
   "execution_count": 5,
   "metadata": {},
   "outputs": [],
   "source": [
    "@makePart\n",
    "class Bolts:\n",
    "    'Bolts'\n",
    "    grade = 'ASTM A325'\n",
    "    size = '3/4\"'\n",
    "    d = (3/4*inch).to(mm)\n",
    "    Fu = 825*MPa\n",
    "    Ab = 3.14159*d**2/4"
   ]
  },
  {
   "cell_type": "code",
   "execution_count": 6,
   "metadata": {},
   "outputs": [],
   "source": [
    "Dsg = 'L178x102x13'\n",
    "Ag,d,b,t = SST.section(Dsg,'A,D,B,T')\n",
    "@makePart\n",
    "class Angle:\n",
    "    'Angle'\n",
    "    grade = \"CSA G40.21 350W\",\n",
    "    Fy = 350*MPa\n",
    "    Fu = 450*MPa\n",
    "    dsg = Dsg              # copy dimensions from SST\n",
    "    Ag = Ag*mm*mm\n",
    "    d = d*mm               # normally the long leg\n",
    "    b = b*mm               # normally the short leg\n",
    "    t = t*mm               # always the thickness :-)\n",
    "    bolted_leg = 'long'    # 'long' (usually) or 'short'\n",
    "    n = 1                  # number of angles (may be 1 or 2)\n",
    "    threads_intercepted = True\n",
    "    hole_type = 'punched'  # 'punched' or 'drilled'\n",
    "    Nrows = 2              # a row is parallel to the load\n",
    "    Nlines = 4             # a line is perpendicular to the load\n",
    "    pitch = 75*mm          # spacing measured parallel to load (along length of angle)\n",
    "    end_distance = 35*mm   # from end of angle to center of closest hole\n",
    "    # for one row of bolts:\n",
    "    g = 100*mm\n",
    "    # for two rows of bolts:\n",
    "    g1 = 65*mm             # gauge to first row of bolts, CISC HB-11 p. 6-173\n",
    "    g2 = 80*mm             # gauge to second row of bolts, or 0 if only 1 row\n",
    "\n",
    "    # ha = hole allowance by CSA S16-14 12.3.2:\n",
    "    ha = 22*mm + (0*mm if hole_type == 'drilled' else 2*mm)\n",
    "\n",
    "    if bolted_leg == 'short':\n",
    "        d,b = b,d           # d will always be dimension of bolted leg\n",
    "\n",
    "    if Nrows == 1:                   # below we will use only g1, g2, g3\n",
    "        g1 = g\n",
    "        g2 = 0*mm\n",
    "    elif Nrows == 2:\n",
    "        g = 0*mm"
   ]
  },
  {
   "cell_type": "markdown",
   "metadata": {},
   "source": [
    "### Sanity check of input data:\n",
    "\n",
    "If any of these requirements are not met, execution will stop with an error message."
   ]
  },
  {
   "cell_type": "code",
   "execution_count": 7,
   "metadata": {
    "collapsed": false,
    "jupyter": {
     "outputs_hidden": false
    }
   },
   "outputs": [],
   "source": [
    "REQUIRE(Angle.hole_type in ['punched','drilled'], \n",
    "    \"Value of 'Angle.hole_type' must be punched or drilled\")\n",
    "REQUIRE(Angle.threads_intercepted in [False,True],\n",
    "    \"Value of 'Angle.threads_intercepted' must be True or False\")\n",
    "REQUIRE(Angle.n in [1,2], \n",
    "    'Number of angles, Angle.n, must be 1 or 2')\n",
    "REQUIRE(Angle.bolted_leg in ['short','long'],\n",
    "    \"Value of 'Angle.bolted_leg' must be short or long\")\n",
    "REQUIRE(Angle.Nrows in [1,2],\n",
    "    \"Angle.Nrows must be 1 or 2\")\n",
    "REQUIRE(Angle.Nlines >= 2 and Angle.Nlines <= 10,\n",
    "    \"Angle.Nlines must be in range of 2 to 10\")"
   ]
  },
  {
   "cell_type": "markdown",
   "metadata": {},
   "source": [
    "### Check Bolting Details\n",
    "Failure to meet criteria is not a fatal error. Results are reported in the work record."
   ]
  },
  {
   "cell_type": "code",
   "execution_count": 8,
   "metadata": {
    "collapsed": false,
    "jupyter": {
     "outputs_hidden": false
    }
   },
   "outputs": [
    {
     "name": "stdout",
     "output_type": "stream",
     "text": [
      "    Pitch greater than minimum?  OK \n",
      "      (pitch=75mm, minimum_pitch=51.43mm)\n",
      "    Gauge g2 greater than minimum pitch?  OK \n",
      "      (g2=80mm, minimum_pitch=51.43mm)\n",
      "    Edge distance greater than minimum?  OK \n",
      "      (edge_distance=33.0mm, min_edge_distance=25mm)\n",
      "    Edge distance less than maximum?  OK \n",
      "      (edge_distance=33.0mm, max_edge_distance=150mm)\n",
      "    End distance greater than minimum?  OK \n",
      "      (end_distance=35mm, min_end_distance=25mm)\n",
      "Ag            = 3390  mm²\n",
      "d             = 178   mm\n",
      "b             = 102   mm\n",
      "t             = 12.7  mm\n",
      "pitch         = 75    mm\n",
      "g1            = 65    mm\n",
      "g2            = 80    mm\n",
      "end_distance  = 35    mm\n",
      "Nrows         = 2     \n",
      "Nlines        = 4     \n",
      "bolt_diameter = 19.05 mm\n",
      "g3            = 33    mm\n"
     ]
    }
   ],
   "source": [
    "# data derived from input data:  pitch, end_distance, gauges, etc.\n",
    "with DATA('','',\n",
    "          GV('Ag,d,b,t,pitch,g1,g2,end_distance,Nrows,Nlines',Angle),\n",
    "          GV('bolt_diameter=d',Bolts),\n",
    "          GV('g3')):\n",
    "    minimum_pitch = 2.7*bolt_diameter         # CSA S16-14 22.3.1\n",
    "    min_edge_distance = 25*mm                 # CSA S16-14 22.3.2, Table 6, 3/4\", rolled edge\n",
    "    min_end_distance = min_edge_distance      # CSA S16-14 22.3.3                    \n",
    "    if Nlines <= 2:\n",
    "        min_end_distance = 1.5*bolt_diameter  # CSA S16-01 22.3.4\n",
    "    max_edge_distance = min(150*mm,12*t)\n",
    "\n",
    "    g3 = edge_distance = d-(g1+g2)\n",
    "    Angle.g3 = g3\n",
    "    Angle.edge_distance = g3\n",
    "    \n",
    "    REQUIRE(edge_distance > bolt_diameter/2.,\n",
    "        'Angle leg of {0} does not allow {1} lines of bolts.'.format(d,Nrows))\n",
    "    CHECK(pitch >= minimum_pitch,\n",
    "        'Pitch greater than minimum','pitch,minimum_pitch')\n",
    "    if Nrows > 1:\n",
    "        CHECK(g2 >= minimum_pitch,\n",
    "            'Gauge g2 greater than minimum pitch','g2,minimum_pitch')\n",
    "    CHECK(edge_distance >= min_edge_distance,\n",
    "        'Edge distance greater than minimum','edge_distance,min_edge_distance')\n",
    "    CHECK(edge_distance <= max_edge_distance,\n",
    "        'Edge distance less than maximum','edge_distance,max_edge_distance')\n",
    "    CHECK(end_distance >= min_end_distance,\n",
    "        'End distance greater than minimum','end_distance,min_end_distance')"
   ]
  },
  {
   "cell_type": "markdown",
   "metadata": {},
   "source": [
    "## Strength Calculations"
   ]
  },
  {
   "cell_type": "code",
   "execution_count": 9,
   "metadata": {
    "collapsed": false,
    "jupyter": {
     "outputs_hidden": false
    }
   },
   "outputs": [],
   "source": [
    "# CSA S16-14  13.1\n",
    "phi = 0.90\n",
    "phiu = 0.75\n",
    "phib = 0.80 \n",
    "phibr = 0.80"
   ]
  },
  {
   "cell_type": "markdown",
   "metadata": {},
   "source": [
    "### Gross section yield:"
   ]
  },
  {
   "cell_type": "code",
   "execution_count": 10,
   "metadata": {
    "collapsed": false,
    "jupyter": {
     "outputs_hidden": false
    }
   },
   "outputs": [
    {
     "name": "stdout",
     "output_type": "stream",
     "text": [
      "Ag    = 3390      mm²\n",
      "Fy    = 350       MPa\n",
      "n     = 1         \n",
      "Tr    = 1.068e+06 MPa·mm²\n"
     ]
    },
    {
     "data": {
      "text/plain": [
       "\n",
       "    Gross area yield: Tr = 1068 kN"
      ]
     },
     "metadata": {},
     "output_type": "display_data"
    }
   ],
   "source": [
    "# CSA S16-14   13.2 (a) (i):\n",
    "with DATA('Tr', 'Gross area yield',\n",
    "          GV('Ag,Fy,n',Angle)):\n",
    "    Tr = phi*Ag*Fy*n"
   ]
  },
  {
   "cell_type": "markdown",
   "metadata": {},
   "source": [
    "### Net section fracture:\n",
    "There is only one possible failure path - through the rightmost bolt hole(s)."
   ]
  },
  {
   "cell_type": "code",
   "execution_count": 11,
   "metadata": {
    "collapsed": false,
    "jupyter": {
     "outputs_hidden": false
    }
   },
   "outputs": [
    {
     "name": "stdout",
     "output_type": "stream",
     "text": [
      "Nrows  = 2      \n",
      "Nlines = 4      \n",
      "ha     = 24     mm\n",
      "Ag     = 3390   mm²\n",
      "t      = 12.7   mm\n",
      "Fu     = 450    MPa\n",
      "n      = 1      \n",
      "An     = 2780   mm²\n",
      "Ane    = 2224   mm²\n",
      "Tr     = 750700 MPa·mm²\n"
     ]
    },
    {
     "data": {
      "text/plain": [
       "\n",
       "    Net area fracture: Tr = 750.7 kN"
      ]
     },
     "metadata": {},
     "output_type": "display_data"
    }
   ],
   "source": [
    "# CSA S16-14   13.2 (a) (iii):\n",
    "with DATA('Tr', 'Net area fracture',\n",
    "          GV('Nrows,Nlines,ha,Ag,t,Fu,n',Angle),GV('An,Ane')):\n",
    "\n",
    "    An = Ag - Nrows*ha*t                # CSA S16-14 12.3.1 a)\n",
    "    if Nlines >= 4:                     # CSA S16-14 12.3.3.2 (b)\n",
    "        Ane = 0.80*An\n",
    "    else:\n",
    "        Ane = 0.60*An\n",
    "    Tr = phiu*Ane*Fu*n"
   ]
  },
  {
   "cell_type": "markdown",
   "metadata": {},
   "source": [
    "### Block shear failure:"
   ]
  },
  {
   "cell_type": "code",
   "execution_count": 12,
   "metadata": {},
   "outputs": [
    {
     "data": {
      "image/svg+xml": [
       "<svg height=\"3.5058563in\" id=\"svg2\" inkscape:version=\"0.92.4 (unknown)\" sodipodi:docname=\"bolted-single-angle-shear-blocks.svg\" version=\"1.1\" viewBox=\"0 0 411.80956 336.5622\" width=\"4.2896829in\" xmlns=\"http://www.w3.org/2000/svg\" xmlns:cc=\"http://creativecommons.org/ns#\" xmlns:dc=\"http://purl.org/dc/elements/1.1/\" xmlns:inkscape=\"http://www.inkscape.org/namespaces/inkscape\" xmlns:rdf=\"http://www.w3.org/1999/02/22-rdf-syntax-ns#\" xmlns:sodipodi=\"http://sodipodi.sourceforge.net/DTD/sodipodi-0.dtd\" xmlns:svg=\"http://www.w3.org/2000/svg\" xmlns:xlink=\"http://www.w3.org/1999/xlink\">\n",
       "  <sodipodi:namedview bordercolor=\"#666666\" borderopacity=\"1.0\" fit-margin-bottom=\"0.2\" fit-margin-left=\"0.2\" fit-margin-right=\"0.2\" fit-margin-top=\"0.2\" id=\"base\" inkscape:current-layer=\"layer1\" inkscape:cx=\"262.23984\" inkscape:cy=\"178.75466\" inkscape:document-units=\"in\" inkscape:guide-bbox=\"true\" inkscape:pageopacity=\"0.0\" inkscape:pageshadow=\"2\" inkscape:snap-global=\"true\" inkscape:window-height=\"979\" inkscape:window-maximized=\"0\" inkscape:window-width=\"1179\" inkscape:window-x=\"624\" inkscape:window-y=\"91\" inkscape:zoom=\"2.2548594\" pagecolor=\"#ffffff\" showgrid=\"true\" showguides=\"true\" units=\"in\">\n",
       "    <inkscape:grid empspacing=\"5\" enabled=\"true\" id=\"grid2985\" originx=\"-114.3798\" originy=\"-653.88285\" snapvisiblegridlinesonly=\"true\" spacingx=\"9.6000002\" spacingy=\"9.6\" type=\"xygrid\" units=\"in\" visible=\"true\"/>\n",
       "    <sodipodi:guide id=\"guide3042\" inkscape:locked=\"false\" orientation=\"0,765\" position=\"-114.37981,-653.88285\"/>\n",
       "    <sodipodi:guide id=\"guide3044\" inkscape:locked=\"false\" orientation=\"-990,0\" position=\"701.62022,526.91714\"/>\n",
       "    <sodipodi:guide id=\"guide3046\" inkscape:locked=\"false\" orientation=\"0,-765\" position=\"-104.77981,402.11713\"/>\n",
       "    <sodipodi:guide id=\"guide3048\" inkscape:locked=\"false\" orientation=\"990,0\" position=\"-114.37981,336.11713\"/>\n",
       "    <sodipodi:guide id=\"guide3050\" inkscape:locked=\"false\" orientation=\"0,765\" position=\"605.62023,-608.88283\"/>\n",
       "    <sodipodi:guide id=\"guide3052\" inkscape:locked=\"false\" orientation=\"-990,0\" position=\"653.62021,507.71714\"/>\n",
       "    <sodipodi:guide id=\"guide3054\" inkscape:locked=\"false\" orientation=\"0,-765\" position=\"106.66691,347.54833\"/>\n",
       "    <sodipodi:guide id=\"guide3056\" inkscape:locked=\"false\" orientation=\"990,0\" position=\"-66.379807,459.71714\"/>\n",
       "    <sodipodi:guide id=\"guide3551\" inkscape:locked=\"false\" orientation=\"0,47.8125\" position=\"29.714587,138.46562\"/>\n",
       "    <sodipodi:guide id=\"guide3553\" inkscape:locked=\"false\" orientation=\"-6.9375,0\" position=\"80.714593,138.46562\"/>\n",
       "    <sodipodi:guide id=\"guide3555\" inkscape:locked=\"false\" orientation=\"0,-30.796875\" position=\"78.56459,148.01562\"/>\n",
       "    <sodipodi:guide id=\"guide3557\" inkscape:locked=\"false\" orientation=\"-50.203125,0\" position=\"39.264588,154.46562\"/>\n",
       "    <sodipodi:guide id=\"guide3559\" inkscape:locked=\"false\" orientation=\"0,-6.9375\" position=\"37.114589,210.16561\"/>\n",
       "    <sodipodi:guide id=\"guide3561\" inkscape:locked=\"false\" orientation=\"67.21875,0\" position=\"29.714587,210.16561\"/>\n",
       "    <sodipodi:guide id=\"guide3577\" inkscape:locked=\"false\" orientation=\"47.8125,0\" position=\"29.925647,305.86277\"/>\n",
       "    <sodipodi:guide id=\"guide3579\" inkscape:locked=\"false\" orientation=\"0,6.9375\" position=\"86.280273,254.89602\"/>\n",
       "    <sodipodi:guide id=\"guide3583\" inkscape:locked=\"false\" orientation=\"0,50.203125\" position=\"43.190659,166.82775\"/>\n",
       "    <sodipodi:guide id=\"guide3585\" inkscape:locked=\"false\" orientation=\"-6.9375,0\" position=\"6.2250736,285.19228\"/>\n",
       "  </sodipodi:namedview>\n",
       "  <script id=\"script3033\" xlink:href=\"\"/>\n",
       "  <defs id=\"defs4\">\n",
       "    <marker id=\"marker4587\" inkscape:isstock=\"true\" inkscape:stockid=\"Arrow2Mend\" orient=\"auto\" refX=\"0\" refY=\"0\" style=\"overflow:visible\">\n",
       "      <path d=\"M 8.7185878,4.0337352 -2.2072895,0.01601326 8.7185884,-4.0017078 c -1.7454984,2.3720609 -1.7354408,5.6174519 -6e-7,8.035443 z\" id=\"path4589\" inkscape:connector-curvature=\"0\" style=\"fill:#000000;fill-opacity:1;fill-rule:evenodd;stroke:#000000;stroke-width:0.625;stroke-linejoin:round;stroke-opacity:1\" transform=\"scale(-0.6)\"/>\n",
       "    </marker>\n",
       "    <marker id=\"Arrow2Mend\" inkscape:collect=\"always\" inkscape:isstock=\"true\" inkscape:stockid=\"Arrow2Mend\" orient=\"auto\" refX=\"0\" refY=\"0\" style=\"overflow:visible\">\n",
       "      <path d=\"M 8.7185878,4.0337352 -2.2072895,0.01601326 8.7185884,-4.0017078 c -1.7454984,2.3720609 -1.7354408,5.6174519 -6e-7,8.035443 z\" id=\"path4306\" inkscape:connector-curvature=\"0\" style=\"fill:#000000;fill-opacity:1;fill-rule:evenodd;stroke:#000000;stroke-width:0.625;stroke-linejoin:round;stroke-opacity:1\" transform=\"scale(-0.6)\"/>\n",
       "    </marker>\n",
       "    <!-- markers by NMH <nholtz@cee.carleton.ca> -->\n",
       "    <marker id=\"DimensionTick\" inkscape:stockid=\"DimensionTick\" orient=\"auto\" refX=\"0\" refY=\"0\" style=\"overflow:visible\">\n",
       "      <path d=\"M 0,0 8,8\" id=\"path6\" inkscape:connector-curvature=\"0\" style=\"stroke:#4d4d4d;stroke-width:1px;marker-start:none\" transform=\"translate(-4,-4)\"/>\n",
       "    </marker>\n",
       "    <marker id=\"TrussNodeS\" inkscape:stockid=\"TrussNodeS\" markerUnits=\"userSpaceOnUse\" orient=\"auto\" refX=\"0\" refY=\"0\" style=\"overflow:visible\">\n",
       "      <circle cx=\"0\" cy=\"0\" id=\"circle9\" r=\"3\" style=\"fill:#ffffff;stroke:#000000;stroke-width:1\"/>\n",
       "    </marker>\n",
       "    <marker id=\"TrussNodeM\" inkscape:stockid=\"TrussNodeM\" markerUnits=\"userSpaceOnUse\" orient=\"auto\" refX=\"0\" refY=\"0\" style=\"overflow:visible\">\n",
       "      <circle cx=\"0\" cy=\"0\" id=\"circle12\" r=\"4\" style=\"fill:#ffffff;stroke:#000000;stroke-width:1\"/>\n",
       "    </marker>\n",
       "    <!-- patternss by NMH <nholtz@cee.carleton.ca> -->\n",
       "    <pattern height=\"18\" id=\"black-stripes-on-red\" patternUnits=\"userSpaceOnUse\" width=\"18\" x=\"0\" y=\"0\">\n",
       "      <path d=\"M 0,0 18,0 18,18 0,18 z\" id=\"path3006\" inkscape:connector-curvature=\"0\" style=\"fill:#ff0000;stroke:none\"/>\n",
       "      <path d=\"M 0,9 9,0 11,0 0,11 z\" id=\"path3008\" inkscape:connector-curvature=\"0\" style=\"fill:#000000;stroke:none\"/>\n",
       "      <path d=\"m 9,18 9,-9 0,2 -7,7 z\" id=\"path5234\" inkscape:connector-curvature=\"0\" style=\"fill:#000000;stroke:none\"/>\n",
       "    </pattern>\n",
       "  </defs>\n",
       "  <metadata id=\"metadata7\">\n",
       "    <rdf:RDF>\n",
       "      <cc:Work rdf:about=\"\">\n",
       "        <dc:format>image/svg+xml</dc:format>\n",
       "        <dc:type rdf:resource=\"http://purl.org/dc/dcmitype/StillImage\"/>\n",
       "        <dc:title/>\n",
       "        <cc:license rdf:resource=\"http://creativecommons.org/licenses/by-nc/4.0/\"/>\n",
       "      </cc:Work>\n",
       "      <cc:License rdf:about=\"http://creativecommons.org/licenses/by-nc/4.0/\">\n",
       "        <cc:permits rdf:resource=\"http://creativecommons.org/ns#Reproduction\"/>\n",
       "        <cc:permits rdf:resource=\"http://creativecommons.org/ns#Distribution\"/>\n",
       "        <cc:requires rdf:resource=\"http://creativecommons.org/ns#Notice\"/>\n",
       "        <cc:requires rdf:resource=\"http://creativecommons.org/ns#Attribution\"/>\n",
       "        <cc:prohibits rdf:resource=\"http://creativecommons.org/ns#CommercialUse\"/>\n",
       "        <cc:permits rdf:resource=\"http://creativecommons.org/ns#DerivativeWorks\"/>\n",
       "      </cc:License>\n",
       "    </rdf:RDF>\n",
       "  </metadata>\n",
       "  <g id=\"layer1\" inkscape:groupmode=\"layer\" inkscape:label=\"Layer 1\" transform=\"translate(-114.37981,0.44503669)\">\n",
       "    <path d=\"M 136.67212,51.375849 V 29.717434 l 42.63614,-5.37e-4 c 23.44987,-2.94e-4 45.39294,-0.07382 48.76237,-0.163397 l 6.12624,-0.162861 v 6.339934 6.339933 l -1.07479,0.475429 c -2.12564,0.940272 -3.0049,3.461515 -1.89553,5.435364 0.54156,0.96358 2.02422,2.033164 2.81838,2.033164 0.35888,0 0.39946,0.767775 0.39946,7.557272 0,6.979362 -0.0331,7.567919 -0.43316,7.696471 -2.14751,0.690086 -3.04282,1.67494 -3.22249,3.544787 -0.13841,1.440463 0.59099,2.962678 1.78689,3.729119 0.75475,0.483713 0.75234,0.483814 -11.61691,0.487982 l -12.37182,0.0042 0.88842,-0.603698 c 1.21345,-0.824557 1.78951,-2.10874 1.64069,-3.6575 -0.2044,-2.127232 -1.7724,-3.52003 -3.92626,-3.487537 -1.5814,0.02386 -2.7594,0.776755 -3.45117,2.205762 -0.92177,1.904129 -0.38034,3.709444 1.49538,4.986043 l 0.8183,0.55693 -12.10344,-9.9e-4 -12.10344,-9.9e-4 0.80672,-0.491861 c 2.30125,-1.403087 2.42887,-5.112206 0.22557,-6.555862 -2.45352,-1.607611 -5.75054,-0.245567 -6.22662,2.572305 -0.22236,1.316128 0.61791,3.118519 1.82747,3.91998 l 0.84106,0.557289 h -12.22371 -12.22371 l 0.78826,-0.55693 c 1.23022,-0.869188 1.88421,-2.231763 1.74859,-3.643154 -0.20874,-2.172435 -1.76857,-3.571148 -3.95314,-3.544814 -2.79214,0.03366 -4.63724,2.808351 -3.56846,5.366309 0.37687,0.901968 1.23463,1.81632 2.00748,2.139924 0.28141,0.117834 -2.8964,0.214057 -7.36386,0.222975 l -7.85891,0.01582 V 51.375879 Z M 155.483,49.490234 c 2.8598,-1.607296 2.49616,-5.849194 -0.60288,-7.032727 -1.92106,-0.733661 -3.9135,0.04454 -4.85896,1.897782 -1.7536,3.437341 2.0761,7.037835 5.46184,5.134945 z m 26.82859,0.180947 c 1.91105,-0.798491 2.78433,-3.845306 1.59778,-5.574552 -0.94798,-1.381548 -1.78564,-1.861652 -3.24604,-1.860454 -2.31938,0.0019 -3.98741,1.590824 -3.98741,3.798306 0,2.969464 2.84253,4.803748 5.63567,3.6367 z m 26.79443,-0.06021 c 1.87131,-0.887994 2.66885,-3.821761 1.51212,-5.562374 -1.73281,-2.607488 -5.52344,-2.378484 -6.87593,0.415398 -1.63371,3.37479 1.91744,6.782385 5.36381,5.146976 z\" id=\"path4479\" inkscape:connector-curvature=\"0\" style=\"fill:#ffaaaa;fill-opacity:1;stroke:none;stroke-width:0.75;stroke-linecap:butt;stroke-linejoin:round;stroke-miterlimit:4;stroke-dasharray:none;stroke-dashoffset:0;stroke-opacity:1\" transform=\"matrix(1.0666667,0,0,1.0666667,95.002347,1.200003)\"/>\n",
       "    <path d=\"m 124.80769,260.73533 v -3.99138 h 8.25598 8.25597 l -0.80386,0.54624 c -1.48962,1.01222 -2.15222,3.35561 -1.4345,5.07336 0.16707,0.39985 0.73384,1.09514 1.2595,1.54508 l 0.95574,0.81808 h -8.24441 -8.24442 z\" id=\"path194\" inkscape:connector-curvature=\"0\" style=\"opacity:1;fill:#ffaaaa;fill-opacity:1;stroke:#000000;stroke-width:0.1;stroke-linecap:round;stroke-linejoin:miter;stroke-miterlimit:4;stroke-dasharray:none;stroke-dashoffset:0\" transform=\"translate(115.79897,-0.44503651)\"/>\n",
       "    <path d=\"m 145.87504,263.66843 c 1.25297,-1.25297 1.62242,-2.90967 0.98765,-4.42888 -0.41078,-0.98314 -0.87879,-1.53533 -1.76549,-2.08304 -0.65239,-0.40298 -0.41709,-0.41092 12.19276,-0.41173 l 12.85799,-8.3e-4 -0.68965,0.48995 c -2.23763,1.58966 -2.42819,4.80657 -0.39071,6.5955 l 0.76942,0.67556 h -12.39925 -12.39925 z\" id=\"path1031\" inkscape:connector-curvature=\"0\" style=\"opacity:1;fill:#ffaaaa;fill-opacity:1;stroke:#000000;stroke-width:0.1;stroke-linecap:round;stroke-linejoin:miter;stroke-miterlimit:4;stroke-dasharray:none;stroke-dashoffset:0\" transform=\"translate(115.79897,-0.44503651)\"/>\n",
       "    <path d=\"m 174.49273,263.90434 c 1.96193,-1.65085 2.00722,-4.48836 0.0997,-6.24665 l -0.92088,-0.84884 2.98843,-0.14332 c 1.64364,-0.0788 7.43802,-0.14113 12.87639,-0.13846 9.78756,0.005 9.87895,0.009 9.00098,0.41424 -1.2211,0.56357 -1.89454,1.36362 -2.22715,2.64588 -0.41452,1.598 -0.07,2.95319 1.03039,4.05363 l 0.86415,0.86414 h -12.2129 -12.21289 z\" id=\"path1033\" inkscape:connector-curvature=\"0\" style=\"opacity:1;fill:#ffaaaa;fill-opacity:1;stroke:#000000;stroke-width:0.1;stroke-linecap:round;stroke-linejoin:miter;stroke-miterlimit:4;stroke-dasharray:none;stroke-dashoffset:0\" transform=\"translate(115.79897,-0.44503651)\"/>\n",
       "    <path d=\"m 202.90117,264.00494 c 0.99958,-0.83747 1.51063,-1.92716 1.51154,-3.22301 0.001,-1.85873 -0.84753,-3.21574 -2.44494,-3.9086 -0.6961,-0.30193 0.54191,-0.33413 12.97858,-0.33758 13.51409,-0.004 13.73283,0.003 12.85194,0.40326 -1.42338,0.64655 -2.5384,2.31413 -2.5384,3.79632 0,0.79513 0.51435,2.06378 1.11329,2.74594 0.35645,0.40597 0.58383,0.80238 0.5053,0.88091 -0.0785,0.0785 -5.63924,0.14229 -12.35714,0.14168 l -12.21436,-10e-4 z\" id=\"path1035\" inkscape:connector-curvature=\"0\" style=\"opacity:1;fill:#ffaaaa;fill-opacity:1;stroke:#000000;stroke-width:0.1;stroke-linecap:round;stroke-linejoin:miter;stroke-miterlimit:4;stroke-dasharray:none;stroke-dashoffset:0\" transform=\"translate(115.79897,-0.44503651)\"/>\n",
       "    <path d=\"m 202.53337,288.80148 c 1.3465,-0.80725 1.95073,-2.04726 1.84057,-3.77725 -0.10724,-1.6841 -0.85137,-2.82327 -2.26296,-3.4643 -0.90322,-0.41016 -0.77078,-0.41444 12.7245,-0.41067 11.46459,0.003 13.53057,0.0503 12.96786,0.29547 -0.36815,0.16041 -0.9876,0.65411 -1.37657,1.09712 -1.73226,1.97295 -1.36519,4.829 0.80897,6.29417 l 0.74818,0.50419 -13.17109,-0.002 -13.17108,-0.002 z\" id=\"path1037\" inkscape:connector-curvature=\"0\" style=\"opacity:1;fill:#ffaaaa;fill-opacity:1;stroke:#000000;stroke-width:0.1;stroke-linecap:round;stroke-linejoin:miter;stroke-miterlimit:4;stroke-dasharray:none;stroke-dashoffset:0\" transform=\"translate(115.79897,-0.44503651)\"/>\n",
       "    <path d=\"m 173.9435,288.92091 c 2.78861,-1.70048 2.69232,-5.89365 -0.16785,-7.3094 l -0.96053,-0.47545 13.19373,0.009 c 12.15654,0.008 13.14143,0.0362 12.52849,0.35878 -1.14657,0.60339 -1.88372,1.46026 -2.21452,2.5742 -0.6157,2.07327 0.44236,4.39491 2.32539,5.10247 0.18294,0.0687 -5.45488,0.13249 -12.52849,0.14166 -12.68689,0.0164 -12.85184,0.011 -12.17622,-0.40097 z\" id=\"path1039\" inkscape:connector-curvature=\"0\" style=\"opacity:1;fill:#ffaaaa;fill-opacity:1;stroke:#000000;stroke-width:0.1;stroke-linecap:round;stroke-linejoin:miter;stroke-miterlimit:4;stroke-dasharray:none;stroke-dashoffset:0\" transform=\"translate(115.79897,-0.44503651)\"/>\n",
       "    <path d=\"m 145.22544,288.83602 c 1.55137,-1.04547 2.3012,-3.05657 1.75579,-4.70916 -0.3361,-1.0184 -1.44622,-2.29993 -2.32339,-2.68213 -0.56302,-0.24533 1.46187,-0.29301 12.74612,-0.30016 l 13.41547,-0.009 -0.96053,0.47545 c -2.8725,1.42185 -2.96849,5.60159 -0.16786,7.3094 0.67579,0.41209 0.51262,0.41766 -12.26444,0.41848 l -12.94934,8.2e-4 z\" id=\"path1041\" inkscape:connector-curvature=\"0\" style=\"opacity:1;fill:#ffaaaa;fill-opacity:1;stroke:#000000;stroke-width:0.1;stroke-linecap:round;stroke-linejoin:miter;stroke-miterlimit:4;stroke-dasharray:none;stroke-dashoffset:0\" transform=\"translate(115.79897,-0.44503651)\"/>\n",
       "    <path d=\"m 124.80769,285.23796 v -4.10225 l 8.59255,1.8e-4 8.59256,1.7e-4 -0.96053,0.47545 c -1.46515,0.72523 -2.14388,1.90876 -2.14388,3.73839 0,1.28167 0.0832,1.58389 0.63548,2.30794 0.34951,0.45824 0.94822,1.02386 1.33046,1.25694 0.69208,0.42201 0.65999,0.42378 -7.67583,0.42461 l -8.37081,8.2e-4 z\" id=\"path1043\" inkscape:connector-curvature=\"0\" style=\"opacity:1;fill:#ffaaaa;fill-opacity:1;stroke:#000000;stroke-width:0.1;stroke-linecap:round;stroke-linejoin:miter;stroke-miterlimit:4;stroke-dasharray:none;stroke-dashoffset:0\" transform=\"translate(115.79897,-0.44503651)\"/>\n",
       "    <path d=\"m 432.00001,125.95154 -192,0.0485 v 71.65153 h 192\" id=\"path3563\" inkscape:connector-curvature=\"0\" style=\"fill:none;fill-opacity:1;stroke:#000000;stroke-width:1.06666672;stroke-linecap:butt;stroke-linejoin:round;stroke-miterlimit:4;stroke-dasharray:none;stroke-dashoffset:0;stroke-opacity:1\"/>\n",
       "    <path d=\"m 240.00001,188.10153 h 192\" id=\"path3565\" inkscape:connector-curvature=\"0\" style=\"fill:none;fill-opacity:1;stroke:#000000;stroke-width:1.06666672;stroke-linecap:butt;stroke-linejoin:round;stroke-miterlimit:4;stroke-dasharray:none;stroke-dashoffset:0;stroke-opacity:1\"/>\n",
       "    <path d=\"m 432.00001,125.95154 c -9.60001,9.64846 -5.34802,14.26337 -5.68024,20.24079 -0.23829,4.28744 5.62925,6.6123 4.62555,10.7979 4.48144,10.59343 -3.61954,15.14776 -2.6346,18.99295 0.98494,3.84519 3.34162,7.99723 3.19319,13.04948 0.36144,2.75372 -1.80925,5.43025 -0.87596,8.14587 0.29156,0.45546 0.88331,0.53155 1.37206,0.47298\" id=\"path3567\" inkscape:connector-curvature=\"0\" sodipodi:nodetypes=\"csczccc\" style=\"fill:none;fill-opacity:1;stroke:#000000;stroke-width:1.06666672;stroke-linecap:butt;stroke-linejoin:round;stroke-miterlimit:4;stroke-dasharray:none;stroke-dashoffset:0;stroke-opacity:1\"/>\n",
       "    <circle cx=\"258.75906\" cy=\"144.27229\" id=\"path3414\" r=\"4.1072869\" style=\"fill:#000000;fill-opacity:1;stroke:none;stroke-width:0.80000001;stroke-linecap:butt;stroke-linejoin:round;stroke-miterlimit:4;stroke-dasharray:none;stroke-dashoffset:0;stroke-opacity:1\"/>\n",
       "    <circle cx=\"258.75906\" cy=\"168.85909\" id=\"circle3420\" r=\"4.1072869\" style=\"fill:#000000;fill-opacity:1;stroke:none;stroke-width:0.80000001;stroke-linecap:butt;stroke-linejoin:round;stroke-miterlimit:4;stroke-dasharray:none;stroke-dashoffset:0;stroke-opacity:1\"/>\n",
       "    <circle cx=\"287.61252\" cy=\"144.27229\" id=\"circle3422\" r=\"4.1072869\" style=\"fill:#000000;fill-opacity:1;stroke:none;stroke-width:0.80000001;stroke-linecap:butt;stroke-linejoin:round;stroke-miterlimit:4;stroke-dasharray:none;stroke-dashoffset:0;stroke-opacity:1\"/>\n",
       "    <circle cx=\"287.61252\" cy=\"168.85909\" id=\"circle3424\" r=\"4.1072869\" style=\"fill:#000000;fill-opacity:1;stroke:none;stroke-width:0.80000001;stroke-linecap:butt;stroke-linejoin:round;stroke-miterlimit:4;stroke-dasharray:none;stroke-dashoffset:0;stroke-opacity:1\"/>\n",
       "    <circle cx=\"316.09259\" cy=\"144.27229\" id=\"circle3426\" r=\"4.1072869\" style=\"fill:#000000;fill-opacity:1;stroke:none;stroke-width:0.80000001;stroke-linecap:butt;stroke-linejoin:round;stroke-miterlimit:4;stroke-dasharray:none;stroke-dashoffset:0;stroke-opacity:1\"/>\n",
       "    <circle cx=\"316.09259\" cy=\"168.85909\" id=\"circle3428\" r=\"4.1072869\" style=\"fill:#000000;fill-opacity:1;stroke:none;stroke-width:0.80000001;stroke-linecap:butt;stroke-linejoin:round;stroke-miterlimit:4;stroke-dasharray:none;stroke-dashoffset:0;stroke-opacity:1\"/>\n",
       "    <circle cx=\"345.31943\" cy=\"144.27229\" id=\"circle3430\" r=\"4.1072869\" style=\"fill:#000000;fill-opacity:1;stroke:none;stroke-width:0.80000001;stroke-linecap:butt;stroke-linejoin:round;stroke-miterlimit:4;stroke-dasharray:none;stroke-dashoffset:0;stroke-opacity:1\"/>\n",
       "    <circle cx=\"345.31943\" cy=\"168.85909\" id=\"circle3432\" r=\"4.1072869\" style=\"fill:#000000;fill-opacity:1;stroke:none;stroke-width:0.80000001;stroke-linecap:butt;stroke-linejoin:round;stroke-miterlimit:4;stroke-dasharray:none;stroke-dashoffset:0;stroke-opacity:1\"/>\n",
       "    <path d=\"m 230.4479,173.34935 115.11551,-10e-6 -10e-6,-33.79538 -112.47524,0.26403\" id=\"path3589\" inkscape:connector-curvature=\"0\" sodipodi:nodetypes=\"cccc\" style=\"fill:none;fill-opacity:1;stroke:#ff0000;stroke-width:0.80000001;stroke-linecap:butt;stroke-linejoin:round;stroke-miterlimit:4;stroke-dasharray:none;stroke-dashoffset:0;stroke-opacity:1\"/>\n",
       "    <text id=\"text4409\" style=\"font-style:normal;font-variant:normal;font-weight:normal;font-stretch:normal;line-height:0%;font-family:Verdana;-inkscape-font-specification:'Verdana, Normal';text-align:start;letter-spacing:0px;word-spacing:0px;writing-mode:lr-tb;text-anchor:start;fill:#ff0000;fill-opacity:1;stroke:none;stroke-width:1px;stroke-linecap:butt;stroke-linejoin:miter;stroke-opacity:1\" x=\"229.39178\" xml:space=\"preserve\" y=\"184.17438\"><tspan id=\"tspan4411\" sodipodi:role=\"line\" style=\"font-size:10.66666698px;line-height:1.25\" x=\"229.39178\" y=\"184.17438\">2</tspan></text>\n",
       "    <text id=\"text4413\" style=\"font-style:normal;font-variant:normal;font-weight:normal;font-stretch:normal;line-height:0%;font-family:Verdana;-inkscape-font-specification:'Verdana, Normal';text-align:start;letter-spacing:0px;word-spacing:0px;writing-mode:lr-tb;text-anchor:start;fill:#ff0000;fill-opacity:1;stroke:none;stroke-width:1px;stroke-linecap:butt;stroke-linejoin:miter;stroke-opacity:1\" x=\"230.97595\" xml:space=\"preserve\" y=\"138.49783\"><tspan id=\"tspan4415\" sodipodi:role=\"line\" style=\"font-size:10.66666698px;line-height:1.25\" x=\"230.97595\" y=\"138.49783\">2</tspan></text>\n",
       "    <path d=\"m 432.00001,32.084924 -192,0.0485 v 71.651626 h 192\" id=\"path4437\" inkscape:connector-curvature=\"0\" style=\"fill:none;fill-opacity:1;stroke:#000000;stroke-width:1.06666672;stroke-linecap:butt;stroke-linejoin:round;stroke-miterlimit:4;stroke-dasharray:none;stroke-dashoffset:0;stroke-opacity:1\"/>\n",
       "    <path d=\"m 240.00001,94.235001 h 192\" id=\"path4439\" inkscape:connector-curvature=\"0\" style=\"fill:none;fill-opacity:1;stroke:#000000;stroke-width:1.06666672;stroke-linecap:butt;stroke-linejoin:round;stroke-miterlimit:4;stroke-dasharray:none;stroke-dashoffset:0;stroke-opacity:1\"/>\n",
       "    <path d=\"m 432.00001,32.084924 c -9.60001,9.648472 -5.34802,14.263388 -5.68024,20.240817 -0.23829,4.287446 5.62925,6.612309 4.62555,10.797915 4.48144,10.593445 -3.61954,15.147781 -2.6346,18.992977 0.98494,3.845196 3.34162,7.997242 3.19319,13.049498 0.36144,2.753726 -1.80925,5.430259 -0.87596,8.145879 0.29156,0.45546 0.88331,0.53155 1.37206,0.47298\" id=\"path4441\" inkscape:connector-curvature=\"0\" sodipodi:nodetypes=\"csczccc\" style=\"fill:none;fill-opacity:1;stroke:#000000;stroke-width:1.06666672;stroke-linecap:butt;stroke-linejoin:round;stroke-miterlimit:4;stroke-dasharray:none;stroke-dashoffset:0;stroke-opacity:1\"/>\n",
       "    <circle cx=\"258.75906\" cy=\"50.405689\" id=\"circle4443\" r=\"4.1072869\" style=\"fill:#000000;fill-opacity:1;stroke:none;stroke-width:0.80000001;stroke-linecap:butt;stroke-linejoin:round;stroke-miterlimit:4;stroke-dasharray:none;stroke-dashoffset:0;stroke-opacity:1\"/>\n",
       "    <circle cx=\"258.75906\" cy=\"74.992523\" id=\"circle4445\" r=\"4.1072869\" style=\"fill:#000000;fill-opacity:1;stroke:none;stroke-width:0.80000001;stroke-linecap:butt;stroke-linejoin:round;stroke-miterlimit:4;stroke-dasharray:none;stroke-dashoffset:0;stroke-opacity:1\"/>\n",
       "    <circle cx=\"287.61252\" cy=\"50.405689\" id=\"circle4447\" r=\"4.1072869\" style=\"fill:#000000;fill-opacity:1;stroke:none;stroke-width:0.80000001;stroke-linecap:butt;stroke-linejoin:round;stroke-miterlimit:4;stroke-dasharray:none;stroke-dashoffset:0;stroke-opacity:1\"/>\n",
       "    <circle cx=\"287.61252\" cy=\"74.992523\" id=\"circle4449\" r=\"4.1072869\" style=\"fill:#000000;fill-opacity:1;stroke:none;stroke-width:0.80000001;stroke-linecap:butt;stroke-linejoin:round;stroke-miterlimit:4;stroke-dasharray:none;stroke-dashoffset:0;stroke-opacity:1\"/>\n",
       "    <circle cx=\"316.09259\" cy=\"50.405689\" id=\"circle4451\" r=\"4.1072869\" style=\"fill:#000000;fill-opacity:1;stroke:none;stroke-width:0.80000001;stroke-linecap:butt;stroke-linejoin:round;stroke-miterlimit:4;stroke-dasharray:none;stroke-dashoffset:0;stroke-opacity:1\"/>\n",
       "    <circle cx=\"316.09259\" cy=\"74.992523\" id=\"circle4453\" r=\"4.1072869\" style=\"fill:#000000;fill-opacity:1;stroke:none;stroke-width:0.80000001;stroke-linecap:butt;stroke-linejoin:round;stroke-miterlimit:4;stroke-dasharray:none;stroke-dashoffset:0;stroke-opacity:1\"/>\n",
       "    <circle cx=\"345.31943\" cy=\"50.405689\" id=\"circle4455\" r=\"4.1072869\" style=\"fill:#000000;fill-opacity:1;stroke:none;stroke-width:0.80000001;stroke-linecap:butt;stroke-linejoin:round;stroke-miterlimit:4;stroke-dasharray:none;stroke-dashoffset:0;stroke-opacity:1\"/>\n",
       "    <circle cx=\"345.31943\" cy=\"74.992523\" id=\"circle4457\" r=\"4.1072869\" style=\"fill:#000000;fill-opacity:1;stroke:none;stroke-width:0.80000001;stroke-linecap:butt;stroke-linejoin:round;stroke-miterlimit:4;stroke-dasharray:none;stroke-dashoffset:0;stroke-opacity:1\"/>\n",
       "    <path d=\"M 230.18387,79.74682 345.56341,79.4828 345.29939,18.756633\" id=\"path4459\" inkscape:connector-curvature=\"0\" sodipodi:nodetypes=\"ccc\" style=\"fill:none;fill-opacity:1;stroke:#ff0000;stroke-width:0.76800001;stroke-linecap:butt;stroke-linejoin:round;stroke-miterlimit:4;stroke-dasharray:none;stroke-dashoffset:0;stroke-opacity:1\"/>\n",
       "    <text id=\"text4471\" style=\"font-style:normal;font-variant:normal;font-weight:normal;font-stretch:normal;line-height:0%;font-family:Verdana;-inkscape-font-specification:'Verdana, Normal';text-align:start;letter-spacing:0px;word-spacing:0px;writing-mode:lr-tb;text-anchor:start;fill:#ff0000;fill-opacity:1;stroke:none;stroke-width:1px;stroke-linecap:butt;stroke-linejoin:miter;stroke-opacity:1;\" x=\"346.09146\" xml:space=\"preserve\" y=\"26.677435\"><tspan id=\"tspan4473\" sodipodi:role=\"line\" style=\"font-size:10.66666698px;line-height:1.25;fill:#ff0000;\" x=\"346.09146\" y=\"26.677435\">1</tspan></text>\n",
       "    <text id=\"text4475\" style=\"font-style:normal;font-variant:normal;font-weight:normal;font-stretch:normal;line-height:0%;font-family:Verdana;-inkscape-font-specification:'Verdana, Normal';text-align:start;letter-spacing:0px;word-spacing:0px;writing-mode:lr-tb;text-anchor:start;fill:#ff0000;fill-opacity:1;stroke:none;stroke-width:1px;stroke-linecap:butt;stroke-linejoin:miter;stroke-opacity:1;\" x=\"227.01555\" xml:space=\"preserve\" y=\"91.226677\"><tspan id=\"tspan4477\" sodipodi:role=\"line\" style=\"font-size:10.66666698px;line-height:1.25;fill:#ff0000;\" x=\"227.01555\" y=\"91.226677\">1</tspan></text>\n",
       "    <path d=\"m 136.67212,145.68278 v -15.22277 h 7.56849 7.5685 l -0.79522,0.66913 c -2.23493,1.88057 -1.81788,5.16551 0.82204,6.47487 1.63616,0.81151 3.04842,0.59688 4.37479,-0.66487 1.66402,-1.58294 1.6742,-3.88893 0.0244,-5.53868 l -0.94045,-0.94045 h 11.32608 c 6.22934,0 11.70201,-0.0616 12.16148,-0.13687 l 0.83539,-0.13686 -0.76357,0.35525 c -2.37326,1.10415 -2.94308,4.46582 -1.07382,6.33508 2.51141,2.51142 6.66412,0.7933 6.66412,-2.75718 0,-1.42083 -0.70246,-2.66959 -1.8822,-3.34594 l -0.96433,-0.55286 12.25247,-0.003 c 12.13634,-0.003 12.24518,10e-4 11.48232,0.46648 -2.7188,1.65788 -2.62958,5.45842 0.16218,6.90831 2.62049,1.36094 5.70058,-0.52288 5.67186,-3.46898 -0.0138,-1.41235 -0.68538,-2.60637 -1.86903,-3.32285 l -0.96713,-0.58542 12.59849,-0.001 12.59849,-0.001 -0.83518,0.56282 c -1.79293,1.20826 -2.40455,3.09402 -1.61578,4.98181 0.38757,0.9276 1.66118,1.98199 2.68715,2.22462 l 0.68069,0.16098 v 7.50561 7.5056 l -0.96714,0.28977 c -2.78551,0.83456 -3.61914,4.41896 -1.51669,6.52141 l 0.94045,0.94045 h -11.99483 -11.99482 l 0.77046,-0.64829 c 1.02242,-0.86031 1.49525,-1.8294 1.49525,-3.06458 0,-3.40631 -4.20887,-5.24658 -6.57891,-2.87654 -1.69401,1.69402 -1.66658,4.14893 0.0646,5.78165 l 0.85648,0.80776 h -11.67028 -11.67028 l 0.77045,-0.64829 c 1.02516,-0.86261 1.49525,-1.82993 1.49525,-3.07676 0,-2.36544 -1.88234,-4.11574 -4.18798,-3.8942 -2.16461,0.208 -3.56857,1.74837 -3.57641,3.92391 -0.005,1.3196 0.77525,2.7699 1.78455,3.3181 0.58147,0.31582 -0.72865,0.35857 -11.25589,0.36733 l -11.91395,0.01 0.94045,-0.94045 c 1.6268,-1.62679 1.63528,-3.90956 0.0205,-5.52431 -1.60558,-1.60558 -3.8982,-1.60558 -5.50378,0 -1.62609,1.62608 -1.6088,3.83675 0.0429,5.48847 l 0.9763,0.9763 h -7.54951 -7.5495 v -15.22277 z\" id=\"path4481\" inkscape:connector-curvature=\"0\" style=\"fill:#ffaaaa;fill-opacity:1;stroke:none;stroke-width:0.75;stroke-linecap:butt;stroke-linejoin:round;stroke-miterlimit:4;stroke-dasharray:none;stroke-dashoffset:0;stroke-opacity:1\" transform=\"matrix(1.0666667,0,0,1.0666667,95.002347,1.200003)\"/>\n",
       "    <path d=\"M 230.40001,197.65154 H 182.32608\" id=\"path3529\" inkscape:connector-curvature=\"0\" sodipodi:nodetypes=\"cc\" style=\"fill:#b3b3b3;fill-opacity:1;stroke:#4d4d4d;stroke-width:0.75;stroke-linecap:butt;stroke-linejoin:round;stroke-miterlimit:4;stroke-dasharray:none;stroke-dashoffset:0;stroke-opacity:1\"/>\n",
       "    <path d=\"M 230.40001,125.95153 182.32609,125.6875\" id=\"path3531\" inkscape:connector-curvature=\"0\" sodipodi:nodetypes=\"cc\" style=\"fill:#b3b3b3;fill-opacity:1;stroke:#4d4d4d;stroke-width:0.75;stroke-linecap:butt;stroke-linejoin:round;stroke-miterlimit:4;stroke-dasharray:none;stroke-dashoffset:0;stroke-opacity:1\"/>\n",
       "    <path d=\"m 230.40001,145.2 h -19.2\" id=\"path3533\" inkscape:connector-curvature=\"0\" style=\"fill:#b3b3b3;fill-opacity:1;stroke:#4d4d4d;stroke-width:0.75;stroke-linecap:butt;stroke-linejoin:round;stroke-miterlimit:4;stroke-dasharray:none;stroke-dashoffset:0;stroke-opacity:1\"/>\n",
       "    <path d=\"m 230.40001,169.2894 h -19.2\" id=\"path3535\" inkscape:connector-curvature=\"0\" style=\"fill:#b3b3b3;fill-opacity:1;stroke:#4d4d4d;stroke-width:0.75;stroke-linecap:butt;stroke-linejoin:round;stroke-miterlimit:4;stroke-dasharray:none;stroke-dashoffset:0;stroke-opacity:1\"/>\n",
       "    <path d=\"M 220.8,169.289 V 145.2\" id=\"path3537\" inkscape:connector-curvature=\"0\" style=\"fill:#b3b3b3;fill-opacity:1;stroke:#4d4d4d;stroke-width:0.75;stroke-linecap:butt;stroke-linejoin:round;stroke-miterlimit:4;stroke-dasharray:none;stroke-dashoffset:0;stroke-opacity:1;marker-start:url(#DimensionTick);marker-mid:url(#DimensionTick);marker-end:url(#DimensionTick)\"/>\n",
       "    <path d=\"M 192.095,197.652 V 125.741\" id=\"path3539\" inkscape:connector-curvature=\"0\" sodipodi:nodetypes=\"cc\" style=\"fill:#b3b3b3;fill-opacity:1;stroke:#4d4d4d;stroke-width:0.75;stroke-linecap:butt;stroke-linejoin:round;stroke-miterlimit:4;stroke-dasharray:none;stroke-dashoffset:0;stroke-opacity:1;marker-start:url(#DimensionTick);marker-mid:url(#DimensionTick);marker-end:url(#DimensionTick)\"/>\n",
       "    <path d=\"m 230.40001,103.63168 -48.16899,-0.26403\" id=\"path3541\" inkscape:connector-curvature=\"0\" sodipodi:nodetypes=\"cc\" style=\"fill:#b3b3b3;fill-opacity:1;stroke:#4d4d4d;stroke-width:0.75;stroke-linecap:butt;stroke-linejoin:round;stroke-miterlimit:4;stroke-dasharray:none;stroke-dashoffset:0;stroke-opacity:1\"/>\n",
       "    <path d=\"M 230.40001,32.112207 181.967,31.848181\" id=\"path3543\" inkscape:connector-curvature=\"0\" sodipodi:nodetypes=\"cc\" style=\"fill:#b3b3b3;fill-opacity:1;stroke:#4d4d4d;stroke-width:0.75;stroke-linecap:butt;stroke-linejoin:round;stroke-miterlimit:4;stroke-dasharray:none;stroke-dashoffset:0;stroke-opacity:1\"/>\n",
       "    <path d=\"m 229.77691,74.567658 -28.1769,0.242904\" id=\"path3545\" inkscape:connector-curvature=\"0\" sodipodi:nodetypes=\"cc\" style=\"fill:#b3b3b3;fill-opacity:1;stroke:#4d4d4d;stroke-width:0.75;stroke-linecap:butt;stroke-linejoin:round;stroke-miterlimit:4;stroke-dasharray:none;stroke-dashoffset:0;stroke-opacity:1\"/>\n",
       "    <path d=\"M 192,103.421 V 31.9029\" id=\"path3547\" inkscape:connector-curvature=\"0\" sodipodi:nodetypes=\"cc\" style=\"fill:#b3b3b3;fill-opacity:1;stroke:#4d4d4d;stroke-width:0.75;stroke-linecap:butt;stroke-linejoin:round;stroke-miterlimit:4;stroke-dasharray:none;stroke-dashoffset:0;stroke-opacity:1;marker-start:url(#DimensionTick);marker-mid:url(#DimensionTick);marker-end:url(#DimensionTick)\"/>\n",
       "    <path d=\"M 211.2,103.526 V 74.7278\" id=\"path3549\" inkscape:connector-curvature=\"0\" style=\"fill:#b3b3b3;fill-opacity:1;stroke:#4d4d4d;stroke-width:0.75;stroke-linecap:butt;stroke-linejoin:round;stroke-miterlimit:4;stroke-dasharray:none;stroke-dashoffset:0;stroke-opacity:1;marker-start:url(#DimensionTick);marker-mid:url(#DimensionTick);marker-end:url(#DimensionTick)\"/>\n",
       "    <text id=\"text3551\" style=\"font-style:normal;font-variant:normal;font-weight:normal;font-stretch:normal;line-height:0%;font-family:Verdana;-inkscape-font-specification:'Verdana, Normal';text-align:start;letter-spacing:0px;word-spacing:0px;writing-mode:lr-tb;text-anchor:start;fill:#000000;fill-opacity:1;stroke:none;stroke-width:1px;stroke-linecap:butt;stroke-linejoin:miter;stroke-opacity:1\" transform=\"rotate(-90,190.14786,161.16179)\" x=\"187.61331\" xml:space=\"preserve\" y=\"160.10899\"><tspan id=\"tspan3553\" sodipodi:role=\"line\" style=\"font-size:10px;line-height:1.25\" x=\"187.61331\" y=\"160.10899\">d</tspan></text>\n",
       "    <text id=\"text3555\" style=\"font-style:normal;font-variant:normal;font-weight:normal;font-stretch:normal;line-height:0%;font-family:Verdana;-inkscape-font-specification:'Verdana, Normal';text-align:start;letter-spacing:0px;word-spacing:0px;writing-mode:lr-tb;text-anchor:start;fill:#000000;fill-opacity:1;stroke:none;stroke-width:1px;stroke-linecap:butt;stroke-linejoin:miter;stroke-opacity:1\" transform=\"rotate(-90,190.87196,66.403385)\" x=\"187.61331\" xml:space=\"preserve\" y=\"64.531418\"><tspan id=\"tspan3557\" sodipodi:role=\"line\" style=\"font-size:10px;line-height:1.25\" x=\"187.61331\" y=\"64.531418\">d</tspan></text>\n",
       "    <text id=\"text3559\" style=\"font-style:normal;font-variant:normal;font-weight:normal;font-stretch:normal;line-height:0%;font-family:Verdana;-inkscape-font-specification:'Verdana, Normal';text-align:start;letter-spacing:0px;word-spacing:0px;writing-mode:lr-tb;text-anchor:start;fill:#000000;fill-opacity:1;stroke:none;stroke-width:1px;stroke-linecap:butt;stroke-linejoin:miter;stroke-opacity:1\" transform=\"rotate(-90,217.28195,160.27077)\" x=\"214.80803\" xml:space=\"preserve\" y=\"158.78883\"><tspan id=\"tspan3561\" sodipodi:role=\"line\" style=\"font-size:10px;line-height:1.25\" x=\"214.80803\" y=\"158.78883\">g2</tspan></text>\n",
       "    <text id=\"text3563\" style=\"font-style:normal;font-variant:normal;font-weight:normal;font-stretch:normal;line-height:0%;font-family:Verdana;-inkscape-font-specification:'Verdana, Normal';text-align:start;letter-spacing:0px;word-spacing:0px;writing-mode:lr-tb;text-anchor:start;fill:#000000;fill-opacity:1;stroke:none;stroke-width:1px;stroke-linecap:butt;stroke-linejoin:miter;stroke-opacity:1\" transform=\"rotate(-90)\" x=\"-95.514091\" xml:space=\"preserve\" y=\"206.2\"><tspan id=\"tspan3565\" sodipodi:role=\"line\" style=\"font-size:10px;line-height:1.25\" x=\"-95.514091\" y=\"206.2\">g1</tspan></text>\n",
       "    <path d=\"M 239.78294,106.82111 V 122.9049\" id=\"path4263\" inkscape:connector-curvature=\"0\" style=\"fill:#b3b3b3;fill-opacity:1;stroke:#4d4d4d;stroke-width:0.75;stroke-linecap:butt;stroke-linejoin:round;stroke-miterlimit:4;stroke-dasharray:none;stroke-dashoffset:0;stroke-opacity:1\"/>\n",
       "    <path d=\"m 259.41461,106.58459 v 15.84725\" id=\"path4265\" inkscape:connector-curvature=\"0\" style=\"fill:#b3b3b3;fill-opacity:1;stroke:#4d4d4d;stroke-width:0.75;stroke-linecap:butt;stroke-linejoin:round;stroke-miterlimit:4;stroke-dasharray:none;stroke-dashoffset:0;stroke-opacity:1\"/>\n",
       "    <path d=\"m 345.27362,106.82111 0.23653,15.61073\" id=\"path4267\" inkscape:connector-curvature=\"0\" style=\"fill:#b3b3b3;fill-opacity:1;stroke:#4d4d4d;stroke-width:0.75;stroke-linecap:butt;stroke-linejoin:round;stroke-miterlimit:4;stroke-dasharray:none;stroke-dashoffset:0;stroke-opacity:1\"/>\n",
       "    <path d=\"m 239.783,115.809 19.632,0.044 85.998,0.193\" id=\"path4269\" inkscape:connector-curvature=\"0\" style=\"fill:#b3b3b3;fill-opacity:1;stroke:#4d4d4d;stroke-width:0.75;stroke-linecap:butt;stroke-linejoin:round;stroke-miterlimit:4;stroke-dasharray:none;stroke-dashoffset:0;stroke-opacity:1;marker-start:url(#DimensionTick);marker-mid:url(#DimensionTick);marker-end:url(#DimensionTick)\"/>\n",
       "    <text id=\"text4271\" style=\"font-style:normal;font-variant:normal;font-weight:normal;font-stretch:normal;line-height:0%;font-family:Verdana;-inkscape-font-specification:'Verdana, Normal';text-align:start;letter-spacing:0px;word-spacing:0px;writing-mode:lr-tb;text-anchor:start;fill:#000000;fill-opacity:1;stroke:none;stroke-width:1px;stroke-linecap:butt;stroke-linejoin:miter;stroke-opacity:1\" transform=\"rotate(0.12874372)\" x=\"247.86206\" xml:space=\"preserve\" y=\"113.92561\"><tspan id=\"tspan4273\" sodipodi:role=\"line\" style=\"font-size:10px;line-height:1.25\" x=\"247.86206\" y=\"113.92561\">e</tspan></text>\n",
       "    <text id=\"text4275\" style=\"font-style:normal;font-variant:normal;font-weight:normal;font-stretch:normal;line-height:0%;font-family:Verdana;-inkscape-font-specification:'Verdana, Normal';text-align:start;letter-spacing:0px;word-spacing:0px;writing-mode:lr-tb;text-anchor:start;fill:#000000;fill-opacity:1;stroke:none;stroke-width:1px;stroke-linecap:butt;stroke-linejoin:miter;stroke-opacity:1\" transform=\"rotate(0.12874372)\" x=\"300.67731\" xml:space=\"preserve\" y=\"113.92561\"><tspan id=\"tspan4277\" sodipodi:role=\"line\" style=\"font-size:10px;line-height:1.25\" x=\"300.67731\" y=\"113.92561\">L</tspan></text>\n",
       "    <text id=\"text3449\" style=\"font-style:normal;font-variant:normal;font-weight:normal;font-stretch:normal;line-height:0%;font-family:Verdana;-inkscape-font-specification:'Verdana, Normal';text-align:start;letter-spacing:0px;word-spacing:0px;writing-mode:lr-tb;text-anchor:start;fill:#000000;fill-opacity:1;stroke:none;stroke-width:1px;stroke-linecap:butt;stroke-linejoin:miter;stroke-opacity:1\" x=\"490.97375\" xml:space=\"preserve\" y=\"190.31487\"><tspan id=\"tspan3451\" sodipodi:role=\"line\" style=\"font-size:16.00000191px;line-height:1.25\" x=\"490.97375\" y=\"190.31487\">T<tspan id=\"tspan3453\" style=\"font-size:16.00000191px;baseline-shift:sub\">r</tspan></tspan></text>\n",
       "    <path d=\"m 442.65851,172.6074 h 48\" id=\"path3455\" inkscape:connector-curvature=\"0\" style=\"fill:none;fill-opacity:1;stroke:#000000;stroke-width:2.11200023;stroke-linecap:butt;stroke-linejoin:round;stroke-miterlimit:4;stroke-dasharray:none;stroke-dashoffset:0;stroke-opacity:1;marker-end:url(#marker4587)\"/>\n",
       "    <text id=\"text4579\" style=\"font-style:normal;font-variant:normal;font-weight:normal;font-stretch:normal;line-height:0%;font-family:Verdana;-inkscape-font-specification:'Verdana, Normal';text-align:start;letter-spacing:0px;word-spacing:0px;writing-mode:lr-tb;text-anchor:start;fill:#000000;fill-opacity:1;stroke:none;stroke-width:1px;stroke-linecap:butt;stroke-linejoin:miter;stroke-opacity:1\" x=\"487.18933\" xml:space=\"preserve\" y=\"97.596596\"><tspan id=\"tspan4581\" sodipodi:role=\"line\" style=\"font-size:16.00000191px;line-height:1.25\" x=\"487.18933\" y=\"97.596596\">T<tspan id=\"tspan4583\" style=\"font-size:16.00000191px;baseline-shift:sub\">r</tspan></tspan></text>\n",
       "    <path d=\"m 438.8741,79.889119 h 48\" id=\"path4585\" inkscape:connector-curvature=\"0\" style=\"fill:none;fill-opacity:1;stroke:#000000;stroke-width:2.11200023;stroke-linecap:butt;stroke-linejoin:round;stroke-miterlimit:4;stroke-dasharray:none;stroke-dashoffset:0;stroke-opacity:1;marker-end:url(#Arrow2Mend)\"/>\n",
       "    <text id=\"text3436\" style=\"font-style:normal;font-variant:normal;font-weight:normal;font-stretch:normal;line-height:0%;font-family:Verdana;-inkscape-font-specification:'Verdana, Normal';text-align:start;letter-spacing:0px;word-spacing:0px;writing-mode:lr-tb;text-anchor:start;fill:#000000;fill-opacity:1;stroke:none;stroke-width:1px;stroke-linecap:butt;stroke-linejoin:miter;stroke-opacity:1\" x=\"134.40001\" xml:space=\"preserve\" y=\"58.799995\"><tspan id=\"tspan3438\" sodipodi:role=\"line\" style=\"font-size:10.66666603px;line-height:1.25\" x=\"134.40001\" y=\"58.799995\">Case 1:</tspan></text>\n",
       "    <text id=\"text3440\" style=\"font-style:normal;font-variant:normal;font-weight:normal;font-stretch:normal;line-height:0%;font-family:Verdana;-inkscape-font-specification:'Verdana, Normal';text-align:start;letter-spacing:0px;word-spacing:0px;writing-mode:lr-tb;text-anchor:start;fill:#000000;fill-opacity:1;stroke:none;stroke-width:1px;stroke-linecap:butt;stroke-linejoin:miter;stroke-opacity:1\" x=\"132.98085\" xml:space=\"preserve\" y=\"153.24188\"><tspan id=\"tspan3442\" sodipodi:role=\"line\" style=\"font-size:10.66666603px;line-height:1.25\" x=\"132.98085\" y=\"153.24188\">Case 2:</tspan></text>\n",
       "    <path d=\"m 432.00001,241.95154 -192,0.0485 v 71.65153 h 192\" id=\"path114\" inkscape:connector-curvature=\"0\" style=\"fill:none;fill-opacity:1;stroke:#000000;stroke-width:1.06666672;stroke-linecap:butt;stroke-linejoin:round;stroke-miterlimit:4;stroke-dasharray:none;stroke-dashoffset:0;stroke-opacity:1\"/>\n",
       "    <path d=\"m 240.00001,304.10153 h 192\" id=\"path116\" inkscape:connector-curvature=\"0\" style=\"fill:none;fill-opacity:1;stroke:#000000;stroke-width:1.06666672;stroke-linecap:butt;stroke-linejoin:round;stroke-miterlimit:4;stroke-dasharray:none;stroke-dashoffset:0;stroke-opacity:1\"/>\n",
       "    <path d=\"m 432.00001,241.95154 c -9.60001,9.64846 -5.34802,14.26337 -5.68024,20.24079 -0.23829,4.28744 5.62925,6.6123 4.62555,10.7979 4.48144,10.59343 -3.61954,15.14776 -2.6346,18.99295 0.98494,3.84519 3.34162,7.99723 3.19319,13.04948 0.36144,2.75372 -1.80925,5.43025 -0.87596,8.14587 0.29156,0.45546 0.88331,0.53155 1.37206,0.47298\" id=\"path118\" inkscape:connector-curvature=\"0\" sodipodi:nodetypes=\"csczccc\" style=\"fill:none;fill-opacity:1;stroke:#000000;stroke-width:1.06666672;stroke-linecap:butt;stroke-linejoin:round;stroke-miterlimit:4;stroke-dasharray:none;stroke-dashoffset:0;stroke-opacity:1\"/>\n",
       "    <circle cx=\"258.75906\" cy=\"260.27231\" id=\"circle120\" r=\"4.1072869\" style=\"fill:#000000;fill-opacity:1;stroke:none;stroke-width:0.80000001;stroke-linecap:butt;stroke-linejoin:round;stroke-miterlimit:4;stroke-dasharray:none;stroke-dashoffset:0;stroke-opacity:1\"/>\n",
       "    <circle cx=\"258.75906\" cy=\"284.8591\" id=\"circle122\" r=\"4.1072869\" style=\"fill:#000000;fill-opacity:1;stroke:none;stroke-width:0.80000001;stroke-linecap:butt;stroke-linejoin:round;stroke-miterlimit:4;stroke-dasharray:none;stroke-dashoffset:0;stroke-opacity:1\"/>\n",
       "    <circle cx=\"287.61252\" cy=\"260.27231\" id=\"circle124\" r=\"4.1072869\" style=\"fill:#000000;fill-opacity:1;stroke:none;stroke-width:0.80000001;stroke-linecap:butt;stroke-linejoin:round;stroke-miterlimit:4;stroke-dasharray:none;stroke-dashoffset:0;stroke-opacity:1\"/>\n",
       "    <circle cx=\"287.61252\" cy=\"284.8591\" id=\"circle126\" r=\"4.1072869\" style=\"fill:#000000;fill-opacity:1;stroke:none;stroke-width:0.80000001;stroke-linecap:butt;stroke-linejoin:round;stroke-miterlimit:4;stroke-dasharray:none;stroke-dashoffset:0;stroke-opacity:1\"/>\n",
       "    <circle cx=\"316.09259\" cy=\"260.27231\" id=\"circle128\" r=\"4.1072869\" style=\"fill:#000000;fill-opacity:1;stroke:none;stroke-width:0.80000001;stroke-linecap:butt;stroke-linejoin:round;stroke-miterlimit:4;stroke-dasharray:none;stroke-dashoffset:0;stroke-opacity:1\"/>\n",
       "    <circle cx=\"316.09259\" cy=\"284.8591\" id=\"circle130\" r=\"4.1072869\" style=\"fill:#000000;fill-opacity:1;stroke:none;stroke-width:0.80000001;stroke-linecap:butt;stroke-linejoin:round;stroke-miterlimit:4;stroke-dasharray:none;stroke-dashoffset:0;stroke-opacity:1\"/>\n",
       "    <circle cx=\"345.31943\" cy=\"260.27231\" id=\"circle132\" r=\"4.1072869\" style=\"fill:#000000;fill-opacity:1;stroke:none;stroke-width:0.80000001;stroke-linecap:butt;stroke-linejoin:round;stroke-miterlimit:4;stroke-dasharray:none;stroke-dashoffset:0;stroke-opacity:1\"/>\n",
       "    <circle cx=\"345.31943\" cy=\"284.8591\" id=\"circle134\" r=\"4.1072869\" style=\"fill:#000000;fill-opacity:1;stroke:none;stroke-width:0.80000001;stroke-linecap:butt;stroke-linejoin:round;stroke-miterlimit:4;stroke-dasharray:none;stroke-dashoffset:0;stroke-opacity:1\"/>\n",
       "    <path d=\"m 239.78267,289.34935 105.78074,-1e-5\" id=\"path188\" inkscape:connector-curvature=\"0\" sodipodi:nodetypes=\"cc\" style=\"fill:none;fill-opacity:1;stroke:#ff0000;stroke-width:0.80000001;stroke-linecap:butt;stroke-linejoin:round;stroke-miterlimit:4;stroke-dasharray:none;stroke-dashoffset:0;stroke-opacity:1\"/>\n",
       "    <path d=\"m 345.5634,255.55396 -105.58827,0.26403\" id=\"path136\" inkscape:connector-curvature=\"0\" sodipodi:nodetypes=\"cc\" style=\"fill:none;fill-opacity:1;stroke:#ff0000;stroke-width:0.80000001;stroke-linecap:butt;stroke-linejoin:round;stroke-miterlimit:4;stroke-dasharray:none;stroke-dashoffset:0;stroke-opacity:1\"/>\n",
       "    <path d=\"M 230.40001,313.65154 H 182.32608\" id=\"path148\" inkscape:connector-curvature=\"0\" sodipodi:nodetypes=\"cc\" style=\"fill:#b3b3b3;fill-opacity:1;stroke:#4d4d4d;stroke-width:0.75;stroke-linecap:butt;stroke-linejoin:round;stroke-miterlimit:4;stroke-dasharray:none;stroke-dashoffset:0;stroke-opacity:1\"/>\n",
       "    <path d=\"M 230.40001,241.95153 182.32609,241.6875\" id=\"path150\" inkscape:connector-curvature=\"0\" sodipodi:nodetypes=\"cc\" style=\"fill:#b3b3b3;fill-opacity:1;stroke:#4d4d4d;stroke-width:0.75;stroke-linecap:butt;stroke-linejoin:round;stroke-miterlimit:4;stroke-dasharray:none;stroke-dashoffset:0;stroke-opacity:1\"/>\n",
       "    <path d=\"m 230.40001,261.2 h -19.2\" id=\"path152\" inkscape:connector-curvature=\"0\" style=\"fill:#b3b3b3;fill-opacity:1;stroke:#4d4d4d;stroke-width:0.75;stroke-linecap:butt;stroke-linejoin:round;stroke-miterlimit:4;stroke-dasharray:none;stroke-dashoffset:0;stroke-opacity:1\"/>\n",
       "    <path d=\"m 230.40001,285.2894 h -19.2\" id=\"path154\" inkscape:connector-curvature=\"0\" style=\"fill:#b3b3b3;fill-opacity:1;stroke:#4d4d4d;stroke-width:0.75;stroke-linecap:butt;stroke-linejoin:round;stroke-miterlimit:4;stroke-dasharray:none;stroke-dashoffset:0;stroke-opacity:1\"/>\n",
       "    <path d=\"M 220.8,285.289 V 261.2\" id=\"path156\" inkscape:connector-curvature=\"0\" style=\"fill:#b3b3b3;fill-opacity:1;stroke:#4d4d4d;stroke-width:0.75;stroke-linecap:butt;stroke-linejoin:round;stroke-miterlimit:4;stroke-dasharray:none;stroke-dashoffset:0;stroke-opacity:1;marker-start:url(#DimensionTick);marker-mid:url(#DimensionTick);marker-end:url(#DimensionTick)\"/>\n",
       "    <path d=\"M 192.095,313.652 V 241.741\" id=\"path158\" inkscape:connector-curvature=\"0\" sodipodi:nodetypes=\"cc\" style=\"fill:#b3b3b3;fill-opacity:1;stroke:#4d4d4d;stroke-width:0.75;stroke-linecap:butt;stroke-linejoin:round;stroke-miterlimit:4;stroke-dasharray:none;stroke-dashoffset:0;stroke-opacity:1;marker-start:url(#DimensionTick);marker-mid:url(#DimensionTick);marker-end:url(#DimensionTick)\"/>\n",
       "    <text id=\"text162\" style=\"font-style:normal;font-variant:normal;font-weight:normal;font-stretch:normal;line-height:0%;font-family:Verdana;-inkscape-font-specification:'Verdana, Normal';text-align:start;letter-spacing:0px;word-spacing:0px;writing-mode:lr-tb;text-anchor:start;fill:#000000;fill-opacity:1;stroke:none;stroke-width:1px;stroke-linecap:butt;stroke-linejoin:miter;stroke-opacity:1\" transform=\"rotate(-90)\" x=\"-279.69635\" xml:space=\"preserve\" y=\"189.09506\"><tspan id=\"tspan160\" sodipodi:role=\"line\" style=\"font-size:10px;line-height:1.25\" x=\"-279.69635\" y=\"189.09506\">d</tspan></text>\n",
       "    <text id=\"text166\" style=\"font-style:normal;font-variant:normal;font-weight:normal;font-stretch:normal;line-height:0%;font-family:Verdana;-inkscape-font-specification:'Verdana, Normal';text-align:start;letter-spacing:0px;word-spacing:0px;writing-mode:lr-tb;text-anchor:start;fill:#000000;fill-opacity:1;stroke:none;stroke-width:1px;stroke-linecap:butt;stroke-linejoin:miter;stroke-opacity:1\" transform=\"rotate(-90)\" x=\"-278.74469\" xml:space=\"preserve\" y=\"215.80002\"><tspan id=\"tspan164\" sodipodi:role=\"line\" style=\"font-size:10px;line-height:1.25\" x=\"-278.74469\" y=\"215.80002\">g2</tspan></text>\n",
       "    <text id=\"text172\" style=\"font-style:normal;font-variant:normal;font-weight:normal;font-stretch:normal;line-height:0%;font-family:Verdana;-inkscape-font-specification:'Verdana, Normal';text-align:start;letter-spacing:0px;word-spacing:0px;writing-mode:lr-tb;text-anchor:start;fill:#000000;fill-opacity:1;stroke:none;stroke-width:1px;stroke-linecap:butt;stroke-linejoin:miter;stroke-opacity:1\" x=\"490.97375\" xml:space=\"preserve\" y=\"306.31488\"><tspan id=\"tspan170\" sodipodi:role=\"line\" style=\"font-size:16.00000191px;line-height:1.25\" x=\"490.97375\" y=\"306.31488\">T<tspan id=\"tspan168\" style=\"font-size:16.00000191px;baseline-shift:sub\">r</tspan></tspan></text>\n",
       "    <path d=\"m 442.65851,288.6074 h 48\" id=\"path174\" inkscape:connector-curvature=\"0\" style=\"fill:none;fill-opacity:1;stroke:#000000;stroke-width:2.11200023;stroke-linecap:butt;stroke-linejoin:round;stroke-miterlimit:4;stroke-dasharray:none;stroke-dashoffset:0;stroke-opacity:1;marker-end:url(#marker4587)\"/>\n",
       "    <text id=\"text178\" style=\"font-style:normal;font-variant:normal;font-weight:normal;font-stretch:normal;line-height:0%;font-family:Verdana;-inkscape-font-specification:'Verdana, Normal';text-align:start;letter-spacing:0px;word-spacing:0px;writing-mode:lr-tb;text-anchor:start;fill:#000000;fill-opacity:1;stroke:none;stroke-width:1px;stroke-linecap:butt;stroke-linejoin:miter;stroke-opacity:1\" x=\"132.98085\" xml:space=\"preserve\" y=\"269.24188\"><tspan id=\"tspan176\" sodipodi:role=\"line\" style=\"font-size:10.66666603px;line-height:1.25\" x=\"132.98085\" y=\"269.24188\">Case 3:</tspan></text>\n",
       "    <path d=\"m 345.5634,264.44526 -105.58827,0.26403\" id=\"path190\" inkscape:connector-curvature=\"0\" sodipodi:nodetypes=\"cc\" style=\"fill:none;fill-opacity:1;stroke:#ff0000;stroke-width:0.80000001;stroke-linecap:butt;stroke-linejoin:round;stroke-miterlimit:4;stroke-dasharray:none;stroke-dashoffset:0;stroke-opacity:1\"/>\n",
       "    <path d=\"m 239.78267,280.24499 105.78074,-10e-6\" id=\"path192\" inkscape:connector-curvature=\"0\" sodipodi:nodetypes=\"cc\" style=\"fill:none;fill-opacity:1;stroke:#ff0000;stroke-width:0.80000001;stroke-linecap:butt;stroke-linejoin:round;stroke-miterlimit:4;stroke-dasharray:none;stroke-dashoffset:0;stroke-opacity:1\"/>\n",
       "  </g>\n",
       "</svg>"
      ],
      "text/plain": [
       "<IPython.core.display.SVG object>"
      ]
     },
     "metadata": {},
     "output_type": "display_data"
    }
   ],
   "source": [
    "%figure \"bolted-single-angle-shear-blocks.svg\""
   ]
  },
  {
   "cell_type": "code",
   "execution_count": 13,
   "metadata": {
    "collapsed": false,
    "jupyter": {
     "outputs_hidden": false
    }
   },
   "outputs": [
    {
     "name": "stdout",
     "output_type": "stream",
     "text": [
      "Nrows  = 2      \n",
      "Nlines = 4      \n",
      "ha     = 24     mm\n",
      "e      = 35     mm\n",
      "s      = 75     mm\n",
      "g1     = 65     mm\n",
      "d      = 178    mm\n",
      "t      = 12.7   mm\n",
      "Fy     = 350    MPa\n",
      "Fu     = 450    MPa\n",
      "n      = 1      \n",
      "An     = 977.9  mm²\n",
      "Agv    = 3302   mm²\n",
      "Ut     = 0.6    \n",
      "Tr     = 792400 MPa·mm²\n"
     ]
    },
    {
     "data": {
      "text/plain": [
       "\n",
       "    Block shear (case 1): Tr = 792.4 kN"
      ]
     },
     "metadata": {},
     "output_type": "display_data"
    }
   ],
   "source": [
    "#  CSA S16-14    13.11\n",
    "with DATA('Tr', 'Block shear (case 1)',\n",
    "          GV('Nrows,Nlines,ha,e=end_distance,s=pitch,g1,d,t,Fy,Fu,n',Angle),\n",
    "          GV('An,Agv,Ut')): # global phiu, Fv, L\n",
    "    L = (Nlines-1.)*s\n",
    "\n",
    "    # Case 1 - one shear area, tension failure from furthest bolt to edge\n",
    "    An = (d - g1 - (Nrows-0.5)*ha)*t\n",
    "    Agv = (e+L)*t\n",
    "    Ut = 0.6\n",
    "    Fv = (Fy+Fu)/2.\n",
    "    if Fy > 460*MPa:     # CSA S16-14 13.11  (foot note)\n",
    "        Fv = Fy\n",
    "    Tr = n*phiu*(Ut*An*Fu + 0.6*Agv*Fv)"
   ]
  },
  {
   "cell_type": "code",
   "execution_count": 14,
   "metadata": {
    "collapsed": false,
    "jupyter": {
     "outputs_hidden": false
    }
   },
   "outputs": [
    {
     "name": "stdout",
     "output_type": "stream",
     "text": [
      "n     = 1         \n",
      "g2    = 80        mm\n",
      "ha    = 24        mm\n",
      "t     = 12.7      mm\n",
      "e     = 35        mm\n",
      "Fu    = 450       MPa\n",
      "An    = 711.2     mm²\n",
      "Agv   = 6604      mm²\n",
      "Ut    = 0.6       \n",
      "Tr    = 1.333e+06 MPa·mm²\n"
     ]
    },
    {
     "data": {
      "text/plain": [
       "\n",
       "    Block shear (case 2): Tr = 1333 kN"
      ]
     },
     "metadata": {},
     "output_type": "display_data"
    }
   ],
   "source": [
    "# Case 2 - for 2 or more rows of bolts    CSA S16-14 13.11\n",
    "with DATA('','',GV('Nrows',Angle),showdata=False):\n",
    "    if Nrows > 1:\n",
    "        with DATA('Tr', 'Block shear (case 2)',\n",
    "                  GV('n,g2,ha,t,e=end_distance,Fu',Angle),GV('An,Agv,Ut')):  # globals='L,phiu'\n",
    "            An = (g2 - ha)*t\n",
    "            Agv = 2.*(e+L)*t\n",
    "            Ut = 0.6\n",
    "            Tr = n*phiu*(Ut*An*Fu + 0.6*Agv*Fv)"
   ]
  },
  {
   "cell_type": "code",
   "execution_count": 15,
   "metadata": {
    "collapsed": false,
    "jupyter": {
     "outputs_hidden": false
    }
   },
   "outputs": [
    {
     "name": "stdout",
     "output_type": "stream",
     "text": [
      "n     = 1         \n",
      "Nrows = 2         \n",
      "t     = 12.7      mm\n",
      "e     = 35        mm\n",
      "Fu    = 450       MPa\n",
      "An    = 0         mm²\n",
      "Agv   = 13210     mm²\n",
      "Ut    = 0         \n",
      "Tr    = 2.377e+06 MPa·mm²\n"
     ]
    },
    {
     "data": {
      "text/plain": [
       "\n",
       "    Block shear (tearout): Tr = 2377 kN"
      ]
     },
     "metadata": {},
     "output_type": "display_data"
    }
   ],
   "source": [
    "# Case 3 - tearout     CSA S16-14 13.11 \n",
    "with DATA('Tr', 'Block shear (tearout)',\n",
    "          GV('n,Nrows,t,e=end_distance,Fu',Angle),GV('An,Agv,Ut')):  # globals='L,phiu'\n",
    "    An = 0.*mm*mm\n",
    "    Agv = 2.*(e+L)*t*Nrows\n",
    "    Ut = 0.\n",
    "    Tr = n*phiu*(Ut*An*Fu + 0.6*Agv*Fv)"
   ]
  },
  {
   "cell_type": "markdown",
   "metadata": {},
   "source": [
    "### Fastener strength, bearing-type connection: bolts in shear"
   ]
  },
  {
   "cell_type": "code",
   "execution_count": 16,
   "metadata": {
    "collapsed": false,
    "jupyter": {
     "outputs_hidden": false
    }
   },
   "outputs": [
    {
     "name": "stdout",
     "output_type": "stream",
     "text": [
      "m                   = 1      \n",
      "threads_intercepted = True   \n",
      "s                   = 75     mm\n",
      "Nrows               = 2      \n",
      "Nlines              = 4      \n",
      "n                   = 1      \n",
      "Ab                  = 285    mm²\n",
      "Fu                  = 825    MPa\n",
      "bd                  = 19.05  mm\n",
      "L                   = 225    mm\n",
      "multiplier          = 0.7    \n",
      "Vr                  = 632100 MPa·mm²\n"
     ]
    },
    {
     "data": {
      "text/plain": [
       "\n",
       "    Bolt Shear: Tr = 632.1 kN    <<<--- GOVERNS"
      ]
     },
     "metadata": {},
     "output_type": "display_data"
    }
   ],
   "source": [
    "with DATA('Vr', 'Bolt Shear',\n",
    "          GV('m=n,threads_intercepted,s=pitch,Nrows,Nlines,n',Angle),\n",
    "          GV('Ab,Fu,bd=d',Bolts),\n",
    "          GV('L,multiplier')):  # globals='nbolts,phib'\n",
    "\n",
    "    nbolts = Nrows*Nlines\n",
    "    L = (Nlines-1.)*s   # length of connection\n",
    "\n",
    "    # CSA S16-14   13.12.1.2 (c)\n",
    "    multiplier = 1.0\n",
    "    if L >= 760.*mm:\n",
    "        multiplier *= 0.5/0.6\n",
    "    if threads_intercepted:\n",
    "        multiplier *= 0.70\n",
    "    Vr = multiplier*0.6*phib*nbolts*m*Ab*Fu"
   ]
  },
  {
   "cell_type": "markdown",
   "metadata": {},
   "source": [
    "### Bolts in bearing:"
   ]
  },
  {
   "cell_type": "code",
   "execution_count": 17,
   "metadata": {
    "collapsed": false,
    "jupyter": {
     "outputs_hidden": false
    }
   },
   "outputs": [
    {
     "name": "stdout",
     "output_type": "stream",
     "text": [
      "Fu     = 450      MPa\n",
      "t      = 12.7     mm\n",
      "n      = 1        \n",
      "nbolts = 8        \n",
      "d      = 19.05    mm\n",
      "Br     = 2.09e+06 MPa·mm²\n"
     ]
    },
    {
     "data": {
      "text/plain": [
       "\n",
       "    Bolt Bearing: Tr = 2090 kN"
      ]
     },
     "metadata": {},
     "output_type": "display_data"
    }
   ],
   "source": [
    "# CSA S16-14    13.12.1.2 a):\n",
    "with DATA('Br', 'Bolt Bearing',\n",
    "          GV('Fu,t,n,nbolts=Nrows*Nlines',Angle),\n",
    "          GV('d',Bolts)): # globals='phibr,nbolts'\n",
    "    Br = 3.*phibr*nbolts*t*d*Fu * n"
   ]
  },
  {
   "cell_type": "markdown",
   "metadata": {},
   "source": [
    "#### Combined tearout and bearing:"
   ]
  },
  {
   "cell_type": "code",
   "execution_count": 18,
   "metadata": {
    "collapsed": false,
    "jupyter": {
     "outputs_hidden": false
    }
   },
   "outputs": [
    {
     "name": "stdout",
     "output_type": "stream",
     "text": [
      "t       = 12.7  mm\n",
      "e       = 35    mm\n",
      "Nlines  = 4     \n",
      "Nrows   = 2     \n",
      "nangles = 1     \n",
      "Fu      = 450   MPa\n",
      "db      = 19.05 mm\n",
      "Agv     = 1778  mm²\n",
      "nbolts  = 6     \n",
      "Tr2     = 320   kN\n",
      "Br      = 1568  kN\n",
      "Tr      = 1888  kN\n"
     ]
    },
    {
     "data": {
      "text/plain": [
       "\n",
       "    Bolt bearing + end tearout: Tr = 1888 kN"
      ]
     },
     "metadata": {},
     "output_type": "display_data"
    }
   ],
   "source": [
    "# combine tearout of bolts closest to end with bearing of remainder\n",
    "with DATA('Tr', 'Bolt bearing + end tearout',\n",
    "          GV('t,e=end_distance,Nlines,Nrows,nangles=n,Fu',Angle),\n",
    "          GV('db=d',Bolts),\n",
    "          GV('Agv,nbolts,Tr2,Br')): # globals='phiu,phibr,Fv'\n",
    "    Agv = 2.*e*t*Nrows\n",
    "    nbolts = Nrows*(Nlines-1)\n",
    "    Tr2 = nangles*(phiu*(0.6*Agv*Fv)).to(kN)    # S16-14 13.11\n",
    "    Br = nangles*(3.*phibr*nbolts*t*db*Fu).to(kN)     # S16-14 13.12.1.2 b)\n",
    "    Tr = Tr2+Br"
   ]
  },
  {
   "cell_type": "code",
   "execution_count": 19,
   "metadata": {},
   "outputs": [
    {
     "name": "stdout",
     "output_type": "stream",
     "text": [
      "e       = 35    mm\n",
      "t       = 12.7  mm\n",
      "g2      = 80    mm\n",
      "ha      = 24    mm\n",
      "Fu      = 450   MPa\n",
      "nangles = 1     \n",
      "Nlines  = 4     \n",
      "db      = 19.05 mm\n",
      "Agv     = 889   mm²\n",
      "Tr2     = 304   kN\n",
      "Br      = 1568  kN\n",
      "Ut      = 0.6   \n",
      "n       = 6     \n",
      "Tr      = 1872  kN\n"
     ]
    },
    {
     "data": {
      "text/plain": [
       "\n",
       "    Bolt bearing + end block shear (case 2): Tr = 1872 kN"
      ]
     },
     "metadata": {},
     "output_type": "display_data"
    }
   ],
   "source": [
    "# combine block shear of bolts closes to end with bearing of remainder (CSA S16-14: 13.12.1.2 b))\n",
    "with DATA('','',GV('Nrows',Angle),showdata=False):\n",
    "    if Nrows > 1:\n",
    "        with DATA('Tr', 'Bolt bearing + end block shear (case 2)',\n",
    "                  GV('e=end_distance,t,g2,ha,Fu,nangles=n,Nlines',Angle),\n",
    "                  GV('db=d',Bolts),\n",
    "                  GV('Agv,Tr2,Br,Ut,n')): #  globals='phiu,phibr,Fv'\n",
    "            An = (g2 - ha)*t\n",
    "            Agv = 2.*e*t\n",
    "            Ut = 0.6\n",
    "            Tr2 = nangles*(phiu*(Ut*An*Fu + 0.6*Agv*Fv)).to(kN)      # S16-14 13.11\n",
    "            n = Nrows*(Nlines-1)\n",
    "            Br = nangles*(3.*phibr*n*t*db*Fu).to(kN)    # S16-14 13.12.1.2 b)\n",
    "            Tr = Tr2+Br    "
   ]
  },
  {
   "cell_type": "markdown",
   "metadata": {},
   "source": [
    "## Summary:"
   ]
  },
  {
   "cell_type": "code",
   "execution_count": 20,
   "metadata": {
    "collapsed": false,
    "jupyter": {
     "outputs_hidden": false
    }
   },
   "outputs": [
    {
     "name": "stdout",
     "output_type": "stream",
     "text": [
      "\n",
      "Summary of DesignNotes for Tr: Angle bolted through single leg\n",
      "==============================================================\n",
      "\n",
      "Checks:\n",
      "-------\n",
      "    Pitch greater than minimum?            OK \n",
      "      (pitch=75mm, minimum_pitch=51.43mm)\n",
      "    Gauge g2 greater than minimum pitch?   OK \n",
      "      (g2=80mm, minimum_pitch=51.43mm)\n",
      "    Edge distance greater than minimum?    OK \n",
      "      (edge_distance=33.0mm, min_edge_distance=25mm)\n",
      "    Edge distance less than maximum?       OK \n",
      "      (edge_distance=33.0mm, max_edge_distance=150mm)\n",
      "    End distance greater than minimum?     OK \n",
      "      (end_distance=35mm, min_end_distance=25mm)\n",
      "\n",
      "Values of Tr:\n",
      "-------------\n",
      "    Gross area yield:                        Tr = 1070 kN\n",
      "    Net area fracture:                       Tr = 751 kN\n",
      "    Block shear (case 1):                    Tr = 792 kN\n",
      "    Block shear (case 2):                    Tr = 1330 kN\n",
      "    Block shear (tearout):                   Tr = 2380 kN\n",
      "    Bolt Shear:                              Tr = 632 kN    <<<--- GOVERNS\n",
      "    Bolt Bearing:                            Tr = 2090 kN\n",
      "    Bolt bearing + end tearout:              Tr = 1890 kN\n",
      "    Bolt bearing + end block shear (case 2): Tr = 1870 kN\n",
      "\n",
      "    Governing Value:\n",
      "    ----------------\n",
      "       Tr = 632 kN\n"
     ]
    }
   ],
   "source": [
    "notes.summary()          "
   ]
  },
  {
   "cell_type": "code",
   "execution_count": null,
   "metadata": {},
   "outputs": [],
   "source": []
  }
 ],
 "metadata": {
  "kernelspec": {
   "display_name": "Python 3",
   "language": "python",
   "name": "python3"
  },
  "language_info": {
   "codemirror_mode": {
    "name": "ipython",
    "version": 3
   },
   "file_extension": ".py",
   "mimetype": "text/x-python",
   "name": "python",
   "nbconvert_exporter": "python",
   "pygments_lexer": "ipython3",
   "version": "3.7.5"
  }
 },
 "nbformat": 4,
 "nbformat_minor": 4
}
