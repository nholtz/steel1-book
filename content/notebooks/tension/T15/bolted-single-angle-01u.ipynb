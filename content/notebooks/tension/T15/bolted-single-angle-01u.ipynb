{
 "cells": [
  {
   "cell_type": "markdown",
   "metadata": {},
   "source": [
    "# Example T15: Tension Member -  Angle Bolted Through One Leg\n",
    "\n",
    "Calculate factored tension resistance, $T_r$, of a single angle bolted through one leg.\n",
    "Assume 3/4\" ASTM A325 bolts in 22mm punched holes, and CSA G40.21 350W steel.\n",
    "\n",
    "![Angle bolted through one leg](/images/tension/T15/bolted-single-angle.svg)\n",
    "\n",
    "_Note:_ The figure shows 2 rows of 4 bolts through one leg.  The logic below works for\n",
    "1 or 2 rows and almost any number of bolts per row.  It also works for 1 or 2 angles, back-to-back."
   ]
  },
  {
   "cell_type": "markdown",
   "metadata": {},
   "source": [
    "### Import and Setup Library Modules"
   ]
  },
  {
   "cell_type": "code",
   "execution_count": 1,
   "metadata": {
    "collapsed": false
   },
   "outputs": [],
   "source": [
    "from Designer import Part, DesignNotes, SST, show"
   ]
  },
  {
   "cell_type": "code",
   "execution_count": 2,
   "metadata": {},
   "outputs": [],
   "source": [
    "import pint                  # setup to use the module for computing with units\n",
    "ureg = pint.UnitRegistry()\n",
    "mm = ureg['mm']\n",
    "inch = ureg['inch']\n",
    "kN = ureg['kN']\n",
    "MPa = ureg['MPa']\n",
    "ureg.default_format = '~P'"
   ]
  },
  {
   "cell_type": "code",
   "execution_count": 3,
   "metadata": {
    "collapsed": false
   },
   "outputs": [],
   "source": [
    "notes = DesignNotes('Tr',units=kN,trace=True,title='Angle bolted through single leg')\n",
    "\n",
    "REQ = notes.require   # useful abbreviations\n",
    "CHK = notes.check       \n",
    "REC = notes.record"
   ]
  },
  {
   "cell_type": "markdown",
   "metadata": {},
   "source": [
    "### Define the Design Parameters"
   ]
  },
  {
   "cell_type": "code",
   "execution_count": 4,
   "metadata": {},
   "outputs": [],
   "source": [
    "Bolts = Part( 'Bolts',\n",
    "               grade = 'ASTM A325',\n",
    "               size = '3/4\"',\n",
    "               d = (3/4*inch).to(mm),\n",
    "               Fu = 825*MPa,\n",
    "              )\n",
    "Bolts.set( \n",
    "               Ab = 3.14159*Bolts.d**2/4,\n",
    "           )"
   ]
  },
  {
   "cell_type": "code",
   "execution_count": 5,
   "metadata": {},
   "outputs": [],
   "source": [
    "Dsg = 'L178x102x13'\n",
    "Ag,d,b,t = SST.section(Dsg,'A,D,B,T')\n",
    "Angle = Part( 'Angle',\n",
    "               grade = \"CSA G40.21 350W\",\n",
    "               Fy = 350*MPa,\n",
    "               Fu = 450*MPa,\n",
    "               dsg = Dsg,             # copy dimensions from SST\n",
    "               Ag = Ag*mm*mm,\n",
    "               d = d*mm,              # normally the long leg\n",
    "               b = b*mm,              # normally the short leg\n",
    "               t = t*mm,              # always the thickness :-)\n",
    "               bolted_leg = 'long',    # 'long' (usually) or 'short'\n",
    "               n = 1,                  # number of angles (may be 1 or 2)\n",
    "               threads_intercepted = True,\n",
    "               hole_type = 'punched',  # 'punched' or 'drilled'\n",
    "               Nrows = 2,              # a row is parallel to the load\n",
    "               Nlines = 4,             # a line is perpendicular to the load\n",
    "               pitch = 75*mm,          # spacing measure paprallel to load (along length of angle)\n",
    "               end_distance = 35*mm,   # from end of angle to center of closest hole\n",
    "             # for one row of bolts:\n",
    "               g = 100*mm,\n",
    "             # for two rows of bolts:\n",
    "               g1 = 65*mm,             # gauge to first row of bolts, CISC HB-11 p. 6-173\n",
    "               g2 = 80*mm,             # gauge to second row of bolts, or 0 if only 1 row\n",
    "             )\n",
    "Angle.set(     # ha = hole allowance by CSA S16-14 12.3.2:\n",
    "               ha = 22*mm + (0*mm if Angle.hole_type == 'drilled' else 2*mm),\n",
    "            )\n",
    "\n",
    "if Angle.bolted_leg == 'short':\n",
    "    Angle.set( d=Angle.b, b=Angle.d )  # d will always be dimension of bolted leg\n",
    "\n",
    "if Angle.Nrows == 1:                   # below we will use only g1, g2, g3\n",
    "    Angle.set( g1=Angle.g, g2=0*mm )\n",
    "elif Angle.Nrows == 2:\n",
    "    Angle.set( g=0*mm )"
   ]
  },
  {
   "cell_type": "markdown",
   "metadata": {},
   "source": [
    "### Sanity check of input data:\n",
    "\n",
    "If any of these requirements are not met, execution will stop with an error message."
   ]
  },
  {
   "cell_type": "code",
   "execution_count": 6,
   "metadata": {
    "collapsed": false
   },
   "outputs": [],
   "source": [
    "REQ(Angle.hole_type in ['punched','drilled'], \n",
    "    \"Value of 'Angle.hole_type' must be punched or drilled\")\n",
    "REQ(Angle.threads_intercepted in [False,True],\n",
    "    \"Value of 'Angle.threads_intercepted' must be True or False\")\n",
    "REQ(Angle.n in [1,2], \n",
    "    'Number of angles, Angle.n, must be 1 or 2')\n",
    "REQ(Angle.bolted_leg in ['short','long'],\n",
    "    \"Value of 'Angle.bolted_leg' must be short or long\")\n",
    "REQ(Angle.Nrows in [1,2],\n",
    "    \"Angle.Nrows must be 1 or 2\")\n",
    "REQ(Angle.Nlines >= 2 and Angle.Nlines <= 10,\n",
    "    \"Angle.Nlines must be in range of 2 to 10\")"
   ]
  },
  {
   "cell_type": "markdown",
   "metadata": {},
   "source": [
    "### Check Bolting Details\n",
    "Failure to meet criteria is not a fatal error. Results are reported in the work record."
   ]
  },
  {
   "cell_type": "code",
   "execution_count": 7,
   "metadata": {
    "collapsed": false
   },
   "outputs": [
    {
     "name": "stdout",
     "output_type": "stream",
     "text": [
      "Ag = 3390 mm²\n",
      "d  = 178  mm\n",
      "b  = 102  mm\n",
      "t  = 12.7 mm\n",
      "g1 = 65   mm\n",
      "g2 = 80   mm\n",
      "g3 = 33   mm\n",
      "min_edge_distance = 25    mm\n",
      "min_end_distance  = 25    mm\n",
      "max_edge_distance = 150   mm\n",
      "minimum_pitch     = 51.43 mm\n"
     ]
    }
   ],
   "source": [
    "# data derived from input data:  pitch, end_distance, gauges, etc.\n",
    "\n",
    "Ag,d,b,t,pitch,g1,g2,end_distance = Angle['Ag,d,b,t,pitch,g1,g2,end_distance']\n",
    "if Angle.Nrows == 1:\n",
    "    g1 = 0\n",
    "    \n",
    "bolt_diameter = Bolts.d\n",
    "minimum_pitch = 2.7*bolt_diameter         # CSA S16-14 22.3.1\n",
    "min_edge_distance = 25*mm                 # CSA S16-14 22.3.2, Table 6, 3/4\", rolled edge\n",
    "min_end_distance = min_edge_distance      # CSA S16-14 22.3.3                    \n",
    "if Angle.Nlines <= 2:\n",
    "    min_end_distance = 1.5*bolt_diameter  # CSA S16-01 22.3.4\n",
    "max_edge_distance = min(150*mm,12*t)\n",
    "\n",
    "g3 = edge_distance = d-(g1+g2)\n",
    "Angle.set( g3=g3, edge_distance=g3 )\n",
    "show('Ag,d,b,t,g1,g2,g3')\n",
    "show('min_edge_distance,min_end_distance,max_edge_distance,minimum_pitch')"
   ]
  },
  {
   "cell_type": "code",
   "execution_count": 8,
   "metadata": {
    "collapsed": false
   },
   "outputs": [
    {
     "name": "stdout",
     "output_type": "stream",
     "text": [
      "    Pitch greater than minimum?  OK \n",
      "      (pitch=75mm, minimum_pitch=51.43mm)\n",
      "    Gauge g2 greater than minimum pitch?  OK \n",
      "      (g2=80mm, minimum_pitch=51.43mm)\n",
      "    Edge distance greater than minimum?  OK \n",
      "      (edge_distance=33.0mm, min_edge_distance=25mm)\n",
      "    Edge distance less than maximum?  OK \n",
      "      (edge_distance=33.0mm, max_edge_distance=150mm)\n",
      "    End distance greater than minimum?  OK \n",
      "      (end_distance=35mm, min_end_distance=25mm)\n"
     ]
    }
   ],
   "source": [
    "REQ(edge_distance > bolt_diameter/2.,\n",
    "    'Angle leg of {0} does not allow {1} lines of bolts.'.format(Angle.d,Angle.Nrows))\n",
    "CHK(pitch >= minimum_pitch,\n",
    "    'Pitch greater than minimum','pitch,minimum_pitch')\n",
    "CHK(g2 >= minimum_pitch,\n",
    "    'Gauge g2 greater than minimum pitch','g2,minimum_pitch')\n",
    "CHK(edge_distance >= min_edge_distance,\n",
    "    'Edge distance greater than minimum','edge_distance,min_edge_distance')\n",
    "CHK(edge_distance <= max_edge_distance,\n",
    "    'Edge distance less than maximum','edge_distance,max_edge_distance')\n",
    "CHK(end_distance >= min_end_distance,\n",
    "    'End distance greater than minimum','end_distance,min_end_distance')"
   ]
  },
  {
   "cell_type": "markdown",
   "metadata": {},
   "source": [
    "## Strength Calculations"
   ]
  },
  {
   "cell_type": "code",
   "execution_count": 9,
   "metadata": {
    "collapsed": false
   },
   "outputs": [],
   "source": [
    "# CSA S16-14  13.1\n",
    "phi = 0.90\n",
    "phiu = 0.75\n",
    "phib = 0.80 \n",
    "phibr = 0.80"
   ]
  },
  {
   "cell_type": "markdown",
   "metadata": {},
   "source": [
    "### Gross section yield:"
   ]
  },
  {
   "cell_type": "code",
   "execution_count": 10,
   "metadata": {
    "collapsed": false
   },
   "outputs": [
    {
     "data": {
      "text/plain": [
       "    Gross area yield: Tr = 1068 kN\n",
       "       (Ag=3390mm², Fy=350MPa, n=1)"
      ]
     },
     "metadata": {},
     "output_type": "display_data"
    }
   ],
   "source": [
    "# CSA S16-14   13.2 (a) (i):\n",
    "Ag,Fy,n = Angle['Ag,Fy,n']\n",
    "\n",
    "REC(phi*Ag*Fy*n,'Gross area yield','Ag,Fy,n');"
   ]
  },
  {
   "cell_type": "markdown",
   "metadata": {},
   "source": [
    "### Net section fracture:\n",
    "There is only one possible failure path - through the rightmost bolt hole(s)."
   ]
  },
  {
   "cell_type": "code",
   "execution_count": 11,
   "metadata": {
    "collapsed": false
   },
   "outputs": [
    {
     "data": {
      "text/plain": [
       "    Net area fracture: Tr = 750.7 kN\n",
       "       (Ag=3390mm², An=2780mm², Ane=2224mm², n=1)"
      ]
     },
     "metadata": {},
     "output_type": "display_data"
    }
   ],
   "source": [
    "# CSA S16-14   13.2 (a) (iii):\n",
    "Nrows,Nlines,ha,Ag,t,Fu = Angle['Nrows,Nlines,ha,Ag,t,Fu']\n",
    "\n",
    "An = Ag - Nrows*ha*t                # CSA S16-14 12.3.1 a)\n",
    "if Nlines >= 4:                     # CSA S16-14 12.3.3.2 (b)\n",
    "    Ane = 0.80*An\n",
    "else:\n",
    "    Ane = 0.60*An\n",
    "REC(phiu*Ane*Fu*n,'Net area fracture','Ag,An,Ane,n');"
   ]
  },
  {
   "cell_type": "markdown",
   "metadata": {},
   "source": [
    "### Block shear failure:\n",
    "![Block Shear Patterns](images/bolted-single-angle-shear-blocks.svg)"
   ]
  },
  {
   "cell_type": "code",
   "execution_count": 12,
   "metadata": {
    "collapsed": false
   },
   "outputs": [
    {
     "data": {
      "text/plain": [
       "    Block shear (case 1): Tr = 792.4 kN\n",
       "       (d=178.0mm, g1=65mm, Ut=0.6, An=977.9mm², Agv=3302mm², n=1)"
      ]
     },
     "metadata": {},
     "output_type": "display_data"
    }
   ],
   "source": [
    "#  CSA S16-14    13.11\n",
    "Nrows,Nlines,ha,e,s = Angle['Nrows,Nlines,ha,end_distance,pitch']\n",
    "d,t,g1,g2,Fy,Fu,n = Angle['d,t,g1,g2,Fy,Fu,n']\n",
    "\n",
    "L = (Nlines-1.)*s\n",
    "\n",
    "# Case 1 - one shear area, tension failure from furthest bolt to edge\n",
    "An = (d - g1 - (Nrows-0.5)*ha)*t\n",
    "Agv = (e+L)*t\n",
    "Ut = 0.6\n",
    "Fv = (Fy+Fu)/2.\n",
    "if Fy > 460*MPa:     # CSA S16-14 13.11  (foot note)\n",
    "    Fv = Fy\n",
    "REC(n*phiu*(Ut*An*Fu + 0.6*Agv*Fv),'Block shear (case 1)','d,g1,Ut,An,Agv,n');"
   ]
  },
  {
   "cell_type": "code",
   "execution_count": 13,
   "metadata": {
    "collapsed": false
   },
   "outputs": [
    {
     "data": {
      "text/plain": [
       "    Block shear (case 2): Tr = 1333 kN\n",
       "       (Ut=0.6, An=711.2mm², Agv=6604mm², n=1)"
      ]
     },
     "metadata": {},
     "output_type": "display_data"
    }
   ],
   "source": [
    "# Case 2 - for 2 or more rows of bolts    CSA S16-14 13.11\n",
    "if Nrows > 1:\n",
    "    An = (g2 - ha)*t\n",
    "    Agv = 2.*(e+L)*t\n",
    "    Ut = 0.6\n",
    "    REC(n*phiu*(Ut*An*Fu + 0.6*Agv*Fv),'Block shear (case 2)','Ut,An,Agv,n')"
   ]
  },
  {
   "cell_type": "code",
   "execution_count": 14,
   "metadata": {
    "collapsed": false
   },
   "outputs": [
    {
     "data": {
      "text/plain": [
       "    Block shear (tearout): Tr = 2377 kN\n",
       "       (Ut=0, An=0mm², Agv=13210mm², n=1)"
      ]
     },
     "metadata": {},
     "output_type": "display_data"
    }
   ],
   "source": [
    "# Case 3 - tearout     CSA S16-14 13.11 \n",
    "An = 0.*mm*mm\n",
    "Agv = 2.*(e+L)*t*Nrows\n",
    "Ut = 0.\n",
    "REC(phiu*(Ut*An*Fu + 0.6*Agv*Fv),'Block shear (tearout)','Ut,An,Agv,n');"
   ]
  },
  {
   "cell_type": "markdown",
   "metadata": {},
   "source": [
    "### Fastener strength, bearing-type connection: bolts in shear"
   ]
  },
  {
   "cell_type": "code",
   "execution_count": 15,
   "metadata": {
    "collapsed": false
   },
   "outputs": [
    {
     "data": {
      "text/plain": [
       "    Bolt Shear: Tr = 632.1 kN    <<<--- GOVERNS\n",
       "       (multiplier=0.7, m=1, nbolts=8, Ab=285.0mm², Fu=825MPa)"
      ]
     },
     "metadata": {},
     "output_type": "display_data"
    }
   ],
   "source": [
    "m,threads_in,pitch,Nrows,Nlines,nangles = Angle['n,threads_intercepted,pitch,Nrows,Nlines,n']\n",
    "Ab,Fu,db = Bolts['Ab,Fu,d']\n",
    "\n",
    "nbolts = Nrows*Nlines\n",
    "L = (Nlines-1.)*s   # length of connection\n",
    "\n",
    "# CSA S16-14   13.12.1.2 (c)\n",
    "multiplier = 1.0\n",
    "if L >= 760.*mm:\n",
    "    multiplier *= 0.5/0.6\n",
    "if threads_in:\n",
    "    multiplier *= 0.70\n",
    "Vr = multiplier*0.6*phib*nbolts*m*Ab*Fu\n",
    "REC(Vr,'Bolt Shear','multiplier,m,nbolts,Ab,Fu')"
   ]
  },
  {
   "cell_type": "markdown",
   "metadata": {},
   "source": [
    "### Bolts in bearing:"
   ]
  },
  {
   "cell_type": "code",
   "execution_count": 16,
   "metadata": {
    "collapsed": false
   },
   "outputs": [
    {
     "data": {
      "text/plain": [
       "    Bolt Bearing: Tr = 2090 kN\n",
       "       (nbolts=8, t=12.7mm, db=19.05mm, Fu=450MPa, nangles=1)"
      ]
     },
     "metadata": {},
     "output_type": "display_data"
    }
   ],
   "source": [
    "# CSA S16-14    13.12.1.2 a):\n",
    "Fu = Angle.Fu\n",
    "Br = 3.*phibr*nbolts*t*db*Fu * nangles\n",
    "REC(Br,'Bolt Bearing','nbolts,t,db,Fu,nangles');"
   ]
  },
  {
   "cell_type": "markdown",
   "metadata": {},
   "source": [
    "#### Combined tearout and bearing:"
   ]
  },
  {
   "cell_type": "code",
   "execution_count": 17,
   "metadata": {
    "collapsed": false
   },
   "outputs": [
    {
     "data": {
      "text/plain": [
       "    Bolt bearing + end tearout: Tr = 1888 kN\n",
       "       (nbolts=6, d=19.05mm, t=12.7mm, Agv=1778mm², Tr2=320.0kN, Br=1568kN)"
      ]
     },
     "metadata": {},
     "output_type": "display_data"
    }
   ],
   "source": [
    "# combine tearout of bolts closest to end with bearing of remainder\n",
    "t,e,Nlines,Nrows = Angle['t,end_distance,Nlines,Nrows']\n",
    "db = Bolts.d\n",
    "Agv = 2.*e*t*Nrows\n",
    "n = Nrows*(Nlines-1)\n",
    "Tr2 = nangles*(phiu*(0.6*Agv*Fv)).to(kN)     # S16-14 13.11\n",
    "Br = nangles*(3.*phibr*n*t*db*Fu).to(kN)     # S16-14 13.12.1.2 b)\n",
    "REC(Tr2+Br,'Bolt bearing + end tearout',nbolts=n,d=db,t=t,Agv=Agv,Tr2=Tr2,Br=Br);"
   ]
  },
  {
   "cell_type": "code",
   "execution_count": 18,
   "metadata": {},
   "outputs": [
    {
     "data": {
      "text/plain": [
       "    Bolt bearing + end block shear (case 2): Tr = 1872 kN\n",
       "       (g2=80mm, ha=24mm, t=12.7mm, An=711.2mm², Ut=0.6, Agv=889.0mm², db=19.05mm, Tr2=304.0kN, Br=1568kN)"
      ]
     },
     "metadata": {},
     "output_type": "display_data"
    }
   ],
   "source": [
    "# combine block shear of bolts closes to end with bearing of remainder (CSA S16-14: 13.12.1.2 b))\n",
    "Nrows,Nlines,ha,e,s = Angle['Nrows,Nlines,ha,end_distance,pitch']\n",
    "if Nrows > 1:\n",
    "    d,t,g1,g2,Fy,Fu = Angle['d,t,g1,g2,Fy,Fu']\n",
    "    Fv = (Fy+Fu)/2.\n",
    "    if Fy > 460*MPa:     # CSA S16-14 13.11  (foot note)\n",
    "        Fv = Fy\n",
    "    An = (g2 - ha)*t\n",
    "    Agv = 2.*e*t\n",
    "    Ut = 0.6\n",
    "    Tr2 = nangles*(phiu*(Ut*An*Fu + 0.6*Agv*Fv)).to(kN)      # S16-14 13.11\n",
    "    n = Nrows*(Nlines-1)\n",
    "    Br = nangles*(3.*phibr*n*t*db*Fu).to(kN)    # S16-14 13.12.1.2 b)\n",
    "    REC((Tr2+Br),'Bolt bearing + end block shear (case 2)','g2,ha,t,An,Ut,Agv,db,Tr2,Br')    "
   ]
  },
  {
   "cell_type": "markdown",
   "metadata": {},
   "source": [
    "## Summary:"
   ]
  },
  {
   "cell_type": "code",
   "execution_count": 19,
   "metadata": {
    "collapsed": false
   },
   "outputs": [
    {
     "name": "stdout",
     "output_type": "stream",
     "text": [
      "\n",
      "Summary of DesignNotes for Tr: Angle bolted through single leg\n",
      "==============================================================\n",
      "\n",
      "Checks:\n",
      "-------\n",
      "    Pitch greater than minimum?            OK \n",
      "      (pitch=75mm, minimum_pitch=51.43mm)\n",
      "    Gauge g2 greater than minimum pitch?   OK \n",
      "      (g2=80mm, minimum_pitch=51.43mm)\n",
      "    Edge distance greater than minimum?    OK \n",
      "      (edge_distance=33.0mm, min_edge_distance=25mm)\n",
      "    Edge distance less than maximum?       OK \n",
      "      (edge_distance=33.0mm, max_edge_distance=150mm)\n",
      "    End distance greater than minimum?     OK \n",
      "      (end_distance=35mm, min_end_distance=25mm)\n",
      "\n",
      "Values of Tr:\n",
      "-------------\n",
      "    Gross area yield:                        Tr = 1070 kN\n",
      "    Net area fracture:                       Tr = 751 kN\n",
      "    Block shear (case 1):                    Tr = 792 kN\n",
      "    Block shear (case 2):                    Tr = 1330 kN\n",
      "    Block shear (tearout):                   Tr = 2380 kN\n",
      "    Bolt Shear:                              Tr = 632 kN    <<<--- GOVERNS\n",
      "    Bolt Bearing:                            Tr = 2090 kN\n",
      "    Bolt bearing + end tearout:              Tr = 1890 kN\n",
      "    Bolt bearing + end block shear (case 2): Tr = 1870 kN\n",
      "\n",
      "    Governing Value:\n",
      "    ----------------\n",
      "       Tr = 632 kN\n"
     ]
    }
   ],
   "source": [
    "notes.summary()          "
   ]
  },
  {
   "cell_type": "code",
   "execution_count": null,
   "metadata": {},
   "outputs": [],
   "source": []
  }
 ],
 "metadata": {
  "kernelspec": {
   "display_name": "Python 3",
   "language": "python",
   "name": "python3"
  },
  "language_info": {
   "codemirror_mode": {
    "name": "ipython",
    "version": 3
   },
   "file_extension": ".py",
   "mimetype": "text/x-python",
   "name": "python",
   "nbconvert_exporter": "python",
   "pygments_lexer": "ipython3",
   "version": "3.6.8"
  }
 },
 "nbformat": 4,
 "nbformat_minor": 2
}
