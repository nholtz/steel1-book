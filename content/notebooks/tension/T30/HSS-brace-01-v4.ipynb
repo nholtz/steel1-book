{
 "cells": [
  {
   "cell_type": "markdown",
   "metadata": {},
   "source": [
    "# Example T30 v4: HSS Brace Analysis\n",
    "The photo shows the end details of a typical brace in a 4-storey steel structure.  This was photographed in Ottawa, in September, 2015.\n",
    "\n",
    "This notebook shows the computations necessary to compute the factored tension resistance, $T_r$, for a similar brace.  **Note**, all of the dimensions and properties were invented by the author of this notebook; no attempt has been made to have an accurate model of the real structure.\n",
    "\n",
    "![Brace End Details](brace.jpg)"
   ]
  },
  {
   "cell_type": "markdown",
   "metadata": {},
   "source": [
    "![Overall Sketch](brace-sketch.svg)"
   ]
  },
  {
   "cell_type": "code",
   "execution_count": 1,
   "metadata": {},
   "outputs": [],
   "source": [
    "from Designer import makePart, DesignNotes, SST\n",
    "import math\n",
    "sind = lambda deg: math.sin(math.radians(deg))  # return sin of angle expressed in degrees\n",
    "cosd = lambda deg: math.cos(math.radians(deg))  # return cos of angle expressed in degrees"
   ]
  },
  {
   "cell_type": "markdown",
   "metadata": {},
   "source": [
    "**Setup the units system**"
   ]
  },
  {
   "cell_type": "code",
   "execution_count": 2,
   "metadata": {},
   "outputs": [],
   "source": [
    "import pint                  # setup to use the module for computing with units\n",
    "ureg = pint.UnitRegistry()\n",
    "mm = ureg['mm']              # define symbols for the units used below\n",
    "inch = ureg['inch']\n",
    "kN = ureg['kN']\n",
    "MPa = ureg['MPa']\n",
    "ureg.default_format = '~P'"
   ]
  },
  {
   "cell_type": "markdown",
   "metadata": {},
   "source": [
    "The various $\\phi$ values used below:"
   ]
  },
  {
   "cell_type": "code",
   "execution_count": 3,
   "metadata": {},
   "outputs": [],
   "source": [
    "phiw = 0.67    # S16-14 13.1\n",
    "phiu = 0.75\n",
    "phib = 0.80\n",
    "phibr = 0.80\n",
    "phi = 0.90"
   ]
  },
  {
   "cell_type": "code",
   "execution_count": 4,
   "metadata": {},
   "outputs": [],
   "source": [
    "notes = DesignNotes('Tr',title='Typical HSS Cross Brace',units=kN,trace=True)\n",
    "\n",
    "# useful abbreviations:\n",
    "REQUIRE = notes.require       # a requirement\n",
    "CHECK = notes.check           # a check\n",
    "RECORD = notes.record         # record calculation details"
   ]
  },
  {
   "cell_type": "markdown",
   "metadata": {},
   "source": [
    "## Design Parameters\n",
    "Most of the design parameters from the above figure are defined here.  A few are augmented or defined below where there are more detailed figures available."
   ]
  },
  {
   "cell_type": "code",
   "execution_count": 5,
   "metadata": {},
   "outputs": [],
   "source": [
    "@makePart\n",
    "class Bolts:\n",
    "    'Bolts'   # bolt group is the same on the tongue plate and on the gusset plate.\n",
    "    grade = 'ASTM A325'\n",
    "    size = '3/4\"'\n",
    "    Fu = 825*MPa\n",
    "    d = (3/4*inch).to(mm)\n",
    "    hole_type = 'punched'\n",
    "    hd = 22*mm            # hole diameter\n",
    "    ha = hd + 2*mm        # hole allowance\n",
    "    threads_intercepted = True\n",
    "    nlines = 2            # a line is perpendicular to load\n",
    "    nperline = 3          # number of bolts in each line\n",
    "    g = 75*mm             # gauge (perpendicular to load)\n",
    "    s = 75*mm             # spacing (parallel to load)\n",
    "\n",
    "@makePart\n",
    "class Welds:\n",
    "    'Welds'\n",
    "    grade = 'E49xx'\n",
    "    Xu = 490*MPa\n",
    "    matching = True\n",
    "\n",
    "@makePart\n",
    "class Plates:\n",
    "    'Plates'\n",
    "    grade = 'CSA G40.21 350W'\n",
    "    Fy = 350*MPa\n",
    "    Fu = 450*MPa\n",
    "\n",
    "@makePart\n",
    "class HSS:\n",
    "    'HSS Column'\n",
    "    grade = 'CSA G40.21 350W'\n",
    "    Fy = 350*MPa\n",
    "    Fu = 450*MPa\n",
    "    size = 'HS127x127x13'\n",
    "    D,T,A = SST.section(size,'D,T,A')\n",
    "    D = D*mm\n",
    "    T = T*mm\n",
    "    A = A*mm*mm    \n",
    "\n",
    "@makePart\n",
    "class CoverPlate(Plates):\n",
    "    'Cover Plate'\n",
    "    T = 10*mm\n",
    "    W = 60*mm\n",
    "    Lw = 90*mm      # length of weld from net section to end of HSS\n",
    "    D = 6*mm        # size of weld from on HSS.\n",
    "   \n",
    "@makePart\n",
    "class TonguePlate(Plates):\n",
    "    'Tongue Plate'\n",
    "    T = 20*mm\n",
    "    W = 280*mm\n",
    "    L = 260*mm\n",
    "    e = 40*mm\n",
    "    D = 8*mm       # weld size\n",
    "    c = 45*mm      # dist end of weld to 1st bolt line  \n",
    "    Lw = L - (c + (Bolts.nlines-1)*Bolts.s + e)\n",
    "    Dh = SST.section(HSS.size,'D')*mm\n",
    "\n",
    "@makePart\n",
    "class GussetPlate(TonguePlate['T,W'],Plates): \n",
    "    'Gusset Plate'\n",
    "    W2 = 110*mm\n",
    "    e = 40*mm    # end distance\n",
    "    D = 8*mm     # plate to column weld size\n",
    "    theta = 45. "
   ]
  },
  {
   "cell_type": "markdown",
   "metadata": {},
   "source": [
    "## Bolting and Welding Details\n",
    "\n",
    "TBD: Here we should check all spacings, edge distances, etc."
   ]
  },
  {
   "cell_type": "markdown",
   "metadata": {},
   "source": [
    "## Gusset Plate\n",
    "![Gusset Plate Details](gusset-details.svg)"
   ]
  },
  {
   "cell_type": "markdown",
   "metadata": {},
   "source": [
    "### Gusset to HSS Weld"
   ]
  },
  {
   "cell_type": "code",
   "execution_count": 6,
   "metadata": {},
   "outputs": [
    {
     "data": {
      "text/plain": [
       "    Gusset to HSS Weld: Tr = 2008 kN\n",
       "       (W=280mm, W2=110mm, L1=308.0mm, L=506.0mm, D=8mm, theta=45.0, Aw=5724mm², Mw=1.0, phiw=0.67, Vr=2008000MPa·mm²)"
      ]
     },
     "metadata": {},
     "output_type": "display_data"
    }
   ],
   "source": [
    "with GussetPlate['W,W2,theta,D'],Welds['Xu']:\n",
    "    L1 = W2+W*cosd(theta)\n",
    "    L = (L1/sind(theta))*cosd(theta) + W*sind(theta)\n",
    "\n",
    "    Mw = 1.0                  \n",
    "    Aw = 2*L*.707*D\n",
    "    Vr = 0.67*phiw*Aw*Xu*(1+sind(theta)**1.5)*Mw     # S16-14: 13.13.2.2\n",
    "\n",
    "    RECORD(Vr,'Gusset to HSS Weld','W,W2,L1,L,D,theta,Aw,Mw,phiw,Vr')"
   ]
  },
  {
   "cell_type": "markdown",
   "metadata": {},
   "source": [
    "### Gusset Block Shear\n",
    "Because the gusset must be the same thickness as the tongue, and as the edges align so they are the\n",
    "same width (mostly), the block shear strengths determined here should be the same.  So this section is not\n",
    "really necessary.  The tongue does have one more pattern (Pattern 3)) that is judged not applicable\n",
    "here because of the increased width of the gusset.\n",
    "#### Block Shear Case 1)"
   ]
  },
  {
   "cell_type": "code",
   "execution_count": 7,
   "metadata": {},
   "outputs": [
    {
     "data": {
      "text/plain": [
       "    Gusset Block Shear Case 1): Tr = 1516 kN\n",
       "       (Ut=1.0, An=2040mm², Agv=4600mm², Fy=350MPa, Fu=450MPa, Vr=1516000MPa·mm²)"
      ]
     },
     "metadata": {},
     "output_type": "display_data"
    }
   ],
   "source": [
    "with Bolts['nlines,nperline,g,s,ha'],GussetPlate['W,e,T,Fy,Fu']:\n",
    "    An = T*((nperline-1)*g - (nperline-1)*ha)\n",
    "    Agv = 2*T*((nlines-1)*s + e)\n",
    "    Ut = 1.0\n",
    "    Vr = phiu*(Ut*An*Fu + 0.6*Agv*(Fy+Fu)/2.)     # S16-14: 13.2 a) ii) & 13.11\n",
    "    RECORD(Vr,'Gusset Block Shear Case 1)','Ut,An,Agv,Fy,Fu,Vr')"
   ]
  },
  {
   "cell_type": "markdown",
   "metadata": {},
   "source": [
    "#### Block Shear Case 2)"
   ]
  },
  {
   "cell_type": "code",
   "execution_count": 8,
   "metadata": {},
   "outputs": [
    {
     "data": {
      "text/plain": [
       "    Gusset Block Shear Case 2): Tr = 1251 kN\n",
       "       (edge=65.0mm, Ut=0.8, An=3100mm², Agv=2300mm², Vr=1251000MPa·mm²)"
      ]
     },
     "metadata": {},
     "output_type": "display_data"
    }
   ],
   "source": [
    "with Bolts['nlines,nperline,g,s,ha'],GussetPlate['W,e,T,Fy,Fu']:\n",
    "    edge = (W - (nperline-1)*g)/2.\n",
    "    An = (((nperline-1)*g+edge)-(nperline-0.5)*ha)*T\n",
    "    Agv = T*((nlines-1)*s + e)\n",
    "    Ut = 0.8\n",
    "    Vr = phiu*(Ut*An*Fu + 0.6*Agv*(Fy+Fu)/2.)    # S16-14: 13.2 a) ii) & 13.11\n",
    "    RECORD(Vr,'Gusset Block Shear Case 2)','edge,Ut,An,Agv,Vr')"
   ]
  },
  {
   "cell_type": "markdown",
   "metadata": {},
   "source": [
    "#### Tearout"
   ]
  },
  {
   "cell_type": "code",
   "execution_count": 9,
   "metadata": {},
   "outputs": [
    {
     "data": {
      "text/plain": [
       "    Gusset tearout: Tr = 2484 kN\n",
       "       (Agv=13800mm², Vr=2484000MPa·mm², Fy=350MPa, Fu=450MPa)"
      ]
     },
     "metadata": {},
     "output_type": "display_data"
    }
   ],
   "source": [
    "with Bolts['nlines,nperline,s'],GussetPlate['e,T,Fy,Fu']:    \n",
    "    Agv = T*((nlines-1)*s + e) * nperline * 2\n",
    "    Vr = phiu * 0.6*Agv*(Fy+Fu)/2.               # S16-14: 13.2 a) ii) & 13.11\n",
    "    RECORD(Vr,'Gusset tearout','Agv,Vr,Fy,Fu')"
   ]
  },
  {
   "cell_type": "markdown",
   "metadata": {},
   "source": [
    "## Lap Plates (2)\n",
    "### Lap Plate Details\n",
    "Consider the thickness of both plates together when computing the resistance.\n",
    "As the plate is symmetric, we only have to investigate one end.\n",
    "\n",
    "![Lap Plate Details](lap-plate-details.svg)"
   ]
  },
  {
   "cell_type": "code",
   "execution_count": 10,
   "metadata": {},
   "outputs": [],
   "source": [
    "@makePart\n",
    "class LapPlates(Plates):\n",
    "    'Lap Plates'\n",
    "    W = 230*mm\n",
    "    L = 315*mm\n",
    "    T = 10*mm*2.      # thickness, include 2 plates\n",
    "    e = 40*mm         # could be different than gusset"
   ]
  },
  {
   "cell_type": "markdown",
   "metadata": {},
   "source": [
    "### Lap Plates: Gross Section Yield"
   ]
  },
  {
   "cell_type": "code",
   "execution_count": 11,
   "metadata": {},
   "outputs": [
    {
     "data": {
      "text/plain": [
       "    Lap Plates, Gross Yield: Tr = 1449 kN\n",
       "       (W=230mm, T=20.0mm, Ag=4600mm², Fy=350MPa, phi=0.9)"
      ]
     },
     "metadata": {},
     "output_type": "display_data"
    }
   ],
   "source": [
    "with LapPlates['W,T,Fy']:\n",
    "    Ag = W*T\n",
    "    Tr = phi*Ag*Fy          # S16-14: 13.2 a) i)\n",
    "    RECORD(Tr,'Lap Plates, Gross Yield','W,T,Ag,Fy,phi')"
   ]
  },
  {
   "cell_type": "markdown",
   "metadata": {},
   "source": [
    "### Lap Plates: Net Section Fracture"
   ]
  },
  {
   "cell_type": "code",
   "execution_count": 12,
   "metadata": {},
   "outputs": [
    {
     "data": {
      "text/plain": [
       "    Lap Plates, Net Fracture: Tr = 1066 kN\n",
       "       (W=230mm, T=20.0mm, ha=24mm, wn=158mm, phiu=0.75, Ane=3160mm², Fu=450MPa)"
      ]
     },
     "metadata": {},
     "output_type": "display_data"
    }
   ],
   "source": [
    "with LapPlates['W,T,Fu'],Bolts['nperline,ha']:\n",
    "    wn = W - nperline*ha\n",
    "    Ane = An = wn*T\n",
    "    Tr = phiu*Ane*Fu          # S16-14: 13.2 a) iii)\n",
    "    RECORD(Tr,'Lap Plates, Net Fracture','W,T,ha,wn,phiu,Ane,Fu')"
   ]
  },
  {
   "cell_type": "markdown",
   "metadata": {},
   "source": [
    "### Lap Plates: Block Shear\n",
    "#### Block Shear Case 1)"
   ]
  },
  {
   "cell_type": "code",
   "execution_count": 13,
   "metadata": {},
   "outputs": [
    {
     "data": {
      "text/plain": [
       "    Lap Plates, Block Shear Case 1): Tr = 1516 kN\n",
       "       (An=2040mm², Agv=4600mm², Ut=1.0, Fy=350MPa, Fu=450MPa, Vr=1516000MPa·mm²)"
      ]
     },
     "metadata": {},
     "output_type": "display_data"
    }
   ],
   "source": [
    "with LapPlates['T,e,W,Fy,Fu'],Bolts['ha,nperline,nlines,s,g']:\n",
    "    An = ((nperline-1)*g - (nperline-1)*ha)*T\n",
    "    Agv = (e + (nlines-1)*s)*T*2\n",
    "    Ut = 1.0\n",
    "    Vr = phiu*(Ut*An*Fu + 0.6*Agv*(Fy+Fu)/2.)        # S16-14: 13.2 a) ii) & 13.11\n",
    "    RECORD(Vr,'Lap Plates, Block Shear Case 1)','An,Agv,Ut,Fy,Fu,Vr')"
   ]
  },
  {
   "cell_type": "markdown",
   "metadata": {},
   "source": [
    "#### Case 2)"
   ]
  },
  {
   "cell_type": "code",
   "execution_count": 14,
   "metadata": {},
   "outputs": [
    {
     "data": {
      "text/plain": [
       "    Lap Plates, Block Shear Case 2): Tr = 1116 kN\n",
       "       (W=230mm, T=20.0mm, edge=40.0mm, An=2600mm², Agv=2300mm², Ut=0.8, Vr=1116000MPa·mm²)"
      ]
     },
     "metadata": {},
     "output_type": "display_data"
    }
   ],
   "source": [
    "with LapPlates['T,e,W,Fy,Fu'],Bolts['ha,nperline,nlines,s,g']:\n",
    "    edge = (W - (nperline-1)*g)/2.0\n",
    "    An = (W - (edge-ha/2) - nperline*ha)*T\n",
    "    Agv = (e + (nlines-1)*s)*T\n",
    "    Ut = 0.8\n",
    "    Vr = phiu*(Ut*An*Fu + 0.6*Agv*(Fy+Fu)/2.)       # S16-14: 13.2 a) ii) & 13.11\n",
    "    RECORD(Vr,'Lap Plates, Block Shear Case 2)','W,T,edge,An,Agv,Ut,Vr')"
   ]
  },
  {
   "cell_type": "markdown",
   "metadata": {},
   "source": [
    "#### Case 3)"
   ]
  },
  {
   "cell_type": "code",
   "execution_count": 15,
   "metadata": {},
   "outputs": [
    {
     "data": {
      "text/plain": [
       "    Lap Plates, Block Shear Case 3): Tr = 1261 kN\n",
       "       (An=2140mm², Agv=4600mm², Ut=0.6, Vr=1261000MPa·mm²)"
      ]
     },
     "metadata": {},
     "output_type": "display_data"
    }
   ],
   "source": [
    "with LapPlates['T,e,W,Fy,Fu'],Bolts['ha,nperline,nlines,s,g']:\n",
    "    An = (W - nperline*ha - (g-ha))*T\n",
    "    Agv = (e + (nlines-1)*s)*T * 2.\n",
    "    Ut = 0.6\n",
    "    Vr = phiu*(Ut*An*Fu + 0.6*Agv*(Fy+Fu)/2.)        # S16-14: 13.2 a) ii) & 13.11\n",
    "    RECORD(Vr,'Lap Plates, Block Shear Case 3)','An,Agv,Ut,Vr')"
   ]
  },
  {
   "cell_type": "markdown",
   "metadata": {},
   "source": [
    "#### Tearout"
   ]
  },
  {
   "cell_type": "code",
   "execution_count": 16,
   "metadata": {},
   "outputs": [
    {
     "data": {
      "text/plain": [
       "    Lap Plates, tearout: Tr = 2484 kN\n",
       "       (Agv=13800mm², Vr=2484000MPa·mm²)"
      ]
     },
     "metadata": {},
     "output_type": "display_data"
    }
   ],
   "source": [
    "with LapPlates['T,e,W,Fy,Fu'],Bolts['ha,nperline,nlines,s,g']:\n",
    "    An = 0*mm*mm\n",
    "    Agv = (e + (nlines-1)*s)*T*2*nperline\n",
    "    Ut = 1\n",
    "    Vr = phiu*(Ut*An*Fu + 0.6*Agv*(Fy+Fu)/2.)        # S16-14: 13.2 a) ii) & 13.11\n",
    "    RECORD(Vr,'Lap Plates, tearout','Agv,Vr')"
   ]
  },
  {
   "cell_type": "markdown",
   "metadata": {},
   "source": [
    "## Tongue Plate\n",
    "### Tongue Plate Details\n",
    "![Tongue Plate Details](tongue-plate-details.svg)"
   ]
  },
  {
   "cell_type": "code",
   "execution_count": 17,
   "metadata": {},
   "outputs": [],
   "source": [
    "@makePart\n",
    "class TonguePlate(TonguePlate):\n",
    "    D = 8*mm       # weld size\n",
    "    c = 45*mm      # dist end of weld to 1st bolt line  \n",
    "    Lw = TonguePlate.L - (c + (Bolts.nlines-1)*Bolts.s + TonguePlate.e)\n",
    "    Dh = SST.section(HSS.size,'D')*mm"
   ]
  },
  {
   "cell_type": "markdown",
   "metadata": {},
   "source": [
    "### Tongue Plate: Bolted End\n",
    "#### Gross Section Yield"
   ]
  },
  {
   "cell_type": "code",
   "execution_count": 18,
   "metadata": {},
   "outputs": [
    {
     "data": {
      "text/plain": [
       "    Tongue Plate, Gross Yield: Tr = 1764 kN\n",
       "       (W=280mm, T=20mm, Ag=5600mm², Fy=350MPa)"
      ]
     },
     "metadata": {},
     "output_type": "display_data"
    }
   ],
   "source": [
    "with TonguePlate['W,T,Fy']:\n",
    "    Ag = W*T\n",
    "    Tr = phi*Ag*Fy                # S16-14: 13.2 a) i)\n",
    "    RECORD(Tr,'Tongue Plate, Gross Yield','W,T,Ag,Fy')"
   ]
  },
  {
   "cell_type": "markdown",
   "metadata": {},
   "source": [
    "#### Net Section Fracture"
   ]
  },
  {
   "cell_type": "code",
   "execution_count": 19,
   "metadata": {},
   "outputs": [
    {
     "data": {
      "text/plain": [
       "    Tongue Plate, Bolted End, Net Section Fracture: Tr = 1404 kN\n",
       "       (W=280mm, T=20mm, wn=208mm, Ane=4160mm², Fu=450MPa)"
      ]
     },
     "metadata": {},
     "output_type": "display_data"
    }
   ],
   "source": [
    "with TonguePlate['W,T,Fu'],Bolts['ha,nperline']:\n",
    "    wn = W - nperline*ha\n",
    "    Ane = An = wn*T\n",
    "    Tr = phiu*Ane*Fu              # S16-14: 13.2 a) iii)\n",
    "    RECORD(Tr,'Tongue Plate, Bolted End, Net Section Fracture','W,T,wn,Ane,Fu')"
   ]
  },
  {
   "cell_type": "markdown",
   "metadata": {},
   "source": [
    "#### Block Shear, Case 1)"
   ]
  },
  {
   "cell_type": "code",
   "execution_count": 20,
   "metadata": {},
   "outputs": [
    {
     "data": {
      "text/plain": [
       "    Tongue Plate, Block Shear Case 1): Tr = 1516 kN\n",
       "       (An=2040mm², Agv=4600mm², Ut=1.0, Fy=350MPa, Fu=450MPa, Vr=1516000MPa·mm²)"
      ]
     },
     "metadata": {},
     "output_type": "display_data"
    }
   ],
   "source": [
    "with TonguePlate['T,e,W,Fy,Fu'],Bolts['ha,nperline,nlines,s,g']:\n",
    "    An = ((nperline-1)*g - (nperline-1)*ha)*T\n",
    "    Agv = (e + (nlines-1)*s)*T*2\n",
    "    Ut = 1.0\n",
    "    Vr = phiu*(Ut*An*Fu + 0.6*Agv*(Fy+Fu)/2.)     # S16-14: 13.2 a) ii) & 13.11\n",
    "    RECORD(Vr,'Tongue Plate, Block Shear Case 1)','An,Agv,Ut,Fy,Fu,Vr')"
   ]
  },
  {
   "cell_type": "markdown",
   "metadata": {},
   "source": [
    "#### Block Shear, Case 2)"
   ]
  },
  {
   "cell_type": "code",
   "execution_count": 21,
   "metadata": {},
   "outputs": [
    {
     "data": {
      "text/plain": [
       "    Tongue Plate, Block Shear Case 2): Tr = 1251 kN\n",
       "       (edge=65.0mm, An=3100mm², Agv=2300mm², Ut=0.8, Vr=1251000MPa·mm²)"
      ]
     },
     "metadata": {},
     "output_type": "display_data"
    }
   ],
   "source": [
    "with TonguePlate['T,e,W,Fy,Fu'],Bolts['ha,nperline,nlines,s,g']:\n",
    "    edge = (W - (nperline-1)*g)/2.0\n",
    "    An = (W - (edge-ha/2.) - nperline*ha)*T\n",
    "    Agv = (e + (nlines-1)*s)*T\n",
    "    Ut = 0.8\n",
    "    Vr = phiu*(Ut*An*Fu + 0.6*Agv*(Fy+Fu)/2.)      # S16-14: 13.2 a) ii) & 13.11\n",
    "    RECORD(Vr,'Tongue Plate, Block Shear Case 2)','edge,An,Agv,Ut,Vr')"
   ]
  },
  {
   "cell_type": "markdown",
   "metadata": {},
   "source": [
    "#### Block Shear, Case 3)"
   ]
  },
  {
   "cell_type": "code",
   "execution_count": 22,
   "metadata": {},
   "outputs": [
    {
     "data": {
      "text/plain": [
       "    Tongue Plate, Block Shear Case 3): Tr = 1464 kN\n",
       "       (An=3140mm², Agv=4600mm², Ut=0.6, Vr=1464000MPa·mm²)"
      ]
     },
     "metadata": {},
     "output_type": "display_data"
    }
   ],
   "source": [
    "with TonguePlate['T,e,W,Fy,Fu'],Bolts['ha,nperline,nlines,s,g']:\n",
    "    An = (W - nperline*ha - (g-ha))*T\n",
    "    Agv = (e + (nlines-1)*s)*T * 2.\n",
    "    Ut = 0.6\n",
    "    Vr = phiu*(Ut*An*Fu + 0.6*Agv*(Fy+Fu)/2.)       # S16-14: 13.2 a) ii) & 13.11\n",
    "    RECORD(Vr,'Tongue Plate, Block Shear Case 3)','An,Agv,Ut,Vr')"
   ]
  },
  {
   "cell_type": "markdown",
   "metadata": {},
   "source": [
    "#### Block Shear, Tearout"
   ]
  },
  {
   "cell_type": "code",
   "execution_count": 23,
   "metadata": {},
   "outputs": [
    {
     "data": {
      "text/plain": [
       "    Tongue Plate tearout: Tr = 2484 kN\n",
       "       (Agv=13800mm², Vr=2484000MPa·mm²)"
      ]
     },
     "metadata": {},
     "output_type": "display_data"
    }
   ],
   "source": [
    "with TonguePlate['T,e,W,Fy,Fu'],Bolts['ha,nperline,nlines,s,g']:\n",
    "    An = 0*mm*mm\n",
    "    Agv = (e + (nlines-1)*s)*T*2*nperline\n",
    "    Ut = 1\n",
    "    Vr = phiu*(Ut*An*Fu + 0.6*Agv*(Fy+Fu)/2.)       # S16-14: 13.2 a) ii) & 13.11\n",
    "    RECORD(Vr,'Tongue Plate tearout','Agv,Vr')"
   ]
  },
  {
   "cell_type": "markdown",
   "metadata": {},
   "source": [
    "### Tongue Plate: Welded End\n",
    "#### Shear Lag - Effective Net Area"
   ]
  },
  {
   "cell_type": "code",
   "execution_count": 24,
   "metadata": {},
   "outputs": [
    {
     "data": {
      "text/plain": [
       "    Tongue Plate, Welded End, Net Section Fracture: Tr = 1144 kN\n",
       "       (L=100mm, w2=127.0mm, w3=76.5mm, An2=1500mm², An3=944.8mm², Ane=3390mm²)"
      ]
     },
     "metadata": {},
     "output_type": "display_data"
    }
   ],
   "source": [
    "with TonguePlate['W,w2=Dh,L=Lw,T,Fu']:\n",
    "    if L >= 2*w2:             # S16-14: 12.3.3.3 b)\n",
    "        An2 = 1.00*w2*T\n",
    "    elif L >= w2:\n",
    "        An2 = 0.5*w2*T + 0.25*L*T\n",
    "    else:\n",
    "        An2 = 0.75*L*T\n",
    "\n",
    "    w3 = (W-w2)/2.            # S16-14: 12.3.3.3 c)\n",
    "    xbar = w3/2.\n",
    "    if L >= w3:\n",
    "        An3 = (1.-xbar/L)*w3*T\n",
    "    else:\n",
    "        An3 = 0.50*L*T\n",
    "    Ane = An2 + An3 + An3     # S16-14: 12.3.3.3 \n",
    "    Tr = phiu*Ane*Fu\n",
    "    RECORD(Tr,'Tongue Plate, Welded End, Net Section Fracture','L,w2,w3,An2,An3,Ane')"
   ]
  },
  {
   "cell_type": "markdown",
   "metadata": {},
   "source": [
    "## Fasteners\n",
    "### Bolts\n",
    "#### Shear"
   ]
  },
  {
   "cell_type": "code",
   "execution_count": 25,
   "metadata": {},
   "outputs": [
    {
     "data": {
      "text/plain": [
       "    Bolts in Shear: Tr = 948.1 kN\n",
       "       (n=6, m=2, d=19.05mm, Ab=285.0mm², Fu=825MPa, Vr=948100MPa·mm²)"
      ]
     },
     "metadata": {},
     "output_type": "display_data"
    }
   ],
   "source": [
    "with Bolts['d,Fu,threads_intercepted,s,nlines,nperline']:\n",
    "    n = nlines*nperline             # no. of bolts\n",
    "    m = 2                           # no. of faying surfaces\n",
    "    Ab = 3.14159*d*d/4.\n",
    "    Vr = 0.6*phib*n*m*Ab*Fu         # S16-14: 13.12.1.2 c)\n",
    "    L = (nlines-1)*s\n",
    "    if L >= 760*mm:\n",
    "        Vr = (0.5/0.6)*Vr\n",
    "    if threads_intercepted:\n",
    "        Vr = 0.7*Vr\n",
    "    RECORD(Vr,'Bolts in Shear','n,m,d,Ab,Fu,Vr')"
   ]
  },
  {
   "cell_type": "markdown",
   "metadata": {},
   "source": [
    "#### Bearing"
   ]
  },
  {
   "cell_type": "code",
   "execution_count": 26,
   "metadata": {},
   "outputs": [
    {
     "data": {
      "text/plain": [
       "    Bolts in Bearing: Tr = 2469 kN\n",
       "       (n=6, t=20mm, d=19.05mm, Fu=450MPa)"
      ]
     },
     "metadata": {},
     "output_type": "display_data"
    }
   ],
   "source": [
    "with Bolts['d,nlines,nperline'],TonguePlate['Fu']:\n",
    "    n = nlines*nperline\n",
    "    t = min(GussetPlate.T,TonguePlate.T,2*LapPlates.T)\n",
    "    Br = 3*phibr*n*t*d*Fu          # S16-14: 13.12.1.2 a)\n",
    "    RECORD(Br,'Bolts in Bearing','n,t,d,Fu')"
   ]
  },
  {
   "cell_type": "markdown",
   "metadata": {},
   "source": [
    "### Welds - HSS to Tongue Plate"
   ]
  },
  {
   "cell_type": "code",
   "execution_count": 27,
   "metadata": {},
   "outputs": [
    {
     "data": {
      "text/plain": [
       "    Fillet Weld (HSS to Plate): Tr = 497.6 kN    <<<--- GOVERNS\n",
       "       (D=8mm, L=100mm, Aw=2262mm², Xu=490MPa)"
      ]
     },
     "metadata": {},
     "output_type": "display_data"
    }
   ],
   "source": [
    "with TonguePlate['L=Lw,D'],Welds['Xu,matching']:\n",
    "    Aw = 4.*L*D*0.707\n",
    "    Vr = 0.67*phiw*Aw*Xu           # S16-14: 13.13.2.2\n",
    "    if matching:\n",
    "        RECORD(Vr,'Fillet Weld (HSS to Plate)','D,L,Aw,Xu')\n",
    "    else:\n",
    "        raise Exception('Non matching electrodes')"
   ]
  },
  {
   "cell_type": "markdown",
   "metadata": {},
   "source": [
    "## HSS + Cover Plate\n",
    "![HSS Details](hss-details.svg)"
   ]
  },
  {
   "cell_type": "markdown",
   "metadata": {},
   "source": [
    "### Net Section Fracture"
   ]
  },
  {
   "cell_type": "code",
   "execution_count": 28,
   "metadata": {},
   "outputs": [
    {
     "data": {
      "text/plain": [
       "    HSS Net Section Fracture: Tr = 1422 kN\n",
       "       (xbar=40.71mm, Lw=100mm, D=127.0mm, th=12.7mm, A=5390mm², Ag=6590mm², An=6082mm², Ane=4214mm², Fu=450MPa)"
      ]
     },
     "metadata": {},
     "output_type": "display_data"
    }
   ],
   "source": [
    "with HSS['D,th=T,A,Fyh=Fy,Fuh=Fu'],CoverPlate['tp=T,wp=W,Fyp=Fy,Fup=Fu'],TonguePlate['tt=T,Lw']:\n",
    "    Fy = min(Fyh,Fyp)     # use min properties of plate & HSS (conservative)\n",
    "    Fu = min(Fuh,Fup)\n",
    "\n",
    "    h = D/2. - th - tt/2.  # height of vertical leg\n",
    "    xbar = (2.*h*th*h/2. + D*th*(h+th/2.) + wp*tp*(h+th+tp/2.))/(2*h*th + D*th + wp*tp)\n",
    "    Ag = A + 2*wp*tp       # gross area of HSS + cover plates\n",
    "    An = Ag - 2.*tt*th     # net area, remove slots cut for tongue\n",
    "    if xbar/Lw > 0.1:                 # S16-14: 12.3.3.4\n",
    "        Ane = (1.1 - xbar/Lw)*An\n",
    "    else:\n",
    "        Ane = An\n",
    "    Tr = phiu*Ane*Fu                # S16-14: 13.2 a) iii)\n",
    "    RECORD(Tr,'HSS Net Section Fracture','xbar,Lw,D,th,A,Ag,An,Ane,Fu');"
   ]
  },
  {
   "cell_type": "markdown",
   "metadata": {},
   "source": [
    "### Gross Section Yield\n",
    "Of HSS _without_ coverplate."
   ]
  },
  {
   "cell_type": "code",
   "execution_count": 29,
   "metadata": {},
   "outputs": [
    {
     "data": {
      "text/plain": [
       "    HSS Gross Section Yield: Tr = 1698 kN\n",
       "       (Ag=5390mm², Fy=350MPa)"
      ]
     },
     "metadata": {},
     "output_type": "display_data"
    }
   ],
   "source": [
    "with HSS['A,Fy']:\n",
    "    Ag = A\n",
    "    Tr = phi*Ag*Fy          # S16-14: 13.2 a) i)\n",
    "    RECORD(Tr,'HSS Gross Section Yield','Ag,Fy');"
   ]
  },
  {
   "cell_type": "markdown",
   "metadata": {},
   "source": [
    "## Cover Plate to HSS Weld\n",
    "Ensure that the length of the weld can develop the full strength of the cover plate, between\n",
    "the slot end (@ minimum x-sect area) and end of HSS."
   ]
  },
  {
   "cell_type": "code",
   "execution_count": 30,
   "metadata": {},
   "outputs": [
    {
     "name": "stdout",
     "output_type": "stream",
     "text": [
      "    Coverplate weld strength, gross yield?  NG! *****\n",
      "      (L=90mm, D=6mm, Aw=763.6mm², Vr=168.0kN, Tr=189.0kN)\n",
      "    Coverplate weld strength, net fracture?  NG! *****\n",
      "      (L=90mm, W=60mm, An2=525.0mm², Ane=525.0mm², Vr=168.0kN, Tr=177.2kN)\n"
     ]
    }
   ],
   "source": [
    "with CoverPlate['T,W,L=Lw,D,Fy,Fu'],Welds['Xu'],CoverPlate['Fy,Fu']:\n",
    "    Aw = 0.707*D*L*2.\n",
    "    Vr = (0.67*phiw*Aw*Xu*1*1).to(kN)            # S16-14: 13.13.2.2, weld strength, to one side\n",
    "    Tr = (phi*(T*W)*Fy).to(kN)                   # S16-14: 13.2 a) i) gross section yield, of cover Plate\n",
    "\n",
    "    CHECK(Vr>=Tr,'Coverplate weld strength, gross yield','L,D,Aw,Vr,Tr')\n",
    "\n",
    "    An = W*T                             # S16-14: 12.3.3.3 b)\n",
    "    if L >= 2*W:                         # Ane of plate\n",
    "        An2 = W*T\n",
    "    elif L >= W:\n",
    "        An2 = 0.5*W*T + 0.25*L*T\n",
    "    else:\n",
    "        An2 = 0.75*L*T\n",
    "    Ane = An2\n",
    "    Tr = (phiu*An2*Fu).to(kN)         # S16-14: 13.2 a) iii)\n",
    "    CHECK(Vr>=Tr,'Coverplate weld strength, net fracture','L,W,An2,Ane,Vr,Tr');"
   ]
  },
  {
   "cell_type": "markdown",
   "metadata": {},
   "source": [
    "## To Do\n",
    "* Alterrnate method for cover plate wld check: Compute Tr with and without cover plate.  Diff is the reqd force\n",
    "in the cover plate. Ensure welds can develop that.\n",
    "* Check that gusset plate doesn't cause undue flexural problems in the flange of the HSS column member."
   ]
  },
  {
   "cell_type": "markdown",
   "metadata": {},
   "source": [
    "## Bolting Details"
   ]
  },
  {
   "cell_type": "markdown",
   "metadata": {},
   "source": [
    "### Lap Plates"
   ]
  },
  {
   "cell_type": "code",
   "execution_count": 31,
   "metadata": {},
   "outputs": [
    {
     "name": "stdout",
     "output_type": "stream",
     "text": [
      "    Bolt min edge distance, lap plate?  OK \n",
      "      (edge=40.0mm, minedge=32mm)\n",
      "    Bolt max edge distance, lap plate?  OK \n",
      "      (edge=40.0mm, maxedge=150mm)\n",
      "    Bolt min end distance, lap plate?  OK \n",
      "      (e=40mm, minend=32mm)\n",
      "    Bolt spacing, lap plate?  OK \n",
      "      (s=75mm, g=75mm, minpitch=51.43mm)\n"
     ]
    }
   ],
   "source": [
    "with LapPlates['W,T,L,e'],Bolts['s,g,nlines,nperline,d']:\n",
    "\n",
    "    minedge = 32*mm                # S16-14: 22.3.2 Table 6, 3/4\" bolt, sheared edge\n",
    "    maxedge = min(150*mm,12.*T)    # S16-14: 22.3.3\n",
    "    minend = 32*mm                 # S16-14: 22.3.4\n",
    "    minpitch = 2.7*d               # S16-14: 22.3.1\n",
    "\n",
    "    edge = (W - (nperline-1)*g)/2.\n",
    "    CHECK(edge>=minedge,'Bolt min edge distance, lap plate','edge,minedge',)\n",
    "    CHECK(edge<=maxedge,'Bolt max edge distance, lap plate','edge,maxedge',)\n",
    "    CHECK(e>=minend,'Bolt min end distance, lap plate','e,minend',)\n",
    "    CHECK(s>=minpitch and g>=minpitch,'Bolt spacing, lap plate','s,g,minpitch')"
   ]
  },
  {
   "cell_type": "markdown",
   "metadata": {},
   "source": [
    "### Tongue Plate"
   ]
  },
  {
   "cell_type": "code",
   "execution_count": 32,
   "metadata": {},
   "outputs": [],
   "source": [
    "# TODO"
   ]
  },
  {
   "cell_type": "markdown",
   "metadata": {},
   "source": [
    "### Gusset Plate"
   ]
  },
  {
   "cell_type": "code",
   "execution_count": 33,
   "metadata": {},
   "outputs": [],
   "source": [
    "# TODO"
   ]
  },
  {
   "cell_type": "markdown",
   "metadata": {},
   "source": [
    "## Welding Details"
   ]
  },
  {
   "cell_type": "markdown",
   "metadata": {},
   "source": [
    "### HSS to Tongue"
   ]
  },
  {
   "cell_type": "code",
   "execution_count": 34,
   "metadata": {},
   "outputs": [],
   "source": [
    "# TODO"
   ]
  },
  {
   "cell_type": "markdown",
   "metadata": {},
   "source": [
    "### Cover PLate to HSS"
   ]
  },
  {
   "cell_type": "code",
   "execution_count": 35,
   "metadata": {},
   "outputs": [],
   "source": [
    "# TODO"
   ]
  },
  {
   "cell_type": "markdown",
   "metadata": {},
   "source": [
    "## Summary"
   ]
  },
  {
   "cell_type": "code",
   "execution_count": 36,
   "metadata": {},
   "outputs": [
    {
     "name": "stdout",
     "output_type": "stream",
     "text": [
      "\n",
      "Summary of DesignNotes for Tr: Typical HSS Cross Brace\n",
      "======================================================\n",
      "\n",
      "Checks:\n",
      "-------\n",
      "    Coverplate weld strength, gross yield?    NG! *****\n",
      "      (L=90mm, D=6mm, Aw=763.6mm², Vr=168.0kN, Tr=189.0kN)\n",
      "    Coverplate weld strength, net fracture?   NG! *****\n",
      "      (L=90mm, W=60mm, An2=525.0mm², Ane=525.0mm², Vr=168.0kN, Tr=177.2kN)\n",
      "    Bolt min edge distance, lap plate?        OK \n",
      "      (edge=40.0mm, minedge=32mm)\n",
      "    Bolt max edge distance, lap plate?        OK \n",
      "      (edge=40.0mm, maxedge=150mm)\n",
      "    Bolt min end distance, lap plate?         OK \n",
      "      (e=40mm, minend=32mm)\n",
      "    Bolt spacing, lap plate?                  OK \n",
      "      (s=75mm, g=75mm, minpitch=51.43mm)\n",
      "\n",
      "Values of Tr:\n",
      "-------------\n",
      "    Gusset to HSS Weld:                             Tr = 2010 kN\n",
      "    Gusset Block Shear Case 1):                     Tr = 1520 kN\n",
      "    Gusset Block Shear Case 2):                     Tr = 1250 kN\n",
      "    Gusset tearout:                                 Tr = 2480 kN\n",
      "    Lap Plates, Gross Yield:                        Tr = 1450 kN\n",
      "    Lap Plates, Net Fracture:                       Tr = 1070 kN\n",
      "    Lap Plates, Block Shear Case 1):                Tr = 1520 kN\n",
      "    Lap Plates, Block Shear Case 2):                Tr = 1120 kN\n",
      "    Lap Plates, Block Shear Case 3):                Tr = 1260 kN\n",
      "    Lap Plates, tearout:                            Tr = 2480 kN\n",
      "    Tongue Plate, Gross Yield:                      Tr = 1760 kN\n",
      "    Tongue Plate, Bolted End, Net Section Fracture: Tr = 1400 kN\n",
      "    Tongue Plate, Block Shear Case 1):              Tr = 1520 kN\n",
      "    Tongue Plate, Block Shear Case 2):              Tr = 1250 kN\n",
      "    Tongue Plate, Block Shear Case 3):              Tr = 1460 kN\n",
      "    Tongue Plate tearout:                           Tr = 2480 kN\n",
      "    Tongue Plate, Welded End, Net Section Fracture: Tr = 1140 kN\n",
      "    Bolts in Shear:                                 Tr = 948 kN\n",
      "    Bolts in Bearing:                               Tr = 2470 kN\n",
      "    Fillet Weld (HSS to Plate):                     Tr = 498 kN    <<<--- GOVERNS\n",
      "    HSS Net Section Fracture:                       Tr = 1420 kN\n",
      "    HSS Gross Section Yield:                        Tr = 1700 kN\n",
      "\n",
      "    Governing Value:\n",
      "    ----------------\n",
      "       Tr = 498 kN\n"
     ]
    }
   ],
   "source": [
    "notes.summary()"
   ]
  },
  {
   "cell_type": "markdown",
   "metadata": {},
   "source": [
    "## Notes\n",
    "\n",
    "* The factored resistance of this component is low, governed by the weld of the HSS to the tongue plate.  Its capacity is 498 kN, almost 1/2 of the next lowest item (the shear strength of the bolts).\n",
    "* To increase the overall strength, the first thing to do would be to increase length of that weld from 100mm to something considerably larger. 200mm of weld would require increasing the length of tongue from 280mm to 380mm but would double that strength at very small cost.\n",
    "* The cover plate welding to the HSS may be inadequate as it is shown. Increasing the length of the HSS to tongue weld will leave space for more weld on the cover plate, up to 190mm on one side of the minimum cross-section, which should be more than enough.\n",
    "* Increasing the HSS to tongue plate weld length may also increase $T_r$ for _Tongue Plate, Welded End, Net Section Fracture_ and _HSS Net Section Fracture_."
   ]
  }
 ],
 "metadata": {
  "kernelspec": {
   "display_name": "Python 3",
   "language": "python",
   "name": "python3"
  },
  "language_info": {
   "codemirror_mode": {
    "name": "ipython",
    "version": 3
   },
   "file_extension": ".py",
   "mimetype": "text/x-python",
   "name": "python",
   "nbconvert_exporter": "python",
   "pygments_lexer": "ipython3",
   "version": "3.6.8"
  }
 },
 "nbformat": 4,
 "nbformat_minor": 2
}
