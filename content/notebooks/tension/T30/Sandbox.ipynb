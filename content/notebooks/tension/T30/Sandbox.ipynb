{
 "cells": [
  {
   "cell_type": "code",
   "execution_count": 1,
   "metadata": {},
   "outputs": [],
   "source": [
    "from Designer import DesignNotes, SST\n",
    "import math\n",
    "sind = lambda deg: math.sin(math.radians(deg))  # return sin of angle expressed in degrees\n",
    "cosd = lambda deg: math.cos(math.radians(deg))  # return cos of angle expressed in degrees"
   ]
  },
  {
   "cell_type": "code",
   "execution_count": 2,
   "metadata": {},
   "outputs": [],
   "source": [
    "import pint                  # setup to use the module for computing with units\n",
    "ureg = pint.UnitRegistry()\n",
    "mm = ureg['mm']              # define symbols for the units used below\n",
    "inch = ureg['inch']\n",
    "kN = ureg['kN']\n",
    "MPa = ureg['MPa']\n",
    "ureg.default_format = '~P'"
   ]
  },
  {
   "cell_type": "code",
   "execution_count": 3,
   "metadata": {},
   "outputs": [],
   "source": [
    "class PartMeta(type):\n",
    "    \n",
    "    def __call__(cls,*args,**kwargs):\n",
    "        raise TypeError(\"It is not possible to create an instance of this class: \"+repr(cls))\n",
    "    \n",
    "    def __getitem__(cls,keys):\n",
    "        if not type(keys) == type(()):\n",
    "            keys = (keys,)\n",
    "        ##print(cls,keys)\n",
    "        newdct = {}\n",
    "        cls_ns = None\n",
    "        dct = cls.__ns__()\n",
    "        for names in keys:\n",
    "            for k in names.split(','):\n",
    "                k = k.strip()\n",
    "                if not k:\n",
    "                    continue\n",
    "                if '=' in k:\n",
    "                    k,e = k.split('=',1)\n",
    "                    k = k.strip()\n",
    "                    if cls_ns is None:\n",
    "                        cls_ns = (globals(),cls.ns())\n",
    "                    v = eval(e,*cls_ns)\n",
    "                    newdct[k] = v\n",
    "                else:\n",
    "                    newdct[k] = dct[k]\n",
    "        newdct['__doc__'] = dct.get('__doc__')\n",
    "        newname = cls.__name__ + '_Partial'\n",
    "        return PartMeta(newname,cls.__bases__,newdct)\n",
    "\n",
    "    def __enter__(cls):\n",
    "        \"\"\"Add all attributes/values to the set of global variables.\n",
    "        Save enough state so that they can be restored when the context\n",
    "        manager exits.\"\"\"\n",
    "        if not hasattr(cls,'__saved'):\n",
    "            cls.__saved = []\n",
    "        dct = cls.__dict__\n",
    "        _new = []                # save a list of newly added variables\n",
    "        _old = {}                # remember values of those that already exist in ns.\n",
    "        ns = get_ipython().user_ns  # get the ns for the user\n",
    "        for k,v in dct.items():\n",
    "            if k in ns:\n",
    "                _old[k] = ns[k]\n",
    "            else:\n",
    "                _new.append(k)\n",
    "            ns[k] = v\n",
    "        cls.__saved.append((_new,_old))\n",
    "##        print('Push:',dct.keys(),_new,_old)\n",
    "        return cls\n",
    "    \n",
    "    def __exit__(cls,*l):\n",
    "        \"\"\"When the context exits, restore the global values to what they\n",
    "        were before entering.\"\"\"\n",
    "        _new,_old = cls.__saved.pop()\n",
    "##        print('Pop:',_new,_old)\n",
    "        ns = get_ipython().user_ns  # get the ns for the user\n",
    "        for k,v in _old.items():\n",
    "            ns[k] = v              # restore old values\n",
    "        for k in _new:\n",
    "            del ns[k]              # or delete them if they were newly created\n",
    "        if not cls.__saved:\n",
    "            del cls.__saved\n",
    "        return False              # to re-raise exceptions\n",
    "    \n",
    "    def __ns__(cls):\n",
    "        \"\"\"Return the namespace.\"\"\"\n",
    "        ans = {}\n",
    "        for c in cls.__mro__:\n",
    "            if c in (Part,object):\n",
    "                continue\n",
    "            for k,v in c.__dict__.items():\n",
    "                if not k.startswith('_'):\n",
    "                    if k not in ans:\n",
    "                        ans[k] = v\n",
    "        return ans\n",
    "\n",
    "    def __show__(cls,keys=None):\n",
    "        \"\"\"Show variables in same form as show() function. If keys is None,\n",
    "        show all with _doc first.  keys can be like in show - ie, expressions,\n",
    "        scales, label=expr, etc..\"\"\"\n",
    "        v = cls.ns()\n",
    "        if keys is None:\n",
    "            pairs = sorted([(k.lower(),k) for k in v.keys()])\n",
    "            keys = ','.join([o for k,o in pairs])\n",
    "        show(keys,data=v)\n",
    "\n",
    "class Part(metaclass=PartMeta):\n",
    "    \n",
    "    pass\n",
    "     \n",
    "def makePart(cls):\n",
    "    \"\"\"Returns an object of type Part from the class definition and class attributes\n",
    "    of 'cls'.  Intended to be used as a decorator so we can use class definitions\n",
    "    to build parts (syntactic sugar).\"\"\"\n",
    "    dct = cls.__dict__\n",
    "    bases = cls.__bases__\n",
    "    newdct = {k:v for k,v in dct.items() if not k.startswith('__')}\n",
    "    return PartMeta(cls.__name__,bases,newdct)\n"
   ]
  },
  {
   "cell_type": "code",
   "execution_count": 4,
   "metadata": {},
   "outputs": [],
   "source": [
    "class Bolts(Part):\n",
    "    'Bolts'   # bolt group is the same on the tongue plate and on the gusset plate.\n",
    "    grade = 'ASTM A325'\n",
    "    size = '3/4\"'\n",
    "    Fu = 825*MPa\n",
    "    d = (3/4*inch).to(mm)\n",
    "    hole_type = 'punched'\n",
    "    hd = 22*mm            # hole diameter\n",
    "    ha = hd + 2*mm        # hole allowance\n",
    "    threads_intercepted = True\n",
    "    nlines = 2            # a line is perpendicular to load\n",
    "    nperline = 3          # number of bolts in each line\n",
    "    g = 75*mm             # gauge (perpendicular to load)\n",
    "    s = 75*mm             # spacing (parallel to load)\n",
    "\n",
    "class Welds(Part):\n",
    "    'Welds'\n",
    "    grade = 'E49xx'\n",
    "    Xu = 490*MPa\n",
    "    matching = True\n",
    "\n",
    "class Plates(Part):\n",
    "    'Plates'\n",
    "    grade = 'CSA G40.21 350W'\n",
    "    Fy = 350*MPa\n",
    "    Fu = 450*MPa\n",
    "\n",
    "class HSS(Part):\n",
    "    'HSS Column'\n",
    "    grade = 'CSA G40.21 350W'\n",
    "    Fy = 350*MPa\n",
    "    Fu = 450*MPa\n",
    "    size = 'HS127x127x13'\n",
    "    D,T,A = SST.section(size,'D,T,A')\n",
    "    D = D*mm\n",
    "    T = T*mm\n",
    "    A = A*mm*mm    \n",
    "\n",
    "class CoverPlate(Plates):\n",
    "    'Cover Plate'\n",
    "    T = 10*mm\n",
    "    W = 60*mm\n",
    "    Lw = 90*mm      # length of weld from net section to end of HSS\n",
    "    D = 6*mm        # size of weld from on HSS.\n",
    "   \n",
    "class TonguePlate(Plates):\n",
    "    'Tongue Plate'\n",
    "    T = 20*mm\n",
    "    W = 280*mm\n",
    "    L = 260*mm\n",
    "    e = 40*mm\n",
    "    D = 8*mm       # weld size\n",
    "    c = 45*mm      # dist end of weld to 1st bolt line  \n",
    "    Lw = L - (c + (Bolts.nlines-1)*Bolts.s + e)\n",
    "    Dh = SST.section(HSS.size,'D')*mm\n",
    "    ns = 10\n",
    "\n",
    "class GussetPlate(TonguePlate['T,W'],Plates): \n",
    "    'Gusset Plate'\n",
    "    W2 = 110*mm\n",
    "    e = 40*mm    # end distance\n",
    "    D = 8*mm     # plate to column weld size\n",
    "    theta = 45. "
   ]
  },
  {
   "cell_type": "code",
   "execution_count": 5,
   "metadata": {},
   "outputs": [
    {
     "data": {
      "text/plain": [
       "mappingproxy({__module__: __main__,\n",
       "              __doc__: Plates,\n",
       "              grade: CSA G40.21 350W,\n",
       "              Fy: 350 <Unit('megapascal')>,\n",
       "              Fu: 450 <Unit('megapascal')>})"
      ]
     },
     "execution_count": 5,
     "metadata": {},
     "output_type": "execute_result"
    }
   ],
   "source": [
    "vars(Plates)"
   ]
  },
  {
   "cell_type": "code",
   "execution_count": 6,
   "metadata": {},
   "outputs": [
    {
     "data": {
      "text/plain": [
       "mappingproxy({__module__: __main__,\n",
       "              __doc__: Tongue Plate,\n",
       "              T: 20 <Unit('millimeter')>,\n",
       "              W: 280 <Unit('millimeter')>,\n",
       "              L: 260 <Unit('millimeter')>,\n",
       "              e: 40 <Unit('millimeter')>,\n",
       "              D: 8 <Unit('millimeter')>,\n",
       "              c: 45 <Unit('millimeter')>,\n",
       "              Lw: 100 <Unit('millimeter')>,\n",
       "              Dh: 127.0 <Unit('millimeter')>,\n",
       "              ns: 10})"
      ]
     },
     "execution_count": 6,
     "metadata": {},
     "output_type": "execute_result"
    }
   ],
   "source": [
    "vars(TonguePlate)"
   ]
  },
  {
   "cell_type": "code",
   "execution_count": 7,
   "metadata": {},
   "outputs": [
    {
     "data": {
      "text/plain": [
       "[__main__.TonguePlate, __main__.Plates, __main__.Part, object]"
      ]
     },
     "execution_count": 7,
     "metadata": {},
     "output_type": "execute_result"
    }
   ],
   "source": [
    "TonguePlate.mro()"
   ]
  },
  {
   "cell_type": "code",
   "execution_count": 8,
   "metadata": {},
   "outputs": [
    {
     "name": "stdout",
     "output_type": "stream",
     "text": [
      "<class '__main__.TonguePlate'>\n",
      "{'__module__': '__main__', '__doc__': 'Tongue Plate', 'T': <Quantity(20, 'millimeter')>, 'W': <Quantity(280, 'millimeter')>, 'L': <Quantity(260, 'millimeter')>, 'e': <Quantity(40, 'millimeter')>, 'D': <Quantity(8, 'millimeter')>, 'c': <Quantity(45, 'millimeter')>, 'Lw': <Quantity(100, 'millimeter')>, 'Dh': <Quantity(127.0, 'millimeter')>, 'ns': 10}\n",
      "\n",
      "<class '__main__.Plates'>\n",
      "{'__module__': '__main__', '__doc__': 'Plates', 'grade': 'CSA G40.21 350W', 'Fy': <Quantity(350, 'megapascal')>, 'Fu': <Quantity(450, 'megapascal')>}\n",
      "\n",
      "<class '__main__.Part'>\n",
      "{'__module__': '__main__', '__dict__': <attribute '__dict__' of 'Part' objects>, '__weakref__': <attribute '__weakref__' of 'Part' objects>, '__doc__': None}\n",
      "\n",
      "<class 'object'>\n",
      "{'__repr__': <slot wrapper '__repr__' of 'object' objects>, '__hash__': <slot wrapper '__hash__' of 'object' objects>, '__str__': <slot wrapper '__str__' of 'object' objects>, '__getattribute__': <slot wrapper '__getattribute__' of 'object' objects>, '__setattr__': <slot wrapper '__setattr__' of 'object' objects>, '__delattr__': <slot wrapper '__delattr__' of 'object' objects>, '__lt__': <slot wrapper '__lt__' of 'object' objects>, '__le__': <slot wrapper '__le__' of 'object' objects>, '__eq__': <slot wrapper '__eq__' of 'object' objects>, '__ne__': <slot wrapper '__ne__' of 'object' objects>, '__gt__': <slot wrapper '__gt__' of 'object' objects>, '__ge__': <slot wrapper '__ge__' of 'object' objects>, '__init__': <slot wrapper '__init__' of 'object' objects>, '__new__': <built-in method __new__ of type object at 0x8583a0>, '__reduce_ex__': <method '__reduce_ex__' of 'object' objects>, '__reduce__': <method '__reduce__' of 'object' objects>, '__subclasshook__': <method '__subclasshook__' of 'object' objects>, '__init_subclass__': <method '__init_subclass__' of 'object' objects>, '__format__': <method '__format__' of 'object' objects>, '__sizeof__': <method '__sizeof__' of 'object' objects>, '__dir__': <method '__dir__' of 'object' objects>, '__class__': <attribute '__class__' of 'object' objects>, '__doc__': 'The most base type'}\n",
      "\n"
     ]
    }
   ],
   "source": [
    "for o in TonguePlate.mro():\n",
    "    print(o)\n",
    "    print(o.__dict__)\n",
    "    print()"
   ]
  },
  {
   "cell_type": "code",
   "execution_count": 9,
   "metadata": {},
   "outputs": [
    {
     "data": {
      "text/plain": [
       "{T: 20 <Unit('millimeter')>,\n",
       " W: 280 <Unit('millimeter')>,\n",
       " L: 260 <Unit('millimeter')>,\n",
       " e: 40 <Unit('millimeter')>,\n",
       " D: 8 <Unit('millimeter')>,\n",
       " c: 45 <Unit('millimeter')>,\n",
       " Lw: 100 <Unit('millimeter')>,\n",
       " Dh: 127.0 <Unit('millimeter')>,\n",
       " ns: 10,\n",
       " grade: CSA G40.21 350W,\n",
       " Fy: 350 <Unit('megapascal')>,\n",
       " Fu: 450 <Unit('megapascal')>}"
      ]
     },
     "execution_count": 9,
     "metadata": {},
     "output_type": "execute_result"
    }
   ],
   "source": [
    "d = TonguePlate.__ns__()\n",
    "d"
   ]
  },
  {
   "cell_type": "code",
   "execution_count": 10,
   "metadata": {},
   "outputs": [
    {
     "data": {
      "text/plain": [
       "\u001b[0;31mDocstring:\u001b[0m D.clear() -> None.  Remove all items from D.\n",
       "\u001b[0;31mType:\u001b[0m      builtin_function_or_method\n"
      ]
     },
     "metadata": {},
     "output_type": "display_data"
    }
   ],
   "source": [
    "d.clear?"
   ]
  },
  {
   "cell_type": "code",
   "execution_count": 11,
   "metadata": {},
   "outputs": [
    {
     "data": {
      "text/plain": [
       "mappingproxy({__module__: __main__,\n",
       "              __dict__: <attribute '__dict__' of 'Part' objects>,\n",
       "              __weakref__: <attribute '__weakref__' of 'Part' objects>,\n",
       "              __doc__: None})"
      ]
     },
     "execution_count": 11,
     "metadata": {},
     "output_type": "execute_result"
    }
   ],
   "source": [
    "Part.__dict__"
   ]
  },
  {
   "cell_type": "code",
   "execution_count": 12,
   "metadata": {},
   "outputs": [],
   "source": [
    "def SV(s,*objs,**kwds):\n",
    "    ns = {}\n",
    "    for o in reversed(objs):\n",
    "        ns.update(o.__ns__())\n",
    "    ns.update(kwds)\n",
    "    return ns"
   ]
  },
  {
   "cell_type": "code",
   "execution_count": 15,
   "metadata": {},
   "outputs": [
    {
     "data": {
      "text/plain": [
       "{T: 10 <Unit('millimeter')>,\n",
       " W: 60 <Unit('millimeter')>,\n",
       " L: 260 <Unit('millimeter')>,\n",
       " e: 40 <Unit('millimeter')>,\n",
       " D: 6 <Unit('millimeter')>,\n",
       " c: 45 <Unit('millimeter')>,\n",
       " Lw: 90 <Unit('millimeter')>,\n",
       " Dh: 127.0 <Unit('millimeter')>,\n",
       " ns: 10,\n",
       " grade: CSA G40.21 350W,\n",
       " Fy: 350 <Unit('megapascal')>,\n",
       " Fu: 450 <Unit('megapascal')>,\n",
       " LL: 300}"
      ]
     },
     "execution_count": 15,
     "metadata": {},
     "output_type": "execute_result"
    }
   ],
   "source": [
    "SV('',CoverPlate,TonguePlate,LL=300)"
   ]
  },
  {
   "cell_type": "code",
   "execution_count": 16,
   "metadata": {},
   "outputs": [],
   "source": [
    "def _setup(self):\n",
    "    \"\"\"Add all attributes/values to the set of global variables.\n",
    "    Save enough state so that they can be restored when the context\n",
    "    manager exits.\"\"\"\n",
    "    gns = get_ipython().user_ns  # get the ns for the user\n",
    "    d = {}\n",
    "    gns = get_ipython().user_ns\n",
    "    for ob in self.objattrs:\n",
    "        if ispartial(ob):\n",
    "            for target,value in ob.ns().items():\n",
    "                if target in d:\n",
    "                    raise DesignerError('''Name '{}' has been used more than once.'''.format(target))\n",
    "                d[target] = value\n",
    "            continue\n",
    "        else:\n",
    "            obj,names = ob\n",
    "        objns = obj.ns()\n",
    "        for expr in se_split(names):\n",
    "            if '=' in expr:\n",
    "                target,rhs = [x.strip() for x in expr.split('=',1)]\n",
    "                if rhs in objns:\n",
    "                    value = objns[rhs]\n",
    "                else:\n",
    "                    value = eval(rhs,gns,objns)\n",
    "            else:\n",
    "                target = expr\n",
    "                value = objns[expr]\n",
    "            if target in d:\n",
    "                raise DesignerError('''Name '{}' has been used more than once.'''.format(target))\n",
    "            d[target] = value\n",
    "    self.new_values = d\n",
    "    self.local_vars = [y for y in [x.strip() for x in self.local.split(',')] if y] + [self.result_var]\n",
    "    self.global_vars = [y for y in [x.strip() for x in self.globals.split(',')] if y]\n",
    "\n",
    "    self.changed_values = {}\n",
    "    self.added_vars = []\n"
   ]
  },
  {
   "cell_type": "code",
   "execution_count": null,
   "metadata": {},
   "outputs": [],
   "source": []
  }
 ],
 "metadata": {
  "kernelspec": {
   "display_name": "Python 3",
   "language": "python",
   "name": "python3"
  },
  "language_info": {
   "codemirror_mode": {
    "name": "ipython",
    "version": 3
   },
   "file_extension": ".py",
   "mimetype": "text/x-python",
   "name": "python",
   "nbconvert_exporter": "python",
   "pygments_lexer": "ipython3",
   "version": "3.7.5"
  }
 },
 "nbformat": 4,
 "nbformat_minor": 4
}
