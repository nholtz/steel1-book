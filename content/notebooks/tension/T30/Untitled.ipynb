{
 "cells": [
  {
   "cell_type": "code",
   "execution_count": 1,
   "metadata": {},
   "outputs": [],
   "source": [
    "i = get_ipython()"
   ]
  },
  {
   "cell_type": "code",
   "execution_count": 2,
   "metadata": {},
   "outputs": [
    {
     "data": {
      "text/plain": [
       "<ipykernel.zmqshell.ZMQInteractiveShell at 0x7f7149f19710>"
      ]
     },
     "execution_count": 2,
     "metadata": {},
     "output_type": "execute_result"
    }
   ],
   "source": [
    "i"
   ]
  },
  {
   "cell_type": "code",
   "execution_count": 3,
   "metadata": {},
   "outputs": [
    {
     "data": {
      "text/plain": [
       "\u001b[0;31mSignature:\u001b[0m \u001b[0mi\u001b[0m\u001b[0;34m.\u001b[0m\u001b[0mrun_cell\u001b[0m\u001b[0;34m(\u001b[0m\u001b[0;34m*\u001b[0m\u001b[0margs\u001b[0m\u001b[0;34m,\u001b[0m \u001b[0;34m**\u001b[0m\u001b[0mkwargs\u001b[0m\u001b[0;34m)\u001b[0m\u001b[0;34m\u001b[0m\u001b[0;34m\u001b[0m\u001b[0m\n",
       "\u001b[0;31mDocstring:\u001b[0m\n",
       "Run a complete IPython cell.\n",
       "\n",
       "Parameters\n",
       "----------\n",
       "raw_cell : str\n",
       "  The code (including IPython code such as %magic functions) to run.\n",
       "store_history : bool\n",
       "  If True, the raw and translated cell will be stored in IPython's\n",
       "  history. For user code calling back into IPython's machinery, this\n",
       "  should be set to False.\n",
       "silent : bool\n",
       "  If True, avoid side-effects, such as implicit displayhooks and\n",
       "  and logging.  silent=True forces store_history=False.\n",
       "shell_futures : bool\n",
       "  If True, the code will share future statements with the interactive\n",
       "  shell. It will both be affected by previous __future__ imports, and\n",
       "  any __future__ imports in the code will affect the shell. If False,\n",
       "  __future__ imports are not shared in either direction.\n",
       "\n",
       "Returns\n",
       "-------\n",
       "result : :class:`ExecutionResult`\n",
       "\u001b[0;31mFile:\u001b[0m      /usr/local/lib/python3.6/dist-packages/ipykernel/zmqshell.py\n",
       "\u001b[0;31mType:\u001b[0m      method\n"
      ]
     },
     "metadata": {},
     "output_type": "display_data"
    }
   ],
   "source": [
    "i.run_cell?"
   ]
  },
  {
   "cell_type": "code",
   "execution_count": 4,
   "metadata": {},
   "outputs": [
    {
     "data": {
      "text/plain": [
       "{'In': ['',\n",
       "  'i = get_ipython()',\n",
       "  'i',\n",
       "  \"get_ipython().run_line_magic('pinfo', 'i.run_cell')\",\n",
       "  'i.user_ns'],\n",
       " 'Out': {2: <ipykernel.zmqshell.ZMQInteractiveShell at 0x7f7149f19710>},\n",
       " '_': <ipykernel.zmqshell.ZMQInteractiveShell at 0x7f7149f19710>,\n",
       " '_2': <ipykernel.zmqshell.ZMQInteractiveShell at 0x7f7149f19710>,\n",
       " '__': '',\n",
       " '___': '',\n",
       " '__builtin__': <module 'builtins' (built-in)>,\n",
       " '__builtins__': <module 'builtins' (built-in)>,\n",
       " '__doc__': 'Automatically created module for IPython interactive environment',\n",
       " '__loader__': None,\n",
       " '__name__': '__main__',\n",
       " '__package__': None,\n",
       " '__spec__': None,\n",
       " '_dh': ['/files/work/git/steel1-book/content/notebooks/tension/T30'],\n",
       " '_i': 'i.run_cell?',\n",
       " '_i1': 'i = get_ipython()',\n",
       " '_i2': 'i',\n",
       " '_i3': 'i.run_cell?',\n",
       " '_i4': 'i.user_ns',\n",
       " '_ih': ['',\n",
       "  'i = get_ipython()',\n",
       "  'i',\n",
       "  \"get_ipython().run_line_magic('pinfo', 'i.run_cell')\",\n",
       "  'i.user_ns'],\n",
       " '_ii': 'i',\n",
       " '_iii': 'i = get_ipython()',\n",
       " '_oh': {2: <ipykernel.zmqshell.ZMQInteractiveShell at 0x7f7149f19710>},\n",
       " 'exit': <IPython.core.autocall.ZMQExitAutocall at 0x7f7148ccbc50>,\n",
       " 'get_ipython': <bound method InteractiveShell.get_ipython of <ipykernel.zmqshell.ZMQInteractiveShell object at 0x7f7149f19710>>,\n",
       " 'i': <ipykernel.zmqshell.ZMQInteractiveShell at 0x7f7149f19710>,\n",
       " 'quit': <IPython.core.autocall.ZMQExitAutocall at 0x7f7148ccbc50>,\n",
       " 'sys': <module 'sys' (built-in)>}"
      ]
     },
     "execution_count": 4,
     "metadata": {},
     "output_type": "execute_result"
    }
   ],
   "source": [
    "i.user_ns"
   ]
  },
  {
   "cell_type": "code",
   "execution_count": null,
   "metadata": {},
   "outputs": [],
   "source": []
  }
 ],
 "metadata": {
  "kernelspec": {
   "display_name": "Python 3",
   "language": "python",
   "name": "python3"
  },
  "language_info": {
   "codemirror_mode": {
    "name": "ipython",
    "version": 3
   },
   "file_extension": ".py",
   "mimetype": "text/x-python",
   "name": "python",
   "nbconvert_exporter": "python",
   "pygments_lexer": "ipython3",
   "version": "3.6.8"
  }
 },
 "nbformat": 4,
 "nbformat_minor": 2
}
