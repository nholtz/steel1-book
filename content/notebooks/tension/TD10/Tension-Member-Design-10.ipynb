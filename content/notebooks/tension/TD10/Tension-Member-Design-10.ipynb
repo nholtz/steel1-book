{
 "cells": [
  {
   "cell_type": "markdown",
   "metadata": {},
   "source": [
    "# Design of a Tension Member and End Connections\n",
    "\n",
    "This design examples considers an HSS tension member, slotted to accept bolted plate connections.\n",
    "\n",
    "The following data are given:\n",
    "\n",
    "| Property | Value |\n",
    "|----------|:-------:|\n",
    "|  $T_f$   | 800 kN|\n",
    "| Angles   | 300W  |\n",
    "| Plates   | 300W |\n",
    "| HSS      | 350W |\n",
    "| W        | A992 |\n",
    "| Bolts    | A325 3/4\" |\n",
    "| Holes    | 22 mm punched |\n",
    "| Electrodes | E49xx |"
   ]
  },
  {
   "cell_type": "code",
   "execution_count": 1,
   "metadata": {},
   "outputs": [],
   "source": [
    "# set the default precion for display of floating point numbers\n",
    "%precision 3\n",
    "\n",
    "# import useful utilities\n",
    "from sst import SST\n",
    "sst = SST()\n",
    "from utils import show"
   ]
  },
  {
   "cell_type": "code",
   "execution_count": 2,
   "metadata": {},
   "outputs": [],
   "source": [
    "phi = 0.9\n",
    "phiu = 0.75\n",
    "phib = 0.8\n",
    "phibr = 0.8\n",
    "phiw = 0.67\n",
    "\n",
    "aFy = 300   # angles\n",
    "aFu = 440\n",
    "pFy = 300   # plates\n",
    "pFu = 440\n",
    "hFy = 350   # HSS\n",
    "hFu = 450\n",
    "wFy = 345   # W shapes\n",
    "wFu = 450\n",
    "bFu = 825   # bolt\n",
    "Xu = 490    # weld\n",
    "bd = 25.4 * 0.75   # 3/4\" bolt\n",
    "hd = 22 + 2       # in 22mm punched holes"
   ]
  },
  {
   "cell_type": "code",
   "execution_count": 3,
   "metadata": {},
   "outputs": [],
   "source": [
    "Tf = 800     # Factored applied load"
   ]
  },
  {
   "cell_type": "markdown",
   "metadata": {},
   "source": [
    "## 1: HSS Tension Member\n",
    "\n",
    "Tension brace will be bolted into frame.  Net area fracture is often the governing case.  Reasonable\n",
    "estimates are $A_{n} = 0.9 A_g$ and $A_ne = 0.85 A_n$.  Therefore, a first estimate of cross-sectional\n",
    "area required is, without differentiating material strengths, is:\n",
    "\n",
    "$$\n",
    "\\phi_u \\times 0.85 \\times 0.9 A_g \\times Fu \\ge T_f\n",
    "$$\n",
    "\n",
    "$$\n",
    "A_g \\ge \\frac{T_f}{\\phi_u 0.85 \\times 0.9 Fu}\n",
    "$$"
   ]
  },
  {
   "cell_type": "code",
   "execution_count": 4,
   "metadata": {},
   "outputs": [
    {
     "data": {
      "text/plain": [
       "2582.103"
      ]
     },
     "execution_count": 4,
     "metadata": {},
     "output_type": "execute_result"
    }
   ],
   "source": [
    "Tf/(phi*0.85*0.9*450*1E-3)"
   ]
  },
  {
   "cell_type": "markdown",
   "metadata": {},
   "source": [
    "Therefore, look for a square HSS of at least this cross-sectional area:\n",
    "\n",
    ">   _Gentle Reader:_ If you find the following 'python-pandas magic' hard to understand,\n",
    ">   don't worry about it.  Its just a digital equivalent of searching through\n",
    ">   the properties and dimensions tables in Part 6 of the CISC handbook of Steel Construction."
   ]
  },
  {
   "cell_type": "code",
   "execution_count": 5,
   "metadata": {},
   "outputs": [
    {
     "data": {
      "text/html": [
       "<div>\n",
       "<style scoped>\n",
       "    .dataframe tbody tr th:only-of-type {\n",
       "        vertical-align: middle;\n",
       "    }\n",
       "\n",
       "    .dataframe tbody tr th {\n",
       "        vertical-align: top;\n",
       "    }\n",
       "\n",
       "    .dataframe thead th {\n",
       "        text-align: right;\n",
       "    }\n",
       "</style>\n",
       "<table border=\"1\" class=\"dataframe\">\n",
       "  <thead>\n",
       "    <tr style=\"text-align: right;\">\n",
       "      <th></th>\n",
       "      <th>A</th>\n",
       "      <th>T</th>\n",
       "      <th>Mass</th>\n",
       "    </tr>\n",
       "    <tr>\n",
       "      <th>Dsg</th>\n",
       "      <th></th>\n",
       "      <th></th>\n",
       "      <th></th>\n",
       "    </tr>\n",
       "  </thead>\n",
       "  <tbody>\n",
       "    <tr>\n",
       "      <th>HS114x114x6.4</th>\n",
       "      <td>2640.0</td>\n",
       "      <td>6.35</td>\n",
       "      <td>20.7</td>\n",
       "    </tr>\n",
       "    <tr>\n",
       "      <th>HS152x152x4.8</th>\n",
       "      <td>2760.0</td>\n",
       "      <td>4.78</td>\n",
       "      <td>21.7</td>\n",
       "    </tr>\n",
       "    <tr>\n",
       "      <th>HS89x89x9.5</th>\n",
       "      <td>2790.0</td>\n",
       "      <td>9.53</td>\n",
       "      <td>21.9</td>\n",
       "    </tr>\n",
       "    <tr>\n",
       "      <th>HS102x102x8.0</th>\n",
       "      <td>2820.0</td>\n",
       "      <td>7.95</td>\n",
       "      <td>22.1</td>\n",
       "    </tr>\n",
       "    <tr>\n",
       "      <th>HS127x127x6.4</th>\n",
       "      <td>2960.0</td>\n",
       "      <td>6.35</td>\n",
       "      <td>23.2</td>\n",
       "    </tr>\n",
       "    <tr>\n",
       "      <th>HS114x114x8.0</th>\n",
       "      <td>3220.0</td>\n",
       "      <td>7.95</td>\n",
       "      <td>25.3</td>\n",
       "    </tr>\n",
       "    <tr>\n",
       "      <th>HS178x178x4.8</th>\n",
       "      <td>3250.0</td>\n",
       "      <td>4.78</td>\n",
       "      <td>25.5</td>\n",
       "    </tr>\n",
       "    <tr>\n",
       "      <th>HS102x102x9.5</th>\n",
       "      <td>3280.0</td>\n",
       "      <td>9.53</td>\n",
       "      <td>25.7</td>\n",
       "    </tr>\n",
       "    <tr>\n",
       "      <th>HS152x152x6.4</th>\n",
       "      <td>3610.0</td>\n",
       "      <td>6.35</td>\n",
       "      <td>28.3</td>\n",
       "    </tr>\n",
       "    <tr>\n",
       "      <th>HS127x127x8.0</th>\n",
       "      <td>3620.0</td>\n",
       "      <td>7.95</td>\n",
       "      <td>28.4</td>\n",
       "    </tr>\n",
       "  </tbody>\n",
       "</table>\n",
       "</div>"
      ],
      "text/plain": [
       "                    A     T  Mass\n",
       "Dsg                              \n",
       "HS114x114x6.4  2640.0  6.35  20.7\n",
       "HS152x152x4.8  2760.0  4.78  21.7\n",
       "HS89x89x9.5    2790.0  9.53  21.9\n",
       "HS102x102x8.0  2820.0  7.95  22.1\n",
       "HS127x127x6.4  2960.0  6.35  23.2\n",
       "HS114x114x8.0  3220.0  7.95  25.3\n",
       "HS178x178x4.8  3250.0  4.78  25.5\n",
       "HS102x102x9.5  3280.0  9.53  25.7\n",
       "HS152x152x6.4  3610.0  6.35  28.3\n",
       "HS127x127x8.0  3620.0  7.95  28.4"
      ]
     },
     "execution_count": 5,
     "metadata": {},
     "output_type": "execute_result"
    }
   ],
   "source": [
    "# load a table of all HSS sections, sorted by increasing mass\n",
    "hss = sst.section_tables(['HS'],'Mass')\n",
    "\n",
    "# search for those shapes whose area meets the limit and whose B and D dimensions are equal (square)\n",
    "# Then extract the first 10 rows (shapes) of the search result and choose only three columns for display.\n",
    "hss.query('A>2500 & B==D').head(10)[['A','T','Mass']]"
   ]
  },
  {
   "cell_type": "markdown",
   "metadata": {},
   "source": [
    "Probably do not want the thinnest section (because of welding considerations). \n",
    "Also, a larger dimension may be easier to connect.\n",
    "And leave a bit of allowance \n",
    "over the minimum.  Therefore:\n",
    "\n",
    "### 1.1: Try: HSS 127x127x6.4\n",
    "\n",
    "In a configuration similar to this:\n",
    "\n",
    "![Photo](170-DSCN0768.JPG)"
   ]
  },
  {
   "cell_type": "code",
   "execution_count": 6,
   "metadata": {},
   "outputs": [],
   "source": [
    "##angle=sst.section_tables(['L'],'Mass')\n",
    "##angle.query(\"Avl!='*'&A>2500/4\")[['A','T','Mass']].head(10)"
   ]
  },
  {
   "cell_type": "code",
   "execution_count": 7,
   "metadata": {},
   "outputs": [],
   "source": [
    "##angle=sst.section_tables(['W'],'Mass')\n",
    "##angle.query(\"Avl!='*'&A>2500\")[['Dsg','A','T','Mass']].head(10)"
   ]
  },
  {
   "cell_type": "markdown",
   "metadata": {},
   "source": [
    "## 2: Bolting Requirements\n",
    "\n",
    "Again, because net area considerations usually govern we should start by selecting a bolt configuration (number of bolts and layout).  That will allow us to decide gusset plate thickness, which is important because the insert\n",
    "plate welded into the HSS must be the same thickness, and that affects the strength of the HSS."
   ]
  },
  {
   "cell_type": "code",
   "execution_count": 8,
   "metadata": {},
   "outputs": [
    {
     "data": {
      "text/plain": [
       "5.063"
      ]
     },
     "execution_count": 8,
     "metadata": {},
     "output_type": "execute_result"
    }
   ],
   "source": [
    "Ab = 3.14159*bd*bd/4   # bolt shear area\n",
    "vr1 = 0.60*phib*1*2*Ab*bFu * 0.7 * 1E-3   # factored shear strength of 1 bolt, double shear, threads intercepted\n",
    "Tf/vr1                 # number of bolts required"
   ]
  },
  {
   "cell_type": "markdown",
   "metadata": {},
   "source": [
    "Therefore, use 6 bolts.  But should they be in a 2x3 or a 3x2 arrangement?\n",
    "\n",
    "![Layout](bolt-layout.svg)"
   ]
  },
  {
   "cell_type": "markdown",
   "metadata": {},
   "source": [
    "### 2.1: Try 2x3 bolt pattern\n",
    "2 gauge lines, 3 transverse lines.  Use Gauge = 75mm, spacing = 75mm (minimum = 2.7d = 52mm).\n",
    "\n",
    "From Table 6, minimum edge/end distance = 32mm (assuming sheared edges). Use edge and end distances of 35mm."
   ]
  },
  {
   "cell_type": "markdown",
   "metadata": {},
   "source": [
    "## 3: Gusset plate design\n",
    "Mostly we want the thickness so that we can determine the thickness of the insert plate in the HSS.\n",
    "\n",
    "As the gusset plate can be made as wide as necessary, design will likely be governed by block shear and/or bearing.\n",
    "\n",
    "Calculate resistances of a 1mm thickness of plate, then determine the thickness required.\n",
    "\n",
    "![Gusset Plate](gusset-plate.svg)\n",
    "\n",
    "![Gusset Failure Paths](gusset-failure-paths.svg)"
   ]
  },
  {
   "cell_type": "markdown",
   "metadata": {},
   "source": [
    "### 3.1: Path 1-2 (Block Shear) (1mm plate)"
   ]
  },
  {
   "cell_type": "code",
   "execution_count": 9,
   "metadata": {},
   "outputs": [
    {
     "data": {
      "text/plain": [
       "51.000"
      ]
     },
     "execution_count": 9,
     "metadata": {},
     "output_type": "execute_result"
    }
   ],
   "source": [
    "An = (75 - (hd/2)*2)*1\n",
    "Ut = 1\n",
    "An"
   ]
  },
  {
   "cell_type": "code",
   "execution_count": 10,
   "metadata": {},
   "outputs": [
    {
     "data": {
      "text/plain": [
       "370"
      ]
     },
     "execution_count": 10,
     "metadata": {},
     "output_type": "execute_result"
    }
   ],
   "source": [
    "Agv = (2*(2*75+35))*1\n",
    "Agv"
   ]
  },
  {
   "cell_type": "code",
   "execution_count": 11,
   "metadata": {},
   "outputs": [
    {
     "data": {
      "text/plain": [
       "78.435"
      ]
     },
     "execution_count": 11,
     "metadata": {},
     "output_type": "execute_result"
    }
   ],
   "source": [
    "vr1 = phiu*(Ut*An*pFu + 0.6*Agv*(pFy+pFu)/2) * 1E-3\n",
    "vr1"
   ]
  },
  {
   "cell_type": "markdown",
   "metadata": {},
   "source": [
    "### 3.2: Path 1-3 (Block Shear)  (1mm plate)"
   ]
  },
  {
   "cell_type": "code",
   "execution_count": 12,
   "metadata": {},
   "outputs": [
    {
     "data": {
      "text/plain": [
       "74.000"
      ]
     },
     "execution_count": 12,
     "metadata": {},
     "output_type": "execute_result"
    }
   ],
   "source": [
    "An = (75+35-(hd/2)*3)*1\n",
    "Ut = 0.6\n",
    "An"
   ]
  },
  {
   "cell_type": "code",
   "execution_count": 13,
   "metadata": {},
   "outputs": [
    {
     "data": {
      "text/plain": [
       "185"
      ]
     },
     "execution_count": 13,
     "metadata": {},
     "output_type": "execute_result"
    }
   ],
   "source": [
    "Agv = (1*(2*75+35))*1\n",
    "Agv"
   ]
  },
  {
   "cell_type": "code",
   "execution_count": 14,
   "metadata": {},
   "outputs": [
    {
     "data": {
      "text/plain": [
       "45.455"
      ]
     },
     "execution_count": 14,
     "metadata": {},
     "output_type": "execute_result"
    }
   ],
   "source": [
    "vr2 = phiu*(Ut*An*pFu + 0.6*Agv*(pFy+pFu)/2) * 1E-3\n",
    "vr2"
   ]
  },
  {
   "cell_type": "markdown",
   "metadata": {},
   "source": [
    "### 3.3: Path 4-4 (Tearout)  (1mm plate)"
   ]
  },
  {
   "cell_type": "code",
   "execution_count": 15,
   "metadata": {},
   "outputs": [],
   "source": [
    "An = 0.\n",
    "Ut = 1"
   ]
  },
  {
   "cell_type": "code",
   "execution_count": 16,
   "metadata": {},
   "outputs": [
    {
     "data": {
      "text/plain": [
       "740"
      ]
     },
     "execution_count": 16,
     "metadata": {},
     "output_type": "execute_result"
    }
   ],
   "source": [
    "Agv = (4*(2*75+35))*1\n",
    "Agv"
   ]
  },
  {
   "cell_type": "code",
   "execution_count": 17,
   "metadata": {},
   "outputs": [
    {
     "data": {
      "text/plain": [
       "123.210"
      ]
     },
     "execution_count": 17,
     "metadata": {},
     "output_type": "execute_result"
    }
   ],
   "source": [
    "vr3 = phiu*(Ut*An*pFu + 0.6*Agv*(pFy+pFu)/2) * 1E-3\n",
    "vr3"
   ]
  },
  {
   "cell_type": "markdown",
   "metadata": {},
   "source": [
    "### 3.4: Path 5-3 (Net Section Fracture)  (1mm plate)\n",
    "\n",
    "![Failure Path](gusset-net-section.svg)"
   ]
  },
  {
   "cell_type": "code",
   "execution_count": 18,
   "metadata": {},
   "outputs": [
    {
     "name": "stdout",
     "output_type": "stream",
     "text": [
      "l56 = 49.5  \n",
      "l67 = 106.1 \n",
      "l73 = 110   \n",
      "s   = 110   \n",
      "Ane = 245.1 \n",
      "tr1 = 80.87 \n"
     ]
    }
   ],
   "source": [
    "# length 7-3:\n",
    "l73 = 75 + 35\n",
    "# length 6-7: (all lines at 45 degrees)\n",
    "l67 = (75+75)/(2**0.5)\n",
    "# length 5-6:\n",
    "l56 = 35*(2**0.5)\n",
    "# gauge and pitch for line 5-7 (they are equal):\n",
    "s = g = (l56+l67)/(2**0.5)\n",
    "# net area:\n",
    "Ane = An = (l56+l67+l73)*1 - 2*hd*1 + (s*s/(4*g))*1       # 12.3.1\n",
    "\n",
    "tr1 = phiu*Ane*pFu * 1E-3      # 13.2 iii)\n",
    "show('l56,l67,l73,s, Ane,tr1')"
   ]
  },
  {
   "cell_type": "markdown",
   "metadata": {},
   "source": [
    "### 3.5: Bearing resistance  (1mm plate)"
   ]
  },
  {
   "cell_type": "code",
   "execution_count": 19,
   "metadata": {},
   "outputs": [
    {
     "data": {
      "text/plain": [
       "120.701"
      ]
     },
     "execution_count": 19,
     "metadata": {},
     "output_type": "execute_result"
    }
   ],
   "source": [
    "br1 = 3*phibr*6*1*bd*pFu * 1E-3\n",
    "br1"
   ]
  },
  {
   "cell_type": "code",
   "execution_count": 20,
   "metadata": {},
   "outputs": [
    {
     "data": {
      "text/plain": [
       "45.455"
      ]
     },
     "execution_count": 20,
     "metadata": {},
     "output_type": "execute_result"
    }
   ],
   "source": [
    "# governing resistance is (the minimum of the above)\n",
    "r = min(vr1,vr2,vr3,tr1,br1)\n",
    "r"
   ]
  },
  {
   "cell_type": "markdown",
   "metadata": {},
   "source": [
    "### 3.6: Required Thickness"
   ]
  },
  {
   "cell_type": "code",
   "execution_count": 21,
   "metadata": {},
   "outputs": [
    {
     "data": {
      "text/plain": [
       "17.600"
      ]
     },
     "execution_count": 21,
     "metadata": {},
     "output_type": "execute_result"
    }
   ],
   "source": [
    "# thickness required, mm\n",
    "Tf/r"
   ]
  },
  {
   "cell_type": "markdown",
   "metadata": {},
   "source": [
    "The governing resistance is block shear (Path 1-3).  The required thickness is thus 17.6mm, so try a 20mm gusset plate."
   ]
  },
  {
   "cell_type": "markdown",
   "metadata": {},
   "source": [
    "### 3.7: Try 20mm Gusset Plate"
   ]
  },
  {
   "cell_type": "markdown",
   "metadata": {},
   "source": [
    "## 4: 20mm Insert Plate (Slotted into HSS)"
   ]
  },
  {
   "cell_type": "code",
   "execution_count": 22,
   "metadata": {},
   "outputs": [
    {
     "name": "stdout",
     "output_type": "stream",
     "text": [
      "hssT  = 6.35 \n",
      "hssAg = 2960 \n"
     ]
    }
   ],
   "source": [
    "Dsg = 'HS127x127x6.4'\n",
    "hss = sst.section(Dsg)\n",
    "hssT,hssAg = hss.props('T,A')\n",
    "show('hssT,hssAg')"
   ]
  },
  {
   "cell_type": "code",
   "execution_count": 23,
   "metadata": {},
   "outputs": [],
   "source": [
    "pW = 35 + 75 + 35   # width of plate based on bolt spacing and edge distance\n",
    "pT = 20             # thickness of plate based on gusset thickness"
   ]
  },
  {
   "cell_type": "markdown",
   "metadata": {},
   "source": [
    "### 4.1: Gross Area Yield"
   ]
  },
  {
   "cell_type": "code",
   "execution_count": 24,
   "metadata": {},
   "outputs": [
    {
     "name": "stdout",
     "output_type": "stream",
     "text": [
      "Tr       = 799.2 \n",
      "Tr >= Tf = False \n"
     ]
    }
   ],
   "source": [
    "Ag = hssAg\n",
    "Tr = phi*Ag*pFy * 1E-3\n",
    "show('Tr, Tr >= Tf')"
   ]
  },
  {
   "cell_type": "markdown",
   "metadata": {},
   "source": [
    "Thats close enough.  OK\n",
    "\n",
    "### 4.2: Net Section Fracture"
   ]
  },
  {
   "cell_type": "code",
   "execution_count": 25,
   "metadata": {},
   "outputs": [
    {
     "name": "stdout",
     "output_type": "stream",
     "text": [
      "Tr       = 640.2 \n",
      "Tr >= Tf = False \n"
     ]
    }
   ],
   "source": [
    "Ane = pW*pT - 2*hd*pT\n",
    "Tr = phiu*Ane*pFu * 1E-3\n",
    "show('Tr, Tr >= Tf')"
   ]
  },
  {
   "cell_type": "markdown",
   "metadata": {},
   "source": [
    "No good - make the plate wider from:\n",
    "\n",
    "$$\n",
    "\\phi_u(w t - 2\\times24t)F_u \\ge T_f\n",
    "$$\n",
    "\n",
    "$$\n",
    "w t \\ge \\frac{T_f}{\\phi_u F_u} + 48 t\n",
    "$$\n",
    "\n",
    "$$\n",
    "w \\ge \\frac{T_f}{\\phi_u t F_u} + 48\n",
    "$$"
   ]
  },
  {
   "cell_type": "code",
   "execution_count": 26,
   "metadata": {},
   "outputs": [
    {
     "data": {
      "text/plain": [
       "169.212"
      ]
     },
     "execution_count": 26,
     "metadata": {},
     "output_type": "execute_result"
    }
   ],
   "source": [
    "Tf/(phiu * pT * pFu*1E-3) + 48"
   ]
  },
  {
   "cell_type": "markdown",
   "metadata": {},
   "source": [
    "This leads to $(170-75)/2 \\approx 50$mm edge distances.  As the plate has to be so wide anyway (I'm relunctant to\n",
    "make it thicker because of the extra cross-section removed from the HSS), perhaps we should try the 3x2 bolt arrangement and a slightly wider plate.\n",
    "\n",
    "### 4.3: Try 20mm x 220mm Insert Plate"
   ]
  },
  {
   "cell_type": "markdown",
   "metadata": {},
   "source": [
    "![Dimensions](insert-3x2-dimensions.svg)"
   ]
  },
  {
   "cell_type": "code",
   "execution_count": 27,
   "metadata": {},
   "outputs": [],
   "source": [
    "pW = 220\n",
    "pT = 20"
   ]
  },
  {
   "cell_type": "markdown",
   "metadata": {},
   "source": [
    "![Paths](insert-3x2-paths.svg)"
   ]
  },
  {
   "cell_type": "markdown",
   "metadata": {},
   "source": [
    "## 5: Insert Plate - Bolted End"
   ]
  },
  {
   "cell_type": "markdown",
   "metadata": {},
   "source": [
    "##### Gross Area Yield:  OK, from above  (220 > 145)"
   ]
  },
  {
   "cell_type": "markdown",
   "metadata": {},
   "source": [
    "##### Net Section Fracture: OK, from above (220 > 168.2)"
   ]
  },
  {
   "cell_type": "markdown",
   "metadata": {},
   "source": [
    "### 5.1: Block Shear: Path 3-2"
   ]
  },
  {
   "cell_type": "code",
   "execution_count": 28,
   "metadata": {},
   "outputs": [
    {
     "name": "stdout",
     "output_type": "stream",
     "text": [
      "An       = 2500  \n",
      "Ut       = 0.6   \n",
      "Agv      = 2200  \n",
      "Tr       = 861.3 \n",
      "Tr >= Tf = True  \n"
     ]
    }
   ],
   "source": [
    "An = (75+75+35 - 24*2.5)*pT\n",
    "Ut = 0.6\n",
    "Agv = (35+75)*pT\n",
    "\n",
    "Tr = phiu*(Ut*An*pFu + 0.6*Agv*(pFy+pFu)/2) * 1E-3\n",
    "show('An, Ut, Agv, Tr, Tr >= Tf')"
   ]
  },
  {
   "cell_type": "markdown",
   "metadata": {},
   "source": [
    "### 5.2: Block Shear: Path 3-4"
   ]
  },
  {
   "cell_type": "code",
   "execution_count": 29,
   "metadata": {},
   "outputs": [
    {
     "name": "stdout",
     "output_type": "stream",
     "text": [
      "An       = 2040 \n",
      "Ut       = 1    \n",
      "Agv      = 4400 \n",
      "Tr       = 1406 \n",
      "Tr >= Tf = True \n"
     ]
    }
   ],
   "source": [
    "An = (75+75 - 24*2)*pT\n",
    "Ut = 1.0\n",
    "Agv = 2*(35+75)*pT\n",
    "\n",
    "Tr = phiu*(Ut*An*pFu + 0.6*Agv*(pFy+pFu)/2) * 1E-3\n",
    "show('An, Ut, Agv, Tr, Tr >= Tf')"
   ]
  },
  {
   "cell_type": "markdown",
   "metadata": {},
   "source": [
    "### 5.3: Tearout"
   ]
  },
  {
   "cell_type": "code",
   "execution_count": 30,
   "metadata": {},
   "outputs": [
    {
     "name": "stdout",
     "output_type": "stream",
     "text": [
      "An       = 0     \n",
      "Ut       = 1     \n",
      "Agv      = 13200 \n",
      "Tr       = 2198  \n",
      "Tr >= Tf = True  \n"
     ]
    }
   ],
   "source": [
    "An = 0\n",
    "Ut = 1.0\n",
    "Agv = 6*(35+75)*pT\n",
    "\n",
    "Tr = phiu*(Ut*An*pFu + 0.6*Agv*(pFy+pFu)/2) * 1E-3\n",
    "show('An, Ut, Agv, Tr, Tr >= Tf')"
   ]
  },
  {
   "cell_type": "markdown",
   "metadata": {},
   "source": [
    "### 5.4: Bearing"
   ]
  },
  {
   "cell_type": "markdown",
   "metadata": {},
   "source": [
    "OK, from above. (see 3.5)"
   ]
  },
  {
   "cell_type": "markdown",
   "metadata": {},
   "source": [
    "## 6: Insert - Welded End\n",
    "\n",
    "### 6.1: Size and Length of Weld"
   ]
  },
  {
   "cell_type": "markdown",
   "metadata": {},
   "source": [
    "Handbook, page 6-186, shows that for $12 \\le t \\le 20$, minimum fillet size is 6mm.\n",
    "\n",
    "As the weld of the Insert to the HSS is not near an edge, there is no essnetial maximum size.\n",
    "\n",
    "### 6.2: Try 6mm fillet weld"
   ]
  },
  {
   "cell_type": "code",
   "execution_count": 31,
   "metadata": {},
   "outputs": [
    {
     "data": {
      "text/plain": [
       "857.381"
      ]
     },
     "execution_count": 31,
     "metadata": {},
     "output_type": "execute_result"
    }
   ],
   "source": [
    "# Required length is: (all weld parallel to axis of load)\n",
    "Tf/(0.67*phiw*(0.707*6)*Xu*1E-3)  # S16 13.13.2.2"
   ]
  },
  {
   "cell_type": "code",
   "execution_count": 32,
   "metadata": {},
   "outputs": [
    {
     "data": {
      "text/plain": [
       "214.250"
      ]
     },
     "execution_count": 32,
     "metadata": {},
     "output_type": "execute_result"
    }
   ],
   "source": [
    "857/4"
   ]
  },
  {
   "cell_type": "markdown",
   "metadata": {},
   "source": [
    "Try 220mm of weld in 4 locations, insert plate to HSS."
   ]
  },
  {
   "cell_type": "markdown",
   "metadata": {},
   "source": [
    "### 6.3: Net Section Fracture"
   ]
  },
  {
   "cell_type": "code",
   "execution_count": 33,
   "metadata": {},
   "outputs": [
    {
     "data": {
      "text/plain": [
       "True"
      ]
     },
     "execution_count": 33,
     "metadata": {},
     "output_type": "execute_result"
    }
   ],
   "source": [
    "# central portion is An2\n",
    "w = 127.\n",
    "L = 220.\n",
    "pT = 20.\n",
    "2*w >= L >= w"
   ]
  },
  {
   "cell_type": "code",
   "execution_count": 34,
   "metadata": {},
   "outputs": [
    {
     "name": "stdout",
     "output_type": "stream",
     "text": [
      "w   = 127  \n",
      "L   = 220  \n",
      "An2 = 2370 \n"
     ]
    }
   ],
   "source": [
    "An2 = .5*w*pT + .25*L*pT\n",
    "show('w,L,An2')"
   ]
  },
  {
   "cell_type": "code",
   "execution_count": 35,
   "metadata": {},
   "outputs": [
    {
     "data": {
      "text/plain": [
       "True"
      ]
     },
     "execution_count": 35,
     "metadata": {},
     "output_type": "execute_result"
    }
   ],
   "source": [
    "# edge portions are An3's:\n",
    "w = (220-127)/2.\n",
    "xbar = w/2.\n",
    "L >= w"
   ]
  },
  {
   "cell_type": "code",
   "execution_count": 36,
   "metadata": {},
   "outputs": [
    {
     "name": "stdout",
     "output_type": "stream",
     "text": [
      "w    = 46.5  \n",
      "xbar = 23.25 \n",
      "An3  = 831.7 \n"
     ]
    }
   ],
   "source": [
    "An3 = (1-xbar/L)*w*pT\n",
    "show('w,xbar,An3')"
   ]
  },
  {
   "cell_type": "code",
   "execution_count": 37,
   "metadata": {},
   "outputs": [
    {
     "name": "stdout",
     "output_type": "stream",
     "text": [
      "Ane         = 4033   \n",
      "Ane/(pW*pT) = 0.9167 \n",
      "Tr          = 1331   \n",
      "Tr>=Tf      = True   \n"
     ]
    }
   ],
   "source": [
    "Ane = An3 + An2 + An3\n",
    "Tr = phiu * Ane * pFu * 1E-3\n",
    "show('Ane,Ane/(pW*pT),Tr,Tr>=Tf')"
   ]
  },
  {
   "cell_type": "markdown",
   "metadata": {},
   "source": [
    "**Therefore, 20mm x 220mm Insert Plate OK**\n",
    "\n",
    "------------------\n",
    "------------------"
   ]
  },
  {
   "cell_type": "markdown",
   "metadata": {},
   "source": [
    "## 7: HSS 127x127x6.4\n",
    "\n",
    "![x-sect](hss-xsect.svg)"
   ]
  },
  {
   "cell_type": "code",
   "execution_count": 38,
   "metadata": {},
   "outputs": [
    {
     "name": "stdout",
     "output_type": "stream",
     "text": [
      "d              = 127   \n",
      "b              = 53.5  \n",
      "t              = 6.35  \n",
      "A              = 1405  \n",
      "xbar           = 38.93 \n",
      "Lw             = 220   \n",
      "xbar/Lw >= 0.1 = True  \n"
     ]
    }
   ],
   "source": [
    "# See page 7-88 CISC HB\n",
    "d = 127\n",
    "b = (127/2) - (20/2.)\n",
    "w = t = 6.35\n",
    "A = d*w + 2*(b-w)*t\n",
    "xbar = b - (1/(2.*A))*((d-2*t)*w**2 + 2*t*b**2)\n",
    "Lw = 220\n",
    "show('d,b,t,A,xbar,Lw, xbar/Lw >= 0.1')"
   ]
  },
  {
   "cell_type": "code",
   "execution_count": 39,
   "metadata": {},
   "outputs": [
    {
     "name": "stdout",
     "output_type": "stream",
     "text": [
      "An     = 2706   \n",
      "Ane    = 2498   \n",
      "Ane/An = 0.9231 \n",
      "Tr     = 843    \n",
      "Tr>=Tf = True   \n"
     ]
    }
   ],
   "source": [
    "An = 2960 - 2*20*6.35      # 20mm slot cut from both sides of HSS\n",
    "Ane = max((1.1 - xbar/Lw)*An, 0.8*An)\n",
    "Tr = phiu*Ane*hFu * 1E-3\n",
    "show('An,Ane,Ane/An,Tr,Tr>=Tf')"
   ]
  },
  {
   "cell_type": "markdown",
   "metadata": {},
   "source": [
    "**Therefore, HSS 127x127x6.4 OK**\n",
    "\n",
    "---------------\n",
    "-----------------"
   ]
  },
  {
   "cell_type": "markdown",
   "metadata": {},
   "source": [
    "## 8: Lap Plates - 2 @ 10mm x 220mm"
   ]
  },
  {
   "cell_type": "markdown",
   "metadata": {},
   "source": [
    "OK, as thickness of 2 plates = thickness of insert plate, and widths are the same."
   ]
  },
  {
   "cell_type": "markdown",
   "metadata": {},
   "source": [
    "**Therefore, 2-10mmx220mm Lap Plates OK**\n",
    "\n",
    "----------------\n",
    "----------------"
   ]
  },
  {
   "cell_type": "markdown",
   "metadata": {},
   "source": [
    "## 9: Gusset Plate\n",
    "\n",
    "Gusset plate OK as thickness and width same as insert plate.\n",
    "\n",
    "**Therefore, 20mm gusset plate OK**"
   ]
  },
  {
   "cell_type": "markdown",
   "metadata": {},
   "source": [
    "## 10: Summary"
   ]
  },
  {
   "cell_type": "markdown",
   "metadata": {},
   "source": [
    "![Summary](design-summary.svg)"
   ]
  },
  {
   "cell_type": "code",
   "execution_count": null,
   "metadata": {},
   "outputs": [],
   "source": []
  }
 ],
 "metadata": {
  "kernelspec": {
   "display_name": "Python 3",
   "language": "python",
   "name": "python3"
  },
  "language_info": {
   "codemirror_mode": {
    "name": "ipython",
    "version": 3
   },
   "file_extension": ".py",
   "mimetype": "text/x-python",
   "name": "python",
   "nbconvert_exporter": "python",
   "pygments_lexer": "ipython3",
   "version": "3.6.8"
  }
 },
 "nbformat": 4,
 "nbformat_minor": 2
}
