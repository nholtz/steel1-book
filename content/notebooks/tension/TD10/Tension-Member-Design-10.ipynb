{
 "cells": [
  {
   "cell_type": "markdown",
   "metadata": {},
   "source": [
    "# Design of a Tension Member and End Connections\n",
    "\n",
    "| Property | Value |\n",
    "|----------|:-------:|\n",
    "|  $T_f$   | 800 kN|\n",
    "| Angles   | 300W  |\n",
    "| Plates   | 300W |\n",
    "| HSS      | 350W |\n",
    "| W        | A992 |\n",
    "| Bolts    | A325 3/4\" |\n",
    "| Holes    | 22 mm punched |\n",
    "| Electrodes | E49xx |"
   ]
  },
  {
   "cell_type": "code",
   "execution_count": 1,
   "metadata": {},
   "outputs": [],
   "source": [
    "phi = 0.9\n",
    "phiu = 0.75\n",
    "phib = 0.8\n",
    "phiw = 0.67\n",
    "\n",
    "aFy = 300   # angles\n",
    "aFu = 440\n",
    "pFy = 300   # plates\n",
    "pFu = 440\n",
    "hFy = 350   # HSS\n",
    "hFu = 450\n",
    "wFy = 345   # W shapes\n",
    "wFu = 450\n",
    "bFu = 825   # bolt\n",
    "Xu = 490    # weld\n",
    "bd = 25.4 * 0.75   # 3/4\" bolt\n",
    "hd = 22 + 2       # in 22mm punched holes"
   ]
  },
  {
   "cell_type": "code",
   "execution_count": 2,
   "metadata": {},
   "outputs": [],
   "source": [
    "Tf = 800"
   ]
  },
  {
   "cell_type": "code",
   "execution_count": 3,
   "metadata": {},
   "outputs": [],
   "source": [
    "from sst import SST\n",
    "sst = SST()"
   ]
  },
  {
   "cell_type": "markdown",
   "metadata": {},
   "source": [
    "Tension brace will be bolted into frame.  Net area fracture is often the governing case.  Reasonable\n",
    "estimates are $A_{n} = 0.9 A_g$ and $A_ne = 0.85 A_n$.  Therefore, a first estimate of cross-sectional\n",
    "area required is, without differentiating material strengths, is:\n",
    "\n",
    "$$\n",
    "\\phi_u \\times 0.85 \\times 0.9 A_g \\times Fu \\ge T_f\n",
    "$$\n",
    "\n",
    "$$\n",
    "A_g \\ge \\frac{T_f}{\\phi_u 0.85 \\times 0.9 Fu}\n",
    "$$"
   ]
  },
  {
   "cell_type": "code",
   "execution_count": 4,
   "metadata": {},
   "outputs": [
    {
     "data": {
      "text/plain": [
       "2582.1027999677235"
      ]
     },
     "execution_count": 4,
     "metadata": {},
     "output_type": "execute_result"
    }
   ],
   "source": [
    "Tf/(phi*0.85*0.9*450*1E-3)"
   ]
  },
  {
   "cell_type": "markdown",
   "metadata": {},
   "source": [
    "Therefore, look for a square HSS of at least this cross-sectional area:\n",
    "\n",
    ">   _Gentle Reader:_ If you find the following 'python-pandas magic' hard to understand,\n",
    ">   don't worry about it.  Its just the digital equivalent of searching through\n",
    ">   the properties and dimensions tables in Part 6 of the CISC handbook of Steel Construction."
   ]
  },
  {
   "cell_type": "code",
   "execution_count": 5,
   "metadata": {},
   "outputs": [
    {
     "data": {
      "text/html": [
       "<div>\n",
       "<style scoped>\n",
       "    .dataframe tbody tr th:only-of-type {\n",
       "        vertical-align: middle;\n",
       "    }\n",
       "\n",
       "    .dataframe tbody tr th {\n",
       "        vertical-align: top;\n",
       "    }\n",
       "\n",
       "    .dataframe thead th {\n",
       "        text-align: right;\n",
       "    }\n",
       "</style>\n",
       "<table border=\"1\" class=\"dataframe\">\n",
       "  <thead>\n",
       "    <tr style=\"text-align: right;\">\n",
       "      <th></th>\n",
       "      <th>A</th>\n",
       "      <th>T</th>\n",
       "      <th>Mass</th>\n",
       "    </tr>\n",
       "    <tr>\n",
       "      <th>Dsg</th>\n",
       "      <th></th>\n",
       "      <th></th>\n",
       "      <th></th>\n",
       "    </tr>\n",
       "  </thead>\n",
       "  <tbody>\n",
       "    <tr>\n",
       "      <th>HS114x114x6.4</th>\n",
       "      <td>2640.0</td>\n",
       "      <td>6.35</td>\n",
       "      <td>20.7</td>\n",
       "    </tr>\n",
       "    <tr>\n",
       "      <th>HS152x152x4.8</th>\n",
       "      <td>2760.0</td>\n",
       "      <td>4.78</td>\n",
       "      <td>21.7</td>\n",
       "    </tr>\n",
       "    <tr>\n",
       "      <th>HS89x89x9.5</th>\n",
       "      <td>2790.0</td>\n",
       "      <td>9.53</td>\n",
       "      <td>21.9</td>\n",
       "    </tr>\n",
       "    <tr>\n",
       "      <th>HS102x102x8.0</th>\n",
       "      <td>2820.0</td>\n",
       "      <td>7.95</td>\n",
       "      <td>22.1</td>\n",
       "    </tr>\n",
       "    <tr>\n",
       "      <th>HS127x127x6.4</th>\n",
       "      <td>2960.0</td>\n",
       "      <td>6.35</td>\n",
       "      <td>23.2</td>\n",
       "    </tr>\n",
       "    <tr>\n",
       "      <th>HS114x114x8.0</th>\n",
       "      <td>3220.0</td>\n",
       "      <td>7.95</td>\n",
       "      <td>25.3</td>\n",
       "    </tr>\n",
       "    <tr>\n",
       "      <th>HS178x178x4.8</th>\n",
       "      <td>3250.0</td>\n",
       "      <td>4.78</td>\n",
       "      <td>25.5</td>\n",
       "    </tr>\n",
       "    <tr>\n",
       "      <th>HS102x102x9.5</th>\n",
       "      <td>3280.0</td>\n",
       "      <td>9.53</td>\n",
       "      <td>25.7</td>\n",
       "    </tr>\n",
       "    <tr>\n",
       "      <th>HS152x152x6.4</th>\n",
       "      <td>3610.0</td>\n",
       "      <td>6.35</td>\n",
       "      <td>28.3</td>\n",
       "    </tr>\n",
       "    <tr>\n",
       "      <th>HS127x127x8.0</th>\n",
       "      <td>3620.0</td>\n",
       "      <td>7.95</td>\n",
       "      <td>28.4</td>\n",
       "    </tr>\n",
       "  </tbody>\n",
       "</table>\n",
       "</div>"
      ],
      "text/plain": [
       "                    A     T  Mass\n",
       "Dsg                              \n",
       "HS114x114x6.4  2640.0  6.35  20.7\n",
       "HS152x152x4.8  2760.0  4.78  21.7\n",
       "HS89x89x9.5    2790.0  9.53  21.9\n",
       "HS102x102x8.0  2820.0  7.95  22.1\n",
       "HS127x127x6.4  2960.0  6.35  23.2\n",
       "HS114x114x8.0  3220.0  7.95  25.3\n",
       "HS178x178x4.8  3250.0  4.78  25.5\n",
       "HS102x102x9.5  3280.0  9.53  25.7\n",
       "HS152x152x6.4  3610.0  6.35  28.3\n",
       "HS127x127x8.0  3620.0  7.95  28.4"
      ]
     },
     "execution_count": 5,
     "metadata": {},
     "output_type": "execute_result"
    }
   ],
   "source": [
    "# load a table of all HSS sections, sorted by increasing mass\n",
    "hss = sst.section_tables(['HS'],'Mass')\n",
    "\n",
    "# search for those shapes whose area meets the limit and whose B and D dimensions are equal (square)\n",
    "# Then extract three columns from the result and display the first 10 shapes.\n",
    "hss.query('A>2500 & B==D')[['A','T','Mass']].head(10)"
   ]
  },
  {
   "cell_type": "markdown",
   "metadata": {},
   "source": [
    "Probably do not want the thinnest section (because of welding considerations). \n",
    "Also, a larger dimension may be easier to connect.\n",
    "And leave a bit of allowance \n",
    "over the minimum.  Therefore:\n",
    "\n",
    "### Try: HSS 127x127x6.4\n",
    "\n",
    "In a configuration similar to this:\n",
    "\n",
    "![Photo](170-DSCN0768.JPG)"
   ]
  },
  {
   "cell_type": "code",
   "execution_count": 35,
   "metadata": {},
   "outputs": [],
   "source": [
    "##angle=sst.section_tables(['L'],'Mass')\n",
    "##angle.query(\"Avl!='*'&A>2500/4\")[['A','T','Mass']].head(10)"
   ]
  },
  {
   "cell_type": "code",
   "execution_count": 36,
   "metadata": {},
   "outputs": [],
   "source": [
    "##angle=sst.section_tables(['W'],'Mass')\n",
    "##angle.query(\"Avl!='*'&A>2500\")[['Dsg','A','T','Mass']].head(10)"
   ]
  },
  {
   "cell_type": "markdown",
   "metadata": {},
   "source": [
    "#### Bolting Requirements\n",
    "\n",
    "Again, because net area considerations usually govern we should start by selecting a bolt configuration (number of bolts and layout).  That will allow us to decide gusset plate thickness, which is important because the insert\n",
    "plate welded into the HSS must be the same thickness, and that affects the strength of the HSS."
   ]
  },
  {
   "cell_type": "code",
   "execution_count": 42,
   "metadata": {},
   "outputs": [
    {
     "data": {
      "text/plain": [
       "5.062759424997536"
      ]
     },
     "execution_count": 42,
     "metadata": {},
     "output_type": "execute_result"
    }
   ],
   "source": [
    "Ab = 3.14159*bd*bd/4   # bolt shear area\n",
    "vr1 = 0.60*phib*1*2*Ab*bFu * 0.7 * 1E-3   # factored shear strength of 1 bolt, double shear, threads intercepted\n",
    "Tf/vr1                 # number of bolts required"
   ]
  },
  {
   "cell_type": "markdown",
   "metadata": {},
   "source": [
    "Therefore, use 6 bolts.  But should they be in a 3x2 or a 2x3 arrangement?"
   ]
  },
  {
   "cell_type": "code",
   "execution_count": 45,
   "metadata": {},
   "outputs": [
    {
     "data": {
      "text/plain": [
       "Prp           NaN\n",
       "Dsg     HS127x6.4\n",
       "Avl             +\n",
       "Shp            17\n",
       "Grp           NaN\n",
       "Use             2\n",
       "D             127\n",
       "B             NaN\n",
       "T            6.35\n",
       "Tdes         6.35\n",
       "RI            NaN\n",
       "RO            NaN\n",
       "BT            NaN\n",
       "DT             20\n",
       "Dnom          127\n",
       "Mass         18.9\n",
       "A            2410\n",
       "Ix       4.39e+06\n",
       "Sx          69200\n",
       "Rx           42.7\n",
       "Zx          92500\n",
       "Iy       4.39e+06\n",
       "Sy          69200\n",
       "Ry           42.7\n",
       "Zy          92500\n",
       "J        8.78e+06\n",
       "Crt          1210\n",
       "C          138000\n",
       "SA            0.4\n",
       "Ds_i    HS5x0.250\n",
       "Dn_i            5\n",
       "Wt_i         12.7\n",
       "Name: HS127x6.4, dtype: object"
      ]
     },
     "execution_count": 45,
     "metadata": {},
     "output_type": "execute_result"
    }
   ],
   "source": [
    "hss.loc['HS127x6.4']"
   ]
  },
  {
   "cell_type": "code",
   "execution_count": null,
   "metadata": {},
   "outputs": [],
   "source": []
  }
 ],
 "metadata": {
  "kernelspec": {
   "display_name": "Python 3",
   "language": "python",
   "name": "python3"
  },
  "language_info": {
   "codemirror_mode": {
    "name": "ipython",
    "version": 3
   },
   "file_extension": ".py",
   "mimetype": "text/x-python",
   "name": "python",
   "nbconvert_exporter": "python",
   "pygments_lexer": "ipython3",
   "version": "3.6.8"
  }
 },
 "nbformat": 4,
 "nbformat_minor": 2
}
