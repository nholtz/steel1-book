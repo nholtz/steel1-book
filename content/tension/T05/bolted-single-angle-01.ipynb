{
 "cells": [
  {
   "cell_type": "markdown",
   "metadata": {},
   "source": [
    "### Tr for Single Angle Bolted Through One Leg\n",
    "\n",
    "Calculate factored tension resistance, $T_r$, of a single angle bolted through one leg.\n",
    "\n",
    "![Angle bolted through one leg](images/bolted-single-angle.svg)\n",
    "\n",
    "_Note:_ The figure shows 2 rows of 4 bolts through one leg.  The logic below works for\n",
    "1 or 2 rows and almost any number of bolts per row."
   ]
  },
  {
   "cell_type": "code",
   "execution_count": 1,
   "metadata": {
    "collapsed": false
   },
   "outputs": [],
   "source": [
    "from Designer import Designer as DesignNotes, SST, show\n",
    "from newparts import Part"
   ]
  },
  {
   "cell_type": "code",
   "execution_count": 2,
   "metadata": {
    "collapsed": false
   },
   "outputs": [],
   "source": [
    "Table6 = {'M16': (28,22),    # CSA S16-14 Table 6  - Minimum edge distances\n",
    "          '3/4': (32,25),\n",
    "          'M20': (34,26),\n",
    "          '7/8': (38,28),\n",
    "          'M22': (38,28),\n",
    "          'M24': (42,30),\n",
    "          '1':   (44,32),\n",
    "         }\n",
    "\n",
    "def get_Table6(size,col=1):\n",
    "    assert col in [1,2], \"Must select column 1 or 2 from Table 6.\"\n",
    "    try:\n",
    "        return Table6[size][col-1]\n",
    "    except KeyError:\n",
    "        pass\n",
    "    raise KeyError('Cannot determine min edge distance for bolt size: \"{}\"'.format(size))"
   ]
  },
  {
   "cell_type": "code",
   "execution_count": 3,
   "metadata": {},
   "outputs": [],
   "source": [
    "BOLT_DIA = {'M16': 16.,\n",
    "           '3/4': 25.4*3/4,\n",
    "           'M20': 20.,\n",
    "           '7/8': 25.4*7/8,\n",
    "           'M22': 22.,\n",
    "           'M24': 24.,\n",
    "           '1': 25.4,\n",
    "           }\n",
    "\n",
    "HOLE_DIA = {'M16': 18.,\n",
    "           '3/4': 22.,\n",
    "           'M20': 22.,\n",
    "           '7/8': 24.,\n",
    "           'M22': 24.,\n",
    "           'M24': 26.,\n",
    "           '1': 27.,\n",
    "           }\n",
    "\n",
    "BOLT_Fu = {'A325M': 830.,\n",
    "          'A490M': 1040.,\n",
    "          'A325': 825.,\n",
    "          'A490': 1035.,\n",
    "          }"
   ]
  },
  {
   "cell_type": "code",
   "execution_count": 4,
   "metadata": {
    "collapsed": false
   },
   "outputs": [],
   "source": [
    "#           Leg:   g, g1\n",
    "UG_Angle = {203: (115,75),    # Usual Gauges for Angles, CISC Handbook 11th ed., p. 6-173\n",
    "           178: (100,65),\n",
    "           152: (90,60),\n",
    "           127: (75,50),\n",
    "           102: (65,),\n",
    "           89: (50,),\n",
    "           76: (45,),\n",
    "           64: (35,),\n",
    "           51: (29,),\n",
    "           44: (25,),\n",
    "            }\n",
    "\n",
    "# select largest g2 from 45,50,55,60,65,70,75 > 2.7d and edge dist ok\n",
    "\n",
    "def get_UG_Angle(leg,nlines=1,size='3/4'):\n",
    "    leg = int(leg)\n",
    "    if leg not in UG_Angle:\n",
    "        raise ValueError('Cannot determine gauges for angle leg of size \"{}\"'.format(leg))\n",
    "    \n",
    "    gs = UG_Angle[leg]\n",
    "    if nlines == 1:\n",
    "        return gs[0],0\n",
    "    if len(gs) == 1:\n",
    "        raise ValueError('Leg size of \"{}\" cannot have 2 rows of bolts'.format(leg))\n",
    "    g1 = gs[1]\n",
    "    min_edge = get_Table6(size,col=2)\n",
    "    d = BOLT_DIA[size]\n",
    "    gmin = 2.7*d                         # CSA S16-14 23.3.1\n",
    "    for g2 in [80,75,70,65,60,55,50,45]:\n",
    "        if g2 >= gmin and (leg-g1-g2) >= min_edge:\n",
    "            return g1,g2\n",
    "    raise ValueError('Unable to determine workable gauges for angle, leg={}, size={}'.format(leg,size))"
   ]
  },
  {
   "cell_type": "code",
   "execution_count": 5,
   "metadata": {},
   "outputs": [
    {
     "data": {
      "text/plain": [
       "{'Fu': 825.0,\n",
       " 'Nlines': 4,\n",
       " 'Nrows': 1,\n",
       " '_doc': 'Bolts',\n",
       " 'd': 19.049999999999997,\n",
       " 'end_distance': 30.0,\n",
       " 'ha': 24.0,\n",
       " 'hole_type': 'punched',\n",
       " 'pitch': 75.0,\n",
       " 'size': '3/4',\n",
       " 'type': 'A325'}"
      ]
     },
     "execution_count": 5,
     "metadata": {},
     "output_type": "execute_result"
    }
   ],
   "source": [
    "Bolt = Part( 'Bolts',\n",
    "              type = 'A325',\n",
    "              size = '3/4',\n",
    "              hole_type = 'punched',  # 'punched' or 'drilled'\n",
    "              Nrows = 1,              # a row is parallel to the load\n",
    "              Nlines = 4,             # a line is perpendicular to the load\n",
    "              pitch = 75.,            # spacing measure paprallel to load (along length of angle)\n",
    "              end_distance = 30.,     # from end of angle to center of closest hole\n",
    "              )\n",
    "\n",
    "Bolt.set( Fu = BOLT_Fu[Bolt.type],\n",
    "           d = BOLT_DIA[Bolt.size],\n",
    "           ha = HOLE_DIA[Bolt.size] + (0. if Bolt.hole_type == 'drilled' else 2.),  # CSA S16-14 12.3.2\n",
    "           )\n",
    "Bolt.vars()"
   ]
  },
  {
   "cell_type": "code",
   "execution_count": 6,
   "metadata": {},
   "outputs": [
    {
     "data": {
      "text/plain": [
       "{'Ag': 2100.0,\n",
       " 'Fu': 450.0,\n",
       " 'Fy': 350.0,\n",
       " '_doc': 'Angle',\n",
       " 'b': 76.2,\n",
       " 'bolted_leg': 'long',\n",
       " 'd': 102.0,\n",
       " 'dsg': 'L102x76x13',\n",
       " 'm': 1,\n",
       " 't': 12.7,\n",
       " 'threads_intercepted': True}"
      ]
     },
     "execution_count": 6,
     "metadata": {},
     "output_type": "execute_result"
    }
   ],
   "source": [
    "Dsg = 'L102x76x13'\n",
    "Ag,d,b,t = SST.section(Dsg,'A,D,B,T')\n",
    "Angle = Part( 'Angle',\n",
    "               Fy = 350.,\n",
    "               Fu = 450.,\n",
    "               dsg = Dsg,\n",
    "               Ag = Ag,\n",
    "               d = d,\n",
    "               b = b,\n",
    "               t = t,\n",
    "               bolted_leg = 'long',   # 'short' or 'long'\n",
    "               m = 1,    # number of faying surfaces\n",
    "               threads_intercepted = True)\n",
    "Angle.vars()"
   ]
  },
  {
   "cell_type": "code",
   "execution_count": 7,
   "metadata": {
    "collapsed": false
   },
   "outputs": [],
   "source": [
    "des = DesignNotes('Tr',units='kN',trace=True)\n",
    "\n",
    "REQ = des.require   # useful abbreviations\n",
    "CHK = des.check       \n",
    "REC = des.record"
   ]
  },
  {
   "cell_type": "markdown",
   "metadata": {},
   "source": [
    "### Sanity check of input data:"
   ]
  },
  {
   "cell_type": "code",
   "execution_count": 8,
   "metadata": {
    "collapsed": false
   },
   "outputs": [],
   "source": [
    "REQ(Bolt.size in BOLT_DIA,'bolt size is not one of available sizes',\n",
    "    size=Bolt.size, SIZES=BOLT_DIA.keys())\n",
    "REQ(Bolt.hole_type in ['punched','drilled'], \"Value of 'hole_type' must be punched or drilled\")\n",
    "REQ(Angle.threads_intercepted in [False,True],\"Value of 'threads_intercepted' must be True or False\")\n",
    "REQ(Angle.m in [1,2], 'Number of faying surfaces must be 1 or 2')\n",
    "REQ(Angle.bolted_leg in ['short','long'],\"Value of 'bolted_leg' must be short or long\")\n",
    "REQ(Bolt.Nrows in [1,2],\"Nrows must be 1 or 2\")\n",
    "REQ(Bolt.Nlines >= 2 and Bolt.Nlines <= 10,\"Nlines must be in range of 2 to 10\")"
   ]
  },
  {
   "cell_type": "code",
   "execution_count": 9,
   "metadata": {
    "collapsed": false
   },
   "outputs": [
    {
     "name": "stdout",
     "output_type": "stream",
     "text": [
      "Ag = 2100\n",
      "d  = 102\n",
      "b  = 76.2\n",
      "t  = 12.7\n",
      "g1 = 65\n",
      "g2 = 0\n",
      "g3 = 37\n"
     ]
    }
   ],
   "source": [
    "# data derived from input data:  pitch, end_distance, gauges, etc.\n",
    "\n",
    "Ag,d,b,t,bleg = Angle['Ag,d,b,t,bolted_leg']\n",
    "if bleg == 'short':  # bolts go thru leg of size 'd'\n",
    "    d,b = b,d\n",
    "    \n",
    "bolt_diameter,pitch = Bolt['d,pitch']\n",
    "    \n",
    "min_end_distance = min_edge_distance = get_Table6(Bolt.size,col=1)  # CSA S16-14 22.3.3\n",
    "if Bolt.Nlines <= 2:\n",
    "    min_end_distance = 1.5*bolt_diameter  # CSA S16-01 22.3.4\n",
    "\n",
    "g1,g2 = get_UG_Angle(d,Bolt.Nrows,Bolt.size)\n",
    "g3 = edge_distance = d-(g1+g2)\n",
    "Angle.set( g1=g1, g2=g2, g3=g3 )\n",
    "show('Ag,d,b,t,g1,g2,g3')"
   ]
  },
  {
   "cell_type": "markdown",
   "metadata": {},
   "source": [
    "### Check Bolting Details\n",
    "Failure to meet requirements is not a fatal error. Results are reported in the work record."
   ]
  },
  {
   "cell_type": "code",
   "execution_count": 10,
   "metadata": {
    "collapsed": false
   },
   "outputs": [
    {
     "name": "stdout",
     "output_type": "stream",
     "text": [
      "    Pitch greater than minimum?  OK \n",
      "      (pitch=75.0, min_pitch=51.43)\n",
      "    Edge distance greater than minimum?  OK \n",
      "      (edge_distance=37.0, min_edge_distance=32)\n",
      "    Edge distance less than maximum?  OK \n",
      "      (edge_distance=37.0, max_edge_distance=150.0)\n",
      "    End distance greater than minimum?  NG! *****\n",
      "      (end_distance=30.0, min_end_distance=32)\n"
     ]
    },
    {
     "data": {
      "text/plain": [
       "False"
      ]
     },
     "execution_count": 10,
     "metadata": {},
     "output_type": "execute_result"
    }
   ],
   "source": [
    "# CSA S16-14  22.3.1, 22.3.2, 22.3.3, 22.3.4\n",
    "max_edge_distance = min(12.*t,150.)\n",
    "REQ(edge_distance > bolt_diameter/2.,\n",
    "    'Angle leg of {0} mm does not support {1} lines of bolts.'.format(Bolt.d,Bolt.Nlines))\n",
    "CHK(pitch >= 2.7*Bolt.d,\n",
    "    'Pitch greater than minimum','pitch',min_pitch=2.7*bolt_diameter)\n",
    "CHK(edge_distance >= min_edge_distance,\n",
    "    'Edge distance greater than minimum','edge_distance,min_edge_distance')\n",
    "CHK(edge_distance <= max_edge_distance,\n",
    "    'Edge distance less than maximum','edge_distance,max_edge_distance')\n",
    "end_distance = Bolt.end_distance\n",
    "CHK(end_distance >= min_end_distance,\n",
    "    'End distance greater than minimum','end_distance,min_end_distance')"
   ]
  },
  {
   "cell_type": "markdown",
   "metadata": {},
   "source": [
    "## Strength Calculations"
   ]
  },
  {
   "cell_type": "code",
   "execution_count": 11,
   "metadata": {
    "collapsed": false
   },
   "outputs": [],
   "source": [
    "# CSA S16-14  13.1\n",
    "phi = 0.90\n",
    "phiu = 0.75\n",
    "phib = 0.80 \n",
    "phibr = 0.80"
   ]
  },
  {
   "cell_type": "markdown",
   "metadata": {},
   "source": [
    "### Gross section yield:"
   ]
  },
  {
   "cell_type": "code",
   "execution_count": 22,
   "metadata": {
    "collapsed": false
   },
   "outputs": [
    {
     "name": "stdout",
     "output_type": "stream",
     "text": [
      "    Gross area yield: Tr = 661.5 kN\n",
      "       (Ag=2100, Fy=350.0)\n"
     ]
    }
   ],
   "source": [
    "# CSA S16-14   13.2 (a) (i):\n",
    "Ag,Fy = Angle['Ag,Fy']\n",
    "REC(phi*Ag*Fy * 1E-3,'Gross area yield','Ag,Fy');"
   ]
  },
  {
   "cell_type": "markdown",
   "metadata": {},
   "source": [
    "### Net section fracture:"
   ]
  },
  {
   "cell_type": "code",
   "execution_count": 13,
   "metadata": {
    "collapsed": false
   },
   "outputs": [
    {
     "name": "stdout",
     "output_type": "stream",
     "text": [
      "    Net area fracture: Tr = 484.7 kN\n",
      "       (An=1795, Ane=1436)\n"
     ]
    },
    {
     "data": {
      "text/plain": [
       "484.70400000000006"
      ]
     },
     "execution_count": 13,
     "metadata": {},
     "output_type": "execute_result"
    }
   ],
   "source": [
    "# CSA S16-14   13.2 (a) (iii):\n",
    "Nrows,Nlines,ha = Bolt['Nrows,Nlines,ha']\n",
    "Ag,t,Fu = Angle['Ag,t,Fu']\n",
    "An = Ag - Nrows*ha*t                # CSA S16-14 12.3.1 a)\n",
    "if Nlines >= 4:                     # CSA S16-14   12.3.3.2 (b)\n",
    "    Ane = 0.80*An\n",
    "else:\n",
    "    Ane = 0.60*An\n",
    "REC(phiu*Ane*Fu * 1E-3.,'Net area fracture','An,Ane');"
   ]
  },
  {
   "cell_type": "markdown",
   "metadata": {},
   "source": [
    "### Block shear failure:\n",
    "![Block Shear Patterns](images/bolted-single-angle-shear-blocks.svg)"
   ]
  },
  {
   "cell_type": "code",
   "execution_count": 16,
   "metadata": {
    "collapsed": false
   },
   "outputs": [
    {
     "name": "stdout",
     "output_type": "stream",
     "text": [
      "    Block shear (case 1): Tr = 647.2 kN\n",
      "       (An=317.5, Agv=3238, Ut=0.6)\n"
     ]
    }
   ],
   "source": [
    "#  CSA S16-14    13.11\n",
    "Nrows,Nlines,ha,e,s = Bolt['Nrows,Nlines,ha,end_distance,pitch']\n",
    "d,t,g1,g2,Fy,Fu = Angle['d,t,g1,g2,Fy,Fu']\n",
    "L = (Nlines-1.)*s\n",
    "\n",
    "# Case 1 - one shear area, tension failure from furthest bolt to edge\n",
    "An = (d - g1 - (Nrows-0.5)*ha)*t\n",
    "Agv = (e+L)*t\n",
    "Ut = 0.6\n",
    "Fv = (Fy+Fu)/2.\n",
    "if Fy > 460:     # CSA S16-14 13.11  (foot note)\n",
    "    Fv = Fy\n",
    "REC(phiu*(Ut*An*Fu + 0.6*Agv*Fv) * 1E-3,'Block shear (case 1)','An,Agv,Ut');"
   ]
  },
  {
   "cell_type": "code",
   "execution_count": 19,
   "metadata": {
    "collapsed": false
   },
   "outputs": [],
   "source": [
    "# Case 2 - for 2 or more rows of bolts    CSA S16-14 13.11\n",
    "if Nrows > 1:\n",
    "    An = (g2 - ha)*t\n",
    "    Agv = 2.*(e+L)*t\n",
    "    Ut = 0.6\n",
    "    REC(phiu*(Ut*An*Fu + 0.6*Agv*Fv) * 1E-3,'Block shear (case 2)','An,Agv,Ut')"
   ]
  },
  {
   "cell_type": "code",
   "execution_count": 21,
   "metadata": {
    "collapsed": false
   },
   "outputs": [
    {
     "name": "stdout",
     "output_type": "stream",
     "text": [
      "    Block shear (tearout): Tr = 1166 kN\n",
      "       (An=0, Agv=6477, Ut=0)\n"
     ]
    }
   ],
   "source": [
    "# Case 3 - tearout     CSA S16-14 13.11 \n",
    "An = 0.\n",
    "Agv = 2.*(e+L)*t*Nrows\n",
    "Ut = 0.\n",
    "REC(phiu*(Ut*An*Fu + 0.6*Agv*Fv) * 1E-3,'Block shear (tearout)','An,Agv,Ut');"
   ]
  },
  {
   "cell_type": "markdown",
   "metadata": {},
   "source": [
    "### Fastener strength, bearing-type connection: bolts in shear"
   ]
  },
  {
   "cell_type": "code",
   "execution_count": 26,
   "metadata": {
    "collapsed": false
   },
   "outputs": [
    {
     "name": "stdout",
     "output_type": "stream",
     "text": [
      "    Bolt Shear: Tr = 316.0 kN\n",
      "       (multiplier=0.7, m=1, n=4, Ab=285.0, Fub=825.0)\n"
     ]
    },
    {
     "data": {
      "text/plain": [
       "316.0334493221597"
      ]
     },
     "execution_count": 26,
     "metadata": {},
     "output_type": "execute_result"
    }
   ],
   "source": [
    "m,threads_in = Angle['m,threads_intercepted']\n",
    "db,Fub,s,Nrows,Nlines = Bolt['d,Fu,pitch,Nrows,Nlines']\n",
    "\n",
    "n = Nrows*Nlines\n",
    "L = (Nlines-1.)*s   # length of connection\n",
    "\n",
    "# CSA S16-14   13.12.1.2 (c)\n",
    "multiplier = 1.0\n",
    "if L >= 760.:\n",
    "    multiplier *= 0.5/0.6\n",
    "if threads_in:\n",
    "    multiplier *= 0.70\n",
    "Ab = (3.1415926*db*db/4.)\n",
    "Vr = multiplier*0.6*phib*n*m*Ab*Fub * 1E-3\n",
    "REC(Vr,'Bolt Shear','multiplier,m,n,Ab,Fub')"
   ]
  },
  {
   "cell_type": "code",
   "execution_count": 15,
   "metadata": {},
   "outputs": [
    {
     "ename": "Exception",
     "evalue": "Converted to Here!",
     "output_type": "error",
     "traceback": [
      "\u001b[0;31m---------------------------------------------------------------------------\u001b[0m",
      "\u001b[0;31mException\u001b[0m                                 Traceback (most recent call last)",
      "\u001b[0;32m<ipython-input-15-af2af5493931>\u001b[0m in \u001b[0;36m<module>\u001b[0;34m()\u001b[0m\n\u001b[0;32m----> 1\u001b[0;31m \u001b[0;32mraise\u001b[0m \u001b[0mException\u001b[0m\u001b[0;34m(\u001b[0m\u001b[0;34m'Converted to Here!'\u001b[0m\u001b[0;34m)\u001b[0m\u001b[0;34m\u001b[0m\u001b[0;34m\u001b[0m\u001b[0m\n\u001b[0m",
      "\u001b[0;31mException\u001b[0m: Converted to Here!"
     ]
    }
   ],
   "source": [
    "raise Exception('Converted to Here!')"
   ]
  },
  {
   "cell_type": "markdown",
   "metadata": {},
   "source": [
    "#### Bolts in bearing:"
   ]
  },
  {
   "cell_type": "code",
   "execution_count": null,
   "metadata": {
    "collapsed": false
   },
   "outputs": [],
   "source": [
    "# CSA S16-09    13.12.1.2:\n",
    "Br = 3.*phibr*n*t*db*Fu/1000.\n",
    "REC('Bolt Bearing',n=n,d=db,t=t,Tr=Br)"
   ]
  },
  {
   "cell_type": "markdown",
   "metadata": {},
   "source": [
    "#### Combined tearout and bearing:"
   ]
  },
  {
   "cell_type": "code",
   "execution_count": null,
   "metadata": {
    "collapsed": false
   },
   "outputs": [],
   "source": [
    "# combine tearout of bolts closest to end with bearing of remainder\n",
    "e = end_distance\n",
    "Agv = 2.*e*t*Nlines\n",
    "n = Nlines*(Nrows-1)\n",
    "Tr = phiu*(0.6*Agv*Fv)/1000.\n",
    "Br = 3.*phibr*n*t*db*Fu/1000.\n",
    "REC('Bolt bearing + end tearout',n=n,t=t,d=db,Agv=Agv,Tr=Tr+Br)"
   ]
  },
  {
   "cell_type": "markdown",
   "metadata": {},
   "source": [
    "### Summary:"
   ]
  },
  {
   "cell_type": "code",
   "execution_count": null,
   "metadata": {
    "collapsed": false
   },
   "outputs": [],
   "source": [
    "des.show('Fy,Fu,AngleDsg,Ag,d,b,t,Fub,bolt_size,bolt_diameter,hole_type',\n",
    "         'pitch,end_distance,threads_intercepted,shear_type,bolted_leg,Nlines,Nrows',\n",
    "         'end_distance,edge_distance,g1,g2')\n",
    "des.summary()          "
   ]
  },
  {
   "cell_type": "code",
   "execution_count": null,
   "metadata": {
    "collapsed": false
   },
   "outputs": [],
   "source": []
  }
 ],
 "metadata": {
  "kernelspec": {
   "display_name": "Python 3",
   "language": "python",
   "name": "python3"
  },
  "language_info": {
   "codemirror_mode": {
    "name": "ipython",
    "version": 3
   },
   "file_extension": ".py",
   "mimetype": "text/x-python",
   "name": "python",
   "nbconvert_exporter": "python",
   "pygments_lexer": "ipython3",
   "version": "3.6.7"
  }
 },
 "nbformat": 4,
 "nbformat_minor": 2
}
