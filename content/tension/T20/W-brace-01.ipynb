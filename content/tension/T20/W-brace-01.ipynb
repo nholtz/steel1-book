{
 "cells": [
  {
   "cell_type": "markdown",
   "metadata": {},
   "source": [
    "# W Brace with Reduced cross-section\n",
    "\n",
    "This example shows the computation of the factored tension resistance of a W shape used as a tension\n",
    "member in a lateral brace in a building such as that shown in the following photo.  There are 4 braces\n",
    "shown.  Note that the upper left brace has the flange tips removed from the W-shape (to ensure \n",
    "ductility under seismic forces).  We will compute the strength of a brace similar to that shown\n",
    "in the photo.\n",
    "\n",
    "![Cross Braces](images/DSC6443-small.jpg)\n",
    "\n",
    "Note that this was given as problem PA2, Jan 22, 2015."
   ]
  },
  {
   "cell_type": "markdown",
   "metadata": {},
   "source": [
    "Compute the factored tension resistance, $T_r$, of the following assembly.  Steel is G40.21 350W and bolts\n",
    "are 3/4\" ASTM A325 in 22mm punched holes.\n",
    "\n",
    "![End Details](images/brace1.svg)\n",
    "\n",
    "Note that 40mm is cut from each flange tip of the W250x67."
   ]
  },
  {
   "cell_type": "code",
   "execution_count": 1,
   "metadata": {
    "collapsed": false
   },
   "outputs": [],
   "source": [
    "from Designer import show, DesignNotes, SST\n",
    "notes = DesignNotes('Tr',trace=True)"
   ]
  },
  {
   "cell_type": "markdown",
   "metadata": {},
   "source": [
    "## Tr for Angles"
   ]
  },
  {
   "cell_type": "code",
   "execution_count": 2,
   "metadata": {
    "collapsed": false
   },
   "outputs": [
    {
     "name": "stdout",
     "output_type": "stream",
     "text": [
      "d  = 102\n",
      "b  = 76.2\n",
      "t  = 12.7\n",
      "Ag = 2100\n",
      "bd = 19.05\n",
      "ha = 24\n",
      "g1 = 65\n",
      "g2 = 45\n"
     ]
    }
   ],
   "source": [
    "Fy = 350\n",
    "Fu = 450\n",
    "d,b,t,Ag = SST.section('L102x76x13','D,B,T,A')\n",
    "bd = 25.4 * 3/4   # bolt size, mm\n",
    "ha = 22 + 2  # hole allowance  - punched holes\n",
    "g1 = 65      # gauge, longer leg\n",
    "g2 = 45      # gauge, shorter leg\n",
    "show('d,b,t,Ag,bd,ha,g1,g2')"
   ]
  },
  {
   "cell_type": "markdown",
   "metadata": {},
   "source": [
    "![Angle Details](images/angle.svg)"
   ]
  },
  {
   "cell_type": "markdown",
   "metadata": {},
   "source": [
    "### Net Section Fracture:"
   ]
  },
  {
   "cell_type": "code",
   "execution_count": 3,
   "metadata": {
    "collapsed": false
   },
   "outputs": [
    {
     "name": "stdout",
     "output_type": "stream",
     "text": [
      "wg  = 165.5\n",
      "g   = 97.3\n",
      "s   = 80\n",
      "wn1 = 141.5\n",
      "wn2 = 133.9\n",
      "wn  = 133.9\n"
     ]
    }
   ],
   "source": [
    "# gross width = \"flattened\" width of angle:\n",
    "wg = d + b - t\n",
    "\n",
    "# failure path 1-1: 1 hole\n",
    "wn1 = wg - 1*ha\n",
    "\n",
    "# failure path 2-2: 2 holes\n",
    "g = g1 + g2 - t\n",
    "s = 80\n",
    "wn2 = wg - 2*ha + s**2/(4*g)\n",
    "\n",
    "wn = min(wn1,wn2)\n",
    "show('wg,g,s,wn1,wn2,wn')"
   ]
  },
  {
   "cell_type": "code",
   "execution_count": 4,
   "metadata": {
    "collapsed": false
   },
   "outputs": [
    {
     "name": "stdout",
     "output_type": "stream",
     "text": [
      "    Net section fracture, 4 angles: Tr = 1837\n",
      "       (An=1701, Ane=1361, Fu=450)\n"
     ]
    }
   ],
   "source": [
    "An = wn*t\n",
    "Ane = 0.8*An   # S16-14: 12.3.3.2 (b) (i) - connected 1 leg 4 lines of bolts\n",
    "phiu = 0.75\n",
    "Tr = 4. * phiu*Ane*Fu * 1E-3     # S16-14: 13.2 a) iii)\n",
    "notes.record(Tr,'Net section fracture, 4 angles','An,Ane,Tr,Fu');"
   ]
  },
  {
   "cell_type": "markdown",
   "metadata": {},
   "source": [
    "### Gross Section Yield:"
   ]
  },
  {
   "cell_type": "code",
   "execution_count": 5,
   "metadata": {
    "collapsed": false
   },
   "outputs": [
    {
     "name": "stdout",
     "output_type": "stream",
     "text": [
      "    Gross section yield, 4 angles: Tr = 2646\n",
      "       (Ag=2100)\n"
     ]
    }
   ],
   "source": [
    "phi = 0.9\n",
    "Tr = 4. * phi*Ag*Fy * 1E-3    # S16-14: 13.2 a) i)\n",
    "notes.record(Tr,'Gross section yield, 4 angles','Ag,Tr');"
   ]
  },
  {
   "cell_type": "markdown",
   "metadata": {},
   "source": [
    "### Block Shear"
   ]
  },
  {
   "cell_type": "code",
   "execution_count": 6,
   "metadata": {
    "collapsed": false
   },
   "outputs": [
    {
     "name": "stdout",
     "output_type": "stream",
     "text": [
      "    Block shear, 4 angles: Tr = 2522\n",
      "       (Ut=0.3, An=243.8, Agv=3366)\n"
     ]
    }
   ],
   "source": [
    "Agv = (40. + 3*75.)*t\n",
    "An = (min(d-g1,b-g2) - ha/2.)*t\n",
    "Ut = 0.3\n",
    "phiu = 0.75\n",
    "Tr = 4. * phiu*(Ut*An*Fu + 0.6*Agv*(Fy+Fu)/2.) * 1E-3\n",
    "notes.record(Tr,'Block shear, 4 angles','Ut,An,Agv,Tr');"
   ]
  },
  {
   "cell_type": "markdown",
   "metadata": {},
   "source": [
    "## Tr for W Shape"
   ]
  },
  {
   "cell_type": "markdown",
   "metadata": {},
   "source": [
    "![W Shape](images/w.svg)"
   ]
  },
  {
   "cell_type": "code",
   "execution_count": 7,
   "metadata": {
    "collapsed": false
   },
   "outputs": [
    {
     "name": "stdout",
     "output_type": "stream",
     "text": [
      "Ag = 8550\n",
      "b  = 204\n",
      "d  = 257\n",
      "t  = 15.7\n",
      "w  = 8.9\n",
      "Fy = 350\n",
      "Fu = 450\n"
     ]
    }
   ],
   "source": [
    "Fy = 350.\n",
    "Fu = 450.\n",
    "Ag,b,d,t,w = SST.section('W250x67',properties='A,B,D,T,W')\n",
    "show('Ag,b,d,t,w,Fy,Fu')"
   ]
  },
  {
   "cell_type": "code",
   "execution_count": 8,
   "metadata": {
    "collapsed": false
   },
   "outputs": [],
   "source": [
    "wp = 190   # width of web reinforcing PL\n",
    "tp = 8     # thickness of web reinforcing PL\n",
    "wc = 40    # width cut from flange tips"
   ]
  },
  {
   "cell_type": "markdown",
   "metadata": {},
   "source": [
    "### Net section fracture"
   ]
  },
  {
   "cell_type": "code",
   "execution_count": 9,
   "metadata": {
    "collapsed": false
   },
   "outputs": [
    {
     "name": "stdout",
     "output_type": "stream",
     "text": [
      "    Net section fracture, W shape: Tr = 2982\n",
      "       (An=10390, Ane=8836)\n"
     ]
    }
   ],
   "source": [
    "# Path 1-1: net = gross  +  plates  -  holes\n",
    "An = Ag  +  2*tp*wp   -  2*ha*(w+tp+tp)\n",
    "Ane = 0.85*An    # S16-14: 12.3.3.2 (c) (i)\n",
    "phiu = 0.75\n",
    "Tr = phiu*Ane*Fu * 1E-3\n",
    "notes.record(Tr,'Net section fracture, W shape','An,Ane,Tr');"
   ]
  },
  {
   "cell_type": "markdown",
   "metadata": {},
   "source": [
    "### Gross section yield"
   ]
  },
  {
   "cell_type": "code",
   "execution_count": 10,
   "metadata": {
    "collapsed": false
   },
   "outputs": [
    {
     "name": "stdout",
     "output_type": "stream",
     "text": [
      "    Gross section yield, W shape: Tr = 1902\n",
      "       (Agr=6038)\n"
     ]
    }
   ],
   "source": [
    "Agr = Ag - 4*wc*t   # reduced area due to flange cuts\n",
    "phi = 0.9\n",
    "Tr = phi*Fy*Agr * 1E-3     # S16-14: 13.2 a) i)\n",
    "notes.record(Tr,'Gross section yield, W shape','Agr,Tr');"
   ]
  },
  {
   "cell_type": "markdown",
   "metadata": {},
   "source": [
    "### Block Shear"
   ]
  },
  {
   "cell_type": "code",
   "execution_count": 11,
   "metadata": {},
   "outputs": [
    {
     "name": "stdout",
     "output_type": "stream",
     "text": [
      "    Block shear, W shape: Tr = 3140\n",
      "       (T=24.9, Ut=1.0, An=2266, Agv=13200)\n"
     ]
    }
   ],
   "source": [
    "T = w + tp + tp          # thickness of web + reinforcing plates\n",
    "Agv = 2*(40 + 3*75)*T\n",
    "An = (g2 + g2 + 25 - ha)*T   # estimate 25mm spacing between angles (gusset thickness)\n",
    "Ut = 1.0\n",
    "phiu = 0.75\n",
    "Tr = phiu*(Ut*An*Fu + 0.6*Agv*(Fy+Fu)/2.) * 1E-3       # S16-14: 13.11\n",
    "notes.record(Tr,'Block shear, W shape','T,Ut,An,Agv,Tr');"
   ]
  },
  {
   "cell_type": "markdown",
   "metadata": {},
   "source": [
    "### Tearout"
   ]
  },
  {
   "cell_type": "code",
   "execution_count": 12,
   "metadata": {},
   "outputs": [
    {
     "name": "stdout",
     "output_type": "stream",
     "text": [
      "    Tearout, W shape: Tr = 4751\n",
      "       (Ut=1.0, An=0, Agv=26390)\n"
     ]
    }
   ],
   "source": [
    "Agv = 4*(40 + 3*75)*T\n",
    "An = 0.\n",
    "Ut = 1.0\n",
    "phiu = 0.75\n",
    "Tr = phiu*(Ut*An*Fu + 0.6*Agv*(Fy+Fu)/2.) * 1E-3      # S16-14: 13.11\n",
    "notes.record(Tr,'Tearout, W shape','Ut,An,Agv,Tr');"
   ]
  },
  {
   "cell_type": "markdown",
   "metadata": {},
   "source": [
    "## Summary"
   ]
  },
  {
   "cell_type": "code",
   "execution_count": 13,
   "metadata": {
    "collapsed": false
   },
   "outputs": [
    {
     "name": "stdout",
     "output_type": "stream",
     "text": [
      "\n",
      "Summary of DesignNotes for Tr\n",
      "=============================\n",
      "\n",
      "Values of Tr:\n",
      "-------------\n",
      "    Net section fracture, 4 angles: Tr = 1840  <-- governs\n",
      "    Gross section yield, 4 angles:  Tr = 2650\n",
      "    Block shear, 4 angles:          Tr = 2520\n",
      "    Net section fracture, W shape:  Tr = 2980\n",
      "    Gross section yield, W shape:   Tr = 1900\n",
      "    Block shear, W shape:           Tr = 3140\n",
      "    Tearout, W shape:               Tr = 4750\n",
      "\n",
      "    Governing Value:\n",
      "    ----------------\n",
      "       Tr = 1840 \n"
     ]
    }
   ],
   "source": [
    "notes.summary()"
   ]
  },
  {
   "cell_type": "markdown",
   "metadata": {},
   "source": [
    "## To do:\n",
    "\n",
    "- bolts, shear\n",
    "- bolts, bearing\n",
    "- weld, reinforcing plates to web"
   ]
  },
  {
   "cell_type": "code",
   "execution_count": null,
   "metadata": {},
   "outputs": [],
   "source": []
  }
 ],
 "metadata": {
  "kernelspec": {
   "display_name": "Python 3",
   "language": "python",
   "name": "python3"
  },
  "language_info": {
   "codemirror_mode": {
    "name": "ipython",
    "version": 3
   },
   "file_extension": ".py",
   "mimetype": "text/x-python",
   "name": "python",
   "nbconvert_exporter": "python",
   "pygments_lexer": "ipython3",
   "version": "3.6.7"
  }
 },
 "nbformat": 4,
 "nbformat_minor": 2
}
