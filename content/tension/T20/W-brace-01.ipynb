{
 "cells": [
  {
   "cell_type": "markdown",
   "metadata": {},
   "source": [
    "# Example T20: W Brace with Reduced cross-section\n",
    "\n",
    "This example shows the computation of the factored tension resistance of a W shape used as a tension\n",
    "member in a lateral brace in a building such as that shown in the following photo.  There are 4 braces\n",
    "shown.  Note that the upper left brace has the flange tips removed from the W-shape (to ensure \n",
    "ductility under seismic forces).  We will compute the strength of a brace similar to that shown\n",
    "in the photo.\n",
    "\n",
    "![Cross Braces](images/DSC6443-small.jpg)\n",
    "\n",
    "Note that this was given as problem PA2, Jan 22, 2015."
   ]
  },
  {
   "cell_type": "markdown",
   "metadata": {},
   "source": [
    "#### Load and Setup the Library Modules"
   ]
  },
  {
   "cell_type": "code",
   "execution_count": 1,
   "metadata": {
    "collapsed": false
   },
   "outputs": [],
   "source": [
    "from Designer import show, DesignNotes, SST, CMPart as Part"
   ]
  },
  {
   "cell_type": "code",
   "execution_count": 2,
   "metadata": {},
   "outputs": [],
   "source": [
    "import pint                  # setup to use the module for computing with units\n",
    "ureg = pint.UnitRegistry()\n",
    "mm = ureg['mm']\n",
    "inch = ureg['inch']\n",
    "kN = ureg['kN']\n",
    "MPa = ureg['MPa']\n",
    "ureg.default_format = '~P'"
   ]
  },
  {
   "cell_type": "code",
   "execution_count": 3,
   "metadata": {},
   "outputs": [],
   "source": [
    "notes = DesignNotes('Tr',trace=True,units=kN)      # initial the note/record keeping object\n",
    "RECORD = notes.record     # useful abbreviations\n",
    "CHECK = notes.check"
   ]
  },
  {
   "cell_type": "markdown",
   "metadata": {},
   "source": [
    "## Problem Statement\n",
    "\n",
    "Compute the factored tension resistance, $T_r$, of the following assembly.  Steel is G40.21 350W and bolts are 3/4\" ASTM A325 in 22mm punched holes.\n",
    "\n",
    "![End Details](images/brace1.svg)\n",
    "\n",
    "Note that 40mm is cut from each flange tip of the W250x67."
   ]
  },
  {
   "cell_type": "markdown",
   "metadata": {},
   "source": [
    "## Angles"
   ]
  },
  {
   "cell_type": "markdown",
   "metadata": {},
   "source": [
    "![Angle Details](images/angle.svg)"
   ]
  },
  {
   "cell_type": "code",
   "execution_count": 4,
   "metadata": {
    "collapsed": false
   },
   "outputs": [
    {
     "name": "stdout",
     "output_type": "stream",
     "text": [
      "grade = ASTM A325 \n",
      "size  = 3/4\"      \n",
      "bd    = 19.05     mm\n",
      "Fub   = 825       MPa\n",
      "Ab    = 285       mm²\n"
     ]
    }
   ],
   "source": [
    "Bolts = Part( \"Bolts\",\n",
    "            grade = 'ASTM A325',\n",
    "            size = '3/4\"',\n",
    "            bd = (3/4*inch).to(mm),\n",
    "            Fub = 825*MPa,\n",
    "            )\n",
    "Bolts.Ab = 3.14159*Bolts.bd**2/4.\n",
    "\n",
    "with Bolts:\n",
    "    show('grade,size,bd,Fub,Ab')"
   ]
  },
  {
   "cell_type": "code",
   "execution_count": 5,
   "metadata": {
    "collapsed": false
   },
   "outputs": [
    {
     "name": "stdout",
     "output_type": "stream",
     "text": [
      "grade = CSA G40.21 350W \n",
      "Fy    = 350        MPa\n",
      "Fu    = 450        MPa\n",
      "size  = L102x76x13 \n",
      "d     = 102        mm\n",
      "b     = 76.2       mm\n",
      "t     = 12.7       mm\n",
      "Ag    = 2100       mm²\n",
      "g1    = 65         mm\n",
      "g2    = 45         mm\n",
      "s     = 80         mm\n",
      "ha    = 24         mm\n"
     ]
    }
   ],
   "source": [
    "Fy = 350\n",
    "Fu = 450\n",
    "d,b,t,Ag,Dsg = SST.section('L102x76x13','D,B,T,A,Dsg')\n",
    "Angles = Part( \"Angles\",\n",
    "              grade = 'CSA G40.21 350W',\n",
    "              Fy = 350*MPa,\n",
    "              Fu = 450*MPa,\n",
    "              size = Dsg,\n",
    "              d = d*mm,\n",
    "              b = b*mm,\n",
    "              t = t*mm,\n",
    "              Ag = Ag*mm*mm,\n",
    "              ha = (22 + 2)*mm,  # hole allowance  - punched holes\n",
    "              g1 = 65*mm,      # gauge, longer leg\n",
    "              g2 = 45*mm,      # gauge, shorter leg\n",
    "              s = 80*mm,       # dist between innermost holes on each end\n",
    "             )\n",
    "with Angles:\n",
    "    show('grade,Fy,Fu,size,d,b,t,Ag,g1,g2,s,ha',object=Angles)"
   ]
  },
  {
   "cell_type": "markdown",
   "metadata": {},
   "source": [
    "### Check Details (TO BE DONE!)\n",
    "* Bolt spacings, edge distances\n",
    "* Fit within flanges (need gusset thickness)"
   ]
  },
  {
   "cell_type": "code",
   "execution_count": 6,
   "metadata": {},
   "outputs": [
    {
     "name": "stdout",
     "output_type": "stream",
     "text": [
      "    Bolting and fitting details have not been checked.?  NG! *****\n",
      "      ()\n"
     ]
    }
   ],
   "source": [
    "CHECK(False,'Bolting and fitting details have not been checked.')"
   ]
  },
  {
   "cell_type": "markdown",
   "metadata": {},
   "source": [
    "### Net Section Fracture:"
   ]
  },
  {
   "cell_type": "code",
   "execution_count": 7,
   "metadata": {
    "collapsed": false
   },
   "outputs": [
    {
     "name": "stdout",
     "output_type": "stream",
     "text": [
      "wg  = 165.5 mm\n",
      "g   = 97.3  mm\n",
      "s   = 80    mm\n",
      "wn1 = 141.5 mm\n",
      "wn2 = 133.9 mm\n",
      "wn  = 133.9 mm\n"
     ]
    }
   ],
   "source": [
    "with Angles:\n",
    "    # gross width = \"flattened\" width of angle:\n",
    "    wg = d + b - t\n",
    "\n",
    "    # failure path 1-1: 1 hole\n",
    "    wn1 = wg - 1*ha\n",
    "\n",
    "    # failure path 2-2: 2 holes\n",
    "    g = g1 + g2 - t\n",
    "    wn2 = wg - 2*ha + s**2/(4*g)\n",
    "\n",
    "    wn = min(wn1,wn2)\n",
    "    show('wg,g,s,wn1,wn2,wn')"
   ]
  },
  {
   "cell_type": "code",
   "execution_count": 8,
   "metadata": {
    "collapsed": false
   },
   "outputs": [
    {
     "data": {
      "text/plain": [
       "    Net section fracture, 4 angles: Tr = 1837 kN    <<<--- GOVERNS\n",
       "       (An=1701mm², Ane=1361mm², Fu=450MPa)"
      ]
     },
     "metadata": {},
     "output_type": "display_data"
    }
   ],
   "source": [
    "with Angles:\n",
    "    An = wn*t\n",
    "    Ane = 0.8*An   # S16-14: 12.3.3.2 (b) (i) - connected 1 leg 4 lines of bolts\n",
    "    phiu = 0.75\n",
    "    Tr = 4. * phiu*Ane*Fu    # S16-14: 13.2 a) iii)\n",
    "    RECORD(Tr,'Net section fracture, 4 angles','An,Ane,Tr,Fu');"
   ]
  },
  {
   "cell_type": "markdown",
   "metadata": {},
   "source": [
    "### Gross Section Yield:"
   ]
  },
  {
   "cell_type": "code",
   "execution_count": 9,
   "metadata": {
    "collapsed": false
   },
   "outputs": [
    {
     "data": {
      "text/plain": [
       "    Gross section yield, 4 angles: Tr = 2646 kN\n",
       "       (Ag=2100mm², Fy=350MPa)"
      ]
     },
     "metadata": {},
     "output_type": "display_data"
    }
   ],
   "source": [
    "with Angles:\n",
    "    phi = 0.9\n",
    "    Tr = 4. * phi*Ag*Fy    # S16-14: 13.2 a) i)\n",
    "    RECORD(Tr,'Gross section yield, 4 angles','Ag,Fy,Tr');"
   ]
  },
  {
   "cell_type": "markdown",
   "metadata": {},
   "source": [
    "### Block Shear"
   ]
  },
  {
   "cell_type": "code",
   "execution_count": 10,
   "metadata": {
    "collapsed": false
   },
   "outputs": [
    {
     "data": {
      "text/plain": [
       "    Block shear, 4 angles: Tr = 2522 kN\n",
       "       (Ut=0.3, An=243.8mm², Agv=3366mm²)"
      ]
     },
     "metadata": {},
     "output_type": "display_data"
    }
   ],
   "source": [
    "with Angles:\n",
    "    Agv = (40*mm + 3*75*mm)*t\n",
    "    An = (min(d-g1,b-g2) - ha/2.)*t\n",
    "    Ut = 0.3\n",
    "    phiu = 0.75\n",
    "    Tr = 4. * phiu*(Ut*An*Fu + 0.6*Agv*(Fy+Fu)/2.)\n",
    "    RECORD(Tr,'Block shear, 4 angles','Ut,An,Agv,Tr');"
   ]
  },
  {
   "cell_type": "markdown",
   "metadata": {},
   "source": [
    "## Tr for W Shape"
   ]
  },
  {
   "cell_type": "markdown",
   "metadata": {},
   "source": [
    "![W Shape](images/w.svg)"
   ]
  },
  {
   "cell_type": "code",
   "execution_count": 11,
   "metadata": {
    "collapsed": false
   },
   "outputs": [
    {
     "name": "stdout",
     "output_type": "stream",
     "text": [
      "grade = ASTM A992 \n",
      "size  = W250x67   \n",
      "Fy    = 345       MPa\n",
      "Fy    = 345       MPa\n",
      "Ag    = 8550      mm²\n",
      "b     = 204       mm\n",
      "d     = 257       mm\n",
      "t     = 15.7      mm\n",
      "w     = 8.9       mm\n",
      "wp    = 190       mm\n",
      "tp    = 8         mm\n",
      "wc    = 40        mm\n"
     ]
    }
   ],
   "source": [
    "Ag,b,d,t,w,Dsg = SST.section('W250x67',properties='A,B,D,T,W,Dsg')\n",
    "\n",
    "WShape = Part( \"WShape\",\n",
    "            grade = 'ASTM A992',\n",
    "             Fy = 345*MPa,\n",
    "             Fu = 450*MPa,\n",
    "             size = Dsg,\n",
    "             Ag = Ag*mm*mm,\n",
    "             b = b*mm,\n",
    "             d = d*mm,\n",
    "             t = t*mm,\n",
    "             w = w*mm,\n",
    "              wp = 190*mm,          # width of web reinforcing PL\n",
    "              tp = 8*mm,            # thickness of web reinforcing PL\n",
    "              wc = 40*mm,           # width cut from flange tips\n",
    "             )\n",
    "\n",
    "with WShape:\n",
    "    show('grade,size,Fy,Fy,Ag,b,d,t,w,wp,tp,wc')"
   ]
  },
  {
   "cell_type": "markdown",
   "metadata": {},
   "source": [
    "### Net section fracture"
   ]
  },
  {
   "cell_type": "code",
   "execution_count": 12,
   "metadata": {
    "collapsed": false
   },
   "outputs": [
    {
     "data": {
      "text/plain": [
       "    Net section fracture, W shape: Tr = 2982 kN\n",
       "       (Ag=8550mm², ha=24mm, w=8.9mm, tp=8mm, An=10390mm², Ane=8836mm²)"
      ]
     },
     "metadata": {},
     "output_type": "display_data"
    }
   ],
   "source": [
    "# Path 1-1: net = gross  +  plates  -  holes\n",
    "with Angles,WShape:\n",
    "    An = Ag  +  2*tp*wp   -  2*ha*(w+tp+tp)\n",
    "    Ane = 0.85*An    # S16-14: 12.3.3.2 (c) (i)\n",
    "    phiu = 0.75\n",
    "    Tr = phiu*Ane*Fu\n",
    "    RECORD(Tr,'Net section fracture, W shape','Ag,ha,w,tp,An,Ane,Tr');"
   ]
  },
  {
   "cell_type": "markdown",
   "metadata": {},
   "source": [
    "### Gross section yield"
   ]
  },
  {
   "cell_type": "code",
   "execution_count": 13,
   "metadata": {
    "collapsed": false
   },
   "outputs": [
    {
     "data": {
      "text/plain": [
       "    Gross section yield, W shape: Tr = 1875 kN\n",
       "       (Agr=6038mm²)"
      ]
     },
     "metadata": {},
     "output_type": "display_data"
    }
   ],
   "source": [
    "with WShape:\n",
    "    Agr = Ag - 4*wc*t   # reduced area due to flange cuts\n",
    "    phi = 0.9\n",
    "    Tr = phi*Fy*Agr     # S16-14: 13.2 a) i)\n",
    "    RECORD(Tr,'Gross section yield, W shape','Agr,Tr');"
   ]
  },
  {
   "cell_type": "markdown",
   "metadata": {},
   "source": [
    "### Block Shear"
   ]
  },
  {
   "cell_type": "code",
   "execution_count": 14,
   "metadata": {},
   "outputs": [
    {
     "data": {
      "text/plain": [
       "    Block shear, W shape: Tr = 3125 kN\n",
       "       (T=24.9mm, Ut=1.0, An=2266mm², Agv=13200mm²)"
      ]
     },
     "metadata": {},
     "output_type": "display_data"
    }
   ],
   "source": [
    "with Angles,WShape:\n",
    "    T = w + tp + tp          # thickness of web + reinforcing plates\n",
    "    Agv = 2*(40*mm + 3*75*mm)*T\n",
    "    An = (g2 + g2 + 25*mm - ha)*T   # estimate 25mm spacing between angles (gusset thickness)\n",
    "    Ut = 1.0\n",
    "    phiu = 0.75\n",
    "    Tr = phiu*(Ut*An*Fu + 0.6*Agv*(Fy+Fu)/2.)       # S16-14: 13.11\n",
    "    RECORD(Tr,'Block shear, W shape','T,Ut,An,Agv,Tr');"
   ]
  },
  {
   "cell_type": "markdown",
   "metadata": {},
   "source": [
    "### Tearout"
   ]
  },
  {
   "cell_type": "code",
   "execution_count": 15,
   "metadata": {},
   "outputs": [
    {
     "data": {
      "text/plain": [
       "    Tearout, W shape: Tr = 4721 kN\n",
       "       (Ut=1.0, An=0mm², Agv=26390mm²)"
      ]
     },
     "metadata": {},
     "output_type": "display_data"
    }
   ],
   "source": [
    "with WShape:\n",
    "    Agv = 4*(40*mm + 3*75*mm)*T\n",
    "    An = 0*mm*mm\n",
    "    Ut = 1.0\n",
    "    phiu = 0.75\n",
    "    Tr = phiu*(Ut*An*Fu + 0.6*Agv*(Fy+Fu)/2.)       # S16-14: 13.11\n",
    "    notes.record(Tr,'Tearout, W shape','Ut,An,Agv,Tr');"
   ]
  },
  {
   "cell_type": "markdown",
   "metadata": {},
   "source": [
    "## Summary"
   ]
  },
  {
   "cell_type": "code",
   "execution_count": 16,
   "metadata": {
    "collapsed": false
   },
   "outputs": [
    {
     "name": "stdout",
     "output_type": "stream",
     "text": [
      "\n",
      "Summary of DesignNotes for Tr\n",
      "=============================\n",
      "\n",
      "Checks:\n",
      "-------\n",
      "    Bolting and fitting details have not been checked.?   NG! *****\n",
      "      ()\n",
      "\n",
      "Values of Tr:\n",
      "-------------\n",
      "    Net section fracture, 4 angles: Tr = 1840 kN    <<<--- GOVERNS\n",
      "    Gross section yield, 4 angles:  Tr = 2650 kN\n",
      "    Block shear, 4 angles:          Tr = 2520 kN\n",
      "    Net section fracture, W shape:  Tr = 2980 kN\n",
      "    Gross section yield, W shape:   Tr = 1870 kN\n",
      "    Block shear, W shape:           Tr = 3130 kN\n",
      "    Tearout, W shape:               Tr = 4720 kN\n",
      "\n",
      "    Governing Value:\n",
      "    ----------------\n",
      "       Tr = 1840 kN\n"
     ]
    }
   ],
   "source": [
    "notes.summary()"
   ]
  },
  {
   "cell_type": "markdown",
   "metadata": {},
   "source": [
    "## To do:\n",
    "\n",
    "- check bolt detailing\n",
    "- check fit of angles between flanges\n",
    "- bolts, shear\n",
    "- bolts, bearing\n",
    "- weld, reinforcing plates to web\n",
    "- thickness of gusset plate. Bolts allow 100-45-45 = 10mm.  too little."
   ]
  },
  {
   "cell_type": "markdown",
   "metadata": {},
   "source": [
    "## Notes\n",
    "* Note that gross section yield of the W should govern, but it does not by a small margin.  One thing to try would be slightly larger angles. Perhaps L127x76x13 (which would not require any additional space between flanges).  Or could shave a few more millimeters from flange tips.  Of course, all this has to be compared with factored applied loads."
   ]
  },
  {
   "cell_type": "code",
   "execution_count": null,
   "metadata": {},
   "outputs": [],
   "source": []
  }
 ],
 "metadata": {
  "kernelspec": {
   "display_name": "Python 3",
   "language": "python",
   "name": "python3"
  },
  "language_info": {
   "codemirror_mode": {
    "name": "ipython",
    "version": 3
   },
   "file_extension": ".py",
   "mimetype": "text/x-python",
   "name": "python",
   "nbconvert_exporter": "python",
   "pygments_lexer": "ipython3",
   "version": "3.6.8"
  }
 },
 "nbformat": 4,
 "nbformat_minor": 2
}
