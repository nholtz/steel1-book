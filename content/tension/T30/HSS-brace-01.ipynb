{
 "cells": [
  {
   "cell_type": "markdown",
   "metadata": {},
   "source": [
    "# HSS Brace Analysis\n",
    "The photo shows the end details of a typical brace in a 4-storey steel structure.  This was photographed in Ottawa, in September, 2015.\n",
    "\n",
    "This notebook shows the computations necessary to compute the factored tension resistance, $T_r$, for a similar brace.  **Note**, all of the dimensions and properties were invented by the author of this notebook; no attempt has been made to have an accurate model of the real structure.\n",
    "\n",
    "![Brace End Details](images/brace.jpg)"
   ]
  },
  {
   "cell_type": "markdown",
   "metadata": {},
   "source": [
    "![Overall Sketch](images/brace-sketch.svg)"
   ]
  },
  {
   "cell_type": "code",
   "execution_count": 1,
   "metadata": {},
   "outputs": [],
   "source": [
    "import sys\n",
    "sys.path[1:1] = ['../../../ca-steel-design/lib']\n",
    "from Designer import Designer, SST, Data\n",
    "import math\n",
    "sind = lambda deg: math.sin(math.radians(deg))\n",
    "cosd = lambda deg: math.cos(math.radians(deg))"
   ]
  },
  {
   "cell_type": "code",
   "execution_count": 2,
   "metadata": {},
   "outputs": [],
   "source": [
    "phiw = 0.67\n",
    "phiu = 0.75\n",
    "phib = 0.80\n",
    "phibr = 0.80\n",
    "phi = 0.90"
   ]
  },
  {
   "cell_type": "code",
   "execution_count": 3,
   "metadata": {},
   "outputs": [],
   "source": [
    "des = Designer(title='Typical HSS Cross Brace',var='Tr',units='kN',trace=True)\n",
    "\n",
    "# useful abbreviations:\n",
    "REQ = des.require       # a requirement\n",
    "CHK = des.check         # a check\n",
    "REC = des.record        # record calculation details"
   ]
  },
  {
   "cell_type": "markdown",
   "metadata": {},
   "source": [
    "## Design Parameters"
   ]
  },
  {
   "cell_type": "code",
   "execution_count": 4,
   "metadata": {},
   "outputs": [],
   "source": [
    "Params = Data()\n",
    "\n",
    "Params.set('Bolts',\n",
    "        grade = 'ASTM A325M',\n",
    "        size = '3/4\"',\n",
    "        Fub = 825.,\n",
    "        d = 25.4*3/4,\n",
    "        holes = 'punched',\n",
    "        hd = 22.,\n",
    "        ha = 24.,          \n",
    "        threads_intercepted = True,\n",
    "        nlines = 2,      # a line is perpendicular to load\n",
    "        nperline = 3,    # number of bolts in each line\n",
    "        g = 75.,         # gauge (perpendicular to load)\n",
    "        s = 75.,         # spacing (parallel to load)\n",
    "          )\n",
    "\n",
    "Params.set('Welds',\n",
    "        grade = 'E49xx',\n",
    "        Xu = 490.,\n",
    "        matching = True,\n",
    "          )\n",
    "\n",
    "Params.set('Plate',\n",
    "        grade = 'CSA G40.21 350W',\n",
    "        Fy = 350.,\n",
    "        Fu = 450.,\n",
    "          )\n",
    "\n",
    "Params.set('HSS',\n",
    "        grade = 'CSA G40.21 350W',\n",
    "        size = 'HS127x127x13',\n",
    "        Fy = 350.,\n",
    "        Fu = 450.,\n",
    "          )    \n",
    "\n",
    "Params.set('CoverPlate',\n",
    "          T = 10.,\n",
    "          W = 60.,\n",
    "          Lw = 90.,     # length of weld from net section to end of HSS\n",
    "          D = 6.,        # size of weld from on HSS.\n",
    "          )\n",
    "    \n",
    "Params.set('Tongue',\n",
    "        T = 20.,\n",
    "        W = 280.,\n",
    "        L = 260.,\n",
    "        e = 40.,\n",
    "          )\n",
    "\n",
    "Params.set('Gusset',\n",
    "        W1 = Params['Tongue','W'],\n",
    "        W2 = 110.,\n",
    "        T = Params['Tongue','T'],\n",
    "        e = 40.,    # end distance\n",
    "        D = 8.,     # weld size\n",
    "        theta = 45.,         \n",
    "         )"
   ]
  },
  {
   "cell_type": "markdown",
   "metadata": {},
   "source": [
    "## Bollting and Welding Details\n",
    "\n",
    "TBD: Here we should check all spacings, edge distances, etc."
   ]
  },
  {
   "cell_type": "markdown",
   "metadata": {},
   "source": [
    "## Gusset Plate\n",
    "![Gusset Plate Details](images/gusset-details.svg)"
   ]
  },
  {
   "cell_type": "markdown",
   "metadata": {},
   "source": [
    "### Gusset to HSS Weld"
   ]
  },
  {
   "cell_type": "code",
   "execution_count": 5,
   "metadata": {},
   "outputs": [
    {
     "name": "stdout",
     "output_type": "stream",
     "text": [
      "    Gusset to HSS Weld: Tr = 2008 kN\n",
      "       (w1=280.0, w2=110.0, L1=308.0, L=506.0, D=8.0, theta=45.0, Aw=5724, Mw=1.0, phiw=0.67)\n"
     ]
    }
   ],
   "source": [
    "w1,w2,D,theta = Params.Gusset['W1,W2,D,theta']\n",
    "Xu = Params.Welds.Xu\n",
    "\n",
    "L1 = w2+w1*cosd(theta)\n",
    "L = (L1/sind(theta))*cosd(theta) + w1*sind(theta)\n",
    "\n",
    "Mw = 1.0\n",
    "Aw = 2*L*.707*D\n",
    "Vr = 0.67*phiw*Aw*Xu*(1+sind(theta)**1.5)*Mw * 1E-3\n",
    "\n",
    "REC('Gusset to HSS Weld','w1,w2,L1,L,D,theta,Aw,Mw,phiw',Tr=Vr)"
   ]
  },
  {
   "cell_type": "markdown",
   "metadata": {},
   "source": [
    "### Gusset Block Shear\n",
    "Because the gusset must be the same thickness as the tongue, and as the edges align so they are the\n",
    "same width (mostly), the block shear strengths determined here should be the same.  So this section is not\n",
    "really necessary.  The tongue does have one more pattern (Pattern 3)) that is judged not applicable\n",
    "here because of the increased width of the gusset.\n",
    "#### Block Shear Case 1)"
   ]
  },
  {
   "cell_type": "code",
   "execution_count": 6,
   "metadata": {},
   "outputs": [
    {
     "name": "stdout",
     "output_type": "stream",
     "text": [
      "    Gusset Block Shear Case 1): Tr = 1516 kN\n",
      "       (Ut=1.0, An=2040, Agv=4600, Fy=350.0, Fu=450.0)\n"
     ]
    }
   ],
   "source": [
    "nlines,nperline,g,s,e,t,ha,Fy,Fu = Params['Bolts,Plate,Gusset','nlines,nperline,g,s,e,T,ha,Fy,Fu']\n",
    "\n",
    "An = t*((nperline-1)*g - (nperline-1)*ha)\n",
    "Agv = 2*t*((nlines-1)*s + e)\n",
    "Ut = 1.0\n",
    "Vr = phiu*(Ut*An*Fu + 0.6*Agv*(Fy+Fu)/2.) * 1E-3\n",
    "REC('Gusset Block Shear Case 1)','Ut,An,Agv,Fy,Fu',Tr=Vr)"
   ]
  },
  {
   "cell_type": "markdown",
   "metadata": {},
   "source": [
    "#### Block Shear Case 2)"
   ]
  },
  {
   "cell_type": "code",
   "execution_count": 7,
   "metadata": {},
   "outputs": [
    {
     "name": "stdout",
     "output_type": "stream",
     "text": [
      "    Gusset Block Shear Case 2): Tr = 1251 kN\n",
      "       (edge=65.0, Ut=0.8, An=3100, Agv=2300)\n"
     ]
    }
   ],
   "source": [
    "edge = (w1 - (nperline-1)*g)/2.\n",
    "An = (((nperline-1)*g+edge)-(nperline-0.5)*ha)*t\n",
    "Agv = t*((nlines-1)*s + e)\n",
    "Ut = 0.8\n",
    "Vr = phiu*(Ut*An*Fu + 0.6*Agv*(Fy+Fu)/2.) * 1E-3\n",
    "REC('Gusset Block Shear Case 2)','edge,Ut,An,Agv',Tr=Vr)"
   ]
  },
  {
   "cell_type": "markdown",
   "metadata": {},
   "source": [
    "#### Tearout"
   ]
  },
  {
   "cell_type": "code",
   "execution_count": 8,
   "metadata": {},
   "outputs": [
    {
     "name": "stdout",
     "output_type": "stream",
     "text": [
      "    Gusset tearout: Tr = 2484 kN\n",
      "       (Agv=13800)\n"
     ]
    }
   ],
   "source": [
    "Agv = t*((nlines-1)*s + e) * nperline * 2\n",
    "Vr = phiu * 0.6*Agv*(Fy+Fu)/2. * 1E-3\n",
    "REC('Gusset tearout','Agv',Tr=Vr)"
   ]
  },
  {
   "cell_type": "markdown",
   "metadata": {},
   "source": [
    "## Lap Plates (2)\n",
    "### Lap Plate Details\n",
    "Consider the thickness of both plates together when computing the resistance.\n",
    "As the plate is symmetric, we only have to investigate one end.\n",
    "![Lap Plate Details](images/lap-plate-details.svg)"
   ]
  },
  {
   "cell_type": "code",
   "execution_count": 9,
   "metadata": {},
   "outputs": [],
   "source": [
    "Params.set('LapPlates',\n",
    "            W = 230.,\n",
    "            L = 315.,\n",
    "            T = 10.*2.,      # include 2 plates\n",
    "            e = 40.,         # could be different than gusset\n",
    "            g = Params['Bolts','g'],    # must be the same as bolt group\n",
    "            s = Params['Bolts','s'],\n",
    "            nlines = Params['Bolts','nlines'],\n",
    "            nperline = Params['Bolts','nperline'],\n",
    "            )"
   ]
  },
  {
   "cell_type": "markdown",
   "metadata": {},
   "source": [
    "### Lap Plates: Gross Section Yield"
   ]
  },
  {
   "cell_type": "code",
   "execution_count": 10,
   "metadata": {},
   "outputs": [
    {
     "name": "stdout",
     "output_type": "stream",
     "text": [
      "    Lap Plates, Gross Yield: Tr = 1449 kN\n",
      "       (wg=230.0, t=20.0, Ag=4600, Fy=350.0, phi=0.9)\n"
     ]
    }
   ],
   "source": [
    "wg,t,Fy = Params['Plate,LapPlates','W,T,Fy']\n",
    "Ag = wg*t\n",
    "Tr = phi*Ag*Fy * 1E-3\n",
    "REC('Lap Plates, Gross Yield','wg,t,Ag,Fy,phi',Tr=Tr)"
   ]
  },
  {
   "cell_type": "markdown",
   "metadata": {},
   "source": [
    "### Lap Plates: Net Section Fracture"
   ]
  },
  {
   "cell_type": "code",
   "execution_count": 11,
   "metadata": {},
   "outputs": [
    {
     "name": "stdout",
     "output_type": "stream",
     "text": [
      "    Lap Plates, Net Fracture: Tr = 1066 kN\n",
      "       (wg=230.0, ha=24.0, wn=158.0, phiu=0.75, Ane=3160, Fu=450.0)\n"
     ]
    }
   ],
   "source": [
    "wg,t,nperline,ha,Fu = Params['Bolts,Plate,LapPlates','W,T,nperline,ha,Fu']\n",
    "\n",
    "wn = wg - nperline*ha\n",
    "Ane = An = wn*t\n",
    "Tr = phiu*Ane*Fu * 1E-3\n",
    "REC('Lap Plates, Net Fracture','wg,ha,wn,phiu,Ane,Fu',Tr=Tr)"
   ]
  },
  {
   "cell_type": "markdown",
   "metadata": {},
   "source": [
    "### Lap Plates: Block Shear\n",
    "#### Block Shear Case 1)"
   ]
  },
  {
   "cell_type": "code",
   "execution_count": 12,
   "metadata": {},
   "outputs": [
    {
     "name": "stdout",
     "output_type": "stream",
     "text": [
      "    Lap Plates, Block Shear Case 1): Tr = 1516 kN\n",
      "       (An=2040, Agv=4600, Ut=1.0, Fy=350.0, Fu=450.0)\n"
     ]
    }
   ],
   "source": [
    "g,t,nperline,nlines,e,s = Params.LapPlates['g,T,nperline,nlines,e,s']\n",
    "ha = Params.Bolts.ha\n",
    "Fy,Fu = Params.Plate['Fy,Fu']\n",
    "\n",
    "An = ((nperline-1)*g - (nperline-1)*ha)*t\n",
    "Agv = (e + (nlines-1)*s)*t*2\n",
    "Ut = 1.0\n",
    "Vr = phiu*(Ut*An*Fu + 0.6*Agv*(Fy+Fu)/2.) * 1E-3\n",
    "REC('Lap Plates, Block Shear Case 1)','An,Agv,Ut,Fy,Fu',Tr=Vr)"
   ]
  },
  {
   "cell_type": "markdown",
   "metadata": {},
   "source": [
    "#### Case 2)"
   ]
  },
  {
   "cell_type": "code",
   "execution_count": 13,
   "metadata": {},
   "outputs": [
    {
     "name": "stdout",
     "output_type": "stream",
     "text": [
      "    Lap Plates, Block Shear Case 2): Tr = 1116 kN\n",
      "       (wg=230.0, edge=40.0, An=2600, Agv=2300, Ut=0.8)\n"
     ]
    }
   ],
   "source": [
    "g,t,nperline,nlines,e,s,wg = Params.LapPlates['g,T,nperline,nlines,e,s,W']\n",
    "ha = Params.Bolts.ha\n",
    "Fy,Fu = Params.Plate['Fy,Fu']\n",
    "\n",
    "edge = (wg - (nperline-1)*g)/2.0\n",
    "An = (wg - (edge-ha/2) - nperline*ha)*t\n",
    "Agv = (e + (nlines-1)*s)*t\n",
    "Ut = 0.8\n",
    "Vr = phiu*(Ut*An*Fu + 0.6*Agv*(Fy+Fu)/2.) * 1E-3\n",
    "REC('Lap Plates, Block Shear Case 2)','wg,edge,An,Agv,Ut',Tr=Vr)"
   ]
  },
  {
   "cell_type": "markdown",
   "metadata": {},
   "source": [
    "#### Case 3)"
   ]
  },
  {
   "cell_type": "code",
   "execution_count": 14,
   "metadata": {},
   "outputs": [
    {
     "name": "stdout",
     "output_type": "stream",
     "text": [
      "    Lap Plates, Block Shear Case 3): Tr = 1261 kN\n",
      "       (An=2140, Agv=4600, Ut=0.6)\n"
     ]
    }
   ],
   "source": [
    "g,t,nperline,nlines,e,s,wg = Params.LapPlates['g,T,nperline,nlines,e,s,W']\n",
    "ha = Params.Bolts.ha\n",
    "Fy,Fu = Params.Plate['Fy,Fu']\n",
    "\n",
    "An = (wg - nperline*ha - (g-ha))*t\n",
    "Agv = (e + (nlines-1)*s)*t * 2.\n",
    "Ut = 0.6\n",
    "Vr = phiu*(Ut*An*Fu + 0.6*Agv*(Fy+Fu)/2.) * 1E-3\n",
    "REC('Lap Plates, Block Shear Case 3)','An,Agv,Ut',Tr=Vr)"
   ]
  },
  {
   "cell_type": "markdown",
   "metadata": {},
   "source": [
    "#### Tearout"
   ]
  },
  {
   "cell_type": "code",
   "execution_count": 15,
   "metadata": {},
   "outputs": [
    {
     "name": "stdout",
     "output_type": "stream",
     "text": [
      "    Lap Plates, tearout: Tr = 2484 kN\n",
      "       (Agv=13800)\n"
     ]
    }
   ],
   "source": [
    "t,nlines,nperline,e,s = Params.LapPlates['T,nlines,nperline,e,s']\n",
    "Fy,Fu = Params.Plate['Fy,Fu']\n",
    "\n",
    "An = 0\n",
    "Agv = (e + (nlines-1)*s)*t*2*nperline\n",
    "Ut = 1\n",
    "Vr = phiu*(Ut*An*Fu + 0.6*Agv*(Fy+Fu)/2.) * 1E-3\n",
    "REC('Lap Plates, tearout','Agv',Tr=Vr)"
   ]
  },
  {
   "cell_type": "markdown",
   "metadata": {},
   "source": [
    "## Tongue Plate\n",
    "### Tongue Plate Details\n",
    "![Tongue Plate Details](images/tongue-plate-details.svg)"
   ]
  },
  {
   "cell_type": "code",
   "execution_count": 16,
   "metadata": {},
   "outputs": [],
   "source": [
    "P = Params\n",
    "P.set('Tongue',\n",
    "        W = P.Gusset.W1,\n",
    "        T = P.Gusset.T,\n",
    "        D = 8.,\n",
    "        nlines = P.Bolts.nlines,\n",
    "        nperline = P.Bolts.nperline,\n",
    "        e = 40.,\n",
    "        s = P.Bolts.s,\n",
    "        g = P.Bolts.g,\n",
    "        c = 45.,\n",
    "        L = 260.              \n",
    "        )\n",
    "P.set('Tongue',\n",
    "      Lw = P.Tongue.L - (P.Tongue.c + (P.Tongue.nlines-1)*P.Tongue.s + P.Tongue.e),\n",
    "      Dh = SST.section(P.HSS.size,'D'),\n",
    "     )"
   ]
  },
  {
   "cell_type": "markdown",
   "metadata": {},
   "source": [
    "### Tongue Plate: Bolted End\n",
    "#### Gross Section Yield"
   ]
  },
  {
   "cell_type": "code",
   "execution_count": 17,
   "metadata": {},
   "outputs": [
    {
     "name": "stdout",
     "output_type": "stream",
     "text": [
      "    Tongue Plate, Gross Yield: Tr = 1764 kN\n",
      "       (wg=280.0, t=20.0, Ag=5600, Fy=350.0)\n"
     ]
    }
   ],
   "source": [
    "wg,t = Params.Tongue['W,T']\n",
    "Fy = Params.Plate['Fy']\n",
    "Ag = wg*t\n",
    "Tr = phi*Ag*Fy * 1E-3\n",
    "REC('Tongue Plate, Gross Yield','wg,t,Ag,Fy',Tr=Tr)"
   ]
  },
  {
   "cell_type": "markdown",
   "metadata": {},
   "source": [
    "#### Net Section Fracture"
   ]
  },
  {
   "cell_type": "code",
   "execution_count": 18,
   "metadata": {},
   "outputs": [
    {
     "name": "stdout",
     "output_type": "stream",
     "text": [
      "    Tongue Plate, Bolted End, Net Section Fracture: Tr = 1404 kN\n",
      "       (wg=280.0, wn=208.0, Ane=4160, Fu=450.0)\n"
     ]
    }
   ],
   "source": [
    "wg,t,n = Params.Tongue['W,T,nperline']\n",
    "Fu = Params.Plate.Fu\n",
    "ha = Params.Bolts.ha\n",
    "\n",
    "wn = wg - n*ha\n",
    "Ane = An = wn*t\n",
    "Tr = phiu*Ane*Fu * 1E-3\n",
    "REC('Tongue Plate, Bolted End, Net Section Fracture','wg,wn,Ane,Fu',Tr=Tr)"
   ]
  },
  {
   "cell_type": "markdown",
   "metadata": {},
   "source": [
    "#### Block Shear, Case 1)"
   ]
  },
  {
   "cell_type": "code",
   "execution_count": 19,
   "metadata": {},
   "outputs": [
    {
     "name": "stdout",
     "output_type": "stream",
     "text": [
      "    Tongue Plate, Block Shear Case 1): Tr = 1516 kN\n",
      "       (An=2040, Agv=4600, Ut=1.0, Fy=350.0, Fu=450.0)\n"
     ]
    }
   ],
   "source": [
    "g,t,nperline,nlines,e,s = Params.Tongue['g,T,nperline,nlines,e,s']\n",
    "ha = Params.Bolts.ha\n",
    "Fy,Fu = Params.Plate['Fy,Fu']\n",
    "\n",
    "An = ((nperline-1)*g - (nperline-1)*ha)*t\n",
    "Agv = (e + (nlines-1)*s)*t*2\n",
    "Ut = 1.0\n",
    "Vr = phiu*(Ut*An*Fu + 0.6*Agv*(Fy+Fu)/2.) * 1E-3\n",
    "REC('Tongue Plate, Block Shear Case 1)','An,Agv,Ut,Fy,Fu',Tr=Vr)"
   ]
  },
  {
   "cell_type": "markdown",
   "metadata": {},
   "source": [
    "#### Block Shear, Case 2)"
   ]
  },
  {
   "cell_type": "code",
   "execution_count": 20,
   "metadata": {},
   "outputs": [
    {
     "name": "stdout",
     "output_type": "stream",
     "text": [
      "    Tongue Plate, Block Shear Case 2): Tr = 1251 kN\n",
      "       (edge=65.0, An=3100, Agv=2300, Ut=0.8)\n"
     ]
    }
   ],
   "source": [
    "g,t,nperline,nlines,e,s,wg = Params.Tongue['g,T,nperline,nlines,e,s,W']\n",
    "ha = Params.Bolts.ha\n",
    "Fy,Fu = Params.Plate['Fy,Fu']\n",
    "\n",
    "edge = (wg - (nperline-1)*g)/2.0\n",
    "An = (wg - (edge-ha/2.) - nperline*ha)*t\n",
    "Agv = (e + (nlines-1)*s)*t\n",
    "Ut = 0.8\n",
    "Vr = phiu*(Ut*An*Fu + 0.6*Agv*(Fy+Fu)/2.) * 1E-3\n",
    "REC('Tongue Plate, Block Shear Case 2)','edge,An,Agv,Ut',Tr=Vr)"
   ]
  },
  {
   "cell_type": "markdown",
   "metadata": {},
   "source": [
    "#### Block Shear, Case 3)"
   ]
  },
  {
   "cell_type": "code",
   "execution_count": 21,
   "metadata": {},
   "outputs": [
    {
     "name": "stdout",
     "output_type": "stream",
     "text": [
      "    Tongue Plate, Block Shear Case 3): Tr = 1464 kN\n",
      "       (An=3140, Agv=4600, Ut=0.6)\n"
     ]
    }
   ],
   "source": [
    "g,t,nperline,nlines,e,s,wg = Params.Tongue['g,T,nperline,nlines,e,s,W']\n",
    "ha = Params.Bolts.ha\n",
    "Fy,Fu = Params.Plate['Fy,Fu']\n",
    "\n",
    "An = (wg - nperline*ha - (g-ha))*t\n",
    "Agv = (e + (nlines-1)*s)*t * 2.\n",
    "Ut = 0.6\n",
    "Vr = phiu*(Ut*An*Fu + 0.6*Agv*(Fy+Fu)/2.) * 1E-3\n",
    "REC('Tongue Plate, Block Shear Case 3)','An,Agv,Ut',Tr=Vr)"
   ]
  },
  {
   "cell_type": "markdown",
   "metadata": {},
   "source": [
    "#### Block Shear, Tearout"
   ]
  },
  {
   "cell_type": "code",
   "execution_count": 22,
   "metadata": {},
   "outputs": [
    {
     "name": "stdout",
     "output_type": "stream",
     "text": [
      "    Tongue Plate tearout: Tr = 2484 kN\n",
      "       (Agv=13800)\n"
     ]
    }
   ],
   "source": [
    "t,nlines,nperline,e,s = Params.Tongue['T,nlines,nperline,e,s']\n",
    "Fy,Fu = Params.Plate['Fy,Fu']\n",
    "\n",
    "An = 0\n",
    "Agv = (e + (nlines-1)*s)*t*2*nperline\n",
    "Ut = 1\n",
    "Vr = phiu*(Ut*An*Fu + 0.6*Agv*(Fy+Fu)/2.) * 1E-3\n",
    "REC('Tongue Plate tearout','Agv',Tr=Vr)"
   ]
  },
  {
   "cell_type": "markdown",
   "metadata": {},
   "source": [
    "### Tongue Plate: Welded End\n",
    "#### Shear Lag - Effective Net Area"
   ]
  },
  {
   "cell_type": "code",
   "execution_count": 23,
   "metadata": {},
   "outputs": [
    {
     "name": "stdout",
     "output_type": "stream",
     "text": [
      "    Tongue Plate, Welded End, Net Section Fracture: Tr = 1144 kN\n",
      "       (w2=127.0, w3=76.5, An2=1500, An3=944.8, Ane=3390)\n"
     ]
    }
   ],
   "source": [
    "w,w2,L,t,n,g = Params.Tongue['W,Dh,Lw,T,nperline,g']\n",
    "Fu = Params.Plate.Fu\n",
    "if L >= 2*w2:             # 12.3.3.3 b)\n",
    "    An2 = 1.00*w2*t\n",
    "elif L >= w2:\n",
    "    An2 = 0.5*w2*t + 0.25*L*t\n",
    "else:\n",
    "    An2 = 0.75*L*t\n",
    "    \n",
    "w3 = (w-w2)/2.            # 12.3.3.3 c)\n",
    "xbar = w3/2.\n",
    "if L >= w3:\n",
    "    An3 = (1.-xbar/L)*w3*t\n",
    "else:\n",
    "    An3 = 0.50*L*t\n",
    "Ane = An2 + An3 + An3\n",
    "Tr = phiu*Ane*Fu * 1E-3\n",
    "REC('Tongue Plate, Welded End, Net Section Fracture','w2,w3,An2,An3,Ane',Tr=Tr)"
   ]
  },
  {
   "cell_type": "markdown",
   "metadata": {},
   "source": [
    "## Fasteners\n",
    "### Bolts\n",
    "#### Shear"
   ]
  },
  {
   "cell_type": "code",
   "execution_count": 24,
   "metadata": {},
   "outputs": [
    {
     "name": "stdout",
     "output_type": "stream",
     "text": [
      "    Bolts in Shear: Tr = 948.1 kN\n",
      "       (n=6, m=2, d=19.05, Ab=285.0, Fu=825.0)\n"
     ]
    }
   ],
   "source": [
    "d,Fu,threads_intercepted = Params.Bolts['d,Fub,threads_intercepted']\n",
    "t = min(Params.Gusset.T,Params.Tongue.T,2*Params.LapPlates.T)\n",
    "n = min(Params.Bolts.nlines*Params.Bolts.nperline,Params.Tongue.nlines*Params.Tongue.nperline)\n",
    "m = 2\n",
    "Ab = 3.14159*d*d/4.\n",
    "Vr = 0.6*phib*n*m*Ab*Fu * 1E-3\n",
    "if threads_intercepted:\n",
    "    Vr = 0.7*Vr\n",
    "REC('Bolts in Shear','n,m,d,Ab,Fu',Tr=Vr)"
   ]
  },
  {
   "cell_type": "markdown",
   "metadata": {},
   "source": [
    "#### Bearing"
   ]
  },
  {
   "cell_type": "code",
   "execution_count": 25,
   "metadata": {},
   "outputs": [
    {
     "name": "stdout",
     "output_type": "stream",
     "text": [
      "    Bolts in Bearing: Tr = 4526 kN\n",
      "       (n=6, t=20.0, d=19.05, Fu=825.0)\n"
     ]
    }
   ],
   "source": [
    "Br = 3*phibr*n*t*d*Fu * 1E-3\n",
    "REC('Bolts in Bearing','n,t,d,Fu',Tr=Br)"
   ]
  },
  {
   "cell_type": "markdown",
   "metadata": {},
   "source": [
    "### Welds - HSS to Tongue Plate"
   ]
  },
  {
   "cell_type": "code",
   "execution_count": 26,
   "metadata": {},
   "outputs": [
    {
     "name": "stdout",
     "output_type": "stream",
     "text": [
      "    Fillet Weld (HSS to Plate): Tr = 497.6 kN\n",
      "       (D=8.0, L=100.0, Aw=2262, Xu=490.0)\n"
     ]
    }
   ],
   "source": [
    "L,D = Params.Tongue['Lw,D']\n",
    "Xu,matching = Params.Welds['Xu,matching']\n",
    "Aw = 4.*L*D*0.707\n",
    "Vr = 0.67*phiw*Aw*Xu * 1E-3\n",
    "if matching:\n",
    "    REC('Fillet Weld (HSS to Plate)','D,L,Aw,Xu',Tr=Vr)\n",
    "else:\n",
    "    raise Exception('Non matching electrodes')"
   ]
  },
  {
   "cell_type": "markdown",
   "metadata": {},
   "source": [
    "## HSS + Cover Plate\n",
    "![HSS Details](images/hss-details.svg)"
   ]
  },
  {
   "cell_type": "markdown",
   "metadata": {},
   "source": [
    "### Net Section Fracture"
   ]
  },
  {
   "cell_type": "code",
   "execution_count": 27,
   "metadata": {},
   "outputs": [
    {
     "name": "stdout",
     "output_type": "stream",
     "text": [
      "    HSS Net Section Fracture: Tr = 1422 kN\n",
      "       (xbar=40.71, Lw=100.0, D=127.0, th=12.7, A=5390, Ag=6590, An=6082, Ane=4214, Fu=450.0)\n"
     ]
    }
   ],
   "source": [
    "dsg,Fy,Fu = Params.HSS['size,Fy,Fu']\n",
    "D,th,A = SST.section(dsg,'D,T,A')\n",
    "tp,wp = Params.CoverPlate['T,W']\n",
    "tt = Params.Tongue.T   # thickness of tongue\n",
    "Lw = Params.Tongue.Lw  # length of one weld\n",
    "h = D/2. - th - tt/2.\n",
    "xbar = (2.*h*th*h/2. + D*th*(h+th/2.) + wp*tp*(h+th+tp/2.))/(2*h*th + D*th + wp*tp)\n",
    "Ag = A + 2*wp*tp       # HSS + cover plates\n",
    "An = Ag - 2.*tt*th     # remove slots cut for tongue\n",
    "if xbar/Lw > 0.1:                 # 12.3.3.4\n",
    "    Ane = (1.1 - xbar/Lw)*An\n",
    "else:\n",
    "    Ane = An\n",
    "Tr = phiu*Ane*Fu * 1E-3\n",
    "REC('HSS Net Section Fracture','xbar,Lw,D,th,A,Ag,An,Ane,Fu',Tr=Tr)"
   ]
  },
  {
   "cell_type": "markdown",
   "metadata": {},
   "source": [
    "### Gross Section Yield"
   ]
  },
  {
   "cell_type": "code",
   "execution_count": 28,
   "metadata": {},
   "outputs": [
    {
     "name": "stdout",
     "output_type": "stream",
     "text": [
      "    HSS Gross Section Yield: Tr = 1698 kN\n",
      "       (Ag=5390, Fy=350.0)\n"
     ]
    }
   ],
   "source": [
    "Ag = A\n",
    "Tr = phi*Ag*Fy  * 1E-3\n",
    "REC('HSS Gross Section Yield','Ag,Fy',Tr=Tr)"
   ]
  },
  {
   "cell_type": "markdown",
   "metadata": {},
   "source": [
    "## Cover Plate to HSS Weld\n",
    "Ensure that the length of the weld can develop the full strength of the cover plate."
   ]
  },
  {
   "cell_type": "code",
   "execution_count": 29,
   "metadata": {},
   "outputs": [
    {
     "name": "stdout",
     "output_type": "stream",
     "text": [
      "    Coverplate weld strength, gross yield:  NG! *****\n",
      "      (L=90.0, D=6.0, Aw=763.6, Vr=168.0, Tr=189.0)\n",
      "    Coverplate weld strength, net fracture:  NG! *****\n",
      "      (L=90.0, W=60.0, An2=525.0, Ane=525.0, Vr=168.0, Tr=177.2)\n"
     ]
    }
   ],
   "source": [
    "T,W,L,D = Params.CoverPlate['T,W,Lw,D']\n",
    "Xu = Params.Welds.Xu\n",
    "Fy,Fu = Params.Plate['Fy,Fu']\n",
    "\n",
    "Aw = 0.707*D*L*2.\n",
    "Vr = 0.67*phiw*Aw*Xu*1*1 * 1E-3     # 13.13.2.2\n",
    "Tr = phi*(T*W)*Fy * 1E-3            # gross section yield\n",
    "\n",
    "CHK('Coverplate weld strength, gross yield','L,D,Aw,Vr,Tr',Vr>=Tr)\n",
    "\n",
    "An = W*T                             # 12.3.3.3 b)\n",
    "if L >= 2*w:\n",
    "    An2 = W*T\n",
    "elif L >= W:\n",
    "    An2 = 0.5*W*T + 0.25*L*T\n",
    "else:\n",
    "    An2 = 0.75*L*T\n",
    "Ane = An2\n",
    "Tr = phiu*An2*Fu * 1E-3\n",
    "CHK('Coverplate weld strength, net fracture','L,W,An2,Ane,Vr,Tr',Vr>=Tr)"
   ]
  },
  {
   "cell_type": "markdown",
   "metadata": {},
   "source": [
    "## To Do\n",
    "* Check that gusset plate doesn't cause undue flexural problems in the flange of the HSS column member."
   ]
  },
  {
   "cell_type": "markdown",
   "metadata": {},
   "source": [
    "## Bolting Details"
   ]
  },
  {
   "cell_type": "markdown",
   "metadata": {},
   "source": [
    "### Lap Plates"
   ]
  },
  {
   "cell_type": "code",
   "execution_count": 30,
   "metadata": {},
   "outputs": [
    {
     "name": "stdout",
     "output_type": "stream",
     "text": [
      "    Bolt min edge distance, lap plate:  OK \n",
      "      (edge=40.0, minedge=32.0)\n",
      "    Bolt max edge distance, lap plate:  OK \n",
      "      (edge=40.0, maxedge=150.0)\n",
      "    Bolt min end distance, lap plate:  OK \n",
      "      (e=40.0, minend=32.0)\n",
      "    Bolt spacing, lap plate:  OK \n",
      "      (s=75.0, g=75.0, minspacing=51.43)\n"
     ]
    }
   ],
   "source": [
    "w,t,l,e,s,g,nlines,nperline = Params.LapPlates['W,T,L,e,s,g,nlines,nperline']\n",
    "minedge = 32.      # 22.3.2 Table 6, 3/4\" bolt, sheared edge\n",
    "minend = 32.       # 22.3.4\n",
    "maxedge = min(150.,12.*t)\n",
    "edge = (w - (nperline-1)*g)/2.\n",
    "CHK('Bolt min edge distance, lap plate','edge,minedge',edge>=minedge)\n",
    "CHK('Bolt max edge distance, lap plate','edge,maxedge',edge<=maxedge)\n",
    "CHK('Bolt min end distance, lap plate','e,minend',e>=minend)\n",
    "d = Params.Bolts.d\n",
    "minspacing = 2.7*d\n",
    "CHK('Bolt spacing, lap plate','s,g,minspacing',s>=minspacing and g>=minspacing)"
   ]
  },
  {
   "cell_type": "markdown",
   "metadata": {},
   "source": [
    "### Tongue Plate"
   ]
  },
  {
   "cell_type": "code",
   "execution_count": 31,
   "metadata": {},
   "outputs": [],
   "source": [
    "# TODO"
   ]
  },
  {
   "cell_type": "markdown",
   "metadata": {},
   "source": [
    "### Gusset Plate"
   ]
  },
  {
   "cell_type": "code",
   "execution_count": 32,
   "metadata": {},
   "outputs": [],
   "source": [
    "# TODO"
   ]
  },
  {
   "cell_type": "markdown",
   "metadata": {},
   "source": [
    "## Welding Details"
   ]
  },
  {
   "cell_type": "markdown",
   "metadata": {},
   "source": [
    "### HSS to Tongue"
   ]
  },
  {
   "cell_type": "code",
   "execution_count": 33,
   "metadata": {},
   "outputs": [],
   "source": [
    "# TODO"
   ]
  },
  {
   "cell_type": "markdown",
   "metadata": {},
   "source": [
    "### Cover PLate to HSS"
   ]
  },
  {
   "cell_type": "code",
   "execution_count": 34,
   "metadata": {},
   "outputs": [],
   "source": [
    "# TODO"
   ]
  },
  {
   "cell_type": "markdown",
   "metadata": {},
   "source": [
    "## Summary"
   ]
  },
  {
   "cell_type": "code",
   "execution_count": 35,
   "metadata": {},
   "outputs": [
    {
     "name": "stdout",
     "output_type": "stream",
     "text": [
      "\n",
      "Summary of Tr for Designer: Typical HSS Cross Brace\n",
      "===================================================\n",
      "\n",
      "Checks:\n",
      "-------\n",
      "    Coverplate weld strength, gross yield:    NG! *****\n",
      "      (L=90.0, D=6.0, Aw=763.6, Vr=168.0, Tr=189.0)\n",
      "    Coverplate weld strength, net fracture:   NG! *****\n",
      "      (L=90.0, W=60.0, An2=525.0, Ane=525.0, Vr=168.0, Tr=177.2)\n",
      "    Bolt min edge distance, lap plate:        OK \n",
      "      (edge=40.0, minedge=32.0)\n",
      "    Bolt max edge distance, lap plate:        OK \n",
      "      (edge=40.0, maxedge=150.0)\n",
      "    Bolt min end distance, lap plate:         OK \n",
      "      (e=40.0, minend=32.0)\n",
      "    Bolt spacing, lap plate:                  OK \n",
      "      (s=75.0, g=75.0, minspacing=51.43)\n",
      "\n",
      "Values of Tr:\n",
      "-------------\n",
      "    Gusset to HSS Weld:                             Tr = 2010 kN\n",
      "    Gusset Block Shear Case 1):                     Tr = 1520 kN\n",
      "    Gusset Block Shear Case 2):                     Tr = 1250 kN\n",
      "    Gusset tearout:                                 Tr = 2480 kN\n",
      "    Lap Plates, Gross Yield:                        Tr = 1450 kN\n",
      "    Lap Plates, Net Fracture:                       Tr = 1070 kN\n",
      "    Lap Plates, Block Shear Case 1):                Tr = 1520 kN\n",
      "    Lap Plates, Block Shear Case 2):                Tr = 1120 kN\n",
      "    Lap Plates, Block Shear Case 3):                Tr = 1260 kN\n",
      "    Lap Plates, tearout:                            Tr = 2480 kN\n",
      "    Tongue Plate, Gross Yield:                      Tr = 1760 kN\n",
      "    Tongue Plate, Bolted End, Net Section Fracture: Tr = 1400 kN\n",
      "    Tongue Plate, Block Shear Case 1):              Tr = 1520 kN\n",
      "    Tongue Plate, Block Shear Case 2):              Tr = 1250 kN\n",
      "    Tongue Plate, Block Shear Case 3):              Tr = 1460 kN\n",
      "    Tongue Plate tearout:                           Tr = 2480 kN\n",
      "    Tongue Plate, Welded End, Net Section Fracture: Tr = 1140 kN\n",
      "    Bolts in Shear:                                 Tr = 948 kN\n",
      "    Bolts in Bearing:                               Tr = 4530 kN\n",
      "    Fillet Weld (HSS to Plate):                     Tr = 498 kN  <-- governs\n",
      "    HSS Net Section Fracture:                       Tr = 1420 kN\n",
      "    HSS Gross Section Yield:                        Tr = 1700 kN\n",
      "\n",
      "    Governing Value:\n",
      "    ----------------\n",
      "       Tr = 498 kN\n"
     ]
    }
   ],
   "source": [
    "des.summary()"
   ]
  },
  {
   "cell_type": "markdown",
   "metadata": {},
   "source": [
    "## Notes\n",
    "\n",
    "* Weld of HSS to Tongue plate is be far the lowest strength.  Increase length of weld from 100mm to 200mm(?)\n",
    "and length of tongue from 280 to 380.\n",
    "* Cover plate welding may be inadequate. Increasing the HSS to tongue weld will leave space for more\n",
    "welds there (up to 190mm) which should be more than enough."
   ]
  },
  {
   "cell_type": "code",
   "execution_count": null,
   "metadata": {},
   "outputs": [],
   "source": []
  }
 ],
 "metadata": {
  "kernelspec": {
   "display_name": "Python 3",
   "language": "python",
   "name": "python3"
  },
  "language_info": {
   "codemirror_mode": {
    "name": "ipython",
    "version": 3
   },
   "file_extension": ".py",
   "mimetype": "text/x-python",
   "name": "python",
   "nbconvert_exporter": "python",
   "pygments_lexer": "ipython3",
   "version": "3.6.7"
  }
 },
 "nbformat": 4,
 "nbformat_minor": 2
}
