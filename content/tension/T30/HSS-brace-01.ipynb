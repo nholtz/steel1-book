{
 "cells": [
  {
   "cell_type": "markdown",
   "metadata": {},
   "source": [
    "# HSS Brace Analysis\n",
    "The photo shows the end details of a typical brace in a 4-storey steel structure.  This was photographed in Ottawa, in September, 2015.\n",
    "\n",
    "This notebook shows the computations necessary to compute the factored tension resistance, $T_r$, for a similar brace.  **Note**, all of the dimensions and properties were invented by the author of this notebook; no attempt has been made to have an accurate model of the real structure.\n",
    "\n",
    "![Brace End Details](images/brace.jpg)"
   ]
  },
  {
   "cell_type": "markdown",
   "metadata": {},
   "source": [
    "![Overall Sketch](images/brace-sketch.svg)"
   ]
  },
  {
   "cell_type": "code",
   "execution_count": 1,
   "metadata": {},
   "outputs": [],
   "source": [
    "import sys\n",
    "sys.path[1:1] = ['../../../ca-steel-design/lib']\n",
    "from Designer import Designer, SST\n",
    "import math\n",
    "sind = lambda deg: math.sin(math.radians(deg))\n",
    "cosd = lambda deg: math.cos(math.radians(deg))"
   ]
  },
  {
   "cell_type": "code",
   "execution_count": 2,
   "metadata": {},
   "outputs": [],
   "source": [
    "def Warn(s):\n",
    "    print('***** WARNING:',s,'*****')\n",
    "    \n",
    "def _get(dct,keys):\n",
    "    ans = []\n",
    "    keys = keys.split(',')\n",
    "    for k in keys:\n",
    "        default = None\n",
    "        if '=' in k:\n",
    "            k,default = k.split('=',1)\n",
    "        k = k.strip()\n",
    "        if k in dct:\n",
    "            ans.append(dct[k])\n",
    "        elif default is not None:\n",
    "            ans.append(eval(default,{},dct))\n",
    "        else:\n",
    "            ans.append(eval(k,{},dct))\n",
    "    if len(keys) == 1:\n",
    "        return ans[0]\n",
    "    return ans\n",
    "    \n",
    "    \n",
    "class Namespace(object):\n",
    "    \n",
    "    def __init__(self,namespace):\n",
    "        self.namespace = namespace\n",
    "        \n",
    "    def __getattr__(self,name):\n",
    "        if name in self.namespace:\n",
    "            return self.namespace[name]\n",
    "        raise AttributeError('Attribute not found: '+name)\n",
    "        \n",
    "    def get(self,keys):\n",
    "        return _get(self.namespace,keys)\n",
    "    \n",
    "    def __getitem__(self,indx):\n",
    "        return self.get(indx)\n",
    "    \n",
    "\n",
    "class Data(object):\n",
    "    \n",
    "    def __init__(self,nooverrides=False):\n",
    "        self.namespaces = {}\n",
    "        self.nooverrides = nooverrides\n",
    "        \n",
    "    def set(self,ns,**keywds):\n",
    "        if ns not in self.namespaces:\n",
    "            self.namespaces[ns] = {}\n",
    "        self.namespaces[ns].update(keywds)\n",
    "        \n",
    "    def get(self,ns,keys):\n",
    "        dct = {}\n",
    "        for n in ns.split(','):\n",
    "            n = n.strip()\n",
    "            if self.nooverrides:\n",
    "                for k,v in self.namespaces[n].items():\n",
    "                    if k in dct:\n",
    "                        raise KeyError(f'Parameter \"{k}\" is multiply defined.')\n",
    "                    dct[k] = v\n",
    "            else:\n",
    "                dct.update(self.namespaces[n])\n",
    "        return _get(dct,keys)\n",
    "    \n",
    "    def __getitem__(self,indx):\n",
    "        return self.get(indx[0],indx[1])\n",
    "    \n",
    "    def __getattr__(self,name):\n",
    "        if name in self.namespaces:\n",
    "            return Namespace(self.namespaces[name])\n",
    "        raise AttributeError('Attribute not found: '+name)"
   ]
  },
  {
   "cell_type": "code",
   "execution_count": 3,
   "metadata": {},
   "outputs": [],
   "source": [
    "phiw = 0.67\n",
    "phiu = 0.75\n",
    "phib = 0.80\n",
    "phibr = 0.80\n",
    "phi = 0.90"
   ]
  },
  {
   "cell_type": "code",
   "execution_count": 4,
   "metadata": {},
   "outputs": [],
   "source": [
    "des = Designer(title='Typical HSS Cross Brace',var='Tr',units='kN',trace=True)\n",
    "\n",
    "# useful abbreviations:\n",
    "REQ = des.require       # a requirement\n",
    "CHK = des.check         # a check\n",
    "REC = des.record        # record calculation details"
   ]
  },
  {
   "cell_type": "markdown",
   "metadata": {},
   "source": [
    "## Design Parameters"
   ]
  },
  {
   "cell_type": "code",
   "execution_count": 5,
   "metadata": {},
   "outputs": [],
   "source": [
    "Params = Data()\n",
    "\n",
    "Params.set('Bolts',\n",
    "        grade = 'ASTM A325M',\n",
    "        size = '3/4\"',\n",
    "        Fub = 825.,\n",
    "        d = 25.4*3/4,\n",
    "        holes = 'punched',\n",
    "        hd = 22.,\n",
    "        ha = 24.,          \n",
    "        threads_intercepted = True,\n",
    "        nlines = 2,      # a line is perpendicular to load\n",
    "        nperline = 3,    # number of bolts in each line\n",
    "        g = 75.,         # gauge (perpendicular to load)\n",
    "        s = 75.,         # spacing (parallel to load)\n",
    "          )\n",
    "\n",
    "Params.set('Welds',\n",
    "        grade = 'E49xx',\n",
    "        Xu = 490.,\n",
    "        matching = True,\n",
    "          )\n",
    "\n",
    "Params.set('Plate',\n",
    "        grade = 'CSA G40.21 350W',\n",
    "        Fy = 350.,\n",
    "        Fu = 450.,\n",
    "          )\n",
    "\n",
    "Params.set('HSS',\n",
    "        grade = 'CSA G40.21 350W',\n",
    "        size = 'HS127x127x13',\n",
    "        Fy = 350.,\n",
    "        Fu = 450.,\n",
    "          )    \n",
    "\n",
    "Params.set('CoverPlate',\n",
    "          T = 10.,\n",
    "          W = 60.,\n",
    "          )\n",
    "    \n",
    "Params.set('Tongue',\n",
    "        T = 20.,\n",
    "        W = 280.,\n",
    "        L = 260.,\n",
    "        e = 40.,\n",
    "          )\n",
    "\n",
    "Params.set('Gusset',\n",
    "        W1 = Params['Tongue','W'],\n",
    "        W2 = 110.,\n",
    "        T = Params['Tongue','T'],\n",
    "        e = 40.,    # end distance\n",
    "        D = 8.,     # weld size\n",
    "        theta = 45.,         \n",
    "         )"
   ]
  },
  {
   "cell_type": "markdown",
   "metadata": {},
   "source": [
    "## Bollting and Welding Details\n",
    "\n",
    "TBD: Here we should check all spacings, edge distances, etc."
   ]
  },
  {
   "cell_type": "markdown",
   "metadata": {},
   "source": [
    "## Gusset Plate\n",
    "![Gusset Plate Details](images/gusset-details.svg)"
   ]
  },
  {
   "cell_type": "markdown",
   "metadata": {},
   "source": [
    "### Gusset to HSS Weld"
   ]
  },
  {
   "cell_type": "code",
   "execution_count": 6,
   "metadata": {},
   "outputs": [
    {
     "name": "stdout",
     "output_type": "stream",
     "text": [
      "    Gusset to HSS Weld: Tr = 2008 kN\n",
      "       (w1=280.0, w2=110.0, L1=308.0, L=506.0, D=8.0, theta=45.0, Aw=5724, Mw=1.0, phiw=0.67)\n"
     ]
    }
   ],
   "source": [
    "w1,w2,D,theta = Params['Gusset','W1,W2,D,theta']\n",
    "Xu = Params['Welds','Xu']\n",
    "\n",
    "L1 = w2+w1*cosd(theta)\n",
    "L = (L1/sind(theta))*cosd(theta) + w1*sind(theta)\n",
    "\n",
    "Mw = 1.0\n",
    "Aw = 2*L*.707*D\n",
    "Vr = 0.67*phiw*Aw*Xu*(1+sind(theta)**1.5)*Mw * 1E-3\n",
    "\n",
    "REC('Gusset to HSS Weld','w1,w2,L1,L,D,theta,Aw,Mw,phiw',Tr=Vr)"
   ]
  },
  {
   "cell_type": "markdown",
   "metadata": {},
   "source": [
    "### Gusset Block Shear\n",
    "#### Case 1)"
   ]
  },
  {
   "cell_type": "code",
   "execution_count": 7,
   "metadata": {},
   "outputs": [
    {
     "name": "stdout",
     "output_type": "stream",
     "text": [
      "    Gusset Block Shear Case 1): Tr = 1544 kN\n",
      "       (Ut=1.0, An=2120, Agv=4600, Fy=350.0, Fu=450.0)\n"
     ]
    }
   ],
   "source": [
    "nlines,nperline,g,s,e,t,hd,Fy,Fu = Params['Bolts,Plate,Gusset','nlines,nperline,g,s,e,T,hd,Fy,Fu']\n",
    "\n",
    "An = t*((nperline-1)*g - (nperline-1)*hd)\n",
    "Agv = 2*t*((nlines-1)*s + e)\n",
    "Ut = 1.0\n",
    "Vr = phiu*(Ut*An*Fu + 0.6*Agv*(Fy+Fu)/2.) * 1E-3\n",
    "REC('Gusset Block Shear Case 1)','Ut,An,Agv,Fy,Fu',Tr=Vr)"
   ]
  },
  {
   "cell_type": "markdown",
   "metadata": {},
   "source": [
    "#### Case 2)"
   ]
  },
  {
   "cell_type": "code",
   "execution_count": 8,
   "metadata": {},
   "outputs": [
    {
     "name": "stdout",
     "output_type": "stream",
     "text": [
      "    Gusset Block Shear Case 2): Tr = 1575 kN\n",
      "       (Ut=0.8, An=4300, Agv=2300)\n"
     ]
    }
   ],
   "source": [
    "An = t*((nperline-1)*g + ((w1/2.)-(nperline-1)*g/2.))\n",
    "Agv = t*((nlines-1)*s + e)\n",
    "Ut = 0.8\n",
    "Vr = phiu*(Ut*An*Fu + 0.6*Agv*(Fy+Fu)/2.) * 1E-3\n",
    "REC('Gusset Block Shear Case 2)','Ut,An,Agv',Tr=Vr)"
   ]
  },
  {
   "cell_type": "markdown",
   "metadata": {},
   "source": [
    "#### Tearout"
   ]
  },
  {
   "cell_type": "code",
   "execution_count": 9,
   "metadata": {},
   "outputs": [
    {
     "name": "stdout",
     "output_type": "stream",
     "text": [
      "    Gusset tearout: Tr = 2484 kN\n",
      "       (Agv=13800)\n"
     ]
    }
   ],
   "source": [
    "Agv = t*((nlines-1)*s + e) * nperline * 2\n",
    "Vr = phiu * 0.6*Agv*(Fy+Fu)/2. * 1E-3\n",
    "REC('Gusset tearout','Agv',Tr=Vr)"
   ]
  },
  {
   "cell_type": "markdown",
   "metadata": {},
   "source": [
    "## Lap Plate\n",
    "### Lap Plate Details\n",
    "Consider the thickness of both plates together when computing the resistance.\n",
    "As the plate is symmetric, we only have to investigate one end.\n",
    "![Lap Plate Details](images/lap-plate-details.svg)"
   ]
  },
  {
   "cell_type": "code",
   "execution_count": 10,
   "metadata": {},
   "outputs": [],
   "source": [
    "Params.set('LapPlate',\n",
    "            W = 230.,\n",
    "            L = 315.,\n",
    "            T = 10.*2.,      # include 2 plates\n",
    "            e = 40.,         # could be different than gusset\n",
    "            g = Params['Bolts','g'],    # must be the same as bolt group\n",
    "            s = Params['Bolts','s'],\n",
    "            nlines = Params['Bolts','nlines'],\n",
    "            nperline = Params['Bolts','nperline'],\n",
    "            )"
   ]
  },
  {
   "cell_type": "markdown",
   "metadata": {},
   "source": [
    "### Lap Plate: Gross Section Yield"
   ]
  },
  {
   "cell_type": "code",
   "execution_count": 11,
   "metadata": {},
   "outputs": [
    {
     "name": "stdout",
     "output_type": "stream",
     "text": [
      "    Lap Plate, Gross Yield: Tr = 1449 kN\n",
      "       (wg=230.0, t=20.0, Ag=4600, Fy=350.0, phi=0.9)\n"
     ]
    }
   ],
   "source": [
    "wg,t,Fy = Params['Plate,LapPlate','W,T,Fy']\n",
    "Ag = wg*t\n",
    "Tr = phi*Ag*Fy * 1E-3\n",
    "REC('Lap Plate, Gross Yield','wg,t,Ag,Fy,phi',Tr=Tr)"
   ]
  },
  {
   "cell_type": "markdown",
   "metadata": {},
   "source": [
    "### Lap Plate: Net Section Fracture"
   ]
  },
  {
   "cell_type": "code",
   "execution_count": 12,
   "metadata": {},
   "outputs": [
    {
     "name": "stdout",
     "output_type": "stream",
     "text": [
      "    Lap Plate, Net Fracture: Tr = 1066 kN\n",
      "       (wg=230.0, ha=24.0, wn=158.0, phiu=0.75, Ane=3160, Fu=450.0)\n"
     ]
    }
   ],
   "source": [
    "wg,t,nperline,ha,Fu = Params['Bolts,Plate,LapPlate','W,T,nperline,ha,Fu']\n",
    "\n",
    "wn = wg - nperline*ha\n",
    "Ane = An = wn*t\n",
    "Tr = phiu*Ane*Fu * 1E-3\n",
    "REC('Lap Plate, Net Fracture','wg,ha,wn,phiu,Ane,Fu',Tr=Tr)"
   ]
  },
  {
   "cell_type": "markdown",
   "metadata": {},
   "source": [
    "### Lap Plate: Block Shear\n",
    "#### Case 1)"
   ]
  },
  {
   "cell_type": "code",
   "execution_count": 13,
   "metadata": {},
   "outputs": [
    {
     "name": "stdout",
     "output_type": "stream",
     "text": [
      "    Lap Plate Block Shear Case 1): Tr = 1516 kN\n",
      "       (An=2040, Agv=4600, Ut=1.0, Fy=350.0, Fu=450.0)\n"
     ]
    }
   ],
   "source": [
    "g,t,nperline,nlines,e,s = Params.LapPlate['g,T,nperline,nlines,e,s']\n",
    "ha = Params['Bolts','ha']\n",
    "Fy,Fu = Params['Plate','Fy,Fu']\n",
    "\n",
    "An = ((nperline-1)*g - (nperline-1)*ha)*t\n",
    "Agv = (e + (nlines-1)*s)*t*2\n",
    "Ut = 1.0\n",
    "Vr = phiu*(Ut*An*Fu + 0.6*Agv*(Fy+Fu)/2.) * 1E-3\n",
    "REC('Lap Plate Block Shear Case 1)','An,Agv,Ut,Fy,Fu',Tr=Vr)"
   ]
  },
  {
   "cell_type": "markdown",
   "metadata": {},
   "source": [
    "#### Case 2)"
   ]
  },
  {
   "cell_type": "code",
   "execution_count": 14,
   "metadata": {},
   "outputs": [
    {
     "name": "stdout",
     "output_type": "stream",
     "text": [
      "    Lap Plate Block Shear Case 2): Tr = 1143 kN\n",
      "       (An=2700, Agv=2300, Ut=0.8)\n"
     ]
    }
   ],
   "source": [
    "g,t,nperline,nlines,e,s,wg = Params.LapPlate['g,T,nperline,nlines,e,s,W']\n",
    "ha,Fy,Fu = Params['Bolts,Plate','ha,Fy,Fu']\n",
    "\n",
    "edge = (wg - (nperline-1)*g)/2.0\n",
    "An = (wg - edge - (nperline-0.5)*hd)*t\n",
    "Agv = (e + (nlines-1)*s)*t\n",
    "Ut = 0.8\n",
    "Vr = phiu*(Ut*An*Fu + 0.6*Agv*(Fy+Fu)/2.) * 1E-3\n",
    "REC('Lap Plate Block Shear Case 2)','An,Agv,Ut',Tr=Vr)"
   ]
  },
  {
   "cell_type": "markdown",
   "metadata": {},
   "source": [
    "#### Case 3)"
   ]
  },
  {
   "cell_type": "code",
   "execution_count": 15,
   "metadata": {},
   "outputs": [
    {
     "name": "stdout",
     "output_type": "stream",
     "text": [
      "    Lap Plate Block Shear Case 3): Tr = 1261 kN\n",
      "       (An=2140, Agv=4600, Ut=0.6)\n"
     ]
    }
   ],
   "source": [
    "g,t,nperline,nlines,e,s,wg = Params.LapPlate['g,T,nperline,nlines,e,s,W']\n",
    "ha,Fy,Fu = Params['Bolts,Plate','ha,Fy,Fu']\n",
    "\n",
    "An = (wg - nperline*ha - (g-ha))*t\n",
    "Agv = (e + (nlines-1)*s)*t * 2.\n",
    "Ut = 0.6\n",
    "Vr = phiu*(Ut*An*Fu + 0.6*Agv*(Fy+Fu)/2.) * 1E-3\n",
    "REC('Lap Plate Block Shear Case 3)','An,Agv,Ut',Tr=Vr)"
   ]
  },
  {
   "cell_type": "markdown",
   "metadata": {},
   "source": [
    "#### Tearout"
   ]
  },
  {
   "cell_type": "code",
   "execution_count": 16,
   "metadata": {},
   "outputs": [
    {
     "name": "stdout",
     "output_type": "stream",
     "text": [
      "    Lap Plate tearout: Tr = 2484 kN\n",
      "       (Agv=13800)\n"
     ]
    }
   ],
   "source": [
    "t,nlines,nperline,e,s = Params.LapPlate['T,nlines,nperline,e,s']\n",
    "Fy,Fu = Params['Plate','Fy,Fu']\n",
    "\n",
    "An = 0\n",
    "Agv = (e + (nlines-1)*s)*t*2*nperline\n",
    "Ut = 1\n",
    "Vr = phiu*(Ut*An*Fu + 0.6*Agv*(Fy+Fu)/2.) * 1E-3\n",
    "REC('Lap Plate tearout','Agv',Tr=Vr)"
   ]
  },
  {
   "cell_type": "markdown",
   "metadata": {},
   "source": [
    "## Tongue Plate\n",
    "### Tongue Plate Details\n",
    "![Tongue Plate Details](images/tongue-plate-details.svg)"
   ]
  },
  {
   "cell_type": "code",
   "execution_count": 17,
   "metadata": {},
   "outputs": [],
   "source": [
    "P = Params\n",
    "P.set('Tongue',\n",
    "        W = P.Gusset.W1,\n",
    "        T = P.Gusset.T,\n",
    "        D = 8.,\n",
    "        nlines = P.Bolts.nlines,\n",
    "        nperline = P.Bolts.nperline,\n",
    "        e = 40.,\n",
    "        s = P.Bolts.s,\n",
    "        g = P.Bolts.g,\n",
    "        c = 45.,\n",
    "        L = 260.              \n",
    "        )\n",
    "P.set('Tongue',\n",
    "      Lw = P.Tongue.L - (P.Tongue.c + (P.Tongue.nlines-1)*P.Tongue.s + P.Tongue.e),\n",
    "      Dh = SST.section(P.HSS.size,'D'),\n",
    "     )"
   ]
  },
  {
   "cell_type": "markdown",
   "metadata": {},
   "source": [
    "### Tongue Plate - Bolted End\n",
    "#### Gross Section Yield"
   ]
  },
  {
   "cell_type": "code",
   "execution_count": 18,
   "metadata": {},
   "outputs": [
    {
     "name": "stdout",
     "output_type": "stream",
     "text": [
      "    Tongue Plate, Gross Yield: Tr = 1764 kN\n",
      "       (wg=280.0, t=20.0, Ag=5600, Fy=350.0)\n"
     ]
    }
   ],
   "source": [
    "wg,t = Params.Tongue['W,T']\n",
    "Fy = Params.Plate['Fy']\n",
    "Ag = wg*t\n",
    "Tr = phi*Ag*Fy * 1E-3\n",
    "REC('Tongue Plate, Gross Yield','wg,t,Ag,Fy',Tr=Tr)"
   ]
  },
  {
   "cell_type": "markdown",
   "metadata": {},
   "source": [
    "#### Net Section Fracture"
   ]
  },
  {
   "cell_type": "code",
   "execution_count": 19,
   "metadata": {},
   "outputs": [
    {
     "name": "stdout",
     "output_type": "stream",
     "text": [
      "    Tongue Plate, Bolted End, Net Section Fracture: Tr = 1404 kN\n",
      "       (wg=280.0, wn=208.0, Ane=4160, Fu=450.0)\n"
     ]
    }
   ],
   "source": [
    "wg,t,n = Params.Tongue['W,T,nperline']\n",
    "Fu = Params.Plate.Fu\n",
    "ha = Params.Bolts.ha\n",
    "\n",
    "wn = wg - n*ha\n",
    "Ane = An = wn*t\n",
    "Tr = phiu*Ane*Fu * 1E-3\n",
    "REC('Tongue Plate, Bolted End, Net Section Fracture','wg,wn,Ane,Fu',Tr=Tr)"
   ]
  },
  {
   "cell_type": "markdown",
   "metadata": {},
   "source": [
    "#### Block Shear\n",
    "There is no need to check block shear.  Of necessity, the thickness of the tongue plate is the same as\n",
    "the gusset plate, and as the widths and bolting details are also the same, the capacities with respect to block shear will be the same.\n",
    "\n",
    "Actually, we should check the equiv of case 3) of lap plate.\n",
    "\n",
    "Actually, we should check either lap plates or tongue plates using min thickness (2 laps, 1 tongue). \n",
    "  Then gusset will be OK."
   ]
  },
  {
   "cell_type": "markdown",
   "metadata": {},
   "source": [
    "### Tongue Plate - Welded End\n",
    "#### Shear Lag - Effective Net Area"
   ]
  },
  {
   "cell_type": "code",
   "execution_count": 20,
   "metadata": {},
   "outputs": [
    {
     "name": "stdout",
     "output_type": "stream",
     "text": [
      "    Tongue Plate, Welded End, Net Section Fracture: Tr = 1144 kN\n",
      "       (w2=127.0, w3=76.5, An2=1500, An3=944.8, Ane=3390)\n"
     ]
    }
   ],
   "source": [
    "w,w2,L,t,n,g = Params.Tongue['W,Dh,Lw,T,nperline,g']\n",
    "Fu = Params.Plate.Fu\n",
    "if L >= 2*w2:\n",
    "    An2 = 1.00*w2*t\n",
    "elif L >= w2:\n",
    "    An2 = 0.5*w2*t + 0.25*L*t\n",
    "else:\n",
    "    An2 = 0.75*L*t\n",
    "    \n",
    "w3 = (w-w2)/2.\n",
    "xbar = w3/2.\n",
    "if L >= w3:\n",
    "    An3 = (1.-xbar/L)*w3*t\n",
    "else:\n",
    "    An3 = 0.50*L*t\n",
    "Ane = An2 + An3 + An3\n",
    "Tr = phiu*Ane*Fu * 1E-3\n",
    "REC('Tongue Plate, Welded End, Net Section Fracture','w2,w3,An2,An3,Ane',Tr=Tr)"
   ]
  },
  {
   "cell_type": "markdown",
   "metadata": {},
   "source": [
    "## Fasteners\n",
    "### Bolts\n",
    "#### Shear"
   ]
  },
  {
   "cell_type": "code",
   "execution_count": 21,
   "metadata": {},
   "outputs": [
    {
     "name": "stdout",
     "output_type": "stream",
     "text": [
      "    Bolts in Shear: Tr = 948.1 kN\n",
      "       (n=6, m=2, d=19.05, Ab=285.0, Fu=825.0)\n"
     ]
    }
   ],
   "source": [
    "d,Fu,threads_intercepted = Params.Bolts['d,Fub,threads_intercepted']\n",
    "t = min(Params.Gusset.T,Params.Tongue.T,2*Params.LapPlate.T)\n",
    "n = min(Params.Bolts.nlines*Params.Bolts.nperline,Params.Tongue.nlines*Params.Tongue.nperline)\n",
    "m = 2\n",
    "Ab = 3.14159*d*d/4.\n",
    "Vr = 0.6*phib*n*m*Ab*Fu * 1E-3\n",
    "if threads_intercepted:\n",
    "    Vr = 0.7*Vr\n",
    "REC('Bolts in Shear','n,m,d,Ab,Fu',Tr=Vr)"
   ]
  },
  {
   "cell_type": "markdown",
   "metadata": {},
   "source": [
    "#### Bearing"
   ]
  },
  {
   "cell_type": "code",
   "execution_count": 22,
   "metadata": {},
   "outputs": [
    {
     "name": "stdout",
     "output_type": "stream",
     "text": [
      "    Bolts in Bearing: Tr = 4526 kN\n",
      "       (n=6, t=20.0, d=19.05, Fu=825.0)\n"
     ]
    }
   ],
   "source": [
    "Br = 3*phibr*n*t*d*Fu * 1E-3\n",
    "REC('Bolts in Bearing','n,t,d,Fu',Tr=Br)"
   ]
  },
  {
   "cell_type": "markdown",
   "metadata": {},
   "source": [
    "### Welds - HSS to Tongue Plate"
   ]
  },
  {
   "cell_type": "code",
   "execution_count": 23,
   "metadata": {},
   "outputs": [
    {
     "name": "stdout",
     "output_type": "stream",
     "text": [
      "    Fillet Weld (HSS to Plate): Tr = 497.6 kN\n",
      "       (D=8.0, L=100.0, Aw=2262, Xu=490.0)\n"
     ]
    }
   ],
   "source": [
    "L,D = Params.Tongue['Lw,D']\n",
    "Xu,matching = Params.Welds['Xu,matching']\n",
    "Aw = 4.*L*D*0.707\n",
    "Vr = 0.67*phiw*Aw*Xu * 1E-3\n",
    "if matching:\n",
    "    REC('Fillet Weld (HSS to Plate)','D,L,Aw,Xu',Tr=Vr)\n",
    "else:\n",
    "    raise Exception('Non matching electrodes')"
   ]
  },
  {
   "cell_type": "markdown",
   "metadata": {},
   "source": [
    "## HSS + Cover Plate\n",
    "![HSS Details](images/hss-details.svg)"
   ]
  },
  {
   "cell_type": "markdown",
   "metadata": {},
   "source": [
    "### Net Section Fracture"
   ]
  },
  {
   "cell_type": "code",
   "execution_count": 24,
   "metadata": {},
   "outputs": [
    {
     "name": "stdout",
     "output_type": "stream",
     "text": [
      "    HSS Net Section Fracture: Tr = 1422 kN\n",
      "       (xbar=40.71, A=5390, Ag=6590, An=6082, Ane=4214, Fu=450.0)\n"
     ]
    }
   ],
   "source": [
    "dsg,Fy,Fu = Params.HSS['size,Fy,Fu']\n",
    "D,th,A = SST.section(dsg,'D,T,A')\n",
    "tp,wp = Params.CoverPlate['T,W']\n",
    "tt = Params.Tongue.T\n",
    "Lw = Params.Tongue.Lw\n",
    "h = D/2. - th - tt/2.\n",
    "xbar = (2.*h*th*h/2. + D*th*(h+th/2.) + wp*tp*(h+th+tp/2.))/(2*h*th + D*th + wp*tp)\n",
    "Ag = A + 2*wp*tp\n",
    "An = Ag - 2.*tt*th\n",
    "Ane = (1.1 - xbar/Lw)*An\n",
    "Tr = phiu*Ane*Fu * 1E-3\n",
    "REC('HSS Net Section Fracture','xbar,A,Ag,An,Ane,Fu',Tr=Tr)"
   ]
  },
  {
   "cell_type": "markdown",
   "metadata": {},
   "source": [
    "### Gross Section Yield"
   ]
  },
  {
   "cell_type": "code",
   "execution_count": 25,
   "metadata": {},
   "outputs": [
    {
     "name": "stdout",
     "output_type": "stream",
     "text": [
      "    HSS Gross Section Yield: Tr = 1698 kN\n",
      "       (Ag=5390, Fy=350.0)\n"
     ]
    }
   ],
   "source": [
    "Ag = A\n",
    "Tr = phi*Ag*Fy  * 1E-3\n",
    "REC('HSS Gross Section Yield','Ag,Fy',Tr=Tr)"
   ]
  },
  {
   "cell_type": "code",
   "execution_count": 26,
   "metadata": {},
   "outputs": [
    {
     "name": "stdout",
     "output_type": "stream",
     "text": [
      "\n",
      "Summary of Tr for Designer: Typical HSS Cross Brace\n",
      "===================================================\n",
      "\n",
      "Values of Tr:\n",
      "-------------\n",
      "    Gusset to HSS Weld:                             Tr = 2010 kN\n",
      "    Gusset Block Shear Case 1):                     Tr = 1540 kN\n",
      "    Gusset Block Shear Case 2):                     Tr = 1580 kN\n",
      "    Gusset tearout:                                 Tr = 2480 kN\n",
      "    Lap Plate, Gross Yield:                         Tr = 1450 kN\n",
      "    Lap Plate, Net Fracture:                        Tr = 1070 kN\n",
      "    Lap Plate Block Shear Case 1):                  Tr = 1520 kN\n",
      "    Lap Plate Block Shear Case 2):                  Tr = 1140 kN\n",
      "    Lap Plate Block Shear Case 3):                  Tr = 1260 kN\n",
      "    Lap Plate tearout:                              Tr = 2480 kN\n",
      "    Tongue Plate, Gross Yield:                      Tr = 1760 kN\n",
      "    Tongue Plate, Bolted End, Net Section Fracture: Tr = 1400 kN\n",
      "    Tongue Plate, Welded End, Net Section Fracture: Tr = 1140 kN\n",
      "    Bolts in Shear:                                 Tr = 948 kN\n",
      "    Bolts in Bearing:                               Tr = 4530 kN\n",
      "    Fillet Weld (HSS to Plate):                     Tr = 498 kN  <-- governs\n",
      "    HSS Net Section Fracture:                       Tr = 1420 kN\n",
      "    HSS Gross Section Yield:                        Tr = 1700 kN\n",
      "\n",
      "    Governing Value:\n",
      "    ----------------\n",
      "       Tr = 498 kN\n"
     ]
    }
   ],
   "source": [
    "des.summary()"
   ]
  },
  {
   "cell_type": "code",
   "execution_count": 27,
   "metadata": {},
   "outputs": [
    {
     "ename": "Exception",
     "evalue": "",
     "output_type": "error",
     "traceback": [
      "\u001b[0;31m---------------------------------------------------------------------------\u001b[0m",
      "\u001b[0;31mException\u001b[0m                                 Traceback (most recent call last)",
      "\u001b[0;32m<ipython-input-27-32c500991385>\u001b[0m in \u001b[0;36m<module>\u001b[0;34m\u001b[0m\n\u001b[0;32m----> 1\u001b[0;31m \u001b[0;32mraise\u001b[0m \u001b[0mException\u001b[0m\u001b[0;34m(\u001b[0m\u001b[0;34m)\u001b[0m\u001b[0;34m\u001b[0m\u001b[0m\n\u001b[0m",
      "\u001b[0;31mException\u001b[0m: "
     ]
    }
   ],
   "source": [
    "raise Exception()"
   ]
  },
  {
   "cell_type": "markdown",
   "metadata": {},
   "source": [
    "## Cover Plate to HSS Weld\n",
    "Ensure that the length of the weld can develop the full strength of the cover plate."
   ]
  },
  {
   "cell_type": "code",
   "execution_count": null,
   "metadata": {},
   "outputs": [],
   "source": [
    "cTr = phiu*cAne*cFu * 1E-3\n",
    "L = Tongue.Lw\n",
    "D = Cover.D\n",
    "Xu = Weld.Xu\n",
    "Aw = 2*L*D*0.707\n",
    "wTr = 0.67*phiw*Aw*Xu * 1E-3\n",
    "CHK(wTr>=cTr,'Coverplate weld strength'.format(wTr,cTr),'wTr,cTr,L,D,Aw')"
   ]
  },
  {
   "cell_type": "markdown",
   "metadata": {},
   "source": [
    "## To Do\n",
    "* Check that gusset plate doesn't cause undo flexural problems in the flange of the HSS column member."
   ]
  },
  {
   "cell_type": "markdown",
   "metadata": {},
   "source": [
    "## Summary"
   ]
  },
  {
   "cell_type": "code",
   "execution_count": null,
   "metadata": {},
   "outputs": [],
   "source": [
    "des.summary()"
   ]
  }
 ],
 "metadata": {
  "kernelspec": {
   "display_name": "Python 3",
   "language": "python",
   "name": "python3"
  },
  "language_info": {
   "codemirror_mode": {
    "name": "ipython",
    "version": 3
   },
   "file_extension": ".py",
   "mimetype": "text/x-python",
   "name": "python",
   "nbconvert_exporter": "python",
   "pygments_lexer": "ipython3",
   "version": "3.6.3"
  }
 },
 "nbformat": 4,
 "nbformat_minor": 2
}
