{
 "cells": [
  {
   "cell_type": "markdown",
   "metadata": {},
   "source": [
    "# Tension Member: Lap Splice\n",
    "Compute the factored tension resistance, $T_r$, of the following plate tension member with a lap splice.\n",
    "Ignore the connection details at the far ends of the member (not shown).  The bolts are 3/4\" A325 in a\n",
    "bearing-type connection (assume threads intercepted).  The plates are of CSA G40.21 350W steel."
   ]
  },
  {
   "cell_type": "markdown",
   "metadata": {},
   "source": [
    "![Lap Splice](images/lap-splice-01.svg)"
   ]
  },
  {
   "cell_type": "code",
   "execution_count": 2,
   "metadata": {},
   "outputs": [],
   "source": [
    "import sys\n",
    "sys.path[1:1] = ['../../ca-steel-design/lib']\n",
    "from Designer import SST,show"
   ]
  },
  {
   "cell_type": "code",
   "execution_count": 6,
   "metadata": {},
   "outputs": [
    {
     "name": "stdout",
     "output_type": "stream",
     "text": [
      "Fy  = 350\n",
      "Fu  = 450\n",
      "Fub = 825\n",
      "W1  = 300\n",
      "T1  = 25\n",
      "c   = 10\n",
      "W2  = 220\n",
      "T2  = 14\n",
      "L2  = 350\n",
      "d   = 19.05\n",
      "HA  = 24\n",
      "G   = 75\n",
      "S   = 75\n",
      "S2  = 140\n",
      "NT  = 3\n",
      "NL  = 2\n"
     ]
    }
   ],
   "source": [
    "# Material properties:\n",
    "Fy = 350.   # CSA G40.21 350W\n",
    "Fu = 450.\n",
    "Fub = 825.  # bolt, ASTM A325\n",
    "# Main plate dimensions:\n",
    "W1 = 300.\n",
    "T1 = 25.\n",
    "c = 10.   # clearance between ends\n",
    "# Lap plate dimensions:\n",
    "W2 = 220.\n",
    "T2 = 14.\n",
    "L2 = 350.\n",
    "# bolting dimensions\n",
    "d = 25.4*(3/4)   # bolt dia\n",
    "HA = 22. + 2.  # hole allowance - 3/4\" bolts in 22mm punched holes\n",
    "G = 75.     # gauge\n",
    "S = 75.     # transverse spacing\n",
    "NT = 3      # number of bolts across\n",
    "NL = 2      # number of lines of bolts each side\n",
    "S2 = 140.\n",
    "show('Fy,Fu,Fub,W1,T1,c,W2,T2,L2,d,HA,G,S,S2,NT,NL')"
   ]
  },
  {
   "cell_type": "markdown",
   "metadata": {},
   "source": [
    "## Check Bolting Details"
   ]
  },
  {
   "cell_type": "code",
   "execution_count": 7,
   "metadata": {},
   "outputs": [
    {
     "name": "stdout",
     "output_type": "stream",
     "text": [
      "min_pitch = 51.43\n",
      "min_edge  = 32\n",
      "min_end   = 28.57\n",
      "max_edge  = 150\n"
     ]
    }
   ],
   "source": [
    "min_edge = 32   # S16 22.3.2, min edge distance, 3/4\" bolt, sheared edge, Table 6\n",
    "max_edge = min(12*T2,150) # S16 22.3.3\n",
    "min_end = min_edge if NL > 2 else 1.5*d  # S16 22.3.4\n",
    "min_pitch = 2.7*d    # S16 22.3.1\n",
    "show('min_pitch,min_edge,min_end,max_edge')"
   ]
  },
  {
   "cell_type": "markdown",
   "metadata": {},
   "source": [
    "### Center plate:"
   ]
  },
  {
   "cell_type": "code",
   "execution_count": 10,
   "metadata": {},
   "outputs": [
    {
     "name": "stdout",
     "output_type": "stream",
     "text": [
      "edge = 75\n",
      "end  = 65\n"
     ]
    }
   ],
   "source": [
    "edge = (W1 - (NT-1)*G)/2.\n",
    "end = (S2 - c)/2.\n",
    "show('edge,end')\n",
    "assert edge >= min_edge\n",
    "assert edge <= max_edge\n",
    "assert end >= min_end\n",
    "assert S >= min_pitch\n",
    "assert G >= min_pitch"
   ]
  },
  {
   "cell_type": "markdown",
   "metadata": {},
   "source": [
    "### Lap plate:"
   ]
  },
  {
   "cell_type": "code",
   "execution_count": 13,
   "metadata": {},
   "outputs": [
    {
     "name": "stdout",
     "output_type": "stream",
     "text": [
      "edge = 35\n",
      "end  = 30\n"
     ]
    }
   ],
   "source": [
    "edge = (W2 - (NT-1)*G)/2.\n",
    "end = (L2 - ((NL-1)*G*2 + S2))/2.\n",
    "show('edge,end')\n",
    "assert edge >= min_edge\n",
    "assert edge <= max_edge\n",
    "assert end >= min_end"
   ]
  },
  {
   "cell_type": "code",
   "execution_count": null,
   "metadata": {},
   "outputs": [],
   "source": []
  }
 ],
 "metadata": {
  "kernelspec": {
   "display_name": "Python 3",
   "language": "python",
   "name": "python3"
  },
  "language_info": {
   "codemirror_mode": {
    "name": "ipython",
    "version": 3
   },
   "file_extension": ".py",
   "mimetype": "text/x-python",
   "name": "python",
   "nbconvert_exporter": "python",
   "pygments_lexer": "ipython3",
   "version": "3.6.7"
  }
 },
 "nbformat": 4,
 "nbformat_minor": 2
}
