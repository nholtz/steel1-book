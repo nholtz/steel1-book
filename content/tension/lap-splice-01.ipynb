{
 "cells": [
  {
   "cell_type": "markdown",
   "metadata": {},
   "source": [
    "# Tension Member: Lap Splice\n",
    "Compute the factored tension resistance, $T_r$, of the following plate tension member, lap splice and fasteners.\n",
    "Ignore the connection details at the far ends of the member (not shown).  Bolts are 3/4\" A325 in a\n",
    "bearing-type connection (assume threads intercepted).  The plates are of CSA G40.21 350W steel."
   ]
  },
  {
   "cell_type": "markdown",
   "metadata": {},
   "source": [
    "![Lap Splice](images/lap-splice-01.svg)"
   ]
  },
  {
   "cell_type": "code",
   "execution_count": 1,
   "metadata": {},
   "outputs": [],
   "source": [
    "import sys\n",
    "sys.path[1:1] = ['../../ca-steel-design/lib']\n",
    "from Designer import show,Recorder"
   ]
  },
  {
   "cell_type": "code",
   "execution_count": 2,
   "metadata": {},
   "outputs": [
    {
     "name": "stdout",
     "output_type": "stream",
     "text": [
      "Fy  = 350\n",
      "Fu  = 450\n",
      "Fub = 825\n",
      "W1  = 300\n",
      "T1  = 25\n",
      "C   = 10\n",
      "W2  = 220\n",
      "T2  = 14\n",
      "L2  = 350\n",
      "D   = 19.05\n",
      "HA  = 24\n",
      "G   = 75\n",
      "S   = 75\n",
      "S2  = 140\n",
      "NT  = 3\n",
      "NL  = 2\n"
     ]
    }
   ],
   "source": [
    "# Material properties:\n",
    "Fy = 350.   # CSA G40.21 350W\n",
    "Fu = 450.\n",
    "Fub = 825.  # bolt, ASTM A325\n",
    "# Main plate dimensions:\n",
    "W1 = 300.\n",
    "T1 = 25.\n",
    "C = 10.   # clearance between ends\n",
    "# Lap plate dimensions:\n",
    "W2 = 220.\n",
    "T2 = 14.\n",
    "L2 = 350.\n",
    "# bolting dimensions\n",
    "D = 25.4*(3/4)   # bolt dia\n",
    "threads_intercepted = True\n",
    "HA = 22. + 2.  # hole allowance - 3/4\" bolts in 22mm punched holes\n",
    "G = 75.     # gauge\n",
    "S = 75.     # transverse spacing\n",
    "NT = 3      # number of bolts across\n",
    "NL = 2      # number of lines of bolts each side\n",
    "S2 = 140.\n",
    "show('Fy,Fu,Fub,W1,T1,C,W2,T2,L2,D,HA,G,S,S2,NT,NL')"
   ]
  },
  {
   "cell_type": "markdown",
   "metadata": {},
   "source": [
    "## Check Bolting Details\n",
    "Edge distance, end distance and spacing"
   ]
  },
  {
   "cell_type": "code",
   "execution_count": 3,
   "metadata": {},
   "outputs": [],
   "source": [
    "assert NT >= 2    # number of longitudinal lines (# of bolts per transverse line)\n",
    "assert NL >= 2    # number of transverse lines (# of bolts per longitudinal line)"
   ]
  },
  {
   "cell_type": "code",
   "execution_count": 4,
   "metadata": {},
   "outputs": [
    {
     "name": "stdout",
     "output_type": "stream",
     "text": [
      "min_pitch = 51.43\n",
      "min_edge  = 32\n",
      "min_end   = 28.57\n",
      "max_edge  = 150\n"
     ]
    }
   ],
   "source": [
    "min_edge = 32   # S16 22.3.2, min edge distance, 3/4\" bolt, sheared edge, Table 6\n",
    "max_edge = min(12*T2,150) # S16 22.3.3\n",
    "min_end = min_edge if NL > 2 else 1.5*D  # S16 22.3.4\n",
    "min_pitch = 2.7*D    # S16 22.3.1\n",
    "show('min_pitch,min_edge,min_end,max_edge')"
   ]
  },
  {
   "cell_type": "markdown",
   "metadata": {},
   "source": [
    "### Center plate:"
   ]
  },
  {
   "cell_type": "code",
   "execution_count": 5,
   "metadata": {},
   "outputs": [
    {
     "name": "stdout",
     "output_type": "stream",
     "text": [
      "edge = 75\n",
      "end  = 65\n"
     ]
    }
   ],
   "source": [
    "edge = (W1 - (NT-1)*G)/2.\n",
    "end = (S2 - C)/2.\n",
    "show('edge,end')\n",
    "assert edge >= min_edge\n",
    "assert edge <= max_edge\n",
    "assert end >= min_end\n",
    "##assert S >= min_pitch\n",
    "##assert G >= min_pitch\n",
    "assert S2 >= S\n",
    "assert S**2 + G**2 >= min_pitch**2    # to be more precise ..."
   ]
  },
  {
   "cell_type": "markdown",
   "metadata": {},
   "source": [
    "### Lap plates:"
   ]
  },
  {
   "cell_type": "code",
   "execution_count": 6,
   "metadata": {},
   "outputs": [
    {
     "name": "stdout",
     "output_type": "stream",
     "text": [
      "edge = 35\n",
      "end  = 30\n"
     ]
    }
   ],
   "source": [
    "edge = (W2 - (NT-1)*G)/2.\n",
    "end = (L2 - ((NL-1)*G*2 + S2))/2.\n",
    "show('edge,end')\n",
    "assert edge >= min_edge\n",
    "assert edge <= max_edge\n",
    "assert end >= min_end"
   ]
  },
  {
   "cell_type": "markdown",
   "metadata": {},
   "source": [
    "## Factored Resistance"
   ]
  },
  {
   "cell_type": "code",
   "execution_count": 7,
   "metadata": {},
   "outputs": [],
   "source": [
    "record = Recorder()"
   ]
  },
  {
   "cell_type": "markdown",
   "metadata": {},
   "source": [
    "### Main plate\n",
    "![Main Plate](images/lap-splice-01-main.svg)"
   ]
  },
  {
   "cell_type": "markdown",
   "metadata": {},
   "source": [
    "#### Yield on Gross Area\n",
    "\n",
    "If the gross (unreduced) cross-section reaches the yield stress, there will be considerable\n",
    "axial elongation as yield strains are reached over the length of the member.  This is considered a failure state."
   ]
  },
  {
   "cell_type": "code",
   "execution_count": 8,
   "metadata": {},
   "outputs": [
    {
     "name": "stdout",
     "output_type": "stream",
     "text": [
      "Ag = 7500\n",
      "Tr = 2362\n"
     ]
    }
   ],
   "source": [
    "Ag = W1*T1    # gross x-sectional area\n",
    "phi = 0.9\n",
    "Tr = phi*Ag*Fy * 1E-3  # S16 13.2 a) i)\n",
    "show('Ag,Tr')\n",
    "record('Tr',Tr,'13.2 a) i) - gross area yield, centre plate')"
   ]
  },
  {
   "cell_type": "markdown",
   "metadata": {},
   "source": [
    "#### Fracture on Effective Net Area\n",
    "When the average stress across the net (reduced) area reaches the fracture stress, \n",
    "fracture will occur on that area.  This is, of\n",
    "course, a failure mode.  Normally, an account is made of how non-uniform load transfers can affect the stress\n",
    "distribution across the cross-section; if the stress distribution is markedly non-uniform, fracture may occur *before* the average stress reaches the ultimate.   This account \n",
    "is done by computing and using an effective net area, $A_{ne}$.  \n",
    "\n",
    "Because the \n",
    "bolts in this connection transfer loads approximately uniformly across the entire cross-section, we can consider the effective net area to be equal to the net area in possible failure path 1 in the above figure.   (S16 12.3.3.1)"
   ]
  },
  {
   "cell_type": "code",
   "execution_count": 9,
   "metadata": {},
   "outputs": [
    {
     "name": "stdout",
     "output_type": "stream",
     "text": [
      "wn  = 228\n",
      "An  = 5700\n",
      "Ane = 5700\n",
      "Tr  = 1924\n"
     ]
    }
   ],
   "source": [
    "wn = W1 - NT*HA    # subtract total width of material removed by holes, failure path 1\n",
    "Ane = An = wn*T1\n",
    "phiu = 0.75\n",
    "Tr = phiu*Ane*Fu * 1E-3    # S16 13.2 a) iii)\n",
    "show('wn,An,Ane,Tr')\n",
    "record('Tr',Tr,'13.2 a) iii) - Net section fracture, centre plate')"
   ]
  },
  {
   "cell_type": "markdown",
   "metadata": {},
   "source": [
    "#### Block Shear\n",
    "Other potential failure modes involve tension and shear ruptures in combination around\n",
    "the bolt holes.  The following figure shows 4 different potential failure patterns that must be\n",
    "investigated. \n",
    "\n",
    "Patterns 1 and 2 are sort of \"opposites\" - in Pattern 1 in the tension rupture extends across the\n",
    "end of the bolts, while in Pattern 2 the tension rupture extends from one line of bolts to\n",
    "the outside edges of the plates.  Pattern 2 probably is only important when there are 2 longitudinal\n",
    "lines of bolts (there are three shown on the drawing, though our calculations will allow\n",
    "for any number, 2 or more).  If there are more than 3 longitudnal lines (I.e., more than 3 bolts across),\n",
    "other patterns similar to Pattern 2 could be drawn but thay will not have lower strengths.\n",
    "\n",
    "Note that Pattern 4 is often called 'tear-out' or 'pull-out'.\n",
    "\n",
    "![Black Shear Patterns](images/lap-splice-01-main-blocks.svg)"
   ]
  },
  {
   "cell_type": "code",
   "execution_count": 10,
   "metadata": {},
   "outputs": [
    {
     "name": "stdout",
     "output_type": "stream",
     "text": [
      "Ut  = 1\n",
      "An  = 3750\n",
      "Agv = 7000\n",
      "Tr  = 2526\n"
     ]
    }
   ],
   "source": [
    "## Pattern 1\n",
    "e = S2/2. - C/2.     # end distance to centre of 1st bolt hole\n",
    "Agv = (e + (NL-1)*S)*T1*2.  # shear area\n",
    "An = (NT-1)*G * T1          # tension area\n",
    "Ut = 1.0\n",
    "phiu = 0.75\n",
    "Tr = phiu*((Ut*An*Fu) + (0.6*Agv*(Fy+Fu)/2.)) * 1E-3     # S16 13.11\n",
    "show('Ut,An,Agv,Tr')\n",
    "record('Tr',Tr,'13.2 a) ii) - 13.11 - Block Shear Pattern 1 - centre plate')"
   ]
  },
  {
   "cell_type": "code",
   "execution_count": 11,
   "metadata": {},
   "outputs": [
    {
     "name": "stdout",
     "output_type": "stream",
     "text": [
      "Ut  = 0.6\n",
      "An  = 4425\n",
      "Agv = 7000\n",
      "Tr  = 2156\n"
     ]
    }
   ],
   "source": [
    "## Pattern 2\n",
    "Agv = 2.*(e + (NL-1)*S)*T1  # shear area\n",
    "g1 = (W1 - (NT-1)*G)/2.  # edge distance to centre of hole\n",
    "An = (g1 + g1 - 2.*HA/2.)*T1    # to outside from edge of outside pair of holes\n",
    "if NT >= 3:\n",
    "    An = An + (NT-2.)*(G - 2.*HA/2.)*T1    # additional between holes\n",
    "Ut = 0.6                 # no good guidelines in commentary - this should be conservative\n",
    "Tr = phiu*((Ut*An*Fu) + (0.6*Agv*(Fy+Fu)/2.)) * 1E-3     # S16 13.11\n",
    "show('Ut,An,Agv,Tr')\n",
    "record('Tr',Tr,'13.2 a) ii) - 13.11 - Block Shear Pattern 2 - centre plate')    "
   ]
  },
  {
   "cell_type": "code",
   "execution_count": 12,
   "metadata": {},
   "outputs": [
    {
     "name": "stdout",
     "output_type": "stream",
     "text": [
      "Ut  = 0.6\n",
      "An  = 4125\n",
      "Agv = 3500\n",
      "Tr  = 1465\n"
     ]
    }
   ],
   "source": [
    "## Pattern 3\n",
    "Agv = (e + (NL-1)*S)*T1  # shear area\n",
    "g1 = (W1 - (NT-1)*G)/2.  # edge distance to centre of hole\n",
    "An = ((W1-g1) - (NT-0.5)*HA)*T1\n",
    "Ut = 0.6                 # no good guidelines in commentary - this should be conservative\n",
    "Tr = phiu*((Ut*An*Fu) + (0.6*Agv*(Fy+Fu)/2.)) * 1E-3     # S16 13.11\n",
    "show('Ut,An,Agv,Tr')\n",
    "record('Tr',Tr,'13.2 a) ii) - 13.11 - Block Shear Pattern 3 - centre plate')"
   ]
  },
  {
   "cell_type": "code",
   "execution_count": 13,
   "metadata": {},
   "outputs": [
    {
     "name": "stdout",
     "output_type": "stream",
     "text": [
      "Ut  = 0\n",
      "An  = 0\n",
      "Agv = 21000\n",
      "Tr  = 3780\n"
     ]
    }
   ],
   "source": [
    "## Pattern 4 - tear-out\n",
    "Agv = (e + (NL-1)*S)*T1 * (NT*2.) # shear area\n",
    "An = 0.\n",
    "Ut = 0.               # N.A.\n",
    "Tr = phiu*((Ut*An*Fu) + (0.6*Agv*(Fy+Fu)/2.)) * 1E-3     # S16 13.11\n",
    "show('Ut,An,Agv,Tr')\n",
    "record('Tr',Tr,'13.2 a) ii) - 13.11 - Block Shear Pattern 4 - centre plate')"
   ]
  },
  {
   "cell_type": "markdown",
   "metadata": {},
   "source": [
    "### Lap Plates\n",
    "![Lap Plate](images/lap-splice-01-side.svg)\n",
    "\n",
    "The side plates have similar failure modes and so will be computed here without much additional comment.  In all cases we will use the dimensions of a single plate, then will multiply the resistance by 2 to\n",
    "account for the two plates."
   ]
  },
  {
   "cell_type": "markdown",
   "metadata": {},
   "source": [
    "#### Yield on Gross Area"
   ]
  },
  {
   "cell_type": "code",
   "execution_count": 14,
   "metadata": {},
   "outputs": [
    {
     "name": "stdout",
     "output_type": "stream",
     "text": [
      "Ag = 3080\n",
      "Tr = 1940\n"
     ]
    }
   ],
   "source": [
    "Ag = W2*T2    # gross x-sectional area\n",
    "phi = 0.9\n",
    "Tr = 2. * phi*Ag*Fy * 1E-3  # S16 13.2 a) i)\n",
    "show('Ag,Tr')\n",
    "record('Tr',Tr,'13.2 a) i) - gross area yield, two side plates')"
   ]
  },
  {
   "cell_type": "markdown",
   "metadata": {},
   "source": [
    "#### Fracture on Effective Net Area"
   ]
  },
  {
   "cell_type": "code",
   "execution_count": 15,
   "metadata": {},
   "outputs": [
    {
     "name": "stdout",
     "output_type": "stream",
     "text": [
      "wn  = 148\n",
      "An  = 2072\n",
      "Ane = 2072\n",
      "Tr  = 1399\n"
     ]
    }
   ],
   "source": [
    "wn = W2 - NT*HA    # subtract total width of material removed by holes, failure path 2\n",
    "Ane = An = wn*T2\n",
    "phiu = 0.75\n",
    "Tr = 2. * phiu*Ane*Fu * 1E-3    # S16 13.2 a) iii)\n",
    "show('wn,An,Ane,Tr')\n",
    "record('Tr',Tr,'13.2 a) iii) - Net section fracture, two side plates')"
   ]
  },
  {
   "cell_type": "markdown",
   "metadata": {},
   "source": [
    "#### Block Shear"
   ]
  },
  {
   "cell_type": "code",
   "execution_count": 16,
   "metadata": {},
   "outputs": [
    {
     "name": "stdout",
     "output_type": "stream",
     "text": [
      "Ut  = 1\n",
      "An  = 2100\n",
      "Agv = 2940\n",
      "Tr  = 2476\n"
     ]
    }
   ],
   "source": [
    "## Pattern 1\n",
    "e = (L2 - S2 - (NL-1)*S*2.)/2.   # end distance to centre of 1st bolt hole\n",
    "Agv = (e + (NL-1)*S)*T2*2.  # shear area\n",
    "An = (NT-1)*G * T2          # tension area\n",
    "Ut = 1.0\n",
    "phiu = 0.75\n",
    "Tr = 2. * phiu*((Ut*An*Fu) + (0.6*Agv*(Fy+Fu)/2.)) * 1E-3     # S16 13.11\n",
    "show('Ut,An,Agv,Tr')\n",
    "record('Tr',Tr,'13.2 a) ii) - 13.11 - Block Shear Pattern 1 - two side plates')"
   ]
  },
  {
   "cell_type": "code",
   "execution_count": 17,
   "metadata": {},
   "outputs": [
    {
     "name": "stdout",
     "output_type": "stream",
     "text": [
      "Ut  = 0.6\n",
      "An  = 1358\n",
      "Agv = 2940\n",
      "Tr  = 1608\n"
     ]
    }
   ],
   "source": [
    "## Pattern 2\n",
    "Agv = 2.*(e + (NL-1)*S)*T2  # shear area\n",
    "g1 = (W2 - (NT-1)*G)/2.  # edge distance to centre of hole\n",
    "An = (g1 + g1 - 2.*HA/2.)*T2    # to outside from edge of outside pair of holes\n",
    "if NT >= 3:\n",
    "    An = An + (NT-2.)*(G - 2.*HA/2.)*T2    # additional between holes\n",
    "Ut = 0.6                 # no good guidelines in commentary - this should be conservative\n",
    "Tr = 2. * phiu*((Ut*An*Fu) + (0.6*Agv*(Fy+Fu)/2.)) * 1E-3     # S16 13.11\n",
    "show('Ut,An,Agv,Tr')\n",
    "record('Tr',Tr,'13.2 a) ii) - 13.11 - Block Shear Pattern 2 - two side plates')    "
   ]
  },
  {
   "cell_type": "code",
   "execution_count": 18,
   "metadata": {},
   "outputs": [
    {
     "name": "stdout",
     "output_type": "stream",
     "text": [
      "Ut  = 0.6\n",
      "An  = 1750\n",
      "Agv = 1470\n",
      "Tr  = 1238\n"
     ]
    }
   ],
   "source": [
    "## Pattern 3\n",
    "Agv = (e + (NL-1)*S)*T2  # shear area\n",
    "g2 = (W2 - (NT-1)*G)/2.  # edge distance to centre of hole\n",
    "An = ((W2-g2) - (NT-0.5)*HA)*T2\n",
    "Ut = 0.6                 # no good guidelines in commentary - this should be conservative\n",
    "Tr = 2. * phiu*((Ut*An*Fu) + (0.6*Agv*(Fy+Fu)/2.)) * 1E-3     # S16 13.11\n",
    "show('Ut,An,Agv,Tr')\n",
    "record('Tr',Tr,'13.2 a) ii) - 13.11 - Block Shear Pattern 3 - two side plates')"
   ]
  },
  {
   "cell_type": "code",
   "execution_count": 19,
   "metadata": {},
   "outputs": [
    {
     "name": "stdout",
     "output_type": "stream",
     "text": [
      "Ut  = 0\n",
      "An  = 0\n",
      "Agv = 8820\n",
      "Tr  = 3175\n"
     ]
    }
   ],
   "source": [
    "## Pattern 4 - tear-out\n",
    "Agv = (e + (NL-1)*S)*T2 * (NT*2.) # shear area\n",
    "An = 0.\n",
    "Ut = 0.               # N.A.\n",
    "Tr = 2. * phiu*((Ut*An*Fu) + (0.6*Agv*(Fy+Fu)/2.)) * 1E-3     # S16 13.11\n",
    "show('Ut,An,Agv,Tr')\n",
    "record('Tr',Tr,'13.2 a) ii) - 13.11 - Block Shear Pattern 4 - two side plates')"
   ]
  },
  {
   "cell_type": "markdown",
   "metadata": {},
   "source": [
    "### Fasteners (Bolts)"
   ]
  },
  {
   "cell_type": "markdown",
   "metadata": {},
   "source": [
    "#### Shear\n",
    "\n",
    "Here we compute the shear strength of one of the bolt groups."
   ]
  },
  {
   "cell_type": "code",
   "execution_count": 20,
   "metadata": {},
   "outputs": [
    {
     "name": "stdout",
     "output_type": "stream",
     "text": [
      "n  = 6\n",
      "m  = 2\n",
      "Ab = 285\n",
      "Vr = 948.1\n"
     ]
    }
   ],
   "source": [
    "n = NT*NL      # number of bolts\n",
    "m = 2.         # number of faying surfaces\n",
    "Ab = 3.14159*D*D/4.\n",
    "phib = 0.80\n",
    "Vr = 0.60*phib*n*m*Ab*Fub * 1E-3      # S16 13.12.1.2 c)\n",
    "if (NL-1)*S >= 760.:\n",
    "    Vr = (0.5/0.6)*Vr\n",
    "if threads_intercepted:\n",
    "    Vr = 0.7*Vr\n",
    "show('n,m,Ab,Vr')\n",
    "record('Tr',Vr,'13.12.1.2 c) - shear resistance of bolts')"
   ]
  },
  {
   "cell_type": "markdown",
   "metadata": {},
   "source": [
    "#### Bearing"
   ]
  },
  {
   "cell_type": "code",
   "execution_count": 21,
   "metadata": {},
   "outputs": [
    {
     "name": "stdout",
     "output_type": "stream",
     "text": [
      "n  = 6\n",
      "t  = 25\n",
      "Br = 3086\n"
     ]
    }
   ],
   "source": [
    "n = NT*NL\n",
    "t = min(T1,2.*T2)\n",
    "phibr = 0.80\n",
    "Br = 3.*phibr*n*t*D*Fu * 1E-3\n",
    "show('n,t,Br')\n",
    "record('Tr',Br,'13.12.1.2 a) - bearing resistance at bolt holes')"
   ]
  },
  {
   "cell_type": "markdown",
   "metadata": {},
   "source": [
    "## Summary"
   ]
  },
  {
   "cell_type": "code",
   "execution_count": 22,
   "metadata": {},
   "outputs": [
    {
     "name": "stdout",
     "output_type": "stream",
     "text": [
      "            Tr = 2362     - 13.2 a) i) - gross area yield, centre plate                  \n",
      "            Tr = 1924     - 13.2 a) iii) - Net section fracture, centre plate            \n",
      "            Tr = 2526     - 13.2 a) ii) - 13.11 - Block Shear Pattern 1 - centre plate   \n",
      "            Tr = 2156     - 13.2 a) ii) - 13.11 - Block Shear Pattern 2 - centre plate   \n",
      "            Tr = 1465     - 13.2 a) ii) - 13.11 - Block Shear Pattern 3 - centre plate   \n",
      "            Tr = 3780     - 13.2 a) ii) - 13.11 - Block Shear Pattern 4 - centre plate   \n",
      "            Tr = 1940     - 13.2 a) i) - gross area yield, two side plates               \n",
      "            Tr = 1399     - 13.2 a) iii) - Net section fracture, two side plates         \n",
      "            Tr = 2476     - 13.2 a) ii) - 13.11 - Block Shear Pattern 1 - two side plates\n",
      "            Tr = 1608     - 13.2 a) ii) - 13.11 - Block Shear Pattern 2 - two side plates\n",
      "            Tr = 1238     - 13.2 a) ii) - 13.11 - Block Shear Pattern 3 - two side plates\n",
      "            Tr = 3175     - 13.2 a) ii) - 13.11 - Block Shear Pattern 4 - two side plates\n",
      "governs --> Tr = 948.1    - 13.12.1.2 c) - shear resistance of bolts                     \n",
      "            Tr = 3086     - 13.12.1.2 a) - bearing resistance at bolt holes              \n"
     ]
    }
   ],
   "source": [
    "record.summary()"
   ]
  },
  {
   "cell_type": "markdown",
   "metadata": {},
   "source": [
    "## Things not done\n",
    "* L/r ratio\n",
    "* Connections at ends"
   ]
  },
  {
   "cell_type": "code",
   "execution_count": null,
   "metadata": {},
   "outputs": [],
   "source": []
  }
 ],
 "metadata": {
  "kernelspec": {
   "display_name": "Python 3",
   "language": "python",
   "name": "python3"
  },
  "language_info": {
   "codemirror_mode": {
    "name": "ipython",
    "version": 3
   },
   "file_extension": ".py",
   "mimetype": "text/x-python",
   "name": "python",
   "nbconvert_exporter": "python",
   "pygments_lexer": "ipython3",
   "version": "3.6.7"
  }
 },
 "nbformat": 4,
 "nbformat_minor": 2
}
