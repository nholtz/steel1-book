{
 "cells": [
  {
   "cell_type": "markdown",
   "metadata": {},
   "source": [
    "## CISC Handbook of Steel Construction - Useful Tables"
   ]
  },
  {
   "cell_type": "markdown",
   "metadata": {},
   "source": [
    "1. **Note:** not all useful tables are mentioned here; these are some of the most directly applicable.\n",
    "\n",
    "1. **Note Note Note:** be _very, extremely, completely_ careful in the use of tables.  Make sure you know _exactly_ what is given.  Read all text concerning the tables _completely_.  For example, the **Factored Moment Resistance of Columns** table does **not** take into account the fact that high axial forces may change the class of a section from 2 to 3, in which case the table values will not be correct.\n",
    "\n",
    "1. Page references are to Eleventh edition, 3rd revised printing."
   ]
  },
  {
   "cell_type": "markdown",
   "metadata": {},
   "source": [
    "| Table # | Pages | Notes |\n",
    "|:--------|:------|:------|\n",
    "| Fig. 2-17 | 2-38 | Various cases of $\\omega_2$ for Linear Moment Gradients |\n",
    "| Fig. 2-26 | 2-53 | Values of $U_t$ for block shear |\n",
    "| 3-1 | 3-6 | Specified Minimum Tensile Strengths, $F_u$, for bolts |\n",
    "| 3-2 | 3-6 | Basic bolt data (diameters, nominal area) |\n",
    "| 3-3 | 3-7 | Summary of S16 provisions for bolts in bearing-type connections |\n",
    "| 3-4 | 3-8 | Factored shear and tensile resistances, per bolt |\n",
    "| 3-11 | 3-17 | Slip resistance per bolt |\n",
    "| Figs. 3-5 to 3-10 | 3-101 to 3-105 | Common W-Shape and HSS connections. |\n",
    "| 3-47 | 3-113 | Hole diameters, specified and for net area |\n",
    "| 4-1 | 4-4 | Width-to-thickness limits for various yield strengths |\n",
    "| 4-2 | 4-5 | Minimum width-thickness ratios for various cross-sectional elements |\n",
    "| 4-3, 4-4 | 4-7 to 4-11 | Unit factored compressive resistances, $C_r/A$, for various $KL/r$ and $n$ values |\n",
    "| 4-5 | 4-12 | Euler buckling load, per unit area, $C_e/A$ |\n",
    "| --- | 4-17 to 4-100 | Factored axial compressive resistances, $C_r$, given wrt to _least_ radius of gyration |\n",
    "| 4-6 | 4-102 | Width-to-thickness ratios for elements in flexural compression |\n",
    "| 4-7 | 4-103 to 4-105 | Classes of sections, Combined axial compression and major-axis bending |\n",
    "| 4-8 | 4-106 | Values of $\\omega_1$ |\n",
    "| 4-9 | 4-107 | Amplification factor, for use in S16-14 13.8.4 |\n",
    "| --- | 4-108 to 4-109 | Factored moment resistance of columns, W Shapes, ASTM A992. (Same data as beam selection tables but easier to search for a particular designation) |\n",
    "| 5-1 | 5-6 to 5-8 | Class of sections in bending, W Shapes, ASTM A992 |\n",
    "| --- | 5-14 to 5-29 | Beam selection tables, W and S Shapes (ASTM A992), C Shapes (350W) |\n",
    "| --- | 5-130 to 5-142 | Beam Diagrams and Formulas _(sic)_ |\n",
    "| 6-3 | 6-9 | Mechanical Properties Summary, CSA G40.20/G40.21 |\n",
    "| 6-7 | 6-13 | Mechanical Properties of Selected ASTM steels |\n",
    "| 6-8 | 6-13 | Availability of steel grades for building construction |\n",
    "| --- | 6-36 to 6-121 | Properties and dimensions of structural shapes |\n",
    "| --- | 6-123 to 6-135 | Properties and dimensions of built-up sections |\n",
    "| --- | 6-136 to 6-139 | Formulae for properties of built-up sections |\n",
    "| --- | 6-154 | Preferred thicknesses of metric sized plates |\n",
    "| --- | 6-173 | Usual gauges for W, M S and C Shapes, and Angles |\n",
    "| --- | 6-181 | Minimum edge distances, for metric-sized bolts |\n",
    "| --- | 6-181 | Usual gauges for angles, for metric-sized bolts |\n",
    "| --- | 6-186 to 6-187 | Minimum and maximum fillet weld sizes |\n",
    "| --- | 6-188 to 6-189 | Welding symbols |\n",
    "| --- | 7-80 to 7-86 | Properties of geometric sections |\n",
    "| --- | 7-87 to 7-90 | Properties of geometric sections and structural shapes |\n",
    "| --- | 7-91 to 7-95 | Properties and trigonometric formulae |"
   ]
  },
  {
   "cell_type": "code",
   "execution_count": null,
   "metadata": {},
   "outputs": [],
   "source": []
  }
 ],
 "metadata": {
  "kernelspec": {
   "display_name": "Python 3",
   "language": "python",
   "name": "python3"
  },
  "language_info": {
   "codemirror_mode": {
    "name": "ipython",
    "version": 3
   },
   "file_extension": ".py",
   "mimetype": "text/x-python",
   "name": "python",
   "nbconvert_exporter": "python",
   "pygments_lexer": "ipython3",
   "version": "3.6.8"
  }
 },
 "nbformat": 4,
 "nbformat_minor": 2
}
