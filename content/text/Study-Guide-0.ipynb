{
 "cells": [
  {
   "cell_type": "markdown",
   "metadata": {},
   "source": [
    "## CIVE 3205 Study Guide, Winter 2020\n",
    "\n",
    "__This is an attempt to summarize the content of the lectures. However all material covered in lectures is relevant unless explicitly excluded, whether mentioned in this guide or not.__"
   ]
  },
  {
   "cell_type": "markdown",
   "metadata": {},
   "source": [
    "| Lecture      |  Topic                                    | Study Material                                  |\n",
    "|:------------:|:------------------------------------------|:------------------------------------------------|\n",
    "| 2020-01-16 | Introduction to Tension Members | [Recorded Lecture](http://cive3205.nealholtz.ca/recordings/3205/2020/2020-01-16/Part-2/Part-1) |\n",
    "| \" | _ _ | S16-14: 13.2 |\n",
    "| \" | Gross and Net Areas | [Recorded Lecture](http://cive3205.nealholtz.ca/recordings/3205/2020/2020-01-16/Part-2/Part-2) |\n",
    "| \" | _ _ | [Recorded Lecture](http://cive3205.nealholtz.ca/recordings/3205/2020/2020-01-16/Part-2/Part-3) |\n",
    "| \" | _ _ | S16-14: 12 |\n",
    "| \" | _ _ | [Class Example T-2i](http://cive3205.nealholtz.ca/steel1-book/text/tension/inclass/T-2i/Class-Example-T-2i.pdf) |\n",
    "| \" | _ _ | Kulak and Grondin: 3.1, 3.2, 3.6 |\n",
    "| 2020-01-21 | Net Areas of Angles | [Recorded Lecture](http://cive3205.nealholtz.ca/recordings/3205/2020/2020-01-21/) |\n",
    "| 2020-01-23 | Block Shear | [Recorded Lecture](http://cive3205.nealholtz.ca/recordings/3205/2020/2020-01-23/) |\n",
    "| \" | _ _ | S16-14: 13.2, 13.11 |\n",
    "| \" | _ _ | CISC HB: 2-50 to 2-54 |\n",
    "| \" | _ _ | [Class Example T-3i](http://cive3205.nealholtz.ca/steel1-book/text/tension/inclass/T-3i/class-example-T-3i.pdf) |\n",
    "| \" | _ _ | [Examples T07, T08, T09](http://cive3205.nealholtz.ca/steel1-book/text/tension/example_problems_01.html) |\n",
    "| \" | _ _ | Kulak and Grondin: 3.4, Example 3.3 |\n",
    "| \" | Shear Lag and Net Areas | [Recorded Lecture](http://cive3205.nealholtz.ca/recordings/3205/2020/2020-01-23/Part-3/) |\n",
    "| \" | _ _ | S16-14: 12.3.3.1, 12.3.3.2 |\n",
    "| \" | _ _ | CISC HB: 2-27 to 2-29 |\n",
    "| \" | _ _ | Kulak and Grondin, 3.3, Example 3.2 |\n",
    "| 2020-01-30 | Effective Net Areas, Welded members (Shear Lag) | [Recorded Lecture](http://cive3205.nealholtz.ca/recordings/3205/2020/2020-01-30/Part-1/) |\n",
    "| \" | _ _ | S16-14 12.3.3.3, 12.3.3.4 |\n",
    "| \" | _ _ | [Examples T03, T04, T05](http://cive3205.nealholtz.ca/steel1-book/text/tension/example_problems_01.html) |\n",
    "| \" | _ _ | Kulak and Grondin: 3.3, Example 3.1 |\n",
    "| \" | Fastener Strength (Bolts) | [Recorded Lecture](http://cive3205.nealholtz.ca/recordings/3205/2020/2020-01-30/Part-2/) |\n",
    "| \" | _ _ | S16-14 13.12.1.2 |\n",
    "| \" | _ _ | [Examples C10, C20](http://cive3205.nealholtz.ca/steel1-book/text/connection/index.html) |\n",
    "| 2020-02-06 | Bolts in Tension | [Recorded Lecture](http://cive3205.nealholtz.ca/recordings/3205/2020/2020-02-06/) |\n",
    "| \" | _Combined Tension and Shear_ | S16-14: 13.12.1.3, 13.12.1.4 |\n",
    "| \" | _ _ | [Example C50](http://cive3205.nealholtz.ca/steel1-book/text/connection/C50/index) |\n",
    "| \" | _ _ | Kulak and Grondin, 9.7 |\n",
    "| \" | Fillet Welds | [Recorded Lecture](http://cive3205.nealholtz.ca/recordings/3205/2020/2020-02-06/) |\n",
    "| \" | _ _ | S16-14: 13.13.2.2 |\n",
    "| 2020-02-13 | Design of a Tension Member | [Recorded Lecture](http://cive3205.nealholtz.ca/recordings/3205/2020/2020-02-13/) |\n",
    "| \" | _(Slotted HSS)_ | [Example TD40](http://cive3205.nealholtz.ca/steel1-book/notebooks/tension/TD40/Tension-Member-Design-40.html) |\n",
    "| \" | _ _ | CISC HB, pages 3-108 to 3-112 |"
   ]
  },
  {
   "cell_type": "code",
   "execution_count": null,
   "metadata": {},
   "outputs": [],
   "source": []
  }
 ],
 "metadata": {
  "kernelspec": {
   "display_name": "Python 3",
   "language": "python",
   "name": "python3"
  },
  "language_info": {
   "codemirror_mode": {
    "name": "ipython",
    "version": 3
   },
   "file_extension": ".py",
   "mimetype": "text/x-python",
   "name": "python",
   "nbconvert_exporter": "python",
   "pygments_lexer": "ipython3",
   "version": "3.7.5"
  }
 },
 "nbformat": 4,
 "nbformat_minor": 4
}
