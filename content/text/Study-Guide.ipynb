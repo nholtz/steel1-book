{
 "cells": [
  {
   "cell_type": "markdown",
   "metadata": {},
   "source": [
    "## CIVE 3205 Study Guide, Winter 2020\n",
    "\n",
    "\n",
    "| Lecture      |  Topic                                    | Study Material                                  |\n",
    "|:------------:|:------------------------------------------|:------------------------------------------------|\n",
    "| 2020-02-27   | Axial compression. Local buckling. Strength. Design. | [Recorded Lecture](http://holtz3.cee.carleton.ca/recordings/3205/2020/2020-02-27/) |\n",
    "|   \"          |  _ _      | [Examples AC10](compression/AC10/index.html) (done in class) |\n",
    "|   \"          |  _ _      | [Example AC11](compression/AC11/AC11.html) |\n",
    "|   \"          |  _ _      | [Example AC15](compression/AC15/index.html) |\n",
    "|   \"          |  _ _      | [Example AC20](compression/AC20/index.html) (background done in class) |\n",
    "|   \"          |  _ _      | [HW-3](https://culearn.carleton.ca/moodle/mod/assign/view.php?id=1664088) |\n",
    "|   \"          |  _ _      | S16-14: 10.4.2, 11.2, 11.3, 13.3.1, 13.3.5, Table 1 |\n",
    "|   \"          |  _ _      | CISC HB: pp 4-15, 4-16 (example)|\n",
    "|   \"          |  _ _      | CISC HB: pp 4-13, 4-14, pp 4-17 thru 4-100 (design tables)|\n",
    "|   \"          |  _ _      | Kulak & Grondin: 4.1, 4.2, 4.3, 4.4, 4.5, 4.6, 4.7, 4.8; Examples 4.1, 4.2, 4.3 |\n",
    "| 2020-03-05   | Effective length factor, built-up sections | [Recorded Lecture](http://holtz3.cee.carleton.ca/recordings/3205/2020/2020-03-05/) |\n",
    "|    \"         | HSS peculiarities                          | CISC HB Page 6-20, 4-15, 4-16 |\n",
    "|    \"         | Residual stresses, values of _n_           | CISC HB pp 2-31 to 2-33 |\n",
    "|    \"         | Effective length factors                   | S16-14: Annex F, Annex G |\n",
    "|    \"         | _ _       | Kulak & Grondin: 4.9, 4.10, 4.11, 4.12 |\n",
    "|    \"         | _ _       | [Example AC50](compression/AC50/index.html) (partially done in class) |\n",
    "|  2020-03-10  | Built-up members | [Recorded Lecture](http://holtz3.cee.carleton.ca/recordings/3205/2020/2020-03-10/) |\n",
    "|    \"         | _ _   | [Example AC30](compression/AC30/index.html) (partially done in class) |\n",
    "|    \"         | _ _       | [HW-4](https://culearn.carleton.ca/moodle/mod/assign/view.php?id=1667699) |\n",
    "|    \"         | _ _    | Kulak & Grondin: Example 4.4 |\n",
    "| 2020-03-12   | Axial Compression, last words  |  [Recorded Lecture](http://holtz3.cee.carleton.ca/recordings/3205/2020/2020-03-12/) |\n",
    "|    \"         | Flexural Torsional Buckling     | S16-14: 13.3.2 (Awareness only) |\n",
    "|    \"         | Single angles   |  S16-14: 13.3.3 (Awareness only) |\n",
    "| 2020-03-12   | Flexural Members (Beams) |  [Recorded Lecture](http://holtz3.cee.carleton.ca/recordings/3205/2020/2020-03-12/) |\n",
    "|  \"  | Background, theory | Kulak & Grondin: Sections 5.1, 5.2 |\n",
    "|  \"  | Failure modes: flexure, local buckling | Kulak & Grondin 5.3, 5.4, 5.5 |\n",
    "|  \"  | Failure modes: shear | Kulak and Grondin 5.8 |\n",
    "|  \"  | Failure modes: deflection | Kulak and Grondin 5.9 |\n",
    "|  \"  | Failure modes: Lateral torsional buckling | Kulak and Grondin 5.10 |\n",
    "|  \"  | Deflection | S16-14 6.3, Annex D |\n",
    "|  \"  | Bending, laterally supported beams | S16-14 13.5 |\n",
    "|  \"  | Bending, laterally unsupported beams | S16-14 13.6 a), Table 2 |\n",
    "|  \"  | Shear | S16-14 13.4.1 |\n",
    "|  \"  | Beam selection tables | CISC HB pp. 5-9 to 5-27 |\n",
    "|  \"  | Example Problems | [Flexure problems](flexure/index.html) |\n",
    "|  \"  | _ _ | Kulak and Grondin: Examples 5.1, 5.2, 5.3, 5.4, 5.5, 5.6 |\n",
    "| 2020-03-19 | Use of Beam Selection Tables | [Part-1: Example F40](http://holtz3.cee.carleton.ca/recordings/3205/2020/2020-03-19/Part-1/) |\n",
    "|  \"  | _ _ | CISC HB, pages 5-9 to 5010, 5-14 to 5-29 |\n",
    "|  \"  | _ _ | S16-14: 13.5 a), 13.5 b), 13.6 a), 13.6 b) |\n",
    "|  \"  | Class 4 Sections | [Part-2: Example F50](http://holtz3.cee.carleton.ca/recordings/3205/2020/2020-03-19/Part-2/) |\n",
    "|  \"  | _ _ | S16-14: 13.6 b), 13.5 c) |\n",
    "|  \"  | Gerber systems (Limits of S16) | [Part-3: Gerber Systems](http://holtz3.cee.carleton.ca/recordings/3205/2020/2020-03-19/Part-3/) |\n",
    "|  \"  | _ _ | S16-14: 13.6 d) |"
   ]
  },
  {
   "cell_type": "code",
   "execution_count": null,
   "metadata": {},
   "outputs": [],
   "source": []
  }
 ],
 "metadata": {
  "kernelspec": {
   "display_name": "Python 3",
   "language": "python",
   "name": "python3"
  },
  "language_info": {
   "codemirror_mode": {
    "name": "ipython",
    "version": 3
   },
   "file_extension": ".py",
   "mimetype": "text/x-python",
   "name": "python",
   "nbconvert_exporter": "python",
   "pygments_lexer": "ipython3",
   "version": "3.6.8"
  }
 },
 "nbformat": 4,
 "nbformat_minor": 2
}
