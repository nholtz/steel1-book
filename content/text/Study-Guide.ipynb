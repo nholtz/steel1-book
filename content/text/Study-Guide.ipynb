{
 "cells": [
  {
   "cell_type": "markdown",
   "metadata": {},
   "source": [
    "## CIVE 3205 Study Guide, Winter 2020\n",
    "\n",
    "\n",
    "| Lecture      |  Topic                                    | Study Material                                  |\n",
    "|:-------------|:------------------------------------------|:------------------------------------------------|\n",
    "| 2020-02-27   | Axial compression. Local buckling. Strength. Design. | [Recorded Lecture](http://holtz3.cee.carleton.ca/recordings/3205/2020/2020-02-27/) |\n",
    "|     |        | [Examples AC10](compression/AC10/index) (done in class) |\n",
    "|     |        | [Example AC11](compression/AC11/AC11) |\n",
    "|     |        | [Example AC15](compression/AC15/index) |\n",
    "|     |        | [Example AC20](compression/AC20/index) (background done in class) |\n",
    "|     |        | [HW-3](https://culearn.carleton.ca/moodle/mod/assign/view.php?id=1664088) |\n",
    "|     |        | S16-14: 10.4.2, 11.2, 11.3, 13.3.1, 13.3.5, Table 1 |\n",
    "|     |        | CISC HB: pp 4-15, 4-16 (example)|\n",
    "|     |        | CISC HB: pp 4-13, 4-14, pp 4-17 thru 4-100 (design tables)|\n",
    "|     |        | Kulak & Grondin: 4.1, 4.2, 4.3, 4.4, 4.5, 4.6, 4.7, 4.8; Examples 4.1, 4.2, 4.3 |"
   ]
  },
  {
   "cell_type": "code",
   "execution_count": null,
   "metadata": {},
   "outputs": [],
   "source": []
  }
 ],
 "metadata": {
  "kernelspec": {
   "display_name": "Python 3",
   "language": "python",
   "name": "python3"
  },
  "language_info": {
   "codemirror_mode": {
    "name": "ipython",
    "version": 3
   },
   "file_extension": ".py",
   "mimetype": "text/x-python",
   "name": "python",
   "nbconvert_exporter": "python",
   "pygments_lexer": "ipython3",
   "version": "3.6.8"
  }
 },
 "nbformat": 4,
 "nbformat_minor": 2
}
