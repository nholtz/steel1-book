{
 "cells": [
  {
   "cell_type": "markdown",
   "metadata": {},
   "source": [
    "## Beam Column Strength by 13.8.2 - class 1 and 2 I-shaped sections\n",
    "No lateral loads applied to column.  Analysis for forces must include $P-\\Delta$ effects."
   ]
  },
  {
   "cell_type": "code",
   "execution_count": 1,
   "metadata": {
    "collapsed": false
   },
   "outputs": [],
   "source": [
    "from utils import show\n",
    "from math import sqrt, pi"
   ]
  },
  {
   "cell_type": "code",
   "execution_count": 2,
   "metadata": {
    "collapsed": true
   },
   "outputs": [],
   "source": [
    "from Designer import sst\n",
    "SST = sst.SST()"
   ]
  },
  {
   "cell_type": "code",
   "execution_count": 3,
   "metadata": {
    "collapsed": true
   },
   "outputs": [],
   "source": [
    "Fy = 345.     # ASTM A992\n",
    "E = 200000.\n",
    "G = 77000.\n",
    "phi = 0.9"
   ]
  },
  {
   "cell_type": "markdown",
   "metadata": {},
   "source": [
    "## Example BC40\n",
    "### 'Lecture' example of 2020-03-26 Part-3 (no real lectures because of COVID-19)"
   ]
  },
  {
   "cell_type": "code",
   "execution_count": 4,
   "metadata": {
    "collapsed": true
   },
   "outputs": [],
   "source": [
    "Dsg = 'W250x101'\n",
    "Lcol = 5500. # total length of column, in mm\n",
    "Lx = Lcol       # unbraced length, x-axis\n",
    "Ly = Lcol       # unbraced length, y-axis\n",
    "Kx = 1.      # effective length factor\n",
    "Ky = 1.\n",
    "Lc = Ly      # unbraced length of compression flange\n",
    "Cf = 1000.   # factored axial load, kN\n",
    "Mfx1 = -200.  # moment about strong axis, top and bottom\n",
    "Mfx2 = 240.  # same sign for double curvature\n",
    "Mfy1 = 0.    # momemt about weak axis, top and bottom\n",
    "Mfy2 = 0.\n",
    "bracedx = True   # braced for bending about strong axis?\n",
    "bracedy = True   # braced for bending about weak axis"
   ]
  },
  {
   "cell_type": "code",
   "execution_count": 5,
   "metadata": {
    "collapsed": false
   },
   "outputs": [
    {
     "name": "stdout",
     "output_type": "stream",
     "text": [
      "Dsg = W250x101   \n",
      "A   = 12900      \n",
      "D   = 264        \n",
      "T   = 19.6       \n",
      "B   = 257        \n",
      "W   = 11.9       \n",
      "Rx  = 113        \n",
      "Ry  = 65.6       \n",
      "Ix  = 164 * 1E6  \n",
      "Iy  = 55.5 * 1E6 \n",
      "Zx  = 1400 * 1E3 \n",
      "Zy  = 656 * 1E3  \n",
      "J   = 1490 * 1E3 \n",
      "Cw  = 829 * 1E9  \n"
     ]
    }
   ],
   "source": [
    "A,D,T,B,W,Ix,Iy,Zx,Zy,Rx,Ry,J,Cw = SST.section(Dsg,'A,D,T,B,W,Ix,Iy,Zx,Zy,Rx,Ry,J,Cw')\n",
    "show('Dsg,A,D,T,B,W,Rx,Ry,*1E6,Ix,Iy,*1E3,Zx,Zy,J,*1E9,Cw')"
   ]
  },
  {
   "cell_type": "markdown",
   "metadata": {},
   "source": [
    "#### Section class, local buckling"
   ]
  },
  {
   "cell_type": "code",
   "execution_count": 6,
   "metadata": {
    "collapsed": false
   },
   "outputs": [
    {
     "name": "stdout",
     "output_type": "stream",
     "text": [
      "B/(2.*T)                         = 6.556  \n",
      "145./sqrt(Fy)                    = 7.807  \n",
      "170./sqrt(Fy)                    = 9.152  \n",
      "200./sqrt(Fy)                    = 10.77  \n",
      "fclass                           = 1      \n",
      "H                                = 224.8  \n",
      "H/W                              = 18.89  \n",
      "Cf/phiCy                         = 0.2497 \n",
      "1100.*(1-0.39*Cf/phiCy)/sqrt(Fy) = 53.46  \n",
      "1700.*(1-0.61*Cf/phiCy)/sqrt(Fy) = 77.59  \n",
      "1900.*(1-0.65*Cf/phiCy)/sqrt(Fy) = 85.69  \n",
      "wclass                           = 1      \n",
      "sclass                           = 1      \n",
      "sclass <= 2                      = True   \n"
     ]
    }
   ],
   "source": [
    "fclass = 4\n",
    "if B/(2.*T) <= 145./sqrt(Fy):\n",
    "    fclass = 1\n",
    "elif B/(2.*T) <= 170./sqrt(Fy):\n",
    "    fclass = 2\n",
    "elif B/(2.*T) <= 200./sqrt(Fy):\n",
    "    fclass = 3\n",
    "    \n",
    "H = (D - 2.*T)\n",
    "phiCy = phi*A*Fy * 1E-3\n",
    "wclass = 4\n",
    "if (H/W) <= 1100.*(1-0.39*Cf/phiCy)/sqrt(Fy):\n",
    "    wclass = 1\n",
    "elif (H/W) <= 1700.*(1-0.61*Cf/phiCy)/sqrt(Fy):\n",
    "    wclass = 2\n",
    "elif (H/W) <= 1900.*(1-0.65*Cf/phiCy)/sqrt(Fy):\n",
    "    wclass = 3\n",
    "    \n",
    "sclass = max(fclass,wclass)\n",
    "show('B/(2.*T),145./sqrt(Fy),170./sqrt(Fy),200./sqrt(Fy),fclass',\n",
    "     'H,H/W,Cf/phiCy',\n",
    "     '1100.*(1-0.39*Cf/phiCy)/sqrt(Fy),1700.*(1-0.61*Cf/phiCy)/sqrt(Fy),1900.*(1-0.65*Cf/phiCy)/sqrt(Fy)'\n",
    "     ,'wclass,sclass,sclass <= 2')\n",
    "assert sclass <= 2, 'This only works for class 1 or class 2 sections'"
   ]
  },
  {
   "cell_type": "markdown",
   "metadata": {},
   "source": [
    "### 13.8.2 (a) -- cross-sectional strength:"
   ]
  },
  {
   "cell_type": "code",
   "execution_count": 7,
   "metadata": {
    "collapsed": false
   },
   "outputs": [
    {
     "name": "stdout",
     "output_type": "stream",
     "text": [
      "Mfx = 240 \n",
      "Mfy = 0   \n"
     ]
    }
   ],
   "source": [
    "Mfx = max(abs(Mfx1),abs(Mfx2))\n",
    "Mfy = max(abs(Mfy1),abs(Mfy2))\n",
    "show('Mfx,Mfy')"
   ]
  },
  {
   "cell_type": "code",
   "execution_count": 8,
   "metadata": {
    "collapsed": true
   },
   "outputs": [],
   "source": [
    "def kappa(Mf1,Mf2):    \n",
    "    Mfmax = max(abs(Mf1),abs(Mf2))\n",
    "    if Mfmax > 0.:\n",
    "        kap = min(abs(Mf1),abs(Mf2))/Mfmax\n",
    "        if Mf1*Mf2 > 0:\n",
    "            return kap\n",
    "        else:\n",
    "            return -kap\n",
    "    return 0.\n",
    "def U1(L,I,Cf,Mf1,Mf2):\n",
    "    w1 = max(0.6-0.4*kappa(Mf1,Mf2),0.4)\n",
    "    Ce = pi*pi*E*I/(L*L) * 1E-3\n",
    "    return w1,Ce,w1/(1.-Cf/Ce)"
   ]
  },
  {
   "cell_type": "code",
   "execution_count": 9,
   "metadata": {},
   "outputs": [
    {
     "data": {
      "text/plain": [
       "(-200.0,\n",
       " 240.0,\n",
       " -0.8333333333333334,\n",
       " (0.9333333333333333, 10701.587582007634, 1.029537519034267))"
      ]
     },
     "execution_count": 9,
     "metadata": {},
     "output_type": "execute_result"
    }
   ],
   "source": [
    "Mfx1,Mfx2,kappa(Mfx1,Mfx2),U1(Lx,Ix,Cf,Mfx1,Mfx2)"
   ]
  },
  {
   "cell_type": "code",
   "execution_count": 10,
   "metadata": {
    "collapsed": false
   },
   "outputs": [
    {
     "name": "stdout",
     "output_type": "stream",
     "text": [
      "Cf               = 1000   \n",
      "Cr               = 4005   \n",
      "w1               = 0.9333 \n",
      "Ce               = 10700  \n",
      "U1xc             = 1.03   \n",
      "U1x              = 1.03   \n",
      "Mfx              = 240    \n",
      "Mrx              = 434.7  \n",
      "Cf/Cr            = 0.2497 \n",
      "0.85*U1x*Mfx/Mrx = 0.4832 \n",
      "lhs_a      = 0.7328 \n",
      "lhs_a <= 1 = True   \n"
     ]
    }
   ],
   "source": [
    "if bracedx or bracedy:\n",
    "    Cr = phi*A*Fy * 1E-3\n",
    "    Mrx = phi*Zx*Fy * 1E-6\n",
    "    w1,Ce,U1xc = U1(Lx,Ix,Cf,Mfx1,Mfx2)\n",
    "    U1x = max(1.0,U1xc)    \n",
    "    lhs_a = Cf/Cr + 0.85*U1x*Mfx/Mrx\n",
    "    show('Cf,Cr,w1,Ce,U1xc,U1x,Mfx,Mrx,Cf/Cr,0.85*U1x*Mfx/Mrx')\n",
    "    if Mfy > 0.:\n",
    "        Mry = phi*Zy*Fy * 1E-6\n",
    "        Beta = 0.6\n",
    "        w1y,Cey,U1yc = U1(Ly,Iy,Cf,Mfy1,Mfy2)\n",
    "        U1y = max(1.0,U1yc)\n",
    "        lhs_a += Beta*U1y*Mfy/Mry\n",
    "        show('Beta,w1y,Cey,U1yc,U1y,Mfy,Mry,Beta*U1y*Mfy/Mry')\n",
    "else:\n",
    "    print('Unbraced frame: cross-sectional strength not checked')\n",
    "    lhs_a = 0.\n",
    "show('lhs_a,lhs_a <= 1')"
   ]
  },
  {
   "cell_type": "markdown",
   "metadata": {},
   "source": [
    "### 13.8.2 (b) -- overall member strength"
   ]
  },
  {
   "cell_type": "code",
   "execution_count": 11,
   "metadata": {
    "collapsed": false
   },
   "outputs": [
    {
     "name": "stdout",
     "output_type": "stream",
     "text": [
      "Cf               = 1000   \n",
      "K                = 1      \n",
      "K*Lx/Rx          = 48.67  \n",
      "K*Ly/Ry          = 83.84  \n",
      "KLr              = 48.67  \n",
      "Fe               = 833.2  \n",
      "lamda            = 0.6435 \n",
      "n                = 1.34   \n",
      "Cr               = 3280   \n",
      "U1x              = 1.03   \n",
      "Mfx              = 240    \n",
      "Mrx              = 434.7  \n",
      "Cf/Cr            = 0.3048 \n",
      "0.85*U1x*Mfx/Mrx = 0.4832 \n",
      "lhs_b      = 0.788 \n",
      "lhs_b <= 1 = True  \n"
     ]
    }
   ],
   "source": [
    "assert Mfx > 0. or Mfy > 0., \"No end bending moments in either direction\"\n",
    "K = 1.\n",
    "if Mfx > 0. and Mfy == 0.:\n",
    "    KLr = K*Lx/Rx\n",
    "elif Mfx == 0. and Mfy > 0.:\n",
    "    KLr = K*Ly/Ry\n",
    "else:\n",
    "    KLr = K*Ly/Ry\n",
    "# Cr by 13.3\n",
    "Fe = pi*pi*E/(KLr*KLr)\n",
    "lamda = sqrt(Fy/Fe)\n",
    "n = 1.34\n",
    "Cr = phi*A*Fy*(1.+lamda**(2*n))**(-1./n) * 1E-3\n",
    "Mrx = phi*Zx*Fy * 1E-6\n",
    "U1x = U1(Lx,Ix,Cf,Mfx1,Mfx2)[2] if bracedx else 1.0\n",
    "lhs_b = Cf/Cr + 0.85*U1x*Mfx/Mrx\n",
    "show('Cf,K,K*Lx/Rx,K*Ly/Ry,KLr,Fe,lamda,n,Cr,U1x,Mfx,Mrx,Cf/Cr,0.85*U1x*Mfx/Mrx')\n",
    "if Mfy > 0.:\n",
    "    Mry = phi*Zy*Fy * 1E-6\n",
    "    KLry = Ky*Ly/Ry\n",
    "    Fey = pi*pi*E/(KLry*KLry)\n",
    "    lamday = sqrt(Fy/Fey)\n",
    "    Beta = min(0.85,0.6 + 0.4*lamday)\n",
    "    U1y = U1(Ly,Iy,Cf,Mfy1,Mfy2)[2] if bracedy else 1.0\n",
    "    lhs_b += Beta*U1y*Mfy/Mry\n",
    "    show('lamday,Beta,U1y,Mfy,Mry,Beta*U1y*Mfy/Mry')\n",
    "show('lhs_b,lhs_b <= 1')"
   ]
  },
  {
   "cell_type": "markdown",
   "metadata": {},
   "source": [
    "### 13.8.2 (c) lateral torsional buckling strength"
   ]
  },
  {
   "cell_type": "code",
   "execution_count": 12,
   "metadata": {
    "collapsed": false
   },
   "outputs": [
    {
     "name": "stdout",
     "output_type": "stream",
     "text": [
      "Cf       = 1000  \n",
      "Kx       = 1     \n",
      "Lx       = 5500  \n",
      "Rx       = 113   \n",
      "Ky       = 1     \n",
      "Ly       = 5500  \n",
      "Ry       = 65.6  \n",
      "Kx*Lx/Rx = 48.67 \n",
      "Ky*Ly/Ry = 83.84 \n",
      "KLr      = 83.84 \n",
      "Fe       = 280.8 \n",
      "lamda    = 1.108 \n",
      "n        = 1.34  \n",
      "Cr       = 2139  \n",
      "L                = 5500    \n",
      "kap              = -0.8333 \n",
      "omega2           = 1.083   \n",
      "Mu               = 847.1   \n",
      "Mp               = 483     \n",
      "Mfx              = 240     \n",
      "U1x              = 1.03    \n",
      "Mrx              = 420.1   \n",
      "Cf/Cr            = 0.4675  \n",
      "0.85*U1x*Mfx/Mrx = 0.4999  \n",
      "lhs_c      = 0.9674 \n",
      "lhs_c <= 1 = True   \n"
     ]
    }
   ],
   "source": [
    "KLr = max(Kx*Lx/Rx,Ky*Ly/Ry)\n",
    "Fe = pi*pi*E/(KLr**2)\n",
    "lamda = sqrt(Fy/Fe)\n",
    "n = 1.34\n",
    "Cr = phi*A*Fy*(1.+lamda**(2*n))**(-1./n) * 1E-3\n",
    "show('Cf,Kx,Lx,Rx,Ky,Ly,Ry,Kx*Lx/Rx,Ky*Ly/Ry,KLr,Fe,lamda,n,Cr')\n",
    "L = Lc\n",
    "P = E*Iy*G*J\n",
    "Q = Iy*Cw*(pi*E/L)**2\n",
    "kap = kappa(Mfx1,Mfx2)\n",
    "omega2 = min(1.75 + 1.05*kap + 0.3*kap**2, 2.5)\n",
    "Mu = (omega2*pi/L) * sqrt(P+Q) * 1E-6\n",
    "Mp = Zx*Fy * 1E-6\n",
    "if Mu <= 0.67*Mp:\n",
    "    Mrx = phi*Mu\n",
    "else:\n",
    "    Mrx = min(1.15*phi*Mp*(1-0.28*Mp/Mu),phi*Mp)\n",
    "U1x = max(U1(Lx,Ix,Cf,Mfx1,Mfx2)[2],1.0) if bracedx else 1.0\n",
    "show('L,kap,omega2,Mu,Mp,Mfx,U1x,Mrx,Cf/Cr,0.85*U1x*Mfx/Mrx')\n",
    "lhs_c = Cf/Cr + 0.85*U1x*Mfx/Mrx\n",
    "if Mfy > 0.:\n",
    "    Mry = phi*Zy*Fy * 1E-6\n",
    "    KLry = Ky*Ly/Ry\n",
    "    Fey = pi*pi*E/(KLry*KLry)\n",
    "    lamday = sqrt(Fy/Fey)\n",
    "    Beta = min(0.85,0.6 + 0.4*lamday)\n",
    "    U1y = U1(Ly,Iy,Cf,Mfy1,Mfy2)[2] if bracedy else 1.0\n",
    "    lhs_c += Beta*U1y*Mfy/Mry\n",
    "    show('Mfy,lamday,Beta,U1y,Mry,Beta*U1y*Mfy/Mry')\n",
    "show('lhs_c,lhs_c <= 1')"
   ]
  },
  {
   "cell_type": "code",
   "execution_count": 13,
   "metadata": {
    "collapsed": false
   },
   "outputs": [
    {
     "name": "stdout",
     "output_type": "stream",
     "text": [
      "lhs_d     = 0.5713 \n",
      "lhs_d < 1 = True   \n"
     ]
    }
   ],
   "source": [
    "lhs_d = Mfx/Mrx\n",
    "if Mfy > 0.:\n",
    "    lhs_d += Mfy/Mry\n",
    "show('lhs_d, lhs_d < 1')"
   ]
  },
  {
   "cell_type": "code",
   "execution_count": 14,
   "metadata": {
    "collapsed": false
   },
   "outputs": [
    {
     "name": "stdout",
     "output_type": "stream",
     "text": [
      "W250x101 is OK!\n"
     ]
    }
   ],
   "source": [
    "if lhs_a <= 1 and lhs_b <= 1 and lhs_c < 1 and lhs_d < 1:\n",
    "    print(Dsg, 'is OK!')\n",
    "else:\n",
    "    print(Dsg, 'is NG!')"
   ]
  },
  {
   "cell_type": "code",
   "execution_count": null,
   "metadata": {
    "collapsed": true
   },
   "outputs": [],
   "source": []
  }
 ],
 "metadata": {
  "kernelspec": {
   "display_name": "Python 3",
   "language": "python",
   "name": "python3"
  },
  "language_info": {
   "codemirror_mode": {
    "name": "ipython",
    "version": 3
   },
   "file_extension": ".py",
   "mimetype": "text/x-python",
   "name": "python",
   "nbconvert_exporter": "python",
   "pygments_lexer": "ipython3",
   "version": "3.6.8"
  }
 },
 "nbformat": 4,
 "nbformat_minor": 2
}
