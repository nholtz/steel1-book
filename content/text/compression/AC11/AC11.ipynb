{
 "cells": [
  {
   "cell_type": "markdown",
   "metadata": {},
   "source": [
    "## Use of Factored Axial Compressive Resistance tables\n",
    "\n",
    "See also the CISC Handbook: bottom of page 4-15 and examples on page 4-16."
   ]
  },
  {
   "cell_type": "markdown",
   "metadata": {},
   "source": [
    "The tables are computed using the length ($KL$) with respect to weak-axis bending.  For most structural\n",
    "shapes, by convention, we call this the $y-$axis, and the properties and dimensions tables in Part 6\n",
    "use this convention."
   ]
  },
  {
   "cell_type": "markdown",
   "metadata": {},
   "source": [
    "Sometimes it is necessary to also investigate buckling strength with respect to strong axis bending, particularly when the unbraced lengths are different (often due to additional bracing in one direction)."
   ]
  },
  {
   "cell_type": "markdown",
   "metadata": {},
   "source": [
    "The tables can still be used by realizing that the compressive resistances, $C_r$, are computed using the\n",
    "slenderness ratio, $L/r$ (specifically $L_y/r_y$).  All we have to do, then is to compute a length that gives us the same slenderness ratio as the strong or $x-$axis."
   ]
  },
  {
   "cell_type": "markdown",
   "metadata": {},
   "source": [
    "After all, if\n",
    "\n",
    "$$ \\frac{L_y}{r_y} = \\frac{L_x}{r_x} $$\n",
    "\n",
    "then $C_r$ will be the same for each direction.  As the $L_y$ values are tabulated in the tables, we use\n",
    "\n",
    "$$ L_y = \\frac{L_x}{r_x} r_y$$\n",
    "\n",
    "or\n",
    "\n",
    "$$ L_y = \\frac{L_x}{r_x/r_y} $$\n",
    "\n",
    "$r_x/r_y$ values are tabulated for each shape."
   ]
  },
  {
   "cell_type": "markdown",
   "metadata": {},
   "source": [
    "### Example"
   ]
  },
  {
   "cell_type": "markdown",
   "metadata": {},
   "source": [
    "For example, evaluate a W310x67 of A992 steel for strong axis buckling where $KL = 4400~\\text{mm}$.\n",
    " See pages 4-24, 4-25.\n",
    " \n",
    "$r_x/r_y = 2.65$  (page 4-24)\n",
    "\n",
    "$4400/2.65 = 1660~\\text{mm}$.  Therefore use 1660 mm as the length to determine $C_r$.\n",
    "\n",
    "At $L = 1500$, $C_r = 2470$.  At $L = 2000$, $C_r = 2310$.  Interpolating:\n",
    "\n",
    "$$ C_r = 2470 - \\frac{1660-1500}{2000-1500}(2470-2310) = 2417~\\text{kN}$$"
   ]
  },
  {
   "cell_type": "markdown",
   "metadata": {},
   "source": [
    "If it is necessary to investigate another cross-section, the length calculation must be redone\n",
    "as the $r_x/r_y$ ratios vary.  For example, for a W250x67:\n",
    "\n",
    "$r_x/r_y = 2.16$ (page 4-25).\n",
    "\n",
    "$4400/2.16 = 2037~\\text{mm}$.  Therefore use $L = 2037$ for the W250x67 column.\n",
    "\n",
    "At $L = 2000$, $C_r = 2360$.  At $L = 2500$, $C_r = 2170$.  Interpolating:\n",
    "\n",
    "$$C_r = 2360 - \\frac{2037-2000}{2500-2000}(2360-2170) = 2346~\\text{kN}$$"
   ]
  },
  {
   "cell_type": "code",
   "execution_count": null,
   "metadata": {},
   "outputs": [],
   "source": []
  }
 ],
 "metadata": {
  "kernelspec": {
   "display_name": "Python 3",
   "language": "python",
   "name": "python3"
  },
  "language_info": {
   "codemirror_mode": {
    "name": "ipython",
    "version": 3
   },
   "file_extension": ".py",
   "mimetype": "text/x-python",
   "name": "python",
   "nbconvert_exporter": "python",
   "pygments_lexer": "ipython3",
   "version": "3.6.8"
  }
 },
 "nbformat": 4,
 "nbformat_minor": 2
}
