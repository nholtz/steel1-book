{
 "cells": [
  {
   "cell_type": "code",
   "execution_count": 1,
   "metadata": {},
   "outputs": [],
   "source": [
    "from Designer import SST, figure, show\n",
    "from math import sqrt"
   ]
  },
  {
   "cell_type": "code",
   "execution_count": 2,
   "metadata": {},
   "outputs": [
    {
     "data": {
      "image/svg+xml": [
       "<svg height=\"2.6288362in\" id=\"svg2\" inkscape:version=\"0.92.4 (unknown)\" sodipodi:docname=\"eg-F10.svg\" version=\"1.1\" viewBox=\"0 0 451.38675 252.36827\" width=\"4.7019453in\" xmlns=\"http://www.w3.org/2000/svg\" xmlns:cc=\"http://creativecommons.org/ns#\" xmlns:dc=\"http://purl.org/dc/elements/1.1/\" xmlns:inkscape=\"http://www.inkscape.org/namespaces/inkscape\" xmlns:ns1=\"http://www.iki.fi/pav/software/textext/\" xmlns:rdf=\"http://www.w3.org/1999/02/22-rdf-syntax-ns#\" xmlns:sodipodi=\"http://sodipodi.sourceforge.net/DTD/sodipodi-0.dtd\" xmlns:svg=\"http://www.w3.org/2000/svg\" xmlns:xlink=\"http://www.w3.org/1999/xlink\">\n",
       "  <script id=\"script3033\" xlink:href=\"\"/>\n",
       "  <defs id=\"defs4\">\n",
       "    <marker id=\"CLArrowEnd\" markerHeight=\"6\" markerUnits=\"userSpaceOnUse\" markerWidth=\"10\" orient=\"auto\" refX=\"7\" refY=\"3\" viewBox=\"0 0 10 6\">\n",
       "      <path d=\"M 0,0 10,3 0,6 2,3 Z\" id=\"path3451\" inkscape:connector-curvature=\"0\"/>\n",
       "    </marker>\n",
       "    <marker id=\"marker4507\" markerHeight=\"6\" markerUnits=\"userSpaceOnUse\" markerWidth=\"10\" orient=\"auto\" refX=\"7\" refY=\"3\" viewBox=\"0 0 10 6\">\n",
       "      <path d=\"M 0,0 10,3 0,6 2,3 Z\" id=\"path4509\" inkscape:connector-curvature=\"0\"/>\n",
       "    </marker>\n",
       "    <marker id=\"marker4511\" markerHeight=\"6\" markerUnits=\"userSpaceOnUse\" markerWidth=\"10\" orient=\"auto\" refX=\"7\" refY=\"3\" viewBox=\"0 0 10 6\">\n",
       "      <path d=\"M 0,0 10,3 0,6 2,3 Z\" id=\"path4513\" inkscape:connector-curvature=\"0\"/>\n",
       "    </marker>\n",
       "    <marker id=\"marker4515\" markerHeight=\"6\" markerUnits=\"userSpaceOnUse\" markerWidth=\"10\" orient=\"auto\" refX=\"7\" refY=\"3\" viewBox=\"0 0 10 6\">\n",
       "      <path d=\"M 0,0 10,3 0,6 2,3 Z\" id=\"path4517\" inkscape:connector-curvature=\"0\"/>\n",
       "    </marker>\n",
       "    <!-- markers by NMH <nholtz@cee.carleton.ca> -->\n",
       "    <marker id=\"DimensionTick\" inkscape:stockid=\"DimensionTick\" orient=\"auto\" refX=\"0\" refY=\"0\" style=\"overflow:visible\">\n",
       "      <path d=\"M 0,0 8,8\" id=\"path6\" inkscape:connector-curvature=\"0\" style=\"stroke:#4d4d4d;stroke-width:1px;marker-start:none\" transform=\"translate(-4,-4)\"/>\n",
       "    </marker>\n",
       "    <marker id=\"TrussNodeS\" inkscape:stockid=\"TrussNodeS\" markerUnits=\"userSpaceOnUse\" orient=\"auto\" refX=\"0\" refY=\"0\" style=\"overflow:visible\">\n",
       "      <circle cx=\"0\" cy=\"0\" id=\"circle9\" r=\"3\" style=\"fill:#ffffff;stroke:#000000;stroke-width:1\"/>\n",
       "    </marker>\n",
       "    <marker id=\"TrussNodeM\" inkscape:stockid=\"TrussNodeM\" markerUnits=\"userSpaceOnUse\" orient=\"auto\" refX=\"0\" refY=\"0\" style=\"overflow:visible\">\n",
       "      <circle cx=\"0\" cy=\"0\" id=\"circle12\" r=\"4\" style=\"fill:#ffffff;stroke:#000000;stroke-width:1\"/>\n",
       "    </marker>\n",
       "    <!-- patternss by NMH <nholtz@cee.carleton.ca> -->\n",
       "    <pattern height=\"18\" id=\"black-stripes-on-red\" patternUnits=\"userSpaceOnUse\" width=\"18\" x=\"0\" y=\"0\">\n",
       "      <path d=\"M 0,0 18,0 18,18 0,18 z\" id=\"path3006\" inkscape:connector-curvature=\"0\" style=\"fill:#ff0000;stroke:none\"/>\n",
       "      <path d=\"M 0,9 9,0 11,0 0,11 z\" id=\"path3008\" inkscape:connector-curvature=\"0\" style=\"fill:#000000;stroke:none\"/>\n",
       "      <path d=\"m 9,18 9,-9 0,2 -7,7 z\" id=\"path5234\" inkscape:connector-curvature=\"0\" style=\"fill:#000000;stroke:none\"/>\n",
       "    </pattern>\n",
       "    <marker id=\"CLArrowEnd-3\" markerHeight=\"6\" markerUnits=\"userSpaceOnUse\" markerWidth=\"10\" orient=\"auto\" refX=\"7\" refY=\"3\" viewBox=\"0 0 10 6\">\n",
       "      <path d=\"M 0,0 10,3 0,6 2,3 Z\" id=\"path3451-6\" inkscape:connector-curvature=\"0\"/>\n",
       "    </marker>\n",
       "  </defs>\n",
       "  <sodipodi:namedview bordercolor=\"#666666\" borderopacity=\"1.0\" fit-margin-bottom=\"0.2\" fit-margin-left=\"0.2\" fit-margin-right=\"0.2\" fit-margin-top=\"0.2\" id=\"base\" inkscape:current-layer=\"layer1\" inkscape:cx=\"132.76984\" inkscape:cy=\"59.948294\" inkscape:document-units=\"in\" inkscape:pageopacity=\"0.0\" inkscape:pageshadow=\"2\" inkscape:window-height=\"979\" inkscape:window-maximized=\"0\" inkscape:window-width=\"1179\" inkscape:window-x=\"702\" inkscape:window-y=\"53\" inkscape:zoom=\"2.02\" pagecolor=\"#ffffff\" showgrid=\"true\" showguides=\"true\" units=\"in\">\n",
       "    <inkscape:grid empspacing=\"5\" enabled=\"true\" id=\"grid2985\" originx=\"-199.90342\" originy=\"-652.29999\" snapvisiblegridlinesonly=\"true\" spacingx=\"0.1in\" spacingy=\"0.1in\" type=\"xygrid\" units=\"in\" visible=\"true\"/>\n",
       "    <sodipodi:guide id=\"guide3042\" inkscape:locked=\"false\" orientation=\"0,765\" position=\"-199.90342,-652.29998\"/>\n",
       "    <sodipodi:guide id=\"guide3044\" inkscape:locked=\"false\" orientation=\"-990,0\" position=\"616.09657,528.50002\"/>\n",
       "    <sodipodi:guide id=\"guide3046\" inkscape:locked=\"false\" orientation=\"0,-765\" position=\"-190.30342,403.70001\"/>\n",
       "    <sodipodi:guide id=\"guide3048\" inkscape:locked=\"false\" orientation=\"990,0\" position=\"-199.90342,337.70001\"/>\n",
       "    <sodipodi:guide id=\"guide3050\" inkscape:locked=\"false\" orientation=\"0,765\" position=\"520.09658,-607.29998\"/>\n",
       "    <sodipodi:guide id=\"guide3052\" inkscape:locked=\"false\" orientation=\"-990,0\" position=\"568.09658,509.30002\"/>\n",
       "    <sodipodi:guide id=\"guide3054\" inkscape:locked=\"false\" orientation=\"0,-765\" position=\"-113.50342,355.70001\"/>\n",
       "    <sodipodi:guide id=\"guide3056\" inkscape:locked=\"false\" orientation=\"990,0\" position=\"-151.90343,461.30002\"/>\n",
       "  </sodipodi:namedview>\n",
       "  <metadata id=\"metadata7\">\n",
       "    <rdf:RDF>\n",
       "      <cc:Work rdf:about=\"\">\n",
       "        <dc:format>image/svg+xml</dc:format>\n",
       "        <dc:type rdf:resource=\"http://purl.org/dc/dcmitype/StillImage\"/>\n",
       "        <dc:title/>\n",
       "        <cc:license rdf:resource=\"http://creativecommons.org/licenses/by-nc/3.0/\"/>\n",
       "      </cc:Work>\n",
       "      <cc:License rdf:about=\"http://creativecommons.org/licenses/by-nc/3.0/\">\n",
       "        <cc:permits rdf:resource=\"http://creativecommons.org/ns#Reproduction\"/>\n",
       "        <cc:permits rdf:resource=\"http://creativecommons.org/ns#Distribution\"/>\n",
       "        <cc:requires rdf:resource=\"http://creativecommons.org/ns#Notice\"/>\n",
       "        <cc:requires rdf:resource=\"http://creativecommons.org/ns#Attribution\"/>\n",
       "        <cc:prohibits rdf:resource=\"http://creativecommons.org/ns#CommercialUse\"/>\n",
       "        <cc:permits rdf:resource=\"http://creativecommons.org/ns#DerivativeWorks\"/>\n",
       "      </cc:License>\n",
       "    </rdf:RDF>\n",
       "  </metadata>\n",
       "  <g id=\"layer1\" inkscape:groupmode=\"layer\" inkscape:label=\"Layer 1\" transform=\"translate(-199.90342,-85.331744)\">\n",
       "    <g id=\"g10775\" transform=\"translate(-15.904288,-210.07558)\">\n",
       "      <title id=\"title3737\">Pin Support</title>\n",
       "      <g id=\"use90\" transform=\"matrix(1.25,0,0,1.25,255.65647,356.59727)\">\n",
       "        <path d=\"M 0.19825424,-1.057356 5.1895254,5.8678305 H -5.3216949 Z\" id=\"path5224\" inkscape:connector-curvature=\"0\" sodipodi:nodetypes=\"cccc\" style=\"fill:#000000;stroke:#000000;stroke-width:0\"/>\n",
       "        <path d=\"M -6,6 H 6\" id=\"path5226\" inkscape:connector-curvature=\"0\" style=\"fill:none;stroke:#000000;stroke-width:1\"/>\n",
       "        <path d=\"M 6,6 3,9 M 3,6 0,9 M 0,6 -3,9 m 0,-3 -3,3 m 0,-3 -3,3\" id=\"path5228\" inkscape:connector-curvature=\"0\" style=\"fill:none;stroke:#000000;stroke-width:1\"/>\n",
       "      </g>\n",
       "    </g>\n",
       "    <g id=\"g3395\" transform=\"translate(491.64073,-192.32151)\">\n",
       "      <title id=\"title3739\">Roller Support</title>\n",
       "      <path d=\"m 132.30977,337.64131 5,7.5 h -10 z\" id=\"path5224-5\" inkscape:connector-curvature=\"0\" style=\"fill:#000000;stroke:#000000;stroke-width:0\"/>\n",
       "      <path d=\"m 124.80977,352.22885 h 15\" id=\"path5226-4\" inkscape:connector-curvature=\"0\" style=\"fill:none;stroke:#000000;stroke-width:1.25;stroke-linecap:square\"/>\n",
       "      <path d=\"m 139.80977,352.22885 -3.75,3.75 m 0,-3.75 -3.75,3.75 m 0,-3.75 -3.75,3.75 m 0,-3.75 -3.75,3.75 m 0,-3.75 -3.75,3.75\" id=\"path5228-7\" inkscape:connector-curvature=\"0\" style=\"fill:none;stroke:#000000;stroke-width:1.25\"/>\n",
       "      <path d=\"m 123.97004,345.62043 h 16.4794\" id=\"path3342\" inkscape:connector-curvature=\"0\" style=\"fill:none;stroke:#000000;stroke-width:1px;stroke-linecap:butt;stroke-linejoin:miter;stroke-opacity:1\"/>\n",
       "      <g id=\"use3513-4\" transform=\"matrix(0.93789014,0,0,0.93789014,136.50605,348.88774)\">\n",
       "        <circle cx=\"0\" cy=\"0\" id=\"circle3573-4\" r=\"2.5\" style=\"fill:#ffffff;stroke:#000000;stroke-width:1\"/>\n",
       "      </g>\n",
       "      <g id=\"use3513-4-7\" transform=\"matrix(0.93789014,0,0,0.93789014,128.23072,348.94766)\">\n",
       "        <circle cx=\"0\" cy=\"0\" id=\"circle3573-4-8\" r=\"2.5\" style=\"fill:#ffffff;stroke:#000000;stroke-width:1\"/>\n",
       "      </g>\n",
       "    </g>\n",
       "    <path class=\"cload\" d=\"m 432,113.2 v 28.75\" id=\"path3507-4\" inkscape:connector-curvature=\"0\" style=\"fill:none;stroke:#000000;stroke-width:1.25;marker-end:url(#CLArrowEnd-3)\"/>\n",
       "    <path class=\"elem\" d=\"M 240.58457,144.46701 H 624.47524\" id=\"path3575\" inkscape:connector-curvature=\"0\" sodipodi:nodetypes=\"cc\" style=\"visibility:visible;stroke:#000000;stroke-width:2\"/>\n",
       "    <text id=\"text532\" style=\"font-style:normal;font-variant:normal;font-weight:normal;font-stretch:normal;line-height:0%;font-family:Verdana;-inkscape-font-specification:Verdana;text-align:center;text-anchor:middle;opacity:1;vector-effect:none;fill:#000000;fill-opacity:1;stroke:none;stroke-width:1.5;stroke-linecap:butt;stroke-linejoin:miter;stroke-miterlimit:4;stroke-dasharray:none;stroke-dashoffset:0;stroke-opacity:1\" x=\"318.19803\" xml:space=\"preserve\" y=\"139.86139\"><tspan id=\"tspan530\" sodipodi:role=\"line\" style=\"font-size:13.33333302px;line-height:6.66666698\" x=\"318.19803\" y=\"139.86139\">W410x60</tspan></text>\n",
       "    <text id=\"text536\" style=\"font-style:normal;font-variant:normal;font-weight:normal;font-stretch:normal;line-height:0%;font-family:Verdana;-inkscape-font-specification:Verdana;text-align:center;text-anchor:middle;opacity:1;vector-effect:none;fill:#000000;fill-opacity:1;stroke:none;stroke-width:1.5;stroke-linecap:butt;stroke-linejoin:miter;stroke-miterlimit:4;stroke-dasharray:none;stroke-dashoffset:0;stroke-opacity:1\" x=\"439.31882\" xml:space=\"preserve\" y=\"114.22575\"><tspan id=\"tspan534\" sodipodi:role=\"line\" style=\"font-size:13.33333302px;line-height:6.66666698\" x=\"439.31882\" y=\"114.22575\">P<tspan id=\"tspan538\" style=\"font-size:64.99999762%;baseline-shift:sub\">f</tspan></tspan></text>\n",
       "    <path d=\"m 240,164.4 v 28.8\" id=\"path540\" inkscape:connector-curvature=\"0\" style=\"color:#000000;clip-rule:nonzero;display:inline;overflow:visible;visibility:visible;opacity:1;isolation:auto;mix-blend-mode:normal;color-interpolation:sRGB;color-interpolation-filters:linearRGB;solid-color:#000000;solid-opacity:1;fill:none;fill-opacity:1;fill-rule:evenodd;stroke:#404040;stroke-width:0.75;stroke-linecap:butt;stroke-linejoin:miter;stroke-miterlimit:4;stroke-dasharray:none;stroke-dashoffset:0;stroke-opacity:1;color-rendering:auto;image-rendering:auto;shape-rendering:auto;text-rendering:auto;enable-background:accumulate\"/>\n",
       "    <path d=\"m 432,154.8 v 38.4\" id=\"path542\" inkscape:connector-curvature=\"0\" style=\"color:#000000;clip-rule:nonzero;display:inline;overflow:visible;visibility:visible;opacity:1;isolation:auto;mix-blend-mode:normal;color-interpolation:sRGB;color-interpolation-filters:linearRGB;solid-color:#000000;solid-opacity:1;fill:none;fill-opacity:1;fill-rule:evenodd;stroke:#404040;stroke-width:0.75;stroke-linecap:butt;stroke-linejoin:miter;stroke-miterlimit:4;stroke-dasharray:none;stroke-dashoffset:0;stroke-opacity:1;color-rendering:auto;image-rendering:auto;shape-rendering:auto;text-rendering:auto;enable-background:accumulate\"/>\n",
       "    <path d=\"m 624,174 v 19.2\" id=\"path544\" inkscape:connector-curvature=\"0\" style=\"color:#000000;clip-rule:nonzero;display:inline;overflow:visible;visibility:visible;opacity:1;isolation:auto;mix-blend-mode:normal;color-interpolation:sRGB;color-interpolation-filters:linearRGB;solid-color:#000000;solid-opacity:1;fill:none;fill-opacity:1;fill-rule:evenodd;stroke:#404040;stroke-width:0.75;stroke-linecap:butt;stroke-linejoin:miter;stroke-miterlimit:4;stroke-dasharray:none;stroke-dashoffset:0;stroke-opacity:1;color-rendering:auto;image-rendering:auto;shape-rendering:auto;text-rendering:auto;enable-background:accumulate\"/>\n",
       "    <path d=\"M 240,183.6 H 432 624\" id=\"path546\" inkscape:connector-curvature=\"0\" style=\"color:#000000;clip-rule:nonzero;display:inline;overflow:visible;visibility:visible;opacity:1;isolation:auto;mix-blend-mode:normal;color-interpolation:sRGB;color-interpolation-filters:linearRGB;solid-color:#000000;solid-opacity:1;fill:none;fill-opacity:1;fill-rule:evenodd;stroke:#404040;stroke-width:0.75;stroke-linecap:butt;stroke-linejoin:miter;stroke-miterlimit:4;stroke-dasharray:none;stroke-dashoffset:0;stroke-opacity:1;marker-start:url(#DimensionTick);marker-mid:url(#DimensionTick);marker-end:url(#DimensionTick);color-rendering:auto;image-rendering:auto;shape-rendering:auto;text-rendering:auto;enable-background:accumulate\"/>\n",
       "    <text id=\"text550\" style=\"font-style:normal;font-variant:normal;font-weight:normal;font-stretch:normal;line-height:0%;font-family:Verdana;-inkscape-font-specification:Verdana;text-align:center;text-anchor:middle;opacity:1;vector-effect:none;fill:#000000;fill-opacity:1;stroke:none;stroke-width:1.5;stroke-linecap:butt;stroke-linejoin:miter;stroke-miterlimit:4;stroke-dasharray:none;stroke-dashoffset:0;stroke-opacity:1\" transform=\"translate(-15.16682,0.16436)\" x=\"335.11682\" xml:space=\"preserve\" y=\"180.43564\"><tspan id=\"tspan548\" sodipodi:role=\"line\" style=\"font-size:13px;line-height:6.66666698\" x=\"335.11682\" y=\"180.43564\">5500</tspan></text>\n",
       "    <text id=\"text554\" style=\"font-style:normal;font-variant:normal;font-weight:normal;font-stretch:normal;line-height:0%;font-family:Verdana;-inkscape-font-specification:Verdana;text-align:center;text-anchor:middle;opacity:1;vector-effect:none;fill:#000000;fill-opacity:1;stroke:none;stroke-width:1.5;stroke-linecap:butt;stroke-linejoin:miter;stroke-miterlimit:4;stroke-dasharray:none;stroke-dashoffset:0;stroke-opacity:1\" transform=\"translate(-8.04207,0.16436)\" x=\"519.99207\" xml:space=\"preserve\" y=\"180.43564\"><tspan id=\"tspan552\" sodipodi:role=\"line\" style=\"font-size:13px;line-height:6.66666698\" x=\"519.99207\" y=\"180.43564\">5500</tspan></text>\n",
       "    <path d=\"M 240,318 H 624 L 432,241.2 240,318\" id=\"path644\" inkscape:connector-curvature=\"0\" style=\"color:#000000;clip-rule:nonzero;display:inline;overflow:visible;visibility:visible;opacity:1;isolation:auto;mix-blend-mode:normal;color-interpolation:sRGB;color-interpolation-filters:linearRGB;solid-color:#000000;solid-opacity:1;fill:#cccccc;fill-opacity:1;fill-rule:evenodd;stroke:#000000;stroke-width:1px;stroke-linecap:butt;stroke-linejoin:miter;stroke-miterlimit:4;stroke-dasharray:none;stroke-dashoffset:0;stroke-opacity:1;color-rendering:auto;image-rendering:auto;shape-rendering:auto;text-rendering:auto;enable-background:accumulate\"/>\n",
       "    <text id=\"text648\" style=\"font-style:normal;font-variant:normal;font-weight:normal;font-stretch:normal;line-height:0%;font-family:Verdana;-inkscape-font-specification:Verdana;text-align:center;text-anchor:middle;opacity:1;vector-effect:none;fill:#000000;fill-opacity:1;stroke:none;stroke-width:1.5;stroke-linecap:butt;stroke-linejoin:miter;stroke-miterlimit:4;stroke-dasharray:none;stroke-dashoffset:0;stroke-opacity:1\" x=\"222.99405\" xml:space=\"preserve\" y=\"292.85941\"><tspan id=\"tspan646\" sodipodi:role=\"line\" style=\"font-size:12px;line-height:6.66666698\" x=\"222.99405\" y=\"292.85941\">M</tspan></text>\n",
       "    <g id=\"g780\" inkscapeversion=\"0.91\" ns1:alignment=\"middle center\" ns1:jacobian_sqrt=\"1.333333\" ns1:pdfconverter=\"pdf2svg\" ns1:preamble=\"/files/work/share/config/inkscape/extensions/textext/default_packages.tex\" ns1:scale=\"1.0\" ns1:texconverter=\"pdflatex\" ns1:text=\"$$\\n\\\\frac{P_f}{2}\\\\times \\\\frac{11\\\\text{m}}{2} = \\\\frac{P_f \\\\times 11\\\\text{m}}{4}\\n$$ \" ns1:version=\"0.11.0\" transform=\"matrix(1.333333,0,0,1.333333,-76.814368,46.070546)\">\n",
       "      <g id=\"surface1\">\n",
       "        <g id=\"g719\" style=\"fill:#000000;fill-opacity:1\">\n",
       "          <path d=\"M 3.015625,-3.15625 H 4.71875 c 1.40625,0 2.796875,-1.03125 2.796875,-2.140625 0,-0.78125 -0.65625,-1.515625 -1.96875,-1.515625 h -3.21875 c -0.1875,0 -0.296875,0 -0.296875,0.1875 0,0.125 0.078125,0.125 0.28125,0.125 0.125,0 0.3125,0.015625 0.421875,0.015625 0.171875,0.03125 0.21875,0.046875 0.21875,0.171875 0,0.03125 0,0.0625 -0.03125,0.1875 l -1.34375,5.34375 c -0.09375,0.390625 -0.109375,0.46875 -0.90625,0.46875 -0.15625,0 -0.265625,0 -0.265625,0.1875 C 0.40625,0 0.515625,0 0.546875,0 0.828125,0 1.53125,-0.03125 1.8125,-0.03125 c 0.21875,0 0.4375,0.015625 0.640625,0.015625 0.21875,0 0.4375,0.015625 0.640625,0.015625 0.078125,0 0.203125,0 0.203125,-0.203125 0,-0.109375 -0.09375,-0.109375 -0.28125,-0.109375 -0.359375,0 -0.640625,0 -0.640625,-0.171875 0,-0.0625 0.015625,-0.109375 0.03125,-0.171875 z M 3.734375,-6.125 C 3.828125,-6.46875 3.84375,-6.5 4.28125,-6.5 h 0.953125 c 0.828125,0 1.359375,0.265625 1.359375,0.953125 0,0.390625 -0.203125,1.25 -0.59375,1.609375 -0.5,0.453125 -1.09375,0.53125 -1.53125,0.53125 H 3.0625 Z m 0,0\" id=\"path717\" inkscape:connector-curvature=\"0\" style=\"stroke:none;stroke-width:0\" transform=\"translate(254.589,142.569)\"/>\n",
       "        </g>\n",
       "        <g id=\"g723\" style=\"fill:#000000;fill-opacity:1\">\n",
       "          <path d=\"M 2.84375,-2.75 H 3.515625 C 3.65625,-2.75 3.75,-2.75 3.75,-2.90625 3.75,-3 3.65625,-3 3.53125,-3 H 2.890625 c 0.15625,-0.890625 0.203125,-1.203125 0.265625,-1.40625 0.03125,-0.15625 0.1875,-0.296875 0.359375,-0.296875 0,0 0.1875,0 0.328125,0.078125 -0.296875,0.09375 -0.3125,0.34375 -0.3125,0.375 0,0.15625 0.125,0.265625 0.28125,0.265625 0.1875,0 0.390625,-0.15625 0.390625,-0.421875 0,-0.328125 -0.328125,-0.5 -0.6875,-0.5 -0.3125,0 -0.65625,0.171875 -0.84375,0.515625 C 2.53125,-4.125 2.484375,-3.8125 2.328125,-3 H 1.78125 c -0.140625,0 -0.234375,0 -0.234375,0.15625 0,0.09375 0.09375,0.09375 0.21875,0.09375 H 2.28125 c 0,0.046875 -0.4375,2.546875 -0.609375,3.296875 -0.03125,0.15625 -0.15625,0.671875 -0.484375,0.671875 -0.015625,0 -0.171875,0 -0.3125,-0.078125 0.28125,-0.09375 0.3125,-0.34375 0.3125,-0.375 C 1.1875,0.609375 1.0625,0.5 0.90625,0.5 c -0.1875,0 -0.390625,0.15625 -0.390625,0.421875 0,0.3125 0.328125,0.5 0.671875,0.5 0.4375,0 0.75,-0.453125 0.828125,-0.609375 0.25,-0.46875 0.421875,-1.328125 0.4375,-1.40625 z m 0,0\" id=\"path721\" inkscape:connector-curvature=\"0\" style=\"stroke:none;stroke-width:0\" transform=\"translate(260.985,144.063)\"/>\n",
       "        </g>\n",
       "        <path d=\"M 8.4375e-4,0.00159375 H 11.559438\" id=\"path725\" inkscape:connector-curvature=\"0\" style=\"fill:none;stroke:#000000;stroke-width:0.398;stroke-linecap:butt;stroke-linejoin:miter;stroke-miterlimit:10;stroke-opacity:1\" transform=\"matrix(1,0,0,-1,254.589,146.818)\"/>\n",
       "        <g id=\"g729\" style=\"fill:#000000;fill-opacity:1\">\n",
       "          <path d=\"m 1.265625,-0.765625 1.0625,-1.03125 c 1.546875,-1.375 2.140625,-1.90625 2.140625,-2.90625 0,-1.140625 -0.890625,-1.9375 -2.109375,-1.9375 -1.125,0 -1.859375,0.921875 -1.859375,1.8125 0,0.546875 0.5,0.546875 0.53125,0.546875 0.171875,0 0.515625,-0.109375 0.515625,-0.53125 0,-0.25 -0.1875,-0.515625 -0.53125,-0.515625 -0.078125,0 -0.09375,0 -0.125,0.015625 0.21875,-0.65625 0.765625,-1.015625 1.34375,-1.015625 0.90625,0 1.328125,0.8125 1.328125,1.625 C 3.5625,-3.90625 3.078125,-3.125 2.515625,-2.5 l -1.90625,2.125 C 0.5,-0.265625 0.5,-0.234375 0.5,0 H 4.203125 L 4.46875,-1.734375 H 4.234375 C 4.171875,-1.4375 4.109375,-1 4,-0.84375 3.9375,-0.765625 3.28125,-0.765625 3.0625,-0.765625 Z m 0,0\" id=\"path727\" inkscape:connector-curvature=\"0\" style=\"stroke:none;stroke-width:0\" transform=\"translate(257.879,156.142)\"/>\n",
       "        </g>\n",
       "        <g id=\"g733\" style=\"fill:#000000;fill-opacity:1\">\n",
       "          <path d=\"M 3.875,-2.765625 1.890625,-4.75 C 1.765625,-4.875 1.75,-4.890625 1.671875,-4.890625 1.5625,-4.890625 1.46875,-4.8125 1.46875,-4.6875 c 0,0.0625 0.015625,0.078125 0.125,0.1875 l 2,2 -2,2.015625 c -0.109375,0.109375 -0.125,0.125 -0.125,0.1875 0,0.125 0.09375,0.203125 0.203125,0.203125 0.078125,0 0.09375,-0.015625 0.21875,-0.140625 L 3.875,-2.21875 l 2.0625,2.0625 c 0.015625,0.015625 0.078125,0.0625 0.140625,0.0625 0.125,0 0.203125,-0.078125 0.203125,-0.203125 0,-0.015625 0,-0.046875 -0.03125,-0.109375 C 6.234375,-0.421875 4.65625,-1.984375 4.15625,-2.5 l 1.828125,-1.8125 c 0.046875,-0.0625 0.203125,-0.1875 0.25,-0.25 0,-0.015625 0.046875,-0.0625 0.046875,-0.125 0,-0.125 -0.078125,-0.203125 -0.203125,-0.203125 C 6,-4.890625 5.96875,-4.859375 5.859375,-4.75 Z m 0,0\" id=\"path731\" inkscape:connector-curvature=\"0\" style=\"stroke:none;stroke-width:0\" transform=\"translate(269.559,149.308)\"/>\n",
       "        </g>\n",
       "        <g id=\"g741\" style=\"fill:#000000;fill-opacity:1\">\n",
       "          <path d=\"m 2.9375,-6.375 c 0,-0.25 0,-0.265625 -0.234375,-0.265625 C 2.078125,-6 1.203125,-6 0.890625,-6 v 0.3125 c 0.203125,0 0.78125,0 1.296875,-0.265625 v 5.171875 c 0,0.359375 -0.03125,0.46875 -0.921875,0.46875 h -0.3125 V 0 c 0.34375,-0.03125 1.203125,-0.03125 1.609375,-0.03125 0.390625,0 1.265625,0 1.609375,0.03125 v -0.3125 h -0.3125 c -0.90625,0 -0.921875,-0.109375 -0.921875,-0.46875 z m 0,0\" id=\"path735\" inkscape:connector-curvature=\"0\" style=\"stroke:none;stroke-width:0\" transform=\"translate(280.717,142.569)\"/>\n",
       "          <path d=\"m 2.9375,-6.375 c 0,-0.25 0,-0.265625 -0.234375,-0.265625 C 2.078125,-6 1.203125,-6 0.890625,-6 v 0.3125 c 0.203125,0 0.78125,0 1.296875,-0.265625 v 5.171875 c 0,0.359375 -0.03125,0.46875 -0.921875,0.46875 h -0.3125 V 0 c 0.34375,-0.03125 1.203125,-0.03125 1.609375,-0.03125 0.390625,0 1.265625,0 1.609375,0.03125 v -0.3125 h -0.3125 c -0.90625,0 -0.921875,-0.109375 -0.921875,-0.46875 z m 0,0\" id=\"path737\" inkscape:connector-curvature=\"0\" style=\"stroke:none;stroke-width:0\" transform=\"translate(285.6983,142.569)\"/>\n",
       "          <path d=\"M 1.09375,-3.421875 V -0.75 c 0,0.4375 -0.109375,0.4375 -0.78125,0.4375 V 0 c 0.359375,-0.015625 0.859375,-0.03125 1.140625,-0.03125 0.25,0 0.765625,0.015625 1.109375,0.03125 v -0.3125 c -0.671875,0 -0.78125,0 -0.78125,-0.4375 V -2.59375 C 1.78125,-3.625 2.5,-4.1875 3.125,-4.1875 c 0.640625,0 0.75,0.53125 0.75,1.109375 V -0.75 c 0,0.4375 -0.109375,0.4375 -0.78125,0.4375 V 0 c 0.34375,-0.015625 0.859375,-0.03125 1.125,-0.03125 0.25,0 0.78125,0.015625 1.109375,0.03125 v -0.3125 c -0.65625,0 -0.765625,0 -0.765625,-0.4375 v -1.84375 c 0,-1.03125 0.703125,-1.59375 1.34375,-1.59375 0.625,0 0.734375,0.53125 0.734375,1.109375 V -0.75 c 0,0.4375 -0.109375,0.4375 -0.78125,0.4375 V 0 c 0.34375,-0.015625 0.859375,-0.03125 1.125,-0.03125 0.265625,0 0.78125,0.015625 1.125,0.03125 v -0.3125 c -0.515625,0 -0.765625,0 -0.78125,-0.296875 v -1.90625 c 0,-0.859375 0,-1.15625 -0.3125,-1.515625 -0.140625,-0.171875 -0.46875,-0.375 -1.046875,-0.375 -0.828125,0 -1.28125,0.59375 -1.4375,0.984375 C 4.390625,-4.296875 3.65625,-4.40625 3.203125,-4.40625 2.46875,-4.40625 2,-3.984375 1.71875,-3.359375 V -4.40625 L 0.3125,-4.296875 v 0.3125 c 0.703125,0 0.78125,0.0625 0.78125,0.5625 z m 0,0\" id=\"path739\" inkscape:connector-curvature=\"0\" style=\"stroke:none;stroke-width:0\" transform=\"translate(290.6796,142.569)\"/>\n",
       "        </g>\n",
       "        <path d=\"M 0.00175,0.00159375 H 18.263469\" id=\"path743\" inkscape:connector-curvature=\"0\" style=\"fill:none;stroke:#000000;stroke-width:0.398;stroke-linecap:butt;stroke-linejoin:miter;stroke-miterlimit:10;stroke-opacity:1\" transform=\"matrix(1,0,0,-1,280.717,146.818)\"/>\n",
       "        <g id=\"g747\" style=\"fill:#000000;fill-opacity:1\">\n",
       "          <path d=\"m 1.265625,-0.765625 1.0625,-1.03125 c 1.546875,-1.375 2.140625,-1.90625 2.140625,-2.90625 0,-1.140625 -0.890625,-1.9375 -2.109375,-1.9375 -1.125,0 -1.859375,0.921875 -1.859375,1.8125 0,0.546875 0.5,0.546875 0.53125,0.546875 0.171875,0 0.515625,-0.109375 0.515625,-0.53125 0,-0.25 -0.1875,-0.515625 -0.53125,-0.515625 -0.078125,0 -0.09375,0 -0.125,0.015625 0.21875,-0.65625 0.765625,-1.015625 1.34375,-1.015625 0.90625,0 1.328125,0.8125 1.328125,1.625 C 3.5625,-3.90625 3.078125,-3.125 2.515625,-2.5 l -1.90625,2.125 C 0.5,-0.265625 0.5,-0.234375 0.5,0 H 4.203125 L 4.46875,-1.734375 H 4.234375 C 4.171875,-1.4375 4.109375,-1 4,-0.84375 3.9375,-0.765625 3.28125,-0.765625 3.0625,-0.765625 Z m 0,0\" id=\"path745\" inkscape:connector-curvature=\"0\" style=\"stroke:none;stroke-width:0\" transform=\"translate(287.359,156.142)\"/>\n",
       "        </g>\n",
       "        <g id=\"g751\" style=\"fill:#000000;fill-opacity:1\">\n",
       "          <path d=\"m 6.84375,-3.265625 c 0.15625,0 0.34375,0 0.34375,-0.1875 C 7.1875,-3.65625 7,-3.65625 6.859375,-3.65625 h -5.96875 c -0.140625,0 -0.328125,0 -0.328125,0.203125 0,0.1875 0.1875,0.1875 0.328125,0.1875 z m 0.015625,1.9375 c 0.140625,0 0.328125,0 0.328125,-0.203125 0,-0.1875 -0.1875,-0.1875 -0.34375,-0.1875 H 0.890625 c -0.140625,0 -0.328125,0 -0.328125,0.1875 0,0.203125 0.1875,0.203125 0.328125,0.203125 z m 0,0\" id=\"path749\" inkscape:connector-curvature=\"0\" style=\"stroke:none;stroke-width:0\" transform=\"translate(302.945,149.308)\"/>\n",
       "        </g>\n",
       "        <g id=\"g755\" style=\"fill:#000000;fill-opacity:1\">\n",
       "          <path d=\"M 3.015625,-3.15625 H 4.71875 c 1.40625,0 2.796875,-1.03125 2.796875,-2.140625 0,-0.78125 -0.65625,-1.515625 -1.96875,-1.515625 h -3.21875 c -0.1875,0 -0.296875,0 -0.296875,0.1875 0,0.125 0.078125,0.125 0.28125,0.125 0.125,0 0.3125,0.015625 0.421875,0.015625 0.171875,0.03125 0.21875,0.046875 0.21875,0.171875 0,0.03125 0,0.0625 -0.03125,0.1875 l -1.34375,5.34375 c -0.09375,0.390625 -0.109375,0.46875 -0.90625,0.46875 -0.15625,0 -0.265625,0 -0.265625,0.1875 C 0.40625,0 0.515625,0 0.546875,0 0.828125,0 1.53125,-0.03125 1.8125,-0.03125 c 0.21875,0 0.4375,0.015625 0.640625,0.015625 0.21875,0 0.4375,0.015625 0.640625,0.015625 0.078125,0 0.203125,0 0.203125,-0.203125 0,-0.109375 -0.09375,-0.109375 -0.28125,-0.109375 -0.359375,0 -0.640625,0 -0.640625,-0.171875 0,-0.0625 0.015625,-0.109375 0.03125,-0.171875 z M 3.734375,-6.125 C 3.828125,-6.46875 3.84375,-6.5 4.28125,-6.5 h 0.953125 c 0.828125,0 1.359375,0.265625 1.359375,0.953125 0,0.390625 -0.203125,1.25 -0.59375,1.609375 -0.5,0.453125 -1.09375,0.53125 -1.53125,0.53125 H 3.0625 Z m 0,0\" id=\"path753\" inkscape:connector-curvature=\"0\" style=\"stroke:none;stroke-width:0\" transform=\"translate(314.657,142.569)\"/>\n",
       "        </g>\n",
       "        <g id=\"g759\" style=\"fill:#000000;fill-opacity:1\">\n",
       "          <path d=\"M 2.84375,-2.75 H 3.515625 C 3.65625,-2.75 3.75,-2.75 3.75,-2.90625 3.75,-3 3.65625,-3 3.53125,-3 H 2.890625 c 0.15625,-0.890625 0.203125,-1.203125 0.265625,-1.40625 0.03125,-0.15625 0.1875,-0.296875 0.359375,-0.296875 0,0 0.1875,0 0.328125,0.078125 -0.296875,0.09375 -0.3125,0.34375 -0.3125,0.375 0,0.15625 0.125,0.265625 0.28125,0.265625 0.1875,0 0.390625,-0.15625 0.390625,-0.421875 0,-0.328125 -0.328125,-0.5 -0.6875,-0.5 -0.3125,0 -0.65625,0.171875 -0.84375,0.515625 C 2.53125,-4.125 2.484375,-3.8125 2.328125,-3 H 1.78125 c -0.140625,0 -0.234375,0 -0.234375,0.15625 0,0.09375 0.09375,0.09375 0.21875,0.09375 H 2.28125 c 0,0.046875 -0.4375,2.546875 -0.609375,3.296875 -0.03125,0.15625 -0.15625,0.671875 -0.484375,0.671875 -0.015625,0 -0.171875,0 -0.3125,-0.078125 0.28125,-0.09375 0.3125,-0.34375 0.3125,-0.375 C 1.1875,0.609375 1.0625,0.5 0.90625,0.5 c -0.1875,0 -0.390625,0.15625 -0.390625,0.421875 0,0.3125 0.328125,0.5 0.671875,0.5 0.4375,0 0.75,-0.453125 0.828125,-0.609375 0.25,-0.46875 0.421875,-1.328125 0.4375,-1.40625 z m 0,0\" id=\"path757\" inkscape:connector-curvature=\"0\" style=\"stroke:none;stroke-width:0\" transform=\"translate(321.053,144.063)\"/>\n",
       "        </g>\n",
       "        <g id=\"g763\" style=\"fill:#000000;fill-opacity:1\">\n",
       "          <path d=\"M 3.875,-2.765625 1.890625,-4.75 C 1.765625,-4.875 1.75,-4.890625 1.671875,-4.890625 1.5625,-4.890625 1.46875,-4.8125 1.46875,-4.6875 c 0,0.0625 0.015625,0.078125 0.125,0.1875 l 2,2 -2,2.015625 c -0.109375,0.109375 -0.125,0.125 -0.125,0.1875 0,0.125 0.09375,0.203125 0.203125,0.203125 0.078125,0 0.09375,-0.015625 0.21875,-0.140625 L 3.875,-2.21875 l 2.0625,2.0625 c 0.015625,0.015625 0.078125,0.0625 0.140625,0.0625 0.125,0 0.203125,-0.078125 0.203125,-0.203125 0,-0.015625 0,-0.046875 -0.03125,-0.109375 C 6.234375,-0.421875 4.65625,-1.984375 4.15625,-2.5 l 1.828125,-1.8125 c 0.046875,-0.0625 0.203125,-0.1875 0.25,-0.25 0,-0.015625 0.046875,-0.0625 0.046875,-0.125 0,-0.125 -0.078125,-0.203125 -0.203125,-0.203125 C 6,-4.890625 5.96875,-4.859375 5.859375,-4.75 Z m 0,0\" id=\"path761\" inkscape:connector-curvature=\"0\" style=\"stroke:none;stroke-width:0\" transform=\"translate(328.431,142.569)\"/>\n",
       "        </g>\n",
       "        <g id=\"g771\" style=\"fill:#000000;fill-opacity:1\">\n",
       "          <path d=\"m 2.9375,-6.375 c 0,-0.25 0,-0.265625 -0.234375,-0.265625 C 2.078125,-6 1.203125,-6 0.890625,-6 v 0.3125 c 0.203125,0 0.78125,0 1.296875,-0.265625 v 5.171875 c 0,0.359375 -0.03125,0.46875 -0.921875,0.46875 h -0.3125 V 0 c 0.34375,-0.03125 1.203125,-0.03125 1.609375,-0.03125 0.390625,0 1.265625,0 1.609375,0.03125 v -0.3125 h -0.3125 c -0.90625,0 -0.921875,-0.109375 -0.921875,-0.46875 z m 0,0\" id=\"path765\" inkscape:connector-curvature=\"0\" style=\"stroke:none;stroke-width:0\" transform=\"translate(338.394,142.569)\"/>\n",
       "          <path d=\"m 2.9375,-6.375 c 0,-0.25 0,-0.265625 -0.234375,-0.265625 C 2.078125,-6 1.203125,-6 0.890625,-6 v 0.3125 c 0.203125,0 0.78125,0 1.296875,-0.265625 v 5.171875 c 0,0.359375 -0.03125,0.46875 -0.921875,0.46875 h -0.3125 V 0 c 0.34375,-0.03125 1.203125,-0.03125 1.609375,-0.03125 0.390625,0 1.265625,0 1.609375,0.03125 v -0.3125 h -0.3125 c -0.90625,0 -0.921875,-0.109375 -0.921875,-0.46875 z m 0,0\" id=\"path767\" inkscape:connector-curvature=\"0\" style=\"stroke:none;stroke-width:0\" transform=\"translate(343.3753,142.569)\"/>\n",
       "          <path d=\"M 1.09375,-3.421875 V -0.75 c 0,0.4375 -0.109375,0.4375 -0.78125,0.4375 V 0 c 0.359375,-0.015625 0.859375,-0.03125 1.140625,-0.03125 0.25,0 0.765625,0.015625 1.109375,0.03125 v -0.3125 c -0.671875,0 -0.78125,0 -0.78125,-0.4375 V -2.59375 C 1.78125,-3.625 2.5,-4.1875 3.125,-4.1875 c 0.640625,0 0.75,0.53125 0.75,1.109375 V -0.75 c 0,0.4375 -0.109375,0.4375 -0.78125,0.4375 V 0 c 0.34375,-0.015625 0.859375,-0.03125 1.125,-0.03125 0.25,0 0.78125,0.015625 1.109375,0.03125 v -0.3125 c -0.65625,0 -0.765625,0 -0.765625,-0.4375 v -1.84375 c 0,-1.03125 0.703125,-1.59375 1.34375,-1.59375 0.625,0 0.734375,0.53125 0.734375,1.109375 V -0.75 c 0,0.4375 -0.109375,0.4375 -0.78125,0.4375 V 0 c 0.34375,-0.015625 0.859375,-0.03125 1.125,-0.03125 0.265625,0 0.78125,0.015625 1.125,0.03125 v -0.3125 c -0.515625,0 -0.765625,0 -0.78125,-0.296875 v -1.90625 c 0,-0.859375 0,-1.15625 -0.3125,-1.515625 -0.140625,-0.171875 -0.46875,-0.375 -1.046875,-0.375 -0.828125,0 -1.28125,0.59375 -1.4375,0.984375 C 4.390625,-4.296875 3.65625,-4.40625 3.203125,-4.40625 2.46875,-4.40625 2,-3.984375 1.71875,-3.359375 V -4.40625 L 0.3125,-4.296875 v 0.3125 c 0.703125,0 0.78125,0.0625 0.78125,0.5625 z m 0,0\" id=\"path769\" inkscape:connector-curvature=\"0\" style=\"stroke:none;stroke-width:0\" transform=\"translate(348.3566,142.569)\"/>\n",
       "        </g>\n",
       "        <path d=\"M -7.5e-4,0.00159375 H 42.003156\" id=\"path773\" inkscape:connector-curvature=\"0\" style=\"fill:none;stroke:#000000;stroke-width:0.398;stroke-linecap:butt;stroke-linejoin:miter;stroke-miterlimit:10;stroke-opacity:1\" transform=\"matrix(1,0,0,-1,314.657,146.818)\"/>\n",
       "        <g id=\"g777\" style=\"fill:#000000;fill-opacity:1\">\n",
       "          <path d=\"m 2.9375,-1.640625 v 0.859375 c 0,0.359375 -0.03125,0.46875 -0.765625,0.46875 H 1.96875 V 0 C 2.375,-0.03125 2.890625,-0.03125 3.3125,-0.03125 c 0.421875,0 0.9375,0 1.359375,0.03125 v -0.3125 h -0.21875 c -0.734375,0 -0.75,-0.109375 -0.75,-0.46875 V -1.640625 H 4.6875 v -0.3125 H 3.703125 v -4.53125 c 0,-0.203125 0,-0.265625 -0.171875,-0.265625 -0.078125,0 -0.109375,0 -0.1875,0.125 l -3.0625,4.671875 v 0.3125 z m 0.046875,-0.3125 H 0.5625 l 2.421875,-3.71875 z m 0,0\" id=\"path775\" inkscape:connector-curvature=\"0\" style=\"stroke:none;stroke-width:0\" transform=\"translate(333.167,156.142)\"/>\n",
       "        </g>\n",
       "      </g>\n",
       "    </g>\n",
       "    <text id=\"text141\" style=\"font-style:italic;font-variant:normal;font-weight:normal;font-stretch:normal;font-size:13.33333302px;line-height:6.66666651px;font-family:Verdana;-inkscape-font-specification:'Verdana Italic';text-align:center;text-anchor:middle;opacity:1;vector-effect:none;fill:#000000;fill-opacity:1;stroke:none;stroke-width:1.5;stroke-linecap:butt;stroke-linejoin:miter;stroke-miterlimit:4;stroke-dasharray:none;stroke-dashoffset:0;stroke-opacity:1\" x=\"246.73663\" xml:space=\"preserve\" y=\"166.78812\"><tspan id=\"tspan139\" sodipodi:role=\"line\" x=\"246.73663\" y=\"166.78812\">a</tspan></text>\n",
       "    <text id=\"text145\" style=\"font-style:italic;font-variant:normal;font-weight:normal;font-stretch:normal;font-size:13.33333302px;line-height:6.66666651px;font-family:Verdana;-inkscape-font-specification:'Verdana Italic';text-align:center;text-anchor:middle;opacity:1;vector-effect:none;fill:#000000;fill-opacity:1;stroke:none;stroke-width:1.5;stroke-linecap:butt;stroke-linejoin:miter;stroke-miterlimit:4;stroke-dasharray:none;stroke-dashoffset:0;stroke-opacity:1\" x=\"423.9921\" xml:space=\"preserve\" y=\"158.45941\"><tspan id=\"tspan143\" sodipodi:role=\"line\" x=\"423.9921\" y=\"158.45941\">b</tspan></text>\n",
       "    <text id=\"text149\" style=\"font-style:italic;font-variant:normal;font-weight:normal;font-stretch:normal;font-size:13.33333302px;line-height:6.66666651px;font-family:Verdana;-inkscape-font-specification:'Verdana Italic';text-align:center;text-anchor:middle;opacity:1;vector-effect:none;fill:#000000;fill-opacity:1;stroke:none;stroke-width:1.5;stroke-linecap:butt;stroke-linejoin:miter;stroke-miterlimit:4;stroke-dasharray:none;stroke-dashoffset:0;stroke-opacity:1\" x=\"618.16632\" xml:space=\"preserve\" y=\"172.53467\"><tspan id=\"tspan147\" sodipodi:role=\"line\" x=\"618.16632\" y=\"172.53467\">c</tspan></text>\n",
       "  </g>\n",
       "</svg>"
      ],
      "text/plain": [
       "<IPython.core.display.SVG object>"
      ]
     },
     "metadata": {},
     "output_type": "display_data"
    }
   ],
   "source": [
    "figure(\"eg-F10.svg\")"
   ]
  },
  {
   "cell_type": "code",
   "execution_count": 3,
   "metadata": {},
   "outputs": [
    {
     "name": "stdout",
     "output_type": "stream",
     "text": [
      "Dsg = W410x60      \n",
      "d   = 407          \n",
      "b   = 178          \n",
      "t   = 12.8         \n",
      "w   = 7.7          \n",
      "h   = 381.4        \n",
      "Ix  = 216 * 10**6  \n",
      "Iy  = 12 * 10**6   \n",
      "Zx  = 1190 * 10**3 \n",
      "J   = 328 * 10**3  \n",
      "Cw  = 468 * 10**9  \n",
      "Fy  = 345          \n"
     ]
    }
   ],
   "source": [
    "phi = 0.9\n",
    "Fy = 345.\n",
    "Dsg,d,b,t,w,Ix,Zx,Iy,J,Cw = SST.section('W410x60','Dsg,D,B,T,W,Ix,Zx,Iy,J,Cw')\n",
    "h = d - 2*t\n",
    "show('Dsg,d,b,t,w,h,*10**6,Ix,Iy,*10**3,Zx,J,*10**9,Cw,*,Fy')"
   ]
  },
  {
   "cell_type": "markdown",
   "metadata": {},
   "source": [
    "## Check Local Buckling"
   ]
  },
  {
   "cell_type": "code",
   "execution_count": 4,
   "metadata": {},
   "outputs": [
    {
     "name": "stdout",
     "output_type": "stream",
     "text": [
      "bel/t        = 6.953 \n",
      "170/sqrt(Fy) = 9.152 \n"
     ]
    }
   ],
   "source": [
    "show('bel/t = b/(2*t), 170/sqrt(Fy)')  # check flange against class 2 limits"
   ]
  },
  {
   "cell_type": "code",
   "execution_count": 5,
   "metadata": {},
   "outputs": [
    {
     "name": "stdout",
     "output_type": "stream",
     "text": [
      "h/w           = 49.53 \n",
      "1700/sqrt(Fy) = 91.52 \n"
     ]
    }
   ],
   "source": [
    "show('h/w, 1700/sqrt(Fy)')  # check web against class 2 limits"
   ]
  },
  {
   "cell_type": "markdown",
   "metadata": {},
   "source": [
    "Therefore section is class 2 (or perhaps class 1 - that doesn't matter)"
   ]
  },
  {
   "cell_type": "markdown",
   "metadata": {},
   "source": [
    "## Case a) fully braced"
   ]
  },
  {
   "cell_type": "markdown",
   "metadata": {},
   "source": [
    "From $\\S$ 13.5: $\n",
    "M_r = \\phi M_p = \\phi F_y Z_x\n",
    "$"
   ]
  },
  {
   "cell_type": "code",
   "execution_count": 6,
   "metadata": {},
   "outputs": [
    {
     "name": "stdout",
     "output_type": "stream",
     "text": [
      "Mr = 369.5 \n",
      "Pf = 134.4 \n"
     ]
    }
   ],
   "source": [
    "Mr = phi*Fy*Zx * 1E-6   # * 1E-6 converts from N-mm to kN-m\n",
    "Pf = Mr * 4. / 11.\n",
    "show('Mr,Pf')"
   ]
  },
  {
   "cell_type": "markdown",
   "metadata": {},
   "source": [
    "#### For case a), maximum $P_f = 134~\\text{kN}$.\n",
    "----------------"
   ]
  },
  {
   "cell_type": "markdown",
   "metadata": {},
   "source": [
    "## Case b) lateral bracing at supports only"
   ]
  },
  {
   "cell_type": "markdown",
   "metadata": {},
   "source": [
    "The last paragraph of $\\S$ 13.6 a) says the following:\n",
    "\n",
    ">   _For unbraced beam segments loaded above the shear centre between brace points, where the method of load delivery\n",
    "   to the member provides neither lateral nor rotational restraint to the member, the associated destabilizing effect\n",
    "   shall be taken into account using a rational method.  For loads applied at the level of the top flange,\n",
    "   in lieu of a more accurate analysis, $M_u$ may be determined using $\\omega_2 = 1.0$ and using an effective\n",
    "   length, for pin-ended beams, of $1.2 L$ and for all other cases, $1.4 L$._\n",
    "   \n",
    "It seems reasonable that the above should apply to this case, so  use an unbraced length of compression\n",
    "flange equal to 1.2 times the distance between supports."
   ]
  },
  {
   "cell_type": "markdown",
   "metadata": {},
   "source": [
    "S16-16 $\\S$ 13.6 a) ii) gives the following for calculating $M_u$:\n",
    "\n",
    "$$\n",
    "M_u = \\frac{\\omega_2 \\pi}{L} \\sqrt{ E I_y G J + \\left(\\frac{\\pi E}{L}\\right)^2 I_y C_w}\n",
    "$$\n",
    "\n",
    "Often, we re-write that to make it a little simpler to apply manually:\n",
    "\n",
    "$$\n",
    "A = E I_y G J\n",
    "$$\n",
    "\n",
    "$$\n",
    "B = \\left(\\frac{\\pi E}{L}\\right)^2 I_y C_w\n",
    "$$\n",
    "\n",
    "$$\n",
    "M_u = \\frac{\\omega_2 \\pi}{L} \\sqrt{ A + B }\n",
    "$$"
   ]
  },
  {
   "cell_type": "code",
   "execution_count": 7,
   "metadata": {},
   "outputs": [],
   "source": [
    "pi = 3.14159\n",
    "E = 200000.\n",
    "G = 77000."
   ]
  },
  {
   "cell_type": "code",
   "execution_count": 8,
   "metadata": {},
   "outputs": [
    {
     "name": "stdout",
     "output_type": "stream",
     "text": [
      "omega2  = 1         \n",
      "L       = 13200     \n",
      "A       = 6.061e+22 \n",
      "B       = 1.272e+22 \n",
      "Mu      = 64.45     \n",
      "Mp      = 410.6     \n",
      "0.67*Mp = 275.1     \n"
     ]
    }
   ],
   "source": [
    "omega2 = 1.0\n",
    "L = 1.2*11000\n",
    "A = E*Iy*G*J\n",
    "B = Iy*Cw*(pi*E/L)**2\n",
    "Mu = (omega2*pi/L)*sqrt(A+B) * 1E-6   # for result in kN-m\n",
    "\n",
    "Mp = Fy*Zx * 1E-6\n",
    "\n",
    "show('omega2,L,A,B,Mu,Mp,0.67*Mp')"
   ]
  },
  {
   "cell_type": "markdown",
   "metadata": {},
   "source": [
    "As $M_u \\le 0.67 M_p$, $M_r = \\phi M_u$:"
   ]
  },
  {
   "cell_type": "code",
   "execution_count": 9,
   "metadata": {},
   "outputs": [
    {
     "name": "stdout",
     "output_type": "stream",
     "text": [
      "Mr = 58.01 \n",
      "Pf = 21.09 \n"
     ]
    }
   ],
   "source": [
    "Mr = phi*Mu\n",
    "Pf = Mr * 4. / 11.\n",
    "show('Mr,Pf')"
   ]
  },
  {
   "cell_type": "markdown",
   "metadata": {},
   "source": [
    "#### For case b), maximum $P_f = 21.1~\\text{kN}$.\n",
    "------------------"
   ]
  },
  {
   "cell_type": "markdown",
   "metadata": {},
   "source": [
    "## Case c) Lateral bracing at ends and at centre\n",
    "\n",
    "From Figure 2-17 in the commentary, $\\omega_2 = 1.75$.\n",
    "\n",
    "Or, the long way from $\\S$ 13.6 a) ii):\n",
    "\n",
    "$\n",
    "\\kappa = 0\n",
    "$\n",
    "\n",
    "(because in the beam segments between the brace points, _ab_ and _bc_, the smallest end moment is 0,\n",
    "and $0/anything$ is zero, as long as $anything \\ne 0$).\n",
    "\n",
    "And then:\n",
    "\n",
    "$\n",
    "\\omega_2 = 1.75 + 1.05\\kappa + 0.3\\kappa^2 = 1.75\n",
    "$"
   ]
  },
  {
   "cell_type": "code",
   "execution_count": 10,
   "metadata": {},
   "outputs": [
    {
     "name": "stdout",
     "output_type": "stream",
     "text": [
      "omega2  = 1.75      \n",
      "L       = 5500      \n",
      "A       = 6.061e+22 \n",
      "B       = 7.329e+22 \n",
      "Mu      = 365.8     \n",
      "Mp      = 410.6     \n",
      "0.67*Mp = 275.1     \n"
     ]
    }
   ],
   "source": [
    "omega2 = 1.75\n",
    "L = 5500.\n",
    "A = E*Iy*G*J\n",
    "B = Iy*Cw*(pi*E/L)**2\n",
    "Mu = (omega2*pi/L)*sqrt(A+B) * 1E-6   # for result in kN-m\n",
    "\n",
    "Mp = Fy*Zx * 1E-6\n",
    "\n",
    "show('omega2,L,A,B,Mu,Mp,0.67*Mp')"
   ]
  },
  {
   "cell_type": "markdown",
   "metadata": {},
   "source": [
    "In this case, $M_u > 0.67 M_p$ and thus $M_r$ is given by $\\S$ 13.6 a) i):"
   ]
  },
  {
   "cell_type": "code",
   "execution_count": 11,
   "metadata": {},
   "outputs": [
    {
     "name": "stdout",
     "output_type": "stream",
     "text": [
      "Mr = 291.4 \n",
      "Pf = 106   \n"
     ]
    }
   ],
   "source": [
    "Mr = min( 1.15*phi*Mp*(1 - 0.28*Mp/Mu), phi*Mp )\n",
    "Pf = Mr * 4. / 11.\n",
    "show('Mr,Pf')"
   ]
  },
  {
   "cell_type": "markdown",
   "metadata": {},
   "source": [
    "#### For case c) maximum $P_f = 106~\\text{kN}$.\n",
    "--------------"
   ]
  },
  {
   "cell_type": "code",
   "execution_count": null,
   "metadata": {},
   "outputs": [],
   "source": []
  }
 ],
 "metadata": {
  "kernelspec": {
   "display_name": "Python 3",
   "language": "python",
   "name": "python3"
  },
  "language_info": {
   "codemirror_mode": {
    "name": "ipython",
    "version": 3
   },
   "file_extension": ".py",
   "mimetype": "text/x-python",
   "name": "python",
   "nbconvert_exporter": "python",
   "pygments_lexer": "ipython3",
   "version": "3.6.8"
  }
 },
 "nbformat": 4,
 "nbformat_minor": 2
}
