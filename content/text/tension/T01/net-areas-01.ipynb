{
 "cells": [
  {
   "cell_type": "markdown",
   "metadata": {},
   "source": [
    "# Example T01: Net Areas of Plates with Staggered Holes\n",
    "\n",
    "Please note that the following type of hole pattern rarely occurs in practice -- practical patterns are more regular and 'grid-like'.  This example illustrates:\n",
    "* how failure patterns depend on the direction of the load relative to the hole group.\n",
    "* the calculations necessary to determine a net cross-sectional area for each potential failure pattern.\n",
    "\n",
    "The  figure shows an irregular bolt pattern in a lap tension splice.  To compute the\n",
    "net areas of the plates, we must examine every possible failure path that has the\n",
    "following attributes:\n",
    "\n",
    "* it separates each plate into 2 complete parts.\n",
    "* it is of minimum length for that path.\n",
    "* there are no bolts or holes completely on the loaded side of the path; all of the bolt bearing areas are on the side opposite the load.\n",
    "\n",
    "In the following example, we will assume M20 bolts in punched holes, and thus the hole\n",
    "allowance is $20~\\mathrm{mm}+2~\\mathrm{mm}+2~\\mathrm{mm} = 24~\\mathrm{mm}$.\n",
    "\n",
    "![Lap PLate Connection](/images/tension/T01/lap-plates-1.svg)\n",
    "\n",
    "**Lap Plate Connection**\n",
    "\n",
    "## 10mm Plates (outer plates)\n",
    "\n",
    "The  shows the paths appropriate for investigating the strength of the outside (10mm) plates.\n",
    "For this case, the loaded side of the connection is toward the right side, and so there are\n",
    "no complete holes on that side of any path.\n",
    "\n",
    "![Failure Paths for Net Area Calculations, Outside (10mm) plates](/images/tension/T01/paths-1.svg \"Failure Paths for Net Area Calculations, Outside (10mm) plates\")\n",
    "\n",
    "**Failure Paths for Net Area Calculations, Outside (10mm) plates**"
   ]
  },
  {
   "cell_type": "markdown",
   "metadata": {},
   "source": [
    "### Path 1-1:\n",
    "\n",
    "$w_n = 210~\\mathrm{mm} - 24~\\mathrm{mm} = 186~\\mathrm{mm}$\n",
    "\n",
    "$A_n = w_n t = 186~\\mathrm{mm} \\times 10~\\mathrm{mm} \\times 2 = 3720~\\mathrm{mm}^2$"
   ]
  },
  {
   "cell_type": "markdown",
   "metadata": {},
   "source": [
    "### Path 2-2:\n",
    "\n",
    "$w_n = w - \\sum d + \\sum{s^2\\over 4g}$\n",
    "\n",
    "$w_n = 210 - 2\\times24 + {50^2\\over 4\\times45} = 175.9~\\mathrm{mm}$\n",
    "\n",
    "$A_n = 175.9 \\times 10 \\times 2 = 3520~\\mathrm{mm}^2$"
   ]
  },
  {
   "cell_type": "markdown",
   "metadata": {},
   "source": [
    "### Path 3-3:\n",
    "\n",
    "$w_n = 210 - 3\\times24 + \\frac{55^2}{4\\times50} + \\frac{50^2}{4\\times45} = 167.0~\\mathrm{mm}$\n",
    "\n",
    "$A_n = 167.0 \\times 10 \\times 2 = 3340^2~\\mathrm{mm}^2\\hskip{2in}\\leftarrow \\mathrm{governs.}$"
   ]
  },
  {
   "cell_type": "markdown",
   "metadata": {},
   "source": [
    "### Path 1-4:\n",
    "\n",
    "Adding the fourth bolt to each of the above paths will reduce the net width by $24~\\mathrm{mm}$\n",
    "for the hole, then\n",
    "increase it by $105^2/(4\\times50) = 55.1~\\mathrm{mm}$ for the slope of the segment.   Therefore paths that include this hole will not govern."
   ]
  },
  {
   "cell_type": "markdown",
   "metadata": {},
   "source": [
    "### Summary\n",
    "\n",
    "Path 3-3 governs (i.e., has the minimum area) and thus:\n",
    "\n",
    "   $A_n = 3340~\\mathrm{mm}^2$\n",
    "\n",
    "for the pair of 10mm plates.\n",
    "\n"
   ]
  },
  {
   "cell_type": "markdown",
   "metadata": {},
   "source": [
    "## 20mm Plate (Inner Plate)\n",
    "\n",
    "The following figure  shows the possible failure paths for calculating the strength of the 20mm plate.\n",
    "For this case, the loaded side is toward the left.\n",
    "\n",
    "![Failure Paths for Net Area Calculations, Inside (20mm) plate](/images/tension/T01/paths-2.svg)\n",
    "\n",
    "**Failure Paths for Net Area Calculations, Inside (20mm) plate**"
   ]
  },
  {
   "cell_type": "markdown",
   "metadata": {},
   "source": [
    "### Path 1-1:\n",
    "\n",
    "$w_n = 210~\\mathrm{mm} - 24~\\mathrm{mm} = 186~\\mathrm{mm}$\n",
    "\n",
    "$A_n = w_n t = 186~\\mathrm{mm} \\times 20~\\mathrm{mm} = 3720~\\mathrm{mm}^2$"
   ]
  },
  {
   "cell_type": "markdown",
   "metadata": {},
   "source": [
    "### Path 2-2:\n",
    "\n",
    "$w_n = 210 - 2\\times24 + {50^2\\over4\\times50} = 174.5~\\mathrm{mm}$\n",
    "\n",
    "$A_n = w_n t = 174.5~\\mathrm{mm} \\times 20~\\mathrm{mm} = 3490~\\mathrm{mm}^2$"
   ]
  },
  {
   "cell_type": "markdown",
   "metadata": {},
   "source": [
    "### Path 2-3:\n",
    "\n",
    "$w_n = 210 - 3\\times24 + {50^2\\over4\\times50} + {50^2\\over4\\times95}  = 157.1~\\mathrm{mm}$\n",
    "\n",
    "$A_n = w_n t = 157.1~\\mathrm{mm} \\times 20~\\mathrm{mm} = 3140~\\mathrm{mm}^2\\hskip{2in}\\leftarrow \\mathrm{governs.}$"
   ]
  },
  {
   "cell_type": "markdown",
   "metadata": {},
   "source": [
    "### Path 1-3:\n",
    "\n",
    "By inspection this will not govern, as path 1-1 is longer than 2-2, therefore 1-3 will be longer than 2-3."
   ]
  },
  {
   "cell_type": "markdown",
   "metadata": {},
   "source": [
    "### Summary\n",
    "\n",
    "Path 2-3 on the 20mm plate governs, and\n",
    "\n",
    "$A_n = 3140\\mathrm{mm}^2$\n",
    "   "
   ]
  }
 ],
 "metadata": {
  "kernelspec": {
   "display_name": "Python 3",
   "language": "python",
   "name": "python3"
  },
  "language_info": {
   "codemirror_mode": {
    "name": "ipython",
    "version": 3
   },
   "file_extension": ".py",
   "mimetype": "text/x-python",
   "name": "python",
   "nbconvert_exporter": "python",
   "pygments_lexer": "ipython3",
   "version": "3.6.8"
  }
 },
 "nbformat": 4,
 "nbformat_minor": 2
}
