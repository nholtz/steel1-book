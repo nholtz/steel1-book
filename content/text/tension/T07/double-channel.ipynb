{
 "cells": [
  {
   "cell_type": "markdown",
   "metadata": {},
   "source": [
    "## Example T-7: Capacity of Double Channel Tension Member"
   ]
  },
  {
   "cell_type": "markdown",
   "metadata": {},
   "source": [
    "Compute the factored tension resistance, $T_r$, of the double channel tension member shown in the figure.  \n",
    "Assume CSA G40.21 300W steel and M20 bolts in punched holes.\n",
    "\n",
    "![Figure](2channel.svg)"
   ]
  },
  {
   "cell_type": "markdown",
   "metadata": {},
   "source": [
    "Calculate the capacity of one channel.  We have the following data:\n",
    "\n",
    "$$\n",
    "\\begin{align}\n",
    "   F_y &= 300~\\mathrm{MPa}\\\\\n",
    "   F_u &= 450~\\mathrm{MPa}\\\\\n",
    "   A &= 2840~\\mathrm{mm}^2\\\\\n",
    "   w &= 7.2~\\mathrm{mm}\\\\\n",
    "\\end{align}\n",
    "$$\n"
   ]
  },
  {
   "cell_type": "markdown",
   "metadata": {},
   "source": [
    "### I) Gross Section Yielding:\n",
    "\n",
    "$$\n",
    "\\begin{align}\n",
    "   T_r &= \\phi A_g F_y \\\\\n",
    "       &= 0.9 \\times 2840~\\mathrm{mm}^2 \\times 0.300~\\mathrm{kN/mm}^2 \\\\\n",
    "       &= 767~\\mathrm{kN}\\\\\n",
    "\\end{align}\n",
    "$$"
   ]
  },
  {
   "cell_type": "markdown",
   "metadata": {},
   "source": [
    "### II) Net Section Fracture:\n",
    "\n",
    "$$\n",
    "\\begin{align}\n",
    "   A_n &= 2840~\\mathrm{mm}^2 - 2\\times 24~\\mathrm{mm}\\times 7.2~\\mathrm{mm} \\\\\n",
    "       &= 2494~\\mathrm{mm}^2\\\\\n",
    "   A_{ne} &= 0.75 A_n ~~~~~~~~~~~~~~~~~~~~~~~\\S \\text{12.3.3.2 c) ii)}\\\\\n",
    "   &= 0.75 \\times 2494~\\mathrm{mm}^2 \\\\\n",
    "        &= 1871~\\mathrm{mm}^2\\\\\n",
    "   T_r &= \\phi_u A_{ne} F_u \\\\\n",
    "   &= 0.75 \\times 1871~\\mathrm{mm}^2 \\times 0.450~\\mathrm{kN/mm}^2 \\\\\n",
    "   &= 631~\\mathrm{kN}\\\\\n",
    "\\end{align}\n",
    "$$\n"
   ]
  },
  {
   "cell_type": "markdown",
   "metadata": {},
   "source": [
    "### III) Block Shear:\n",
    "\n",
    "$$\n",
    "\\begin{align}\n",
    "   T_r &= \\phi_u \\left[ U_t A_n F_u + 0.6 A_{gv} {(F_y+F_u)\\over 2} \\right]\\\\\n",
    "   {(F_y+F_u)\\over 2} &= {(300~\\mathrm{MPa} + 450~\\mathrm{MPa})\\over 2} \\\\\n",
    "                      &= 375~\\mathrm{MPa}\\\\\n",
    "\\end{align}\n",
    "$$\n"
   ]
  },
  {
   "cell_type": "markdown",
   "metadata": {},
   "source": [
    "#### III-1) Path 1-1:\n",
    "\n",
    "![Figure](bs-case-1.svg)\n",
    "\n",
    "$$\n",
    "\\begin{align}\n",
    "   A_n &= (100~\\mathrm{mm} - 24~\\mathrm{mm})\\times7.2~\\mathrm{mm} \\\\\n",
    "       &= 547.2~\\mathrm{mm}^2\\\\\n",
    "   A_{gv} &= 2\\times(60~\\mathrm{mm}+90~\\mathrm{mm})\\times 7.2~\\mathrm{mm} \\\\\n",
    "          &= 2160~\\mathrm{mm}^2\\\\\n",
    "   U_t &= 1.0\\\\\n",
    "   T_r &= 0.75\\times\\left[1.0\\times547.2~\\mathrm{mm}^2\\times0.450~\\mathrm{KN/mm}^2 \\\\\n",
    "            + 0.6\\times2160~\\mathrm{mm}^2\\times0.375~\\mathrm{KN/mm}^2\\right] \\\\\n",
    "       &= 549~\\mathrm{kN}\\\\\n",
    "\\end{align}\n",
    "$$"
   ]
  },
  {
   "cell_type": "markdown",
   "metadata": {},
   "source": [
    "#### III-2) Path 2-2:\n",
    "\n",
    "![Figure](bs-case-2.svg)\n",
    "\n",
    ">   $A_n$ is calculated by subtracting the area between the holes,\n",
    ">   including the width of the holes, from the tabulated gross\n",
    ">   cross-sectional area of the channel.  That way we don't have to\n",
    ">   worry about the area of fillets, tapered flanges, etc.\n",
    "\n",
    "\n",
    "$$\n",
    "\\begin{align}\n",
    "   A_n &= 2840~\\mathrm{mm}^2 - (100~\\mathrm{mm} + 24~\\mathrm{mm})\\times7.2~\\mathrm{mm} \\\\\n",
    "       &= 1947~\\mathrm{mm}^2\\\\\n",
    "   A_{gv} &= 2\\times(60~\\mathrm{mm}+90~\\mathrm{mm})\\times 7.2~\\mathrm{mm} \\\\\n",
    "          &= 2160~\\mathrm{mm}^2\\\\\n",
    "   U_t &= 0.9\\\\\n",
    "   T_r &= 0.75\\times\\left[0.9\\times1947~\\mathrm{mm}^2\\times0.450~\\mathrm{KN/mm}^2 \\\\\n",
    "        + 0.6\\times2160~\\mathrm{mm}^2\\times0.375~\\mathrm{KN/mm}^2\\right] \\\\\n",
    "       &= 1147~\\mathrm{kN}\\\\\n",
    "\\end{align}\n",
    "$$\n",
    "\n",
    "We use $U_t=0.9$ above as there is no comparable in Figure 2-26 in the handbook. However the stress distribution on the tension face will be similar to that of case 6a in that table."
   ]
  },
  {
   "cell_type": "markdown",
   "metadata": {},
   "source": [
    "#### III-3) Path 3-3:\n",
    "\n",
    "![Figure](bs-case-3.svg)\n",
    "\n",
    ">   $A_n$ is calculated by subtracting 1/2 of the net area calculated\n",
    ">   above from the tabulated gross cross-sectional area of the channel.\n",
    ">   That gives the area remaining, which is then adjusted for the hole\n",
    ">   widths.\n",
    "\n",
    "$$\n",
    "\\begin{align}\n",
    "   A_n &= 2840~\\mathrm{mm}^2 - 1947~\\mathrm{mm}^2/2 - 2\\times24~\\mathrm{mm}\\times7.2~\\mathrm{mm} \\\\\n",
    "       &= 1521~\\mathrm{mm}^2\\\\\n",
    "   A_{gv} &= 1\\times(60~\\mathrm{mm}+90~\\mathrm{mm})\\times 7.2~\\mathrm{mm} \\\\\n",
    "          &= 1080~\\mathrm{mm}^2\\\\\n",
    "   U_t &= 0.6\\\\\n",
    "   T_r &= 0.75\\times\\left[0.6\\times1521~\\mathrm{mm}^2\\times0.450~\\mathrm{KN/mm}^2 \\\\\n",
    "          + 0.6\\times1080~\\mathrm{mm}^2\\times0.375~\\mathrm{KN/mm}^2\\right] \\\\\n",
    "       &= 490~\\mathrm{kN}~~~~~~~~~~~~~~~~~~~~~~\\leftarrow\\mathbf{governs}\\\\\n",
    "\\end{align}\n",
    "$$\n",
    "\n",
    "I think $U_t = 0.6$ is too conservative.  It is not reasonable that the strength of this failure path is so much less than net section fracture (case II above).  Compared to that, this case loses $1947/2 = 974mm^2$ in tension area but gains $1080mm^2$ in shear area."
   ]
  },
  {
   "cell_type": "markdown",
   "metadata": {},
   "source": [
    "#### III-4) Path 4-4:\n",
    "\n",
    "![Figure](bs-case-4.svg)\n",
    "\n",
    "$$\n",
    "\\begin{align}\n",
    "   A_n &= 0\\\\\n",
    "   A_{gv} &= 4\\times(60~\\mathrm{mm}+90~\\mathrm{mm})\\times 7.2~\\mathrm{mm} \\\\\n",
    "          &= 4320~\\mathrm{mm}^2\\\\\n",
    "   U_t &= n.a.\\\\\n",
    "   T_r &= 0.75\\times\\left[ 0.6\\times4320~\\mathrm{mm}^2\\times0.375~\\mathrm{KN/mm}^2\\right] \\\\\n",
    "       &= 729~\\mathrm{kN}\\\\\n",
    "\\end{align}\n",
    "$$"
   ]
  },
  {
   "cell_type": "markdown",
   "metadata": {},
   "source": [
    "### Summary\n",
    "\n",
    "For 2 channels:\n",
    "\n",
    "$$\n",
    "\\begin{align}\n",
    "   T_r &= 2 \\times 490~\\mathrm{kN} = 980~\\mathrm{kN}~~~~~~~~~~\\leftarrow\\mathbf{Ans.}\\\\\n",
    "\\end{align}\n",
    "$$"
   ]
  },
  {
   "cell_type": "code",
   "execution_count": null,
   "metadata": {},
   "outputs": [],
   "source": []
  }
 ],
 "metadata": {
  "kernelspec": {
   "display_name": "Python 3",
   "language": "python",
   "name": "python3"
  },
  "language_info": {
   "codemirror_mode": {
    "name": "ipython",
    "version": 3
   },
   "file_extension": ".py",
   "mimetype": "text/x-python",
   "name": "python",
   "nbconvert_exporter": "python",
   "pygments_lexer": "ipython3",
   "version": "3.6.8"
  }
 },
 "nbformat": 4,
 "nbformat_minor": 2
}
