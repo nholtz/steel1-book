{
 "cells": [
  {
   "cell_type": "markdown",
   "metadata": {},
   "source": [
    "## Example T-8: Block Shear in Flat Plate\n",
    "\n",
    "This example is similar to one done in class, January 23, 2020.  Only the dimensions are different.\n",
    "\n",
    "Compute the factored tension resistance, $T_r$, of the flat plate tension member shown in the figure.\n",
    "Assume CSA G40.21 350W steel and M20 bolts in punched holes.\n",
    "For this excercise, consider only block shear.\n",
    "\n",
    "![Figure](block-shear-1.svg)\n",
    "\n",
    "For all of the following failure modes, we will use the relationship from\n",
    "Clause 13.11 of S16-14:\n"
   ]
  },
  {
   "cell_type": "markdown",
   "metadata": {},
   "source": [
    "$$\n",
    "\\begin{align}\n",
    "   T_r &= \\phi_u \\left[ U_t A_n F_u + 0.6 A_{gv} \\frac{(F_y + F_u)}{2} \\right]\\\\\n",
    "   \\phi_u &= 0.75\\\\\n",
    "   F_y &= 350\\ \\mathrm{MPa}\\\\\n",
    "   F_u &= 450\\ \\mathrm{MPa}\\\\\n",
    "   \\frac{(F_y + F_u)}{2} &= \\frac{(350 + 450)}{2}\\ \\mathrm{MPa} \\\\\n",
    "       &= 400\\ \\mathrm{MPa}\\\\\n",
    "   d &= (20 + 2 + 2)\\ \\mathrm{mm} = 24\\ \\mathrm{mm}\\ \\ \\ \\ \\mathrm{\\ \\ \\ (hole\\ allowance)}\\\\\n",
    "\\end{align}\n",
    "$$"
   ]
  },
  {
   "cell_type": "markdown",
   "metadata": {},
   "source": [
    "### Failure Path 1-1\n",
    "\n",
    "![Figure](block-shear-1-1.svg)\n",
    "\n",
    "For failure path 1-1. above, we have:\n",
    "\n",
    "$$\n",
    "\\begin{align}\n",
    "   A_n &= (75 - 12 - 12)\\ \\mathrm{mm} \\times 10\\ \\mathrm{mm} \\\\\n",
    "       &= 510\\ \\mathrm{mm}^2\\\\\n",
    "   A_{gv} &= (40 + 75)\\ \\mathrm{mm} \\times 10\\ \\mathrm{mm} \\times 2 \\\\\n",
    "       &= 2300\\ \\mathrm{mm}^2\\\\\n",
    "   U_t &= 1.0 \\ \\ \\ \\ \\mathrm{(symmetric\\ and\\ concentric)}\\\\\n",
    "   T_r &= 0.75 \\left[1.0 \\times 510\\ \\mathrm{mm}^2 \\times 0.45 \\frac{\\mathrm{kN}}{\\mathrm{mm}^2} \\\\\n",
    "         + 0.6\\times 2300\\ \\mathrm{mm}^2\\times 0.40 \\frac{\\mathrm{kN}}{\\mathrm{mm}^2}\\right]\\\\\n",
    "   T_r &= 586\\ \\mathrm{kN}\\\\\n",
    "\\end{align}\n",
    "$$"
   ]
  },
  {
   "cell_type": "markdown",
   "metadata": {},
   "source": [
    "### Failure Path 2-2\n",
    "\n",
    "![Figure](block-shear-1-2.svg)\n",
    "\n",
    "For failure path 2-2, above, we have:\n",
    "\n",
    "$$\n",
    "\\begin{align}\n",
    "   A_n &= (75 + 30 - 24 -12)\\ \\mathrm{mm} \\times 10\\ \\mathrm{mm} \\\\\n",
    "       &= 690\\ \\mathrm{mm}^2\\\\\n",
    "   A_{gv} &= (40 + 75)\\ \\mathrm{mm} \\times 10\\ \\mathrm{mm} \\\\\n",
    "       &= 1150\\ \\mathrm{mm}^2\\\\\n",
    "   U_t &= 0.8\\\\\n",
    "   T_r &= 0.75 \\left[0.8 \\times 690\\ \\mathrm{mm}^2 \\times 0.45 \\frac{\\mathrm{kN}}{\\mathrm{mm}^2} \\\\\n",
    "          + 0.6\\times 1150\\ \\mathrm{mm}^2\\times 0.40 \\frac{\\mathrm{kN}}{\\mathrm{mm}^2}\\right]\\\\\n",
    "   T_r &= 393\\ \\mathrm{kN}\\ \\ \\ \\ \\ \\ \\ \\ \\ \\ \\ \\ \\leftarrow \\mathbf{governs}\\\\\n",
    "\\end{align}\n",
    "$$\n",
    "\n",
    "Note: using a value of 0.8 for $U_t$ is a judgement call.  The exact case isn't in \n",
    "Figure 2-24.  Case 3 is similar, but the eccentricity of load here is less than it is for\n",
    "case 3, so we should use a value greater than 0.6.  Our case is slightly more eccentric\n",
    "than case 8, so we should use a value slightly less than 0.9."
   ]
  },
  {
   "cell_type": "markdown",
   "metadata": {},
   "source": [
    "### Failure Path 3-3\n",
    "\n",
    "![Figure](block-shear-1-3.svg)\n",
    "\n",
    "For failure path 3-3, above, we have:\n",
    "\n",
    "$$\n",
    "\\begin{align}\n",
    "   A_n &= 2 \\times (30-12)\\ \\mathrm{mm} \\times 10\\ \\mathrm{mm} \\\\\n",
    "       &= 360\\ \\mathrm{mm}^2\\\\\n",
    "   A_{gv} &= (40 + 75)\\ \\mathrm{mm} \\times 10\\ \\mathrm{mm} \\times 2 \\\\\n",
    "       &= 2300\\ \\mathrm{mm}^2\\\\\n",
    "   U_t &= 0.9 \\mathrm{\\ \\ \\ (case\\ 8\\ in\\ Figure\\ 2-24)}\\\\\n",
    "   T_r &= 0.75 \\left[0.9 \\times 360\\ \\mathrm{mm}^2 \\times 0.45 \\frac{\\mathrm{kN}}{\\mathrm{mm}^2} \\\\\n",
    "          + 0.6\\times 2300\\ \\mathrm{mm}^2\\times 0.40 \\frac{\\mathrm{kN}}{\\mathrm{mm}^2}\\right]\\\\\n",
    "   T_r &= 523\\ \\mathrm{kN}\\\\\n",
    "\\end{align}\n",
    "$$"
   ]
  },
  {
   "cell_type": "markdown",
   "metadata": {},
   "source": [
    "### Failure Path 4-4 (tearout)\n",
    "\n",
    "![Figure](block-shear-1-4.svg)\n",
    "\n",
    "Failure path 4-4 above is called *tearout*.  We have:\n",
    "\n",
    "$$\n",
    "\\begin{align}\n",
    "   A_n &= 0\\\\\n",
    "   A_{gv} &= (40 + 75)\\ \\mathrm{mm} \\times 10\\ \\mathrm{mm} \\times 4 \\\\\n",
    "       &= 4600\\ \\mathrm{mm}^2\\\\\n",
    "   U_t &= n.a.\\\\\n",
    "   T_r &= 0.75 \\left[U_t \\times 0\\ \\mathrm{mm}^2 \\times 0.45 \\frac{\\mathrm{kN}}{\\mathrm{mm}^2} \\\\\n",
    "         + 0.6\\times 4600\\ \\mathrm{mm}^2\\times 0.40 \\frac{\\mathrm{kN}}{\\mathrm{mm}^2}\\right]\\\\\n",
    "   T_r &= 828\\ \\mathrm{kN}\\\\\n",
    "\\end{align}\n",
    "$$\n",
    "\n"
   ]
  },
  {
   "cell_type": "markdown",
   "metadata": {},
   "source": [
    "### Summary\n",
    "\n",
    "Path 2-2 governs, and\n",
    "\n",
    "$$\n",
    "\\begin{align}\n",
    "   T_r &= 393\\ \\mathrm{kN}\\ \\ \\ \\ \\ \\ \\ \\ \\ \\ \\ \\ \\ \\leftarrow \\mathbf{Ans.}\\\\\n",
    "\\end{align}\n",
    "$$"
   ]
  },
  {
   "cell_type": "code",
   "execution_count": null,
   "metadata": {},
   "outputs": [],
   "source": []
  }
 ],
 "metadata": {
  "kernelspec": {
   "display_name": "Python 3",
   "language": "python",
   "name": "python3"
  },
  "language_info": {
   "codemirror_mode": {
    "name": "ipython",
    "version": 3
   },
   "file_extension": ".py",
   "mimetype": "text/x-python",
   "name": "python",
   "nbconvert_exporter": "python",
   "pygments_lexer": "ipython3",
   "version": "3.6.8"
  }
 },
 "nbformat": 4,
 "nbformat_minor": 2
}
