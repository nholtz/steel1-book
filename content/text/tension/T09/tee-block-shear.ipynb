{
 "cells": [
  {
   "cell_type": "markdown",
   "metadata": {},
   "source": [
    "# T09: Block Shear Patterns in Flange-Connected Tee sections."
   ]
  },
  {
   "cell_type": "markdown",
   "metadata": {},
   "source": [
    "The following figure shows block-shear failure patterns when only the flange\n",
    "of a structural tee is connected via bolts.  In each case in this figure, the shaded volume shows\n",
    "the portion of the cross-section that will remain in place, held by the bolts, while\n",
    "the remainder of the tee tears away under action of the tension force.  Surfaces that are parallel to the direction of the load fail in shear, those that are perpendicular fail in tension."
   ]
  },
  {
   "cell_type": "markdown",
   "metadata": {},
   "source": [
    "![Failure Cases](tee-block-shear.svg)"
   ]
  },
  {
   "cell_type": "markdown",
   "metadata": {},
   "source": [
    "The following HTML pages show 3-D models for each of the above cases.  You may download these, then interact with\n",
    "the displayed image to see other views of the tee and the possible failure patterns.  In the 3-D models, shear failure\n",
    "surfaces are coloured blue and tension failure surfaces are coloured yellow/orange/light brown."
   ]
  },
  {
   "cell_type": "markdown",
   "metadata": {},
   "source": [
    "<UL>\n",
    "<li> <a target=\"_blank\" href=\"3D/tee-block-shear-case-1.html\"><b>Case 1</b></a>\n",
    "<li> <a target=\"_blank\" href=\"3D/tee-block-shear-case-2.html\"><b>Case 2</b></a>\n",
    "<li> <a target=\"_blank\" href=\"3D/tee-block-shear-case-3.html\"><b>Case 3</b></a>\n",
    "<li> <a target=\"_blank\" href=\"3D/tee-block-shear-case-4.html\"><b>Case 4</b></a>\n",
    "<li> <a target=\"_blank\" href=\"3D/tee-block-shear-case-5.html\"><b>Case 5</b></a>\n",
    "<li> <a target=\"_blank\" href=\"3D/0068-0360.mkv\"><b>Case 5 Animated</b></a>\n",
    "<li> <a target=\"_blank\" href=\"3D/tee-block-shear-case-6.html\"><b>Case 6</b></a>\n",
    "<li> <a target=\"_blank\" href=\"3D/tee-block-shear-case-7.html\"><b>Case 7</b></a>    \n",
    "</UL>"
   ]
  },
  {
   "cell_type": "markdown",
   "metadata": {},
   "source": [
    "## Computing Areas\n",
    "The figure below show the dimensions and nomenclature that will be used in the\n",
    "determination of the tension and shear areas for each of the cases.\n",
    "\n",
    "![Figure](tee-dimens.svg)"
   ]
  },
  {
   "cell_type": "markdown",
   "metadata": {},
   "source": [
    "### Case 1\n",
    "\n",
    "Two shear failure areas through the flange, and two tension failures\n",
    "extending from the outside of the bolt holes to the flange tips.\n",
    "\n",
    "$$\n",
    "\\begin{align}\n",
    "A_n &= t (b - (g + 2\\frac{h_d}{2})) \\\\\n",
    "    &= t (b - g - h_d)\\\\\n",
    "A_{gv} &= 2 (e+s) t\\\\\n",
    "U_t &= 0.9\\\\\n",
    "\\end{align}\n",
    "$$"
   ]
  },
  {
   "cell_type": "markdown",
   "metadata": {},
   "source": [
    "### Case 2\n",
    "\n",
    "A shear failure area at the root of the web fillet and a tension failure area\n",
    "extending the width of the flange through two bolt holes.\n",
    "\n",
    "$$\n",
    "\\begin{align}\n",
    "A_n &= A - (d-k) w - 2 h_d t\\\\\n",
    "A_{gv} &= (e+s) w\\\\\n",
    "U_t &= 1.0\\\\\n",
    "\\end{align}\n",
    "$$\n",
    "\n",
    "The tension area is calculated by deducting the stem area below the fillet from the total cross-sectional area (then subtracting the effect of the holes).  That way we \n",
    "can properly included the effect of the stem-to-flange fillet."
   ]
  },
  {
   "cell_type": "markdown",
   "metadata": {},
   "source": [
    "### Case 3\n",
    "\n",
    "Shear failure areas at the root of the flange-to-stem fillet, and through the flanges,  and a tension failure\n",
    "area between the bolt holes.\n",
    "\n",
    "$$\n",
    "\\begin{align}\n",
    "A_n &= A - (d-k)w - (b-g)t - h_d t\\\\\n",
    "A_{gv} &= (e+s)w + 2(e+s)t\\\\\n",
    "U_t &= 1.0\\\\\n",
    "\\end{align}\n",
    "$$"
   ]
  },
  {
   "cell_type": "markdown",
   "metadata": {},
   "source": [
    "### Case 4\n",
    "\n",
    "Two shear failure areas through the flange, and a tension failure are between the bolts and extending downwards through the stem.\n",
    "\n",
    "$$\n",
    "\\begin{align}\n",
    "A_n &= A - (b-g) t - h_d t\\\\\n",
    "A_{gv} &= 2(e+s)t\\\\\n",
    "U_t &= 0.6\\\\\n",
    "\\end{align}\n",
    "$$"
   ]
  },
  {
   "cell_type": "markdown",
   "metadata": {},
   "source": [
    "### Case 5\n",
    "\n",
    "One shear failure through flange, one through the stem at the root of the fillet, and\n",
    "a tension failure area extending from one bolt hole to the flange tip on the opposite side of the stem.\n",
    "\n",
    "$$\n",
    "\\begin{align}\n",
    "A_n &= A - (d-k)w - \\left(\\frac{b}{2}-\\frac{g}{2}\\right) t - 1.5 h_d t\\\\\n",
    "A_{gv} &= (e+s)w + (e+s)t\\\\\n",
    "U_t &= 0.6\\\\\n",
    "\\end{align}\n",
    "$$"
   ]
  },
  {
   "cell_type": "markdown",
   "metadata": {},
   "source": [
    "### Case 6\n",
    "\n",
    "One shear failure through flange, and\n",
    "a tension failure area extending from one bolt hole to the flange tip on the opposite side of the stem and through the depth of the stem.\n",
    "\n",
    "$$\n",
    "\\begin{align}\n",
    "A_n &= A - \\left(\\frac{b}{2}-\\frac{g}{2}\\right)t - 1.5 h_d t\\\\\n",
    "A_{gv} &= (e+s)t\\\\\n",
    "U_t &= 0.6\\\\\n",
    "\\end{align}\n",
    "$$"
   ]
  },
  {
   "cell_type": "markdown",
   "metadata": {},
   "source": [
    "### Case 7\n",
    "\n",
    "Commonly called 'tearout'.  Four shear surface areas, at the sides of each bolt line.  No tension surface areas.\n",
    "\n",
    "$$\n",
    "\\begin{align}\n",
    "A_n &= 0\\\\\n",
    "A_{gv} &= 4(e+s)t\\\\\n",
    "U_t &=  n.a.\\\\\n",
    "\\end{align}\n",
    "$$"
   ]
  },
  {
   "cell_type": "markdown",
   "metadata": {},
   "source": [
    "## Cross-sections Showing Tension Area\n",
    "The following figure shoes cross-sections that illustrate the area in tension, $A_{nt}$,  for each of the above\n",
    "cases (except for Case 7 in which $A_{nt} = 0$).  The illustration is for two lines of bolts in each flange, but it can be used for the above cases that consider only 1 line per flange.  Simply ignore one of the lines in each case and remember that $g = G$:\n",
    "\n",
    "![Figure](tee-An-details.svg)"
   ]
  },
  {
   "cell_type": "code",
   "execution_count": null,
   "metadata": {},
   "outputs": [],
   "source": []
  }
 ],
 "metadata": {
  "kernelspec": {
   "display_name": "Python 3",
   "language": "python",
   "name": "python3"
  },
  "language_info": {
   "codemirror_mode": {
    "name": "ipython",
    "version": 3
   },
   "file_extension": ".py",
   "mimetype": "text/x-python",
   "name": "python",
   "nbconvert_exporter": "python",
   "pygments_lexer": "ipython3",
   "version": "3.6.8"
  }
 },
 "nbformat": 4,
 "nbformat_minor": 2
}
